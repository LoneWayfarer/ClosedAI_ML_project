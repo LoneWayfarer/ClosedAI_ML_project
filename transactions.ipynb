{
 "cells": [
  {
   "cell_type": "markdown",
   "id": "9973e73b",
   "metadata": {},
   "source": [
    "# Learning"
   ]
  },
  {
   "cell_type": "code",
   "execution_count": 1,
   "id": "afed273e",
   "metadata": {
    "execution": {
     "iopub.execute_input": "2023-03-17T12:55:58.458226Z",
     "iopub.status.busy": "2023-03-17T12:55:58.457653Z",
     "iopub.status.idle": "2023-03-17T12:55:58.498260Z",
     "shell.execute_reply": "2023-03-17T12:55:58.496432Z",
     "shell.execute_reply.started": "2023-03-17T12:55:58.458176Z"
    }
   },
   "outputs": [],
   "source": [
    "import pandas as pd\n",
    "import numpy as np"
   ]
  },
  {
   "cell_type": "code",
   "execution_count": 6,
   "id": "a87f2d0c",
   "metadata": {
    "execution": {
     "iopub.execute_input": "2023-03-17T12:58:28.322790Z",
     "iopub.status.busy": "2023-03-17T12:58:28.322387Z",
     "iopub.status.idle": "2023-03-17T12:58:29.345459Z",
     "shell.execute_reply": "2023-03-17T12:58:29.344402Z",
     "shell.execute_reply.started": "2023-03-17T12:58:28.322754Z"
    }
   },
   "outputs": [],
   "source": [
    "test_df = pd.read_csv('../input/ml-project/test_df.csv')\n",
    "train_df = pd.read_csv('../input/ml-project/train_df.csv')"
   ]
  },
  {
   "cell_type": "code",
   "execution_count": 30,
   "id": "c674cf6b",
   "metadata": {
    "execution": {
     "iopub.execute_input": "2023-03-17T13:58:57.299236Z",
     "iopub.status.busy": "2023-03-17T13:58:57.298516Z",
     "iopub.status.idle": "2023-03-17T13:58:57.315423Z",
     "shell.execute_reply": "2023-03-17T13:58:57.314249Z",
     "shell.execute_reply.started": "2023-03-17T13:58:57.299199Z"
    },
    "id": "e0f9f3b6"
   },
   "outputs": [],
   "source": [
    "from sklearn.ensemble import RandomForestClassifier\n",
    "\n",
    "embed_columns = [x for x in train_df.columns if x.startswith('embed')]\n",
    "x_train, y_train = train_df[embed_columns], train_df['higher_education']\n",
    "x_test, y_test = test_df[embed_columns], test_df['higher_education']\n",
    "\n"
   ]
  },
  {
   "cell_type": "code",
   "execution_count": null,
   "id": "f9a94cd5",
   "metadata": {},
   "outputs": [],
   "source": [
    "from sklearn.metrics import roc_auc_score, precision_score, accuracy_score, recall_score, f1_score, roc_auc_score\n",
    "from sklearn.model_selection import GridSearchCV"
   ]
  },
  {
   "cell_type": "code",
   "execution_count": 46,
   "id": "c8025432",
   "metadata": {
    "execution": {
     "iopub.execute_input": "2023-03-17T14:08:45.403089Z",
     "iopub.status.busy": "2023-03-17T14:08:45.402128Z",
     "iopub.status.idle": "2023-03-17T14:08:55.765016Z",
     "shell.execute_reply": "2023-03-17T14:08:55.763764Z",
     "shell.execute_reply.started": "2023-03-17T14:08:45.403051Z"
    }
   },
   "outputs": [
    {
     "name": "stdout",
     "output_type": "stream",
     "text": [
      "accuracy: 0.772591262716936 \n",
      "      f1: 0.8579970104633783, \n",
      "      precision: 0.9258064516129032\n"
     ]
    }
   ],
   "source": [
    "clf = RandomForestClassifier()\n",
    "clf.fit(x_train, y_train)\n",
    "y_proba= clf.predict_proba(x_test)\n",
    "y_pred = clf.predict(x_test)\n",
    "print(f'''accuracy: {clf.score(x_test, y_test)} \n",
    "      f1: {f1_score(y_pred, y_test)}, \n",
    "      precision: {precision_score(y_pred, y_test)}''')"
   ]
  },
  {
   "cell_type": "code",
   "execution_count": 49,
   "id": "66ed2c51",
   "metadata": {
    "execution": {
     "iopub.execute_input": "2023-03-17T14:10:09.816948Z",
     "iopub.status.busy": "2023-03-17T14:10:09.815953Z",
     "iopub.status.idle": "2023-03-17T14:10:09.821851Z",
     "shell.execute_reply": "2023-03-17T14:10:09.820623Z",
     "shell.execute_reply.started": "2023-03-17T14:10:09.816909Z"
    }
   },
   "outputs": [],
   "source": [
    "#did not get good results with these params\n",
    "# params = {'n_estimators':[40, 70, 100, 150],\n",
    "#          'max_depth':[ 3, 5, 7],\n",
    "#          'max_features':[20, 40, 60, 80]}\n",
    "# clf = RandomForestClassifier()\n",
    "# gs = GridSearchCV(clf, params, scoring = 'f1', cv = 3, verbose = 3, n_jobs =-1)\n",
    "# gs.fit(x_train, y_train)"
   ]
  },
  {
   "cell_type": "markdown",
   "id": "014ac796",
   "metadata": {},
   "source": [
    "# With CatBoost embedding_features"
   ]
  },
  {
   "cell_type": "code",
   "execution_count": 16,
   "id": "ae187978",
   "metadata": {
    "execution": {
     "iopub.execute_input": "2023-03-17T13:40:01.175330Z",
     "iopub.status.busy": "2023-03-17T13:40:01.174314Z",
     "iopub.status.idle": "2023-03-17T13:40:01.588965Z",
     "shell.execute_reply": "2023-03-17T13:40:01.587799Z",
     "shell.execute_reply.started": "2023-03-17T13:40:01.175278Z"
    }
   },
   "outputs": [],
   "source": [
    "from catboost import CatBoostClassifier, metrics"
   ]
  },
  {
   "cell_type": "code",
   "execution_count": 50,
   "id": "67e6fe9e",
   "metadata": {
    "execution": {
     "iopub.execute_input": "2023-03-17T14:10:21.736028Z",
     "iopub.status.busy": "2023-03-17T14:10:21.735293Z",
     "iopub.status.idle": "2023-03-17T14:10:21.742027Z",
     "shell.execute_reply": "2023-03-17T14:10:21.740747Z",
     "shell.execute_reply.started": "2023-03-17T14:10:21.735989Z"
    }
   },
   "outputs": [],
   "source": [
    "CatBoostModel_emb = CatBoostClassifier(\n",
    "iterations= 500,\n",
    "learning_rate = 0.05,\n",
    "use_best_model = True,\n",
    "eval_metric ='F1', \n",
    "#loss_function='Logloss',\n",
    "random_seed = 42,\n",
    "logging_level = 'Silent',\n",
    "embedding_features = ['embeddings'],\n",
    "depth = 5)"
   ]
  },
  {
   "cell_type": "code",
   "execution_count": 51,
   "id": "683a65be",
   "metadata": {
    "execution": {
     "iopub.execute_input": "2023-03-17T14:10:22.136273Z",
     "iopub.status.busy": "2023-03-17T14:10:22.135738Z",
     "iopub.status.idle": "2023-03-17T14:10:22.349340Z",
     "shell.execute_reply": "2023-03-17T14:10:22.348168Z",
     "shell.execute_reply.started": "2023-03-17T14:10:22.136236Z"
    }
   },
   "outputs": [],
   "source": [
    "x_train, y_train = train_df[embed_columns], train_df['higher_education']\n",
    "x_train_emb = pd.DataFrame(np.arange(len(x_train)))\n",
    "x_train_emb['embeddings'] = x_train.values.tolist()\n",
    "x_train_emb = x_train_emb.drop([0], axis = 1)\n",
    "x_val, y_val = test_df[embed_columns], test_df['higher_education']\n",
    "x_val_emb = pd.DataFrame(np.arange(len(x_val)))\n",
    "x_val_emb['embeddings'] = x_val.values.tolist()\n",
    "x_val_emb = x_val_emb.drop([0], axis = 1)"
   ]
  },
  {
   "cell_type": "code",
   "execution_count": 52,
   "id": "fdbcd59f",
   "metadata": {
    "execution": {
     "iopub.execute_input": "2023-03-17T14:10:24.678182Z",
     "iopub.status.busy": "2023-03-17T14:10:24.677265Z",
     "iopub.status.idle": "2023-03-17T14:10:34.546962Z",
     "shell.execute_reply": "2023-03-17T14:10:34.545943Z",
     "shell.execute_reply.started": "2023-03-17T14:10:24.678131Z"
    }
   },
   "outputs": [
    {
     "data": {
      "application/vnd.jupyter.widget-view+json": {
       "model_id": "2741fde1462c468f9d6dd97631cf7974",
       "version_major": 2,
       "version_minor": 0
      },
      "text/plain": [
       "MetricVisualizer(layout=Layout(align_self='stretch', height='500px'))"
      ]
     },
     "metadata": {},
     "output_type": "display_data"
    },
    {
     "name": "stdout",
     "output_type": "stream",
     "text": [
      "CPU times: user 10.6 s, sys: 400 ms, total: 11 s\n",
      "Wall time: 9.86 s\n"
     ]
    },
    {
     "data": {
      "text/plain": [
       "<catboost.core.CatBoostClassifier at 0x7f1d4e26f3d0>"
      ]
     },
     "execution_count": 52,
     "metadata": {},
     "output_type": "execute_result"
    }
   ],
   "source": [
    "%%time\n",
    "\n",
    "CatBoostModel_emb.fit(\n",
    "    x_train_emb, y_train,\n",
    "    eval_set=(x_val_emb, y_val),\n",
    "    plot=True\n",
    "#     logging_level='Verbose',  # you can uncomment this for text output\n",
    ")"
   ]
  },
  {
   "cell_type": "code",
   "execution_count": 53,
   "id": "b218fb7e",
   "metadata": {
    "execution": {
     "iopub.execute_input": "2023-03-17T14:10:37.778123Z",
     "iopub.status.busy": "2023-03-17T14:10:37.777370Z",
     "iopub.status.idle": "2023-03-17T14:10:37.785099Z",
     "shell.execute_reply": "2023-03-17T14:10:37.784034Z",
     "shell.execute_reply.started": "2023-03-17T14:10:37.778085Z"
    }
   },
   "outputs": [
    {
     "data": {
      "text/plain": [
       "{'learn': {'Logloss': 0.5067433210222069, 'F1': 0.8451495920217589},\n",
       " 'validation': {'Logloss': 0.5054655069813566, 'F1': 0.8585537918871252}}"
      ]
     },
     "execution_count": 53,
     "metadata": {},
     "output_type": "execute_result"
    }
   ],
   "source": [
    "CatBoostModel_emb.get_best_score()"
   ]
  },
  {
   "cell_type": "markdown",
   "id": "a1c469c2",
   "metadata": {},
   "source": [
    "# But without embedding_features seems to achieve better results "
   ]
  },
  {
   "cell_type": "code",
   "execution_count": 57,
   "id": "d9920a30",
   "metadata": {
    "execution": {
     "iopub.execute_input": "2023-03-17T14:18:07.390529Z",
     "iopub.status.busy": "2023-03-17T14:18:07.390155Z",
     "iopub.status.idle": "2023-03-17T14:18:07.407031Z",
     "shell.execute_reply": "2023-03-17T14:18:07.405980Z",
     "shell.execute_reply.started": "2023-03-17T14:18:07.390495Z"
    }
   },
   "outputs": [],
   "source": [
    "x_train, y_train = train_df[embed_columns], train_df['higher_education']\n",
    "x_test, y_test = test_df[embed_columns], test_df['higher_education']"
   ]
  },
  {
   "cell_type": "code",
   "execution_count": 58,
   "id": "edcd3a97",
   "metadata": {
    "execution": {
     "iopub.execute_input": "2023-03-17T14:18:07.775987Z",
     "iopub.status.busy": "2023-03-17T14:18:07.775333Z",
     "iopub.status.idle": "2023-03-17T14:18:07.781453Z",
     "shell.execute_reply": "2023-03-17T14:18:07.780131Z",
     "shell.execute_reply.started": "2023-03-17T14:18:07.775951Z"
    }
   },
   "outputs": [],
   "source": [
    "CatBoostModel = CatBoostClassifier(\n",
    "iterations= 500,\n",
    "learning_rate = 0.05,\n",
    "use_best_model = True,\n",
    "eval_metric ='F1', \n",
    "loss_function='Logloss',\n",
    "random_seed = 42,\n",
    "logging_level = 'Silent',\n",
    "depth = 5)"
   ]
  },
  {
   "cell_type": "code",
   "execution_count": 59,
   "id": "aa9872b0",
   "metadata": {
    "execution": {
     "iopub.execute_input": "2023-03-17T14:18:08.363140Z",
     "iopub.status.busy": "2023-03-17T14:18:08.362184Z",
     "iopub.status.idle": "2023-03-17T14:18:28.729125Z",
     "shell.execute_reply": "2023-03-17T14:18:28.728052Z",
     "shell.execute_reply.started": "2023-03-17T14:18:08.363091Z"
    }
   },
   "outputs": [
    {
     "data": {
      "application/vnd.jupyter.widget-view+json": {
       "model_id": "d50a7febef014e359a0f42c2d8338187",
       "version_major": 2,
       "version_minor": 0
      },
      "text/plain": [
       "MetricVisualizer(layout=Layout(align_self='stretch', height='500px'))"
      ]
     },
     "metadata": {},
     "output_type": "display_data"
    },
    {
     "data": {
      "text/plain": [
       "<catboost.core.CatBoostClassifier at 0x7f1d4e266450>"
      ]
     },
     "execution_count": 59,
     "metadata": {},
     "output_type": "execute_result"
    }
   ],
   "source": [
    "CatBoostModel.fit(\n",
    "    x_train, y_train,\n",
    "    eval_set=(x_test, y_test),\n",
    "    plot=True\n",
    "#     logging_level='Verbose',  # you can uncomment this for text output\n",
    ")"
   ]
  },
  {
   "cell_type": "code",
   "execution_count": 36,
   "id": "1b235fe2",
   "metadata": {
    "execution": {
     "iopub.execute_input": "2023-03-17T14:01:13.101634Z",
     "iopub.status.busy": "2023-03-17T14:01:13.101151Z",
     "iopub.status.idle": "2023-03-17T14:01:13.112355Z",
     "shell.execute_reply": "2023-03-17T14:01:13.111243Z",
     "shell.execute_reply.started": "2023-03-17T14:01:13.101593Z"
    }
   },
   "outputs": [
    {
     "data": {
      "text/plain": [
       "{'learn': {'Logloss': 0.3017351258348865, 'F1': 0.9396128286622365},\n",
       " 'validation': {'Logloss': 0.4799109609095098, 'F1': 0.8614828209764918}}"
      ]
     },
     "execution_count": 36,
     "metadata": {},
     "output_type": "execute_result"
    }
   ],
   "source": [
    "CatBoostModel.get_best_score()"
   ]
  },
  {
   "cell_type": "code",
   "execution_count": 60,
   "id": "1001b18e",
   "metadata": {
    "execution": {
     "iopub.execute_input": "2023-03-17T14:18:29.524582Z",
     "iopub.status.busy": "2023-03-17T14:18:29.524205Z",
     "iopub.status.idle": "2023-03-17T14:18:29.545266Z",
     "shell.execute_reply": "2023-03-17T14:18:29.544204Z",
     "shell.execute_reply.started": "2023-03-17T14:18:29.524548Z"
    }
   },
   "outputs": [],
   "source": [
    "y_pred = CatBoostModel.predict(x_test)\n",
    "y_proba = CatBoostModel.predict_proba(x_test)"
   ]
  },
  {
   "cell_type": "code",
   "execution_count": 70,
   "id": "c17307db",
   "metadata": {
    "execution": {
     "iopub.execute_input": "2023-03-17T14:20:30.239152Z",
     "iopub.status.busy": "2023-03-17T14:20:30.238450Z",
     "iopub.status.idle": "2023-03-17T14:20:30.261673Z",
     "shell.execute_reply": "2023-03-17T14:20:30.260723Z",
     "shell.execute_reply.started": "2023-03-17T14:20:30.239115Z"
    }
   },
   "outputs": [
    {
     "name": "stdout",
     "output_type": "stream",
     "text": [
      "accuracy: 0.7707959305804907 \n",
      "      f1: 0.8614828209764918, \n",
      "      precision: 0.9604838709677419\n",
      "     roc auc : 0.7583208592171244\n"
     ]
    }
   ],
   "source": [
    "print(f'''accuracy: {CatBoostModel.score(x_test, y_test)} \n",
    "      f1: {f1_score(y_pred, y_test)}, \n",
    "      precision: {precision_score(y_pred, y_test)}\n",
    "     roc auc : {roc_auc_score(y_test, y_proba[:,1])}''')"
   ]
  },
  {
   "cell_type": "code",
   "execution_count": null,
   "id": "7415990e",
   "metadata": {},
   "outputs": [],
   "source": []
  }
 ],
 "metadata": {
  "colab": {
   "provenance": []
  },
  "kernelspec": {
   "display_name": "Python 3 (ipykernel)",
   "language": "python",
   "name": "python3"
  },
  "language_info": {
   "codemirror_mode": {
    "name": "ipython",
    "version": 3
   },
   "file_extension": ".py",
   "mimetype": "text/x-python",
   "name": "python",
   "nbconvert_exporter": "python",
   "pygments_lexer": "ipython3",
   "version": "3.9.12"
  }
 },
 "nbformat": 4,
 "nbformat_minor": 5
}
