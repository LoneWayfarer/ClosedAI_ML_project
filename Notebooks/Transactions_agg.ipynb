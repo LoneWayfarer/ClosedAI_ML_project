{
  "cells": [
    {
      "cell_type": "code",
      "execution_count": null,
      "metadata": {
        "colab": {
          "base_uri": "https://localhost:8080/"
        },
        "id": "bks6SX9Of4or",
        "outputId": "6269fada-09e5-4c65-f525-521843f6bfd9"
      },
      "outputs": [
        {
          "name": "stdout",
          "output_type": "stream",
          "text": [
            "Looking in indexes: https://pypi.org/simple, https://us-python.pkg.dev/colab-wheels/public/simple/\n",
            "Requirement already satisfied: pytorch-lifestream in /usr/local/lib/python3.9/dist-packages (0.5.2)\n",
            "Requirement already satisfied: pyarrow>=7.0 in /usr/local/lib/python3.9/dist-packages (from pytorch-lifestream) (9.0.0)\n",
            "Requirement already satisfied: transformers==4.* in /usr/local/lib/python3.9/dist-packages (from pytorch-lifestream) (4.27.3)\n",
            "Requirement already satisfied: pytorch-lightning==1.6.* in /usr/local/lib/python3.9/dist-packages (from pytorch-lifestream) (1.6.5)\n",
            "Requirement already satisfied: hydra-core>=1.1.2 in /usr/local/lib/python3.9/dist-packages (from pytorch-lifestream) (1.3.2)\n",
            "Requirement already satisfied: numpy>=1.17.2 in /usr/local/lib/python3.9/dist-packages (from pytorch-lightning==1.6.*->pytorch-lifestream) (1.22.4)\n",
            "Requirement already satisfied: typing-extensions>=4.0.0 in /usr/local/lib/python3.9/dist-packages (from pytorch-lightning==1.6.*->pytorch-lifestream) (4.5.0)\n",
            "Requirement already satisfied: packaging>=17.0 in /usr/local/lib/python3.9/dist-packages (from pytorch-lightning==1.6.*->pytorch-lifestream) (23.0)\n",
            "Requirement already satisfied: protobuf<=3.20.1 in /usr/local/lib/python3.9/dist-packages (from pytorch-lightning==1.6.*->pytorch-lifestream) (3.19.6)\n",
            "Requirement already satisfied: torchmetrics>=0.4.1 in /usr/local/lib/python3.9/dist-packages (from pytorch-lightning==1.6.*->pytorch-lifestream) (0.11.4)\n",
            "Requirement already satisfied: PyYAML>=5.4 in /usr/local/lib/python3.9/dist-packages (from pytorch-lightning==1.6.*->pytorch-lifestream) (6.0)\n",
            "Requirement already satisfied: fsspec[http]!=2021.06.0,>=2021.05.0 in /usr/local/lib/python3.9/dist-packages (from pytorch-lightning==1.6.*->pytorch-lifestream) (2023.3.0)\n",
            "Requirement already satisfied: torch>=1.8.* in /usr/local/lib/python3.9/dist-packages (from pytorch-lightning==1.6.*->pytorch-lifestream) (1.13.1+cu116)\n",
            "Requirement already satisfied: tqdm>=4.57.0 in /usr/local/lib/python3.9/dist-packages (from pytorch-lightning==1.6.*->pytorch-lifestream) (4.65.0)\n",
            "Requirement already satisfied: pyDeprecate>=0.3.1 in /usr/local/lib/python3.9/dist-packages (from pytorch-lightning==1.6.*->pytorch-lifestream) (0.3.2)\n",
            "Requirement already satisfied: tensorboard>=2.2.0 in /usr/local/lib/python3.9/dist-packages (from pytorch-lightning==1.6.*->pytorch-lifestream) (2.11.2)\n",
            "Requirement already satisfied: tokenizers!=0.11.3,<0.14,>=0.11.1 in /usr/local/lib/python3.9/dist-packages (from transformers==4.*->pytorch-lifestream) (0.13.2)\n",
            "Requirement already satisfied: huggingface-hub<1.0,>=0.11.0 in /usr/local/lib/python3.9/dist-packages (from transformers==4.*->pytorch-lifestream) (0.13.3)\n",
            "Requirement already satisfied: regex!=2019.12.17 in /usr/local/lib/python3.9/dist-packages (from transformers==4.*->pytorch-lifestream) (2022.10.31)\n",
            "Requirement already satisfied: filelock in /usr/local/lib/python3.9/dist-packages (from transformers==4.*->pytorch-lifestream) (3.10.1)\n",
            "Requirement already satisfied: requests in /usr/local/lib/python3.9/dist-packages (from transformers==4.*->pytorch-lifestream) (2.27.1)\n",
            "Requirement already satisfied: antlr4-python3-runtime==4.9.* in /usr/local/lib/python3.9/dist-packages (from hydra-core>=1.1.2->pytorch-lifestream) (4.9.3)\n",
            "Requirement already satisfied: omegaconf<2.4,>=2.2 in /usr/local/lib/python3.9/dist-packages (from hydra-core>=1.1.2->pytorch-lifestream) (2.3.0)\n",
            "Requirement already satisfied: aiohttp!=4.0.0a0,!=4.0.0a1 in /usr/local/lib/python3.9/dist-packages (from fsspec[http]!=2021.06.0,>=2021.05.0->pytorch-lightning==1.6.*->pytorch-lifestream) (3.8.4)\n",
            "Requirement already satisfied: google-auth-oauthlib<0.5,>=0.4.1 in /usr/local/lib/python3.9/dist-packages (from tensorboard>=2.2.0->pytorch-lightning==1.6.*->pytorch-lifestream) (0.4.6)\n",
            "Requirement already satisfied: grpcio>=1.24.3 in /usr/local/lib/python3.9/dist-packages (from tensorboard>=2.2.0->pytorch-lightning==1.6.*->pytorch-lifestream) (1.51.3)\n",
            "Requirement already satisfied: setuptools>=41.0.0 in /usr/local/lib/python3.9/dist-packages (from tensorboard>=2.2.0->pytorch-lightning==1.6.*->pytorch-lifestream) (67.6.0)\n",
            "Requirement already satisfied: tensorboard-data-server<0.7.0,>=0.6.0 in /usr/local/lib/python3.9/dist-packages (from tensorboard>=2.2.0->pytorch-lightning==1.6.*->pytorch-lifestream) (0.6.1)\n",
            "Requirement already satisfied: wheel>=0.26 in /usr/local/lib/python3.9/dist-packages (from tensorboard>=2.2.0->pytorch-lightning==1.6.*->pytorch-lifestream) (0.40.0)\n",
            "Requirement already satisfied: werkzeug>=1.0.1 in /usr/local/lib/python3.9/dist-packages (from tensorboard>=2.2.0->pytorch-lightning==1.6.*->pytorch-lifestream) (2.2.3)\n",
            "Requirement already satisfied: absl-py>=0.4 in /usr/local/lib/python3.9/dist-packages (from tensorboard>=2.2.0->pytorch-lightning==1.6.*->pytorch-lifestream) (1.4.0)\n",
            "Requirement already satisfied: tensorboard-plugin-wit>=1.6.0 in /usr/local/lib/python3.9/dist-packages (from tensorboard>=2.2.0->pytorch-lightning==1.6.*->pytorch-lifestream) (1.8.1)\n",
            "Requirement already satisfied: google-auth<3,>=1.6.3 in /usr/local/lib/python3.9/dist-packages (from tensorboard>=2.2.0->pytorch-lightning==1.6.*->pytorch-lifestream) (2.16.2)\n",
            "Requirement already satisfied: markdown>=2.6.8 in /usr/local/lib/python3.9/dist-packages (from tensorboard>=2.2.0->pytorch-lightning==1.6.*->pytorch-lifestream) (3.4.2)\n",
            "Requirement already satisfied: charset-normalizer~=2.0.0 in /usr/local/lib/python3.9/dist-packages (from requests->transformers==4.*->pytorch-lifestream) (2.0.12)\n",
            "Requirement already satisfied: certifi>=2017.4.17 in /usr/local/lib/python3.9/dist-packages (from requests->transformers==4.*->pytorch-lifestream) (2022.12.7)\n",
            "Requirement already satisfied: idna<4,>=2.5 in /usr/local/lib/python3.9/dist-packages (from requests->transformers==4.*->pytorch-lifestream) (3.4)\n",
            "Requirement already satisfied: urllib3<1.27,>=1.21.1 in /usr/local/lib/python3.9/dist-packages (from requests->transformers==4.*->pytorch-lifestream) (1.26.15)\n",
            "Requirement already satisfied: aiosignal>=1.1.2 in /usr/local/lib/python3.9/dist-packages (from aiohttp!=4.0.0a0,!=4.0.0a1->fsspec[http]!=2021.06.0,>=2021.05.0->pytorch-lightning==1.6.*->pytorch-lifestream) (1.3.1)\n",
            "Requirement already satisfied: multidict<7.0,>=4.5 in /usr/local/lib/python3.9/dist-packages (from aiohttp!=4.0.0a0,!=4.0.0a1->fsspec[http]!=2021.06.0,>=2021.05.0->pytorch-lightning==1.6.*->pytorch-lifestream) (6.0.4)\n",
            "Requirement already satisfied: async-timeout<5.0,>=4.0.0a3 in /usr/local/lib/python3.9/dist-packages (from aiohttp!=4.0.0a0,!=4.0.0a1->fsspec[http]!=2021.06.0,>=2021.05.0->pytorch-lightning==1.6.*->pytorch-lifestream) (4.0.2)\n",
            "Requirement already satisfied: attrs>=17.3.0 in /usr/local/lib/python3.9/dist-packages (from aiohttp!=4.0.0a0,!=4.0.0a1->fsspec[http]!=2021.06.0,>=2021.05.0->pytorch-lightning==1.6.*->pytorch-lifestream) (22.2.0)\n",
            "Requirement already satisfied: yarl<2.0,>=1.0 in /usr/local/lib/python3.9/dist-packages (from aiohttp!=4.0.0a0,!=4.0.0a1->fsspec[http]!=2021.06.0,>=2021.05.0->pytorch-lightning==1.6.*->pytorch-lifestream) (1.8.2)\n",
            "Requirement already satisfied: frozenlist>=1.1.1 in /usr/local/lib/python3.9/dist-packages (from aiohttp!=4.0.0a0,!=4.0.0a1->fsspec[http]!=2021.06.0,>=2021.05.0->pytorch-lightning==1.6.*->pytorch-lifestream) (1.3.3)\n",
            "Requirement already satisfied: six>=1.9.0 in /usr/local/lib/python3.9/dist-packages (from google-auth<3,>=1.6.3->tensorboard>=2.2.0->pytorch-lightning==1.6.*->pytorch-lifestream) (1.16.0)\n",
            "Requirement already satisfied: pyasn1-modules>=0.2.1 in /usr/local/lib/python3.9/dist-packages (from google-auth<3,>=1.6.3->tensorboard>=2.2.0->pytorch-lightning==1.6.*->pytorch-lifestream) (0.2.8)\n",
            "Requirement already satisfied: cachetools<6.0,>=2.0.0 in /usr/local/lib/python3.9/dist-packages (from google-auth<3,>=1.6.3->tensorboard>=2.2.0->pytorch-lightning==1.6.*->pytorch-lifestream) (5.3.0)\n",
            "Requirement already satisfied: rsa<5,>=3.1.4 in /usr/local/lib/python3.9/dist-packages (from google-auth<3,>=1.6.3->tensorboard>=2.2.0->pytorch-lightning==1.6.*->pytorch-lifestream) (4.9)\n",
            "Requirement already satisfied: requests-oauthlib>=0.7.0 in /usr/local/lib/python3.9/dist-packages (from google-auth-oauthlib<0.5,>=0.4.1->tensorboard>=2.2.0->pytorch-lightning==1.6.*->pytorch-lifestream) (1.3.1)\n",
            "Requirement already satisfied: importlib-metadata>=4.4 in /usr/local/lib/python3.9/dist-packages (from markdown>=2.6.8->tensorboard>=2.2.0->pytorch-lightning==1.6.*->pytorch-lifestream) (6.1.0)\n",
            "Requirement already satisfied: MarkupSafe>=2.1.1 in /usr/local/lib/python3.9/dist-packages (from werkzeug>=1.0.1->tensorboard>=2.2.0->pytorch-lightning==1.6.*->pytorch-lifestream) (2.1.2)\n",
            "Requirement already satisfied: zipp>=0.5 in /usr/local/lib/python3.9/dist-packages (from importlib-metadata>=4.4->markdown>=2.6.8->tensorboard>=2.2.0->pytorch-lightning==1.6.*->pytorch-lifestream) (3.15.0)\n",
            "Requirement already satisfied: pyasn1<0.5.0,>=0.4.6 in /usr/local/lib/python3.9/dist-packages (from pyasn1-modules>=0.2.1->google-auth<3,>=1.6.3->tensorboard>=2.2.0->pytorch-lightning==1.6.*->pytorch-lifestream) (0.4.8)\n",
            "Requirement already satisfied: oauthlib>=3.0.0 in /usr/local/lib/python3.9/dist-packages (from requests-oauthlib>=0.7.0->google-auth-oauthlib<0.5,>=0.4.1->tensorboard>=2.2.0->pytorch-lightning==1.6.*->pytorch-lifestream) (3.2.2)\n"
          ]
        }
      ],
      "source": [
        "if 'google.colab' in str(get_ipython()):\n",
        "    !pip install pytorch-lifestream"
      ]
    },
    {
      "cell_type": "code",
      "execution_count": null,
      "metadata": {
        "id": "68EzT3NNf-iQ"
      },
      "outputs": [],
      "source": [
        "import os\n",
        "\n",
        "if not os.path.exists('data/transactions.csv'):\n",
        "    ! mkdir -p data\n",
        "    ! curl -OL https://storage.yandexcloud.net/datasouls-ods/materials/0433a4ca/transactions.zip\n",
        "    ! curl -OL https://storage.yandexcloud.net/datasouls-ods/materials/e756bf99/train.csv\n",
        "    ! unzip transactions.zip -d data\n",
        "    ! cp train.csv data"
      ]
    },
    {
      "cell_type": "code",
      "execution_count": null,
      "metadata": {
        "id": "eRKNDaz9Vks8"
      },
      "outputs": [],
      "source": [
        "%load_ext autoreload\n",
        "%autoreload 2\n",
        "\n",
        "# import logging\n",
        "import torch\n",
        "import pytorch_lightning as pl\n",
        "# import warnings\n",
        "\n",
        "# warnings.filterwarnings('ignore')\n",
        "# logging.getLogger(\"pytorch_lightning\").setLevel(logging.ERROR)"
      ]
    },
    {
      "cell_type": "code",
      "execution_count": null,
      "metadata": {
        "colab": {
          "base_uri": "https://localhost:8080/",
          "height": 211
        },
        "id": "HQedDuEFVna4",
        "outputId": "6cad191b-f712-4082-e0cb-04406c29a509"
      },
      "outputs": [
        {
          "data": {
            "text/html": [
              "\n",
              "  <div id=\"df-9d436b04-e577-40c9-a3d7-134dd152ecdc\">\n",
              "    <div class=\"colab-df-container\">\n",
              "      <div>\n",
              "<style scoped>\n",
              "    .dataframe tbody tr th:only-of-type {\n",
              "        vertical-align: middle;\n",
              "    }\n",
              "\n",
              "    .dataframe tbody tr th {\n",
              "        vertical-align: top;\n",
              "    }\n",
              "\n",
              "    .dataframe thead th {\n",
              "        text-align: right;\n",
              "    }\n",
              "</style>\n",
              "<table border=\"1\" class=\"dataframe\">\n",
              "  <thead>\n",
              "    <tr style=\"text-align: right;\">\n",
              "      <th></th>\n",
              "      <th>user_id</th>\n",
              "      <th>mcc_code</th>\n",
              "      <th>currency_rk</th>\n",
              "      <th>transaction_amt</th>\n",
              "      <th>transaction_dttm</th>\n",
              "    </tr>\n",
              "  </thead>\n",
              "  <tbody>\n",
              "    <tr>\n",
              "      <th>0</th>\n",
              "      <td>000932580e404dafbecd5916d4640938</td>\n",
              "      <td>5411</td>\n",
              "      <td>48</td>\n",
              "      <td>-361.07230</td>\n",
              "      <td>2020-08-03 08:05:23</td>\n",
              "    </tr>\n",
              "    <tr>\n",
              "      <th>1</th>\n",
              "      <td>000932580e404dafbecd5916d4640938</td>\n",
              "      <td>5499</td>\n",
              "      <td>48</td>\n",
              "      <td>-137.31398</td>\n",
              "      <td>2020-08-05 01:27:40</td>\n",
              "    </tr>\n",
              "  </tbody>\n",
              "</table>\n",
              "</div>\n",
              "      <button class=\"colab-df-convert\" onclick=\"convertToInteractive('df-9d436b04-e577-40c9-a3d7-134dd152ecdc')\"\n",
              "              title=\"Convert this dataframe to an interactive table.\"\n",
              "              style=\"display:none;\">\n",
              "        \n",
              "  <svg xmlns=\"http://www.w3.org/2000/svg\" height=\"24px\"viewBox=\"0 0 24 24\"\n",
              "       width=\"24px\">\n",
              "    <path d=\"M0 0h24v24H0V0z\" fill=\"none\"/>\n",
              "    <path d=\"M18.56 5.44l.94 2.06.94-2.06 2.06-.94-2.06-.94-.94-2.06-.94 2.06-2.06.94zm-11 1L8.5 8.5l.94-2.06 2.06-.94-2.06-.94L8.5 2.5l-.94 2.06-2.06.94zm10 10l.94 2.06.94-2.06 2.06-.94-2.06-.94-.94-2.06-.94 2.06-2.06.94z\"/><path d=\"M17.41 7.96l-1.37-1.37c-.4-.4-.92-.59-1.43-.59-.52 0-1.04.2-1.43.59L10.3 9.45l-7.72 7.72c-.78.78-.78 2.05 0 2.83L4 21.41c.39.39.9.59 1.41.59.51 0 1.02-.2 1.41-.59l7.78-7.78 2.81-2.81c.8-.78.8-2.07 0-2.86zM5.41 20L4 18.59l7.72-7.72 1.47 1.35L5.41 20z\"/>\n",
              "  </svg>\n",
              "      </button>\n",
              "      \n",
              "  <style>\n",
              "    .colab-df-container {\n",
              "      display:flex;\n",
              "      flex-wrap:wrap;\n",
              "      gap: 12px;\n",
              "    }\n",
              "\n",
              "    .colab-df-convert {\n",
              "      background-color: #E8F0FE;\n",
              "      border: none;\n",
              "      border-radius: 50%;\n",
              "      cursor: pointer;\n",
              "      display: none;\n",
              "      fill: #1967D2;\n",
              "      height: 32px;\n",
              "      padding: 0 0 0 0;\n",
              "      width: 32px;\n",
              "    }\n",
              "\n",
              "    .colab-df-convert:hover {\n",
              "      background-color: #E2EBFA;\n",
              "      box-shadow: 0px 1px 2px rgba(60, 64, 67, 0.3), 0px 1px 3px 1px rgba(60, 64, 67, 0.15);\n",
              "      fill: #174EA6;\n",
              "    }\n",
              "\n",
              "    [theme=dark] .colab-df-convert {\n",
              "      background-color: #3B4455;\n",
              "      fill: #D2E3FC;\n",
              "    }\n",
              "\n",
              "    [theme=dark] .colab-df-convert:hover {\n",
              "      background-color: #434B5C;\n",
              "      box-shadow: 0px 1px 3px 1px rgba(0, 0, 0, 0.15);\n",
              "      filter: drop-shadow(0px 1px 2px rgba(0, 0, 0, 0.3));\n",
              "      fill: #FFFFFF;\n",
              "    }\n",
              "  </style>\n",
              "\n",
              "      <script>\n",
              "        const buttonEl =\n",
              "          document.querySelector('#df-9d436b04-e577-40c9-a3d7-134dd152ecdc button.colab-df-convert');\n",
              "        buttonEl.style.display =\n",
              "          google.colab.kernel.accessAllowed ? 'block' : 'none';\n",
              "\n",
              "        async function convertToInteractive(key) {\n",
              "          const element = document.querySelector('#df-9d436b04-e577-40c9-a3d7-134dd152ecdc');\n",
              "          const dataTable =\n",
              "            await google.colab.kernel.invokeFunction('convertToInteractive',\n",
              "                                                     [key], {});\n",
              "          if (!dataTable) return;\n",
              "\n",
              "          const docLinkHtml = 'Like what you see? Visit the ' +\n",
              "            '<a target=\"_blank\" href=https://colab.research.google.com/notebooks/data_table.ipynb>data table notebook</a>'\n",
              "            + ' to learn more about interactive tables.';\n",
              "          element.innerHTML = '';\n",
              "          dataTable['output_type'] = 'display_data';\n",
              "          await google.colab.output.renderOutput(dataTable, element);\n",
              "          const docLink = document.createElement('div');\n",
              "          docLink.innerHTML = docLinkHtml;\n",
              "          element.appendChild(docLink);\n",
              "        }\n",
              "      </script>\n",
              "    </div>\n",
              "  </div>\n",
              "  "
            ],
            "text/plain": [
              "                            user_id  mcc_code  currency_rk  transaction_amt  \\\n",
              "0  000932580e404dafbecd5916d4640938      5411           48       -361.07230   \n",
              "1  000932580e404dafbecd5916d4640938      5499           48       -137.31398   \n",
              "\n",
              "      transaction_dttm  \n",
              "0  2020-08-03 08:05:23  \n",
              "1  2020-08-05 01:27:40  "
            ]
          },
          "execution_count": 4,
          "metadata": {},
          "output_type": "execute_result"
        }
      ],
      "source": [
        "import os\n",
        "import pandas as pd\n",
        "\n",
        "data_path = 'data/'\n",
        "\n",
        "source_data = pd.read_csv(os.path.join(data_path, 'transactions.csv'))\n",
        "source_data.head(2)"
      ]
    },
    {
      "cell_type": "code",
      "execution_count": null,
      "metadata": {
        "id": "vfrI0uz5v7QN"
      },
      "outputs": [],
      "source": [
        "source_data.dropna(inplace=True)"
      ]
    },
    {
      "cell_type": "code",
      "execution_count": null,
      "metadata": {
        "colab": {
          "base_uri": "https://localhost:8080/"
        },
        "id": "CSPMYnkJmPy9",
        "outputId": "374e1fb1-3834-42b5-d235-6eab5c8560b0"
      },
      "outputs": [
        {
          "data": {
            "text/plain": [
              "(19821910, 5)"
            ]
          },
          "execution_count": 6,
          "metadata": {},
          "output_type": "execute_result"
        }
      ],
      "source": [
        "source_data.shape"
      ]
    },
    {
      "cell_type": "code",
      "execution_count": null,
      "metadata": {
        "id": "TklfcpgLYinv"
      },
      "outputs": [],
      "source": [
        "source_data.transaction_dttm = pd.to_datetime(source_data.transaction_dttm)"
      ]
    },
    {
      "cell_type": "code",
      "execution_count": null,
      "metadata": {
        "id": "wB2hy5fxVwp3"
      },
      "outputs": [],
      "source": [
        "from ptls.preprocessing import PandasDataPreprocessor\n",
        "\n",
        "preprocessor = PandasDataPreprocessor(\n",
        "    col_id='user_id',\n",
        "    col_event_time='transaction_dttm',\n",
        "    event_time_transformation='dt_to_timestamp',\n",
        "    cols_category=['mcc_code','currency_rk'],\n",
        "    cols_numerical=['transaction_amt'],\n",
        "    return_records=True,\n",
        ")"
      ]
    },
    {
      "cell_type": "code",
      "execution_count": null,
      "metadata": {
        "colab": {
          "base_uri": "https://localhost:8080/"
        },
        "id": "8lX13iRFXUhT",
        "outputId": "68d88045-1b8f-4718-c347-7b0df84e1b28"
      },
      "outputs": [
        {
          "name": "stdout",
          "output_type": "stream",
          "text": [
            "CPU times: user 1min 7s, sys: 11.2 s, total: 1min 18s\n",
            "Wall time: 1min 18s\n"
          ]
        }
      ],
      "source": [
        "%%time\n",
        "\n",
        "dataset = preprocessor.fit_transform(source_data)"
      ]
    },
    {
      "cell_type": "code",
      "execution_count": null,
      "metadata": {
        "id": "PzrJpndVYElQ"
      },
      "outputs": [],
      "source": [
        "import pickle\n",
        "\n",
        "with open('preprocessor.p', 'wb') as f:\n",
        "    pickle.dump(preprocessor, f)"
      ]
    },
    {
      "cell_type": "code",
      "execution_count": null,
      "metadata": {
        "colab": {
          "base_uri": "https://localhost:8080/"
        },
        "id": "eHGpajzDFZVT",
        "outputId": "9aac1173-c377-4652-cbe8-66760a231516"
      },
      "outputs": [
        {
          "data": {
            "text/plain": [
              "{'mcc_code': 388, 'currency_rk': 6}"
            ]
          },
          "execution_count": 11,
          "metadata": {},
          "output_type": "execute_result"
        }
      ],
      "source": [
        "preprocessor.get_category_dictionary_sizes()"
      ]
    },
    {
      "cell_type": "code",
      "execution_count": null,
      "metadata": {
        "id": "z1a9YCiSZ3ua"
      },
      "outputs": [],
      "source": [
        "dataset = sorted(dataset, key=lambda x: x['user_id'])"
      ]
    },
    {
      "cell_type": "code",
      "execution_count": null,
      "metadata": {
        "colab": {
          "base_uri": "https://localhost:8080/"
        },
        "id": "Zq6NZuxGaNlH",
        "outputId": "1ebf9d1e-2d84-4a2d-d01a-9ead4ab60e04"
      },
      "outputs": [
        {
          "data": {
            "text/plain": [
              "(18026, 4507)"
            ]
          },
          "execution_count": 13,
          "metadata": {},
          "output_type": "execute_result"
        }
      ],
      "source": [
        "from sklearn.model_selection import train_test_split\n",
        "\n",
        "train, test = train_test_split(dataset, test_size=0.2, random_state=42)\n",
        "\n",
        "len(train), len(test)"
      ]
    },
    {
      "cell_type": "code",
      "execution_count": 33,
      "metadata": {
        "colab": {
          "base_uri": "https://localhost:8080/"
        },
        "id": "Qiuhepwu3czg",
        "outputId": "eb4213f8-f90a-499d-dbb1-3facb7eb3790"
      },
      "outputs": [
        {
          "name": "stdout",
          "output_type": "stream",
          "text": [
            "Looking in indexes: https://pypi.org/simple, https://us-python.pkg.dev/colab-wheels/public/simple/\n",
            "Requirement already satisfied: pyhocon in /usr/local/lib/python3.9/dist-packages (0.3.60)\n",
            "Requirement already satisfied: pyparsing<4,>=2 in /usr/local/lib/python3.9/dist-packages (from pyhocon) (3.0.9)\n"
          ]
        }
      ],
      "source": [
        "!pip install pyhocon"
      ]
    },
    {
      "cell_type": "code",
      "execution_count": 35,
      "metadata": {
        "id": "zFSInr_jairD"
      },
      "outputs": [],
      "source": [
        "from functools import partial\n",
        "from ptls.nn import TrxEncoder, RnnSeqEncoder,RnnEncoder,AggFeatureSeqEncoder\n",
        "from ptls.frames.coles import CoLESModule\n",
        "from pyhocon import ConfigFactory\n",
        "\n",
        "# Strange errors if using standard way of defining parameters\n",
        "def get_conf():\n",
        "    params = {\n",
        "        'numeric_values': {\n",
        "            'transaction_amt': {'identity'},\n",
        "        },\n",
        "        'embeddings': {\n",
        "            'currency_rk': {'in': 100},\n",
        "            'mcc_code': {'in': 200}\n",
        "        },\n",
        "    }\n",
        "    return ConfigFactory.from_dict(params)\n",
        "\n",
        "seq_encoder = AggFeatureSeqEncoder(**get_conf())\n",
        "\n",
        "model = CoLESModule(\n",
        "    seq_encoder=seq_encoder,\n",
        "    optimizer_partial=partial(torch.optim.Adam, lr=0.001),\n",
        "    lr_scheduler_partial=partial(torch.optim.lr_scheduler.StepLR, step_size=30, gamma=0.9),\n",
        ")"
      ]
    },
    {
      "cell_type": "code",
      "execution_count": 36,
      "metadata": {
        "id": "R7qL4iZ5j0ax"
      },
      "outputs": [],
      "source": [
        "from ptls.data_load.datasets import MemoryMapDataset\n",
        "from ptls.data_load.iterable_processing import SeqLenFilter\n",
        "from ptls.frames.coles import ColesDataset\n",
        "from ptls.frames.coles.split_strategy import SampleSlices\n",
        "from ptls.frames import PtlsDataModule\n",
        "\n",
        "train_dl = PtlsDataModule(\n",
        "    train_data=ColesDataset(\n",
        "        MemoryMapDataset(\n",
        "            data=train,\n",
        "            i_filters=[\n",
        "                SeqLenFilter(min_seq_len=25),\n",
        "            ],\n",
        "        ),\n",
        "        splitter=SampleSlices(\n",
        "            split_count=5,\n",
        "            cnt_min=25,\n",
        "            cnt_max=200,\n",
        "        ),\n",
        "    ),\n",
        "    train_num_workers=2,\n",
        "    train_batch_size=256,\n",
        ")"
      ]
    },
    {
      "cell_type": "code",
      "execution_count": 37,
      "metadata": {
        "colab": {
          "base_uri": "https://localhost:8080/"
        },
        "id": "dIXc2GYNj20t",
        "outputId": "ad757194-9740-4ccf-9440-406dc045079a"
      },
      "outputs": [
        {
          "name": "stderr",
          "output_type": "stream",
          "text": [
            "INFO:pytorch_lightning.utilities.rank_zero:GPU available: True, used: True\n",
            "INFO:pytorch_lightning.utilities.rank_zero:TPU available: False, using: 0 TPU cores\n",
            "INFO:pytorch_lightning.utilities.rank_zero:IPU available: False, using: 0 IPUs\n",
            "INFO:pytorch_lightning.utilities.rank_zero:HPU available: False, using: 0 HPUs\n"
          ]
        }
      ],
      "source": [
        "import torch\n",
        "import pytorch_lightning as pl\n",
        "\n",
        "import logging\n",
        "\n",
        "trainer = pl.Trainer(\n",
        "    max_epochs=15,\n",
        "    gpus=1 if torch.cuda.is_available() else 0,\n",
        "    enable_progress_bar=False,\n",
        ")"
      ]
    },
    {
      "cell_type": "code",
      "execution_count": 38,
      "metadata": {
        "colab": {
          "base_uri": "https://localhost:8080/"
        },
        "id": "dfgwrib_kGx-",
        "outputId": "fec5d31d-5b8c-4f30-cb3f-5446cefa1fde"
      },
      "outputs": [
        {
          "name": "stderr",
          "output_type": "stream",
          "text": [
            "INFO:pytorch_lightning.accelerators.gpu:LOCAL_RANK: 0 - CUDA_VISIBLE_DEVICES: [0]\n",
            "INFO:pytorch_lightning.accelerators.gpu:LOCAL_RANK: 0 - CUDA_VISIBLE_DEVICES: [0]\n"
          ]
        },
        {
          "data": {
            "text/plain": [
              "(torch.Size([18026, 906]), torch.Size([4507, 906]))"
            ]
          },
          "execution_count": 38,
          "metadata": {},
          "output_type": "execute_result"
        }
      ],
      "source": [
        "from ptls.data_load.datasets import inference_data_loader\n",
        "\n",
        "train_dl = inference_data_loader(train, num_workers=0, batch_size=256)\n",
        "train_embeds = torch.vstack(trainer.predict(model, train_dl, ))\n",
        "\n",
        "test_dl = inference_data_loader(test, num_workers=0, batch_size=256)\n",
        "test_embeds = torch.vstack(trainer.predict(model, test_dl))\n",
        "\n",
        "train_embeds.shape, test_embeds.shape"
      ]
    },
    {
      "cell_type": "code",
      "execution_count": 39,
      "metadata": {
        "colab": {
          "base_uri": "https://localhost:8080/"
        },
        "id": "YxWLCdtEkND0",
        "outputId": "7299dd56-a827-41e1-942b-ea19b09978a8"
      },
      "outputs": [
        {
          "name": "stdout",
          "output_type": "stream",
          "text": [
            "(18026, 908) (4507, 908)\n"
          ]
        }
      ],
      "source": [
        "df_target = pd.read_csv(os.path.join(data_path, 'train.csv'))\n",
        "df_target.rename(columns={'bank':'user_id'},inplace=True)\n",
        "df_target = df_target.set_index('user_id')\n",
        "df_target.rename(columns={\"bins\": \"target\"}, inplace=True)\n",
        "\n",
        "train_df = pd.DataFrame(data=train_embeds, columns=[f'embed_{i}' for i in range(train_embeds.shape[1])])\n",
        "train_df['user_id'] = [x['user_id'] for x in train]\n",
        "train_df = train_df.merge(df_target, how='left', on='user_id')\n",
        "\n",
        "test_df = pd.DataFrame(data=test_embeds, columns=[f'embed_{i}' for i in range(test_embeds.shape[1])])\n",
        "test_df['user_id'] = [x['user_id'] for x in test]\n",
        "test_df = test_df.merge(df_target, how='left', on='user_id')\n",
        "\n",
        "print(train_df.shape, test_df.shape)"
      ]
    },
    {
      "cell_type": "code",
      "execution_count": 40,
      "metadata": {
        "id": "vRDh_R9YnYtw"
      },
      "outputs": [],
      "source": [
        "# Dropping nan values, that appears while merging embeddings and\n",
        "# target, as there is target not for each user in datasets\n",
        "train_df.dropna(inplace=True)\n",
        "test_df.dropna(inplace=True)"
      ]
    },
    {
      "cell_type": "code",
      "execution_count": 41,
      "metadata": {
        "id": "_jL48QC1gsed"
      },
      "outputs": [],
      "source": [
        "embed_columns = [x for x in train_df.columns if x.startswith('embed')]\n",
        "x_train, y_train = train_df[embed_columns], train_df['higher_education']\n",
        "x_test, y_test = test_df[embed_columns], test_df['higher_education']"
      ]
    },
    {
      "cell_type": "code",
      "execution_count": 42,
      "metadata": {
        "colab": {
          "base_uri": "https://localhost:8080/"
        },
        "id": "MhhlV0v_pidQ",
        "outputId": "651e1919-6c30-4a22-f107-72ab57b4c622"
      },
      "outputs": [
        {
          "name": "stdout",
          "output_type": "stream",
          "text": [
            "Looking in indexes: https://pypi.org/simple, https://us-python.pkg.dev/colab-wheels/public/simple/\n",
            "Requirement already satisfied: catboost in /usr/local/lib/python3.9/dist-packages (1.1.1)\n",
            "Requirement already satisfied: numpy>=1.16.0 in /usr/local/lib/python3.9/dist-packages (from catboost) (1.22.4)\n",
            "Requirement already satisfied: scipy in /usr/local/lib/python3.9/dist-packages (from catboost) (1.10.1)\n",
            "Requirement already satisfied: pandas>=0.24.0 in /usr/local/lib/python3.9/dist-packages (from catboost) (1.4.4)\n",
            "Requirement already satisfied: matplotlib in /usr/local/lib/python3.9/dist-packages (from catboost) (3.7.1)\n",
            "Requirement already satisfied: graphviz in /usr/local/lib/python3.9/dist-packages (from catboost) (0.20.1)\n",
            "Requirement already satisfied: six in /usr/local/lib/python3.9/dist-packages (from catboost) (1.16.0)\n",
            "Requirement already satisfied: plotly in /usr/local/lib/python3.9/dist-packages (from catboost) (5.13.1)\n",
            "Requirement already satisfied: python-dateutil>=2.8.1 in /usr/local/lib/python3.9/dist-packages (from pandas>=0.24.0->catboost) (2.8.2)\n",
            "Requirement already satisfied: pytz>=2020.1 in /usr/local/lib/python3.9/dist-packages (from pandas>=0.24.0->catboost) (2022.7.1)\n",
            "Requirement already satisfied: pillow>=6.2.0 in /usr/local/lib/python3.9/dist-packages (from matplotlib->catboost) (8.4.0)\n",
            "Requirement already satisfied: importlib-resources>=3.2.0 in /usr/local/lib/python3.9/dist-packages (from matplotlib->catboost) (5.12.0)\n",
            "Requirement already satisfied: kiwisolver>=1.0.1 in /usr/local/lib/python3.9/dist-packages (from matplotlib->catboost) (1.4.4)\n",
            "Requirement already satisfied: contourpy>=1.0.1 in /usr/local/lib/python3.9/dist-packages (from matplotlib->catboost) (1.0.7)\n",
            "Requirement already satisfied: cycler>=0.10 in /usr/local/lib/python3.9/dist-packages (from matplotlib->catboost) (0.11.0)\n",
            "Requirement already satisfied: pyparsing>=2.3.1 in /usr/local/lib/python3.9/dist-packages (from matplotlib->catboost) (3.0.9)\n",
            "Requirement already satisfied: fonttools>=4.22.0 in /usr/local/lib/python3.9/dist-packages (from matplotlib->catboost) (4.39.2)\n",
            "Requirement already satisfied: packaging>=20.0 in /usr/local/lib/python3.9/dist-packages (from matplotlib->catboost) (23.0)\n",
            "Requirement already satisfied: tenacity>=6.2.0 in /usr/local/lib/python3.9/dist-packages (from plotly->catboost) (8.2.2)\n",
            "Requirement already satisfied: zipp>=3.1.0 in /usr/local/lib/python3.9/dist-packages (from importlib-resources>=3.2.0->matplotlib->catboost) (3.15.0)\n"
          ]
        }
      ],
      "source": [
        "!pip install catboost"
      ]
    },
    {
      "cell_type": "code",
      "execution_count": 43,
      "metadata": {
        "id": "aRz7MqIRiJNN"
      },
      "outputs": [],
      "source": [
        "from catboost import CatBoostClassifier, metrics\n",
        "CatBoostModel = CatBoostClassifier(\n",
        "iterations= 500,\n",
        "learning_rate = 0.05,\n",
        "use_best_model = True,\n",
        "eval_metric ='AUC', \n",
        "loss_function='Logloss',\n",
        "random_seed = 42,\n",
        "logging_level = 'Silent',\n",
        "depth = 5)"
      ]
    },
    {
      "cell_type": "code",
      "execution_count": 44,
      "metadata": {
        "colab": {
          "base_uri": "https://localhost:8080/",
          "height": 34,
          "referenced_widgets": [
            "8fc85e160fbf4371b36df815b8450473"
          ]
        },
        "id": "y6bvJl7-knyo",
        "outputId": "d2027bd1-0a26-41c5-a7bc-cee60cf7019b"
      },
      "outputs": [
        {
          "data": {
            "application/vnd.jupyter.widget-view+json": {
              "model_id": "8fc85e160fbf4371b36df815b8450473",
              "version_major": 2,
              "version_minor": 0
            },
            "text/plain": [
              "MetricVisualizer(layout=Layout(align_self='stretch', height='500px'))"
            ]
          },
          "metadata": {},
          "output_type": "display_data"
        },
        {
          "data": {
            "text/plain": [
              "<catboost.core.CatBoostClassifier at 0x7fd43c023c10>"
            ]
          },
          "execution_count": 44,
          "metadata": {},
          "output_type": "execute_result"
        }
      ],
      "source": [
        "CatBoostModel.fit(\n",
        "    x_train, y_train,\n",
        "    eval_set=(x_test, y_test),\n",
        "    plot=True\n",
        "#     logging_level='Verbose',  # you can uncomment this for text output\n",
        ")"
      ]
    },
    {
      "cell_type": "code",
      "execution_count": 45,
      "metadata": {
        "colab": {
          "base_uri": "https://localhost:8080/"
        },
        "id": "JWQ8t7sDkpeG",
        "outputId": "04f139df-cbfc-4814-a7b9-7aeaa7390cb0"
      },
      "outputs": [
        {
          "data": {
            "text/plain": [
              "{'learn': {'Logloss': 0.3489822464123146},\n",
              " 'validation': {'Logloss': 0.45487044045481634, 'AUC': 0.7992421974403113}}"
            ]
          },
          "execution_count": 45,
          "metadata": {},
          "output_type": "execute_result"
        }
      ],
      "source": [
        "CatBoostModel.get_best_score()"
      ]
    },
    {
      "cell_type": "code",
      "execution_count": 46,
      "metadata": {
        "id": "3mAfv7mAl6wZ"
      },
      "outputs": [],
      "source": [
        "y_pred = CatBoostModel.predict(x_test)\n",
        "y_proba = CatBoostModel.predict_proba(x_test)"
      ]
    },
    {
      "cell_type": "code",
      "execution_count": 47,
      "metadata": {
        "colab": {
          "base_uri": "https://localhost:8080/"
        },
        "id": "sDs6gwrbl8sg",
        "outputId": "a102d443-ccbb-405b-f7cd-95120438cf83"
      },
      "outputs": [
        {
          "name": "stdout",
          "output_type": "stream",
          "text": [
            "accuracy: 0.7869539198084979 \n",
            "      f1: 0.8649468892261002, \n",
            "      precision: 0.9193548387096774\n",
            "     roc auc : 0.7992421974403114\n"
          ]
        }
      ],
      "source": [
        "from sklearn.metrics import roc_auc_score, precision_score, accuracy_score, recall_score, f1_score, roc_auc_score\n",
        "\n",
        "print(f'''accuracy: {CatBoostModel.score(x_test, y_test)} \n",
        "      f1: {f1_score(y_pred, y_test)}, \n",
        "      precision: {precision_score(y_pred, y_test)}\n",
        "     roc auc : {roc_auc_score(y_test, y_proba[:,1])}''')"
      ]
    },
    {
      "cell_type": "code",
      "execution_count": null,
      "metadata": {
        "id": "GCPYUAQpvCkA"
      },
      "outputs": [],
      "source": []
    }
  ],
  "metadata": {
    "colab": {
      "provenance": []
    },
    "gpuClass": "standard",
    "kernelspec": {
      "display_name": "Python 3",
      "name": "python3"
    },
    "language_info": {
      "name": "python"
    },
    "widgets": {
      "application/vnd.jupyter.widget-state+json": {
        "8fc85e160fbf4371b36df815b8450473": {
          "model_module": "catboost-widget",
          "model_module_version": "^1.0.0",
          "model_name": "CatboostWidgetModel",
          "state": {
            "_dom_classes": [],
            "_model_module": "catboost-widget",
            "_model_module_version": "^1.0.0",
            "_model_name": "CatboostWidgetModel",
            "_view_count": null,
            "_view_module": "catboost-widget",
            "_view_module_version": "^1.0.0",
            "_view_name": "CatboostWidgetView",
            "data": {
              "catboost_info": {
                "content": {
                  "data": {
                    "iterations": [
                      {
                        "iteration": 0,
                        "learn": [
                          0.6765300183
                        ],
                        "passed_time": 0.1319854446,
                        "remaining_time": 65.86073685,
                        "test": [
                          0.6777748672,
                          0.6758985643
                        ]
                      },
                      {
                        "iteration": 1,
                        "learn": [
                          0.6619590357
                        ],
                        "passed_time": 0.184870965,
                        "remaining_time": 46.03287029,
                        "test": [
                          0.7168896415,
                          0.6601827709
                        ]
                      },
                      {
                        "iteration": 2,
                        "learn": [
                          0.6473666584
                        ],
                        "passed_time": 0.2363385552,
                        "remaining_time": 39.15342065,
                        "test": [
                          0.740535888,
                          0.6449854381
                        ]
                      },
                      {
                        "iteration": 3,
                        "learn": [
                          0.6346775133
                        ],
                        "passed_time": 0.2924008322,
                        "remaining_time": 36.2577032,
                        "test": [
                          0.7491664172,
                          0.6314303307
                        ]
                      },
                      {
                        "iteration": 4,
                        "learn": [
                          0.6231247679
                        ],
                        "passed_time": 0.3462022975,
                        "remaining_time": 34.27402745,
                        "test": [
                          0.7529413966,
                          0.6188843873
                        ]
                      },
                      {
                        "iteration": 5,
                        "learn": [
                          0.6124742103
                        ],
                        "passed_time": 0.4022852229,
                        "remaining_time": 33.12148335,
                        "test": [
                          0.7510861837,
                          0.6079360302
                        ]
                      },
                      {
                        "iteration": 6,
                        "learn": [
                          0.6026372947
                        ],
                        "passed_time": 0.459034635,
                        "remaining_time": 32.32915358,
                        "test": [
                          0.7573628471,
                          0.5974339783
                        ]
                      },
                      {
                        "iteration": 7,
                        "learn": [
                          0.5944161574
                        ],
                        "passed_time": 0.5126511897,
                        "remaining_time": 31.52804817,
                        "test": [
                          0.7666407829,
                          0.5883097305
                        ]
                      },
                      {
                        "iteration": 8,
                        "learn": [
                          0.5856936005
                        ],
                        "passed_time": 0.5778156727,
                        "remaining_time": 31.52305503,
                        "test": [
                          0.7655471147,
                          0.5793846582
                        ]
                      },
                      {
                        "iteration": 9,
                        "learn": [
                          0.5788821976
                        ],
                        "passed_time": 0.6308270097,
                        "remaining_time": 30.91052348,
                        "test": [
                          0.7680235387,
                          0.5715727403
                        ]
                      },
                      {
                        "iteration": 10,
                        "learn": [
                          0.5720750353
                        ],
                        "passed_time": 0.6835443913,
                        "remaining_time": 30.38665522,
                        "test": [
                          0.768156388,
                          0.5645708894
                        ]
                      },
                      {
                        "iteration": 11,
                        "learn": [
                          0.5652763764
                        ],
                        "passed_time": 0.7392881594,
                        "remaining_time": 30.06438515,
                        "test": [
                          0.7707871791,
                          0.557373932
                        ]
                      },
                      {
                        "iteration": 12,
                        "learn": [
                          0.5601012939
                        ],
                        "passed_time": 0.798863917,
                        "remaining_time": 29.92667135,
                        "test": [
                          0.7709621286,
                          0.5518353469
                        ]
                      },
                      {
                        "iteration": 13,
                        "learn": [
                          0.5544710642
                        ],
                        "passed_time": 0.8548755036,
                        "remaining_time": 29.67639248,
                        "test": [
                          0.7721231569,
                          0.5460680939
                        ]
                      },
                      {
                        "iteration": 14,
                        "learn": [
                          0.5498866912
                        ],
                        "passed_time": 0.9104807985,
                        "remaining_time": 29.43887915,
                        "test": [
                          0.7735676596,
                          0.5410391238
                        ]
                      },
                      {
                        "iteration": 15,
                        "learn": [
                          0.5464432654
                        ],
                        "passed_time": 0.9674094687,
                        "remaining_time": 29.26413643,
                        "test": [
                          0.7750982337,
                          0.5369231588
                        ]
                      },
                      {
                        "iteration": 16,
                        "learn": [
                          0.5418135041
                        ],
                        "passed_time": 1.042128735,
                        "remaining_time": 29.6087164,
                        "test": [
                          0.7755117506,
                          0.5322209249
                        ]
                      },
                      {
                        "iteration": 17,
                        "learn": [
                          0.5381960459
                        ],
                        "passed_time": 1.139748789,
                        "remaining_time": 30.5199398,
                        "test": [
                          0.7765427363,
                          0.5282271827
                        ]
                      },
                      {
                        "iteration": 18,
                        "learn": [
                          0.5352636801
                        ],
                        "passed_time": 1.249566132,
                        "remaining_time": 31.63375314,
                        "test": [
                          0.7773650924,
                          0.5248731412
                        ]
                      },
                      {
                        "iteration": 19,
                        "learn": [
                          0.5320681559
                        ],
                        "passed_time": 1.36710919,
                        "remaining_time": 32.81062055,
                        "test": [
                          0.7772958611,
                          0.5217926697
                        ]
                      },
                      {
                        "iteration": 20,
                        "learn": [
                          0.5286313371
                        ],
                        "passed_time": 1.465724328,
                        "remaining_time": 33.43247396,
                        "test": [
                          0.7778310007,
                          0.5184092281
                        ]
                      },
                      {
                        "iteration": 21,
                        "learn": [
                          0.5255698046
                        ],
                        "passed_time": 1.564155081,
                        "remaining_time": 33.98482404,
                        "test": [
                          0.7775260085,
                          0.5158113057
                        ]
                      },
                      {
                        "iteration": 22,
                        "learn": [
                          0.5227791947
                        ],
                        "passed_time": 1.671709461,
                        "remaining_time": 34.66980055,
                        "test": [
                          0.7781883841,
                          0.5132406317
                        ]
                      },
                      {
                        "iteration": 23,
                        "learn": [
                          0.5204944658
                        ],
                        "passed_time": 1.782491631,
                        "remaining_time": 35.35275068,
                        "test": [
                          0.7789424444,
                          0.5106113169
                        ]
                      },
                      {
                        "iteration": 24,
                        "learn": [
                          0.517953879
                        ],
                        "passed_time": 1.884894095,
                        "remaining_time": 35.8129878,
                        "test": [
                          0.7795524287,
                          0.508384259
                        ]
                      },
                      {
                        "iteration": 25,
                        "learn": [
                          0.5154260895
                        ],
                        "passed_time": 1.987977462,
                        "remaining_time": 36.24235835,
                        "test": [
                          0.7805179253,
                          0.5057707977
                        ]
                      },
                      {
                        "iteration": 26,
                        "learn": [
                          0.5135370886
                        ],
                        "passed_time": 2.09190246,
                        "remaining_time": 36.64703199,
                        "test": [
                          0.7811241674,
                          0.5037904571
                        ]
                      },
                      {
                        "iteration": 27,
                        "learn": [
                          0.5117666841
                        ],
                        "passed_time": 2.200551075,
                        "remaining_time": 37.09500384,
                        "test": [
                          0.7816911159,
                          0.5020469186
                        ]
                      },
                      {
                        "iteration": 28,
                        "learn": [
                          0.5102665052
                        ],
                        "passed_time": 2.302985424,
                        "remaining_time": 37.40365982,
                        "test": [
                          0.7816087868,
                          0.5008400943
                        ]
                      },
                      {
                        "iteration": 29,
                        "learn": [
                          0.508490327
                        ],
                        "passed_time": 2.410855509,
                        "remaining_time": 37.77006963,
                        "test": [
                          0.7825349899,
                          0.4988902481
                        ]
                      },
                      {
                        "iteration": 30,
                        "learn": [
                          0.506600052
                        ],
                        "passed_time": 2.515332823,
                        "remaining_time": 38.05455142,
                        "test": [
                          0.7830345783,
                          0.4972714654
                        ]
                      },
                      {
                        "iteration": 31,
                        "learn": [
                          0.5049545376
                        ],
                        "passed_time": 2.627160063,
                        "remaining_time": 38.42221592,
                        "test": [
                          0.7837063094,
                          0.4956165199
                        ]
                      },
                      {
                        "iteration": 32,
                        "learn": [
                          0.5032737638
                        ],
                        "passed_time": 2.738819195,
                        "remaining_time": 38.75844134,
                        "test": [
                          0.7840917596,
                          0.4939838485
                        ]
                      },
                      {
                        "iteration": 33,
                        "learn": [
                          0.5018278079
                        ],
                        "passed_time": 2.848673776,
                        "remaining_time": 39.04358764,
                        "test": [
                          0.7841853155,
                          0.492553116
                        ]
                      },
                      {
                        "iteration": 34,
                        "learn": [
                          0.5003220318
                        ],
                        "passed_time": 2.95591736,
                        "remaining_time": 39.27147349,
                        "test": [
                          0.7841666043,
                          0.4915479651
                        ]
                      },
                      {
                        "iteration": 35,
                        "learn": [
                          0.4990509802
                        ],
                        "passed_time": 3.06416025,
                        "remaining_time": 39.493621,
                        "test": [
                          0.7840749195,
                          0.4905146561
                        ]
                      },
                      {
                        "iteration": 36,
                        "learn": [
                          0.4982954759
                        ],
                        "passed_time": 3.184767688,
                        "remaining_time": 39.8526335,
                        "test": [
                          0.784432303,
                          0.4897323385
                        ]
                      },
                      {
                        "iteration": 37,
                        "learn": [
                          0.4969499655
                        ],
                        "passed_time": 3.293424799,
                        "remaining_time": 40.04111203,
                        "test": [
                          0.7849187935,
                          0.4887062127
                        ]
                      },
                      {
                        "iteration": 38,
                        "learn": [
                          0.4957757352
                        ],
                        "passed_time": 3.398745751,
                        "remaining_time": 40.17491773,
                        "test": [
                          0.7849169224,
                          0.4877938074
                        ]
                      },
                      {
                        "iteration": 39,
                        "learn": [
                          0.4946149554
                        ],
                        "passed_time": 3.550360164,
                        "remaining_time": 40.82914189,
                        "test": [
                          0.7852724347,
                          0.486687993
                        ]
                      },
                      {
                        "iteration": 40,
                        "learn": [
                          0.4936689223
                        ],
                        "passed_time": 3.73750915,
                        "remaining_time": 41.84187073,
                        "test": [
                          0.7851264875,
                          0.4859725401
                        ]
                      },
                      {
                        "iteration": 41,
                        "learn": [
                          0.4926069072
                        ],
                        "passed_time": 3.881263272,
                        "remaining_time": 42.32425187,
                        "test": [
                          0.7852724347,
                          0.485188131
                        ]
                      },
                      {
                        "iteration": 42,
                        "learn": [
                          0.4916368557
                        ],
                        "passed_time": 4.028110399,
                        "remaining_time": 42.81038261,
                        "test": [
                          0.7857514408,
                          0.4842561171
                        ]
                      },
                      {
                        "iteration": 43,
                        "learn": [
                          0.4907151159
                        ],
                        "passed_time": 4.188482289,
                        "remaining_time": 43.40790736,
                        "test": [
                          0.7858150588,
                          0.4835773725
                        ]
                      },
                      {
                        "iteration": 44,
                        "learn": [
                          0.4897156904
                        ],
                        "passed_time": 4.361020134,
                        "remaining_time": 44.09475914,
                        "test": [
                          0.7864063319,
                          0.4826232863
                        ]
                      },
                      {
                        "iteration": 45,
                        "learn": [
                          0.4884447666
                        ],
                        "passed_time": 4.53582584,
                        "remaining_time": 44.76662894,
                        "test": [
                          0.7868254622,
                          0.481759996
                        ]
                      },
                      {
                        "iteration": 46,
                        "learn": [
                          0.4875729475
                        ],
                        "passed_time": 4.678639439,
                        "remaining_time": 45.09412055,
                        "test": [
                          0.7866289948,
                          0.4814118885
                        ]
                      },
                      {
                        "iteration": 47,
                        "learn": [
                          0.4864401816
                        ],
                        "passed_time": 4.866480181,
                        "remaining_time": 45.8260217,
                        "test": [
                          0.7865260834,
                          0.4807811955
                        ]
                      },
                      {
                        "iteration": 48,
                        "learn": [
                          0.4856426468
                        ],
                        "passed_time": 5.024682339,
                        "remaining_time": 46.24758643,
                        "test": [
                          0.7867618442,
                          0.4803766368
                        ]
                      },
                      {
                        "iteration": 49,
                        "learn": [
                          0.4849241849
                        ],
                        "passed_time": 5.161689778,
                        "remaining_time": 46.455208,
                        "test": [
                          0.7872109124,
                          0.479639759
                        ]
                      },
                      {
                        "iteration": 50,
                        "learn": [
                          0.4838933806
                        ],
                        "passed_time": 5.314573526,
                        "remaining_time": 46.7890885,
                        "test": [
                          0.7877741187,
                          0.4787968555
                        ]
                      },
                      {
                        "iteration": 51,
                        "learn": [
                          0.483287706
                        ],
                        "passed_time": 5.467070027,
                        "remaining_time": 47.10091101,
                        "test": [
                          0.7883223561,
                          0.4782078566
                        ]
                      },
                      {
                        "iteration": 52,
                        "learn": [
                          0.4826391591
                        ],
                        "passed_time": 5.655223457,
                        "remaining_time": 47.69594123,
                        "test": [
                          0.7885019834,
                          0.4776990644
                        ]
                      },
                      {
                        "iteration": 53,
                        "learn": [
                          0.4819361183
                        ],
                        "passed_time": 5.842887413,
                        "remaining_time": 48.25792197,
                        "test": [
                          0.7886441883,
                          0.4771716767
                        ]
                      },
                      {
                        "iteration": 54,
                        "learn": [
                          0.4810884939
                        ],
                        "passed_time": 5.972489579,
                        "remaining_time": 48.32287023,
                        "test": [
                          0.7889529227,
                          0.4765947882
                        ]
                      },
                      {
                        "iteration": 55,
                        "learn": [
                          0.480215518
                        ],
                        "passed_time": 6.091278918,
                        "remaining_time": 48.29514,
                        "test": [
                          0.7893458573,
                          0.476056169
                        ]
                      },
                      {
                        "iteration": 56,
                        "learn": [
                          0.479458323
                        ],
                        "passed_time": 6.210366358,
                        "remaining_time": 48.26653152,
                        "test": [
                          0.7894656089,
                          0.4756041734
                        ]
                      },
                      {
                        "iteration": 57,
                        "learn": [
                          0.4787398142
                        ],
                        "passed_time": 6.311260193,
                        "remaining_time": 48.09615526,
                        "test": [
                          0.7897967966,
                          0.4749799723
                        ]
                      },
                      {
                        "iteration": 58,
                        "learn": [
                          0.4779638716
                        ],
                        "passed_time": 6.486053139,
                        "remaining_time": 48.48049889,
                        "test": [
                          0.7898454457,
                          0.4745839187
                        ]
                      },
                      {
                        "iteration": 59,
                        "learn": [
                          0.4773264415
                        ],
                        "passed_time": 6.587453782,
                        "remaining_time": 48.3079944,
                        "test": [
                          0.7901972158,
                          0.4740458198
                        ]
                      },
                      {
                        "iteration": 60,
                        "learn": [
                          0.4766041802
                        ],
                        "passed_time": 6.692203414,
                        "remaining_time": 48.16192293,
                        "test": [
                          0.7901635357,
                          0.4736093016
                        ]
                      },
                      {
                        "iteration": 61,
                        "learn": [
                          0.4760293961
                        ],
                        "passed_time": 6.804728727,
                        "remaining_time": 48.07211585,
                        "test": [
                          0.7905396303,
                          0.4730680306
                        ]
                      },
                      {
                        "iteration": 62,
                        "learn": [
                          0.4753832404
                        ],
                        "passed_time": 6.917648859,
                        "remaining_time": 47.98432622,
                        "test": [
                          0.7910092807,
                          0.4724344126
                        ]
                      },
                      {
                        "iteration": 63,
                        "learn": [
                          0.4747749904
                        ],
                        "passed_time": 7.039719072,
                        "remaining_time": 47.95808618,
                        "test": [
                          0.7907042886,
                          0.4723895578
                        ]
                      },
                      {
                        "iteration": 64,
                        "learn": [
                          0.4740873725
                        ],
                        "passed_time": 7.139186313,
                        "remaining_time": 47.77763148,
                        "test": [
                          0.7904442033,
                          0.4723294721
                        ]
                      },
                      {
                        "iteration": 65,
                        "learn": [
                          0.4733519274
                        ],
                        "passed_time": 7.260494671,
                        "remaining_time": 47.74325284,
                        "test": [
                          0.7904498166,
                          0.4721051701
                        ]
                      },
                      {
                        "iteration": 66,
                        "learn": [
                          0.4727845829
                        ],
                        "passed_time": 7.40244209,
                        "remaining_time": 47.83966306,
                        "test": [
                          0.7905209191,
                          0.4718561722
                        ]
                      },
                      {
                        "iteration": 67,
                        "learn": [
                          0.4721625638
                        ],
                        "passed_time": 7.571530611,
                        "remaining_time": 48.10148859,
                        "test": [
                          0.7902458648,
                          0.4717701855
                        ]
                      },
                      {
                        "iteration": 68,
                        "learn": [
                          0.4714859279
                        ],
                        "passed_time": 7.694561175,
                        "remaining_time": 48.0631285,
                        "test": [
                          0.7906350573,
                          0.4712446537
                        ]
                      },
                      {
                        "iteration": 69,
                        "learn": [
                          0.4710239038
                        ],
                        "passed_time": 7.841241999,
                        "remaining_time": 48.16762942,
                        "test": [
                          0.7907417109,
                          0.4709582633
                        ]
                      },
                      {
                        "iteration": 70,
                        "learn": [
                          0.4705749595
                        ],
                        "passed_time": 7.984533984,
                        "remaining_time": 48.24457858,
                        "test": [
                          0.791172068,
                          0.4705847802
                        ]
                      },
                      {
                        "iteration": 71,
                        "learn": [
                          0.4700032615
                        ],
                        "passed_time": 8.070137698,
                        "remaining_time": 47.97248521,
                        "test": [
                          0.7912076192,
                          0.4704158823
                        ]
                      },
                      {
                        "iteration": 72,
                        "learn": [
                          0.4693948449
                        ],
                        "passed_time": 8.186316552,
                        "remaining_time": 47.88434476,
                        "test": [
                          0.7912001347,
                          0.4701090851
                        ]
                      },
                      {
                        "iteration": 73,
                        "learn": [
                          0.4688649489
                        ],
                        "passed_time": 8.298386515,
                        "remaining_time": 47.77179264,
                        "test": [
                          0.7912188459,
                          0.4698352098
                        ]
                      },
                      {
                        "iteration": 74,
                        "learn": [
                          0.4684493219
                        ],
                        "passed_time": 8.389320229,
                        "remaining_time": 47.5394813,
                        "test": [
                          0.7912375571,
                          0.4697046978
                        ]
                      },
                      {
                        "iteration": 75,
                        "learn": [
                          0.4678129429
                        ],
                        "passed_time": 8.506335186,
                        "remaining_time": 47.4563963,
                        "test": [
                          0.7914770601,
                          0.4692967136
                        ]
                      },
                      {
                        "iteration": 76,
                        "learn": [
                          0.4671635371
                        ],
                        "passed_time": 8.635557704,
                        "remaining_time": 47.43949232,
                        "test": [
                          0.7913741486,
                          0.4691711452
                        ]
                      },
                      {
                        "iteration": 77,
                        "learn": [
                          0.4668640368
                        ],
                        "passed_time": 8.750582372,
                        "remaining_time": 47.34289437,
                        "test": [
                          0.7913423396,
                          0.4690705088
                        ]
                      },
                      {
                        "iteration": 78,
                        "learn": [
                          0.4664410905
                        ],
                        "passed_time": 8.86650529,
                        "remaining_time": 47.2506168,
                        "test": [
                          0.7912618816,
                          0.4689249608
                        ]
                      },
                      {
                        "iteration": 79,
                        "learn": [
                          0.4659688221
                        ],
                        "passed_time": 8.975639631,
                        "remaining_time": 47.12210806,
                        "test": [
                          0.7912562682,
                          0.4687204805
                        ]
                      },
                      {
                        "iteration": 80,
                        "learn": [
                          0.4654496932
                        ],
                        "passed_time": 9.057723194,
                        "remaining_time": 46.85414837,
                        "test": [
                          0.7914957713,
                          0.4683787764
                        ]
                      },
                      {
                        "iteration": 81,
                        "learn": [
                          0.4651092812
                        ],
                        "passed_time": 9.155431956,
                        "remaining_time": 46.67037265,
                        "test": [
                          0.7917539855,
                          0.4682785361
                        ]
                      },
                      {
                        "iteration": 82,
                        "learn": [
                          0.4646244152
                        ],
                        "passed_time": 9.265529076,
                        "remaining_time": 46.55091114,
                        "test": [
                          0.792049622,
                          0.4678867146
                        ]
                      },
                      {
                        "iteration": 83,
                        "learn": [
                          0.4641566466
                        ],
                        "passed_time": 9.386158056,
                        "remaining_time": 46.48383037,
                        "test": [
                          0.7920477509,
                          0.4677822588
                        ]
                      },
                      {
                        "iteration": 84,
                        "learn": [
                          0.4636430425
                        ],
                        "passed_time": 9.503513558,
                        "remaining_time": 46.39950737,
                        "test": [
                          0.7917857945,
                          0.4677481762
                        ]
                      },
                      {
                        "iteration": 85,
                        "learn": [
                          0.4629255493
                        ],
                        "passed_time": 9.620220746,
                        "remaining_time": 46.31129522,
                        "test": [
                          0.7917072075,
                          0.4675536636
                        ]
                      },
                      {
                        "iteration": 86,
                        "learn": [
                          0.4622275115
                        ],
                        "passed_time": 9.737823472,
                        "remaining_time": 46.22667924,
                        "test": [
                          0.7919149016,
                          0.4673285898
                        ]
                      },
                      {
                        "iteration": 87,
                        "learn": [
                          0.4617120822
                        ],
                        "passed_time": 9.882560769,
                        "remaining_time": 46.26835269,
                        "test": [
                          0.7919766485,
                          0.4671525435
                        ]
                      },
                      {
                        "iteration": 88,
                        "learn": [
                          0.4613625365
                        ],
                        "passed_time": 10.00306341,
                        "remaining_time": 46.19392206,
                        "test": [
                          0.7921544046,
                          0.4669249621
                        ]
                      },
                      {
                        "iteration": 89,
                        "learn": [
                          0.4609285904
                        ],
                        "passed_time": 10.12184965,
                        "remaining_time": 46.11064841,
                        "test": [
                          0.7921057556,
                          0.4667798161
                        ]
                      },
                      {
                        "iteration": 90,
                        "learn": [
                          0.460510291
                        ],
                        "passed_time": 10.29271404,
                        "remaining_time": 46.26065979,
                        "test": [
                          0.792032782,
                          0.4666383323
                        ]
                      },
                      {
                        "iteration": 91,
                        "learn": [
                          0.4600975883
                        ],
                        "passed_time": 10.41262852,
                        "remaining_time": 46.17774387,
                        "test": [
                          0.7920926577,
                          0.4664798461
                        ]
                      },
                      {
                        "iteration": 92,
                        "learn": [
                          0.4598048486
                        ],
                        "passed_time": 10.52362694,
                        "remaining_time": 46.0550125,
                        "test": [
                          0.7920627199,
                          0.4664381799
                        ]
                      },
                      {
                        "iteration": 93,
                        "learn": [
                          0.4593981963
                        ],
                        "passed_time": 10.64403879,
                        "remaining_time": 45.97318881,
                        "test": [
                          0.7920514932,
                          0.4663102932
                        ]
                      },
                      {
                        "iteration": 94,
                        "learn": [
                          0.4591433353
                        ],
                        "passed_time": 10.75087628,
                        "remaining_time": 45.83268309,
                        "test": [
                          0.7919130305,
                          0.4663452987
                        ]
                      },
                      {
                        "iteration": 95,
                        "learn": [
                          0.45869756
                        ],
                        "passed_time": 10.86064016,
                        "remaining_time": 45.70519399,
                        "test": [
                          0.791969164,
                          0.466174901
                        ]
                      },
                      {
                        "iteration": 96,
                        "learn": [
                          0.4582108838
                        ],
                        "passed_time": 10.9917039,
                        "remaining_time": 45.66656363,
                        "test": [
                          0.7924051343,
                          0.4656972534
                        ]
                      },
                      {
                        "iteration": 97,
                        "learn": [
                          0.4577153991
                        ],
                        "passed_time": 11.11475747,
                        "remaining_time": 45.59318879,
                        "test": [
                          0.7922984807,
                          0.4656123646
                        ]
                      },
                      {
                        "iteration": 98,
                        "learn": [
                          0.4573897424
                        ],
                        "passed_time": 11.30193924,
                        "remaining_time": 45.77856196,
                        "test": [
                          0.7925043036,
                          0.4653376006
                        ]
                      },
                      {
                        "iteration": 99,
                        "learn": [
                          0.4569567794
                        ],
                        "passed_time": 11.43756964,
                        "remaining_time": 45.75027854,
                        "test": [
                          0.7926521218,
                          0.4651672768
                        ]
                      },
                      {
                        "iteration": 100,
                        "learn": [
                          0.4564604246
                        ],
                        "passed_time": 11.57538614,
                        "remaining_time": 45.72850565,
                        "test": [
                          0.7925454682,
                          0.4651269183
                        ]
                      },
                      {
                        "iteration": 101,
                        "learn": [
                          0.4559221363
                        ],
                        "passed_time": 11.66814446,
                        "remaining_time": 45.52864213,
                        "test": [
                          0.7927774867,
                          0.4649498278
                        ]
                      },
                      {
                        "iteration": 102,
                        "learn": [
                          0.4555256135
                        ],
                        "passed_time": 11.73894414,
                        "remaining_time": 45.24622161,
                        "test": [
                          0.792942145,
                          0.4647094593
                        ]
                      },
                      {
                        "iteration": 103,
                        "learn": [
                          0.4552466561
                        ],
                        "passed_time": 11.84687183,
                        "remaining_time": 45.10924274,
                        "test": [
                          0.7928411047,
                          0.4646663522
                        ]
                      },
                      {
                        "iteration": 104,
                        "learn": [
                          0.4547751949
                        ],
                        "passed_time": 11.96778048,
                        "remaining_time": 45.02165039,
                        "test": [
                          0.7928560736,
                          0.4646198699
                        ]
                      },
                      {
                        "iteration": 105,
                        "learn": [
                          0.4543694585
                        ],
                        "passed_time": 12.10328258,
                        "remaining_time": 44.987673,
                        "test": [
                          0.7928803982,
                          0.4644918749
                        ]
                      },
                      {
                        "iteration": 106,
                        "learn": [
                          0.4540093655
                        ],
                        "passed_time": 12.22247352,
                        "remaining_time": 44.89188874,
                        "test": [
                          0.7929215628,
                          0.4643217854
                        ]
                      },
                      {
                        "iteration": 107,
                        "learn": [
                          0.4535800404
                        ],
                        "passed_time": 12.33081132,
                        "remaining_time": 44.75627812,
                        "test": [
                          0.7929122072,
                          0.4642738764
                        ]
                      },
                      {
                        "iteration": 108,
                        "learn": [
                          0.4532752924
                        ],
                        "passed_time": 12.45110047,
                        "remaining_time": 44.66403931,
                        "test": [
                          0.7928654292,
                          0.4642108333
                        ]
                      },
                      {
                        "iteration": 109,
                        "learn": [
                          0.4530979032
                        ],
                        "passed_time": 12.56181923,
                        "remaining_time": 44.53735909,
                        "test": [
                          0.793005763,
                          0.4640884279
                        ]
                      },
                      {
                        "iteration": 110,
                        "learn": [
                          0.4529321102
                        ],
                        "passed_time": 12.68558462,
                        "remaining_time": 44.45668845,
                        "test": [
                          0.7931068034,
                          0.46398531
                        ]
                      },
                      {
                        "iteration": 111,
                        "learn": [
                          0.4525490348
                        ],
                        "passed_time": 12.79176124,
                        "remaining_time": 44.31431573,
                        "test": [
                          0.7933575331,
                          0.463778742
                        ]
                      },
                      {
                        "iteration": 112,
                        "learn": [
                          0.4521266724
                        ],
                        "passed_time": 12.95438817,
                        "remaining_time": 44.36591348,
                        "test": [
                          0.7933725021,
                          0.4636145279
                        ]
                      },
                      {
                        "iteration": 113,
                        "learn": [
                          0.4517700991
                        ],
                        "passed_time": 13.04970738,
                        "remaining_time": 44.1858513,
                        "test": [
                          0.7931947459,
                          0.4636368968
                        ]
                      },
                      {
                        "iteration": 114,
                        "learn": [
                          0.4514206082
                        ],
                        "passed_time": 13.18474799,
                        "remaining_time": 44.14024328,
                        "test": [
                          0.7934791558,
                          0.4634477821
                        ]
                      },
                      {
                        "iteration": 115,
                        "learn": [
                          0.4510593047
                        ],
                        "passed_time": 13.3032316,
                        "remaining_time": 44.03828393,
                        "test": [
                          0.7937036898,
                          0.4633168003
                        ]
                      },
                      {
                        "iteration": 116,
                        "learn": [
                          0.4506472112
                        ],
                        "passed_time": 13.46112784,
                        "remaining_time": 44.06505951,
                        "test": [
                          0.7939113839,
                          0.4630465044
                        ]
                      },
                      {
                        "iteration": 117,
                        "learn": [
                          0.4503608061
                        ],
                        "passed_time": 13.61362593,
                        "remaining_time": 44.0712297,
                        "test": [
                          0.7940030686,
                          0.4628978335
                        ]
                      },
                      {
                        "iteration": 118,
                        "learn": [
                          0.4500650511
                        ],
                        "passed_time": 13.72122181,
                        "remaining_time": 43.93097065,
                        "test": [
                          0.7938253125,
                          0.4629587884
                        ]
                      },
                      {
                        "iteration": 119,
                        "learn": [
                          0.449749491
                        ],
                        "passed_time": 13.83227906,
                        "remaining_time": 43.80221703,
                        "test": [
                          0.7939955842,
                          0.4628857589
                        ]
                      },
                      {
                        "iteration": 120,
                        "learn": [
                          0.4492703189
                        ],
                        "passed_time": 13.96386909,
                        "remaining_time": 43.73806929,
                        "test": [
                          0.7937411122,
                          0.4629428678
                        ]
                      },
                      {
                        "iteration": 121,
                        "learn": [
                          0.448700727
                        ],
                        "passed_time": 14.06736102,
                        "remaining_time": 43.58575792,
                        "test": [
                          0.7936251029,
                          0.4628753136
                        ]
                      },
                      {
                        "iteration": 122,
                        "learn": [
                          0.4482838511
                        ],
                        "passed_time": 14.18129998,
                        "remaining_time": 43.46626092,
                        "test": [
                          0.7939712596,
                          0.4625958055
                        ]
                      },
                      {
                        "iteration": 123,
                        "learn": [
                          0.4478984778
                        ],
                        "passed_time": 14.29861571,
                        "remaining_time": 43.35709279,
                        "test": [
                          0.7940797844,
                          0.4624852706
                        ]
                      },
                      {
                        "iteration": 124,
                        "learn": [
                          0.447507004
                        ],
                        "passed_time": 14.45204622,
                        "remaining_time": 43.35613865,
                        "test": [
                          0.7941415313,
                          0.4624019803
                        ]
                      },
                      {
                        "iteration": 125,
                        "learn": [
                          0.4470345323
                        ],
                        "passed_time": 14.57017299,
                        "remaining_time": 43.24797378,
                        "test": [
                          0.7942930918,
                          0.4622772546
                        ]
                      },
                      {
                        "iteration": 126,
                        "learn": [
                          0.4469818395
                        ],
                        "passed_time": 14.71574767,
                        "remaining_time": 43.22026677,
                        "test": [
                          0.794263154,
                          0.4622916882
                        ]
                      },
                      {
                        "iteration": 127,
                        "learn": [
                          0.4463609706
                        ],
                        "passed_time": 14.84180671,
                        "remaining_time": 43.13400075,
                        "test": [
                          0.7944184567,
                          0.462012835
                        ]
                      },
                      {
                        "iteration": 128,
                        "learn": [
                          0.4460028166
                        ],
                        "passed_time": 14.99338185,
                        "remaining_time": 43.12050129,
                        "test": [
                          0.7946579597,
                          0.4617971678
                        ]
                      },
                      {
                        "iteration": 129,
                        "learn": [
                          0.4456229726
                        ],
                        "passed_time": 15.06583705,
                        "remaining_time": 42.87969006,
                        "test": [
                          0.7945737594,
                          0.4618772609
                        ]
                      },
                      {
                        "iteration": 130,
                        "learn": [
                          0.4452443921
                        ],
                        "passed_time": 15.21508216,
                        "remaining_time": 42.8577505,
                        "test": [
                          0.7945307237,
                          0.4618483432
                        ]
                      },
                      {
                        "iteration": 131,
                        "learn": [
                          0.4449481677
                        ],
                        "passed_time": 15.32978056,
                        "remaining_time": 42.73757003,
                        "test": [
                          0.7943810344,
                          0.46184004
                        ]
                      },
                      {
                        "iteration": 132,
                        "learn": [
                          0.444580926
                        ],
                        "passed_time": 15.45751995,
                        "remaining_time": 42.65345729,
                        "test": [
                          0.7943604521,
                          0.4617503156
                        ]
                      },
                      {
                        "iteration": 133,
                        "learn": [
                          0.4443123612
                        ],
                        "passed_time": 15.58663345,
                        "remaining_time": 42.5724466,
                        "test": [
                          0.7941770826,
                          0.4618397563
                        ]
                      },
                      {
                        "iteration": 134,
                        "learn": [
                          0.4440340779
                        ],
                        "passed_time": 15.71570893,
                        "remaining_time": 42.49062043,
                        "test": [
                          0.7941826959,
                          0.4617888232
                        ]
                      },
                      {
                        "iteration": 135,
                        "learn": [
                          0.4437261489
                        ],
                        "passed_time": 15.89354166,
                        "remaining_time": 42.53859681,
                        "test": [
                          0.794248185,
                          0.4617117626
                        ]
                      },
                      {
                        "iteration": 136,
                        "learn": [
                          0.443210496
                        ],
                        "passed_time": 16.03375824,
                        "remaining_time": 42.48360761,
                        "test": [
                          0.7940685577,
                          0.4618070946
                        ]
                      },
                      {
                        "iteration": 137,
                        "learn": [
                          0.4430659154
                        ],
                        "passed_time": 16.16629664,
                        "remaining_time": 42.4072419,
                        "test": [
                          0.7941396602,
                          0.4617788049
                        ]
                      },
                      {
                        "iteration": 138,
                        "learn": [
                          0.4427740503
                        ],
                        "passed_time": 16.32242254,
                        "remaining_time": 42.39132761,
                        "test": [
                          0.7941172068,
                          0.4618241743
                        ]
                      },
                      {
                        "iteration": 139,
                        "learn": [
                          0.4424153847
                        ],
                        "passed_time": 16.53763483,
                        "remaining_time": 42.52534671,
                        "test": [
                          0.7942687673,
                          0.4617004198
                        ]
                      },
                      {
                        "iteration": 140,
                        "learn": [
                          0.4421800119
                        ],
                        "passed_time": 16.68718625,
                        "remaining_time": 42.48723308,
                        "test": [
                          0.7942276027,
                          0.4616681098
                        ]
                      },
                      {
                        "iteration": 141,
                        "learn": [
                          0.4416906459
                        ],
                        "passed_time": 16.87690906,
                        "remaining_time": 42.54882705,
                        "test": [
                          0.7940984956,
                          0.4617828275
                        ]
                      },
                      {
                        "iteration": 142,
                        "learn": [
                          0.441204347
                        ],
                        "passed_time": 17.07246612,
                        "remaining_time": 42.62147136,
                        "test": [
                          0.7939001572,
                          0.4618357423
                        ]
                      },
                      {
                        "iteration": 143,
                        "learn": [
                          0.4410337527
                        ],
                        "passed_time": 17.23815796,
                        "remaining_time": 42.61655719,
                        "test": [
                          0.7941172068,
                          0.4616721724
                        ]
                      },
                      {
                        "iteration": 144,
                        "learn": [
                          0.4406099229
                        ],
                        "passed_time": 17.46301878,
                        "remaining_time": 42.75428736,
                        "test": [
                          0.7941003667,
                          0.4615739059
                        ]
                      },
                      {
                        "iteration": 145,
                        "learn": [
                          0.4405337483
                        ],
                        "passed_time": 17.64286437,
                        "remaining_time": 42.77790403,
                        "test": [
                          0.7941396602,
                          0.4615388509
                        ]
                      },
                      {
                        "iteration": 146,
                        "learn": [
                          0.4401419838
                        ],
                        "passed_time": 17.79882987,
                        "remaining_time": 42.74140777,
                        "test": [
                          0.7943679365,
                          0.4612914464
                        ]
                      },
                      {
                        "iteration": 147,
                        "learn": [
                          0.4397156611
                        ],
                        "passed_time": 17.93177631,
                        "remaining_time": 42.64854907,
                        "test": [
                          0.794757129,
                          0.4608794217
                        ]
                      },
                      {
                        "iteration": 148,
                        "learn": [
                          0.4394665463
                        ],
                        "passed_time": 18.13470387,
                        "remaining_time": 42.72000709,
                        "test": [
                          0.7947683557,
                          0.4608469133
                        ]
                      },
                      {
                        "iteration": 149,
                        "learn": [
                          0.4394076435
                        ],
                        "passed_time": 18.29390122,
                        "remaining_time": 42.68576951,
                        "test": [
                          0.7946710576,
                          0.4609008199
                        ]
                      },
                      {
                        "iteration": 150,
                        "learn": [
                          0.4392476267
                        ],
                        "passed_time": 18.41370979,
                        "remaining_time": 42.55883919,
                        "test": [
                          0.7946729287,
                          0.4609017866
                        ]
                      },
                      {
                        "iteration": 151,
                        "learn": [
                          0.4387513343
                        ],
                        "passed_time": 18.55058793,
                        "remaining_time": 42.4710829,
                        "test": [
                          0.7948506848,
                          0.4608565305
                        ]
                      },
                      {
                        "iteration": 152,
                        "learn": [
                          0.4384486663
                        ],
                        "passed_time": 18.67046891,
                        "remaining_time": 42.34413537,
                        "test": [
                          0.7948301025,
                          0.460827486
                        ]
                      },
                      {
                        "iteration": 153,
                        "learn": [
                          0.4380550867
                        ],
                        "passed_time": 18.80048545,
                        "remaining_time": 42.24005172,
                        "test": [
                          0.7948469426,
                          0.4607851301
                        ]
                      },
                      {
                        "iteration": 154,
                        "learn": [
                          0.4378374054
                        ],
                        "passed_time": 18.92176526,
                        "remaining_time": 42.1161872,
                        "test": [
                          0.7949666941,
                          0.4605698767
                        ]
                      },
                      {
                        "iteration": 155,
                        "learn": [
                          0.4375031604
                        ],
                        "passed_time": 19.05159905,
                        "remaining_time": 42.01121842,
                        "test": [
                          0.7951032857,
                          0.4604827461
                        ]
                      },
                      {
                        "iteration": 156,
                        "learn": [
                          0.4371991842
                        ],
                        "passed_time": 19.19820725,
                        "remaining_time": 41.94258018,
                        "test": [
                          0.7950340543,
                          0.460476349
                        ]
                      },
                      {
                        "iteration": 157,
                        "learn": [
                          0.4368075959
                        ],
                        "passed_time": 19.39729581,
                        "remaining_time": 41.98655169,
                        "test": [
                          0.7950396677,
                          0.4604202009
                        ]
                      },
                      {
                        "iteration": 158,
                        "learn": [
                          0.4364555608
                        ],
                        "passed_time": 19.55699533,
                        "remaining_time": 41.94298999,
                        "test": [
                          0.7950808323,
                          0.4603450526
                        ]
                      },
                      {
                        "iteration": 159,
                        "learn": [
                          0.4362748632
                        ],
                        "passed_time": 19.68788692,
                        "remaining_time": 41.83675971,
                        "test": [
                          0.7951856148,
                          0.4603017167
                        ]
                      },
                      {
                        "iteration": 160,
                        "learn": [
                          0.436121057
                        ],
                        "passed_time": 19.85913302,
                        "remaining_time": 41.81519314,
                        "test": [
                          0.795204326,
                          0.4602491018
                        ]
                      },
                      {
                        "iteration": 161,
                        "learn": [
                          0.4356743491
                        ],
                        "passed_time": 19.97799641,
                        "remaining_time": 41.68248634,
                        "test": [
                          0.7951687748,
                          0.4602259753
                        ]
                      },
                      {
                        "iteration": 162,
                        "learn": [
                          0.4353949028
                        ],
                        "passed_time": 20.12661911,
                        "remaining_time": 41.61147631,
                        "test": [
                          0.7951631614,
                          0.4601814939
                        ]
                      },
                      {
                        "iteration": 163,
                        "learn": [
                          0.4351960554
                        ],
                        "passed_time": 20.27649467,
                        "remaining_time": 41.54208663,
                        "test": [
                          0.7951930993,
                          0.4601463976
                        ]
                      },
                      {
                        "iteration": 164,
                        "learn": [
                          0.4348381378
                        ],
                        "passed_time": 20.42618247,
                        "remaining_time": 41.47134016,
                        "test": [
                          0.7950490233,
                          0.4602186098
                        ]
                      },
                      {
                        "iteration": 165,
                        "learn": [
                          0.4345416847
                        ],
                        "passed_time": 20.59865349,
                        "remaining_time": 41.44548352,
                        "test": [
                          0.7951294813,
                          0.4601129608
                        ]
                      },
                      {
                        "iteration": 166,
                        "learn": [
                          0.4344669408
                        ],
                        "passed_time": 20.74600418,
                        "remaining_time": 41.3677808,
                        "test": [
                          0.7952099394,
                          0.4600780661
                        ]
                      },
                      {
                        "iteration": 167,
                        "learn": [
                          0.4343329852
                        ],
                        "passed_time": 20.85830741,
                        "remaining_time": 41.21998845,
                        "test": [
                          0.7951612903,
                          0.4600849351
                        ]
                      },
                      {
                        "iteration": 168,
                        "learn": [
                          0.4337918141
                        ],
                        "passed_time": 21.02441089,
                        "remaining_time": 41.1779882,
                        "test": [
                          0.7951669037,
                          0.4599684039
                        ]
                      },
                      {
                        "iteration": 169,
                        "learn": [
                          0.433378471
                        ],
                        "passed_time": 21.20616928,
                        "remaining_time": 41.16491683,
                        "test": [
                          0.7952548462,
                          0.4600141692
                        ]
                      },
                      {
                        "iteration": 170,
                        "learn": [
                          0.4330858879
                        ],
                        "passed_time": 21.35641643,
                        "remaining_time": 41.08924565,
                        "test": [
                          0.7950583789,
                          0.4600781024
                        ]
                      },
                      {
                        "iteration": 171,
                        "learn": [
                          0.4327250072
                        ],
                        "passed_time": 21.47952757,
                        "remaining_time": 40.96095956,
                        "test": [
                          0.7950976723,
                          0.4600947069
                        ]
                      },
                      {
                        "iteration": 172,
                        "learn": [
                          0.4322713395
                        ],
                        "passed_time": 21.66600391,
                        "remaining_time": 40.9525045,
                        "test": [
                          0.7951051568,
                          0.46004024
                        ]
                      },
                      {
                        "iteration": 173,
                        "learn": [
                          0.4317822189
                        ],
                        "passed_time": 21.77695717,
                        "remaining_time": 40.80050597,
                        "test": [
                          0.7951051568,
                          0.4601254746
                        ]
                      },
                      {
                        "iteration": 174,
                        "learn": [
                          0.4316244111
                        ],
                        "passed_time": 21.94939024,
                        "remaining_time": 40.7631533,
                        "test": [
                          0.7951519347,
                          0.4600953656
                        ]
                      },
                      {
                        "iteration": 175,
                        "learn": [
                          0.4311899382
                        ],
                        "passed_time": 22.12992322,
                        "remaining_time": 40.73917683,
                        "test": [
                          0.7951687748,
                          0.459967704
                        ]
                      },
                      {
                        "iteration": 176,
                        "learn": [
                          0.4309348835
                        ],
                        "passed_time": 22.25298382,
                        "remaining_time": 40.6085524,
                        "test": [
                          0.7952642018,
                          0.4598228423
                        ]
                      },
                      {
                        "iteration": 177,
                        "learn": [
                          0.430758969
                        ],
                        "passed_time": 22.40723057,
                        "remaining_time": 40.53442834,
                        "test": [
                          0.7952211661,
                          0.4598389771
                        ]
                      },
                      {
                        "iteration": 178,
                        "learn": [
                          0.430290289
                        ],
                        "passed_time": 22.60084134,
                        "remaining_time": 40.5300004,
                        "test": [
                          0.795219295,
                          0.4597163726
                        ]
                      },
                      {
                        "iteration": 179,
                        "learn": [
                          0.4300183838
                        ],
                        "passed_time": 22.83477554,
                        "remaining_time": 40.59515651,
                        "test": [
                          0.7952623307,
                          0.4597224598
                        ]
                      },
                      {
                        "iteration": 180,
                        "learn": [
                          0.4293783842
                        ],
                        "passed_time": 22.99375125,
                        "remaining_time": 40.52489862,
                        "test": [
                          0.7952529751,
                          0.4596747641
                        ]
                      },
                      {
                        "iteration": 181,
                        "learn": [
                          0.4289221421
                        ],
                        "passed_time": 23.20830281,
                        "remaining_time": 40.55077085,
                        "test": [
                          0.7951968416,
                          0.4595755734
                        ]
                      },
                      {
                        "iteration": 182,
                        "learn": [
                          0.4288095636
                        ],
                        "passed_time": 23.36545136,
                        "remaining_time": 40.47457968,
                        "test": [
                          0.7951032857,
                          0.4596654924
                        ]
                      },
                      {
                        "iteration": 183,
                        "learn": [
                          0.4287328425
                        ],
                        "passed_time": 23.47272494,
                        "remaining_time": 40.3118537,
                        "test": [
                          0.7951818726,
                          0.4596046897
                        ]
                      },
                      {
                        "iteration": 184,
                        "learn": [
                          0.4284039505
                        ],
                        "passed_time": 23.57541249,
                        "remaining_time": 40.14191857,
                        "test": [
                          0.795219295,
                          0.4594875533
                        ]
                      },
                      {
                        "iteration": 185,
                        "learn": [
                          0.4283458701
                        ],
                        "passed_time": 23.68418414,
                        "remaining_time": 39.98297753,
                        "test": [
                          0.7951369658,
                          0.4595406784
                        ]
                      },
                      {
                        "iteration": 186,
                        "learn": [
                          0.428050145
                        ],
                        "passed_time": 23.81769872,
                        "remaining_time": 39.86598769,
                        "test": [
                          0.7951126413,
                          0.4595377634
                        ]
                      },
                      {
                        "iteration": 187,
                        "learn": [
                          0.4275327395
                        ],
                        "passed_time": 23.92763426,
                        "remaining_time": 39.7096909,
                        "test": [
                          0.794788938,
                          0.4597300431
                        ]
                      },
                      {
                        "iteration": 188,
                        "learn": [
                          0.4269557967
                        ],
                        "passed_time": 24.08159395,
                        "remaining_time": 39.62632656,
                        "test": [
                          0.7945718883,
                          0.4599175455
                        ]
                      },
                      {
                        "iteration": 189,
                        "learn": [
                          0.4267615236
                        ],
                        "passed_time": 24.19427573,
                        "remaining_time": 39.47487092,
                        "test": [
                          0.7944034878,
                          0.4600496675
                        ]
                      },
                      {
                        "iteration": 190,
                        "learn": [
                          0.4264922093
                        ],
                        "passed_time": 24.29843901,
                        "remaining_time": 39.31004007,
                        "test": [
                          0.7943249008,
                          0.4600343802
                        ]
                      },
                      {
                        "iteration": 191,
                        "learn": [
                          0.4263782187
                        ],
                        "passed_time": 24.39899343,
                        "remaining_time": 39.14005195,
                        "test": [
                          0.7943005763,
                          0.4600509233
                        ]
                      },
                      {
                        "iteration": 192,
                        "learn": [
                          0.4260105474
                        ],
                        "passed_time": 24.52981937,
                        "remaining_time": 39.01893548,
                        "test": [
                          0.7944427812,
                          0.4599295359
                        ]
                      },
                      {
                        "iteration": 193,
                        "learn": [
                          0.4259081101
                        ],
                        "passed_time": 24.61890474,
                        "remaining_time": 38.83188068,
                        "test": [
                          0.7943604521,
                          0.4599949955
                        ]
                      },
                      {
                        "iteration": 194,
                        "learn": [
                          0.4258384508
                        ],
                        "passed_time": 24.71921896,
                        "remaining_time": 38.66339376,
                        "test": [
                          0.7943249008,
                          0.4600339015
                        ]
                      },
                      {
                        "iteration": 195,
                        "learn": [
                          0.4252140692
                        ],
                        "passed_time": 24.9011944,
                        "remaining_time": 38.6222607,
                        "test": [
                          0.793976873,
                          0.4601403587
                        ]
                      },
                      {
                        "iteration": 196,
                        "learn": [
                          0.4248006384
                        ],
                        "passed_time": 25.04224141,
                        "remaining_time": 38.51674694,
                        "test": [
                          0.7940386199,
                          0.4600647028
                        ]
                      },
                      {
                        "iteration": 197,
                        "learn": [
                          0.4244851996
                        ],
                        "passed_time": 25.21387582,
                        "remaining_time": 38.45752777,
                        "test": [
                          0.793913255,
                          0.46018047
                        ]
                      },
                      {
                        "iteration": 198,
                        "learn": [
                          0.4242921247
                        ],
                        "passed_time": 25.38648158,
                        "remaining_time": 38.39864802,
                        "test": [
                          0.7940928823,
                          0.4600640594
                        ]
                      },
                      {
                        "iteration": 199,
                        "learn": [
                          0.4241338637
                        ],
                        "passed_time": 25.5660648,
                        "remaining_time": 38.3490972,
                        "test": [
                          0.7941452736,
                          0.4599978803
                        ]
                      },
                      {
                        "iteration": 200,
                        "learn": [
                          0.4240524563
                        ],
                        "passed_time": 25.75502659,
                        "remaining_time": 38.31220374,
                        "test": [
                          0.7940797844,
                          0.4600340899
                        ]
                      },
                      {
                        "iteration": 201,
                        "learn": [
                          0.4237458043
                        ],
                        "passed_time": 25.90836976,
                        "remaining_time": 38.22125836,
                        "test": [
                          0.7940760422,
                          0.4600458012
                        ]
                      },
                      {
                        "iteration": 202,
                        "learn": [
                          0.4233420588
                        ],
                        "passed_time": 26.0810779,
                        "remaining_time": 38.15803023,
                        "test": [
                          0.793961904,
                          0.4600676106
                        ]
                      },
                      {
                        "iteration": 203,
                        "learn": [
                          0.4231309548
                        ],
                        "passed_time": 26.19349292,
                        "remaining_time": 38.00624463,
                        "test": [
                          0.7942294738,
                          0.4599588006
                        ]
                      },
                      {
                        "iteration": 204,
                        "learn": [
                          0.4227135746
                        ],
                        "passed_time": 26.32326217,
                        "remaining_time": 37.8798163,
                        "test": [
                          0.7941583714,
                          0.4600578375
                        ]
                      },
                      {
                        "iteration": 205,
                        "learn": [
                          0.4226075657
                        ],
                        "passed_time": 26.43692798,
                        "remaining_time": 37.73037294,
                        "test": [
                          0.7942070204,
                          0.4600266912
                        ]
                      },
                      {
                        "iteration": 206,
                        "learn": [
                          0.422532228
                        ],
                        "passed_time": 26.59100631,
                        "remaining_time": 37.63847753,
                        "test": [
                          0.7942182471,
                          0.4600124858
                        ]
                      },
                      {
                        "iteration": 207,
                        "learn": [
                          0.4220456336
                        ],
                        "passed_time": 26.73384644,
                        "remaining_time": 37.53020751,
                        "test": [
                          0.7944034878,
                          0.4599473734
                        ]
                      },
                      {
                        "iteration": 208,
                        "learn": [
                          0.421520865
                        ],
                        "passed_time": 26.86176842,
                        "remaining_time": 37.40083546,
                        "test": [
                          0.7942350872,
                          0.4599147068
                        ]
                      },
                      {
                        "iteration": 209,
                        "learn": [
                          0.4214474556
                        ],
                        "passed_time": 26.97269672,
                        "remaining_time": 37.24800976,
                        "test": [
                          0.7942575406,
                          0.4598965634
                        ]
                      },
                      {
                        "iteration": 210,
                        "learn": [
                          0.4210405312
                        ],
                        "passed_time": 27.09032999,
                        "remaining_time": 37.10476477,
                        "test": [
                          0.7942369583,
                          0.4598605435
                        ]
                      },
                      {
                        "iteration": 211,
                        "learn": [
                          0.4209328421
                        ],
                        "passed_time": 27.23958744,
                        "remaining_time": 37.00472255,
                        "test": [
                          0.794199536,
                          0.4599033704
                        ]
                      },
                      {
                        "iteration": 212,
                        "learn": [
                          0.4204554736
                        ],
                        "passed_time": 27.35903207,
                        "remaining_time": 36.86404791,
                        "test": [
                          0.7945625327,
                          0.4595319649
                        ]
                      },
                      {
                        "iteration": 213,
                        "learn": [
                          0.4200529778
                        ],
                        "passed_time": 27.47224917,
                        "remaining_time": 36.71524889,
                        "test": [
                          0.7945475638,
                          0.4595238341
                        ]
                      },
                      {
                        "iteration": 214,
                        "learn": [
                          0.4196083275
                        ],
                        "passed_time": 27.52436303,
                        "remaining_time": 36.48578355,
                        "test": [
                          0.7948899783,
                          0.459234068
                        ]
                      },
                      {
                        "iteration": 215,
                        "learn": [
                          0.4189058311
                        ],
                        "passed_time": 27.57602788,
                        "remaining_time": 36.25736999,
                        "test": [
                          0.7949592096,
                          0.4591127442
                        ]
                      },
                      {
                        "iteration": 216,
                        "learn": [
                          0.4188238507
                        ],
                        "passed_time": 27.63138128,
                        "remaining_time": 36.03539587,
                        "test": [
                          0.7949517252,
                          0.4591047343
                        ]
                      },
                      {
                        "iteration": 217,
                        "learn": [
                          0.4187468708
                        ],
                        "passed_time": 27.68104932,
                        "remaining_time": 35.80759592,
                        "test": [
                          0.7950022453,
                          0.4590524964
                        ]
                      },
                      {
                        "iteration": 218,
                        "learn": [
                          0.4182893362
                        ],
                        "passed_time": 27.73476488,
                        "remaining_time": 35.58661613,
                        "test": [
                          0.7949685652,
                          0.4589817558
                        ]
                      },
                      {
                        "iteration": 219,
                        "learn": [
                          0.4177665336
                        ],
                        "passed_time": 27.79180208,
                        "remaining_time": 35.37138446,
                        "test": [
                          0.7950359255,
                          0.4589788861
                        ]
                      },
                      {
                        "iteration": 220,
                        "learn": [
                          0.4176864109
                        ],
                        "passed_time": 27.85646328,
                        "remaining_time": 35.1672093,
                        "test": [
                          0.7949854053,
                          0.4590263068
                        ]
                      },
                      {
                        "iteration": 221,
                        "learn": [
                          0.4174121674
                        ],
                        "passed_time": 27.91579114,
                        "remaining_time": 34.95761233,
                        "test": [
                          0.7951163835,
                          0.4589494334
                        ]
                      },
                      {
                        "iteration": 222,
                        "learn": [
                          0.4167459537
                        ],
                        "passed_time": 27.97754091,
                        "remaining_time": 34.75237145,
                        "test": [
                          0.7952716863,
                          0.4588609893
                        ]
                      },
                      {
                        "iteration": 223,
                        "learn": [
                          0.4166804349
                        ],
                        "passed_time": 28.0379234,
                        "remaining_time": 34.54672704,
                        "test": [
                          0.7952286506,
                          0.4588974822
                        ]
                      },
                      {
                        "iteration": 224,
                        "learn": [
                          0.4164704544
                        ],
                        "passed_time": 28.09221856,
                        "remaining_time": 34.3349338,
                        "test": [
                          0.7953184642,
                          0.4588570202
                        ]
                      },
                      {
                        "iteration": 225,
                        "learn": [
                          0.4159217818
                        ],
                        "passed_time": 28.14365071,
                        "remaining_time": 34.12106325,
                        "test": [
                          0.7953858244,
                          0.4587621056
                        ]
                      },
                      {
                        "iteration": 226,
                        "learn": [
                          0.4158604417
                        ],
                        "passed_time": 28.19435057,
                        "remaining_time": 33.9077432,
                        "test": [
                          0.7953053664,
                          0.4588023476
                        ]
                      },
                      {
                        "iteration": 227,
                        "learn": [
                          0.4155477597
                        ],
                        "passed_time": 28.26851768,
                        "remaining_time": 33.72384566,
                        "test": [
                          0.7953689844,
                          0.4587845809
                        ]
                      },
                      {
                        "iteration": 228,
                        "learn": [
                          0.4154698888
                        ],
                        "passed_time": 28.31829163,
                        "remaining_time": 33.51203944,
                        "test": [
                          0.7954101489,
                          0.4587545752
                        ]
                      },
                      {
                        "iteration": 229,
                        "learn": [
                          0.4154034789
                        ],
                        "passed_time": 28.36775762,
                        "remaining_time": 33.30128068,
                        "test": [
                          0.7954363446,
                          0.45873518
                        ]
                      },
                      {
                        "iteration": 230,
                        "learn": [
                          0.4150926061
                        ],
                        "passed_time": 28.4415734,
                        "remaining_time": 33.12027379,
                        "test": [
                          0.7953764688,
                          0.4587265551
                        ]
                      },
                      {
                        "iteration": 231,
                        "learn": [
                          0.4146914639
                        ],
                        "passed_time": 28.49634598,
                        "remaining_time": 32.91819277,
                        "test": [
                          0.7954812514,
                          0.4587075615
                        ]
                      },
                      {
                        "iteration": 232,
                        "learn": [
                          0.4146040206
                        ],
                        "passed_time": 28.54428994,
                        "remaining_time": 32.70955113,
                        "test": [
                          0.7955261582,
                          0.4586783298
                        ]
                      },
                      {
                        "iteration": 233,
                        "learn": [
                          0.4143444862
                        ],
                        "passed_time": 28.59535415,
                        "remaining_time": 32.50582993,
                        "test": [
                          0.7956010029,
                          0.458602531
                        ]
                      },
                      {
                        "iteration": 234,
                        "learn": [
                          0.4142852166
                        ],
                        "passed_time": 28.64429944,
                        "remaining_time": 32.30101852,
                        "test": [
                          0.7955336427,
                          0.4586295064
                        ]
                      },
                      {
                        "iteration": 235,
                        "learn": [
                          0.4140061385
                        ],
                        "passed_time": 28.69503518,
                        "remaining_time": 32.09953088,
                        "test": [
                          0.7958236659,
                          0.4584316336
                        ]
                      },
                      {
                        "iteration": 236,
                        "learn": [
                          0.4138492068
                        ],
                        "passed_time": 28.74519039,
                        "remaining_time": 31.89867119,
                        "test": [
                          0.7958723149,
                          0.4583663208
                        ]
                      },
                      {
                        "iteration": 237,
                        "learn": [
                          0.4132609607
                        ],
                        "passed_time": 28.80059651,
                        "remaining_time": 31.70485835,
                        "test": [
                          0.7956702343,
                          0.4585392066
                        ]
                      },
                      {
                        "iteration": 238,
                        "learn": [
                          0.4128983582
                        ],
                        "passed_time": 28.86561674,
                        "remaining_time": 31.5227028,
                        "test": [
                          0.7958330215,
                          0.4583555371
                        ]
                      },
                      {
                        "iteration": 239,
                        "learn": [
                          0.4126784862
                        ],
                        "passed_time": 28.92212567,
                        "remaining_time": 31.33230281,
                        "test": [
                          0.7958479904,
                          0.4583430626
                        ]
                      },
                      {
                        "iteration": 240,
                        "learn": [
                          0.4125654041
                        ],
                        "passed_time": 28.97405241,
                        "remaining_time": 31.13808952,
                        "test": [
                          0.7959247062,
                          0.4583146244
                        ]
                      },
                      {
                        "iteration": 241,
                        "learn": [
                          0.4123506041
                        ],
                        "passed_time": 29.02298278,
                        "remaining_time": 30.94185768,
                        "test": [
                          0.7959022528,
                          0.4583457424
                        ]
                      },
                      {
                        "iteration": 242,
                        "learn": [
                          0.4122696598
                        ],
                        "passed_time": 29.07066322,
                        "remaining_time": 30.74551625,
                        "test": [
                          0.7958667016,
                          0.4583545323
                        ]
                      },
                      {
                        "iteration": 243,
                        "learn": [
                          0.4117851255
                        ],
                        "passed_time": 29.12159369,
                        "remaining_time": 30.55380322,
                        "test": [
                          0.7964336502,
                          0.4579043123
                        ]
                      },
                      {
                        "iteration": 244,
                        "learn": [
                          0.4114913848
                        ],
                        "passed_time": 29.19934584,
                        "remaining_time": 30.39115587,
                        "test": [
                          0.7966338597,
                          0.457798027
                        ]
                      },
                      {
                        "iteration": 245,
                        "learn": [
                          0.4112113613
                        ],
                        "passed_time": 29.26662819,
                        "remaining_time": 30.21838846,
                        "test": [
                          0.7965795973,
                          0.4577990463
                        ]
                      },
                      {
                        "iteration": 246,
                        "learn": [
                          0.4109897797
                        ],
                        "passed_time": 29.31592954,
                        "remaining_time": 30.02805739,
                        "test": [
                          0.7967405134,
                          0.4577187987
                        ]
                      },
                      {
                        "iteration": 247,
                        "learn": [
                          0.4106722302
                        ],
                        "passed_time": 29.36655981,
                        "remaining_time": 29.840214,
                        "test": [
                          0.7966899933,
                          0.4577816795
                        ]
                      },
                      {
                        "iteration": 248,
                        "learn": [
                          0.4099541575
                        ],
                        "passed_time": 29.420233,
                        "remaining_time": 29.65654009,
                        "test": [
                          0.7966787666,
                          0.4577471657
                        ]
                      },
                      {
                        "iteration": 249,
                        "learn": [
                          0.4094884216
                        ],
                        "passed_time": 29.47477127,
                        "remaining_time": 29.47477127,
                        "test": [
                          0.796860265,
                          0.4575798313
                        ]
                      },
                      {
                        "iteration": 250,
                        "learn": [
                          0.4091170313
                        ],
                        "passed_time": 29.52427026,
                        "remaining_time": 29.28901711,
                        "test": [
                          0.7966993489,
                          0.4576593733
                        ]
                      },
                      {
                        "iteration": 251,
                        "learn": [
                          0.4088289691
                        ],
                        "passed_time": 29.57452255,
                        "remaining_time": 29.10508568,
                        "test": [
                          0.7965664995,
                          0.4576683892
                        ]
                      },
                      {
                        "iteration": 252,
                        "learn": [
                          0.4087917318
                        ],
                        "passed_time": 29.62444087,
                        "remaining_time": 28.92188496,
                        "test": [
                          0.796510366,
                          0.4577241155
                        ]
                      },
                      {
                        "iteration": 253,
                        "learn": [
                          0.4087310346
                        ],
                        "passed_time": 29.67419524,
                        "remaining_time": 28.73957492,
                        "test": [
                          0.7964224235,
                          0.4577958774
                        ]
                      },
                      {
                        "iteration": 254,
                        "learn": [
                          0.4084206194
                        ],
                        "passed_time": 29.72576217,
                        "remaining_time": 28.560046,
                        "test": [
                          0.7964935259,
                          0.457637697
                        ]
                      },
                      {
                        "iteration": 255,
                        "learn": [
                          0.4079633737
                        ],
                        "passed_time": 29.78119376,
                        "remaining_time": 28.38520031,
                        "test": [
                          0.7966207619,
                          0.4575049314
                        ]
                      },
                      {
                        "iteration": 256,
                        "learn": [
                          0.4077424602
                        ],
                        "passed_time": 29.83261226,
                        "remaining_time": 28.20748941,
                        "test": [
                          0.7967685802,
                          0.4574932343
                        ]
                      },
                      {
                        "iteration": 257,
                        "learn": [
                          0.4072911849
                        ],
                        "passed_time": 29.89647038,
                        "remaining_time": 28.0424257,
                        "test": [
                          0.7967872914,
                          0.4574389272
                        ]
                      },
                      {
                        "iteration": 258,
                        "learn": [
                          0.4070027985
                        ],
                        "passed_time": 29.9451127,
                        "remaining_time": 27.86398517,
                        "test": [
                          0.7967629668,
                          0.4574133188
                        ]
                      },
                      {
                        "iteration": 259,
                        "learn": [
                          0.4064631044
                        ],
                        "passed_time": 29.99722348,
                        "remaining_time": 27.68974475,
                        "test": [
                          0.7971259636,
                          0.4571426507
                        ]
                      },
                      {
                        "iteration": 260,
                        "learn": [
                          0.4059070041
                        ],
                        "passed_time": 30.04868187,
                        "remaining_time": 27.51584278,
                        "test": [
                          0.7973112043,
                          0.4570327033
                        ]
                      },
                      {
                        "iteration": 261,
                        "learn": [
                          0.4055577156
                        ],
                        "passed_time": 30.09833121,
                        "remaining_time": 27.34123217,
                        "test": [
                          0.797290622,
                          0.4570224192
                        ]
                      },
                      {
                        "iteration": 262,
                        "learn": [
                          0.4050795416
                        ],
                        "passed_time": 30.14931455,
                        "remaining_time": 27.16877395,
                        "test": [
                          0.7975638051,
                          0.4568097589
                        ]
                      },
                      {
                        "iteration": 263,
                        "learn": [
                          0.4045880541
                        ],
                        "passed_time": 30.20299139,
                        "remaining_time": 26.99964382,
                        "test": [
                          0.797339271,
                          0.4569028064
                        ]
                      },
                      {
                        "iteration": 264,
                        "learn": [
                          0.4045341755
                        ],
                        "passed_time": 30.26966395,
                        "remaining_time": 26.84290954,
                        "test": [
                          0.7973243021,
                          0.4569169045
                        ]
                      },
                      {
                        "iteration": 265,
                        "learn": [
                          0.4041906786
                        ],
                        "passed_time": 30.32012295,
                        "remaining_time": 26.67258936,
                        "test": [
                          0.7973635955,
                          0.4568436477
                        ]
                      },
                      {
                        "iteration": 266,
                        "learn": [
                          0.4040579391
                        ],
                        "passed_time": 30.36848831,
                        "remaining_time": 26.50133998,
                        "test": [
                          0.7973897912,
                          0.4568062857
                        ]
                      },
                      {
                        "iteration": 267,
                        "learn": [
                          0.4037122997
                        ],
                        "passed_time": 30.41962795,
                        "remaining_time": 26.33340927,
                        "test": [
                          0.7972382307,
                          0.4568532565
                        ]
                      },
                      {
                        "iteration": 268,
                        "learn": [
                          0.403651744
                        ],
                        "passed_time": 30.47077575,
                        "remaining_time": 26.1663539,
                        "test": [
                          0.7972344884,
                          0.4568577874
                        ]
                      },
                      {
                        "iteration": 269,
                        "learn": [
                          0.4032966896
                        ],
                        "passed_time": 30.52104148,
                        "remaining_time": 25.99940571,
                        "test": [
                          0.7971689993,
                          0.4569319605
                        ]
                      },
                      {
                        "iteration": 270,
                        "learn": [
                          0.4029554202
                        ],
                        "passed_time": 30.57211626,
                        "remaining_time": 25.8340023,
                        "test": [
                          0.7970660879,
                          0.4569486826
                        ]
                      },
                      {
                        "iteration": 271,
                        "learn": [
                          0.4029072201
                        ],
                        "passed_time": 30.62104239,
                        "remaining_time": 25.66763847,
                        "test": [
                          0.7970080832,
                          0.457009772
                        ]
                      },
                      {
                        "iteration": 272,
                        "learn": [
                          0.4028540533
                        ],
                        "passed_time": 30.66994191,
                        "remaining_time": 25.50211287,
                        "test": [
                          0.7969781453,
                          0.45702204
                        ]
                      },
                      {
                        "iteration": 273,
                        "learn": [
                          0.402513726
                        ],
                        "passed_time": 30.71967581,
                        "remaining_time": 25.33812677,
                        "test": [
                          0.7970024699,
                          0.4569729918
                        ]
                      },
                      {
                        "iteration": 274,
                        "learn": [
                          0.4020623203
                        ],
                        "passed_time": 30.77214571,
                        "remaining_time": 25.17721012,
                        "test": [
                          0.7968359404,
                          0.4570937854
                        ]
                      },
                      {
                        "iteration": 275,
                        "learn": [
                          0.4016577267
                        ],
                        "passed_time": 30.82529495,
                        "remaining_time": 25.01763069,
                        "test": [
                          0.7968247137,
                          0.4571212632
                        ]
                      },
                      {
                        "iteration": 276,
                        "learn": [
                          0.40114924
                        ],
                        "passed_time": 30.88337124,
                        "remaining_time": 24.86278623,
                        "test": [
                          0.7970885413,
                          0.4569318232
                        ]
                      },
                      {
                        "iteration": 277,
                        "learn": [
                          0.4006780855
                        ],
                        "passed_time": 30.93863384,
                        "remaining_time": 24.70639106,
                        "test": [
                          0.7973411421,
                          0.4568110405
                        ]
                      },
                      {
                        "iteration": 278,
                        "learn": [
                          0.4003265119
                        ],
                        "passed_time": 30.98873602,
                        "remaining_time": 24.54663319,
                        "test": [
                          0.797402889,
                          0.4567647151
                        ]
                      },
                      {
                        "iteration": 279,
                        "learn": [
                          0.400270707
                        ],
                        "passed_time": 31.03830186,
                        "remaining_time": 24.38723717,
                        "test": [
                          0.7973280443,
                          0.4568335009
                        ]
                      },
                      {
                        "iteration": 280,
                        "learn": [
                          0.3998250646
                        ],
                        "passed_time": 31.09223112,
                        "remaining_time": 24.23202354,
                        "test": [
                          0.797466507,
                          0.4567439554
                        ]
                      },
                      {
                        "iteration": 281,
                        "learn": [
                          0.39944578
                        ],
                        "passed_time": 31.15567103,
                        "remaining_time": 24.08488044,
                        "test": [
                          0.79737108,
                          0.4567554549
                        ]
                      },
                      {
                        "iteration": 282,
                        "learn": [
                          0.3993921534
                        ],
                        "passed_time": 31.20569997,
                        "remaining_time": 23.92804556,
                        "test": [
                          0.7973673378,
                          0.4567577174
                        ]
                      },
                      {
                        "iteration": 283,
                        "learn": [
                          0.3991739803
                        ],
                        "passed_time": 31.28129279,
                        "remaining_time": 23.79140579,
                        "test": [
                          0.7972531996,
                          0.4568158013
                        ]
                      },
                      {
                        "iteration": 284,
                        "learn": [
                          0.3988717657
                        ],
                        "passed_time": 31.39002086,
                        "remaining_time": 23.68019118,
                        "test": [
                          0.7971933239,
                          0.4568592627
                        ]
                      },
                      {
                        "iteration": 285,
                        "learn": [
                          0.3984760173
                        ],
                        "passed_time": 31.49706279,
                        "remaining_time": 23.5677323,
                        "test": [
                          0.7970193099,
                          0.4569792248
                        ]
                      },
                      {
                        "iteration": 286,
                        "learn": [
                          0.3982250185
                        ],
                        "passed_time": 31.59958797,
                        "remaining_time": 23.45195901,
                        "test": [
                          0.7971259636,
                          0.4569182117
                        ]
                      },
                      {
                        "iteration": 287,
                        "learn": [
                          0.3981481445
                        ],
                        "passed_time": 31.69938707,
                        "remaining_time": 23.33427104,
                        "test": [
                          0.7970941546,
                          0.4569453019
                        ]
                      },
                      {
                        "iteration": 288,
                        "learn": [
                          0.3976772648
                        ],
                        "passed_time": 31.80199116,
                        "remaining_time": 23.21875479,
                        "test": [
                          0.797163386,
                          0.4569673189
                        ]
                      },
                      {
                        "iteration": 289,
                        "learn": [
                          0.3976175642
                        ],
                        "passed_time": 31.90412885,
                        "remaining_time": 23.10298986,
                        "test": [
                          0.797148417,
                          0.4569703385
                        ]
                      },
                      {
                        "iteration": 290,
                        "learn": [
                          0.3975498671
                        ],
                        "passed_time": 32.00847382,
                        "remaining_time": 22.98890388,
                        "test": [
                          0.7971446748,
                          0.4569545957
                        ]
                      },
                      {
                        "iteration": 291,
                        "learn": [
                          0.3973771421
                        ],
                        "passed_time": 32.10949029,
                        "remaining_time": 22.87251363,
                        "test": [
                          0.797116608,
                          0.4569446554
                        ]
                      },
                      {
                        "iteration": 292,
                        "learn": [
                          0.3970254154
                        ],
                        "passed_time": 32.2137953,
                        "remaining_time": 22.75855163,
                        "test": [
                          0.797195195,
                          0.4568714961
                        ]
                      },
                      {
                        "iteration": 293,
                        "learn": [
                          0.3968829391
                        ],
                        "passed_time": 32.33064916,
                        "remaining_time": 22.65344805,
                        "test": [
                          0.7972831375,
                          0.4568110193
                        ]
                      },
                      {
                        "iteration": 294,
                        "learn": [
                          0.3966435021
                        ],
                        "passed_time": 32.42352383,
                        "remaining_time": 22.5316013,
                        "test": [
                          0.7972101639,
                          0.4568249529
                        ]
                      },
                      {
                        "iteration": 295,
                        "learn": [
                          0.3962520393
                        ],
                        "passed_time": 32.51967455,
                        "remaining_time": 22.41220813,
                        "test": [
                          0.7971877105,
                          0.4567658818
                        ]
                      },
                      {
                        "iteration": 296,
                        "learn": [
                          0.3960926521
                        ],
                        "passed_time": 32.62449232,
                        "remaining_time": 22.29889543,
                        "test": [
                          0.7973617244,
                          0.4566779251
                        ]
                      },
                      {
                        "iteration": 297,
                        "learn": [
                          0.3957743446
                        ],
                        "passed_time": 32.72696916,
                        "remaining_time": 22.18405292,
                        "test": [
                          0.7974365691,
                          0.4565493976
                        ]
                      },
                      {
                        "iteration": 298,
                        "learn": [
                          0.3953929405
                        ],
                        "passed_time": 32.8360637,
                        "remaining_time": 22.07374182,
                        "test": [
                          0.7974421825,
                          0.4564546857
                        ]
                      },
                      {
                        "iteration": 299,
                        "learn": [
                          0.3953370964
                        ],
                        "passed_time": 32.93293346,
                        "remaining_time": 21.95528897,
                        "test": [
                          0.7974066312,
                          0.4564767974
                        ]
                      },
                      {
                        "iteration": 300,
                        "learn": [
                          0.3950006476
                        ],
                        "passed_time": 33.03841243,
                        "remaining_time": 21.84267134,
                        "test": [
                          0.7974964449,
                          0.4563790559
                        ]
                      },
                      {
                        "iteration": 301,
                        "learn": [
                          0.3947409775
                        ],
                        "passed_time": 33.14078695,
                        "remaining_time": 21.72806561,
                        "test": [
                          0.797625552,
                          0.4562876586
                        ]
                      },
                      {
                        "iteration": 302,
                        "learn": [
                          0.394699987
                        ],
                        "passed_time": 33.23905881,
                        "remaining_time": 21.61087322,
                        "test": [
                          0.7976218097,
                          0.4562900158
                        ]
                      },
                      {
                        "iteration": 303,
                        "learn": [
                          0.3943408394
                        ],
                        "passed_time": 33.36692401,
                        "remaining_time": 21.51288522,
                        "test": [
                          0.7976985256,
                          0.4562995623
                        ]
                      },
                      {
                        "iteration": 304,
                        "learn": [
                          0.3942081903
                        ],
                        "passed_time": 33.46717306,
                        "remaining_time": 21.39704507,
                        "test": [
                          0.7977022678,
                          0.456296293
                        ]
                      },
                      {
                        "iteration": 305,
                        "learn": [
                          0.3939274346
                        ],
                        "passed_time": 33.57066912,
                        "remaining_time": 21.28336539,
                        "test": [
                          0.7976367787,
                          0.4563074845
                        ]
                      },
                      {
                        "iteration": 306,
                        "learn": [
                          0.3935225646
                        ],
                        "passed_time": 33.67376187,
                        "remaining_time": 21.16949851,
                        "test": [
                          0.7976648454,
                          0.4562384602
                        ]
                      },
                      {
                        "iteration": 307,
                        "learn": [
                          0.3929184692
                        ],
                        "passed_time": 33.78316372,
                        "remaining_time": 21.05963453,
                        "test": [
                          0.7979118329,
                          0.4560831193
                        ]
                      },
                      {
                        "iteration": 308,
                        "learn": [
                          0.3928640567
                        ],
                        "passed_time": 33.88422972,
                        "remaining_time": 20.94462096,
                        "test": [
                          0.7978613128,
                          0.4561518606
                        ]
                      },
                      {
                        "iteration": 309,
                        "learn": [
                          0.3924179435
                        ],
                        "passed_time": 33.98976973,
                        "remaining_time": 20.83243951,
                        "test": [
                          0.7979829354,
                          0.4559151403
                        ]
                      },
                      {
                        "iteration": 310,
                        "learn": [
                          0.3923621022
                        ],
                        "passed_time": 34.09002595,
                        "remaining_time": 20.71708972,
                        "test": [
                          0.7979679665,
                          0.455919183
                        ]
                      },
                      {
                        "iteration": 311,
                        "learn": [
                          0.3919946979
                        ],
                        "passed_time": 34.19027871,
                        "remaining_time": 20.60183461,
                        "test": [
                          0.7981475937,
                          0.4556821551
                        ]
                      },
                      {
                        "iteration": 312,
                        "learn": [
                          0.3919473592
                        ],
                        "passed_time": 34.29226526,
                        "remaining_time": 20.48771119,
                        "test": [
                          0.798087718,
                          0.4557458219
                        ]
                      },
                      {
                        "iteration": 313,
                        "learn": [
                          0.3915870231
                        ],
                        "passed_time": 34.41820072,
                        "remaining_time": 20.38785138,
                        "test": [
                          0.7978201482,
                          0.4560095156
                        ]
                      },
                      {
                        "iteration": 314,
                        "learn": [
                          0.3909579135
                        ],
                        "passed_time": 34.524625,
                        "remaining_time": 20.27636706,
                        "test": [
                          0.7975956141,
                          0.4561575263
                        ]
                      },
                      {
                        "iteration": 315,
                        "learn": [
                          0.3906371799
                        ],
                        "passed_time": 34.63188736,
                        "remaining_time": 20.16540276,
                        "test": [
                          0.7976274231,
                          0.456136216
                        ]
                      },
                      {
                        "iteration": 316,
                        "learn": [
                          0.3901502304
                        ],
                        "passed_time": 34.73935781,
                        "remaining_time": 20.05458195,
                        "test": [
                          0.7977584013,
                          0.4560383246
                        ]
                      },
                      {
                        "iteration": 317,
                        "learn": [
                          0.3901200272
                        ],
                        "passed_time": 34.84303961,
                        "remaining_time": 19.94161387,
                        "test": [
                          0.7977509168,
                          0.4560719264
                        ]
                      },
                      {
                        "iteration": 318,
                        "learn": [
                          0.3897942166
                        ],
                        "passed_time": 34.9484102,
                        "remaining_time": 19.82966221,
                        "test": [
                          0.7978426016,
                          0.4560197321
                        ]
                      },
                      {
                        "iteration": 319,
                        "learn": [
                          0.3895785679
                        ],
                        "passed_time": 35.04977883,
                        "remaining_time": 19.71550059,
                        "test": [
                          0.7978220193,
                          0.456059448
                        ]
                      },
                      {
                        "iteration": 320,
                        "learn": [
                          0.3891467403
                        ],
                        "passed_time": 35.15909876,
                        "remaining_time": 19.60585258,
                        "test": [
                          0.7976760722,
                          0.4562756807
                        ]
                      },
                      {
                        "iteration": 321,
                        "learn": [
                          0.3888771228
                        ],
                        "passed_time": 35.26929437,
                        "remaining_time": 19.49669068,
                        "test": [
                          0.7976311653,
                          0.4562371255
                        ]
                      },
                      {
                        "iteration": 322,
                        "learn": [
                          0.3888418874
                        ],
                        "passed_time": 35.32236903,
                        "remaining_time": 19.3562208,
                        "test": [
                          0.7975843874,
                          0.4562754338
                        ]
                      },
                      {
                        "iteration": 323,
                        "learn": [
                          0.3884228231
                        ],
                        "passed_time": 35.3766777,
                        "remaining_time": 19.21696073,
                        "test": [
                          0.7977172367,
                          0.4561919168
                        ]
                      },
                      {
                        "iteration": 324,
                        "learn": [
                          0.3881505244
                        ],
                        "passed_time": 35.44927981,
                        "remaining_time": 19.08807374,
                        "test": [
                          0.7975843874,
                          0.4564044962
                        ]
                      },
                      {
                        "iteration": 325,
                        "learn": [
                          0.3879668666
                        ],
                        "passed_time": 35.50218702,
                        "remaining_time": 18.94902007,
                        "test": [
                          0.7976985256,
                          0.4563768322
                        ]
                      },
                      {
                        "iteration": 326,
                        "learn": [
                          0.3877248113
                        ],
                        "passed_time": 35.55301606,
                        "remaining_time": 18.80939382,
                        "test": [
                          0.7978257615,
                          0.4563349429
                        ]
                      },
                      {
                        "iteration": 327,
                        "learn": [
                          0.3873125573
                        ],
                        "passed_time": 35.60559214,
                        "remaining_time": 18.67122515,
                        "test": [
                          0.7976835566,
                          0.4563553086
                        ]
                      },
                      {
                        "iteration": 328,
                        "learn": [
                          0.3870164835
                        ],
                        "passed_time": 35.65850737,
                        "remaining_time": 18.53375307,
                        "test": [
                          0.7975357383,
                          0.4563671347
                        ]
                      },
                      {
                        "iteration": 329,
                        "learn": [
                          0.3867697244
                        ],
                        "passed_time": 35.71018779,
                        "remaining_time": 18.39615735,
                        "test": [
                          0.7974010179,
                          0.4564936695
                        ]
                      },
                      {
                        "iteration": 330,
                        "learn": [
                          0.3864886056
                        ],
                        "passed_time": 35.76044151,
                        "remaining_time": 18.25835231,
                        "test": [
                          0.7975338672,
                          0.4564151555
                        ]
                      },
                      {
                        "iteration": 331,
                        "learn": [
                          0.3864501186
                        ],
                        "passed_time": 35.80954182,
                        "remaining_time": 18.12049104,
                        "test": [
                          0.7975001871,
                          0.4564592703
                        ]
                      },
                      {
                        "iteration": 332,
                        "learn": [
                          0.386219047
                        ],
                        "passed_time": 35.86148449,
                        "remaining_time": 17.98458832,
                        "test": [
                          0.7976854277,
                          0.4563534729
                        ]
                      },
                      {
                        "iteration": 333,
                        "learn": [
                          0.3857621484
                        ],
                        "passed_time": 35.91319768,
                        "remaining_time": 17.8490743,
                        "test": [
                          0.7974159868,
                          0.4565574858
                        ]
                      },
                      {
                        "iteration": 334,
                        "learn": [
                          0.3852139851
                        ],
                        "passed_time": 35.97396003,
                        "remaining_time": 17.71851763,
                        "test": [
                          0.7972924931,
                          0.4566149123
                        ]
                      },
                      {
                        "iteration": 335,
                        "learn": [
                          0.384910365
                        ],
                        "passed_time": 36.02286653,
                        "remaining_time": 17.58258962,
                        "test": [
                          0.7976611032,
                          0.4563754687
                        ]
                      },
                      {
                        "iteration": 336,
                        "learn": [
                          0.384533426
                        ],
                        "passed_time": 36.08444021,
                        "remaining_time": 17.45330491,
                        "test": [
                          0.7977789836,
                          0.4562966357
                        ]
                      },
                      {
                        "iteration": 337,
                        "learn": [
                          0.384115634
                        ],
                        "passed_time": 36.13614462,
                        "remaining_time": 17.31969062,
                        "test": [
                          0.7977434324,
                          0.4562965704
                        ]
                      },
                      {
                        "iteration": 338,
                        "learn": [
                          0.3838071619
                        ],
                        "passed_time": 36.18878168,
                        "remaining_time": 17.18700251,
                        "test": [
                          0.7979305441,
                          0.4561653115
                        ]
                      },
                      {
                        "iteration": 339,
                        "learn": [
                          0.3836368885
                        ],
                        "passed_time": 36.23991427,
                        "remaining_time": 17.05407731,
                        "test": [
                          0.7979848065,
                          0.4561408357
                        ]
                      },
                      {
                        "iteration": 340,
                        "learn": [
                          0.3832599513
                        ],
                        "passed_time": 36.29159529,
                        "remaining_time": 16.92188754,
                        "test": [
                          0.7980484245,
                          0.4561485472
                        ]
                      },
                      {
                        "iteration": 341,
                        "learn": [
                          0.3830485999
                        ],
                        "passed_time": 36.34136524,
                        "remaining_time": 16.7892857,
                        "test": [
                          0.798055909,
                          0.4561677299
                        ]
                      },
                      {
                        "iteration": 342,
                        "learn": [
                          0.3828550641
                        ],
                        "passed_time": 36.39249697,
                        "remaining_time": 16.65779016,
                        "test": [
                          0.7979006062,
                          0.4562956674
                        ]
                      },
                      {
                        "iteration": 343,
                        "learn": [
                          0.3825965103
                        ],
                        "passed_time": 36.46406402,
                        "remaining_time": 16.53602903,
                        "test": [
                          0.7979679665,
                          0.456265214
                        ]
                      },
                      {
                        "iteration": 344,
                        "learn": [
                          0.3822969998
                        ],
                        "passed_time": 36.5169699,
                        "remaining_time": 16.40617488,
                        "test": [
                          0.7980259711,
                          0.4562053489
                        ]
                      },
                      {
                        "iteration": 345,
                        "learn": [
                          0.3820930015
                        ],
                        "passed_time": 36.5678275,
                        "remaining_time": 16.27585386,
                        "test": [
                          0.7980446823,
                          0.4561803904
                        ]
                      },
                      {
                        "iteration": 346,
                        "learn": [
                          0.3820079205
                        ],
                        "passed_time": 36.61675315,
                        "remaining_time": 16.145139,
                        "test": [
                          0.7980914602,
                          0.4561189616
                        ]
                      },
                      {
                        "iteration": 347,
                        "learn": [
                          0.3819693241
                        ],
                        "passed_time": 36.66507265,
                        "remaining_time": 16.01462943,
                        "test": [
                          0.798055909,
                          0.4561436727
                        ]
                      },
                      {
                        "iteration": 348,
                        "learn": [
                          0.3816949446
                        ],
                        "passed_time": 36.71557641,
                        "remaining_time": 15.88553593,
                        "test": [
                          0.7978388594,
                          0.4562710976
                        ]
                      },
                      {
                        "iteration": 349,
                        "learn": [
                          0.3816524233
                        ],
                        "passed_time": 36.76589905,
                        "remaining_time": 15.75681388,
                        "test": [
                          0.7978257615,
                          0.4563157752
                        ]
                      },
                      {
                        "iteration": 350,
                        "learn": [
                          0.3814524956
                        ],
                        "passed_time": 36.8155155,
                        "remaining_time": 15.62823877,
                        "test": [
                          0.7979324152,
                          0.4562307813
                        ]
                      },
                      {
                        "iteration": 351,
                        "learn": [
                          0.3812289742
                        ],
                        "passed_time": 36.86602849,
                        "remaining_time": 15.50048925,
                        "test": [
                          0.7980802335,
                          0.4561124845
                        ]
                      },
                      {
                        "iteration": 352,
                        "learn": [
                          0.3809731609
                        ],
                        "passed_time": 36.91641104,
                        "remaining_time": 15.37312301,
                        "test": [
                          0.7983814834,
                          0.4558257556
                        ]
                      },
                      {
                        "iteration": 353,
                        "learn": [
                          0.3806104839
                        ],
                        "passed_time": 36.97087715,
                        "remaining_time": 15.24787589,
                        "test": [
                          0.7985049772,
                          0.4557149589
                        ]
                      },
                      {
                        "iteration": 354,
                        "learn": [
                          0.3805760696
                        ],
                        "passed_time": 37.0187014,
                        "remaining_time": 15.12031466,
                        "test": [
                          0.7984806526,
                          0.4557589408
                        ]
                      },
                      {
                        "iteration": 355,
                        "learn": [
                          0.380530869
                        ],
                        "passed_time": 37.07933361,
                        "remaining_time": 14.99838213,
                        "test": [
                          0.7984993638,
                          0.4557228342
                        ]
                      },
                      {
                        "iteration": 356,
                        "learn": [
                          0.3801861693
                        ],
                        "passed_time": 37.13062206,
                        "remaining_time": 14.87305029,
                        "test": [
                          0.7986284709,
                          0.4555901374
                        ]
                      },
                      {
                        "iteration": 357,
                        "learn": [
                          0.3800446618
                        ],
                        "passed_time": 37.17839399,
                        "remaining_time": 14.74673728,
                        "test": [
                          0.7988324227,
                          0.4554890869
                        ]
                      },
                      {
                        "iteration": 358,
                        "learn": [
                          0.3798334952
                        ],
                        "passed_time": 37.23743029,
                        "remaining_time": 14.62528599,
                        "test": [
                          0.7987332535,
                          0.4554900613
                        ]
                      },
                      {
                        "iteration": 359,
                        "learn": [
                          0.3795241246
                        ],
                        "passed_time": 37.28885366,
                        "remaining_time": 14.50122087,
                        "test": [
                          0.7985461418,
                          0.4555614511
                        ]
                      },
                      {
                        "iteration": 360,
                        "learn": [
                          0.3794492097
                        ],
                        "passed_time": 37.33837827,
                        "remaining_time": 14.37682709,
                        "test": [
                          0.7985405284,
                          0.4555491398
                        ]
                      },
                      {
                        "iteration": 361,
                        "learn": [
                          0.3790933696
                        ],
                        "passed_time": 37.38969861,
                        "remaining_time": 14.25353151,
                        "test": [
                          0.7986883467,
                          0.4554151629
                        ]
                      },
                      {
                        "iteration": 362,
                        "learn": [
                          0.3790569882
                        ],
                        "passed_time": 37.44700743,
                        "remaining_time": 14.13289261,
                        "test": [
                          0.7987108001,
                          0.455385563
                        ]
                      },
                      {
                        "iteration": 363,
                        "learn": [
                          0.3788456779
                        ],
                        "passed_time": 37.51201266,
                        "remaining_time": 14.01547726,
                        "test": [
                          0.7986359554,
                          0.4554162165
                        ]
                      },
                      {
                        "iteration": 364,
                        "learn": [
                          0.3784396507
                        ],
                        "passed_time": 37.56526876,
                        "remaining_time": 13.89400351,
                        "test": [
                          0.7987744181,
                          0.4552980685
                        ]
                      },
                      {
                        "iteration": 365,
                        "learn": [
                          0.3780924695
                        ],
                        "passed_time": 37.61545239,
                        "remaining_time": 13.77177765,
                        "test": [
                          0.7989540454,
                          0.4551544248
                        ]
                      },
                      {
                        "iteration": 366,
                        "learn": [
                          0.3778436519
                        ],
                        "passed_time": 37.67488861,
                        "remaining_time": 13.65329751,
                        "test": [
                          0.7990644413,
                          0.4550536032
                        ]
                      },
                      {
                        "iteration": 367,
                        "learn": [
                          0.3777106423
                        ],
                        "passed_time": 37.72446956,
                        "remaining_time": 13.53160321,
                        "test": [
                          0.7992421974,
                          0.4548704405
                        ]
                      },
                      {
                        "iteration": 368,
                        "learn": [
                          0.3776749042
                        ],
                        "passed_time": 37.77363597,
                        "remaining_time": 13.41015261,
                        "test": [
                          0.7991804506,
                          0.4549175905
                        ]
                      },
                      {
                        "iteration": 369,
                        "learn": [
                          0.3776399871
                        ],
                        "passed_time": 37.82245538,
                        "remaining_time": 13.28897081,
                        "test": [
                          0.7991841928,
                          0.4549156495
                        ]
                      },
                      {
                        "iteration": 370,
                        "learn": [
                          0.3772456226
                        ],
                        "passed_time": 37.87174169,
                        "remaining_time": 13.16834145,
                        "test": [
                          0.7992047751,
                          0.4548783044
                        ]
                      },
                      {
                        "iteration": 371,
                        "learn": [
                          0.3771782819
                        ],
                        "passed_time": 37.92641026,
                        "remaining_time": 13.04994762,
                        "test": [
                          0.7992085173,
                          0.4548751918
                        ]
                      },
                      {
                        "iteration": 372,
                        "learn": [
                          0.3769949802
                        ],
                        "passed_time": 37.97835791,
                        "remaining_time": 12.93096905,
                        "test": [
                          0.7990419879,
                          0.455022795
                        ]
                      },
                      {
                        "iteration": 373,
                        "learn": [
                          0.3769555635
                        ],
                        "passed_time": 38.02714187,
                        "remaining_time": 12.81128309,
                        "test": [
                          0.7989671432,
                          0.4550868158
                        ]
                      },
                      {
                        "iteration": 374,
                        "learn": [
                          0.3764665349
                        ],
                        "passed_time": 38.08360724,
                        "remaining_time": 12.69453575,
                        "test": [
                          0.7987819026,
                          0.4552183214
                        ]
                      },
                      {
                        "iteration": 375,
                        "learn": [
                          0.3762922289
                        ],
                        "passed_time": 38.13683103,
                        "remaining_time": 12.57704002,
                        "test": [
                          0.7986340843,
                          0.4552953445
                        ]
                      },
                      {
                        "iteration": 376,
                        "learn": [
                          0.375760079
                        ],
                        "passed_time": 38.18973381,
                        "remaining_time": 12.45978053,
                        "test": [
                          0.7988118404,
                          0.4551654943
                        ]
                      },
                      {
                        "iteration": 377,
                        "learn": [
                          0.3755620452
                        ],
                        "passed_time": 38.24117103,
                        "remaining_time": 12.34238853,
                        "test": [
                          0.7986733777,
                          0.4552360771
                        ]
                      },
                      {
                        "iteration": 378,
                        "learn": [
                          0.3755343419
                        ],
                        "passed_time": 38.29012754,
                        "remaining_time": 12.22455259,
                        "test": [
                          0.7986396976,
                          0.4552830359
                        ]
                      },
                      {
                        "iteration": 379,
                        "learn": [
                          0.3754873533
                        ],
                        "passed_time": 38.33902035,
                        "remaining_time": 12.10705906,
                        "test": [
                          0.7986097597,
                          0.4553371469
                        ]
                      },
                      {
                        "iteration": 380,
                        "learn": [
                          0.375454616
                        ],
                        "passed_time": 38.3864876,
                        "remaining_time": 11.98948038,
                        "test": [
                          0.7986078886,
                          0.4553408309
                        ]
                      },
                      {
                        "iteration": 381,
                        "learn": [
                          0.3754154474
                        ],
                        "passed_time": 38.43478469,
                        "remaining_time": 11.87252511,
                        "test": [
                          0.7986153731,
                          0.4553458675
                        ]
                      },
                      {
                        "iteration": 382,
                        "learn": [
                          0.3750101117
                        ],
                        "passed_time": 38.511051,
                        "remaining_time": 11.7644725,
                        "test": [
                          0.7984170347,
                          0.4555119251
                        ]
                      },
                      {
                        "iteration": 383,
                        "learn": [
                          0.374746472
                        ],
                        "passed_time": 38.56172316,
                        "remaining_time": 11.64885387,
                        "test": [
                          0.79834219,
                          0.4555367184
                        ]
                      },
                      {
                        "iteration": 384,
                        "learn": [
                          0.3745755064
                        ],
                        "passed_time": 38.61294562,
                        "remaining_time": 11.533737,
                        "test": [
                          0.79835903,
                          0.4555134582
                        ]
                      },
                      {
                        "iteration": 385,
                        "learn": [
                          0.3745331599
                        ],
                        "passed_time": 38.66312408,
                        "remaining_time": 11.41864286,
                        "test": [
                          0.798373999,
                          0.4554541331
                        ]
                      },
                      {
                        "iteration": 386,
                        "learn": [
                          0.3742800017
                        ],
                        "passed_time": 38.71554869,
                        "remaining_time": 11.30454006,
                        "test": [
                          0.7984357458,
                          0.4554066667
                        ]
                      },
                      {
                        "iteration": 387,
                        "learn": [
                          0.3740505931
                        ],
                        "passed_time": 38.76873874,
                        "remaining_time": 11.19097613,
                        "test": [
                          0.7984357458,
                          0.4554511399
                        ]
                      },
                      {
                        "iteration": 388,
                        "learn": [
                          0.3738789103
                        ],
                        "passed_time": 38.82005877,
                        "remaining_time": 11.07718901,
                        "test": [
                          0.7983552878,
                          0.4554223572
                        ]
                      },
                      {
                        "iteration": 389,
                        "learn": [
                          0.3735441825
                        ],
                        "passed_time": 38.87374496,
                        "remaining_time": 10.9643896,
                        "test": [
                          0.7983515455,
                          0.4554512906
                        ]
                      },
                      {
                        "iteration": 390,
                        "learn": [
                          0.3735129081
                        ],
                        "passed_time": 38.92333771,
                        "remaining_time": 10.85075143,
                        "test": [
                          0.7983478033,
                          0.4554565306
                        ]
                      },
                      {
                        "iteration": 391,
                        "learn": [
                          0.3732510782
                        ],
                        "passed_time": 38.9744692,
                        "remaining_time": 10.73786396,
                        "test": [
                          0.7983234788,
                          0.4554778222
                        ]
                      },
                      {
                        "iteration": 392,
                        "learn": [
                          0.3729111494
                        ],
                        "passed_time": 39.02570177,
                        "remaining_time": 10.62531829,
                        "test": [
                          0.7982411496,
                          0.4555790245
                        ]
                      },
                      {
                        "iteration": 393,
                        "learn": [
                          0.3727029956
                        ],
                        "passed_time": 39.07895905,
                        "remaining_time": 10.51362858,
                        "test": [
                          0.7982823142,
                          0.4554679547
                        ]
                      },
                      {
                        "iteration": 394,
                        "learn": [
                          0.3726793247
                        ],
                        "passed_time": 39.13867062,
                        "remaining_time": 10.40395042,
                        "test": [
                          0.798263603,
                          0.4554903063
                        ]
                      },
                      {
                        "iteration": 395,
                        "learn": [
                          0.3722812021
                        ],
                        "passed_time": 39.19097925,
                        "remaining_time": 10.29258041,
                        "test": [
                          0.7984114213,
                          0.4553751669
                        ]
                      },
                      {
                        "iteration": 396,
                        "learn": [
                          0.372036953
                        ],
                        "passed_time": 39.24563726,
                        "remaining_time": 10.18211748,
                        "test": [
                          0.7984207769,
                          0.4553901422
                        ]
                      },
                      {
                        "iteration": 397,
                        "learn": [
                          0.3719051711
                        ],
                        "passed_time": 39.29582152,
                        "remaining_time": 10.07078843,
                        "test": [
                          0.798486266,
                          0.4553303961
                        ]
                      },
                      {
                        "iteration": 398,
                        "learn": [
                          0.3718436147
                        ],
                        "passed_time": 39.36066928,
                        "remaining_time": 9.963477687,
                        "test": [
                          0.7984769104,
                          0.4553314098
                        ]
                      },
                      {
                        "iteration": 399,
                        "learn": [
                          0.371396363
                        ],
                        "passed_time": 39.4231618,
                        "remaining_time": 9.85579045,
                        "test": [
                          0.7985124616,
                          0.4553189736
                        ]
                      },
                      {
                        "iteration": 400,
                        "learn": [
                          0.3708198488
                        ],
                        "passed_time": 39.51031521,
                        "remaining_time": 9.754416971,
                        "test": [
                          0.7983758701,
                          0.4552771445
                        ]
                      },
                      {
                        "iteration": 401,
                        "learn": [
                          0.3704682546
                        ],
                        "passed_time": 39.56149118,
                        "remaining_time": 9.64434362,
                        "test": [
                          0.7983347055,
                          0.4553630617
                        ]
                      },
                      {
                        "iteration": 402,
                        "learn": [
                          0.3701820642
                        ],
                        "passed_time": 39.61236063,
                        "remaining_time": 9.534488786,
                        "test": [
                          0.7983927101,
                          0.4553165042
                        ]
                      },
                      {
                        "iteration": 403,
                        "learn": [
                          0.3699594107
                        ],
                        "passed_time": 39.66265491,
                        "remaining_time": 9.424789285,
                        "test": [
                          0.7983085098,
                          0.455415342
                        ]
                      },
                      {
                        "iteration": 404,
                        "learn": [
                          0.3696916221
                        ],
                        "passed_time": 39.71270821,
                        "remaining_time": 9.315326616,
                        "test": [
                          0.7983552878,
                          0.4554098489
                        ]
                      },
                      {
                        "iteration": 405,
                        "learn": [
                          0.3694216663
                        ],
                        "passed_time": 39.7672711,
                        "remaining_time": 9.207200699,
                        "test": [
                          0.798246763,
                          0.4554945558
                        ]
                      },
                      {
                        "iteration": 406,
                        "learn": [
                          0.3693947138
                        ],
                        "passed_time": 39.81856009,
                        "remaining_time": 9.098589898,
                        "test": [
                          0.7981962428,
                          0.4555299227
                        ]
                      },
                      {
                        "iteration": 407,
                        "learn": [
                          0.3691430138
                        ],
                        "passed_time": 39.87028753,
                        "remaining_time": 8.990358954,
                        "test": [
                          0.7983178654,
                          0.4554361366
                        ]
                      },
                      {
                        "iteration": 408,
                        "learn": [
                          0.3687784484
                        ],
                        "passed_time": 39.92407331,
                        "remaining_time": 8.882862277,
                        "test": [
                          0.7983777412,
                          0.4554551407
                        ]
                      },
                      {
                        "iteration": 409,
                        "learn": [
                          0.3687609921
                        ],
                        "passed_time": 39.97342918,
                        "remaining_time": 8.774655186,
                        "test": [
                          0.7983609011,
                          0.4554967825
                        ]
                      },
                      {
                        "iteration": 410,
                        "learn": [
                          0.3683640273
                        ],
                        "passed_time": 40.02601502,
                        "remaining_time": 8.66743391,
                        "test": [
                          0.7983178654,
                          0.4554988737
                        ]
                      },
                      {
                        "iteration": 411,
                        "learn": [
                          0.3680491693
                        ],
                        "passed_time": 40.07767749,
                        "remaining_time": 8.560280628,
                        "test": [
                          0.7983234788,
                          0.4555105779
                        ]
                      },
                      {
                        "iteration": 412,
                        "learn": [
                          0.3678053804
                        ],
                        "passed_time": 40.13735179,
                        "remaining_time": 8.45508379,
                        "test": [
                          0.7983609011,
                          0.4554514
                        ]
                      },
                      {
                        "iteration": 413,
                        "learn": [
                          0.3674849932
                        ],
                        "passed_time": 40.18901914,
                        "remaining_time": 8.348443588,
                        "test": [
                          0.7984282614,
                          0.4554316812
                        ]
                      },
                      {
                        "iteration": 414,
                        "learn": [
                          0.367025262
                        ],
                        "passed_time": 40.24267606,
                        "remaining_time": 8.242475819,
                        "test": [
                          0.7987351246,
                          0.455170968
                        ]
                      },
                      {
                        "iteration": 415,
                        "learn": [
                          0.3669940218
                        ],
                        "passed_time": 40.29208372,
                        "remaining_time": 8.13590152,
                        "test": [
                          0.7987538358,
                          0.4551748231
                        ]
                      },
                      {
                        "iteration": 416,
                        "learn": [
                          0.3666117717
                        ],
                        "passed_time": 40.34466319,
                        "remaining_time": 8.030232721,
                        "test": [
                          0.7987669336,
                          0.4551573051
                        ]
                      },
                      {
                        "iteration": 417,
                        "learn": [
                          0.3665795346
                        ],
                        "passed_time": 40.39347079,
                        "remaining_time": 7.924078001,
                        "test": [
                          0.7987669336,
                          0.4551586117
                        ]
                      },
                      {
                        "iteration": 418,
                        "learn": [
                          0.3660411656
                        ],
                        "passed_time": 40.44694451,
                        "remaining_time": 7.819099058,
                        "test": [
                          0.7987444802,
                          0.45516683
                        ]
                      },
                      {
                        "iteration": 419,
                        "learn": [
                          0.3657384778
                        ],
                        "passed_time": 40.50945455,
                        "remaining_time": 7.716086582,
                        "test": [
                          0.7987145423,
                          0.4551335171
                        ]
                      },
                      {
                        "iteration": 420,
                        "learn": [
                          0.3656792113
                        ],
                        "passed_time": 40.56982971,
                        "remaining_time": 7.612865907,
                        "test": [
                          0.7987426091,
                          0.455108083
                        ]
                      },
                      {
                        "iteration": 421,
                        "learn": [
                          0.3654537731
                        ],
                        "passed_time": 40.62115887,
                        "remaining_time": 7.508176284,
                        "test": [
                          0.7987631914,
                          0.4550850126
                        ]
                      },
                      {
                        "iteration": 422,
                        "learn": [
                          0.3652931393
                        ],
                        "passed_time": 40.6712674,
                        "remaining_time": 7.40351676,
                        "test": [
                          0.7988604895,
                          0.454996766
                        ]
                      },
                      {
                        "iteration": 423,
                        "learn": [
                          0.3649417826
                        ],
                        "passed_time": 40.72303296,
                        "remaining_time": 7.299411569,
                        "test": [
                          0.7987033156,
                          0.4550285789
                        ]
                      },
                      {
                        "iteration": 424,
                        "learn": [
                          0.3647316857
                        ],
                        "passed_time": 40.7757233,
                        "remaining_time": 7.195715876,
                        "test": [
                          0.79867712,
                          0.4550872007
                        ]
                      },
                      {
                        "iteration": 425,
                        "learn": [
                          0.3646993751
                        ],
                        "passed_time": 40.82518881,
                        "remaining_time": 7.091699465,
                        "test": [
                          0.7986602799,
                          0.4551049425
                        ]
                      },
                      {
                        "iteration": 426,
                        "learn": [
                          0.3644376856
                        ],
                        "passed_time": 40.87716797,
                        "remaining_time": 6.988368295,
                        "test": [
                          0.7987220268,
                          0.4550367479
                        ]
                      },
                      {
                        "iteration": 427,
                        "learn": [
                          0.3638733918
                        ],
                        "passed_time": 40.92918455,
                        "remaining_time": 6.885283382,
                        "test": [
                          0.79869396,
                          0.4551158702
                        ]
                      },
                      {
                        "iteration": 428,
                        "learn": [
                          0.363510502
                        ],
                        "passed_time": 40.98281147,
                        "remaining_time": 6.782703063,
                        "test": [
                          0.7987444802,
                          0.4550237497
                        ]
                      },
                      {
                        "iteration": 429,
                        "learn": [
                          0.3633281189
                        ],
                        "passed_time": 41.03229574,
                        "remaining_time": 6.679676051,
                        "test": [
                          0.7985947908,
                          0.4551250831
                        ]
                      },
                      {
                        "iteration": 430,
                        "learn": [
                          0.3632983805
                        ],
                        "passed_time": 41.08069972,
                        "remaining_time": 6.576724549,
                        "test": [
                          0.7985760796,
                          0.4551634933
                        ]
                      },
                      {
                        "iteration": 431,
                        "learn": [
                          0.3632668199
                        ],
                        "passed_time": 41.1306594,
                        "remaining_time": 6.474270461,
                        "test": [
                          0.7985779508,
                          0.455155
                        ]
                      },
                      {
                        "iteration": 432,
                        "learn": [
                          0.3629222931
                        ],
                        "passed_time": 41.19198443,
                        "remaining_time": 6.373817452,
                        "test": [
                          0.7985124616,
                          0.4552254892
                        ]
                      },
                      {
                        "iteration": 433,
                        "learn": [
                          0.3623726713
                        ],
                        "passed_time": 41.24539249,
                        "remaining_time": 6.272340793,
                        "test": [
                          0.7984581992,
                          0.4552212218
                        ]
                      },
                      {
                        "iteration": 434,
                        "learn": [
                          0.3621332387
                        ],
                        "passed_time": 41.2978621,
                        "remaining_time": 6.170944911,
                        "test": [
                          0.7985779508,
                          0.4551456852
                        ]
                      },
                      {
                        "iteration": 435,
                        "learn": [
                          0.3618790314
                        ],
                        "passed_time": 41.35016737,
                        "remaining_time": 6.069749338,
                        "test": [
                          0.7988399072,
                          0.4549970161
                        ]
                      },
                      {
                        "iteration": 436,
                        "learn": [
                          0.3618518286
                        ],
                        "passed_time": 41.39917752,
                        "remaining_time": 5.96830248,
                        "test": [
                          0.7988473917,
                          0.4549896879
                        ]
                      },
                      {
                        "iteration": 437,
                        "learn": [
                          0.3614375056
                        ],
                        "passed_time": 41.45100083,
                        "remaining_time": 5.867493269,
                        "test": [
                          0.7984189058,
                          0.4552422535
                        ]
                      },
                      {
                        "iteration": 438,
                        "learn": [
                          0.3613758801
                        ],
                        "passed_time": 41.50169982,
                        "remaining_time": 5.766751,
                        "test": [
                          0.7984694259,
                          0.4551920594
                        ]
                      },
                      {
                        "iteration": 439,
                        "learn": [
                          0.360869083
                        ],
                        "passed_time": 41.58084775,
                        "remaining_time": 5.670115602,
                        "test": [
                          0.7982411496,
                          0.4554271705
                        ]
                      },
                      {
                        "iteration": 440,
                        "learn": [
                          0.3605934846
                        ],
                        "passed_time": 41.63325637,
                        "remaining_time": 5.569982144,
                        "test": [
                          0.7983290921,
                          0.4553874328
                        ]
                      },
                      {
                        "iteration": 441,
                        "learn": [
                          0.3601311072
                        ],
                        "passed_time": 41.68806789,
                        "remaining_time": 5.47037995,
                        "test": [
                          0.7981906294,
                          0.4554310346
                        ]
                      },
                      {
                        "iteration": 442,
                        "learn": [
                          0.3599545645
                        ],
                        "passed_time": 41.74140365,
                        "remaining_time": 5.370790086,
                        "test": [
                          0.7981644338,
                          0.4554761903
                        ]
                      },
                      {
                        "iteration": 443,
                        "learn": [
                          0.3594983806
                        ],
                        "passed_time": 41.79400827,
                        "remaining_time": 5.271316359,
                        "test": [
                          0.7982430207,
                          0.4554110041
                        ]
                      },
                      {
                        "iteration": 444,
                        "learn": [
                          0.3594750331
                        ],
                        "passed_time": 41.84547395,
                        "remaining_time": 5.171912511,
                        "test": [
                          0.7982224384,
                          0.4554067416
                        ]
                      },
                      {
                        "iteration": 445,
                        "learn": [
                          0.3590274034
                        ],
                        "passed_time": 41.9000868,
                        "remaining_time": 5.07310468,
                        "test": [
                          0.7982093406,
                          0.4554198148
                        ]
                      },
                      {
                        "iteration": 446,
                        "learn": [
                          0.3590024849
                        ],
                        "passed_time": 41.94996631,
                        "remaining_time": 4.973933365,
                        "test": [
                          0.798214954,
                          0.4554363844
                        ]
                      },
                      {
                        "iteration": 447,
                        "learn": [
                          0.3587080348
                        ],
                        "passed_time": 42.00057465,
                        "remaining_time": 4.8750667,
                        "test": [
                          0.7982654741,
                          0.4553572604
                        ]
                      },
                      {
                        "iteration": 448,
                        "learn": [
                          0.3584393297
                        ],
                        "passed_time": 42.05283118,
                        "remaining_time": 4.776602205,
                        "test": [
                          0.7982205673,
                          0.4553888692
                        ]
                      },
                      {
                        "iteration": 449,
                        "learn": [
                          0.3582631037
                        ],
                        "passed_time": 42.10719705,
                        "remaining_time": 4.67857745,
                        "test": [
                          0.7983159943,
                          0.4553286524
                        ]
                      },
                      {
                        "iteration": 450,
                        "learn": [
                          0.3579724366
                        ],
                        "passed_time": 42.1566444,
                        "remaining_time": 4.580211919,
                        "test": [
                          0.7981925006,
                          0.4554394078
                        ]
                      },
                      {
                        "iteration": 451,
                        "learn": [
                          0.3578283584
                        ],
                        "passed_time": 42.2152828,
                        "remaining_time": 4.483038882,
                        "test": [
                          0.7981307537,
                          0.4554870626
                        ]
                      },
                      {
                        "iteration": 452,
                        "learn": [
                          0.3576609698
                        ],
                        "passed_time": 42.26897703,
                        "remaining_time": 4.385523003,
                        "test": [
                          0.7979698376,
                          0.4555686731
                        ]
                      },
                      {
                        "iteration": 453,
                        "learn": [
                          0.3576096277
                        ],
                        "passed_time": 42.31964856,
                        "remaining_time": 4.287893907,
                        "test": [
                          0.7979586109,
                          0.4555745153
                        ]
                      },
                      {
                        "iteration": 454,
                        "learn": [
                          0.3571955634
                        ],
                        "passed_time": 42.37390562,
                        "remaining_time": 4.19082583,
                        "test": [
                          0.7980989447,
                          0.4554986137
                        ]
                      },
                      {
                        "iteration": 455,
                        "learn": [
                          0.3571585381
                        ],
                        "passed_time": 42.42304643,
                        "remaining_time": 4.093451849,
                        "test": [
                          0.7981382382,
                          0.4554594913
                        ]
                      },
                      {
                        "iteration": 456,
                        "learn": [
                          0.3568848656
                        ],
                        "passed_time": 42.47620262,
                        "remaining_time": 3.996666768,
                        "test": [
                          0.7980203578,
                          0.4555098567
                        ]
                      },
                      {
                        "iteration": 457,
                        "learn": [
                          0.3566152798
                        ],
                        "passed_time": 42.54315289,
                        "remaining_time": 3.901337165,
                        "test": [
                          0.7981644338,
                          0.4554243073
                        ]
                      },
                      {
                        "iteration": 458,
                        "learn": [
                          0.3565868957
                        ],
                        "passed_time": 42.6058483,
                        "remaining_time": 3.805751156,
                        "test": [
                          0.7981569493,
                          0.4554125113
                        ]
                      },
                      {
                        "iteration": 459,
                        "learn": [
                          0.3563202882
                        ],
                        "passed_time": 42.65764127,
                        "remaining_time": 3.709360111,
                        "test": [
                          0.7980933313,
                          0.4555089874
                        ]
                      },
                      {
                        "iteration": 460,
                        "learn": [
                          0.3560008073
                        ],
                        "passed_time": 42.70982676,
                        "remaining_time": 3.613195757,
                        "test": [
                          0.7981251403,
                          0.4554015085
                        ]
                      },
                      {
                        "iteration": 461,
                        "learn": [
                          0.3556078494
                        ],
                        "passed_time": 42.76397246,
                        "remaining_time": 3.517383016,
                        "test": [
                          0.7979717087,
                          0.4554704324
                        ]
                      },
                      {
                        "iteration": 462,
                        "learn": [
                          0.3555714362
                        ],
                        "passed_time": 42.81525022,
                        "remaining_time": 3.421521076,
                        "test": [
                          0.7979717087,
                          0.4554733401
                        ]
                      },
                      {
                        "iteration": 463,
                        "learn": [
                          0.3553664479
                        ],
                        "passed_time": 42.8666811,
                        "remaining_time": 3.325863189,
                        "test": [
                          0.7979305441,
                          0.4555541568
                        ]
                      },
                      {
                        "iteration": 464,
                        "learn": [
                          0.3550592768
                        ],
                        "passed_time": 42.91857914,
                        "remaining_time": 3.230430688,
                        "test": [
                          0.7979979043,
                          0.45548342
                        ]
                      },
                      {
                        "iteration": 465,
                        "learn": [
                          0.354787256
                        ],
                        "passed_time": 42.97030559,
                        "remaining_time": 3.135172511,
                        "test": [
                          0.7981438515,
                          0.4553416293
                        ]
                      },
                      {
                        "iteration": 466,
                        "learn": [
                          0.3547579078
                        ],
                        "passed_time": 43.01983916,
                        "remaining_time": 3.039945808,
                        "test": [
                          0.7981307537,
                          0.4553366752
                        ]
                      },
                      {
                        "iteration": 467,
                        "learn": [
                          0.3547317388
                        ],
                        "passed_time": 43.06908912,
                        "remaining_time": 2.944894982,
                        "test": [
                          0.798104558,
                          0.4553867262
                        ]
                      },
                      {
                        "iteration": 468,
                        "learn": [
                          0.354672311
                        ],
                        "passed_time": 43.11933772,
                        "remaining_time": 2.850105478,
                        "test": [
                          0.798119527,
                          0.4553929753
                        ]
                      },
                      {
                        "iteration": 469,
                        "learn": [
                          0.354396151
                        ],
                        "passed_time": 43.16976209,
                        "remaining_time": 2.755516729,
                        "test": [
                          0.7982692164,
                          0.455295273
                        ]
                      },
                      {
                        "iteration": 470,
                        "learn": [
                          0.3543739433
                        ],
                        "passed_time": 43.2316752,
                        "remaining_time": 2.661822889,
                        "test": [
                          0.7982505052,
                          0.4553144558
                        ]
                      },
                      {
                        "iteration": 471,
                        "learn": [
                          0.3541701602
                        ],
                        "passed_time": 43.28819433,
                        "remaining_time": 2.567943731,
                        "test": [
                          0.7981719183,
                          0.4554317796
                        ]
                      },
                      {
                        "iteration": 472,
                        "learn": [
                          0.3541468483
                        ],
                        "passed_time": 43.34389843,
                        "remaining_time": 2.47417602,
                        "test": [
                          0.7981812739,
                          0.4554155543
                        ]
                      },
                      {
                        "iteration": 473,
                        "learn": [
                          0.3538590747
                        ],
                        "passed_time": 43.39846371,
                        "remaining_time": 2.380506448,
                        "test": [
                          0.7979960332,
                          0.4555976004
                        ]
                      },
                      {
                        "iteration": 474,
                        "learn": [
                          0.3535716277
                        ],
                        "passed_time": 43.45471764,
                        "remaining_time": 2.287090402,
                        "test": [
                          0.7980690068,
                          0.4554753452
                        ]
                      },
                      {
                        "iteration": 475,
                        "learn": [
                          0.353376357
                        ],
                        "passed_time": 43.50969836,
                        "remaining_time": 2.193766304,
                        "test": [
                          0.7980072599,
                          0.4554639941
                        ]
                      },
                      {
                        "iteration": 476,
                        "learn": [
                          0.3533289089
                        ],
                        "passed_time": 43.57378207,
                        "remaining_time": 2.101041903,
                        "test": [
                          0.7979679665,
                          0.4554768363
                        ]
                      },
                      {
                        "iteration": 477,
                        "learn": [
                          0.3532967767
                        ],
                        "passed_time": 43.64085442,
                        "remaining_time": 2.00857489,
                        "test": [
                          0.7979660954,
                          0.4554663599
                        ]
                      },
                      {
                        "iteration": 478,
                        "learn": [
                          0.3532240863
                        ],
                        "passed_time": 43.69113627,
                        "remaining_time": 1.915477791,
                        "test": [
                          0.7979735798,
                          0.4554273908
                        ]
                      },
                      {
                        "iteration": 479,
                        "learn": [
                          0.3531874554
                        ],
                        "passed_time": 43.74237226,
                        "remaining_time": 1.822598844,
                        "test": [
                          0.7979455131,
                          0.4554307767
                        ]
                      },
                      {
                        "iteration": 480,
                        "learn": [
                          0.3528822945
                        ],
                        "passed_time": 43.79464417,
                        "remaining_time": 1.729933969,
                        "test": [
                          0.7979380286,
                          0.4554075698
                        ]
                      },
                      {
                        "iteration": 481,
                        "learn": [
                          0.3525342055
                        ],
                        "passed_time": 43.85290172,
                        "remaining_time": 1.63766023,
                        "test": [
                          0.7979305441,
                          0.455347827
                        ]
                      },
                      {
                        "iteration": 482,
                        "learn": [
                          0.3523976879
                        ],
                        "passed_time": 43.90274212,
                        "remaining_time": 1.545231089,
                        "test": [
                          0.7980053888,
                          0.455265481
                        ]
                      },
                      {
                        "iteration": 483,
                        "learn": [
                          0.3523432073
                        ],
                        "passed_time": 43.95435047,
                        "remaining_time": 1.453036379,
                        "test": [
                          0.7979810643,
                          0.4552875441
                        ]
                      },
                      {
                        "iteration": 484,
                        "learn": [
                          0.3523040738
                        ],
                        "passed_time": 44.00516681,
                        "remaining_time": 1.36098454,
                        "test": [
                          0.7979436419,
                          0.4553289069
                        ]
                      },
                      {
                        "iteration": 485,
                        "learn": [
                          0.3522792228
                        ],
                        "passed_time": 44.06133005,
                        "remaining_time": 1.269256421,
                        "test": [
                          0.7979586109,
                          0.4553226915
                        ]
                      },
                      {
                        "iteration": 486,
                        "learn": [
                          0.3519532043
                        ],
                        "passed_time": 44.11206793,
                        "remaining_time": 1.177529534,
                        "test": [
                          0.7980259711,
                          0.4552454068
                        ]
                      },
                      {
                        "iteration": 487,
                        "learn": [
                          0.3519253173
                        ],
                        "passed_time": 44.16160102,
                        "remaining_time": 1.085941009,
                        "test": [
                          0.7980353267,
                          0.4552550832
                        ]
                      },
                      {
                        "iteration": 488,
                        "learn": [
                          0.3515910962
                        ],
                        "passed_time": 44.22709775,
                        "remaining_time": 0.9948835895,
                        "test": [
                          0.7979305441,
                          0.4553942794
                        ]
                      },
                      {
                        "iteration": 489,
                        "learn": [
                          0.3513635012
                        ],
                        "passed_time": 44.27969715,
                        "remaining_time": 0.9036672889,
                        "test": [
                          0.7979211885,
                          0.4553715651
                        ]
                      },
                      {
                        "iteration": 490,
                        "learn": [
                          0.3510689181
                        ],
                        "passed_time": 44.33340827,
                        "remaining_time": 0.8126286648,
                        "test": [
                          0.7978070504,
                          0.4555588667
                        ]
                      },
                      {
                        "iteration": 491,
                        "learn": [
                          0.3506660359
                        ],
                        "passed_time": 44.38626741,
                        "remaining_time": 0.7217279253,
                        "test": [
                          0.7976685877,
                          0.4556167615
                        ]
                      },
                      {
                        "iteration": 492,
                        "learn": [
                          0.3504733108
                        ],
                        "passed_time": 44.43724517,
                        "remaining_time": 0.6309547996,
                        "test": [
                          0.7976274231,
                          0.455616346
                        ]
                      },
                      {
                        "iteration": 493,
                        "learn": [
                          0.3502601647
                        ],
                        "passed_time": 44.48780504,
                        "remaining_time": 0.5403377131,
                        "test": [
                          0.7976517476,
                          0.4555585595
                        ]
                      },
                      {
                        "iteration": 494,
                        "learn": [
                          0.349979634
                        ],
                        "passed_time": 44.53951537,
                        "remaining_time": 0.4498940946,
                        "test": [
                          0.797752788,
                          0.4555384909
                        ]
                      },
                      {
                        "iteration": 495,
                        "learn": [
                          0.3495849622
                        ],
                        "passed_time": 44.62115606,
                        "remaining_time": 0.3598480327,
                        "test": [
                          0.7981606916,
                          0.4552657288
                        ]
                      },
                      {
                        "iteration": 496,
                        "learn": [
                          0.3495404736
                        ],
                        "passed_time": 44.66954222,
                        "remaining_time": 0.2696350637,
                        "test": [
                          0.7981344959,
                          0.4552872757
                        ]
                      },
                      {
                        "iteration": 497,
                        "learn": [
                          0.3493954696
                        ],
                        "passed_time": 44.71981704,
                        "remaining_time": 0.1795976588,
                        "test": [
                          0.7981101714,
                          0.4552912981
                        ]
                      },
                      {
                        "iteration": 498,
                        "learn": [
                          0.349109547
                        ],
                        "passed_time": 44.7730041,
                        "remaining_time": 0.08972545912,
                        "test": [
                          0.7983028965,
                          0.4551253828
                        ]
                      },
                      {
                        "iteration": 499,
                        "learn": [
                          0.3489822464
                        ],
                        "passed_time": 44.82437766,
                        "remaining_time": 0,
                        "test": [
                          0.7982748297,
                          0.4551557385
                        ]
                      }
                    ],
                    "meta": {
                      "iteration_count": 500,
                      "launch_mode": "Train",
                      "learn_metrics": [
                        {
                          "best_value": "Min",
                          "name": "Logloss"
                        }
                      ],
                      "learn_sets": [
                        "learn"
                      ],
                      "name": "experiment",
                      "parameters": "",
                      "test_metrics": [
                        {
                          "best_value": "Max",
                          "name": "AUC"
                        },
                        {
                          "best_value": "Min",
                          "name": "Logloss"
                        }
                      ],
                      "test_sets": [
                        "test"
                      ]
                    }
                  },
                  "passed_iterations": 499,
                  "total_iterations": 500
                },
                "name": "catboost_info",
                "path": "catboost_info"
              }
            },
            "layout": "IPY_MODEL_b3b4e6cb9c98488c8f164fdda5075cf3"
          }
        }
      }
    }
  },
  "nbformat": 4,
  "nbformat_minor": 0
}
