{
  "nbformat": 4,
  "nbformat_minor": 0,
  "metadata": {
    "colab": {
      "provenance": []
    },
    "kernelspec": {
      "name": "python3",
      "display_name": "Python 3"
    },
    "language_info": {
      "name": "python"
    },
    "gpuClass": "standard",
    "widgets": {
      "application/vnd.jupyter.widget-state+json": {
        "8fc85e160fbf4371b36df815b8450473": {
          "model_module": "catboost-widget",
          "model_name": "CatboostWidgetModel",
          "model_module_version": "^1.0.0",
          "state": {
            "_dom_classes": [],
            "_model_module": "catboost-widget",
            "_model_module_version": "^1.0.0",
            "_model_name": "CatboostWidgetModel",
            "_view_count": null,
            "_view_module": "catboost-widget",
            "_view_module_version": "^1.0.0",
            "_view_name": "CatboostWidgetView",
            "data": {
              "catboost_info": {
                "path": "catboost_info",
                "name": "catboost_info",
                "content": {
                  "passed_iterations": 499,
                  "total_iterations": 500,
                  "data": {
                    "iterations": [
                      {
                        "learn": [
                          0.6765300183
                        ],
                        "iteration": 0,
                        "passed_time": 0.1319854446,
                        "remaining_time": 65.86073685,
                        "test": [
                          0.6777748672,
                          0.6758985643
                        ]
                      },
                      {
                        "learn": [
                          0.6619590357
                        ],
                        "iteration": 1,
                        "passed_time": 0.184870965,
                        "remaining_time": 46.03287029,
                        "test": [
                          0.7168896415,
                          0.6601827709
                        ]
                      },
                      {
                        "learn": [
                          0.6473666584
                        ],
                        "iteration": 2,
                        "passed_time": 0.2363385552,
                        "remaining_time": 39.15342065,
                        "test": [
                          0.740535888,
                          0.6449854381
                        ]
                      },
                      {
                        "learn": [
                          0.6346775133
                        ],
                        "iteration": 3,
                        "passed_time": 0.2924008322,
                        "remaining_time": 36.2577032,
                        "test": [
                          0.7491664172,
                          0.6314303307
                        ]
                      },
                      {
                        "learn": [
                          0.6231247679
                        ],
                        "iteration": 4,
                        "passed_time": 0.3462022975,
                        "remaining_time": 34.27402745,
                        "test": [
                          0.7529413966,
                          0.6188843873
                        ]
                      },
                      {
                        "learn": [
                          0.6124742103
                        ],
                        "iteration": 5,
                        "passed_time": 0.4022852229,
                        "remaining_time": 33.12148335,
                        "test": [
                          0.7510861837,
                          0.6079360302
                        ]
                      },
                      {
                        "learn": [
                          0.6026372947
                        ],
                        "iteration": 6,
                        "passed_time": 0.459034635,
                        "remaining_time": 32.32915358,
                        "test": [
                          0.7573628471,
                          0.5974339783
                        ]
                      },
                      {
                        "learn": [
                          0.5944161574
                        ],
                        "iteration": 7,
                        "passed_time": 0.5126511897,
                        "remaining_time": 31.52804817,
                        "test": [
                          0.7666407829,
                          0.5883097305
                        ]
                      },
                      {
                        "learn": [
                          0.5856936005
                        ],
                        "iteration": 8,
                        "passed_time": 0.5778156727,
                        "remaining_time": 31.52305503,
                        "test": [
                          0.7655471147,
                          0.5793846582
                        ]
                      },
                      {
                        "learn": [
                          0.5788821976
                        ],
                        "iteration": 9,
                        "passed_time": 0.6308270097,
                        "remaining_time": 30.91052348,
                        "test": [
                          0.7680235387,
                          0.5715727403
                        ]
                      },
                      {
                        "learn": [
                          0.5720750353
                        ],
                        "iteration": 10,
                        "passed_time": 0.6835443913,
                        "remaining_time": 30.38665522,
                        "test": [
                          0.768156388,
                          0.5645708894
                        ]
                      },
                      {
                        "learn": [
                          0.5652763764
                        ],
                        "iteration": 11,
                        "passed_time": 0.7392881594,
                        "remaining_time": 30.06438515,
                        "test": [
                          0.7707871791,
                          0.557373932
                        ]
                      },
                      {
                        "learn": [
                          0.5601012939
                        ],
                        "iteration": 12,
                        "passed_time": 0.798863917,
                        "remaining_time": 29.92667135,
                        "test": [
                          0.7709621286,
                          0.5518353469
                        ]
                      },
                      {
                        "learn": [
                          0.5544710642
                        ],
                        "iteration": 13,
                        "passed_time": 0.8548755036,
                        "remaining_time": 29.67639248,
                        "test": [
                          0.7721231569,
                          0.5460680939
                        ]
                      },
                      {
                        "learn": [
                          0.5498866912
                        ],
                        "iteration": 14,
                        "passed_time": 0.9104807985,
                        "remaining_time": 29.43887915,
                        "test": [
                          0.7735676596,
                          0.5410391238
                        ]
                      },
                      {
                        "learn": [
                          0.5464432654
                        ],
                        "iteration": 15,
                        "passed_time": 0.9674094687,
                        "remaining_time": 29.26413643,
                        "test": [
                          0.7750982337,
                          0.5369231588
                        ]
                      },
                      {
                        "learn": [
                          0.5418135041
                        ],
                        "iteration": 16,
                        "passed_time": 1.042128735,
                        "remaining_time": 29.6087164,
                        "test": [
                          0.7755117506,
                          0.5322209249
                        ]
                      },
                      {
                        "learn": [
                          0.5381960459
                        ],
                        "iteration": 17,
                        "passed_time": 1.139748789,
                        "remaining_time": 30.5199398,
                        "test": [
                          0.7765427363,
                          0.5282271827
                        ]
                      },
                      {
                        "learn": [
                          0.5352636801
                        ],
                        "iteration": 18,
                        "passed_time": 1.249566132,
                        "remaining_time": 31.63375314,
                        "test": [
                          0.7773650924,
                          0.5248731412
                        ]
                      },
                      {
                        "learn": [
                          0.5320681559
                        ],
                        "iteration": 19,
                        "passed_time": 1.36710919,
                        "remaining_time": 32.81062055,
                        "test": [
                          0.7772958611,
                          0.5217926697
                        ]
                      },
                      {
                        "learn": [
                          0.5286313371
                        ],
                        "iteration": 20,
                        "passed_time": 1.465724328,
                        "remaining_time": 33.43247396,
                        "test": [
                          0.7778310007,
                          0.5184092281
                        ]
                      },
                      {
                        "learn": [
                          0.5255698046
                        ],
                        "iteration": 21,
                        "passed_time": 1.564155081,
                        "remaining_time": 33.98482404,
                        "test": [
                          0.7775260085,
                          0.5158113057
                        ]
                      },
                      {
                        "learn": [
                          0.5227791947
                        ],
                        "iteration": 22,
                        "passed_time": 1.671709461,
                        "remaining_time": 34.66980055,
                        "test": [
                          0.7781883841,
                          0.5132406317
                        ]
                      },
                      {
                        "learn": [
                          0.5204944658
                        ],
                        "iteration": 23,
                        "passed_time": 1.782491631,
                        "remaining_time": 35.35275068,
                        "test": [
                          0.7789424444,
                          0.5106113169
                        ]
                      },
                      {
                        "learn": [
                          0.517953879
                        ],
                        "iteration": 24,
                        "passed_time": 1.884894095,
                        "remaining_time": 35.8129878,
                        "test": [
                          0.7795524287,
                          0.508384259
                        ]
                      },
                      {
                        "learn": [
                          0.5154260895
                        ],
                        "iteration": 25,
                        "passed_time": 1.987977462,
                        "remaining_time": 36.24235835,
                        "test": [
                          0.7805179253,
                          0.5057707977
                        ]
                      },
                      {
                        "learn": [
                          0.5135370886
                        ],
                        "iteration": 26,
                        "passed_time": 2.09190246,
                        "remaining_time": 36.64703199,
                        "test": [
                          0.7811241674,
                          0.5037904571
                        ]
                      },
                      {
                        "learn": [
                          0.5117666841
                        ],
                        "iteration": 27,
                        "passed_time": 2.200551075,
                        "remaining_time": 37.09500384,
                        "test": [
                          0.7816911159,
                          0.5020469186
                        ]
                      },
                      {
                        "learn": [
                          0.5102665052
                        ],
                        "iteration": 28,
                        "passed_time": 2.302985424,
                        "remaining_time": 37.40365982,
                        "test": [
                          0.7816087868,
                          0.5008400943
                        ]
                      },
                      {
                        "learn": [
                          0.508490327
                        ],
                        "iteration": 29,
                        "passed_time": 2.410855509,
                        "remaining_time": 37.77006963,
                        "test": [
                          0.7825349899,
                          0.4988902481
                        ]
                      },
                      {
                        "learn": [
                          0.506600052
                        ],
                        "iteration": 30,
                        "passed_time": 2.515332823,
                        "remaining_time": 38.05455142,
                        "test": [
                          0.7830345783,
                          0.4972714654
                        ]
                      },
                      {
                        "learn": [
                          0.5049545376
                        ],
                        "iteration": 31,
                        "passed_time": 2.627160063,
                        "remaining_time": 38.42221592,
                        "test": [
                          0.7837063094,
                          0.4956165199
                        ]
                      },
                      {
                        "learn": [
                          0.5032737638
                        ],
                        "iteration": 32,
                        "passed_time": 2.738819195,
                        "remaining_time": 38.75844134,
                        "test": [
                          0.7840917596,
                          0.4939838485
                        ]
                      },
                      {
                        "learn": [
                          0.5018278079
                        ],
                        "iteration": 33,
                        "passed_time": 2.848673776,
                        "remaining_time": 39.04358764,
                        "test": [
                          0.7841853155,
                          0.492553116
                        ]
                      },
                      {
                        "learn": [
                          0.5003220318
                        ],
                        "iteration": 34,
                        "passed_time": 2.95591736,
                        "remaining_time": 39.27147349,
                        "test": [
                          0.7841666043,
                          0.4915479651
                        ]
                      },
                      {
                        "learn": [
                          0.4990509802
                        ],
                        "iteration": 35,
                        "passed_time": 3.06416025,
                        "remaining_time": 39.493621,
                        "test": [
                          0.7840749195,
                          0.4905146561
                        ]
                      },
                      {
                        "learn": [
                          0.4982954759
                        ],
                        "iteration": 36,
                        "passed_time": 3.184767688,
                        "remaining_time": 39.8526335,
                        "test": [
                          0.784432303,
                          0.4897323385
                        ]
                      },
                      {
                        "learn": [
                          0.4969499655
                        ],
                        "iteration": 37,
                        "passed_time": 3.293424799,
                        "remaining_time": 40.04111203,
                        "test": [
                          0.7849187935,
                          0.4887062127
                        ]
                      },
                      {
                        "learn": [
                          0.4957757352
                        ],
                        "iteration": 38,
                        "passed_time": 3.398745751,
                        "remaining_time": 40.17491773,
                        "test": [
                          0.7849169224,
                          0.4877938074
                        ]
                      },
                      {
                        "learn": [
                          0.4946149554
                        ],
                        "iteration": 39,
                        "passed_time": 3.550360164,
                        "remaining_time": 40.82914189,
                        "test": [
                          0.7852724347,
                          0.486687993
                        ]
                      },
                      {
                        "learn": [
                          0.4936689223
                        ],
                        "iteration": 40,
                        "passed_time": 3.73750915,
                        "remaining_time": 41.84187073,
                        "test": [
                          0.7851264875,
                          0.4859725401
                        ]
                      },
                      {
                        "learn": [
                          0.4926069072
                        ],
                        "iteration": 41,
                        "passed_time": 3.881263272,
                        "remaining_time": 42.32425187,
                        "test": [
                          0.7852724347,
                          0.485188131
                        ]
                      },
                      {
                        "learn": [
                          0.4916368557
                        ],
                        "iteration": 42,
                        "passed_time": 4.028110399,
                        "remaining_time": 42.81038261,
                        "test": [
                          0.7857514408,
                          0.4842561171
                        ]
                      },
                      {
                        "learn": [
                          0.4907151159
                        ],
                        "iteration": 43,
                        "passed_time": 4.188482289,
                        "remaining_time": 43.40790736,
                        "test": [
                          0.7858150588,
                          0.4835773725
                        ]
                      },
                      {
                        "learn": [
                          0.4897156904
                        ],
                        "iteration": 44,
                        "passed_time": 4.361020134,
                        "remaining_time": 44.09475914,
                        "test": [
                          0.7864063319,
                          0.4826232863
                        ]
                      },
                      {
                        "learn": [
                          0.4884447666
                        ],
                        "iteration": 45,
                        "passed_time": 4.53582584,
                        "remaining_time": 44.76662894,
                        "test": [
                          0.7868254622,
                          0.481759996
                        ]
                      },
                      {
                        "learn": [
                          0.4875729475
                        ],
                        "iteration": 46,
                        "passed_time": 4.678639439,
                        "remaining_time": 45.09412055,
                        "test": [
                          0.7866289948,
                          0.4814118885
                        ]
                      },
                      {
                        "learn": [
                          0.4864401816
                        ],
                        "iteration": 47,
                        "passed_time": 4.866480181,
                        "remaining_time": 45.8260217,
                        "test": [
                          0.7865260834,
                          0.4807811955
                        ]
                      },
                      {
                        "learn": [
                          0.4856426468
                        ],
                        "iteration": 48,
                        "passed_time": 5.024682339,
                        "remaining_time": 46.24758643,
                        "test": [
                          0.7867618442,
                          0.4803766368
                        ]
                      },
                      {
                        "learn": [
                          0.4849241849
                        ],
                        "iteration": 49,
                        "passed_time": 5.161689778,
                        "remaining_time": 46.455208,
                        "test": [
                          0.7872109124,
                          0.479639759
                        ]
                      },
                      {
                        "learn": [
                          0.4838933806
                        ],
                        "iteration": 50,
                        "passed_time": 5.314573526,
                        "remaining_time": 46.7890885,
                        "test": [
                          0.7877741187,
                          0.4787968555
                        ]
                      },
                      {
                        "learn": [
                          0.483287706
                        ],
                        "iteration": 51,
                        "passed_time": 5.467070027,
                        "remaining_time": 47.10091101,
                        "test": [
                          0.7883223561,
                          0.4782078566
                        ]
                      },
                      {
                        "learn": [
                          0.4826391591
                        ],
                        "iteration": 52,
                        "passed_time": 5.655223457,
                        "remaining_time": 47.69594123,
                        "test": [
                          0.7885019834,
                          0.4776990644
                        ]
                      },
                      {
                        "learn": [
                          0.4819361183
                        ],
                        "iteration": 53,
                        "passed_time": 5.842887413,
                        "remaining_time": 48.25792197,
                        "test": [
                          0.7886441883,
                          0.4771716767
                        ]
                      },
                      {
                        "learn": [
                          0.4810884939
                        ],
                        "iteration": 54,
                        "passed_time": 5.972489579,
                        "remaining_time": 48.32287023,
                        "test": [
                          0.7889529227,
                          0.4765947882
                        ]
                      },
                      {
                        "learn": [
                          0.480215518
                        ],
                        "iteration": 55,
                        "passed_time": 6.091278918,
                        "remaining_time": 48.29514,
                        "test": [
                          0.7893458573,
                          0.476056169
                        ]
                      },
                      {
                        "learn": [
                          0.479458323
                        ],
                        "iteration": 56,
                        "passed_time": 6.210366358,
                        "remaining_time": 48.26653152,
                        "test": [
                          0.7894656089,
                          0.4756041734
                        ]
                      },
                      {
                        "learn": [
                          0.4787398142
                        ],
                        "iteration": 57,
                        "passed_time": 6.311260193,
                        "remaining_time": 48.09615526,
                        "test": [
                          0.7897967966,
                          0.4749799723
                        ]
                      },
                      {
                        "learn": [
                          0.4779638716
                        ],
                        "iteration": 58,
                        "passed_time": 6.486053139,
                        "remaining_time": 48.48049889,
                        "test": [
                          0.7898454457,
                          0.4745839187
                        ]
                      },
                      {
                        "learn": [
                          0.4773264415
                        ],
                        "iteration": 59,
                        "passed_time": 6.587453782,
                        "remaining_time": 48.3079944,
                        "test": [
                          0.7901972158,
                          0.4740458198
                        ]
                      },
                      {
                        "learn": [
                          0.4766041802
                        ],
                        "iteration": 60,
                        "passed_time": 6.692203414,
                        "remaining_time": 48.16192293,
                        "test": [
                          0.7901635357,
                          0.4736093016
                        ]
                      },
                      {
                        "learn": [
                          0.4760293961
                        ],
                        "iteration": 61,
                        "passed_time": 6.804728727,
                        "remaining_time": 48.07211585,
                        "test": [
                          0.7905396303,
                          0.4730680306
                        ]
                      },
                      {
                        "learn": [
                          0.4753832404
                        ],
                        "iteration": 62,
                        "passed_time": 6.917648859,
                        "remaining_time": 47.98432622,
                        "test": [
                          0.7910092807,
                          0.4724344126
                        ]
                      },
                      {
                        "learn": [
                          0.4747749904
                        ],
                        "iteration": 63,
                        "passed_time": 7.039719072,
                        "remaining_time": 47.95808618,
                        "test": [
                          0.7907042886,
                          0.4723895578
                        ]
                      },
                      {
                        "learn": [
                          0.4740873725
                        ],
                        "iteration": 64,
                        "passed_time": 7.139186313,
                        "remaining_time": 47.77763148,
                        "test": [
                          0.7904442033,
                          0.4723294721
                        ]
                      },
                      {
                        "learn": [
                          0.4733519274
                        ],
                        "iteration": 65,
                        "passed_time": 7.260494671,
                        "remaining_time": 47.74325284,
                        "test": [
                          0.7904498166,
                          0.4721051701
                        ]
                      },
                      {
                        "learn": [
                          0.4727845829
                        ],
                        "iteration": 66,
                        "passed_time": 7.40244209,
                        "remaining_time": 47.83966306,
                        "test": [
                          0.7905209191,
                          0.4718561722
                        ]
                      },
                      {
                        "learn": [
                          0.4721625638
                        ],
                        "iteration": 67,
                        "passed_time": 7.571530611,
                        "remaining_time": 48.10148859,
                        "test": [
                          0.7902458648,
                          0.4717701855
                        ]
                      },
                      {
                        "learn": [
                          0.4714859279
                        ],
                        "iteration": 68,
                        "passed_time": 7.694561175,
                        "remaining_time": 48.0631285,
                        "test": [
                          0.7906350573,
                          0.4712446537
                        ]
                      },
                      {
                        "learn": [
                          0.4710239038
                        ],
                        "iteration": 69,
                        "passed_time": 7.841241999,
                        "remaining_time": 48.16762942,
                        "test": [
                          0.7907417109,
                          0.4709582633
                        ]
                      },
                      {
                        "learn": [
                          0.4705749595
                        ],
                        "iteration": 70,
                        "passed_time": 7.984533984,
                        "remaining_time": 48.24457858,
                        "test": [
                          0.791172068,
                          0.4705847802
                        ]
                      },
                      {
                        "learn": [
                          0.4700032615
                        ],
                        "iteration": 71,
                        "passed_time": 8.070137698,
                        "remaining_time": 47.97248521,
                        "test": [
                          0.7912076192,
                          0.4704158823
                        ]
                      },
                      {
                        "learn": [
                          0.4693948449
                        ],
                        "iteration": 72,
                        "passed_time": 8.186316552,
                        "remaining_time": 47.88434476,
                        "test": [
                          0.7912001347,
                          0.4701090851
                        ]
                      },
                      {
                        "learn": [
                          0.4688649489
                        ],
                        "iteration": 73,
                        "passed_time": 8.298386515,
                        "remaining_time": 47.77179264,
                        "test": [
                          0.7912188459,
                          0.4698352098
                        ]
                      },
                      {
                        "learn": [
                          0.4684493219
                        ],
                        "iteration": 74,
                        "passed_time": 8.389320229,
                        "remaining_time": 47.5394813,
                        "test": [
                          0.7912375571,
                          0.4697046978
                        ]
                      },
                      {
                        "learn": [
                          0.4678129429
                        ],
                        "iteration": 75,
                        "passed_time": 8.506335186,
                        "remaining_time": 47.4563963,
                        "test": [
                          0.7914770601,
                          0.4692967136
                        ]
                      },
                      {
                        "learn": [
                          0.4671635371
                        ],
                        "iteration": 76,
                        "passed_time": 8.635557704,
                        "remaining_time": 47.43949232,
                        "test": [
                          0.7913741486,
                          0.4691711452
                        ]
                      },
                      {
                        "learn": [
                          0.4668640368
                        ],
                        "iteration": 77,
                        "passed_time": 8.750582372,
                        "remaining_time": 47.34289437,
                        "test": [
                          0.7913423396,
                          0.4690705088
                        ]
                      },
                      {
                        "learn": [
                          0.4664410905
                        ],
                        "iteration": 78,
                        "passed_time": 8.86650529,
                        "remaining_time": 47.2506168,
                        "test": [
                          0.7912618816,
                          0.4689249608
                        ]
                      },
                      {
                        "learn": [
                          0.4659688221
                        ],
                        "iteration": 79,
                        "passed_time": 8.975639631,
                        "remaining_time": 47.12210806,
                        "test": [
                          0.7912562682,
                          0.4687204805
                        ]
                      },
                      {
                        "learn": [
                          0.4654496932
                        ],
                        "iteration": 80,
                        "passed_time": 9.057723194,
                        "remaining_time": 46.85414837,
                        "test": [
                          0.7914957713,
                          0.4683787764
                        ]
                      },
                      {
                        "learn": [
                          0.4651092812
                        ],
                        "iteration": 81,
                        "passed_time": 9.155431956,
                        "remaining_time": 46.67037265,
                        "test": [
                          0.7917539855,
                          0.4682785361
                        ]
                      },
                      {
                        "learn": [
                          0.4646244152
                        ],
                        "iteration": 82,
                        "passed_time": 9.265529076,
                        "remaining_time": 46.55091114,
                        "test": [
                          0.792049622,
                          0.4678867146
                        ]
                      },
                      {
                        "learn": [
                          0.4641566466
                        ],
                        "iteration": 83,
                        "passed_time": 9.386158056,
                        "remaining_time": 46.48383037,
                        "test": [
                          0.7920477509,
                          0.4677822588
                        ]
                      },
                      {
                        "learn": [
                          0.4636430425
                        ],
                        "iteration": 84,
                        "passed_time": 9.503513558,
                        "remaining_time": 46.39950737,
                        "test": [
                          0.7917857945,
                          0.4677481762
                        ]
                      },
                      {
                        "learn": [
                          0.4629255493
                        ],
                        "iteration": 85,
                        "passed_time": 9.620220746,
                        "remaining_time": 46.31129522,
                        "test": [
                          0.7917072075,
                          0.4675536636
                        ]
                      },
                      {
                        "learn": [
                          0.4622275115
                        ],
                        "iteration": 86,
                        "passed_time": 9.737823472,
                        "remaining_time": 46.22667924,
                        "test": [
                          0.7919149016,
                          0.4673285898
                        ]
                      },
                      {
                        "learn": [
                          0.4617120822
                        ],
                        "iteration": 87,
                        "passed_time": 9.882560769,
                        "remaining_time": 46.26835269,
                        "test": [
                          0.7919766485,
                          0.4671525435
                        ]
                      },
                      {
                        "learn": [
                          0.4613625365
                        ],
                        "iteration": 88,
                        "passed_time": 10.00306341,
                        "remaining_time": 46.19392206,
                        "test": [
                          0.7921544046,
                          0.4669249621
                        ]
                      },
                      {
                        "learn": [
                          0.4609285904
                        ],
                        "iteration": 89,
                        "passed_time": 10.12184965,
                        "remaining_time": 46.11064841,
                        "test": [
                          0.7921057556,
                          0.4667798161
                        ]
                      },
                      {
                        "learn": [
                          0.460510291
                        ],
                        "iteration": 90,
                        "passed_time": 10.29271404,
                        "remaining_time": 46.26065979,
                        "test": [
                          0.792032782,
                          0.4666383323
                        ]
                      },
                      {
                        "learn": [
                          0.4600975883
                        ],
                        "iteration": 91,
                        "passed_time": 10.41262852,
                        "remaining_time": 46.17774387,
                        "test": [
                          0.7920926577,
                          0.4664798461
                        ]
                      },
                      {
                        "learn": [
                          0.4598048486
                        ],
                        "iteration": 92,
                        "passed_time": 10.52362694,
                        "remaining_time": 46.0550125,
                        "test": [
                          0.7920627199,
                          0.4664381799
                        ]
                      },
                      {
                        "learn": [
                          0.4593981963
                        ],
                        "iteration": 93,
                        "passed_time": 10.64403879,
                        "remaining_time": 45.97318881,
                        "test": [
                          0.7920514932,
                          0.4663102932
                        ]
                      },
                      {
                        "learn": [
                          0.4591433353
                        ],
                        "iteration": 94,
                        "passed_time": 10.75087628,
                        "remaining_time": 45.83268309,
                        "test": [
                          0.7919130305,
                          0.4663452987
                        ]
                      },
                      {
                        "learn": [
                          0.45869756
                        ],
                        "iteration": 95,
                        "passed_time": 10.86064016,
                        "remaining_time": 45.70519399,
                        "test": [
                          0.791969164,
                          0.466174901
                        ]
                      },
                      {
                        "learn": [
                          0.4582108838
                        ],
                        "iteration": 96,
                        "passed_time": 10.9917039,
                        "remaining_time": 45.66656363,
                        "test": [
                          0.7924051343,
                          0.4656972534
                        ]
                      },
                      {
                        "learn": [
                          0.4577153991
                        ],
                        "iteration": 97,
                        "passed_time": 11.11475747,
                        "remaining_time": 45.59318879,
                        "test": [
                          0.7922984807,
                          0.4656123646
                        ]
                      },
                      {
                        "learn": [
                          0.4573897424
                        ],
                        "iteration": 98,
                        "passed_time": 11.30193924,
                        "remaining_time": 45.77856196,
                        "test": [
                          0.7925043036,
                          0.4653376006
                        ]
                      },
                      {
                        "learn": [
                          0.4569567794
                        ],
                        "iteration": 99,
                        "passed_time": 11.43756964,
                        "remaining_time": 45.75027854,
                        "test": [
                          0.7926521218,
                          0.4651672768
                        ]
                      },
                      {
                        "learn": [
                          0.4564604246
                        ],
                        "iteration": 100,
                        "passed_time": 11.57538614,
                        "remaining_time": 45.72850565,
                        "test": [
                          0.7925454682,
                          0.4651269183
                        ]
                      },
                      {
                        "learn": [
                          0.4559221363
                        ],
                        "iteration": 101,
                        "passed_time": 11.66814446,
                        "remaining_time": 45.52864213,
                        "test": [
                          0.7927774867,
                          0.4649498278
                        ]
                      },
                      {
                        "learn": [
                          0.4555256135
                        ],
                        "iteration": 102,
                        "passed_time": 11.73894414,
                        "remaining_time": 45.24622161,
                        "test": [
                          0.792942145,
                          0.4647094593
                        ]
                      },
                      {
                        "learn": [
                          0.4552466561
                        ],
                        "iteration": 103,
                        "passed_time": 11.84687183,
                        "remaining_time": 45.10924274,
                        "test": [
                          0.7928411047,
                          0.4646663522
                        ]
                      },
                      {
                        "learn": [
                          0.4547751949
                        ],
                        "iteration": 104,
                        "passed_time": 11.96778048,
                        "remaining_time": 45.02165039,
                        "test": [
                          0.7928560736,
                          0.4646198699
                        ]
                      },
                      {
                        "learn": [
                          0.4543694585
                        ],
                        "iteration": 105,
                        "passed_time": 12.10328258,
                        "remaining_time": 44.987673,
                        "test": [
                          0.7928803982,
                          0.4644918749
                        ]
                      },
                      {
                        "learn": [
                          0.4540093655
                        ],
                        "iteration": 106,
                        "passed_time": 12.22247352,
                        "remaining_time": 44.89188874,
                        "test": [
                          0.7929215628,
                          0.4643217854
                        ]
                      },
                      {
                        "learn": [
                          0.4535800404
                        ],
                        "iteration": 107,
                        "passed_time": 12.33081132,
                        "remaining_time": 44.75627812,
                        "test": [
                          0.7929122072,
                          0.4642738764
                        ]
                      },
                      {
                        "learn": [
                          0.4532752924
                        ],
                        "iteration": 108,
                        "passed_time": 12.45110047,
                        "remaining_time": 44.66403931,
                        "test": [
                          0.7928654292,
                          0.4642108333
                        ]
                      },
                      {
                        "learn": [
                          0.4530979032
                        ],
                        "iteration": 109,
                        "passed_time": 12.56181923,
                        "remaining_time": 44.53735909,
                        "test": [
                          0.793005763,
                          0.4640884279
                        ]
                      },
                      {
                        "learn": [
                          0.4529321102
                        ],
                        "iteration": 110,
                        "passed_time": 12.68558462,
                        "remaining_time": 44.45668845,
                        "test": [
                          0.7931068034,
                          0.46398531
                        ]
                      },
                      {
                        "learn": [
                          0.4525490348
                        ],
                        "iteration": 111,
                        "passed_time": 12.79176124,
                        "remaining_time": 44.31431573,
                        "test": [
                          0.7933575331,
                          0.463778742
                        ]
                      },
                      {
                        "learn": [
                          0.4521266724
                        ],
                        "iteration": 112,
                        "passed_time": 12.95438817,
                        "remaining_time": 44.36591348,
                        "test": [
                          0.7933725021,
                          0.4636145279
                        ]
                      },
                      {
                        "learn": [
                          0.4517700991
                        ],
                        "iteration": 113,
                        "passed_time": 13.04970738,
                        "remaining_time": 44.1858513,
                        "test": [
                          0.7931947459,
                          0.4636368968
                        ]
                      },
                      {
                        "learn": [
                          0.4514206082
                        ],
                        "iteration": 114,
                        "passed_time": 13.18474799,
                        "remaining_time": 44.14024328,
                        "test": [
                          0.7934791558,
                          0.4634477821
                        ]
                      },
                      {
                        "learn": [
                          0.4510593047
                        ],
                        "iteration": 115,
                        "passed_time": 13.3032316,
                        "remaining_time": 44.03828393,
                        "test": [
                          0.7937036898,
                          0.4633168003
                        ]
                      },
                      {
                        "learn": [
                          0.4506472112
                        ],
                        "iteration": 116,
                        "passed_time": 13.46112784,
                        "remaining_time": 44.06505951,
                        "test": [
                          0.7939113839,
                          0.4630465044
                        ]
                      },
                      {
                        "learn": [
                          0.4503608061
                        ],
                        "iteration": 117,
                        "passed_time": 13.61362593,
                        "remaining_time": 44.0712297,
                        "test": [
                          0.7940030686,
                          0.4628978335
                        ]
                      },
                      {
                        "learn": [
                          0.4500650511
                        ],
                        "iteration": 118,
                        "passed_time": 13.72122181,
                        "remaining_time": 43.93097065,
                        "test": [
                          0.7938253125,
                          0.4629587884
                        ]
                      },
                      {
                        "learn": [
                          0.449749491
                        ],
                        "iteration": 119,
                        "passed_time": 13.83227906,
                        "remaining_time": 43.80221703,
                        "test": [
                          0.7939955842,
                          0.4628857589
                        ]
                      },
                      {
                        "learn": [
                          0.4492703189
                        ],
                        "iteration": 120,
                        "passed_time": 13.96386909,
                        "remaining_time": 43.73806929,
                        "test": [
                          0.7937411122,
                          0.4629428678
                        ]
                      },
                      {
                        "learn": [
                          0.448700727
                        ],
                        "iteration": 121,
                        "passed_time": 14.06736102,
                        "remaining_time": 43.58575792,
                        "test": [
                          0.7936251029,
                          0.4628753136
                        ]
                      },
                      {
                        "learn": [
                          0.4482838511
                        ],
                        "iteration": 122,
                        "passed_time": 14.18129998,
                        "remaining_time": 43.46626092,
                        "test": [
                          0.7939712596,
                          0.4625958055
                        ]
                      },
                      {
                        "learn": [
                          0.4478984778
                        ],
                        "iteration": 123,
                        "passed_time": 14.29861571,
                        "remaining_time": 43.35709279,
                        "test": [
                          0.7940797844,
                          0.4624852706
                        ]
                      },
                      {
                        "learn": [
                          0.447507004
                        ],
                        "iteration": 124,
                        "passed_time": 14.45204622,
                        "remaining_time": 43.35613865,
                        "test": [
                          0.7941415313,
                          0.4624019803
                        ]
                      },
                      {
                        "learn": [
                          0.4470345323
                        ],
                        "iteration": 125,
                        "passed_time": 14.57017299,
                        "remaining_time": 43.24797378,
                        "test": [
                          0.7942930918,
                          0.4622772546
                        ]
                      },
                      {
                        "learn": [
                          0.4469818395
                        ],
                        "iteration": 126,
                        "passed_time": 14.71574767,
                        "remaining_time": 43.22026677,
                        "test": [
                          0.794263154,
                          0.4622916882
                        ]
                      },
                      {
                        "learn": [
                          0.4463609706
                        ],
                        "iteration": 127,
                        "passed_time": 14.84180671,
                        "remaining_time": 43.13400075,
                        "test": [
                          0.7944184567,
                          0.462012835
                        ]
                      },
                      {
                        "learn": [
                          0.4460028166
                        ],
                        "iteration": 128,
                        "passed_time": 14.99338185,
                        "remaining_time": 43.12050129,
                        "test": [
                          0.7946579597,
                          0.4617971678
                        ]
                      },
                      {
                        "learn": [
                          0.4456229726
                        ],
                        "iteration": 129,
                        "passed_time": 15.06583705,
                        "remaining_time": 42.87969006,
                        "test": [
                          0.7945737594,
                          0.4618772609
                        ]
                      },
                      {
                        "learn": [
                          0.4452443921
                        ],
                        "iteration": 130,
                        "passed_time": 15.21508216,
                        "remaining_time": 42.8577505,
                        "test": [
                          0.7945307237,
                          0.4618483432
                        ]
                      },
                      {
                        "learn": [
                          0.4449481677
                        ],
                        "iteration": 131,
                        "passed_time": 15.32978056,
                        "remaining_time": 42.73757003,
                        "test": [
                          0.7943810344,
                          0.46184004
                        ]
                      },
                      {
                        "learn": [
                          0.444580926
                        ],
                        "iteration": 132,
                        "passed_time": 15.45751995,
                        "remaining_time": 42.65345729,
                        "test": [
                          0.7943604521,
                          0.4617503156
                        ]
                      },
                      {
                        "learn": [
                          0.4443123612
                        ],
                        "iteration": 133,
                        "passed_time": 15.58663345,
                        "remaining_time": 42.5724466,
                        "test": [
                          0.7941770826,
                          0.4618397563
                        ]
                      },
                      {
                        "learn": [
                          0.4440340779
                        ],
                        "iteration": 134,
                        "passed_time": 15.71570893,
                        "remaining_time": 42.49062043,
                        "test": [
                          0.7941826959,
                          0.4617888232
                        ]
                      },
                      {
                        "learn": [
                          0.4437261489
                        ],
                        "iteration": 135,
                        "passed_time": 15.89354166,
                        "remaining_time": 42.53859681,
                        "test": [
                          0.794248185,
                          0.4617117626
                        ]
                      },
                      {
                        "learn": [
                          0.443210496
                        ],
                        "iteration": 136,
                        "passed_time": 16.03375824,
                        "remaining_time": 42.48360761,
                        "test": [
                          0.7940685577,
                          0.4618070946
                        ]
                      },
                      {
                        "learn": [
                          0.4430659154
                        ],
                        "iteration": 137,
                        "passed_time": 16.16629664,
                        "remaining_time": 42.4072419,
                        "test": [
                          0.7941396602,
                          0.4617788049
                        ]
                      },
                      {
                        "learn": [
                          0.4427740503
                        ],
                        "iteration": 138,
                        "passed_time": 16.32242254,
                        "remaining_time": 42.39132761,
                        "test": [
                          0.7941172068,
                          0.4618241743
                        ]
                      },
                      {
                        "learn": [
                          0.4424153847
                        ],
                        "iteration": 139,
                        "passed_time": 16.53763483,
                        "remaining_time": 42.52534671,
                        "test": [
                          0.7942687673,
                          0.4617004198
                        ]
                      },
                      {
                        "learn": [
                          0.4421800119
                        ],
                        "iteration": 140,
                        "passed_time": 16.68718625,
                        "remaining_time": 42.48723308,
                        "test": [
                          0.7942276027,
                          0.4616681098
                        ]
                      },
                      {
                        "learn": [
                          0.4416906459
                        ],
                        "iteration": 141,
                        "passed_time": 16.87690906,
                        "remaining_time": 42.54882705,
                        "test": [
                          0.7940984956,
                          0.4617828275
                        ]
                      },
                      {
                        "learn": [
                          0.441204347
                        ],
                        "iteration": 142,
                        "passed_time": 17.07246612,
                        "remaining_time": 42.62147136,
                        "test": [
                          0.7939001572,
                          0.4618357423
                        ]
                      },
                      {
                        "learn": [
                          0.4410337527
                        ],
                        "iteration": 143,
                        "passed_time": 17.23815796,
                        "remaining_time": 42.61655719,
                        "test": [
                          0.7941172068,
                          0.4616721724
                        ]
                      },
                      {
                        "learn": [
                          0.4406099229
                        ],
                        "iteration": 144,
                        "passed_time": 17.46301878,
                        "remaining_time": 42.75428736,
                        "test": [
                          0.7941003667,
                          0.4615739059
                        ]
                      },
                      {
                        "learn": [
                          0.4405337483
                        ],
                        "iteration": 145,
                        "passed_time": 17.64286437,
                        "remaining_time": 42.77790403,
                        "test": [
                          0.7941396602,
                          0.4615388509
                        ]
                      },
                      {
                        "learn": [
                          0.4401419838
                        ],
                        "iteration": 146,
                        "passed_time": 17.79882987,
                        "remaining_time": 42.74140777,
                        "test": [
                          0.7943679365,
                          0.4612914464
                        ]
                      },
                      {
                        "learn": [
                          0.4397156611
                        ],
                        "iteration": 147,
                        "passed_time": 17.93177631,
                        "remaining_time": 42.64854907,
                        "test": [
                          0.794757129,
                          0.4608794217
                        ]
                      },
                      {
                        "learn": [
                          0.4394665463
                        ],
                        "iteration": 148,
                        "passed_time": 18.13470387,
                        "remaining_time": 42.72000709,
                        "test": [
                          0.7947683557,
                          0.4608469133
                        ]
                      },
                      {
                        "learn": [
                          0.4394076435
                        ],
                        "iteration": 149,
                        "passed_time": 18.29390122,
                        "remaining_time": 42.68576951,
                        "test": [
                          0.7946710576,
                          0.4609008199
                        ]
                      },
                      {
                        "learn": [
                          0.4392476267
                        ],
                        "iteration": 150,
                        "passed_time": 18.41370979,
                        "remaining_time": 42.55883919,
                        "test": [
                          0.7946729287,
                          0.4609017866
                        ]
                      },
                      {
                        "learn": [
                          0.4387513343
                        ],
                        "iteration": 151,
                        "passed_time": 18.55058793,
                        "remaining_time": 42.4710829,
                        "test": [
                          0.7948506848,
                          0.4608565305
                        ]
                      },
                      {
                        "learn": [
                          0.4384486663
                        ],
                        "iteration": 152,
                        "passed_time": 18.67046891,
                        "remaining_time": 42.34413537,
                        "test": [
                          0.7948301025,
                          0.460827486
                        ]
                      },
                      {
                        "learn": [
                          0.4380550867
                        ],
                        "iteration": 153,
                        "passed_time": 18.80048545,
                        "remaining_time": 42.24005172,
                        "test": [
                          0.7948469426,
                          0.4607851301
                        ]
                      },
                      {
                        "learn": [
                          0.4378374054
                        ],
                        "iteration": 154,
                        "passed_time": 18.92176526,
                        "remaining_time": 42.1161872,
                        "test": [
                          0.7949666941,
                          0.4605698767
                        ]
                      },
                      {
                        "learn": [
                          0.4375031604
                        ],
                        "iteration": 155,
                        "passed_time": 19.05159905,
                        "remaining_time": 42.01121842,
                        "test": [
                          0.7951032857,
                          0.4604827461
                        ]
                      },
                      {
                        "learn": [
                          0.4371991842
                        ],
                        "iteration": 156,
                        "passed_time": 19.19820725,
                        "remaining_time": 41.94258018,
                        "test": [
                          0.7950340543,
                          0.460476349
                        ]
                      },
                      {
                        "learn": [
                          0.4368075959
                        ],
                        "iteration": 157,
                        "passed_time": 19.39729581,
                        "remaining_time": 41.98655169,
                        "test": [
                          0.7950396677,
                          0.4604202009
                        ]
                      },
                      {
                        "learn": [
                          0.4364555608
                        ],
                        "iteration": 158,
                        "passed_time": 19.55699533,
                        "remaining_time": 41.94298999,
                        "test": [
                          0.7950808323,
                          0.4603450526
                        ]
                      },
                      {
                        "learn": [
                          0.4362748632
                        ],
                        "iteration": 159,
                        "passed_time": 19.68788692,
                        "remaining_time": 41.83675971,
                        "test": [
                          0.7951856148,
                          0.4603017167
                        ]
                      },
                      {
                        "learn": [
                          0.436121057
                        ],
                        "iteration": 160,
                        "passed_time": 19.85913302,
                        "remaining_time": 41.81519314,
                        "test": [
                          0.795204326,
                          0.4602491018
                        ]
                      },
                      {
                        "learn": [
                          0.4356743491
                        ],
                        "iteration": 161,
                        "passed_time": 19.97799641,
                        "remaining_time": 41.68248634,
                        "test": [
                          0.7951687748,
                          0.4602259753
                        ]
                      },
                      {
                        "learn": [
                          0.4353949028
                        ],
                        "iteration": 162,
                        "passed_time": 20.12661911,
                        "remaining_time": 41.61147631,
                        "test": [
                          0.7951631614,
                          0.4601814939
                        ]
                      },
                      {
                        "learn": [
                          0.4351960554
                        ],
                        "iteration": 163,
                        "passed_time": 20.27649467,
                        "remaining_time": 41.54208663,
                        "test": [
                          0.7951930993,
                          0.4601463976
                        ]
                      },
                      {
                        "learn": [
                          0.4348381378
                        ],
                        "iteration": 164,
                        "passed_time": 20.42618247,
                        "remaining_time": 41.47134016,
                        "test": [
                          0.7950490233,
                          0.4602186098
                        ]
                      },
                      {
                        "learn": [
                          0.4345416847
                        ],
                        "iteration": 165,
                        "passed_time": 20.59865349,
                        "remaining_time": 41.44548352,
                        "test": [
                          0.7951294813,
                          0.4601129608
                        ]
                      },
                      {
                        "learn": [
                          0.4344669408
                        ],
                        "iteration": 166,
                        "passed_time": 20.74600418,
                        "remaining_time": 41.3677808,
                        "test": [
                          0.7952099394,
                          0.4600780661
                        ]
                      },
                      {
                        "learn": [
                          0.4343329852
                        ],
                        "iteration": 167,
                        "passed_time": 20.85830741,
                        "remaining_time": 41.21998845,
                        "test": [
                          0.7951612903,
                          0.4600849351
                        ]
                      },
                      {
                        "learn": [
                          0.4337918141
                        ],
                        "iteration": 168,
                        "passed_time": 21.02441089,
                        "remaining_time": 41.1779882,
                        "test": [
                          0.7951669037,
                          0.4599684039
                        ]
                      },
                      {
                        "learn": [
                          0.433378471
                        ],
                        "iteration": 169,
                        "passed_time": 21.20616928,
                        "remaining_time": 41.16491683,
                        "test": [
                          0.7952548462,
                          0.4600141692
                        ]
                      },
                      {
                        "learn": [
                          0.4330858879
                        ],
                        "iteration": 170,
                        "passed_time": 21.35641643,
                        "remaining_time": 41.08924565,
                        "test": [
                          0.7950583789,
                          0.4600781024
                        ]
                      },
                      {
                        "learn": [
                          0.4327250072
                        ],
                        "iteration": 171,
                        "passed_time": 21.47952757,
                        "remaining_time": 40.96095956,
                        "test": [
                          0.7950976723,
                          0.4600947069
                        ]
                      },
                      {
                        "learn": [
                          0.4322713395
                        ],
                        "iteration": 172,
                        "passed_time": 21.66600391,
                        "remaining_time": 40.9525045,
                        "test": [
                          0.7951051568,
                          0.46004024
                        ]
                      },
                      {
                        "learn": [
                          0.4317822189
                        ],
                        "iteration": 173,
                        "passed_time": 21.77695717,
                        "remaining_time": 40.80050597,
                        "test": [
                          0.7951051568,
                          0.4601254746
                        ]
                      },
                      {
                        "learn": [
                          0.4316244111
                        ],
                        "iteration": 174,
                        "passed_time": 21.94939024,
                        "remaining_time": 40.7631533,
                        "test": [
                          0.7951519347,
                          0.4600953656
                        ]
                      },
                      {
                        "learn": [
                          0.4311899382
                        ],
                        "iteration": 175,
                        "passed_time": 22.12992322,
                        "remaining_time": 40.73917683,
                        "test": [
                          0.7951687748,
                          0.459967704
                        ]
                      },
                      {
                        "learn": [
                          0.4309348835
                        ],
                        "iteration": 176,
                        "passed_time": 22.25298382,
                        "remaining_time": 40.6085524,
                        "test": [
                          0.7952642018,
                          0.4598228423
                        ]
                      },
                      {
                        "learn": [
                          0.430758969
                        ],
                        "iteration": 177,
                        "passed_time": 22.40723057,
                        "remaining_time": 40.53442834,
                        "test": [
                          0.7952211661,
                          0.4598389771
                        ]
                      },
                      {
                        "learn": [
                          0.430290289
                        ],
                        "iteration": 178,
                        "passed_time": 22.60084134,
                        "remaining_time": 40.5300004,
                        "test": [
                          0.795219295,
                          0.4597163726
                        ]
                      },
                      {
                        "learn": [
                          0.4300183838
                        ],
                        "iteration": 179,
                        "passed_time": 22.83477554,
                        "remaining_time": 40.59515651,
                        "test": [
                          0.7952623307,
                          0.4597224598
                        ]
                      },
                      {
                        "learn": [
                          0.4293783842
                        ],
                        "iteration": 180,
                        "passed_time": 22.99375125,
                        "remaining_time": 40.52489862,
                        "test": [
                          0.7952529751,
                          0.4596747641
                        ]
                      },
                      {
                        "learn": [
                          0.4289221421
                        ],
                        "iteration": 181,
                        "passed_time": 23.20830281,
                        "remaining_time": 40.55077085,
                        "test": [
                          0.7951968416,
                          0.4595755734
                        ]
                      },
                      {
                        "learn": [
                          0.4288095636
                        ],
                        "iteration": 182,
                        "passed_time": 23.36545136,
                        "remaining_time": 40.47457968,
                        "test": [
                          0.7951032857,
                          0.4596654924
                        ]
                      },
                      {
                        "learn": [
                          0.4287328425
                        ],
                        "iteration": 183,
                        "passed_time": 23.47272494,
                        "remaining_time": 40.3118537,
                        "test": [
                          0.7951818726,
                          0.4596046897
                        ]
                      },
                      {
                        "learn": [
                          0.4284039505
                        ],
                        "iteration": 184,
                        "passed_time": 23.57541249,
                        "remaining_time": 40.14191857,
                        "test": [
                          0.795219295,
                          0.4594875533
                        ]
                      },
                      {
                        "learn": [
                          0.4283458701
                        ],
                        "iteration": 185,
                        "passed_time": 23.68418414,
                        "remaining_time": 39.98297753,
                        "test": [
                          0.7951369658,
                          0.4595406784
                        ]
                      },
                      {
                        "learn": [
                          0.428050145
                        ],
                        "iteration": 186,
                        "passed_time": 23.81769872,
                        "remaining_time": 39.86598769,
                        "test": [
                          0.7951126413,
                          0.4595377634
                        ]
                      },
                      {
                        "learn": [
                          0.4275327395
                        ],
                        "iteration": 187,
                        "passed_time": 23.92763426,
                        "remaining_time": 39.7096909,
                        "test": [
                          0.794788938,
                          0.4597300431
                        ]
                      },
                      {
                        "learn": [
                          0.4269557967
                        ],
                        "iteration": 188,
                        "passed_time": 24.08159395,
                        "remaining_time": 39.62632656,
                        "test": [
                          0.7945718883,
                          0.4599175455
                        ]
                      },
                      {
                        "learn": [
                          0.4267615236
                        ],
                        "iteration": 189,
                        "passed_time": 24.19427573,
                        "remaining_time": 39.47487092,
                        "test": [
                          0.7944034878,
                          0.4600496675
                        ]
                      },
                      {
                        "learn": [
                          0.4264922093
                        ],
                        "iteration": 190,
                        "passed_time": 24.29843901,
                        "remaining_time": 39.31004007,
                        "test": [
                          0.7943249008,
                          0.4600343802
                        ]
                      },
                      {
                        "learn": [
                          0.4263782187
                        ],
                        "iteration": 191,
                        "passed_time": 24.39899343,
                        "remaining_time": 39.14005195,
                        "test": [
                          0.7943005763,
                          0.4600509233
                        ]
                      },
                      {
                        "learn": [
                          0.4260105474
                        ],
                        "iteration": 192,
                        "passed_time": 24.52981937,
                        "remaining_time": 39.01893548,
                        "test": [
                          0.7944427812,
                          0.4599295359
                        ]
                      },
                      {
                        "learn": [
                          0.4259081101
                        ],
                        "iteration": 193,
                        "passed_time": 24.61890474,
                        "remaining_time": 38.83188068,
                        "test": [
                          0.7943604521,
                          0.4599949955
                        ]
                      },
                      {
                        "learn": [
                          0.4258384508
                        ],
                        "iteration": 194,
                        "passed_time": 24.71921896,
                        "remaining_time": 38.66339376,
                        "test": [
                          0.7943249008,
                          0.4600339015
                        ]
                      },
                      {
                        "learn": [
                          0.4252140692
                        ],
                        "iteration": 195,
                        "passed_time": 24.9011944,
                        "remaining_time": 38.6222607,
                        "test": [
                          0.793976873,
                          0.4601403587
                        ]
                      },
                      {
                        "learn": [
                          0.4248006384
                        ],
                        "iteration": 196,
                        "passed_time": 25.04224141,
                        "remaining_time": 38.51674694,
                        "test": [
                          0.7940386199,
                          0.4600647028
                        ]
                      },
                      {
                        "learn": [
                          0.4244851996
                        ],
                        "iteration": 197,
                        "passed_time": 25.21387582,
                        "remaining_time": 38.45752777,
                        "test": [
                          0.793913255,
                          0.46018047
                        ]
                      },
                      {
                        "learn": [
                          0.4242921247
                        ],
                        "iteration": 198,
                        "passed_time": 25.38648158,
                        "remaining_time": 38.39864802,
                        "test": [
                          0.7940928823,
                          0.4600640594
                        ]
                      },
                      {
                        "learn": [
                          0.4241338637
                        ],
                        "iteration": 199,
                        "passed_time": 25.5660648,
                        "remaining_time": 38.3490972,
                        "test": [
                          0.7941452736,
                          0.4599978803
                        ]
                      },
                      {
                        "learn": [
                          0.4240524563
                        ],
                        "iteration": 200,
                        "passed_time": 25.75502659,
                        "remaining_time": 38.31220374,
                        "test": [
                          0.7940797844,
                          0.4600340899
                        ]
                      },
                      {
                        "learn": [
                          0.4237458043
                        ],
                        "iteration": 201,
                        "passed_time": 25.90836976,
                        "remaining_time": 38.22125836,
                        "test": [
                          0.7940760422,
                          0.4600458012
                        ]
                      },
                      {
                        "learn": [
                          0.4233420588
                        ],
                        "iteration": 202,
                        "passed_time": 26.0810779,
                        "remaining_time": 38.15803023,
                        "test": [
                          0.793961904,
                          0.4600676106
                        ]
                      },
                      {
                        "learn": [
                          0.4231309548
                        ],
                        "iteration": 203,
                        "passed_time": 26.19349292,
                        "remaining_time": 38.00624463,
                        "test": [
                          0.7942294738,
                          0.4599588006
                        ]
                      },
                      {
                        "learn": [
                          0.4227135746
                        ],
                        "iteration": 204,
                        "passed_time": 26.32326217,
                        "remaining_time": 37.8798163,
                        "test": [
                          0.7941583714,
                          0.4600578375
                        ]
                      },
                      {
                        "learn": [
                          0.4226075657
                        ],
                        "iteration": 205,
                        "passed_time": 26.43692798,
                        "remaining_time": 37.73037294,
                        "test": [
                          0.7942070204,
                          0.4600266912
                        ]
                      },
                      {
                        "learn": [
                          0.422532228
                        ],
                        "iteration": 206,
                        "passed_time": 26.59100631,
                        "remaining_time": 37.63847753,
                        "test": [
                          0.7942182471,
                          0.4600124858
                        ]
                      },
                      {
                        "learn": [
                          0.4220456336
                        ],
                        "iteration": 207,
                        "passed_time": 26.73384644,
                        "remaining_time": 37.53020751,
                        "test": [
                          0.7944034878,
                          0.4599473734
                        ]
                      },
                      {
                        "learn": [
                          0.421520865
                        ],
                        "iteration": 208,
                        "passed_time": 26.86176842,
                        "remaining_time": 37.40083546,
                        "test": [
                          0.7942350872,
                          0.4599147068
                        ]
                      },
                      {
                        "learn": [
                          0.4214474556
                        ],
                        "iteration": 209,
                        "passed_time": 26.97269672,
                        "remaining_time": 37.24800976,
                        "test": [
                          0.7942575406,
                          0.4598965634
                        ]
                      },
                      {
                        "learn": [
                          0.4210405312
                        ],
                        "iteration": 210,
                        "passed_time": 27.09032999,
                        "remaining_time": 37.10476477,
                        "test": [
                          0.7942369583,
                          0.4598605435
                        ]
                      },
                      {
                        "learn": [
                          0.4209328421
                        ],
                        "iteration": 211,
                        "passed_time": 27.23958744,
                        "remaining_time": 37.00472255,
                        "test": [
                          0.794199536,
                          0.4599033704
                        ]
                      },
                      {
                        "learn": [
                          0.4204554736
                        ],
                        "iteration": 212,
                        "passed_time": 27.35903207,
                        "remaining_time": 36.86404791,
                        "test": [
                          0.7945625327,
                          0.4595319649
                        ]
                      },
                      {
                        "learn": [
                          0.4200529778
                        ],
                        "iteration": 213,
                        "passed_time": 27.47224917,
                        "remaining_time": 36.71524889,
                        "test": [
                          0.7945475638,
                          0.4595238341
                        ]
                      },
                      {
                        "learn": [
                          0.4196083275
                        ],
                        "iteration": 214,
                        "passed_time": 27.52436303,
                        "remaining_time": 36.48578355,
                        "test": [
                          0.7948899783,
                          0.459234068
                        ]
                      },
                      {
                        "learn": [
                          0.4189058311
                        ],
                        "iteration": 215,
                        "passed_time": 27.57602788,
                        "remaining_time": 36.25736999,
                        "test": [
                          0.7949592096,
                          0.4591127442
                        ]
                      },
                      {
                        "learn": [
                          0.4188238507
                        ],
                        "iteration": 216,
                        "passed_time": 27.63138128,
                        "remaining_time": 36.03539587,
                        "test": [
                          0.7949517252,
                          0.4591047343
                        ]
                      },
                      {
                        "learn": [
                          0.4187468708
                        ],
                        "iteration": 217,
                        "passed_time": 27.68104932,
                        "remaining_time": 35.80759592,
                        "test": [
                          0.7950022453,
                          0.4590524964
                        ]
                      },
                      {
                        "learn": [
                          0.4182893362
                        ],
                        "iteration": 218,
                        "passed_time": 27.73476488,
                        "remaining_time": 35.58661613,
                        "test": [
                          0.7949685652,
                          0.4589817558
                        ]
                      },
                      {
                        "learn": [
                          0.4177665336
                        ],
                        "iteration": 219,
                        "passed_time": 27.79180208,
                        "remaining_time": 35.37138446,
                        "test": [
                          0.7950359255,
                          0.4589788861
                        ]
                      },
                      {
                        "learn": [
                          0.4176864109
                        ],
                        "iteration": 220,
                        "passed_time": 27.85646328,
                        "remaining_time": 35.1672093,
                        "test": [
                          0.7949854053,
                          0.4590263068
                        ]
                      },
                      {
                        "learn": [
                          0.4174121674
                        ],
                        "iteration": 221,
                        "passed_time": 27.91579114,
                        "remaining_time": 34.95761233,
                        "test": [
                          0.7951163835,
                          0.4589494334
                        ]
                      },
                      {
                        "learn": [
                          0.4167459537
                        ],
                        "iteration": 222,
                        "passed_time": 27.97754091,
                        "remaining_time": 34.75237145,
                        "test": [
                          0.7952716863,
                          0.4588609893
                        ]
                      },
                      {
                        "learn": [
                          0.4166804349
                        ],
                        "iteration": 223,
                        "passed_time": 28.0379234,
                        "remaining_time": 34.54672704,
                        "test": [
                          0.7952286506,
                          0.4588974822
                        ]
                      },
                      {
                        "learn": [
                          0.4164704544
                        ],
                        "iteration": 224,
                        "passed_time": 28.09221856,
                        "remaining_time": 34.3349338,
                        "test": [
                          0.7953184642,
                          0.4588570202
                        ]
                      },
                      {
                        "learn": [
                          0.4159217818
                        ],
                        "iteration": 225,
                        "passed_time": 28.14365071,
                        "remaining_time": 34.12106325,
                        "test": [
                          0.7953858244,
                          0.4587621056
                        ]
                      },
                      {
                        "learn": [
                          0.4158604417
                        ],
                        "iteration": 226,
                        "passed_time": 28.19435057,
                        "remaining_time": 33.9077432,
                        "test": [
                          0.7953053664,
                          0.4588023476
                        ]
                      },
                      {
                        "learn": [
                          0.4155477597
                        ],
                        "iteration": 227,
                        "passed_time": 28.26851768,
                        "remaining_time": 33.72384566,
                        "test": [
                          0.7953689844,
                          0.4587845809
                        ]
                      },
                      {
                        "learn": [
                          0.4154698888
                        ],
                        "iteration": 228,
                        "passed_time": 28.31829163,
                        "remaining_time": 33.51203944,
                        "test": [
                          0.7954101489,
                          0.4587545752
                        ]
                      },
                      {
                        "learn": [
                          0.4154034789
                        ],
                        "iteration": 229,
                        "passed_time": 28.36775762,
                        "remaining_time": 33.30128068,
                        "test": [
                          0.7954363446,
                          0.45873518
                        ]
                      },
                      {
                        "learn": [
                          0.4150926061
                        ],
                        "iteration": 230,
                        "passed_time": 28.4415734,
                        "remaining_time": 33.12027379,
                        "test": [
                          0.7953764688,
                          0.4587265551
                        ]
                      },
                      {
                        "learn": [
                          0.4146914639
                        ],
                        "iteration": 231,
                        "passed_time": 28.49634598,
                        "remaining_time": 32.91819277,
                        "test": [
                          0.7954812514,
                          0.4587075615
                        ]
                      },
                      {
                        "learn": [
                          0.4146040206
                        ],
                        "iteration": 232,
                        "passed_time": 28.54428994,
                        "remaining_time": 32.70955113,
                        "test": [
                          0.7955261582,
                          0.4586783298
                        ]
                      },
                      {
                        "learn": [
                          0.4143444862
                        ],
                        "iteration": 233,
                        "passed_time": 28.59535415,
                        "remaining_time": 32.50582993,
                        "test": [
                          0.7956010029,
                          0.458602531
                        ]
                      },
                      {
                        "learn": [
                          0.4142852166
                        ],
                        "iteration": 234,
                        "passed_time": 28.64429944,
                        "remaining_time": 32.30101852,
                        "test": [
                          0.7955336427,
                          0.4586295064
                        ]
                      },
                      {
                        "learn": [
                          0.4140061385
                        ],
                        "iteration": 235,
                        "passed_time": 28.69503518,
                        "remaining_time": 32.09953088,
                        "test": [
                          0.7958236659,
                          0.4584316336
                        ]
                      },
                      {
                        "learn": [
                          0.4138492068
                        ],
                        "iteration": 236,
                        "passed_time": 28.74519039,
                        "remaining_time": 31.89867119,
                        "test": [
                          0.7958723149,
                          0.4583663208
                        ]
                      },
                      {
                        "learn": [
                          0.4132609607
                        ],
                        "iteration": 237,
                        "passed_time": 28.80059651,
                        "remaining_time": 31.70485835,
                        "test": [
                          0.7956702343,
                          0.4585392066
                        ]
                      },
                      {
                        "learn": [
                          0.4128983582
                        ],
                        "iteration": 238,
                        "passed_time": 28.86561674,
                        "remaining_time": 31.5227028,
                        "test": [
                          0.7958330215,
                          0.4583555371
                        ]
                      },
                      {
                        "learn": [
                          0.4126784862
                        ],
                        "iteration": 239,
                        "passed_time": 28.92212567,
                        "remaining_time": 31.33230281,
                        "test": [
                          0.7958479904,
                          0.4583430626
                        ]
                      },
                      {
                        "learn": [
                          0.4125654041
                        ],
                        "iteration": 240,
                        "passed_time": 28.97405241,
                        "remaining_time": 31.13808952,
                        "test": [
                          0.7959247062,
                          0.4583146244
                        ]
                      },
                      {
                        "learn": [
                          0.4123506041
                        ],
                        "iteration": 241,
                        "passed_time": 29.02298278,
                        "remaining_time": 30.94185768,
                        "test": [
                          0.7959022528,
                          0.4583457424
                        ]
                      },
                      {
                        "learn": [
                          0.4122696598
                        ],
                        "iteration": 242,
                        "passed_time": 29.07066322,
                        "remaining_time": 30.74551625,
                        "test": [
                          0.7958667016,
                          0.4583545323
                        ]
                      },
                      {
                        "learn": [
                          0.4117851255
                        ],
                        "iteration": 243,
                        "passed_time": 29.12159369,
                        "remaining_time": 30.55380322,
                        "test": [
                          0.7964336502,
                          0.4579043123
                        ]
                      },
                      {
                        "learn": [
                          0.4114913848
                        ],
                        "iteration": 244,
                        "passed_time": 29.19934584,
                        "remaining_time": 30.39115587,
                        "test": [
                          0.7966338597,
                          0.457798027
                        ]
                      },
                      {
                        "learn": [
                          0.4112113613
                        ],
                        "iteration": 245,
                        "passed_time": 29.26662819,
                        "remaining_time": 30.21838846,
                        "test": [
                          0.7965795973,
                          0.4577990463
                        ]
                      },
                      {
                        "learn": [
                          0.4109897797
                        ],
                        "iteration": 246,
                        "passed_time": 29.31592954,
                        "remaining_time": 30.02805739,
                        "test": [
                          0.7967405134,
                          0.4577187987
                        ]
                      },
                      {
                        "learn": [
                          0.4106722302
                        ],
                        "iteration": 247,
                        "passed_time": 29.36655981,
                        "remaining_time": 29.840214,
                        "test": [
                          0.7966899933,
                          0.4577816795
                        ]
                      },
                      {
                        "learn": [
                          0.4099541575
                        ],
                        "iteration": 248,
                        "passed_time": 29.420233,
                        "remaining_time": 29.65654009,
                        "test": [
                          0.7966787666,
                          0.4577471657
                        ]
                      },
                      {
                        "learn": [
                          0.4094884216
                        ],
                        "iteration": 249,
                        "passed_time": 29.47477127,
                        "remaining_time": 29.47477127,
                        "test": [
                          0.796860265,
                          0.4575798313
                        ]
                      },
                      {
                        "learn": [
                          0.4091170313
                        ],
                        "iteration": 250,
                        "passed_time": 29.52427026,
                        "remaining_time": 29.28901711,
                        "test": [
                          0.7966993489,
                          0.4576593733
                        ]
                      },
                      {
                        "learn": [
                          0.4088289691
                        ],
                        "iteration": 251,
                        "passed_time": 29.57452255,
                        "remaining_time": 29.10508568,
                        "test": [
                          0.7965664995,
                          0.4576683892
                        ]
                      },
                      {
                        "learn": [
                          0.4087917318
                        ],
                        "iteration": 252,
                        "passed_time": 29.62444087,
                        "remaining_time": 28.92188496,
                        "test": [
                          0.796510366,
                          0.4577241155
                        ]
                      },
                      {
                        "learn": [
                          0.4087310346
                        ],
                        "iteration": 253,
                        "passed_time": 29.67419524,
                        "remaining_time": 28.73957492,
                        "test": [
                          0.7964224235,
                          0.4577958774
                        ]
                      },
                      {
                        "learn": [
                          0.4084206194
                        ],
                        "iteration": 254,
                        "passed_time": 29.72576217,
                        "remaining_time": 28.560046,
                        "test": [
                          0.7964935259,
                          0.457637697
                        ]
                      },
                      {
                        "learn": [
                          0.4079633737
                        ],
                        "iteration": 255,
                        "passed_time": 29.78119376,
                        "remaining_time": 28.38520031,
                        "test": [
                          0.7966207619,
                          0.4575049314
                        ]
                      },
                      {
                        "learn": [
                          0.4077424602
                        ],
                        "iteration": 256,
                        "passed_time": 29.83261226,
                        "remaining_time": 28.20748941,
                        "test": [
                          0.7967685802,
                          0.4574932343
                        ]
                      },
                      {
                        "learn": [
                          0.4072911849
                        ],
                        "iteration": 257,
                        "passed_time": 29.89647038,
                        "remaining_time": 28.0424257,
                        "test": [
                          0.7967872914,
                          0.4574389272
                        ]
                      },
                      {
                        "learn": [
                          0.4070027985
                        ],
                        "iteration": 258,
                        "passed_time": 29.9451127,
                        "remaining_time": 27.86398517,
                        "test": [
                          0.7967629668,
                          0.4574133188
                        ]
                      },
                      {
                        "learn": [
                          0.4064631044
                        ],
                        "iteration": 259,
                        "passed_time": 29.99722348,
                        "remaining_time": 27.68974475,
                        "test": [
                          0.7971259636,
                          0.4571426507
                        ]
                      },
                      {
                        "learn": [
                          0.4059070041
                        ],
                        "iteration": 260,
                        "passed_time": 30.04868187,
                        "remaining_time": 27.51584278,
                        "test": [
                          0.7973112043,
                          0.4570327033
                        ]
                      },
                      {
                        "learn": [
                          0.4055577156
                        ],
                        "iteration": 261,
                        "passed_time": 30.09833121,
                        "remaining_time": 27.34123217,
                        "test": [
                          0.797290622,
                          0.4570224192
                        ]
                      },
                      {
                        "learn": [
                          0.4050795416
                        ],
                        "iteration": 262,
                        "passed_time": 30.14931455,
                        "remaining_time": 27.16877395,
                        "test": [
                          0.7975638051,
                          0.4568097589
                        ]
                      },
                      {
                        "learn": [
                          0.4045880541
                        ],
                        "iteration": 263,
                        "passed_time": 30.20299139,
                        "remaining_time": 26.99964382,
                        "test": [
                          0.797339271,
                          0.4569028064
                        ]
                      },
                      {
                        "learn": [
                          0.4045341755
                        ],
                        "iteration": 264,
                        "passed_time": 30.26966395,
                        "remaining_time": 26.84290954,
                        "test": [
                          0.7973243021,
                          0.4569169045
                        ]
                      },
                      {
                        "learn": [
                          0.4041906786
                        ],
                        "iteration": 265,
                        "passed_time": 30.32012295,
                        "remaining_time": 26.67258936,
                        "test": [
                          0.7973635955,
                          0.4568436477
                        ]
                      },
                      {
                        "learn": [
                          0.4040579391
                        ],
                        "iteration": 266,
                        "passed_time": 30.36848831,
                        "remaining_time": 26.50133998,
                        "test": [
                          0.7973897912,
                          0.4568062857
                        ]
                      },
                      {
                        "learn": [
                          0.4037122997
                        ],
                        "iteration": 267,
                        "passed_time": 30.41962795,
                        "remaining_time": 26.33340927,
                        "test": [
                          0.7972382307,
                          0.4568532565
                        ]
                      },
                      {
                        "learn": [
                          0.403651744
                        ],
                        "iteration": 268,
                        "passed_time": 30.47077575,
                        "remaining_time": 26.1663539,
                        "test": [
                          0.7972344884,
                          0.4568577874
                        ]
                      },
                      {
                        "learn": [
                          0.4032966896
                        ],
                        "iteration": 269,
                        "passed_time": 30.52104148,
                        "remaining_time": 25.99940571,
                        "test": [
                          0.7971689993,
                          0.4569319605
                        ]
                      },
                      {
                        "learn": [
                          0.4029554202
                        ],
                        "iteration": 270,
                        "passed_time": 30.57211626,
                        "remaining_time": 25.8340023,
                        "test": [
                          0.7970660879,
                          0.4569486826
                        ]
                      },
                      {
                        "learn": [
                          0.4029072201
                        ],
                        "iteration": 271,
                        "passed_time": 30.62104239,
                        "remaining_time": 25.66763847,
                        "test": [
                          0.7970080832,
                          0.457009772
                        ]
                      },
                      {
                        "learn": [
                          0.4028540533
                        ],
                        "iteration": 272,
                        "passed_time": 30.66994191,
                        "remaining_time": 25.50211287,
                        "test": [
                          0.7969781453,
                          0.45702204
                        ]
                      },
                      {
                        "learn": [
                          0.402513726
                        ],
                        "iteration": 273,
                        "passed_time": 30.71967581,
                        "remaining_time": 25.33812677,
                        "test": [
                          0.7970024699,
                          0.4569729918
                        ]
                      },
                      {
                        "learn": [
                          0.4020623203
                        ],
                        "iteration": 274,
                        "passed_time": 30.77214571,
                        "remaining_time": 25.17721012,
                        "test": [
                          0.7968359404,
                          0.4570937854
                        ]
                      },
                      {
                        "learn": [
                          0.4016577267
                        ],
                        "iteration": 275,
                        "passed_time": 30.82529495,
                        "remaining_time": 25.01763069,
                        "test": [
                          0.7968247137,
                          0.4571212632
                        ]
                      },
                      {
                        "learn": [
                          0.40114924
                        ],
                        "iteration": 276,
                        "passed_time": 30.88337124,
                        "remaining_time": 24.86278623,
                        "test": [
                          0.7970885413,
                          0.4569318232
                        ]
                      },
                      {
                        "learn": [
                          0.4006780855
                        ],
                        "iteration": 277,
                        "passed_time": 30.93863384,
                        "remaining_time": 24.70639106,
                        "test": [
                          0.7973411421,
                          0.4568110405
                        ]
                      },
                      {
                        "learn": [
                          0.4003265119
                        ],
                        "iteration": 278,
                        "passed_time": 30.98873602,
                        "remaining_time": 24.54663319,
                        "test": [
                          0.797402889,
                          0.4567647151
                        ]
                      },
                      {
                        "learn": [
                          0.400270707
                        ],
                        "iteration": 279,
                        "passed_time": 31.03830186,
                        "remaining_time": 24.38723717,
                        "test": [
                          0.7973280443,
                          0.4568335009
                        ]
                      },
                      {
                        "learn": [
                          0.3998250646
                        ],
                        "iteration": 280,
                        "passed_time": 31.09223112,
                        "remaining_time": 24.23202354,
                        "test": [
                          0.797466507,
                          0.4567439554
                        ]
                      },
                      {
                        "learn": [
                          0.39944578
                        ],
                        "iteration": 281,
                        "passed_time": 31.15567103,
                        "remaining_time": 24.08488044,
                        "test": [
                          0.79737108,
                          0.4567554549
                        ]
                      },
                      {
                        "learn": [
                          0.3993921534
                        ],
                        "iteration": 282,
                        "passed_time": 31.20569997,
                        "remaining_time": 23.92804556,
                        "test": [
                          0.7973673378,
                          0.4567577174
                        ]
                      },
                      {
                        "learn": [
                          0.3991739803
                        ],
                        "iteration": 283,
                        "passed_time": 31.28129279,
                        "remaining_time": 23.79140579,
                        "test": [
                          0.7972531996,
                          0.4568158013
                        ]
                      },
                      {
                        "learn": [
                          0.3988717657
                        ],
                        "iteration": 284,
                        "passed_time": 31.39002086,
                        "remaining_time": 23.68019118,
                        "test": [
                          0.7971933239,
                          0.4568592627
                        ]
                      },
                      {
                        "learn": [
                          0.3984760173
                        ],
                        "iteration": 285,
                        "passed_time": 31.49706279,
                        "remaining_time": 23.5677323,
                        "test": [
                          0.7970193099,
                          0.4569792248
                        ]
                      },
                      {
                        "learn": [
                          0.3982250185
                        ],
                        "iteration": 286,
                        "passed_time": 31.59958797,
                        "remaining_time": 23.45195901,
                        "test": [
                          0.7971259636,
                          0.4569182117
                        ]
                      },
                      {
                        "learn": [
                          0.3981481445
                        ],
                        "iteration": 287,
                        "passed_time": 31.69938707,
                        "remaining_time": 23.33427104,
                        "test": [
                          0.7970941546,
                          0.4569453019
                        ]
                      },
                      {
                        "learn": [
                          0.3976772648
                        ],
                        "iteration": 288,
                        "passed_time": 31.80199116,
                        "remaining_time": 23.21875479,
                        "test": [
                          0.797163386,
                          0.4569673189
                        ]
                      },
                      {
                        "learn": [
                          0.3976175642
                        ],
                        "iteration": 289,
                        "passed_time": 31.90412885,
                        "remaining_time": 23.10298986,
                        "test": [
                          0.797148417,
                          0.4569703385
                        ]
                      },
                      {
                        "learn": [
                          0.3975498671
                        ],
                        "iteration": 290,
                        "passed_time": 32.00847382,
                        "remaining_time": 22.98890388,
                        "test": [
                          0.7971446748,
                          0.4569545957
                        ]
                      },
                      {
                        "learn": [
                          0.3973771421
                        ],
                        "iteration": 291,
                        "passed_time": 32.10949029,
                        "remaining_time": 22.87251363,
                        "test": [
                          0.797116608,
                          0.4569446554
                        ]
                      },
                      {
                        "learn": [
                          0.3970254154
                        ],
                        "iteration": 292,
                        "passed_time": 32.2137953,
                        "remaining_time": 22.75855163,
                        "test": [
                          0.797195195,
                          0.4568714961
                        ]
                      },
                      {
                        "learn": [
                          0.3968829391
                        ],
                        "iteration": 293,
                        "passed_time": 32.33064916,
                        "remaining_time": 22.65344805,
                        "test": [
                          0.7972831375,
                          0.4568110193
                        ]
                      },
                      {
                        "learn": [
                          0.3966435021
                        ],
                        "iteration": 294,
                        "passed_time": 32.42352383,
                        "remaining_time": 22.5316013,
                        "test": [
                          0.7972101639,
                          0.4568249529
                        ]
                      },
                      {
                        "learn": [
                          0.3962520393
                        ],
                        "iteration": 295,
                        "passed_time": 32.51967455,
                        "remaining_time": 22.41220813,
                        "test": [
                          0.7971877105,
                          0.4567658818
                        ]
                      },
                      {
                        "learn": [
                          0.3960926521
                        ],
                        "iteration": 296,
                        "passed_time": 32.62449232,
                        "remaining_time": 22.29889543,
                        "test": [
                          0.7973617244,
                          0.4566779251
                        ]
                      },
                      {
                        "learn": [
                          0.3957743446
                        ],
                        "iteration": 297,
                        "passed_time": 32.72696916,
                        "remaining_time": 22.18405292,
                        "test": [
                          0.7974365691,
                          0.4565493976
                        ]
                      },
                      {
                        "learn": [
                          0.3953929405
                        ],
                        "iteration": 298,
                        "passed_time": 32.8360637,
                        "remaining_time": 22.07374182,
                        "test": [
                          0.7974421825,
                          0.4564546857
                        ]
                      },
                      {
                        "learn": [
                          0.3953370964
                        ],
                        "iteration": 299,
                        "passed_time": 32.93293346,
                        "remaining_time": 21.95528897,
                        "test": [
                          0.7974066312,
                          0.4564767974
                        ]
                      },
                      {
                        "learn": [
                          0.3950006476
                        ],
                        "iteration": 300,
                        "passed_time": 33.03841243,
                        "remaining_time": 21.84267134,
                        "test": [
                          0.7974964449,
                          0.4563790559
                        ]
                      },
                      {
                        "learn": [
                          0.3947409775
                        ],
                        "iteration": 301,
                        "passed_time": 33.14078695,
                        "remaining_time": 21.72806561,
                        "test": [
                          0.797625552,
                          0.4562876586
                        ]
                      },
                      {
                        "learn": [
                          0.394699987
                        ],
                        "iteration": 302,
                        "passed_time": 33.23905881,
                        "remaining_time": 21.61087322,
                        "test": [
                          0.7976218097,
                          0.4562900158
                        ]
                      },
                      {
                        "learn": [
                          0.3943408394
                        ],
                        "iteration": 303,
                        "passed_time": 33.36692401,
                        "remaining_time": 21.51288522,
                        "test": [
                          0.7976985256,
                          0.4562995623
                        ]
                      },
                      {
                        "learn": [
                          0.3942081903
                        ],
                        "iteration": 304,
                        "passed_time": 33.46717306,
                        "remaining_time": 21.39704507,
                        "test": [
                          0.7977022678,
                          0.456296293
                        ]
                      },
                      {
                        "learn": [
                          0.3939274346
                        ],
                        "iteration": 305,
                        "passed_time": 33.57066912,
                        "remaining_time": 21.28336539,
                        "test": [
                          0.7976367787,
                          0.4563074845
                        ]
                      },
                      {
                        "learn": [
                          0.3935225646
                        ],
                        "iteration": 306,
                        "passed_time": 33.67376187,
                        "remaining_time": 21.16949851,
                        "test": [
                          0.7976648454,
                          0.4562384602
                        ]
                      },
                      {
                        "learn": [
                          0.3929184692
                        ],
                        "iteration": 307,
                        "passed_time": 33.78316372,
                        "remaining_time": 21.05963453,
                        "test": [
                          0.7979118329,
                          0.4560831193
                        ]
                      },
                      {
                        "learn": [
                          0.3928640567
                        ],
                        "iteration": 308,
                        "passed_time": 33.88422972,
                        "remaining_time": 20.94462096,
                        "test": [
                          0.7978613128,
                          0.4561518606
                        ]
                      },
                      {
                        "learn": [
                          0.3924179435
                        ],
                        "iteration": 309,
                        "passed_time": 33.98976973,
                        "remaining_time": 20.83243951,
                        "test": [
                          0.7979829354,
                          0.4559151403
                        ]
                      },
                      {
                        "learn": [
                          0.3923621022
                        ],
                        "iteration": 310,
                        "passed_time": 34.09002595,
                        "remaining_time": 20.71708972,
                        "test": [
                          0.7979679665,
                          0.455919183
                        ]
                      },
                      {
                        "learn": [
                          0.3919946979
                        ],
                        "iteration": 311,
                        "passed_time": 34.19027871,
                        "remaining_time": 20.60183461,
                        "test": [
                          0.7981475937,
                          0.4556821551
                        ]
                      },
                      {
                        "learn": [
                          0.3919473592
                        ],
                        "iteration": 312,
                        "passed_time": 34.29226526,
                        "remaining_time": 20.48771119,
                        "test": [
                          0.798087718,
                          0.4557458219
                        ]
                      },
                      {
                        "learn": [
                          0.3915870231
                        ],
                        "iteration": 313,
                        "passed_time": 34.41820072,
                        "remaining_time": 20.38785138,
                        "test": [
                          0.7978201482,
                          0.4560095156
                        ]
                      },
                      {
                        "learn": [
                          0.3909579135
                        ],
                        "iteration": 314,
                        "passed_time": 34.524625,
                        "remaining_time": 20.27636706,
                        "test": [
                          0.7975956141,
                          0.4561575263
                        ]
                      },
                      {
                        "learn": [
                          0.3906371799
                        ],
                        "iteration": 315,
                        "passed_time": 34.63188736,
                        "remaining_time": 20.16540276,
                        "test": [
                          0.7976274231,
                          0.456136216
                        ]
                      },
                      {
                        "learn": [
                          0.3901502304
                        ],
                        "iteration": 316,
                        "passed_time": 34.73935781,
                        "remaining_time": 20.05458195,
                        "test": [
                          0.7977584013,
                          0.4560383246
                        ]
                      },
                      {
                        "learn": [
                          0.3901200272
                        ],
                        "iteration": 317,
                        "passed_time": 34.84303961,
                        "remaining_time": 19.94161387,
                        "test": [
                          0.7977509168,
                          0.4560719264
                        ]
                      },
                      {
                        "learn": [
                          0.3897942166
                        ],
                        "iteration": 318,
                        "passed_time": 34.9484102,
                        "remaining_time": 19.82966221,
                        "test": [
                          0.7978426016,
                          0.4560197321
                        ]
                      },
                      {
                        "learn": [
                          0.3895785679
                        ],
                        "iteration": 319,
                        "passed_time": 35.04977883,
                        "remaining_time": 19.71550059,
                        "test": [
                          0.7978220193,
                          0.456059448
                        ]
                      },
                      {
                        "learn": [
                          0.3891467403
                        ],
                        "iteration": 320,
                        "passed_time": 35.15909876,
                        "remaining_time": 19.60585258,
                        "test": [
                          0.7976760722,
                          0.4562756807
                        ]
                      },
                      {
                        "learn": [
                          0.3888771228
                        ],
                        "iteration": 321,
                        "passed_time": 35.26929437,
                        "remaining_time": 19.49669068,
                        "test": [
                          0.7976311653,
                          0.4562371255
                        ]
                      },
                      {
                        "learn": [
                          0.3888418874
                        ],
                        "iteration": 322,
                        "passed_time": 35.32236903,
                        "remaining_time": 19.3562208,
                        "test": [
                          0.7975843874,
                          0.4562754338
                        ]
                      },
                      {
                        "learn": [
                          0.3884228231
                        ],
                        "iteration": 323,
                        "passed_time": 35.3766777,
                        "remaining_time": 19.21696073,
                        "test": [
                          0.7977172367,
                          0.4561919168
                        ]
                      },
                      {
                        "learn": [
                          0.3881505244
                        ],
                        "iteration": 324,
                        "passed_time": 35.44927981,
                        "remaining_time": 19.08807374,
                        "test": [
                          0.7975843874,
                          0.4564044962
                        ]
                      },
                      {
                        "learn": [
                          0.3879668666
                        ],
                        "iteration": 325,
                        "passed_time": 35.50218702,
                        "remaining_time": 18.94902007,
                        "test": [
                          0.7976985256,
                          0.4563768322
                        ]
                      },
                      {
                        "learn": [
                          0.3877248113
                        ],
                        "iteration": 326,
                        "passed_time": 35.55301606,
                        "remaining_time": 18.80939382,
                        "test": [
                          0.7978257615,
                          0.4563349429
                        ]
                      },
                      {
                        "learn": [
                          0.3873125573
                        ],
                        "iteration": 327,
                        "passed_time": 35.60559214,
                        "remaining_time": 18.67122515,
                        "test": [
                          0.7976835566,
                          0.4563553086
                        ]
                      },
                      {
                        "learn": [
                          0.3870164835
                        ],
                        "iteration": 328,
                        "passed_time": 35.65850737,
                        "remaining_time": 18.53375307,
                        "test": [
                          0.7975357383,
                          0.4563671347
                        ]
                      },
                      {
                        "learn": [
                          0.3867697244
                        ],
                        "iteration": 329,
                        "passed_time": 35.71018779,
                        "remaining_time": 18.39615735,
                        "test": [
                          0.7974010179,
                          0.4564936695
                        ]
                      },
                      {
                        "learn": [
                          0.3864886056
                        ],
                        "iteration": 330,
                        "passed_time": 35.76044151,
                        "remaining_time": 18.25835231,
                        "test": [
                          0.7975338672,
                          0.4564151555
                        ]
                      },
                      {
                        "learn": [
                          0.3864501186
                        ],
                        "iteration": 331,
                        "passed_time": 35.80954182,
                        "remaining_time": 18.12049104,
                        "test": [
                          0.7975001871,
                          0.4564592703
                        ]
                      },
                      {
                        "learn": [
                          0.386219047
                        ],
                        "iteration": 332,
                        "passed_time": 35.86148449,
                        "remaining_time": 17.98458832,
                        "test": [
                          0.7976854277,
                          0.4563534729
                        ]
                      },
                      {
                        "learn": [
                          0.3857621484
                        ],
                        "iteration": 333,
                        "passed_time": 35.91319768,
                        "remaining_time": 17.8490743,
                        "test": [
                          0.7974159868,
                          0.4565574858
                        ]
                      },
                      {
                        "learn": [
                          0.3852139851
                        ],
                        "iteration": 334,
                        "passed_time": 35.97396003,
                        "remaining_time": 17.71851763,
                        "test": [
                          0.7972924931,
                          0.4566149123
                        ]
                      },
                      {
                        "learn": [
                          0.384910365
                        ],
                        "iteration": 335,
                        "passed_time": 36.02286653,
                        "remaining_time": 17.58258962,
                        "test": [
                          0.7976611032,
                          0.4563754687
                        ]
                      },
                      {
                        "learn": [
                          0.384533426
                        ],
                        "iteration": 336,
                        "passed_time": 36.08444021,
                        "remaining_time": 17.45330491,
                        "test": [
                          0.7977789836,
                          0.4562966357
                        ]
                      },
                      {
                        "learn": [
                          0.384115634
                        ],
                        "iteration": 337,
                        "passed_time": 36.13614462,
                        "remaining_time": 17.31969062,
                        "test": [
                          0.7977434324,
                          0.4562965704
                        ]
                      },
                      {
                        "learn": [
                          0.3838071619
                        ],
                        "iteration": 338,
                        "passed_time": 36.18878168,
                        "remaining_time": 17.18700251,
                        "test": [
                          0.7979305441,
                          0.4561653115
                        ]
                      },
                      {
                        "learn": [
                          0.3836368885
                        ],
                        "iteration": 339,
                        "passed_time": 36.23991427,
                        "remaining_time": 17.05407731,
                        "test": [
                          0.7979848065,
                          0.4561408357
                        ]
                      },
                      {
                        "learn": [
                          0.3832599513
                        ],
                        "iteration": 340,
                        "passed_time": 36.29159529,
                        "remaining_time": 16.92188754,
                        "test": [
                          0.7980484245,
                          0.4561485472
                        ]
                      },
                      {
                        "learn": [
                          0.3830485999
                        ],
                        "iteration": 341,
                        "passed_time": 36.34136524,
                        "remaining_time": 16.7892857,
                        "test": [
                          0.798055909,
                          0.4561677299
                        ]
                      },
                      {
                        "learn": [
                          0.3828550641
                        ],
                        "iteration": 342,
                        "passed_time": 36.39249697,
                        "remaining_time": 16.65779016,
                        "test": [
                          0.7979006062,
                          0.4562956674
                        ]
                      },
                      {
                        "learn": [
                          0.3825965103
                        ],
                        "iteration": 343,
                        "passed_time": 36.46406402,
                        "remaining_time": 16.53602903,
                        "test": [
                          0.7979679665,
                          0.456265214
                        ]
                      },
                      {
                        "learn": [
                          0.3822969998
                        ],
                        "iteration": 344,
                        "passed_time": 36.5169699,
                        "remaining_time": 16.40617488,
                        "test": [
                          0.7980259711,
                          0.4562053489
                        ]
                      },
                      {
                        "learn": [
                          0.3820930015
                        ],
                        "iteration": 345,
                        "passed_time": 36.5678275,
                        "remaining_time": 16.27585386,
                        "test": [
                          0.7980446823,
                          0.4561803904
                        ]
                      },
                      {
                        "learn": [
                          0.3820079205
                        ],
                        "iteration": 346,
                        "passed_time": 36.61675315,
                        "remaining_time": 16.145139,
                        "test": [
                          0.7980914602,
                          0.4561189616
                        ]
                      },
                      {
                        "learn": [
                          0.3819693241
                        ],
                        "iteration": 347,
                        "passed_time": 36.66507265,
                        "remaining_time": 16.01462943,
                        "test": [
                          0.798055909,
                          0.4561436727
                        ]
                      },
                      {
                        "learn": [
                          0.3816949446
                        ],
                        "iteration": 348,
                        "passed_time": 36.71557641,
                        "remaining_time": 15.88553593,
                        "test": [
                          0.7978388594,
                          0.4562710976
                        ]
                      },
                      {
                        "learn": [
                          0.3816524233
                        ],
                        "iteration": 349,
                        "passed_time": 36.76589905,
                        "remaining_time": 15.75681388,
                        "test": [
                          0.7978257615,
                          0.4563157752
                        ]
                      },
                      {
                        "learn": [
                          0.3814524956
                        ],
                        "iteration": 350,
                        "passed_time": 36.8155155,
                        "remaining_time": 15.62823877,
                        "test": [
                          0.7979324152,
                          0.4562307813
                        ]
                      },
                      {
                        "learn": [
                          0.3812289742
                        ],
                        "iteration": 351,
                        "passed_time": 36.86602849,
                        "remaining_time": 15.50048925,
                        "test": [
                          0.7980802335,
                          0.4561124845
                        ]
                      },
                      {
                        "learn": [
                          0.3809731609
                        ],
                        "iteration": 352,
                        "passed_time": 36.91641104,
                        "remaining_time": 15.37312301,
                        "test": [
                          0.7983814834,
                          0.4558257556
                        ]
                      },
                      {
                        "learn": [
                          0.3806104839
                        ],
                        "iteration": 353,
                        "passed_time": 36.97087715,
                        "remaining_time": 15.24787589,
                        "test": [
                          0.7985049772,
                          0.4557149589
                        ]
                      },
                      {
                        "learn": [
                          0.3805760696
                        ],
                        "iteration": 354,
                        "passed_time": 37.0187014,
                        "remaining_time": 15.12031466,
                        "test": [
                          0.7984806526,
                          0.4557589408
                        ]
                      },
                      {
                        "learn": [
                          0.380530869
                        ],
                        "iteration": 355,
                        "passed_time": 37.07933361,
                        "remaining_time": 14.99838213,
                        "test": [
                          0.7984993638,
                          0.4557228342
                        ]
                      },
                      {
                        "learn": [
                          0.3801861693
                        ],
                        "iteration": 356,
                        "passed_time": 37.13062206,
                        "remaining_time": 14.87305029,
                        "test": [
                          0.7986284709,
                          0.4555901374
                        ]
                      },
                      {
                        "learn": [
                          0.3800446618
                        ],
                        "iteration": 357,
                        "passed_time": 37.17839399,
                        "remaining_time": 14.74673728,
                        "test": [
                          0.7988324227,
                          0.4554890869
                        ]
                      },
                      {
                        "learn": [
                          0.3798334952
                        ],
                        "iteration": 358,
                        "passed_time": 37.23743029,
                        "remaining_time": 14.62528599,
                        "test": [
                          0.7987332535,
                          0.4554900613
                        ]
                      },
                      {
                        "learn": [
                          0.3795241246
                        ],
                        "iteration": 359,
                        "passed_time": 37.28885366,
                        "remaining_time": 14.50122087,
                        "test": [
                          0.7985461418,
                          0.4555614511
                        ]
                      },
                      {
                        "learn": [
                          0.3794492097
                        ],
                        "iteration": 360,
                        "passed_time": 37.33837827,
                        "remaining_time": 14.37682709,
                        "test": [
                          0.7985405284,
                          0.4555491398
                        ]
                      },
                      {
                        "learn": [
                          0.3790933696
                        ],
                        "iteration": 361,
                        "passed_time": 37.38969861,
                        "remaining_time": 14.25353151,
                        "test": [
                          0.7986883467,
                          0.4554151629
                        ]
                      },
                      {
                        "learn": [
                          0.3790569882
                        ],
                        "iteration": 362,
                        "passed_time": 37.44700743,
                        "remaining_time": 14.13289261,
                        "test": [
                          0.7987108001,
                          0.455385563
                        ]
                      },
                      {
                        "learn": [
                          0.3788456779
                        ],
                        "iteration": 363,
                        "passed_time": 37.51201266,
                        "remaining_time": 14.01547726,
                        "test": [
                          0.7986359554,
                          0.4554162165
                        ]
                      },
                      {
                        "learn": [
                          0.3784396507
                        ],
                        "iteration": 364,
                        "passed_time": 37.56526876,
                        "remaining_time": 13.89400351,
                        "test": [
                          0.7987744181,
                          0.4552980685
                        ]
                      },
                      {
                        "learn": [
                          0.3780924695
                        ],
                        "iteration": 365,
                        "passed_time": 37.61545239,
                        "remaining_time": 13.77177765,
                        "test": [
                          0.7989540454,
                          0.4551544248
                        ]
                      },
                      {
                        "learn": [
                          0.3778436519
                        ],
                        "iteration": 366,
                        "passed_time": 37.67488861,
                        "remaining_time": 13.65329751,
                        "test": [
                          0.7990644413,
                          0.4550536032
                        ]
                      },
                      {
                        "learn": [
                          0.3777106423
                        ],
                        "iteration": 367,
                        "passed_time": 37.72446956,
                        "remaining_time": 13.53160321,
                        "test": [
                          0.7992421974,
                          0.4548704405
                        ]
                      },
                      {
                        "learn": [
                          0.3776749042
                        ],
                        "iteration": 368,
                        "passed_time": 37.77363597,
                        "remaining_time": 13.41015261,
                        "test": [
                          0.7991804506,
                          0.4549175905
                        ]
                      },
                      {
                        "learn": [
                          0.3776399871
                        ],
                        "iteration": 369,
                        "passed_time": 37.82245538,
                        "remaining_time": 13.28897081,
                        "test": [
                          0.7991841928,
                          0.4549156495
                        ]
                      },
                      {
                        "learn": [
                          0.3772456226
                        ],
                        "iteration": 370,
                        "passed_time": 37.87174169,
                        "remaining_time": 13.16834145,
                        "test": [
                          0.7992047751,
                          0.4548783044
                        ]
                      },
                      {
                        "learn": [
                          0.3771782819
                        ],
                        "iteration": 371,
                        "passed_time": 37.92641026,
                        "remaining_time": 13.04994762,
                        "test": [
                          0.7992085173,
                          0.4548751918
                        ]
                      },
                      {
                        "learn": [
                          0.3769949802
                        ],
                        "iteration": 372,
                        "passed_time": 37.97835791,
                        "remaining_time": 12.93096905,
                        "test": [
                          0.7990419879,
                          0.455022795
                        ]
                      },
                      {
                        "learn": [
                          0.3769555635
                        ],
                        "iteration": 373,
                        "passed_time": 38.02714187,
                        "remaining_time": 12.81128309,
                        "test": [
                          0.7989671432,
                          0.4550868158
                        ]
                      },
                      {
                        "learn": [
                          0.3764665349
                        ],
                        "iteration": 374,
                        "passed_time": 38.08360724,
                        "remaining_time": 12.69453575,
                        "test": [
                          0.7987819026,
                          0.4552183214
                        ]
                      },
                      {
                        "learn": [
                          0.3762922289
                        ],
                        "iteration": 375,
                        "passed_time": 38.13683103,
                        "remaining_time": 12.57704002,
                        "test": [
                          0.7986340843,
                          0.4552953445
                        ]
                      },
                      {
                        "learn": [
                          0.375760079
                        ],
                        "iteration": 376,
                        "passed_time": 38.18973381,
                        "remaining_time": 12.45978053,
                        "test": [
                          0.7988118404,
                          0.4551654943
                        ]
                      },
                      {
                        "learn": [
                          0.3755620452
                        ],
                        "iteration": 377,
                        "passed_time": 38.24117103,
                        "remaining_time": 12.34238853,
                        "test": [
                          0.7986733777,
                          0.4552360771
                        ]
                      },
                      {
                        "learn": [
                          0.3755343419
                        ],
                        "iteration": 378,
                        "passed_time": 38.29012754,
                        "remaining_time": 12.22455259,
                        "test": [
                          0.7986396976,
                          0.4552830359
                        ]
                      },
                      {
                        "learn": [
                          0.3754873533
                        ],
                        "iteration": 379,
                        "passed_time": 38.33902035,
                        "remaining_time": 12.10705906,
                        "test": [
                          0.7986097597,
                          0.4553371469
                        ]
                      },
                      {
                        "learn": [
                          0.375454616
                        ],
                        "iteration": 380,
                        "passed_time": 38.3864876,
                        "remaining_time": 11.98948038,
                        "test": [
                          0.7986078886,
                          0.4553408309
                        ]
                      },
                      {
                        "learn": [
                          0.3754154474
                        ],
                        "iteration": 381,
                        "passed_time": 38.43478469,
                        "remaining_time": 11.87252511,
                        "test": [
                          0.7986153731,
                          0.4553458675
                        ]
                      },
                      {
                        "learn": [
                          0.3750101117
                        ],
                        "iteration": 382,
                        "passed_time": 38.511051,
                        "remaining_time": 11.7644725,
                        "test": [
                          0.7984170347,
                          0.4555119251
                        ]
                      },
                      {
                        "learn": [
                          0.374746472
                        ],
                        "iteration": 383,
                        "passed_time": 38.56172316,
                        "remaining_time": 11.64885387,
                        "test": [
                          0.79834219,
                          0.4555367184
                        ]
                      },
                      {
                        "learn": [
                          0.3745755064
                        ],
                        "iteration": 384,
                        "passed_time": 38.61294562,
                        "remaining_time": 11.533737,
                        "test": [
                          0.79835903,
                          0.4555134582
                        ]
                      },
                      {
                        "learn": [
                          0.3745331599
                        ],
                        "iteration": 385,
                        "passed_time": 38.66312408,
                        "remaining_time": 11.41864286,
                        "test": [
                          0.798373999,
                          0.4554541331
                        ]
                      },
                      {
                        "learn": [
                          0.3742800017
                        ],
                        "iteration": 386,
                        "passed_time": 38.71554869,
                        "remaining_time": 11.30454006,
                        "test": [
                          0.7984357458,
                          0.4554066667
                        ]
                      },
                      {
                        "learn": [
                          0.3740505931
                        ],
                        "iteration": 387,
                        "passed_time": 38.76873874,
                        "remaining_time": 11.19097613,
                        "test": [
                          0.7984357458,
                          0.4554511399
                        ]
                      },
                      {
                        "learn": [
                          0.3738789103
                        ],
                        "iteration": 388,
                        "passed_time": 38.82005877,
                        "remaining_time": 11.07718901,
                        "test": [
                          0.7983552878,
                          0.4554223572
                        ]
                      },
                      {
                        "learn": [
                          0.3735441825
                        ],
                        "iteration": 389,
                        "passed_time": 38.87374496,
                        "remaining_time": 10.9643896,
                        "test": [
                          0.7983515455,
                          0.4554512906
                        ]
                      },
                      {
                        "learn": [
                          0.3735129081
                        ],
                        "iteration": 390,
                        "passed_time": 38.92333771,
                        "remaining_time": 10.85075143,
                        "test": [
                          0.7983478033,
                          0.4554565306
                        ]
                      },
                      {
                        "learn": [
                          0.3732510782
                        ],
                        "iteration": 391,
                        "passed_time": 38.9744692,
                        "remaining_time": 10.73786396,
                        "test": [
                          0.7983234788,
                          0.4554778222
                        ]
                      },
                      {
                        "learn": [
                          0.3729111494
                        ],
                        "iteration": 392,
                        "passed_time": 39.02570177,
                        "remaining_time": 10.62531829,
                        "test": [
                          0.7982411496,
                          0.4555790245
                        ]
                      },
                      {
                        "learn": [
                          0.3727029956
                        ],
                        "iteration": 393,
                        "passed_time": 39.07895905,
                        "remaining_time": 10.51362858,
                        "test": [
                          0.7982823142,
                          0.4554679547
                        ]
                      },
                      {
                        "learn": [
                          0.3726793247
                        ],
                        "iteration": 394,
                        "passed_time": 39.13867062,
                        "remaining_time": 10.40395042,
                        "test": [
                          0.798263603,
                          0.4554903063
                        ]
                      },
                      {
                        "learn": [
                          0.3722812021
                        ],
                        "iteration": 395,
                        "passed_time": 39.19097925,
                        "remaining_time": 10.29258041,
                        "test": [
                          0.7984114213,
                          0.4553751669
                        ]
                      },
                      {
                        "learn": [
                          0.372036953
                        ],
                        "iteration": 396,
                        "passed_time": 39.24563726,
                        "remaining_time": 10.18211748,
                        "test": [
                          0.7984207769,
                          0.4553901422
                        ]
                      },
                      {
                        "learn": [
                          0.3719051711
                        ],
                        "iteration": 397,
                        "passed_time": 39.29582152,
                        "remaining_time": 10.07078843,
                        "test": [
                          0.798486266,
                          0.4553303961
                        ]
                      },
                      {
                        "learn": [
                          0.3718436147
                        ],
                        "iteration": 398,
                        "passed_time": 39.36066928,
                        "remaining_time": 9.963477687,
                        "test": [
                          0.7984769104,
                          0.4553314098
                        ]
                      },
                      {
                        "learn": [
                          0.371396363
                        ],
                        "iteration": 399,
                        "passed_time": 39.4231618,
                        "remaining_time": 9.85579045,
                        "test": [
                          0.7985124616,
                          0.4553189736
                        ]
                      },
                      {
                        "learn": [
                          0.3708198488
                        ],
                        "iteration": 400,
                        "passed_time": 39.51031521,
                        "remaining_time": 9.754416971,
                        "test": [
                          0.7983758701,
                          0.4552771445
                        ]
                      },
                      {
                        "learn": [
                          0.3704682546
                        ],
                        "iteration": 401,
                        "passed_time": 39.56149118,
                        "remaining_time": 9.64434362,
                        "test": [
                          0.7983347055,
                          0.4553630617
                        ]
                      },
                      {
                        "learn": [
                          0.3701820642
                        ],
                        "iteration": 402,
                        "passed_time": 39.61236063,
                        "remaining_time": 9.534488786,
                        "test": [
                          0.7983927101,
                          0.4553165042
                        ]
                      },
                      {
                        "learn": [
                          0.3699594107
                        ],
                        "iteration": 403,
                        "passed_time": 39.66265491,
                        "remaining_time": 9.424789285,
                        "test": [
                          0.7983085098,
                          0.455415342
                        ]
                      },
                      {
                        "learn": [
                          0.3696916221
                        ],
                        "iteration": 404,
                        "passed_time": 39.71270821,
                        "remaining_time": 9.315326616,
                        "test": [
                          0.7983552878,
                          0.4554098489
                        ]
                      },
                      {
                        "learn": [
                          0.3694216663
                        ],
                        "iteration": 405,
                        "passed_time": 39.7672711,
                        "remaining_time": 9.207200699,
                        "test": [
                          0.798246763,
                          0.4554945558
                        ]
                      },
                      {
                        "learn": [
                          0.3693947138
                        ],
                        "iteration": 406,
                        "passed_time": 39.81856009,
                        "remaining_time": 9.098589898,
                        "test": [
                          0.7981962428,
                          0.4555299227
                        ]
                      },
                      {
                        "learn": [
                          0.3691430138
                        ],
                        "iteration": 407,
                        "passed_time": 39.87028753,
                        "remaining_time": 8.990358954,
                        "test": [
                          0.7983178654,
                          0.4554361366
                        ]
                      },
                      {
                        "learn": [
                          0.3687784484
                        ],
                        "iteration": 408,
                        "passed_time": 39.92407331,
                        "remaining_time": 8.882862277,
                        "test": [
                          0.7983777412,
                          0.4554551407
                        ]
                      },
                      {
                        "learn": [
                          0.3687609921
                        ],
                        "iteration": 409,
                        "passed_time": 39.97342918,
                        "remaining_time": 8.774655186,
                        "test": [
                          0.7983609011,
                          0.4554967825
                        ]
                      },
                      {
                        "learn": [
                          0.3683640273
                        ],
                        "iteration": 410,
                        "passed_time": 40.02601502,
                        "remaining_time": 8.66743391,
                        "test": [
                          0.7983178654,
                          0.4554988737
                        ]
                      },
                      {
                        "learn": [
                          0.3680491693
                        ],
                        "iteration": 411,
                        "passed_time": 40.07767749,
                        "remaining_time": 8.560280628,
                        "test": [
                          0.7983234788,
                          0.4555105779
                        ]
                      },
                      {
                        "learn": [
                          0.3678053804
                        ],
                        "iteration": 412,
                        "passed_time": 40.13735179,
                        "remaining_time": 8.45508379,
                        "test": [
                          0.7983609011,
                          0.4554514
                        ]
                      },
                      {
                        "learn": [
                          0.3674849932
                        ],
                        "iteration": 413,
                        "passed_time": 40.18901914,
                        "remaining_time": 8.348443588,
                        "test": [
                          0.7984282614,
                          0.4554316812
                        ]
                      },
                      {
                        "learn": [
                          0.367025262
                        ],
                        "iteration": 414,
                        "passed_time": 40.24267606,
                        "remaining_time": 8.242475819,
                        "test": [
                          0.7987351246,
                          0.455170968
                        ]
                      },
                      {
                        "learn": [
                          0.3669940218
                        ],
                        "iteration": 415,
                        "passed_time": 40.29208372,
                        "remaining_time": 8.13590152,
                        "test": [
                          0.7987538358,
                          0.4551748231
                        ]
                      },
                      {
                        "learn": [
                          0.3666117717
                        ],
                        "iteration": 416,
                        "passed_time": 40.34466319,
                        "remaining_time": 8.030232721,
                        "test": [
                          0.7987669336,
                          0.4551573051
                        ]
                      },
                      {
                        "learn": [
                          0.3665795346
                        ],
                        "iteration": 417,
                        "passed_time": 40.39347079,
                        "remaining_time": 7.924078001,
                        "test": [
                          0.7987669336,
                          0.4551586117
                        ]
                      },
                      {
                        "learn": [
                          0.3660411656
                        ],
                        "iteration": 418,
                        "passed_time": 40.44694451,
                        "remaining_time": 7.819099058,
                        "test": [
                          0.7987444802,
                          0.45516683
                        ]
                      },
                      {
                        "learn": [
                          0.3657384778
                        ],
                        "iteration": 419,
                        "passed_time": 40.50945455,
                        "remaining_time": 7.716086582,
                        "test": [
                          0.7987145423,
                          0.4551335171
                        ]
                      },
                      {
                        "learn": [
                          0.3656792113
                        ],
                        "iteration": 420,
                        "passed_time": 40.56982971,
                        "remaining_time": 7.612865907,
                        "test": [
                          0.7987426091,
                          0.455108083
                        ]
                      },
                      {
                        "learn": [
                          0.3654537731
                        ],
                        "iteration": 421,
                        "passed_time": 40.62115887,
                        "remaining_time": 7.508176284,
                        "test": [
                          0.7987631914,
                          0.4550850126
                        ]
                      },
                      {
                        "learn": [
                          0.3652931393
                        ],
                        "iteration": 422,
                        "passed_time": 40.6712674,
                        "remaining_time": 7.40351676,
                        "test": [
                          0.7988604895,
                          0.454996766
                        ]
                      },
                      {
                        "learn": [
                          0.3649417826
                        ],
                        "iteration": 423,
                        "passed_time": 40.72303296,
                        "remaining_time": 7.299411569,
                        "test": [
                          0.7987033156,
                          0.4550285789
                        ]
                      },
                      {
                        "learn": [
                          0.3647316857
                        ],
                        "iteration": 424,
                        "passed_time": 40.7757233,
                        "remaining_time": 7.195715876,
                        "test": [
                          0.79867712,
                          0.4550872007
                        ]
                      },
                      {
                        "learn": [
                          0.3646993751
                        ],
                        "iteration": 425,
                        "passed_time": 40.82518881,
                        "remaining_time": 7.091699465,
                        "test": [
                          0.7986602799,
                          0.4551049425
                        ]
                      },
                      {
                        "learn": [
                          0.3644376856
                        ],
                        "iteration": 426,
                        "passed_time": 40.87716797,
                        "remaining_time": 6.988368295,
                        "test": [
                          0.7987220268,
                          0.4550367479
                        ]
                      },
                      {
                        "learn": [
                          0.3638733918
                        ],
                        "iteration": 427,
                        "passed_time": 40.92918455,
                        "remaining_time": 6.885283382,
                        "test": [
                          0.79869396,
                          0.4551158702
                        ]
                      },
                      {
                        "learn": [
                          0.363510502
                        ],
                        "iteration": 428,
                        "passed_time": 40.98281147,
                        "remaining_time": 6.782703063,
                        "test": [
                          0.7987444802,
                          0.4550237497
                        ]
                      },
                      {
                        "learn": [
                          0.3633281189
                        ],
                        "iteration": 429,
                        "passed_time": 41.03229574,
                        "remaining_time": 6.679676051,
                        "test": [
                          0.7985947908,
                          0.4551250831
                        ]
                      },
                      {
                        "learn": [
                          0.3632983805
                        ],
                        "iteration": 430,
                        "passed_time": 41.08069972,
                        "remaining_time": 6.576724549,
                        "test": [
                          0.7985760796,
                          0.4551634933
                        ]
                      },
                      {
                        "learn": [
                          0.3632668199
                        ],
                        "iteration": 431,
                        "passed_time": 41.1306594,
                        "remaining_time": 6.474270461,
                        "test": [
                          0.7985779508,
                          0.455155
                        ]
                      },
                      {
                        "learn": [
                          0.3629222931
                        ],
                        "iteration": 432,
                        "passed_time": 41.19198443,
                        "remaining_time": 6.373817452,
                        "test": [
                          0.7985124616,
                          0.4552254892
                        ]
                      },
                      {
                        "learn": [
                          0.3623726713
                        ],
                        "iteration": 433,
                        "passed_time": 41.24539249,
                        "remaining_time": 6.272340793,
                        "test": [
                          0.7984581992,
                          0.4552212218
                        ]
                      },
                      {
                        "learn": [
                          0.3621332387
                        ],
                        "iteration": 434,
                        "passed_time": 41.2978621,
                        "remaining_time": 6.170944911,
                        "test": [
                          0.7985779508,
                          0.4551456852
                        ]
                      },
                      {
                        "learn": [
                          0.3618790314
                        ],
                        "iteration": 435,
                        "passed_time": 41.35016737,
                        "remaining_time": 6.069749338,
                        "test": [
                          0.7988399072,
                          0.4549970161
                        ]
                      },
                      {
                        "learn": [
                          0.3618518286
                        ],
                        "iteration": 436,
                        "passed_time": 41.39917752,
                        "remaining_time": 5.96830248,
                        "test": [
                          0.7988473917,
                          0.4549896879
                        ]
                      },
                      {
                        "learn": [
                          0.3614375056
                        ],
                        "iteration": 437,
                        "passed_time": 41.45100083,
                        "remaining_time": 5.867493269,
                        "test": [
                          0.7984189058,
                          0.4552422535
                        ]
                      },
                      {
                        "learn": [
                          0.3613758801
                        ],
                        "iteration": 438,
                        "passed_time": 41.50169982,
                        "remaining_time": 5.766751,
                        "test": [
                          0.7984694259,
                          0.4551920594
                        ]
                      },
                      {
                        "learn": [
                          0.360869083
                        ],
                        "iteration": 439,
                        "passed_time": 41.58084775,
                        "remaining_time": 5.670115602,
                        "test": [
                          0.7982411496,
                          0.4554271705
                        ]
                      },
                      {
                        "learn": [
                          0.3605934846
                        ],
                        "iteration": 440,
                        "passed_time": 41.63325637,
                        "remaining_time": 5.569982144,
                        "test": [
                          0.7983290921,
                          0.4553874328
                        ]
                      },
                      {
                        "learn": [
                          0.3601311072
                        ],
                        "iteration": 441,
                        "passed_time": 41.68806789,
                        "remaining_time": 5.47037995,
                        "test": [
                          0.7981906294,
                          0.4554310346
                        ]
                      },
                      {
                        "learn": [
                          0.3599545645
                        ],
                        "iteration": 442,
                        "passed_time": 41.74140365,
                        "remaining_time": 5.370790086,
                        "test": [
                          0.7981644338,
                          0.4554761903
                        ]
                      },
                      {
                        "learn": [
                          0.3594983806
                        ],
                        "iteration": 443,
                        "passed_time": 41.79400827,
                        "remaining_time": 5.271316359,
                        "test": [
                          0.7982430207,
                          0.4554110041
                        ]
                      },
                      {
                        "learn": [
                          0.3594750331
                        ],
                        "iteration": 444,
                        "passed_time": 41.84547395,
                        "remaining_time": 5.171912511,
                        "test": [
                          0.7982224384,
                          0.4554067416
                        ]
                      },
                      {
                        "learn": [
                          0.3590274034
                        ],
                        "iteration": 445,
                        "passed_time": 41.9000868,
                        "remaining_time": 5.07310468,
                        "test": [
                          0.7982093406,
                          0.4554198148
                        ]
                      },
                      {
                        "learn": [
                          0.3590024849
                        ],
                        "iteration": 446,
                        "passed_time": 41.94996631,
                        "remaining_time": 4.973933365,
                        "test": [
                          0.798214954,
                          0.4554363844
                        ]
                      },
                      {
                        "learn": [
                          0.3587080348
                        ],
                        "iteration": 447,
                        "passed_time": 42.00057465,
                        "remaining_time": 4.8750667,
                        "test": [
                          0.7982654741,
                          0.4553572604
                        ]
                      },
                      {
                        "learn": [
                          0.3584393297
                        ],
                        "iteration": 448,
                        "passed_time": 42.05283118,
                        "remaining_time": 4.776602205,
                        "test": [
                          0.7982205673,
                          0.4553888692
                        ]
                      },
                      {
                        "learn": [
                          0.3582631037
                        ],
                        "iteration": 449,
                        "passed_time": 42.10719705,
                        "remaining_time": 4.67857745,
                        "test": [
                          0.7983159943,
                          0.4553286524
                        ]
                      },
                      {
                        "learn": [
                          0.3579724366
                        ],
                        "iteration": 450,
                        "passed_time": 42.1566444,
                        "remaining_time": 4.580211919,
                        "test": [
                          0.7981925006,
                          0.4554394078
                        ]
                      },
                      {
                        "learn": [
                          0.3578283584
                        ],
                        "iteration": 451,
                        "passed_time": 42.2152828,
                        "remaining_time": 4.483038882,
                        "test": [
                          0.7981307537,
                          0.4554870626
                        ]
                      },
                      {
                        "learn": [
                          0.3576609698
                        ],
                        "iteration": 452,
                        "passed_time": 42.26897703,
                        "remaining_time": 4.385523003,
                        "test": [
                          0.7979698376,
                          0.4555686731
                        ]
                      },
                      {
                        "learn": [
                          0.3576096277
                        ],
                        "iteration": 453,
                        "passed_time": 42.31964856,
                        "remaining_time": 4.287893907,
                        "test": [
                          0.7979586109,
                          0.4555745153
                        ]
                      },
                      {
                        "learn": [
                          0.3571955634
                        ],
                        "iteration": 454,
                        "passed_time": 42.37390562,
                        "remaining_time": 4.19082583,
                        "test": [
                          0.7980989447,
                          0.4554986137
                        ]
                      },
                      {
                        "learn": [
                          0.3571585381
                        ],
                        "iteration": 455,
                        "passed_time": 42.42304643,
                        "remaining_time": 4.093451849,
                        "test": [
                          0.7981382382,
                          0.4554594913
                        ]
                      },
                      {
                        "learn": [
                          0.3568848656
                        ],
                        "iteration": 456,
                        "passed_time": 42.47620262,
                        "remaining_time": 3.996666768,
                        "test": [
                          0.7980203578,
                          0.4555098567
                        ]
                      },
                      {
                        "learn": [
                          0.3566152798
                        ],
                        "iteration": 457,
                        "passed_time": 42.54315289,
                        "remaining_time": 3.901337165,
                        "test": [
                          0.7981644338,
                          0.4554243073
                        ]
                      },
                      {
                        "learn": [
                          0.3565868957
                        ],
                        "iteration": 458,
                        "passed_time": 42.6058483,
                        "remaining_time": 3.805751156,
                        "test": [
                          0.7981569493,
                          0.4554125113
                        ]
                      },
                      {
                        "learn": [
                          0.3563202882
                        ],
                        "iteration": 459,
                        "passed_time": 42.65764127,
                        "remaining_time": 3.709360111,
                        "test": [
                          0.7980933313,
                          0.4555089874
                        ]
                      },
                      {
                        "learn": [
                          0.3560008073
                        ],
                        "iteration": 460,
                        "passed_time": 42.70982676,
                        "remaining_time": 3.613195757,
                        "test": [
                          0.7981251403,
                          0.4554015085
                        ]
                      },
                      {
                        "learn": [
                          0.3556078494
                        ],
                        "iteration": 461,
                        "passed_time": 42.76397246,
                        "remaining_time": 3.517383016,
                        "test": [
                          0.7979717087,
                          0.4554704324
                        ]
                      },
                      {
                        "learn": [
                          0.3555714362
                        ],
                        "iteration": 462,
                        "passed_time": 42.81525022,
                        "remaining_time": 3.421521076,
                        "test": [
                          0.7979717087,
                          0.4554733401
                        ]
                      },
                      {
                        "learn": [
                          0.3553664479
                        ],
                        "iteration": 463,
                        "passed_time": 42.8666811,
                        "remaining_time": 3.325863189,
                        "test": [
                          0.7979305441,
                          0.4555541568
                        ]
                      },
                      {
                        "learn": [
                          0.3550592768
                        ],
                        "iteration": 464,
                        "passed_time": 42.91857914,
                        "remaining_time": 3.230430688,
                        "test": [
                          0.7979979043,
                          0.45548342
                        ]
                      },
                      {
                        "learn": [
                          0.354787256
                        ],
                        "iteration": 465,
                        "passed_time": 42.97030559,
                        "remaining_time": 3.135172511,
                        "test": [
                          0.7981438515,
                          0.4553416293
                        ]
                      },
                      {
                        "learn": [
                          0.3547579078
                        ],
                        "iteration": 466,
                        "passed_time": 43.01983916,
                        "remaining_time": 3.039945808,
                        "test": [
                          0.7981307537,
                          0.4553366752
                        ]
                      },
                      {
                        "learn": [
                          0.3547317388
                        ],
                        "iteration": 467,
                        "passed_time": 43.06908912,
                        "remaining_time": 2.944894982,
                        "test": [
                          0.798104558,
                          0.4553867262
                        ]
                      },
                      {
                        "learn": [
                          0.354672311
                        ],
                        "iteration": 468,
                        "passed_time": 43.11933772,
                        "remaining_time": 2.850105478,
                        "test": [
                          0.798119527,
                          0.4553929753
                        ]
                      },
                      {
                        "learn": [
                          0.354396151
                        ],
                        "iteration": 469,
                        "passed_time": 43.16976209,
                        "remaining_time": 2.755516729,
                        "test": [
                          0.7982692164,
                          0.455295273
                        ]
                      },
                      {
                        "learn": [
                          0.3543739433
                        ],
                        "iteration": 470,
                        "passed_time": 43.2316752,
                        "remaining_time": 2.661822889,
                        "test": [
                          0.7982505052,
                          0.4553144558
                        ]
                      },
                      {
                        "learn": [
                          0.3541701602
                        ],
                        "iteration": 471,
                        "passed_time": 43.28819433,
                        "remaining_time": 2.567943731,
                        "test": [
                          0.7981719183,
                          0.4554317796
                        ]
                      },
                      {
                        "learn": [
                          0.3541468483
                        ],
                        "iteration": 472,
                        "passed_time": 43.34389843,
                        "remaining_time": 2.47417602,
                        "test": [
                          0.7981812739,
                          0.4554155543
                        ]
                      },
                      {
                        "learn": [
                          0.3538590747
                        ],
                        "iteration": 473,
                        "passed_time": 43.39846371,
                        "remaining_time": 2.380506448,
                        "test": [
                          0.7979960332,
                          0.4555976004
                        ]
                      },
                      {
                        "learn": [
                          0.3535716277
                        ],
                        "iteration": 474,
                        "passed_time": 43.45471764,
                        "remaining_time": 2.287090402,
                        "test": [
                          0.7980690068,
                          0.4554753452
                        ]
                      },
                      {
                        "learn": [
                          0.353376357
                        ],
                        "iteration": 475,
                        "passed_time": 43.50969836,
                        "remaining_time": 2.193766304,
                        "test": [
                          0.7980072599,
                          0.4554639941
                        ]
                      },
                      {
                        "learn": [
                          0.3533289089
                        ],
                        "iteration": 476,
                        "passed_time": 43.57378207,
                        "remaining_time": 2.101041903,
                        "test": [
                          0.7979679665,
                          0.4554768363
                        ]
                      },
                      {
                        "learn": [
                          0.3532967767
                        ],
                        "iteration": 477,
                        "passed_time": 43.64085442,
                        "remaining_time": 2.00857489,
                        "test": [
                          0.7979660954,
                          0.4554663599
                        ]
                      },
                      {
                        "learn": [
                          0.3532240863
                        ],
                        "iteration": 478,
                        "passed_time": 43.69113627,
                        "remaining_time": 1.915477791,
                        "test": [
                          0.7979735798,
                          0.4554273908
                        ]
                      },
                      {
                        "learn": [
                          0.3531874554
                        ],
                        "iteration": 479,
                        "passed_time": 43.74237226,
                        "remaining_time": 1.822598844,
                        "test": [
                          0.7979455131,
                          0.4554307767
                        ]
                      },
                      {
                        "learn": [
                          0.3528822945
                        ],
                        "iteration": 480,
                        "passed_time": 43.79464417,
                        "remaining_time": 1.729933969,
                        "test": [
                          0.7979380286,
                          0.4554075698
                        ]
                      },
                      {
                        "learn": [
                          0.3525342055
                        ],
                        "iteration": 481,
                        "passed_time": 43.85290172,
                        "remaining_time": 1.63766023,
                        "test": [
                          0.7979305441,
                          0.455347827
                        ]
                      },
                      {
                        "learn": [
                          0.3523976879
                        ],
                        "iteration": 482,
                        "passed_time": 43.90274212,
                        "remaining_time": 1.545231089,
                        "test": [
                          0.7980053888,
                          0.455265481
                        ]
                      },
                      {
                        "learn": [
                          0.3523432073
                        ],
                        "iteration": 483,
                        "passed_time": 43.95435047,
                        "remaining_time": 1.453036379,
                        "test": [
                          0.7979810643,
                          0.4552875441
                        ]
                      },
                      {
                        "learn": [
                          0.3523040738
                        ],
                        "iteration": 484,
                        "passed_time": 44.00516681,
                        "remaining_time": 1.36098454,
                        "test": [
                          0.7979436419,
                          0.4553289069
                        ]
                      },
                      {
                        "learn": [
                          0.3522792228
                        ],
                        "iteration": 485,
                        "passed_time": 44.06133005,
                        "remaining_time": 1.269256421,
                        "test": [
                          0.7979586109,
                          0.4553226915
                        ]
                      },
                      {
                        "learn": [
                          0.3519532043
                        ],
                        "iteration": 486,
                        "passed_time": 44.11206793,
                        "remaining_time": 1.177529534,
                        "test": [
                          0.7980259711,
                          0.4552454068
                        ]
                      },
                      {
                        "learn": [
                          0.3519253173
                        ],
                        "iteration": 487,
                        "passed_time": 44.16160102,
                        "remaining_time": 1.085941009,
                        "test": [
                          0.7980353267,
                          0.4552550832
                        ]
                      },
                      {
                        "learn": [
                          0.3515910962
                        ],
                        "iteration": 488,
                        "passed_time": 44.22709775,
                        "remaining_time": 0.9948835895,
                        "test": [
                          0.7979305441,
                          0.4553942794
                        ]
                      },
                      {
                        "learn": [
                          0.3513635012
                        ],
                        "iteration": 489,
                        "passed_time": 44.27969715,
                        "remaining_time": 0.9036672889,
                        "test": [
                          0.7979211885,
                          0.4553715651
                        ]
                      },
                      {
                        "learn": [
                          0.3510689181
                        ],
                        "iteration": 490,
                        "passed_time": 44.33340827,
                        "remaining_time": 0.8126286648,
                        "test": [
                          0.7978070504,
                          0.4555588667
                        ]
                      },
                      {
                        "learn": [
                          0.3506660359
                        ],
                        "iteration": 491,
                        "passed_time": 44.38626741,
                        "remaining_time": 0.7217279253,
                        "test": [
                          0.7976685877,
                          0.4556167615
                        ]
                      },
                      {
                        "learn": [
                          0.3504733108
                        ],
                        "iteration": 492,
                        "passed_time": 44.43724517,
                        "remaining_time": 0.6309547996,
                        "test": [
                          0.7976274231,
                          0.455616346
                        ]
                      },
                      {
                        "learn": [
                          0.3502601647
                        ],
                        "iteration": 493,
                        "passed_time": 44.48780504,
                        "remaining_time": 0.5403377131,
                        "test": [
                          0.7976517476,
                          0.4555585595
                        ]
                      },
                      {
                        "learn": [
                          0.349979634
                        ],
                        "iteration": 494,
                        "passed_time": 44.53951537,
                        "remaining_time": 0.4498940946,
                        "test": [
                          0.797752788,
                          0.4555384909
                        ]
                      },
                      {
                        "learn": [
                          0.3495849622
                        ],
                        "iteration": 495,
                        "passed_time": 44.62115606,
                        "remaining_time": 0.3598480327,
                        "test": [
                          0.7981606916,
                          0.4552657288
                        ]
                      },
                      {
                        "learn": [
                          0.3495404736
                        ],
                        "iteration": 496,
                        "passed_time": 44.66954222,
                        "remaining_time": 0.2696350637,
                        "test": [
                          0.7981344959,
                          0.4552872757
                        ]
                      },
                      {
                        "learn": [
                          0.3493954696
                        ],
                        "iteration": 497,
                        "passed_time": 44.71981704,
                        "remaining_time": 0.1795976588,
                        "test": [
                          0.7981101714,
                          0.4552912981
                        ]
                      },
                      {
                        "learn": [
                          0.349109547
                        ],
                        "iteration": 498,
                        "passed_time": 44.7730041,
                        "remaining_time": 0.08972545912,
                        "test": [
                          0.7983028965,
                          0.4551253828
                        ]
                      },
                      {
                        "learn": [
                          0.3489822464
                        ],
                        "iteration": 499,
                        "passed_time": 44.82437766,
                        "remaining_time": 0,
                        "test": [
                          0.7982748297,
                          0.4551557385
                        ]
                      }
                    ],
                    "meta": {
                      "test_sets": [
                        "test"
                      ],
                      "test_metrics": [
                        {
                          "best_value": "Max",
                          "name": "AUC"
                        },
                        {
                          "best_value": "Min",
                          "name": "Logloss"
                        }
                      ],
                      "learn_metrics": [
                        {
                          "best_value": "Min",
                          "name": "Logloss"
                        }
                      ],
                      "launch_mode": "Train",
                      "parameters": "",
                      "iteration_count": 500,
                      "learn_sets": [
                        "learn"
                      ],
                      "name": "experiment"
                    }
                  }
                }
              }
            },
            "layout": "IPY_MODEL_b3b4e6cb9c98488c8f164fdda5075cf3"
          }
        }
      }
    }
  },
  "cells": [
    {
      "cell_type": "code",
      "execution_count": null,
      "metadata": {
        "colab": {
          "base_uri": "https://localhost:8080/"
        },
        "id": "bks6SX9Of4or",
        "outputId": "6269fada-09e5-4c65-f525-521843f6bfd9"
      },
      "outputs": [
        {
          "output_type": "stream",
          "name": "stdout",
          "text": [
            "Looking in indexes: https://pypi.org/simple, https://us-python.pkg.dev/colab-wheels/public/simple/\n",
            "Requirement already satisfied: pytorch-lifestream in /usr/local/lib/python3.9/dist-packages (0.5.2)\n",
            "Requirement already satisfied: pyarrow>=7.0 in /usr/local/lib/python3.9/dist-packages (from pytorch-lifestream) (9.0.0)\n",
            "Requirement already satisfied: transformers==4.* in /usr/local/lib/python3.9/dist-packages (from pytorch-lifestream) (4.27.3)\n",
            "Requirement already satisfied: pytorch-lightning==1.6.* in /usr/local/lib/python3.9/dist-packages (from pytorch-lifestream) (1.6.5)\n",
            "Requirement already satisfied: hydra-core>=1.1.2 in /usr/local/lib/python3.9/dist-packages (from pytorch-lifestream) (1.3.2)\n",
            "Requirement already satisfied: numpy>=1.17.2 in /usr/local/lib/python3.9/dist-packages (from pytorch-lightning==1.6.*->pytorch-lifestream) (1.22.4)\n",
            "Requirement already satisfied: typing-extensions>=4.0.0 in /usr/local/lib/python3.9/dist-packages (from pytorch-lightning==1.6.*->pytorch-lifestream) (4.5.0)\n",
            "Requirement already satisfied: packaging>=17.0 in /usr/local/lib/python3.9/dist-packages (from pytorch-lightning==1.6.*->pytorch-lifestream) (23.0)\n",
            "Requirement already satisfied: protobuf<=3.20.1 in /usr/local/lib/python3.9/dist-packages (from pytorch-lightning==1.6.*->pytorch-lifestream) (3.19.6)\n",
            "Requirement already satisfied: torchmetrics>=0.4.1 in /usr/local/lib/python3.9/dist-packages (from pytorch-lightning==1.6.*->pytorch-lifestream) (0.11.4)\n",
            "Requirement already satisfied: PyYAML>=5.4 in /usr/local/lib/python3.9/dist-packages (from pytorch-lightning==1.6.*->pytorch-lifestream) (6.0)\n",
            "Requirement already satisfied: fsspec[http]!=2021.06.0,>=2021.05.0 in /usr/local/lib/python3.9/dist-packages (from pytorch-lightning==1.6.*->pytorch-lifestream) (2023.3.0)\n",
            "Requirement already satisfied: torch>=1.8.* in /usr/local/lib/python3.9/dist-packages (from pytorch-lightning==1.6.*->pytorch-lifestream) (1.13.1+cu116)\n",
            "Requirement already satisfied: tqdm>=4.57.0 in /usr/local/lib/python3.9/dist-packages (from pytorch-lightning==1.6.*->pytorch-lifestream) (4.65.0)\n",
            "Requirement already satisfied: pyDeprecate>=0.3.1 in /usr/local/lib/python3.9/dist-packages (from pytorch-lightning==1.6.*->pytorch-lifestream) (0.3.2)\n",
            "Requirement already satisfied: tensorboard>=2.2.0 in /usr/local/lib/python3.9/dist-packages (from pytorch-lightning==1.6.*->pytorch-lifestream) (2.11.2)\n",
            "Requirement already satisfied: tokenizers!=0.11.3,<0.14,>=0.11.1 in /usr/local/lib/python3.9/dist-packages (from transformers==4.*->pytorch-lifestream) (0.13.2)\n",
            "Requirement already satisfied: huggingface-hub<1.0,>=0.11.0 in /usr/local/lib/python3.9/dist-packages (from transformers==4.*->pytorch-lifestream) (0.13.3)\n",
            "Requirement already satisfied: regex!=2019.12.17 in /usr/local/lib/python3.9/dist-packages (from transformers==4.*->pytorch-lifestream) (2022.10.31)\n",
            "Requirement already satisfied: filelock in /usr/local/lib/python3.9/dist-packages (from transformers==4.*->pytorch-lifestream) (3.10.1)\n",
            "Requirement already satisfied: requests in /usr/local/lib/python3.9/dist-packages (from transformers==4.*->pytorch-lifestream) (2.27.1)\n",
            "Requirement already satisfied: antlr4-python3-runtime==4.9.* in /usr/local/lib/python3.9/dist-packages (from hydra-core>=1.1.2->pytorch-lifestream) (4.9.3)\n",
            "Requirement already satisfied: omegaconf<2.4,>=2.2 in /usr/local/lib/python3.9/dist-packages (from hydra-core>=1.1.2->pytorch-lifestream) (2.3.0)\n",
            "Requirement already satisfied: aiohttp!=4.0.0a0,!=4.0.0a1 in /usr/local/lib/python3.9/dist-packages (from fsspec[http]!=2021.06.0,>=2021.05.0->pytorch-lightning==1.6.*->pytorch-lifestream) (3.8.4)\n",
            "Requirement already satisfied: google-auth-oauthlib<0.5,>=0.4.1 in /usr/local/lib/python3.9/dist-packages (from tensorboard>=2.2.0->pytorch-lightning==1.6.*->pytorch-lifestream) (0.4.6)\n",
            "Requirement already satisfied: grpcio>=1.24.3 in /usr/local/lib/python3.9/dist-packages (from tensorboard>=2.2.0->pytorch-lightning==1.6.*->pytorch-lifestream) (1.51.3)\n",
            "Requirement already satisfied: setuptools>=41.0.0 in /usr/local/lib/python3.9/dist-packages (from tensorboard>=2.2.0->pytorch-lightning==1.6.*->pytorch-lifestream) (67.6.0)\n",
            "Requirement already satisfied: tensorboard-data-server<0.7.0,>=0.6.0 in /usr/local/lib/python3.9/dist-packages (from tensorboard>=2.2.0->pytorch-lightning==1.6.*->pytorch-lifestream) (0.6.1)\n",
            "Requirement already satisfied: wheel>=0.26 in /usr/local/lib/python3.9/dist-packages (from tensorboard>=2.2.0->pytorch-lightning==1.6.*->pytorch-lifestream) (0.40.0)\n",
            "Requirement already satisfied: werkzeug>=1.0.1 in /usr/local/lib/python3.9/dist-packages (from tensorboard>=2.2.0->pytorch-lightning==1.6.*->pytorch-lifestream) (2.2.3)\n",
            "Requirement already satisfied: absl-py>=0.4 in /usr/local/lib/python3.9/dist-packages (from tensorboard>=2.2.0->pytorch-lightning==1.6.*->pytorch-lifestream) (1.4.0)\n",
            "Requirement already satisfied: tensorboard-plugin-wit>=1.6.0 in /usr/local/lib/python3.9/dist-packages (from tensorboard>=2.2.0->pytorch-lightning==1.6.*->pytorch-lifestream) (1.8.1)\n",
            "Requirement already satisfied: google-auth<3,>=1.6.3 in /usr/local/lib/python3.9/dist-packages (from tensorboard>=2.2.0->pytorch-lightning==1.6.*->pytorch-lifestream) (2.16.2)\n",
            "Requirement already satisfied: markdown>=2.6.8 in /usr/local/lib/python3.9/dist-packages (from tensorboard>=2.2.0->pytorch-lightning==1.6.*->pytorch-lifestream) (3.4.2)\n",
            "Requirement already satisfied: charset-normalizer~=2.0.0 in /usr/local/lib/python3.9/dist-packages (from requests->transformers==4.*->pytorch-lifestream) (2.0.12)\n",
            "Requirement already satisfied: certifi>=2017.4.17 in /usr/local/lib/python3.9/dist-packages (from requests->transformers==4.*->pytorch-lifestream) (2022.12.7)\n",
            "Requirement already satisfied: idna<4,>=2.5 in /usr/local/lib/python3.9/dist-packages (from requests->transformers==4.*->pytorch-lifestream) (3.4)\n",
            "Requirement already satisfied: urllib3<1.27,>=1.21.1 in /usr/local/lib/python3.9/dist-packages (from requests->transformers==4.*->pytorch-lifestream) (1.26.15)\n",
            "Requirement already satisfied: aiosignal>=1.1.2 in /usr/local/lib/python3.9/dist-packages (from aiohttp!=4.0.0a0,!=4.0.0a1->fsspec[http]!=2021.06.0,>=2021.05.0->pytorch-lightning==1.6.*->pytorch-lifestream) (1.3.1)\n",
            "Requirement already satisfied: multidict<7.0,>=4.5 in /usr/local/lib/python3.9/dist-packages (from aiohttp!=4.0.0a0,!=4.0.0a1->fsspec[http]!=2021.06.0,>=2021.05.0->pytorch-lightning==1.6.*->pytorch-lifestream) (6.0.4)\n",
            "Requirement already satisfied: async-timeout<5.0,>=4.0.0a3 in /usr/local/lib/python3.9/dist-packages (from aiohttp!=4.0.0a0,!=4.0.0a1->fsspec[http]!=2021.06.0,>=2021.05.0->pytorch-lightning==1.6.*->pytorch-lifestream) (4.0.2)\n",
            "Requirement already satisfied: attrs>=17.3.0 in /usr/local/lib/python3.9/dist-packages (from aiohttp!=4.0.0a0,!=4.0.0a1->fsspec[http]!=2021.06.0,>=2021.05.0->pytorch-lightning==1.6.*->pytorch-lifestream) (22.2.0)\n",
            "Requirement already satisfied: yarl<2.0,>=1.0 in /usr/local/lib/python3.9/dist-packages (from aiohttp!=4.0.0a0,!=4.0.0a1->fsspec[http]!=2021.06.0,>=2021.05.0->pytorch-lightning==1.6.*->pytorch-lifestream) (1.8.2)\n",
            "Requirement already satisfied: frozenlist>=1.1.1 in /usr/local/lib/python3.9/dist-packages (from aiohttp!=4.0.0a0,!=4.0.0a1->fsspec[http]!=2021.06.0,>=2021.05.0->pytorch-lightning==1.6.*->pytorch-lifestream) (1.3.3)\n",
            "Requirement already satisfied: six>=1.9.0 in /usr/local/lib/python3.9/dist-packages (from google-auth<3,>=1.6.3->tensorboard>=2.2.0->pytorch-lightning==1.6.*->pytorch-lifestream) (1.16.0)\n",
            "Requirement already satisfied: pyasn1-modules>=0.2.1 in /usr/local/lib/python3.9/dist-packages (from google-auth<3,>=1.6.3->tensorboard>=2.2.0->pytorch-lightning==1.6.*->pytorch-lifestream) (0.2.8)\n",
            "Requirement already satisfied: cachetools<6.0,>=2.0.0 in /usr/local/lib/python3.9/dist-packages (from google-auth<3,>=1.6.3->tensorboard>=2.2.0->pytorch-lightning==1.6.*->pytorch-lifestream) (5.3.0)\n",
            "Requirement already satisfied: rsa<5,>=3.1.4 in /usr/local/lib/python3.9/dist-packages (from google-auth<3,>=1.6.3->tensorboard>=2.2.0->pytorch-lightning==1.6.*->pytorch-lifestream) (4.9)\n",
            "Requirement already satisfied: requests-oauthlib>=0.7.0 in /usr/local/lib/python3.9/dist-packages (from google-auth-oauthlib<0.5,>=0.4.1->tensorboard>=2.2.0->pytorch-lightning==1.6.*->pytorch-lifestream) (1.3.1)\n",
            "Requirement already satisfied: importlib-metadata>=4.4 in /usr/local/lib/python3.9/dist-packages (from markdown>=2.6.8->tensorboard>=2.2.0->pytorch-lightning==1.6.*->pytorch-lifestream) (6.1.0)\n",
            "Requirement already satisfied: MarkupSafe>=2.1.1 in /usr/local/lib/python3.9/dist-packages (from werkzeug>=1.0.1->tensorboard>=2.2.0->pytorch-lightning==1.6.*->pytorch-lifestream) (2.1.2)\n",
            "Requirement already satisfied: zipp>=0.5 in /usr/local/lib/python3.9/dist-packages (from importlib-metadata>=4.4->markdown>=2.6.8->tensorboard>=2.2.0->pytorch-lightning==1.6.*->pytorch-lifestream) (3.15.0)\n",
            "Requirement already satisfied: pyasn1<0.5.0,>=0.4.6 in /usr/local/lib/python3.9/dist-packages (from pyasn1-modules>=0.2.1->google-auth<3,>=1.6.3->tensorboard>=2.2.0->pytorch-lightning==1.6.*->pytorch-lifestream) (0.4.8)\n",
            "Requirement already satisfied: oauthlib>=3.0.0 in /usr/local/lib/python3.9/dist-packages (from requests-oauthlib>=0.7.0->google-auth-oauthlib<0.5,>=0.4.1->tensorboard>=2.2.0->pytorch-lightning==1.6.*->pytorch-lifestream) (3.2.2)\n"
          ]
        }
      ],
      "source": [
        "if 'google.colab' in str(get_ipython()):\n",
        "    !pip install pytorch-lifestream"
      ]
    },
    {
      "cell_type": "code",
      "source": [
        "import os\n",
        "\n",
        "if not os.path.exists('data/transactions.csv'):\n",
        "    ! mkdir -p data\n",
        "    ! curl -OL https://storage.yandexcloud.net/datasouls-ods/materials/0433a4ca/transactions.zip\n",
        "    ! curl -OL https://storage.yandexcloud.net/datasouls-ods/materials/e756bf99/train.csv\n",
        "    ! unzip transactions.zip -d data\n",
        "    ! cp train.csv data"
      ],
      "metadata": {
        "id": "68EzT3NNf-iQ"
      },
      "execution_count": null,
      "outputs": []
    },
    {
      "cell_type": "code",
      "source": [
        "%load_ext autoreload\n",
        "%autoreload 2\n",
        "\n",
        "# import logging\n",
        "import torch\n",
        "import pytorch_lightning as pl\n",
        "# import warnings\n",
        "\n",
        "# warnings.filterwarnings('ignore')\n",
        "# logging.getLogger(\"pytorch_lightning\").setLevel(logging.ERROR)"
      ],
      "metadata": {
        "id": "eRKNDaz9Vks8"
      },
      "execution_count": null,
      "outputs": []
    },
    {
      "cell_type": "code",
      "source": [
        "import os\n",
        "import pandas as pd\n",
        "\n",
        "data_path = 'data/'\n",
        "\n",
        "source_data = pd.read_csv(os.path.join(data_path, 'transactions.csv'))\n",
        "source_data.head(2)"
      ],
      "metadata": {
        "colab": {
          "base_uri": "https://localhost:8080/",
          "height": 211
        },
        "id": "HQedDuEFVna4",
        "outputId": "6cad191b-f712-4082-e0cb-04406c29a509"
      },
      "execution_count": null,
      "outputs": [
        {
          "output_type": "execute_result",
          "data": {
            "text/plain": [
              "                            user_id  mcc_code  currency_rk  transaction_amt  \\\n",
              "0  000932580e404dafbecd5916d4640938      5411           48       -361.07230   \n",
              "1  000932580e404dafbecd5916d4640938      5499           48       -137.31398   \n",
              "\n",
              "      transaction_dttm  \n",
              "0  2020-08-03 08:05:23  \n",
              "1  2020-08-05 01:27:40  "
            ],
            "text/html": [
              "\n",
              "  <div id=\"df-9d436b04-e577-40c9-a3d7-134dd152ecdc\">\n",
              "    <div class=\"colab-df-container\">\n",
              "      <div>\n",
              "<style scoped>\n",
              "    .dataframe tbody tr th:only-of-type {\n",
              "        vertical-align: middle;\n",
              "    }\n",
              "\n",
              "    .dataframe tbody tr th {\n",
              "        vertical-align: top;\n",
              "    }\n",
              "\n",
              "    .dataframe thead th {\n",
              "        text-align: right;\n",
              "    }\n",
              "</style>\n",
              "<table border=\"1\" class=\"dataframe\">\n",
              "  <thead>\n",
              "    <tr style=\"text-align: right;\">\n",
              "      <th></th>\n",
              "      <th>user_id</th>\n",
              "      <th>mcc_code</th>\n",
              "      <th>currency_rk</th>\n",
              "      <th>transaction_amt</th>\n",
              "      <th>transaction_dttm</th>\n",
              "    </tr>\n",
              "  </thead>\n",
              "  <tbody>\n",
              "    <tr>\n",
              "      <th>0</th>\n",
              "      <td>000932580e404dafbecd5916d4640938</td>\n",
              "      <td>5411</td>\n",
              "      <td>48</td>\n",
              "      <td>-361.07230</td>\n",
              "      <td>2020-08-03 08:05:23</td>\n",
              "    </tr>\n",
              "    <tr>\n",
              "      <th>1</th>\n",
              "      <td>000932580e404dafbecd5916d4640938</td>\n",
              "      <td>5499</td>\n",
              "      <td>48</td>\n",
              "      <td>-137.31398</td>\n",
              "      <td>2020-08-05 01:27:40</td>\n",
              "    </tr>\n",
              "  </tbody>\n",
              "</table>\n",
              "</div>\n",
              "      <button class=\"colab-df-convert\" onclick=\"convertToInteractive('df-9d436b04-e577-40c9-a3d7-134dd152ecdc')\"\n",
              "              title=\"Convert this dataframe to an interactive table.\"\n",
              "              style=\"display:none;\">\n",
              "        \n",
              "  <svg xmlns=\"http://www.w3.org/2000/svg\" height=\"24px\"viewBox=\"0 0 24 24\"\n",
              "       width=\"24px\">\n",
              "    <path d=\"M0 0h24v24H0V0z\" fill=\"none\"/>\n",
              "    <path d=\"M18.56 5.44l.94 2.06.94-2.06 2.06-.94-2.06-.94-.94-2.06-.94 2.06-2.06.94zm-11 1L8.5 8.5l.94-2.06 2.06-.94-2.06-.94L8.5 2.5l-.94 2.06-2.06.94zm10 10l.94 2.06.94-2.06 2.06-.94-2.06-.94-.94-2.06-.94 2.06-2.06.94z\"/><path d=\"M17.41 7.96l-1.37-1.37c-.4-.4-.92-.59-1.43-.59-.52 0-1.04.2-1.43.59L10.3 9.45l-7.72 7.72c-.78.78-.78 2.05 0 2.83L4 21.41c.39.39.9.59 1.41.59.51 0 1.02-.2 1.41-.59l7.78-7.78 2.81-2.81c.8-.78.8-2.07 0-2.86zM5.41 20L4 18.59l7.72-7.72 1.47 1.35L5.41 20z\"/>\n",
              "  </svg>\n",
              "      </button>\n",
              "      \n",
              "  <style>\n",
              "    .colab-df-container {\n",
              "      display:flex;\n",
              "      flex-wrap:wrap;\n",
              "      gap: 12px;\n",
              "    }\n",
              "\n",
              "    .colab-df-convert {\n",
              "      background-color: #E8F0FE;\n",
              "      border: none;\n",
              "      border-radius: 50%;\n",
              "      cursor: pointer;\n",
              "      display: none;\n",
              "      fill: #1967D2;\n",
              "      height: 32px;\n",
              "      padding: 0 0 0 0;\n",
              "      width: 32px;\n",
              "    }\n",
              "\n",
              "    .colab-df-convert:hover {\n",
              "      background-color: #E2EBFA;\n",
              "      box-shadow: 0px 1px 2px rgba(60, 64, 67, 0.3), 0px 1px 3px 1px rgba(60, 64, 67, 0.15);\n",
              "      fill: #174EA6;\n",
              "    }\n",
              "\n",
              "    [theme=dark] .colab-df-convert {\n",
              "      background-color: #3B4455;\n",
              "      fill: #D2E3FC;\n",
              "    }\n",
              "\n",
              "    [theme=dark] .colab-df-convert:hover {\n",
              "      background-color: #434B5C;\n",
              "      box-shadow: 0px 1px 3px 1px rgba(0, 0, 0, 0.15);\n",
              "      filter: drop-shadow(0px 1px 2px rgba(0, 0, 0, 0.3));\n",
              "      fill: #FFFFFF;\n",
              "    }\n",
              "  </style>\n",
              "\n",
              "      <script>\n",
              "        const buttonEl =\n",
              "          document.querySelector('#df-9d436b04-e577-40c9-a3d7-134dd152ecdc button.colab-df-convert');\n",
              "        buttonEl.style.display =\n",
              "          google.colab.kernel.accessAllowed ? 'block' : 'none';\n",
              "\n",
              "        async function convertToInteractive(key) {\n",
              "          const element = document.querySelector('#df-9d436b04-e577-40c9-a3d7-134dd152ecdc');\n",
              "          const dataTable =\n",
              "            await google.colab.kernel.invokeFunction('convertToInteractive',\n",
              "                                                     [key], {});\n",
              "          if (!dataTable) return;\n",
              "\n",
              "          const docLinkHtml = 'Like what you see? Visit the ' +\n",
              "            '<a target=\"_blank\" href=https://colab.research.google.com/notebooks/data_table.ipynb>data table notebook</a>'\n",
              "            + ' to learn more about interactive tables.';\n",
              "          element.innerHTML = '';\n",
              "          dataTable['output_type'] = 'display_data';\n",
              "          await google.colab.output.renderOutput(dataTable, element);\n",
              "          const docLink = document.createElement('div');\n",
              "          docLink.innerHTML = docLinkHtml;\n",
              "          element.appendChild(docLink);\n",
              "        }\n",
              "      </script>\n",
              "    </div>\n",
              "  </div>\n",
              "  "
            ]
          },
          "metadata": {},
          "execution_count": 4
        }
      ]
    },
    {
      "cell_type": "code",
      "source": [
        "source_data.dropna(inplace=True)"
      ],
      "metadata": {
        "id": "vfrI0uz5v7QN"
      },
      "execution_count": null,
      "outputs": []
    },
    {
      "cell_type": "code",
      "source": [
        "source_data.shape"
      ],
      "metadata": {
        "colab": {
          "base_uri": "https://localhost:8080/"
        },
        "id": "CSPMYnkJmPy9",
        "outputId": "374e1fb1-3834-42b5-d235-6eab5c8560b0"
      },
      "execution_count": null,
      "outputs": [
        {
          "output_type": "execute_result",
          "data": {
            "text/plain": [
              "(19821910, 5)"
            ]
          },
          "metadata": {},
          "execution_count": 6
        }
      ]
    },
    {
      "cell_type": "code",
      "source": [
        "source_data.transaction_dttm = pd.to_datetime(source_data.transaction_dttm)"
      ],
      "metadata": {
        "id": "TklfcpgLYinv"
      },
      "execution_count": null,
      "outputs": []
    },
    {
      "cell_type": "code",
      "source": [
        "from ptls.preprocessing import PandasDataPreprocessor\n",
        "\n",
        "preprocessor = PandasDataPreprocessor(\n",
        "    col_id='user_id',\n",
        "    col_event_time='transaction_dttm',\n",
        "    event_time_transformation='dt_to_timestamp',\n",
        "    cols_category=['mcc_code','currency_rk'],\n",
        "    cols_numerical=['transaction_amt'],\n",
        "    return_records=True,\n",
        ")"
      ],
      "metadata": {
        "id": "wB2hy5fxVwp3"
      },
      "execution_count": null,
      "outputs": []
    },
    {
      "cell_type": "code",
      "source": [
        "%%time\n",
        "\n",
        "dataset = preprocessor.fit_transform(source_data)"
      ],
      "metadata": {
        "colab": {
          "base_uri": "https://localhost:8080/"
        },
        "id": "8lX13iRFXUhT",
        "outputId": "68d88045-1b8f-4718-c347-7b0df84e1b28"
      },
      "execution_count": null,
      "outputs": [
        {
          "output_type": "stream",
          "name": "stdout",
          "text": [
            "CPU times: user 1min 7s, sys: 11.2 s, total: 1min 18s\n",
            "Wall time: 1min 18s\n"
          ]
        }
      ]
    },
    {
      "cell_type": "code",
      "source": [
        "import pickle\n",
        "\n",
        "with open('preprocessor.p', 'wb') as f:\n",
        "    pickle.dump(preprocessor, f)"
      ],
      "metadata": {
        "id": "PzrJpndVYElQ"
      },
      "execution_count": null,
      "outputs": []
    },
    {
      "cell_type": "code",
      "source": [
        "preprocessor.get_category_dictionary_sizes()"
      ],
      "metadata": {
        "colab": {
          "base_uri": "https://localhost:8080/"
        },
        "id": "eHGpajzDFZVT",
        "outputId": "9aac1173-c377-4652-cbe8-66760a231516"
      },
      "execution_count": null,
      "outputs": [
        {
          "output_type": "execute_result",
          "data": {
            "text/plain": [
              "{'mcc_code': 388, 'currency_rk': 6}"
            ]
          },
          "metadata": {},
          "execution_count": 11
        }
      ]
    },
    {
      "cell_type": "code",
      "source": [
        "dataset = sorted(dataset, key=lambda x: x['user_id'])"
      ],
      "metadata": {
        "id": "z1a9YCiSZ3ua"
      },
      "execution_count": null,
      "outputs": []
    },
    {
      "cell_type": "code",
      "source": [
        "from sklearn.model_selection import train_test_split\n",
        "\n",
        "train, test = train_test_split(dataset, test_size=0.2, random_state=42)\n",
        "\n",
        "len(train), len(test)"
      ],
      "metadata": {
        "colab": {
          "base_uri": "https://localhost:8080/"
        },
        "id": "Zq6NZuxGaNlH",
        "outputId": "1ebf9d1e-2d84-4a2d-d01a-9ead4ab60e04"
      },
      "execution_count": null,
      "outputs": [
        {
          "output_type": "execute_result",
          "data": {
            "text/plain": [
              "(18026, 4507)"
            ]
          },
          "metadata": {},
          "execution_count": 13
        }
      ]
    },
    {
      "cell_type": "code",
      "source": [
        "!pip install pyhocon"
      ],
      "metadata": {
        "colab": {
          "base_uri": "https://localhost:8080/"
        },
        "id": "Qiuhepwu3czg",
        "outputId": "eb4213f8-f90a-499d-dbb1-3facb7eb3790"
      },
      "execution_count": 33,
      "outputs": [
        {
          "output_type": "stream",
          "name": "stdout",
          "text": [
            "Looking in indexes: https://pypi.org/simple, https://us-python.pkg.dev/colab-wheels/public/simple/\n",
            "Requirement already satisfied: pyhocon in /usr/local/lib/python3.9/dist-packages (0.3.60)\n",
            "Requirement already satisfied: pyparsing<4,>=2 in /usr/local/lib/python3.9/dist-packages (from pyhocon) (3.0.9)\n"
          ]
        }
      ]
    },
    {
      "cell_type": "code",
      "source": [
        "from functools import partial\n",
        "from ptls.nn import TrxEncoder, RnnSeqEncoder,RnnEncoder,AggFeatureSeqEncoder\n",
        "from ptls.frames.coles import CoLESModule\n",
        "from pyhocon import ConfigFactory\n",
        "\n",
        "def get_conf():\n",
        "    params = {\n",
        "        'numeric_values': {\n",
        "            'transaction_amt': {'identity'},\n",
        "        },\n",
        "        'embeddings': {\n",
        "            'currency_rk': {'in': 100},\n",
        "            'mcc_code': {'in': 200}\n",
        "        },\n",
        "    }\n",
        "    return ConfigFactory.from_dict(params)\n",
        "\n",
        "seq_encoder = AggFeatureSeqEncoder(**get_conf())\n",
        "\n",
        "model = CoLESModule(\n",
        "    seq_encoder=seq_encoder,\n",
        "    optimizer_partial=partial(torch.optim.Adam, lr=0.001),\n",
        "    lr_scheduler_partial=partial(torch.optim.lr_scheduler.StepLR, step_size=30, gamma=0.9),\n",
        ")"
      ],
      "metadata": {
        "id": "zFSInr_jairD"
      },
      "execution_count": 35,
      "outputs": []
    },
    {
      "cell_type": "code",
      "source": [
        "from ptls.data_load.datasets import MemoryMapDataset\n",
        "from ptls.data_load.iterable_processing import SeqLenFilter\n",
        "from ptls.frames.coles import ColesDataset\n",
        "from ptls.frames.coles.split_strategy import SampleSlices\n",
        "from ptls.frames import PtlsDataModule\n",
        "\n",
        "train_dl = PtlsDataModule(\n",
        "    train_data=ColesDataset(\n",
        "        MemoryMapDataset(\n",
        "            data=train,\n",
        "            i_filters=[\n",
        "                SeqLenFilter(min_seq_len=25),\n",
        "            ],\n",
        "        ),\n",
        "        splitter=SampleSlices(\n",
        "            split_count=5,\n",
        "            cnt_min=25,\n",
        "            cnt_max=200,\n",
        "        ),\n",
        "    ),\n",
        "    train_num_workers=2,\n",
        "    train_batch_size=256,\n",
        ")"
      ],
      "metadata": {
        "id": "R7qL4iZ5j0ax"
      },
      "execution_count": 36,
      "outputs": []
    },
    {
      "cell_type": "code",
      "source": [
        "import torch\n",
        "import pytorch_lightning as pl\n",
        "\n",
        "import logging\n",
        "\n",
        "trainer = pl.Trainer(\n",
        "    max_epochs=15,\n",
        "    gpus=1 if torch.cuda.is_available() else 0,\n",
        "    enable_progress_bar=False,\n",
        ")"
      ],
      "metadata": {
        "colab": {
          "base_uri": "https://localhost:8080/"
        },
        "id": "dIXc2GYNj20t",
        "outputId": "ad757194-9740-4ccf-9440-406dc045079a"
      },
      "execution_count": 37,
      "outputs": [
        {
          "output_type": "stream",
          "name": "stderr",
          "text": [
            "INFO:pytorch_lightning.utilities.rank_zero:GPU available: True, used: True\n",
            "INFO:pytorch_lightning.utilities.rank_zero:TPU available: False, using: 0 TPU cores\n",
            "INFO:pytorch_lightning.utilities.rank_zero:IPU available: False, using: 0 IPUs\n",
            "INFO:pytorch_lightning.utilities.rank_zero:HPU available: False, using: 0 HPUs\n"
          ]
        }
      ]
    },
    {
      "cell_type": "code",
      "source": [
        "from ptls.data_load.datasets import inference_data_loader\n",
        "\n",
        "train_dl = inference_data_loader(train, num_workers=0, batch_size=256)\n",
        "train_embeds = torch.vstack(trainer.predict(model, train_dl, ))\n",
        "\n",
        "test_dl = inference_data_loader(test, num_workers=0, batch_size=256)\n",
        "test_embeds = torch.vstack(trainer.predict(model, test_dl))\n",
        "\n",
        "train_embeds.shape, test_embeds.shape"
      ],
      "metadata": {
        "colab": {
          "base_uri": "https://localhost:8080/"
        },
        "id": "dfgwrib_kGx-",
        "outputId": "fec5d31d-5b8c-4f30-cb3f-5446cefa1fde"
      },
      "execution_count": 38,
      "outputs": [
        {
          "output_type": "stream",
          "name": "stderr",
          "text": [
            "INFO:pytorch_lightning.accelerators.gpu:LOCAL_RANK: 0 - CUDA_VISIBLE_DEVICES: [0]\n",
            "INFO:pytorch_lightning.accelerators.gpu:LOCAL_RANK: 0 - CUDA_VISIBLE_DEVICES: [0]\n"
          ]
        },
        {
          "output_type": "execute_result",
          "data": {
            "text/plain": [
              "(torch.Size([18026, 906]), torch.Size([4507, 906]))"
            ]
          },
          "metadata": {},
          "execution_count": 38
        }
      ]
    },
    {
      "cell_type": "code",
      "source": [
        "df_target = pd.read_csv(os.path.join(data_path, 'train.csv'))\n",
        "df_target.rename(columns={'bank':'user_id'},inplace=True)\n",
        "df_target = df_target.set_index('user_id')\n",
        "df_target.rename(columns={\"bins\": \"target\"}, inplace=True)\n",
        "\n",
        "train_df = pd.DataFrame(data=train_embeds, columns=[f'embed_{i}' for i in range(train_embeds.shape[1])])\n",
        "train_df['user_id'] = [x['user_id'] for x in train]\n",
        "train_df = train_df.merge(df_target, how='left', on='user_id')\n",
        "\n",
        "test_df = pd.DataFrame(data=test_embeds, columns=[f'embed_{i}' for i in range(test_embeds.shape[1])])\n",
        "test_df['user_id'] = [x['user_id'] for x in test]\n",
        "test_df = test_df.merge(df_target, how='left', on='user_id')\n",
        "\n",
        "print(train_df.shape, test_df.shape)"
      ],
      "metadata": {
        "id": "YxWLCdtEkND0",
        "colab": {
          "base_uri": "https://localhost:8080/"
        },
        "outputId": "7299dd56-a827-41e1-942b-ea19b09978a8"
      },
      "execution_count": 39,
      "outputs": [
        {
          "output_type": "stream",
          "name": "stdout",
          "text": [
            "(18026, 908) (4507, 908)\n"
          ]
        }
      ]
    },
    {
      "cell_type": "code",
      "source": [
        "# Dropping nan values, that appears while merging embeddings and\n",
        "# target, as there is target not for each user in datasets\n",
        "train_df.dropna(inplace=True)\n",
        "test_df.dropna(inplace=True)"
      ],
      "metadata": {
        "id": "vRDh_R9YnYtw"
      },
      "execution_count": 40,
      "outputs": []
    },
    {
      "cell_type": "code",
      "source": [
        "embed_columns = [x for x in train_df.columns if x.startswith('embed')]\n",
        "x_train, y_train = train_df[embed_columns], train_df['higher_education']\n",
        "x_test, y_test = test_df[embed_columns], test_df['higher_education']"
      ],
      "metadata": {
        "id": "_jL48QC1gsed"
      },
      "execution_count": 41,
      "outputs": []
    },
    {
      "cell_type": "code",
      "source": [
        "!pip install catboost"
      ],
      "metadata": {
        "id": "MhhlV0v_pidQ",
        "colab": {
          "base_uri": "https://localhost:8080/"
        },
        "outputId": "651e1919-6c30-4a22-f107-72ab57b4c622"
      },
      "execution_count": 42,
      "outputs": [
        {
          "output_type": "stream",
          "name": "stdout",
          "text": [
            "Looking in indexes: https://pypi.org/simple, https://us-python.pkg.dev/colab-wheels/public/simple/\n",
            "Requirement already satisfied: catboost in /usr/local/lib/python3.9/dist-packages (1.1.1)\n",
            "Requirement already satisfied: numpy>=1.16.0 in /usr/local/lib/python3.9/dist-packages (from catboost) (1.22.4)\n",
            "Requirement already satisfied: scipy in /usr/local/lib/python3.9/dist-packages (from catboost) (1.10.1)\n",
            "Requirement already satisfied: pandas>=0.24.0 in /usr/local/lib/python3.9/dist-packages (from catboost) (1.4.4)\n",
            "Requirement already satisfied: matplotlib in /usr/local/lib/python3.9/dist-packages (from catboost) (3.7.1)\n",
            "Requirement already satisfied: graphviz in /usr/local/lib/python3.9/dist-packages (from catboost) (0.20.1)\n",
            "Requirement already satisfied: six in /usr/local/lib/python3.9/dist-packages (from catboost) (1.16.0)\n",
            "Requirement already satisfied: plotly in /usr/local/lib/python3.9/dist-packages (from catboost) (5.13.1)\n",
            "Requirement already satisfied: python-dateutil>=2.8.1 in /usr/local/lib/python3.9/dist-packages (from pandas>=0.24.0->catboost) (2.8.2)\n",
            "Requirement already satisfied: pytz>=2020.1 in /usr/local/lib/python3.9/dist-packages (from pandas>=0.24.0->catboost) (2022.7.1)\n",
            "Requirement already satisfied: pillow>=6.2.0 in /usr/local/lib/python3.9/dist-packages (from matplotlib->catboost) (8.4.0)\n",
            "Requirement already satisfied: importlib-resources>=3.2.0 in /usr/local/lib/python3.9/dist-packages (from matplotlib->catboost) (5.12.0)\n",
            "Requirement already satisfied: kiwisolver>=1.0.1 in /usr/local/lib/python3.9/dist-packages (from matplotlib->catboost) (1.4.4)\n",
            "Requirement already satisfied: contourpy>=1.0.1 in /usr/local/lib/python3.9/dist-packages (from matplotlib->catboost) (1.0.7)\n",
            "Requirement already satisfied: cycler>=0.10 in /usr/local/lib/python3.9/dist-packages (from matplotlib->catboost) (0.11.0)\n",
            "Requirement already satisfied: pyparsing>=2.3.1 in /usr/local/lib/python3.9/dist-packages (from matplotlib->catboost) (3.0.9)\n",
            "Requirement already satisfied: fonttools>=4.22.0 in /usr/local/lib/python3.9/dist-packages (from matplotlib->catboost) (4.39.2)\n",
            "Requirement already satisfied: packaging>=20.0 in /usr/local/lib/python3.9/dist-packages (from matplotlib->catboost) (23.0)\n",
            "Requirement already satisfied: tenacity>=6.2.0 in /usr/local/lib/python3.9/dist-packages (from plotly->catboost) (8.2.2)\n",
            "Requirement already satisfied: zipp>=3.1.0 in /usr/local/lib/python3.9/dist-packages (from importlib-resources>=3.2.0->matplotlib->catboost) (3.15.0)\n"
          ]
        }
      ]
    },
    {
      "cell_type": "code",
      "source": [
        "from catboost import CatBoostClassifier, metrics\n",
        "CatBoostModel = CatBoostClassifier(\n",
        "iterations= 500,\n",
        "learning_rate = 0.05,\n",
        "use_best_model = True,\n",
        "eval_metric ='AUC', \n",
        "loss_function='Logloss',\n",
        "random_seed = 42,\n",
        "logging_level = 'Silent',\n",
        "depth = 5)"
      ],
      "metadata": {
        "id": "aRz7MqIRiJNN"
      },
      "execution_count": 43,
      "outputs": []
    },
    {
      "cell_type": "code",
      "source": [
        "CatBoostModel.fit(\n",
        "    x_train, y_train,\n",
        "    eval_set=(x_test, y_test),\n",
        "    plot=True\n",
        "#     logging_level='Verbose',  # you can uncomment this for text output\n",
        ")"
      ],
      "metadata": {
        "id": "y6bvJl7-knyo",
        "colab": {
          "base_uri": "https://localhost:8080/",
          "height": 34,
          "referenced_widgets": [
            "8fc85e160fbf4371b36df815b8450473"
          ]
        },
        "outputId": "d2027bd1-0a26-41c5-a7bc-cee60cf7019b"
      },
      "execution_count": 44,
      "outputs": [
        {
          "output_type": "display_data",
          "data": {
            "text/plain": [
              "MetricVisualizer(layout=Layout(align_self='stretch', height='500px'))"
            ],
            "application/vnd.jupyter.widget-view+json": {
              "version_major": 2,
              "version_minor": 0,
              "model_id": "8fc85e160fbf4371b36df815b8450473"
            }
          },
          "metadata": {}
        },
        {
          "output_type": "execute_result",
          "data": {
            "text/plain": [
              "<catboost.core.CatBoostClassifier at 0x7fd43c023c10>"
            ]
          },
          "metadata": {},
          "execution_count": 44
        }
      ]
    },
    {
      "cell_type": "code",
      "source": [
        "CatBoostModel.get_best_score()"
      ],
      "metadata": {
        "id": "JWQ8t7sDkpeG",
        "colab": {
          "base_uri": "https://localhost:8080/"
        },
        "outputId": "04f139df-cbfc-4814-a7b9-7aeaa7390cb0"
      },
      "execution_count": 45,
      "outputs": [
        {
          "output_type": "execute_result",
          "data": {
            "text/plain": [
              "{'learn': {'Logloss': 0.3489822464123146},\n",
              " 'validation': {'Logloss': 0.45487044045481634, 'AUC': 0.7992421974403113}}"
            ]
          },
          "metadata": {},
          "execution_count": 45
        }
      ]
    },
    {
      "cell_type": "code",
      "source": [
        "y_pred = CatBoostModel.predict(x_test)\n",
        "y_proba = CatBoostModel.predict_proba(x_test)"
      ],
      "metadata": {
        "id": "3mAfv7mAl6wZ"
      },
      "execution_count": 46,
      "outputs": []
    },
    {
      "cell_type": "code",
      "source": [
        "from sklearn.metrics import roc_auc_score, precision_score, accuracy_score, recall_score, f1_score, roc_auc_score\n",
        "\n",
        "print(f'''accuracy: {CatBoostModel.score(x_test, y_test)} \n",
        "      f1: {f1_score(y_pred, y_test)}, \n",
        "      precision: {precision_score(y_pred, y_test)}\n",
        "     roc auc : {roc_auc_score(y_test, y_proba[:,1])}''')"
      ],
      "metadata": {
        "id": "sDs6gwrbl8sg",
        "colab": {
          "base_uri": "https://localhost:8080/"
        },
        "outputId": "a102d443-ccbb-405b-f7cd-95120438cf83"
      },
      "execution_count": 47,
      "outputs": [
        {
          "output_type": "stream",
          "name": "stdout",
          "text": [
            "accuracy: 0.7869539198084979 \n",
            "      f1: 0.8649468892261002, \n",
            "      precision: 0.9193548387096774\n",
            "     roc auc : 0.7992421974403114\n"
          ]
        }
      ]
    },
    {
      "cell_type": "code",
      "source": [],
      "metadata": {
        "id": "GCPYUAQpvCkA"
      },
      "execution_count": null,
      "outputs": []
    }
  ]
}