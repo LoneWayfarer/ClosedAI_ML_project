{
 "cells": [
  {
   "attachments": {},
   "cell_type": "markdown",
   "metadata": {},
   "source": [
    "This notebook is used for: <br>\n",
    "1. Getting the .parquet files for large datasets\n",
    "2. Matching target and rtk (user id in clickstreams dataset) via user id in transactions dataset"
   ]
  },
  {
   "cell_type": "code",
   "execution_count": 1,
   "metadata": {},
   "outputs": [],
   "source": [
    "import pandas as pd\n",
    "import findspark\n",
    "findspark.init('C:\\Spark')\n",
    "from pyspark.sql import SparkSession\n",
    "import os\n",
    "import pyspark\n",
    "import pyspark.sql.functions as F\n",
    "from pyspark.sql import types as T"
   ]
  },
  {
   "attachments": {},
   "cell_type": "markdown",
   "metadata": {},
   "source": [
    "# Configuring the PySpark"
   ]
  },
  {
   "cell_type": "code",
   "execution_count": 2,
   "metadata": {},
   "outputs": [
    {
     "data": {
      "text/plain": [
       "[('spark.driver.extraJavaOptions',\n",
       "  '-XX:+IgnoreUnrecognizedVMOptions --add-opens=java.base/java.lang=ALL-UNNAMED --add-opens=java.base/java.lang.invoke=ALL-UNNAMED --add-opens=java.base/java.lang.reflect=ALL-UNNAMED --add-opens=java.base/java.io=ALL-UNNAMED --add-opens=java.base/java.net=ALL-UNNAMED --add-opens=java.base/java.nio=ALL-UNNAMED --add-opens=java.base/java.util=ALL-UNNAMED --add-opens=java.base/java.util.concurrent=ALL-UNNAMED --add-opens=java.base/java.util.concurrent.atomic=ALL-UNNAMED --add-opens=java.base/sun.nio.ch=ALL-UNNAMED --add-opens=java.base/sun.nio.cs=ALL-UNNAMED --add-opens=java.base/sun.security.action=ALL-UNNAMED --add-opens=java.base/sun.util.calendar=ALL-UNNAMED --add-opens=java.security.jgss/sun.security.krb5=ALL-UNNAMED'),\n",
       " ('spark.driver.memoryOverhead', '4g'),\n",
       " ('spark.local.dir', '../../spark_local_dir'),\n",
       " ('spark.executor.id', 'driver'),\n",
       " ('spark.driver.memory', '16g'),\n",
       " ('spark.app.id', 'local-1679642713502'),\n",
       " ('spark.executor.memory', '16g'),\n",
       " ('spark.app.submitTime', '1679642711460'),\n",
       " ('spark.app.startTime', '1679642711724'),\n",
       " ('spark.rdd.compress', 'True'),\n",
       " ('spark.executor.extraJavaOptions',\n",
       "  '-XX:+IgnoreUnrecognizedVMOptions --add-opens=java.base/java.lang=ALL-UNNAMED --add-opens=java.base/java.lang.invoke=ALL-UNNAMED --add-opens=java.base/java.lang.reflect=ALL-UNNAMED --add-opens=java.base/java.io=ALL-UNNAMED --add-opens=java.base/java.net=ALL-UNNAMED --add-opens=java.base/java.nio=ALL-UNNAMED --add-opens=java.base/java.util=ALL-UNNAMED --add-opens=java.base/java.util.concurrent=ALL-UNNAMED --add-opens=java.base/java.util.concurrent.atomic=ALL-UNNAMED --add-opens=java.base/sun.nio.ch=ALL-UNNAMED --add-opens=java.base/sun.nio.cs=ALL-UNNAMED --add-opens=java.base/sun.security.action=ALL-UNNAMED --add-opens=java.base/sun.util.calendar=ALL-UNNAMED --add-opens=java.security.jgss/sun.security.krb5=ALL-UNNAMED'),\n",
       " ('spark.driver.port', '50464'),\n",
       " ('spark.serializer.objectStreamReset', '100'),\n",
       " ('spark.sql.shuffle.partitions', '200'),\n",
       " ('spark.master', 'local[*]'),\n",
       " ('spark.submit.pyFiles', ''),\n",
       " ('spark.submit.deployMode', 'client'),\n",
       " ('spark.driver.host', 'FAUST'),\n",
       " ('spark.app.name', 'PysparkDataPreprocessor'),\n",
       " ('spark.cores.max', '24'),\n",
       " ('spark.ui.showConsoleProgress', 'true'),\n",
       " ('spark.driver.maxResultSize', '4g'),\n",
       " ('spark.executor.memoryOverhead', '4g')]"
      ]
     },
     "execution_count": 2,
     "metadata": {},
     "output_type": "execute_result"
    }
   ],
   "source": [
    "data_path = './main_data/' #Change to path of your data folder\n",
    "\n",
    "spark_conf = pyspark.SparkConf()\n",
    "spark_conf.setMaster(\"local[*]\").setAppName(\"PysparkDataPreprocessor\")\n",
    "spark_conf.set(\"spark.driver.maxResultSize\", \"4g\")\n",
    "spark_conf.set(\"spark.executor.memory\", \"16g\")\n",
    "spark_conf.set(\"spark.executor.memoryOverhead\", \"4g\")\n",
    "spark_conf.set(\"spark.driver.memory\", \"16g\")\n",
    "spark_conf.set(\"spark.driver.memoryOverhead\", \"4g\")\n",
    "spark_conf.set(\"spark.cores.max\", \"24\")\n",
    "spark_conf.set(\"spark.sql.shuffle.partitions\", \"200\")\n",
    "spark_conf.set(\"spark.local.dir\", \"../../spark_local_dir\")\n",
    "\n",
    "\n",
    "spark = SparkSession.builder.config(conf=spark_conf).getOrCreate()\n",
    "spark.sparkContext.getConf().getAll()"
   ]
  },
  {
   "attachments": {},
   "cell_type": "markdown",
   "metadata": {},
   "source": [
    "# Preprocessing"
   ]
  },
  {
   "cell_type": "code",
   "execution_count": 3,
   "metadata": {},
   "outputs": [],
   "source": [
    "source_data = spark.read.options(header=True, inferSchema=True).csv(os.path.join(data_path, 'clickstream.csv')) #Reading data"
   ]
  },
  {
   "cell_type": "code",
   "execution_count": 4,
   "metadata": {},
   "outputs": [
    {
     "name": "stdout",
     "output_type": "stream",
     "text": [
      "+--------------------+------+-------------------+\n",
      "|             user_id|cat_id|          timestamp|\n",
      "+--------------------+------+-------------------+\n",
      "|000143baebad4467a...|   165|2021-01-30 20:08:12|\n",
      "|000143baebad4467a...|   165|2021-01-31 20:06:29|\n",
      "+--------------------+------+-------------------+\n",
      "only showing top 2 rows\n",
      "\n"
     ]
    }
   ],
   "source": [
    "source_data = source_data.drop('new_uid')\n",
    "source_data.show(2)"
   ]
  },
  {
   "cell_type": "code",
   "execution_count": 5,
   "metadata": {},
   "outputs": [
    {
     "data": {
      "text/plain": [
       "126752515"
      ]
     },
     "execution_count": 5,
     "metadata": {},
     "output_type": "execute_result"
    }
   ],
   "source": [
    "source_data.count()"
   ]
  },
  {
   "cell_type": "code",
   "execution_count": 6,
   "metadata": {},
   "outputs": [],
   "source": [
    "#Preprocessing using ptls library\n",
    "from ptls.preprocessing import PysparkDataPreprocessor\n",
    "\n",
    "preprocessor = PysparkDataPreprocessor(\n",
    "    col_id='user_id',\n",
    "    col_event_time='timestamp',\n",
    "    event_time_transformation='dt_to_timestamp',\n",
    "    cols_category=['cat_id'],\n",
    ")"
   ]
  },
  {
   "cell_type": "code",
   "execution_count": 7,
   "metadata": {},
   "outputs": [
    {
     "name": "stdout",
     "output_type": "stream",
     "text": [
      "CPU times: total: 156 ms\n",
      "Wall time: 3min 39s\n"
     ]
    },
    {
     "data": {
      "text/plain": [
       "19623"
      ]
     },
     "execution_count": 7,
     "metadata": {},
     "output_type": "execute_result"
    }
   ],
   "source": [
    "%%time\n",
    "\n",
    "dataset_pysparkdf = preprocessor.fit_transform(source_data).persist()\n",
    "dataset_pysparkdf.count()"
   ]
  },
  {
   "cell_type": "code",
   "execution_count": 8,
   "metadata": {},
   "outputs": [
    {
     "name": "stdout",
     "output_type": "stream",
     "text": [
      "+--------------------+--------------------+--------------------+\n",
      "|             user_id|              cat_id|          event_time|\n",
      "+--------------------+--------------------+--------------------+\n",
      "|018d951f1ccb4f288...|[29, 1, 1, 60, 60...|[1611903458, 1612...|\n",
      "|01ef0e619d0f4a6eb...|[4, 2, 2, 3, 23, ...|[1610973443, 1612...|\n",
      "|0570e0db5cbb47b1a...|[12, 8, 11, 36, 3...|[1612968600, 1613...|\n",
      "|0677be173662457d8...|[12, 12, 12, 12, ...|[1622604120, 1622...|\n",
      "|0914be36f20d4c9fb...|[1, 1, 9, 9, 9, 3...|[1612744599, 1612...|\n",
      "|0d8486356bb14e509...|[1, 1, 3, 3, 3, 1...|[1613341920, 1613...|\n",
      "|0ee126d04de04082b...|[6, 5, 5, 6, 49, ...|[1612281145, 1612...|\n",
      "|1327d47e0b9f43c6b...|[7, 10, 1, 22, 3,...|[1612679673, 1612...|\n",
      "|13ccb15a7ba046f4a...|[2, 23, 23, 2, 23...|[1611412404, 1611...|\n",
      "|1b0cf53c7ef342159...|[3, 3, 1, 1, 1, 1...|[1613761740, 1613...|\n",
      "|1e42703fbc9945949...|[10, 12, 1, 10, 1...|[1611207638, 1611...|\n",
      "|201b130b924f4e31b...|[134, 4, 8, 8, 12...|[1611232125, 1611...|\n",
      "|20ffea50cd5e4ee1b...|[3, 2, 2, 2, 3, 4...|[1611410422, 1611...|\n",
      "|2382fc75e85e455e9...|[6, 21, 6, 6, 21,...|[1610935270, 1611...|\n",
      "|2921f36f68484f13b...|[6, 24, 6, 3, 3, ...|[1612119600, 1612...|\n",
      "|2d6bd0c3242949fa9...|[3, 3, 25, 38, 3,...|[1611509790, 1611...|\n",
      "|2de32725df3243598...|[9, 26, 26, 26, 2...|[1611015389, 1611...|\n",
      "|3119e4abab604b4e9...|[41, 38, 38, 38, ...|[1612174440, 1612...|\n",
      "|31a55cded02049f6b...|[68, 3, 4, 68, 4,...|[1610899375, 1610...|\n",
      "|325e5ae84e4c41238...|[6, 6, 3, 3, 6, 6...|[1611730501, 1612...|\n",
      "+--------------------+--------------------+--------------------+\n",
      "only showing top 20 rows\n",
      "\n"
     ]
    }
   ],
   "source": [
    "dataset_pysparkdf.show()"
   ]
  },
  {
   "cell_type": "code",
   "execution_count": 9,
   "metadata": {},
   "outputs": [],
   "source": [
    "dataset = dataset_pysparkdf.toPandas()"
   ]
  },
  {
   "cell_type": "code",
   "execution_count": 9,
   "metadata": {},
   "outputs": [
    {
     "data": {
      "text/plain": [
       "{'cat_id': 404}"
      ]
     },
     "execution_count": 9,
     "metadata": {},
     "output_type": "execute_result"
    }
   ],
   "source": [
    "preprocessor.get_category_dictionary_sizes()"
   ]
  },
  {
   "cell_type": "code",
   "execution_count": 10,
   "metadata": {},
   "outputs": [],
   "source": [
    "import pickle\n",
    "\n",
    "with open('preprocessor.p', 'wb') as f:\n",
    "    pickle.dump(preprocessor, f)"
   ]
  },
  {
   "cell_type": "code",
   "execution_count": 11,
   "metadata": {},
   "outputs": [],
   "source": [
    "target = spark.read.options(header=True, inferSchema=True)\\\n",
    "    .csv(os.path.join(data_path, 'train.csv')) #Dataset containing targets\n",
    "matching = spark.read.options(header=True, inferSchema=True)\\\n",
    "    .csv(os.path.join(data_path, 'train_matching.csv')) #Dataset containing matched rtk and transactions ids"
   ]
  },
  {
   "cell_type": "code",
   "execution_count": 12,
   "metadata": {},
   "outputs": [
    {
     "name": "stdout",
     "output_type": "stream",
     "text": [
      "+--------------------+--------------------+\n",
      "|                bank|                 rtk|\n",
      "+--------------------+--------------------+\n",
      "|178b387813ac4a63a...|e19c0f141e9442c5b...|\n",
      "|47cffa46e6b04389b...|7df3371aabd349e4a...|\n",
      "|f73b767cfd72472aa...|b23d62c7e41145a7a...|\n",
      "|48da649603734185b...|63ad789541c54463a...|\n",
      "|37304ef19de542ee8...|c0e96de5dd594d948...|\n",
      "|3c26cb845a4941ca9...|647e736a6a064cb5b...|\n",
      "|a4840524c1b64416a...|b29febc9938749b59...|\n",
      "|9a5e1c28552f4b82b...|41812d47e3614cc18...|\n",
      "|d9968143901d4914a...|ec1adc1e08c7403fa...|\n",
      "|22bef074cccb4a2a9...|9bf3775d68644f718...|\n",
      "|31ef5cb8b89b4a16a...|6de89fa7fd054d9a9...|\n",
      "|611fad24d9a44be1b...|a66eca3f820149d29...|\n",
      "|09910580d99e44c28...|121e22e062b84acea...|\n",
      "|b8e64a76a78a4036a...|fe433f40eb194c89b...|\n",
      "|33af0b2b21ec4227a...|a24756560ecc44c2a...|\n",
      "|5047955ee2654efaa...|aa79c504266a4d1a8...|\n",
      "|fdc09565cf544c30b...|bf962314ef3040d5a...|\n",
      "|0ca3e196bc3942e89...|238029b5fcd242359...|\n",
      "|3d08d56ee08944799...|0f08048f4ff84e37b...|\n",
      "|1d9acce9245d489db...|661166af461845f9b...|\n",
      "+--------------------+--------------------+\n",
      "only showing top 20 rows\n",
      "\n"
     ]
    }
   ],
   "source": [
    "matching.show()"
   ]
  },
  {
   "cell_type": "code",
   "execution_count": 13,
   "metadata": {},
   "outputs": [
    {
     "name": "stdout",
     "output_type": "stream",
     "text": [
      "+--------------------+----------------+\n",
      "|                bank|higher_education|\n",
      "+--------------------+----------------+\n",
      "|3755b59782464456b...|             0.0|\n",
      "|604a550439d644718...|             0.0|\n",
      "|542d4776ebe5454fb...|             1.0|\n",
      "|ee37fecea44d475ca...|             0.0|\n",
      "|18617a1100f44a99b...|             0.0|\n",
      "|079f07153c0149d19...|             0.0|\n",
      "|6dee55b3d7284d18b...|             1.0|\n",
      "|13fdbc4dbd394c7fb...|             1.0|\n",
      "|f94284392a064a93b...|             1.0|\n",
      "|8653cbc7d48148a6a...|             1.0|\n",
      "|b38863ecab6340c2a...|             1.0|\n",
      "|fe19bba195414500b...|             1.0|\n",
      "|0a0ae064b7d8423a8...|             0.0|\n",
      "|546e6e2e490f42d68...|             1.0|\n",
      "|499c20f1e53b4429b...|             1.0|\n",
      "|9a35b2d9f02f49e09...|             1.0|\n",
      "|5f3b2dbc151f4067b...|             0.0|\n",
      "|aaef9bc7a58e40bba...|             1.0|\n",
      "|91836eaf9d4e4975b...|             1.0|\n",
      "|c883d8fdb75a49daa...|             1.0|\n",
      "+--------------------+----------------+\n",
      "only showing top 20 rows\n",
      "\n"
     ]
    }
   ],
   "source": [
    "target.show()"
   ]
  },
  {
   "cell_type": "code",
   "execution_count": 14,
   "metadata": {},
   "outputs": [
    {
     "name": "stdout",
     "output_type": "stream",
     "text": [
      "+--------------------+----------------+\n",
      "|                bank|higher_education|\n",
      "+--------------------+----------------+\n",
      "|000932580e404dafb...|             1.0|\n",
      "|0020afcd52f54e9fa...|             1.0|\n",
      "|0034020d25da4951b...|             1.0|\n",
      "|0046da5a3d934f2db...|             1.0|\n",
      "|004b3ef36faa40f08...|             1.0|\n",
      "|0054a0388a8647d99...|             0.0|\n",
      "|0059cb4a0de44cff9...|             1.0|\n",
      "|005e2282c9ea4ddfb...|             1.0|\n",
      "|0082e5d4d8074f05b...|             0.0|\n",
      "|008607c1098d4e689...|             0.0|\n",
      "|0087c80c55924740b...|             1.0|\n",
      "|008a98f3d27e40b58...|             1.0|\n",
      "|008ca092454a4ecd9...|             1.0|\n",
      "|009fb6e432894d3a9...|             1.0|\n",
      "|00a000619ec24ee39...|             0.0|\n",
      "|00ad819ef6184f8b9...|             1.0|\n",
      "|00b64a4131744fe78...|             1.0|\n",
      "|00be95f5e4a8478e8...|             1.0|\n",
      "|00c834f3d1064f28a...|             0.0|\n",
      "|00d4a8c57ff14d0cb...|             1.0|\n",
      "+--------------------+----------------+\n",
      "only showing top 20 rows\n",
      "\n"
     ]
    }
   ],
   "source": [
    "target = target.sort('bank')\n",
    "target.show()"
   ]
  },
  {
   "cell_type": "code",
   "execution_count": 15,
   "metadata": {},
   "outputs": [
    {
     "name": "stdout",
     "output_type": "stream",
     "text": [
      "+--------------------+--------------------+\n",
      "|                bank|                 rtk|\n",
      "+--------------------+--------------------+\n",
      "|000932580e404dafb...|97d2092878ea42678...|\n",
      "|0009e36b42cb4caeb...|beed41e945754ac5a...|\n",
      "|000b29acb6bd44f99...|bb1230b232af439e9...|\n",
      "|000c5327d99941fe9...|7d7b83b85f3f4584b...|\n",
      "|000e0d54d7c945ebb...|78e9b8a98fff4f019...|\n",
      "|0012e60b16f14da4b...|f4a70c0d6b8e4878b...|\n",
      "|001879c9110d46ed9...|a58617b4b3424468b...|\n",
      "|001c99d8cd6f409f8...|d2a0951ee0d445039...|\n",
      "|0020536c52ee4257b...|e0208c1d86824a09b...|\n",
      "|0020afcd52f54e9fa...|ae1a28a8428740e7a...|\n",
      "|00260161e7fd40369...|091c259cd60844afa...|\n",
      "|00262245fd4344b0b...|1262ca30efea49bc9...|\n",
      "|002d5bbe9a80403b8...|cdf0f9eb0bdd4f07a...|\n",
      "|0033ef60398646ff8...|                   0|\n",
      "|003812b529ad4e579...|                   0|\n",
      "|003d93fb918846ada...|cb4d0db7a2a5490cb...|\n",
      "|0041da6ae2ab46108...|                   0|\n",
      "|004231ff0d034d1e9...|                   0|\n",
      "|0046da5a3d934f2db...|03de39a7ee8d482b8...|\n",
      "|0047dbb5ef764871a...|a68ffabf07a14acdb...|\n",
      "+--------------------+--------------------+\n",
      "only showing top 20 rows\n",
      "\n"
     ]
    }
   ],
   "source": [
    "matching = matching.sort('bank')\n",
    "matching.show()"
   ]
  },
  {
   "cell_type": "code",
   "execution_count": 16,
   "metadata": {},
   "outputs": [],
   "source": [
    "train_dataset = matching.join(target,'bank','outer') # matching target and matching datasets"
   ]
  },
  {
   "cell_type": "code",
   "execution_count": 17,
   "metadata": {},
   "outputs": [
    {
     "name": "stdout",
     "output_type": "stream",
     "text": [
      "+--------------------+--------------------+----------------+\n",
      "|                bank|                 rtk|higher_education|\n",
      "+--------------------+--------------------+----------------+\n",
      "|000932580e404dafb...|97d2092878ea42678...|             1.0|\n",
      "|0009e36b42cb4caeb...|beed41e945754ac5a...|            null|\n",
      "|000b29acb6bd44f99...|bb1230b232af439e9...|            null|\n",
      "|000c5327d99941fe9...|7d7b83b85f3f4584b...|            null|\n",
      "|000e0d54d7c945ebb...|78e9b8a98fff4f019...|            null|\n",
      "|0012e60b16f14da4b...|f4a70c0d6b8e4878b...|            null|\n",
      "|001879c9110d46ed9...|a58617b4b3424468b...|            null|\n",
      "|001c99d8cd6f409f8...|d2a0951ee0d445039...|            null|\n",
      "|0020536c52ee4257b...|e0208c1d86824a09b...|            null|\n",
      "|0020afcd52f54e9fa...|ae1a28a8428740e7a...|             1.0|\n",
      "|00260161e7fd40369...|091c259cd60844afa...|            null|\n",
      "|00262245fd4344b0b...|1262ca30efea49bc9...|            null|\n",
      "|002d5bbe9a80403b8...|cdf0f9eb0bdd4f07a...|            null|\n",
      "|0033ef60398646ff8...|                   0|            null|\n",
      "|0034020d25da4951b...|                null|             1.0|\n",
      "|003812b529ad4e579...|                   0|            null|\n",
      "|003d93fb918846ada...|cb4d0db7a2a5490cb...|            null|\n",
      "|0041da6ae2ab46108...|                   0|            null|\n",
      "|004231ff0d034d1e9...|                   0|            null|\n",
      "|0046da5a3d934f2db...|03de39a7ee8d482b8...|             1.0|\n",
      "+--------------------+--------------------+----------------+\n",
      "only showing top 20 rows\n",
      "\n"
     ]
    }
   ],
   "source": [
    "train_dataset.show()"
   ]
  },
  {
   "cell_type": "code",
   "execution_count": 18,
   "metadata": {},
   "outputs": [
    {
     "name": "stdout",
     "output_type": "stream",
     "text": [
      "+--------------------+----------------+\n",
      "|                 rtk|higher_education|\n",
      "+--------------------+----------------+\n",
      "|97d2092878ea42678...|             1.0|\n",
      "|ae1a28a8428740e7a...|             1.0|\n",
      "|03de39a7ee8d482b8...|             1.0|\n",
      "|9c4627b2935041099...|             1.0|\n",
      "|5a9867b5c5b54819a...|             0.0|\n",
      "|d1119df4cce24574a...|             1.0|\n",
      "|51c52794be054932b...|             1.0|\n",
      "|cfdefb5f0db9496d9...|             0.0|\n",
      "|0aac66f864f149d3a...|             1.0|\n",
      "|bbefdcf97f73473f8...|             1.0|\n",
      "|cf57eefa27824b22b...|             1.0|\n",
      "|add3026385c0416ba...|             0.0|\n",
      "|e15004fd2b014295b...|             1.0|\n",
      "|182ad88293bb4ffa9...|             1.0|\n",
      "|274d03fc64f84f67a...|             1.0|\n",
      "|b1f376bb6b744f3ca...|             0.0|\n",
      "|ddfda8e42a434e28a...|             1.0|\n",
      "|04548acddc584bf39...|             1.0|\n",
      "|ff54a4a9cf6a429cb...|             1.0|\n",
      "|aa5e786ae5fe4618b...|             1.0|\n",
      "+--------------------+----------------+\n",
      "only showing top 20 rows\n",
      "\n"
     ]
    }
   ],
   "source": [
    "# dropping not used bank ids column\n",
    "train_dataset = train_dataset.drop('bank') \n",
    "# dropping null values (caused by lack of matched rtk and bank ids in initial data)\n",
    "train_dataset = train_dataset.dropna() \n",
    "train_dataset.show()"
   ]
  },
  {
   "cell_type": "code",
   "execution_count": 19,
   "metadata": {},
   "outputs": [
    {
     "name": "stdout",
     "output_type": "stream",
     "text": [
      "+---+\n",
      "|rtk|\n",
      "+---+\n",
      "|  0|\n",
      "+---+\n",
      "\n"
     ]
    }
   ],
   "source": [
    "# Checking if there are some strange data in rtk column\n",
    "from pyspark.sql.functions import count,when,col\n",
    "\n",
    "check = train_dataset.select(count(when(col('rtk') == 0, 'rtk')).alias('rtk'))\n",
    "check.show()"
   ]
  },
  {
   "cell_type": "code",
   "execution_count": 20,
   "metadata": {},
   "outputs": [
    {
     "name": "stdout",
     "output_type": "stream",
     "text": [
      "Size of test dataset: 3908\n",
      "Size of train dataset 15715\n"
     ]
    }
   ],
   "source": [
    "test_df = dataset_pysparkdf.sample(fraction=0.2)\n",
    "train_df = dataset_pysparkdf.subtract(test_df)\n",
    "\n",
    "print('Size of test dataset:', test_df.count())\n",
    "print('Size of train dataset', train_df.count())\n"
   ]
  },
  {
   "cell_type": "code",
   "execution_count": 22,
   "metadata": {},
   "outputs": [],
   "source": [
    "# Saving .parquet files for model training\n",
    "test_df.write.parquet('test.parquet', mode='overwrite')\n",
    "train_df.write.parquet('train.parquet', mode='overwrite')\n"
   ]
  },
  {
   "cell_type": "code",
   "execution_count": 42,
   "metadata": {},
   "outputs": [],
   "source": [
    "# Saving matched rtk and target for model training\n",
    "train_dataset.toPandas().to_csv('target_dataset_matched.csv',index=False)"
   ]
  }
 ],
 "metadata": {
  "kernelspec": {
   "display_name": "base",
   "language": "python",
   "name": "python3"
  },
  "language_info": {
   "codemirror_mode": {
    "name": "ipython",
    "version": 3
   },
   "file_extension": ".py",
   "mimetype": "text/x-python",
   "name": "python",
   "nbconvert_exporter": "python",
   "pygments_lexer": "ipython3",
   "version": "3.9.13"
  },
  "orig_nbformat": 4
 },
 "nbformat": 4,
 "nbformat_minor": 2
}
