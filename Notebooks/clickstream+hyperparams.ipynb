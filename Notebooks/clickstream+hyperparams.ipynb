{
 "cells": [
  {
   "cell_type": "code",
   "execution_count": 1,
   "metadata": {
    "colab": {
     "base_uri": "https://localhost:8080/",
     "height": 1000
    },
    "id": "iwQZIUyHcRT5",
    "outputId": "12475af0-16ad-4084-b8f6-a1ddc6ac63e7"
   },
   "outputs": [
    {
     "name": "stdout",
     "output_type": "stream",
     "text": [
      "Looking in indexes: https://pypi.org/simple, https://us-python.pkg.dev/colab-wheels/public/simple/\n",
      "Collecting pytorch_lightning\n",
      "  Downloading pytorch_lightning-2.0.0-py3-none-any.whl (715 kB)\n",
      "\u001b[2K     \u001b[90m━━━━━━━━━━━━━━━━━━━━━━━━━━━━━━━━━━━━━━\u001b[0m \u001b[32m715.6/715.6 KB\u001b[0m \u001b[31m13.6 MB/s\u001b[0m eta \u001b[36m0:00:00\u001b[0m\n",
      "\u001b[?25hRequirement already satisfied: PyYAML>=5.4 in /usr/local/lib/python3.9/dist-packages (from pytorch_lightning) (6.0)\n",
      "Collecting torchmetrics>=0.7.0\n",
      "  Downloading torchmetrics-0.11.4-py3-none-any.whl (519 kB)\n",
      "\u001b[2K     \u001b[90m━━━━━━━━━━━━━━━━━━━━━━━━━━━━━━━━━━━━━━\u001b[0m \u001b[32m519.2/519.2 KB\u001b[0m \u001b[31m27.7 MB/s\u001b[0m eta \u001b[36m0:00:00\u001b[0m\n",
      "\u001b[?25hRequirement already satisfied: numpy>=1.17.2 in /usr/local/lib/python3.9/dist-packages (from pytorch_lightning) (1.22.4)\n",
      "Collecting lightning-utilities>=0.7.0\n",
      "  Downloading lightning_utilities-0.8.0-py3-none-any.whl (20 kB)\n",
      "Requirement already satisfied: fsspec[http]>2021.06.0 in /usr/local/lib/python3.9/dist-packages (from pytorch_lightning) (2023.3.0)\n",
      "Requirement already satisfied: packaging>=17.1 in /usr/local/lib/python3.9/dist-packages (from pytorch_lightning) (23.0)\n",
      "Requirement already satisfied: typing-extensions>=4.0.0 in /usr/local/lib/python3.9/dist-packages (from pytorch_lightning) (4.5.0)\n",
      "Requirement already satisfied: torch>=1.11.0 in /usr/local/lib/python3.9/dist-packages (from pytorch_lightning) (1.13.1+cu116)\n",
      "Requirement already satisfied: tqdm>=4.57.0 in /usr/local/lib/python3.9/dist-packages (from pytorch_lightning) (4.65.0)\n",
      "Collecting aiohttp!=4.0.0a0,!=4.0.0a1\n",
      "  Downloading aiohttp-3.8.4-cp39-cp39-manylinux_2_17_x86_64.manylinux2014_x86_64.whl (1.0 MB)\n",
      "\u001b[2K     \u001b[90m━━━━━━━━━━━━━━━━━━━━━━━━━━━━━━━━━━━━━━━━\u001b[0m \u001b[32m1.0/1.0 MB\u001b[0m \u001b[31m19.9 MB/s\u001b[0m eta \u001b[36m0:00:00\u001b[0m\n",
      "\u001b[?25hRequirement already satisfied: requests in /usr/local/lib/python3.9/dist-packages (from fsspec[http]>2021.06.0->pytorch_lightning) (2.27.1)\n",
      "Collecting frozenlist>=1.1.1\n",
      "  Downloading frozenlist-1.3.3-cp39-cp39-manylinux_2_5_x86_64.manylinux1_x86_64.manylinux_2_17_x86_64.manylinux2014_x86_64.whl (158 kB)\n",
      "\u001b[2K     \u001b[90m━━━━━━━━━━━━━━━━━━━━━━━━━━━━━━━━━━━━━━\u001b[0m \u001b[32m158.8/158.8 KB\u001b[0m \u001b[31m11.4 MB/s\u001b[0m eta \u001b[36m0:00:00\u001b[0m\n",
      "\u001b[?25hRequirement already satisfied: charset-normalizer<4.0,>=2.0 in /usr/local/lib/python3.9/dist-packages (from aiohttp!=4.0.0a0,!=4.0.0a1->fsspec[http]>2021.06.0->pytorch_lightning) (2.0.12)\n",
      "Collecting yarl<2.0,>=1.0\n",
      "  Downloading yarl-1.8.2-cp39-cp39-manylinux_2_17_x86_64.manylinux2014_x86_64.whl (264 kB)\n",
      "\u001b[2K     \u001b[90m━━━━━━━━━━━━━━━━━━━━━━━━━━━━━━━━━━━━━━━\u001b[0m \u001b[32m264.6/264.6 KB\u001b[0m \u001b[31m4.6 MB/s\u001b[0m eta \u001b[36m0:00:00\u001b[0m\n",
      "\u001b[?25hCollecting multidict<7.0,>=4.5\n",
      "  Downloading multidict-6.0.4-cp39-cp39-manylinux_2_17_x86_64.manylinux2014_x86_64.whl (114 kB)\n",
      "\u001b[2K     \u001b[90m━━━━━━━━━━━━━━━━━━━━━━━━━━━━━━━━━━━━━━━\u001b[0m \u001b[32m114.2/114.2 KB\u001b[0m \u001b[31m2.1 MB/s\u001b[0m eta \u001b[36m0:00:00\u001b[0m\n",
      "\u001b[?25hCollecting aiosignal>=1.1.2\n",
      "  Downloading aiosignal-1.3.1-py3-none-any.whl (7.6 kB)\n",
      "Requirement already satisfied: attrs>=17.3.0 in /usr/local/lib/python3.9/dist-packages (from aiohttp!=4.0.0a0,!=4.0.0a1->fsspec[http]>2021.06.0->pytorch_lightning) (22.2.0)\n",
      "Collecting async-timeout<5.0,>=4.0.0a3\n",
      "  Downloading async_timeout-4.0.2-py3-none-any.whl (5.8 kB)\n",
      "Requirement already satisfied: urllib3<1.27,>=1.21.1 in /usr/local/lib/python3.9/dist-packages (from requests->fsspec[http]>2021.06.0->pytorch_lightning) (1.26.15)\n",
      "Requirement already satisfied: certifi>=2017.4.17 in /usr/local/lib/python3.9/dist-packages (from requests->fsspec[http]>2021.06.0->pytorch_lightning) (2022.12.7)\n",
      "Requirement already satisfied: idna<4,>=2.5 in /usr/local/lib/python3.9/dist-packages (from requests->fsspec[http]>2021.06.0->pytorch_lightning) (3.4)\n",
      "Installing collected packages: multidict, lightning-utilities, frozenlist, async-timeout, yarl, torchmetrics, aiosignal, aiohttp, pytorch_lightning\n",
      "Successfully installed aiohttp-3.8.4 aiosignal-1.3.1 async-timeout-4.0.2 frozenlist-1.3.3 lightning-utilities-0.8.0 multidict-6.0.4 pytorch_lightning-2.0.0 torchmetrics-0.11.4 yarl-1.8.2\n",
      "Looking in indexes: https://pypi.org/simple, https://us-python.pkg.dev/colab-wheels/public/simple/\n",
      "Collecting pytorch-lifestream\n",
      "  Downloading pytorch-lifestream-0.5.2.tar.gz (150 kB)\n",
      "\u001b[2K     \u001b[90m━━━━━━━━━━━━━━━━━━━━━━━━━━━━━━━━━━━━━━━\u001b[0m \u001b[32m150.3/150.3 KB\u001b[0m \u001b[31m9.1 MB/s\u001b[0m eta \u001b[36m0:00:00\u001b[0m\n",
      "\u001b[?25h  Installing build dependencies ... \u001b[?25l\u001b[?25hdone\n",
      "  Getting requirements to build wheel ... \u001b[?25l\u001b[?25hdone\n",
      "  Installing backend dependencies ... \u001b[?25l\u001b[?25hdone\n",
      "  Preparing metadata (pyproject.toml) ... \u001b[?25l\u001b[?25hdone\n",
      "Requirement already satisfied: pyarrow>=7.0 in /usr/local/lib/python3.9/dist-packages (from pytorch-lifestream) (9.0.0)\n",
      "Collecting transformers==4.*\n",
      "  Downloading transformers-4.27.3-py3-none-any.whl (6.8 MB)\n",
      "\u001b[2K     \u001b[90m━━━━━━━━━━━━━━━━━━━━━━━━━━━━━━━━━━━━━━━━\u001b[0m \u001b[32m6.8/6.8 MB\u001b[0m \u001b[31m90.0 MB/s\u001b[0m eta \u001b[36m0:00:00\u001b[0m\n",
      "\u001b[?25hCollecting hydra-core>=1.1.2\n",
      "  Downloading hydra_core-1.3.2-py3-none-any.whl (154 kB)\n",
      "\u001b[2K     \u001b[90m━━━━━━━━━━━━━━━━━━━━━━━━━━━━━━━━━━━━━━\u001b[0m \u001b[32m154.5/154.5 KB\u001b[0m \u001b[31m20.8 MB/s\u001b[0m eta \u001b[36m0:00:00\u001b[0m\n",
      "\u001b[?25hCollecting pytorch-lightning==1.6.*\n",
      "  Downloading pytorch_lightning-1.6.5-py3-none-any.whl (585 kB)\n",
      "\u001b[2K     \u001b[90m━━━━━━━━━━━━━━━━━━━━━━━━━━━━━━━━━━━━━━\u001b[0m \u001b[32m585.9/585.9 KB\u001b[0m \u001b[31m51.1 MB/s\u001b[0m eta \u001b[36m0:00:00\u001b[0m\n",
      "\u001b[?25hRequirement already satisfied: packaging>=17.0 in /usr/local/lib/python3.9/dist-packages (from pytorch-lightning==1.6.*->pytorch-lifestream) (23.0)\n",
      "Requirement already satisfied: torchmetrics>=0.4.1 in /usr/local/lib/python3.9/dist-packages (from pytorch-lightning==1.6.*->pytorch-lifestream) (0.11.4)\n",
      "Requirement already satisfied: protobuf<=3.20.1 in /usr/local/lib/python3.9/dist-packages (from pytorch-lightning==1.6.*->pytorch-lifestream) (3.19.6)\n",
      "Requirement already satisfied: fsspec[http]!=2021.06.0,>=2021.05.0 in /usr/local/lib/python3.9/dist-packages (from pytorch-lightning==1.6.*->pytorch-lifestream) (2023.3.0)\n",
      "Requirement already satisfied: numpy>=1.17.2 in /usr/local/lib/python3.9/dist-packages (from pytorch-lightning==1.6.*->pytorch-lifestream) (1.22.4)\n",
      "Requirement already satisfied: torch>=1.8.* in /usr/local/lib/python3.9/dist-packages (from pytorch-lightning==1.6.*->pytorch-lifestream) (1.13.1+cu116)\n",
      "Requirement already satisfied: tensorboard>=2.2.0 in /usr/local/lib/python3.9/dist-packages (from pytorch-lightning==1.6.*->pytorch-lifestream) (2.11.2)\n",
      "Requirement already satisfied: typing-extensions>=4.0.0 in /usr/local/lib/python3.9/dist-packages (from pytorch-lightning==1.6.*->pytorch-lifestream) (4.5.0)\n",
      "Requirement already satisfied: tqdm>=4.57.0 in /usr/local/lib/python3.9/dist-packages (from pytorch-lightning==1.6.*->pytorch-lifestream) (4.65.0)\n",
      "Requirement already satisfied: PyYAML>=5.4 in /usr/local/lib/python3.9/dist-packages (from pytorch-lightning==1.6.*->pytorch-lifestream) (6.0)\n",
      "Collecting pyDeprecate>=0.3.1\n",
      "  Downloading pyDeprecate-0.3.2-py3-none-any.whl (10 kB)\n",
      "Collecting huggingface-hub<1.0,>=0.11.0\n",
      "  Downloading huggingface_hub-0.13.3-py3-none-any.whl (199 kB)\n",
      "\u001b[2K     \u001b[90m━━━━━━━━━━━━━━━━━━━━━━━━━━━━━━━━━━━━━━\u001b[0m \u001b[32m199.8/199.8 KB\u001b[0m \u001b[31m25.6 MB/s\u001b[0m eta \u001b[36m0:00:00\u001b[0m\n",
      "\u001b[?25hRequirement already satisfied: regex!=2019.12.17 in /usr/local/lib/python3.9/dist-packages (from transformers==4.*->pytorch-lifestream) (2022.10.31)\n",
      "Collecting tokenizers!=0.11.3,<0.14,>=0.11.1\n",
      "  Downloading tokenizers-0.13.2-cp39-cp39-manylinux_2_17_x86_64.manylinux2014_x86_64.whl (7.6 MB)\n",
      "\u001b[2K     \u001b[90m━━━━━━━━━━━━━━━━━━━━━━━━━━━━━━━━━━━━━━━━\u001b[0m \u001b[32m7.6/7.6 MB\u001b[0m \u001b[31m104.6 MB/s\u001b[0m eta \u001b[36m0:00:00\u001b[0m\n",
      "\u001b[?25hRequirement already satisfied: requests in /usr/local/lib/python3.9/dist-packages (from transformers==4.*->pytorch-lifestream) (2.27.1)\n",
      "Requirement already satisfied: filelock in /usr/local/lib/python3.9/dist-packages (from transformers==4.*->pytorch-lifestream) (3.10.1)\n",
      "Collecting antlr4-python3-runtime==4.9.*\n",
      "  Downloading antlr4-python3-runtime-4.9.3.tar.gz (117 kB)\n",
      "\u001b[2K     \u001b[90m━━━━━━━━━━━━━━━━━━━━━━━━━━━━━━━━━━━━━━\u001b[0m \u001b[32m117.0/117.0 KB\u001b[0m \u001b[31m17.6 MB/s\u001b[0m eta \u001b[36m0:00:00\u001b[0m\n",
      "\u001b[?25h  Preparing metadata (setup.py) ... \u001b[?25l\u001b[?25hdone\n",
      "Collecting omegaconf<2.4,>=2.2\n",
      "  Downloading omegaconf-2.3.0-py3-none-any.whl (79 kB)\n",
      "\u001b[2K     \u001b[90m━━━━━━━━━━━━━━━━━━━━━━━━━━━━━━━━━━━━━━━━\u001b[0m \u001b[32m79.5/79.5 KB\u001b[0m \u001b[31m11.1 MB/s\u001b[0m eta \u001b[36m0:00:00\u001b[0m\n",
      "\u001b[?25hRequirement already satisfied: aiohttp!=4.0.0a0,!=4.0.0a1 in /usr/local/lib/python3.9/dist-packages (from fsspec[http]!=2021.06.0,>=2021.05.0->pytorch-lightning==1.6.*->pytorch-lifestream) (3.8.4)\n",
      "Requirement already satisfied: google-auth<3,>=1.6.3 in /usr/local/lib/python3.9/dist-packages (from tensorboard>=2.2.0->pytorch-lightning==1.6.*->pytorch-lifestream) (2.16.2)\n",
      "Requirement already satisfied: setuptools>=41.0.0 in /usr/local/lib/python3.9/dist-packages (from tensorboard>=2.2.0->pytorch-lightning==1.6.*->pytorch-lifestream) (67.6.0)\n",
      "Requirement already satisfied: markdown>=2.6.8 in /usr/local/lib/python3.9/dist-packages (from tensorboard>=2.2.0->pytorch-lightning==1.6.*->pytorch-lifestream) (3.4.2)\n",
      "Requirement already satisfied: absl-py>=0.4 in /usr/local/lib/python3.9/dist-packages (from tensorboard>=2.2.0->pytorch-lightning==1.6.*->pytorch-lifestream) (1.4.0)\n",
      "Requirement already satisfied: werkzeug>=1.0.1 in /usr/local/lib/python3.9/dist-packages (from tensorboard>=2.2.0->pytorch-lightning==1.6.*->pytorch-lifestream) (2.2.3)\n",
      "Requirement already satisfied: wheel>=0.26 in /usr/local/lib/python3.9/dist-packages (from tensorboard>=2.2.0->pytorch-lightning==1.6.*->pytorch-lifestream) (0.40.0)\n",
      "Requirement already satisfied: tensorboard-data-server<0.7.0,>=0.6.0 in /usr/local/lib/python3.9/dist-packages (from tensorboard>=2.2.0->pytorch-lightning==1.6.*->pytorch-lifestream) (0.6.1)\n",
      "Requirement already satisfied: tensorboard-plugin-wit>=1.6.0 in /usr/local/lib/python3.9/dist-packages (from tensorboard>=2.2.0->pytorch-lightning==1.6.*->pytorch-lifestream) (1.8.1)\n",
      "Requirement already satisfied: grpcio>=1.24.3 in /usr/local/lib/python3.9/dist-packages (from tensorboard>=2.2.0->pytorch-lightning==1.6.*->pytorch-lifestream) (1.51.3)\n",
      "Requirement already satisfied: google-auth-oauthlib<0.5,>=0.4.1 in /usr/local/lib/python3.9/dist-packages (from tensorboard>=2.2.0->pytorch-lightning==1.6.*->pytorch-lifestream) (0.4.6)\n",
      "Requirement already satisfied: certifi>=2017.4.17 in /usr/local/lib/python3.9/dist-packages (from requests->transformers==4.*->pytorch-lifestream) (2022.12.7)\n",
      "Requirement already satisfied: idna<4,>=2.5 in /usr/local/lib/python3.9/dist-packages (from requests->transformers==4.*->pytorch-lifestream) (3.4)\n",
      "Requirement already satisfied: charset-normalizer~=2.0.0 in /usr/local/lib/python3.9/dist-packages (from requests->transformers==4.*->pytorch-lifestream) (2.0.12)\n",
      "Requirement already satisfied: urllib3<1.27,>=1.21.1 in /usr/local/lib/python3.9/dist-packages (from requests->transformers==4.*->pytorch-lifestream) (1.26.15)\n",
      "Requirement already satisfied: aiosignal>=1.1.2 in /usr/local/lib/python3.9/dist-packages (from aiohttp!=4.0.0a0,!=4.0.0a1->fsspec[http]!=2021.06.0,>=2021.05.0->pytorch-lightning==1.6.*->pytorch-lifestream) (1.3.1)\n",
      "Requirement already satisfied: frozenlist>=1.1.1 in /usr/local/lib/python3.9/dist-packages (from aiohttp!=4.0.0a0,!=4.0.0a1->fsspec[http]!=2021.06.0,>=2021.05.0->pytorch-lightning==1.6.*->pytorch-lifestream) (1.3.3)\n",
      "Requirement already satisfied: async-timeout<5.0,>=4.0.0a3 in /usr/local/lib/python3.9/dist-packages (from aiohttp!=4.0.0a0,!=4.0.0a1->fsspec[http]!=2021.06.0,>=2021.05.0->pytorch-lightning==1.6.*->pytorch-lifestream) (4.0.2)\n",
      "Requirement already satisfied: multidict<7.0,>=4.5 in /usr/local/lib/python3.9/dist-packages (from aiohttp!=4.0.0a0,!=4.0.0a1->fsspec[http]!=2021.06.0,>=2021.05.0->pytorch-lightning==1.6.*->pytorch-lifestream) (6.0.4)\n",
      "Requirement already satisfied: attrs>=17.3.0 in /usr/local/lib/python3.9/dist-packages (from aiohttp!=4.0.0a0,!=4.0.0a1->fsspec[http]!=2021.06.0,>=2021.05.0->pytorch-lightning==1.6.*->pytorch-lifestream) (22.2.0)\n",
      "Requirement already satisfied: yarl<2.0,>=1.0 in /usr/local/lib/python3.9/dist-packages (from aiohttp!=4.0.0a0,!=4.0.0a1->fsspec[http]!=2021.06.0,>=2021.05.0->pytorch-lightning==1.6.*->pytorch-lifestream) (1.8.2)\n",
      "Requirement already satisfied: six>=1.9.0 in /usr/local/lib/python3.9/dist-packages (from google-auth<3,>=1.6.3->tensorboard>=2.2.0->pytorch-lightning==1.6.*->pytorch-lifestream) (1.16.0)\n",
      "Requirement already satisfied: rsa<5,>=3.1.4 in /usr/local/lib/python3.9/dist-packages (from google-auth<3,>=1.6.3->tensorboard>=2.2.0->pytorch-lightning==1.6.*->pytorch-lifestream) (4.9)\n",
      "Requirement already satisfied: pyasn1-modules>=0.2.1 in /usr/local/lib/python3.9/dist-packages (from google-auth<3,>=1.6.3->tensorboard>=2.2.0->pytorch-lightning==1.6.*->pytorch-lifestream) (0.2.8)\n",
      "Requirement already satisfied: cachetools<6.0,>=2.0.0 in /usr/local/lib/python3.9/dist-packages (from google-auth<3,>=1.6.3->tensorboard>=2.2.0->pytorch-lightning==1.6.*->pytorch-lifestream) (5.3.0)\n",
      "Requirement already satisfied: requests-oauthlib>=0.7.0 in /usr/local/lib/python3.9/dist-packages (from google-auth-oauthlib<0.5,>=0.4.1->tensorboard>=2.2.0->pytorch-lightning==1.6.*->pytorch-lifestream) (1.3.1)\n",
      "Requirement already satisfied: importlib-metadata>=4.4 in /usr/local/lib/python3.9/dist-packages (from markdown>=2.6.8->tensorboard>=2.2.0->pytorch-lightning==1.6.*->pytorch-lifestream) (6.1.0)\n",
      "Requirement already satisfied: MarkupSafe>=2.1.1 in /usr/local/lib/python3.9/dist-packages (from werkzeug>=1.0.1->tensorboard>=2.2.0->pytorch-lightning==1.6.*->pytorch-lifestream) (2.1.2)\n",
      "Requirement already satisfied: zipp>=0.5 in /usr/local/lib/python3.9/dist-packages (from importlib-metadata>=4.4->markdown>=2.6.8->tensorboard>=2.2.0->pytorch-lightning==1.6.*->pytorch-lifestream) (3.15.0)\n",
      "Requirement already satisfied: pyasn1<0.5.0,>=0.4.6 in /usr/local/lib/python3.9/dist-packages (from pyasn1-modules>=0.2.1->google-auth<3,>=1.6.3->tensorboard>=2.2.0->pytorch-lightning==1.6.*->pytorch-lifestream) (0.4.8)\n",
      "Requirement already satisfied: oauthlib>=3.0.0 in /usr/local/lib/python3.9/dist-packages (from requests-oauthlib>=0.7.0->google-auth-oauthlib<0.5,>=0.4.1->tensorboard>=2.2.0->pytorch-lightning==1.6.*->pytorch-lifestream) (3.2.2)\n",
      "Building wheels for collected packages: pytorch-lifestream, antlr4-python3-runtime\n",
      "  Building wheel for pytorch-lifestream (pyproject.toml) ... \u001b[?25l\u001b[?25hdone\n",
      "  Created wheel for pytorch-lifestream: filename=pytorch_lifestream-0.5.2-py3-none-any.whl size=256980 sha256=fa4bcb00e6aa23a69327a8599d9f5d9da7620d30d5e8405de55f132d2a51ed96\n",
      "  Stored in directory: /root/.cache/pip/wheels/07/3c/f7/565354c0a36c9f9cd0084237bcb8d36697554d25cc7d9a1ae1\n",
      "  Building wheel for antlr4-python3-runtime (setup.py) ... \u001b[?25l\u001b[?25hdone\n",
      "  Created wheel for antlr4-python3-runtime: filename=antlr4_python3_runtime-4.9.3-py3-none-any.whl size=144573 sha256=6a419cfe9ccad5c9139b6109747cf48c75b702022ef56c5859a46dd165056da9\n",
      "  Stored in directory: /root/.cache/pip/wheels/23/cf/80/f3efa822e6ab23277902ee9165fe772eeb1dfb8014f359020a\n",
      "Successfully built pytorch-lifestream antlr4-python3-runtime\n",
      "Installing collected packages: tokenizers, antlr4-python3-runtime, pyDeprecate, omegaconf, hydra-core, huggingface-hub, transformers, pytorch-lightning, pytorch-lifestream\n",
      "  Attempting uninstall: pytorch-lightning\n",
      "    Found existing installation: pytorch-lightning 2.0.0\n",
      "    Uninstalling pytorch-lightning-2.0.0:\n",
      "      Successfully uninstalled pytorch-lightning-2.0.0\n",
      "Successfully installed antlr4-python3-runtime-4.9.3 huggingface-hub-0.13.3 hydra-core-1.3.2 omegaconf-2.3.0 pyDeprecate-0.3.2 pytorch-lifestream-0.5.2 pytorch-lightning-1.6.5 tokenizers-0.13.2 transformers-4.27.3\n"
     ]
    },
    {
     "data": {
      "application/vnd.colab-display-data+json": {
       "pip_warning": {
        "packages": [
         "pydevd_plugins"
        ]
       }
      }
     },
     "metadata": {},
     "output_type": "display_data"
    }
   ],
   "source": [
    "!pip install pytorch_lightning\n",
    "!pip install pytorch-lifestream"
   ]
  },
  {
   "cell_type": "code",
   "execution_count": 4,
   "metadata": {
    "id": "4or0wsz3eJJh"
   },
   "outputs": [],
   "source": [
    "from ptls.data_load.datasets import ParquetDataset, ParquetFiles\n",
    "\n",
    "iterable_train = ParquetDataset(ParquetFiles('train.parquet'))\n"
   ]
  },
  {
   "cell_type": "code",
   "execution_count": 9,
   "metadata": {
    "id": "m80hD6-3eQON"
   },
   "outputs": [],
   "source": [
    "from ptls.data_load.datasets import MemoryMapDataset\n",
    "from ptls.data_load.iterable_processing import SeqLenFilter, FeatureFilter\n",
    "\n",
    "map_processed_train = MemoryMapDataset(\n",
    "    data=iterable_train,\n",
    "    i_filters=[\n",
    "        SeqLenFilter(min_seq_len=25),\n",
    "    ],\n",
    ")"
   ]
  },
  {
   "cell_type": "code",
   "execution_count": 26,
   "metadata": {
    "id": "reH9fUj9eUsI"
   },
   "outputs": [],
   "source": [
    "import torch\n",
    "from functools import partial\n",
    "from ptls.nn import TrxEncoder, RnnSeqEncoder\n",
    "from ptls.frames.coles import CoLESModule\n",
    "\n",
    "trx_encoder_params = dict(\n",
    "    embeddings_noise=0.003,\n",
    "    numeric_values={},\n",
    "    embeddings={\n",
    "        'event_time': {'in': 800, 'out': 16},\n",
    "        'cat_id': {'in': 410, 'out': 16},\n",
    "    },\n",
    ")\n",
    "\n",
    "seq_encoder = RnnSeqEncoder(\n",
    "    trx_encoder=TrxEncoder(**trx_encoder_params),\n",
    "    hidden_size=256,\n",
    "    type='gru',\n",
    ")\n",
    "\n",
    "model = CoLESModule(\n",
    "    seq_encoder=seq_encoder,\n",
    "    optimizer_partial=partial(torch.optim.Adam, lr=0.001),\n",
    "    lr_scheduler_partial=partial(torch.optim.lr_scheduler.StepLR, step_size=30, gamma=0.9),\n",
    ")"
   ]
  },
  {
   "cell_type": "code",
   "execution_count": 39,
   "metadata": {
    "id": "MRj8txSxemom"
   },
   "outputs": [],
   "source": [
    "from ptls.data_load.datasets import MemoryMapDataset\n",
    "from ptls.data_load.iterable_processing import SeqLenFilter\n",
    "from ptls.frames.coles import ColesDataset\n",
    "from ptls.frames.coles.split_strategy import SampleSlices, SplitRandom, SampleRandom\n",
    "from ptls.frames import PtlsDataModule\n",
    "\n",
    "train_dl = PtlsDataModule(\n",
    "    train_data=ColesDataset(\n",
    "        map_processed_train,\n",
    "        splitter=SplitRandom(\n",
    "            split_count=5,\n",
    "            cnt_min=25,\n",
    "            cnt_max=200,\n",
    "        ),\n",
    "    ),\n",
    "    train_num_workers=2,\n",
    "    train_batch_size=256,\n",
    ")"
   ]
  },
  {
   "cell_type": "code",
   "execution_count": 40,
   "metadata": {
    "colab": {
     "base_uri": "https://localhost:8080/"
    },
    "id": "Eis8BOEWem55",
    "outputId": "8c8c18f4-601b-49cd-f4c2-1c210f3bc4b7"
   },
   "outputs": [
    {
     "name": "stderr",
     "output_type": "stream",
     "text": [
      "INFO:pytorch_lightning.utilities.rank_zero:GPU available: True, used: True\n",
      "INFO:pytorch_lightning.utilities.rank_zero:TPU available: False, using: 0 TPU cores\n",
      "INFO:pytorch_lightning.utilities.rank_zero:IPU available: False, using: 0 IPUs\n",
      "INFO:pytorch_lightning.utilities.rank_zero:HPU available: False, using: 0 HPUs\n"
     ]
    }
   ],
   "source": [
    "import torch\n",
    "import pytorch_lightning as pl\n",
    "\n",
    "import logging\n",
    "\n",
    "trainer = pl.Trainer(\n",
    "    max_epochs=15,\n",
    "    gpus=1 if torch.cuda.is_available() else 0,\n",
    "    enable_progress_bar=False,\n",
    ")\n",
    "    "
   ]
  },
  {
   "cell_type": "code",
   "execution_count": 41,
   "metadata": {
    "colab": {
     "base_uri": "https://localhost:8080/"
    },
    "id": "DaUAPf8zeoqs",
    "outputId": "101d37a8-daac-43f6-8744-ecc0f4cd49ce"
   },
   "outputs": [
    {
     "name": "stderr",
     "output_type": "stream",
     "text": [
      "/usr/local/lib/python3.9/dist-packages/pytorch_lightning/trainer/configuration_validator.py:133: UserWarning: You defined a `validation_step` but have no `val_dataloader`. Skipping val loop.\n",
      "  rank_zero_warn(\"You defined a `validation_step` but have no `val_dataloader`. Skipping val loop.\")\n",
      "INFO:pytorch_lightning.accelerators.gpu:LOCAL_RANK: 0 - CUDA_VISIBLE_DEVICES: [0]\n",
      "INFO:pytorch_lightning.callbacks.model_summary:\n",
      "  | Name               | Type            | Params\n",
      "-------------------------------------------------------\n",
      "0 | _loss              | ContrastiveLoss | 0     \n",
      "1 | _seq_encoder       | RnnSeqEncoder   | 242 K \n",
      "2 | _validation_metric | BatchRecallTopK | 0     \n",
      "3 | _head              | Head            | 0     \n",
      "-------------------------------------------------------\n",
      "242 K     Trainable params\n",
      "0         Non-trainable params\n",
      "242 K     Total params\n",
      "0.969     Total estimated model params size (MB)\n"
     ]
    },
    {
     "name": "stdout",
     "output_type": "stream",
     "text": [
      "logger.version = 4\n",
      "{'loss': tensor(57.0006), 'seq_len': tensor(176.8849)}\n",
      "CPU times: user 3min 12s, sys: 13.9 s, total: 3min 26s\n",
      "Wall time: 4min 28s\n"
     ]
    }
   ],
   "source": [
    "\n",
    "%%time\n",
    "print(f'logger.version = {trainer.logger.version}')\n",
    "trainer.fit(model, train_dl)\n",
    "print(trainer.logged_metrics)\n",
    "     "
   ]
  },
  {
   "cell_type": "code",
   "execution_count": 42,
   "metadata": {
    "colab": {
     "base_uri": "https://localhost:8080/"
    },
    "id": "woVIDAzMereb",
    "outputId": "d6cd1678-71d9-4dc4-9001-0d08b6928085"
   },
   "outputs": [
    {
     "name": "stderr",
     "output_type": "stream",
     "text": [
      "INFO:pytorch_lightning.accelerators.gpu:LOCAL_RANK: 0 - CUDA_VISIBLE_DEVICES: [0]\n"
     ]
    }
   ],
   "source": [
    "from ptls.data_load.datasets import inference_data_loader\n",
    "\n",
    "iterable_test = ParquetDataset(ParquetFiles('test.parquet'))\n",
    "\n",
    "train_dl = inference_data_loader(list(iter(iterable_train)), num_workers=0, batch_size=256)\n",
    "\n",
    "train_embeds = torch.vstack(trainer.predict(model, train_dl, ))\n"
   ]
  },
  {
   "cell_type": "code",
   "execution_count": 43,
   "metadata": {
    "colab": {
     "base_uri": "https://localhost:8080/"
    },
    "id": "6lgbu2jZetnu",
    "outputId": "655b365f-87b9-47a0-c9c3-18725fac988c"
   },
   "outputs": [
    {
     "name": "stderr",
     "output_type": "stream",
     "text": [
      "INFO:pytorch_lightning.accelerators.gpu:LOCAL_RANK: 0 - CUDA_VISIBLE_DEVICES: [0]\n",
      "INFO:pytorch_lightning.accelerators.gpu:LOCAL_RANK: 0 - CUDA_VISIBLE_DEVICES: [0]\n"
     ]
    },
    {
     "data": {
      "text/plain": [
       "(torch.Size([15715, 256]), torch.Size([3908, 256]))"
      ]
     },
     "execution_count": 43,
     "metadata": {},
     "output_type": "execute_result"
    }
   ],
   "source": [
    "train_embeds = torch.vstack(trainer.predict(model, train_dl, ))\n",
    "\n",
    "test_dl = inference_data_loader(list(iter(iterable_test)), num_workers=0, batch_size=256)\n",
    "test_embeds = torch.vstack(trainer.predict(model, test_dl))\n",
    "\n",
    "train_embeds.shape, test_embeds.shape"
   ]
  },
  {
   "cell_type": "code",
   "execution_count": 44,
   "metadata": {
    "colab": {
     "base_uri": "https://localhost:8080/"
    },
    "id": "dzbvg_U8evRi",
    "outputId": "6468b46c-bcb8-43f3-9fe0-6b1bce100bc5"
   },
   "outputs": [
    {
     "name": "stdout",
     "output_type": "stream",
     "text": [
      "(15715, 258) (3908, 258)\n"
     ]
    }
   ],
   "source": [
    "import pandas as pd\n",
    "df_target = pd.read_csv('target_dataset_matched.csv')\n",
    "df_target.rename(columns={'rtk':'user_id'},inplace=True)\n",
    "df_target = df_target.set_index('user_id')\n",
    "df_target.rename(columns={\"higher_education\": \"target\"}, inplace=True)\n",
    "\n",
    "train_df = pd.DataFrame(data=train_embeds, columns=[f'embed_{i}' for i in range(train_embeds.shape[1])])\n",
    "train_df['user_id'] = [x['user_id'] for x in iter(iterable_train)]\n",
    "train_df = train_df.merge(df_target, how='left', on='user_id')\n",
    "\n",
    "test_df = pd.DataFrame(data=test_embeds, columns=[f'embed_{i}' for i in range(test_embeds.shape[1])])\n",
    "test_df['user_id'] = [x['user_id'] for x in iter(iterable_test)]\n",
    "test_df = test_df.merge(df_target, how='left', on='user_id')\n",
    "\n",
    "print(train_df.shape, test_df.shape)"
   ]
  },
  {
   "cell_type": "code",
   "execution_count": 45,
   "metadata": {
    "id": "ER71HDjVgcot"
   },
   "outputs": [],
   "source": [
    "train_df.dropna(inplace=True)\n",
    "test_df.dropna(inplace=True)"
   ]
  },
  {
   "cell_type": "code",
   "execution_count": 46,
   "metadata": {
    "id": "8Z-qCnxNggiA"
   },
   "outputs": [],
   "source": [
    "embed_columns = [x for x in train_df.columns if x.startswith('embed')]\n",
    "x_train, y_train = train_df[embed_columns], train_df['target']\n",
    "x_test, y_test = test_df[embed_columns], test_df['target']"
   ]
  },
  {
   "cell_type": "code",
   "execution_count": 19,
   "metadata": {
    "colab": {
     "base_uri": "https://localhost:8080/"
    },
    "id": "C-DQH4SegjDP",
    "outputId": "d4529159-1539-4d89-e5e5-a22d3780b456"
   },
   "outputs": [
    {
     "name": "stdout",
     "output_type": "stream",
     "text": [
      "Looking in indexes: https://pypi.org/simple, https://us-python.pkg.dev/colab-wheels/public/simple/\n",
      "Collecting catboost\n",
      "  Downloading catboost-1.1.1-cp39-none-manylinux1_x86_64.whl (76.6 MB)\n",
      "\u001b[2K     \u001b[90m━━━━━━━━━━━━━━━━━━━━━━━━━━━━━━━━━━━━━━━━\u001b[0m \u001b[32m76.6/76.6 MB\u001b[0m \u001b[31m16.8 MB/s\u001b[0m eta \u001b[36m0:00:00\u001b[0m\n",
      "\u001b[?25hRequirement already satisfied: numpy>=1.16.0 in /usr/local/lib/python3.9/dist-packages (from catboost) (1.22.4)\n",
      "Requirement already satisfied: pandas>=0.24.0 in /usr/local/lib/python3.9/dist-packages (from catboost) (1.4.4)\n",
      "Requirement already satisfied: six in /usr/local/lib/python3.9/dist-packages (from catboost) (1.16.0)\n",
      "Requirement already satisfied: matplotlib in /usr/local/lib/python3.9/dist-packages (from catboost) (3.7.1)\n",
      "Requirement already satisfied: graphviz in /usr/local/lib/python3.9/dist-packages (from catboost) (0.20.1)\n",
      "Requirement already satisfied: scipy in /usr/local/lib/python3.9/dist-packages (from catboost) (1.10.1)\n",
      "Requirement already satisfied: plotly in /usr/local/lib/python3.9/dist-packages (from catboost) (5.13.1)\n",
      "Requirement already satisfied: python-dateutil>=2.8.1 in /usr/local/lib/python3.9/dist-packages (from pandas>=0.24.0->catboost) (2.8.2)\n",
      "Requirement already satisfied: pytz>=2020.1 in /usr/local/lib/python3.9/dist-packages (from pandas>=0.24.0->catboost) (2022.7.1)\n",
      "Requirement already satisfied: fonttools>=4.22.0 in /usr/local/lib/python3.9/dist-packages (from matplotlib->catboost) (4.39.2)\n",
      "Requirement already satisfied: cycler>=0.10 in /usr/local/lib/python3.9/dist-packages (from matplotlib->catboost) (0.11.0)\n",
      "Requirement already satisfied: pyparsing>=2.3.1 in /usr/local/lib/python3.9/dist-packages (from matplotlib->catboost) (3.0.9)\n",
      "Requirement already satisfied: importlib-resources>=3.2.0 in /usr/local/lib/python3.9/dist-packages (from matplotlib->catboost) (5.12.0)\n",
      "Requirement already satisfied: contourpy>=1.0.1 in /usr/local/lib/python3.9/dist-packages (from matplotlib->catboost) (1.0.7)\n",
      "Requirement already satisfied: packaging>=20.0 in /usr/local/lib/python3.9/dist-packages (from matplotlib->catboost) (23.0)\n",
      "Requirement already satisfied: pillow>=6.2.0 in /usr/local/lib/python3.9/dist-packages (from matplotlib->catboost) (8.4.0)\n",
      "Requirement already satisfied: kiwisolver>=1.0.1 in /usr/local/lib/python3.9/dist-packages (from matplotlib->catboost) (1.4.4)\n",
      "Requirement already satisfied: tenacity>=6.2.0 in /usr/local/lib/python3.9/dist-packages (from plotly->catboost) (8.2.2)\n",
      "Requirement already satisfied: zipp>=3.1.0 in /usr/local/lib/python3.9/dist-packages (from importlib-resources>=3.2.0->matplotlib->catboost) (3.15.0)\n",
      "Installing collected packages: catboost\n",
      "Successfully installed catboost-1.1.1\n"
     ]
    }
   ],
   "source": [
    "!pip install catboost"
   ]
  },
  {
   "cell_type": "code",
   "execution_count": 47,
   "metadata": {
    "id": "O6Uz5dIkgkuI"
   },
   "outputs": [],
   "source": [
    "from catboost import CatBoostClassifier, metrics\n",
    "CatBoostModel = CatBoostClassifier(\n",
    "iterations= 500,\n",
    "learning_rate = 0.05,\n",
    "use_best_model = True,\n",
    "eval_metric ='AUC', \n",
    "loss_function='Logloss',\n",
    "random_seed = 42,\n",
    "logging_level = 'Silent',\n",
    "depth = 5)"
   ]
  },
  {
   "cell_type": "code",
   "execution_count": 48,
   "metadata": {
    "colab": {
     "base_uri": "https://localhost:8080/",
     "height": 35,
     "referenced_widgets": [
      "f6f2c54a3da441f8b9b03ed6a1be94ef"
     ]
    },
    "id": "FSUDn79UgnpG",
    "outputId": "f0687f20-7c78-4e33-b739-64c0b54f762d"
   },
   "outputs": [
    {
     "data": {
      "application/vnd.jupyter.widget-view+json": {
       "model_id": "f6f2c54a3da441f8b9b03ed6a1be94ef",
       "version_major": 2,
       "version_minor": 0
      },
      "text/plain": [
       "MetricVisualizer(layout=Layout(align_self='stretch', height='500px'))"
      ]
     },
     "metadata": {},
     "output_type": "display_data"
    },
    {
     "data": {
      "text/plain": [
       "<catboost.core.CatBoostClassifier at 0x7f8c980ec820>"
      ]
     },
     "execution_count": 48,
     "metadata": {},
     "output_type": "execute_result"
    }
   ],
   "source": [
    "CatBoostModel.fit(\n",
    "    x_train, y_train,\n",
    "    eval_set=(x_test, y_test),\n",
    "    plot=True\n",
    "#     logging_level='Verbose',  # you can uncomment this for text output\n",
    ")"
   ]
  },
  {
   "cell_type": "code",
   "execution_count": 49,
   "metadata": {
    "id": "6z376hi8gpvf"
   },
   "outputs": [],
   "source": [
    "y_pred = CatBoostModel.predict(x_test)\n",
    "y_proba = CatBoostModel.predict_proba(x_test)"
   ]
  },
  {
   "cell_type": "code",
   "execution_count": 24,
   "metadata": {
    "id": "5asILJAZhB65"
   },
   "outputs": [],
   "source": [
    "\n",
    "from sklearn.metrics import roc_auc_score, precision_score, accuracy_score, recall_score, f1_score, roc_auc_score"
   ]
  },
  {
   "cell_type": "code",
   "execution_count": null,
   "metadata": {
    "colab": {
     "base_uri": "https://localhost:8080/"
    },
    "id": "IIB5G3lKgsBW",
    "outputId": "2390f338-26c8-4d76-9dbb-a48f2595b54a"
   },
   "outputs": [
    {
     "name": "stdout",
     "output_type": "stream",
     "text": [
      "accuracy: 0.7145049884881044 \n",
      "      f1: 0.8334825425246195, \n",
      "      precision: 1.0\n",
      "     roc auc : 0.5978396451959391\n"
     ]
    }
   ],
   "source": [
    "#gru\n",
    "print(f'''accuracy: {CatBoostModel.score(x_test, y_test)} \n",
    "      f1: {f1_score(y_pred, y_test)}, \n",
    "      precision: {precision_score(y_pred, y_test)}\n",
    "     roc auc : {roc_auc_score(y_test, y_proba[:,1])}''')"
   ]
  },
  {
   "cell_type": "code",
   "execution_count": null,
   "metadata": {
    "colab": {
     "base_uri": "https://localhost:8080/"
    },
    "id": "JPF2_JJ9hDnR",
    "outputId": "78767c5e-63b6-4b4f-b208-e4a806b0053f"
   },
   "outputs": [
    {
     "name": "stdout",
     "output_type": "stream",
     "text": [
      "accuracy: 0.7145049884881044 \n",
      "      f1: 0.8334825425246195, \n",
      "      precision: 1.0\n",
      "     roc auc : 0.5765825854959981\n"
     ]
    }
   ],
   "source": [
    "#lstm\n",
    "print(f'''accuracy: {CatBoostModel.score(x_test, y_test)} \n",
    "      f1: {f1_score(y_pred, y_test)}, \n",
    "      precision: {precision_score(y_pred, y_test)}\n",
    "     roc auc : {roc_auc_score(y_test, y_proba[:,1])}''')"
   ]
  },
  {
   "cell_type": "code",
   "execution_count": 50,
   "metadata": {
    "colab": {
     "base_uri": "https://localhost:8080/"
    },
    "id": "r_ZKR_HG9Gna",
    "outputId": "49758875-d579-43ea-fd67-0333d06ab0b6"
   },
   "outputs": [
    {
     "name": "stdout",
     "output_type": "stream",
     "text": [
      "accuracy: 0.7145049884881044 \n",
      "      f1: 0.8331838565022421, \n",
      "      precision: 0.9978517722878625\n",
      "     roc auc : 0.6003199242345496\n"
     ]
    }
   ],
   "source": [
    "#SplitRandom\n",
    "print(f'''accuracy: {CatBoostModel.score(x_test, y_test)} \n",
    "      f1: {f1_score(y_pred, y_test)}, \n",
    "      precision: {precision_score(y_pred, y_test)}\n",
    "     roc auc : {roc_auc_score(y_test, y_proba[:,1])}''')"
   ]
  },
  {
   "cell_type": "code",
   "execution_count": 38,
   "metadata": {
    "colab": {
     "base_uri": "https://localhost:8080/"
    },
    "id": "43vflmap9h9k",
    "outputId": "e7a5e722-cb2d-4ea2-8deb-40a5248ac2bf"
   },
   "outputs": [
    {
     "name": "stdout",
     "output_type": "stream",
     "text": [
      "accuracy: 0.7145049884881044 \n",
      "      f1: 0.8334825425246195, \n",
      "      precision: 1.0\n",
      "     roc auc : 0.5902140142984189\n"
     ]
    }
   ],
   "source": [
    "#SampleRandom\n",
    "print(f'''accuracy: {CatBoostModel.score(x_test, y_test)} \n",
    "      f1: {f1_score(y_pred, y_test)}, \n",
    "      precision: {precision_score(y_pred, y_test)}\n",
    "     roc auc : {roc_auc_score(y_test, y_proba[:,1])}''')"
   ]
  },
  {
   "cell_type": "code",
   "execution_count": 51,
   "metadata": {
    "id": "FGQQ42Pw9HOU"
   },
   "outputs": [],
   "source": [
    "transactions = {'SampleSlices':0.7605643290172892, 'SplitRandom':0.7493132999027019, 'SampleRandom':0.7678373624728688}\n",
    "clickstream = {'SampleSlices':0.5978396451959391, 'SplitRandom':0.6003199242345496, 'SampleRandom':0.5902140142984189}"
   ]
  },
  {
   "cell_type": "code",
   "execution_count": null,
   "metadata": {
    "id": "ccpn6__Ugt1a"
   },
   "outputs": [],
   "source": [
    "clickstream = {'gru':0.5978396451959391, 'lstm': 0.5765825854959981}\n",
    "transactions = {'gru': 0.7605643290172892, 'lstm' : 0.7527879649726817}"
   ]
  },
  {
   "cell_type": "code",
   "execution_count": 52,
   "metadata": {
    "id": "k0HPip8gjAG_"
   },
   "outputs": [],
   "source": [
    "tr = pd.DataFrame(clickstream, index = ['clickstream'])"
   ]
  },
  {
   "cell_type": "code",
   "execution_count": 53,
   "metadata": {
    "id": "ifxd5LNSjEhK"
   },
   "outputs": [],
   "source": [
    "tr1 = pd.DataFrame(transactions, index = ['transactions'])"
   ]
  },
  {
   "cell_type": "code",
   "execution_count": 54,
   "metadata": {
    "id": "H12ox_1gjdeZ"
   },
   "outputs": [],
   "source": [
    "roc_auc = pd.concat([tr1, tr]).transpose()"
   ]
  },
  {
   "cell_type": "code",
   "execution_count": 56,
   "metadata": {
    "id": "8E8NPJOsji1l"
   },
   "outputs": [],
   "source": [
    "roc_auc.to_csv('Roc_auc.csv')"
   ]
  },
  {
   "cell_type": "code",
   "execution_count": 55,
   "metadata": {
    "colab": {
     "base_uri": "https://localhost:8080/",
     "height": 143
    },
    "id": "5_S5MLmOkW7k",
    "outputId": "184a2072-943f-4d35-9463-e44fddd9ba40"
   },
   "outputs": [
    {
     "data": {
      "text/html": [
       "\n",
       "  <div id=\"df-3c530e47-6588-4e1e-96b7-0804968a2c0a\">\n",
       "    <div class=\"colab-df-container\">\n",
       "      <div>\n",
       "<style scoped>\n",
       "    .dataframe tbody tr th:only-of-type {\n",
       "        vertical-align: middle;\n",
       "    }\n",
       "\n",
       "    .dataframe tbody tr th {\n",
       "        vertical-align: top;\n",
       "    }\n",
       "\n",
       "    .dataframe thead th {\n",
       "        text-align: right;\n",
       "    }\n",
       "</style>\n",
       "<table border=\"1\" class=\"dataframe\">\n",
       "  <thead>\n",
       "    <tr style=\"text-align: right;\">\n",
       "      <th></th>\n",
       "      <th>transactions</th>\n",
       "      <th>clickstream</th>\n",
       "    </tr>\n",
       "  </thead>\n",
       "  <tbody>\n",
       "    <tr>\n",
       "      <th>SampleSlices</th>\n",
       "      <td>0.760564</td>\n",
       "      <td>0.597840</td>\n",
       "    </tr>\n",
       "    <tr>\n",
       "      <th>SplitRandom</th>\n",
       "      <td>0.749313</td>\n",
       "      <td>0.600320</td>\n",
       "    </tr>\n",
       "    <tr>\n",
       "      <th>SampleRandom</th>\n",
       "      <td>0.767837</td>\n",
       "      <td>0.590214</td>\n",
       "    </tr>\n",
       "  </tbody>\n",
       "</table>\n",
       "</div>\n",
       "      <button class=\"colab-df-convert\" onclick=\"convertToInteractive('df-3c530e47-6588-4e1e-96b7-0804968a2c0a')\"\n",
       "              title=\"Convert this dataframe to an interactive table.\"\n",
       "              style=\"display:none;\">\n",
       "        \n",
       "  <svg xmlns=\"http://www.w3.org/2000/svg\" height=\"24px\"viewBox=\"0 0 24 24\"\n",
       "       width=\"24px\">\n",
       "    <path d=\"M0 0h24v24H0V0z\" fill=\"none\"/>\n",
       "    <path d=\"M18.56 5.44l.94 2.06.94-2.06 2.06-.94-2.06-.94-.94-2.06-.94 2.06-2.06.94zm-11 1L8.5 8.5l.94-2.06 2.06-.94-2.06-.94L8.5 2.5l-.94 2.06-2.06.94zm10 10l.94 2.06.94-2.06 2.06-.94-2.06-.94-.94-2.06-.94 2.06-2.06.94z\"/><path d=\"M17.41 7.96l-1.37-1.37c-.4-.4-.92-.59-1.43-.59-.52 0-1.04.2-1.43.59L10.3 9.45l-7.72 7.72c-.78.78-.78 2.05 0 2.83L4 21.41c.39.39.9.59 1.41.59.51 0 1.02-.2 1.41-.59l7.78-7.78 2.81-2.81c.8-.78.8-2.07 0-2.86zM5.41 20L4 18.59l7.72-7.72 1.47 1.35L5.41 20z\"/>\n",
       "  </svg>\n",
       "      </button>\n",
       "      \n",
       "  <style>\n",
       "    .colab-df-container {\n",
       "      display:flex;\n",
       "      flex-wrap:wrap;\n",
       "      gap: 12px;\n",
       "    }\n",
       "\n",
       "    .colab-df-convert {\n",
       "      background-color: #E8F0FE;\n",
       "      border: none;\n",
       "      border-radius: 50%;\n",
       "      cursor: pointer;\n",
       "      display: none;\n",
       "      fill: #1967D2;\n",
       "      height: 32px;\n",
       "      padding: 0 0 0 0;\n",
       "      width: 32px;\n",
       "    }\n",
       "\n",
       "    .colab-df-convert:hover {\n",
       "      background-color: #E2EBFA;\n",
       "      box-shadow: 0px 1px 2px rgba(60, 64, 67, 0.3), 0px 1px 3px 1px rgba(60, 64, 67, 0.15);\n",
       "      fill: #174EA6;\n",
       "    }\n",
       "\n",
       "    [theme=dark] .colab-df-convert {\n",
       "      background-color: #3B4455;\n",
       "      fill: #D2E3FC;\n",
       "    }\n",
       "\n",
       "    [theme=dark] .colab-df-convert:hover {\n",
       "      background-color: #434B5C;\n",
       "      box-shadow: 0px 1px 3px 1px rgba(0, 0, 0, 0.15);\n",
       "      filter: drop-shadow(0px 1px 2px rgba(0, 0, 0, 0.3));\n",
       "      fill: #FFFFFF;\n",
       "    }\n",
       "  </style>\n",
       "\n",
       "      <script>\n",
       "        const buttonEl =\n",
       "          document.querySelector('#df-3c530e47-6588-4e1e-96b7-0804968a2c0a button.colab-df-convert');\n",
       "        buttonEl.style.display =\n",
       "          google.colab.kernel.accessAllowed ? 'block' : 'none';\n",
       "\n",
       "        async function convertToInteractive(key) {\n",
       "          const element = document.querySelector('#df-3c530e47-6588-4e1e-96b7-0804968a2c0a');\n",
       "          const dataTable =\n",
       "            await google.colab.kernel.invokeFunction('convertToInteractive',\n",
       "                                                     [key], {});\n",
       "          if (!dataTable) return;\n",
       "\n",
       "          const docLinkHtml = 'Like what you see? Visit the ' +\n",
       "            '<a target=\"_blank\" href=https://colab.research.google.com/notebooks/data_table.ipynb>data table notebook</a>'\n",
       "            + ' to learn more about interactive tables.';\n",
       "          element.innerHTML = '';\n",
       "          dataTable['output_type'] = 'display_data';\n",
       "          await google.colab.output.renderOutput(dataTable, element);\n",
       "          const docLink = document.createElement('div');\n",
       "          docLink.innerHTML = docLinkHtml;\n",
       "          element.appendChild(docLink);\n",
       "        }\n",
       "      </script>\n",
       "    </div>\n",
       "  </div>\n",
       "  "
      ],
      "text/plain": [
       "              transactions  clickstream\n",
       "SampleSlices      0.760564     0.597840\n",
       "SplitRandom       0.749313     0.600320\n",
       "SampleRandom      0.767837     0.590214"
      ]
     },
     "execution_count": 55,
     "metadata": {},
     "output_type": "execute_result"
    }
   ],
   "source": [
    "roc_auc"
   ]
  },
  {
   "cell_type": "code",
   "execution_count": null,
   "metadata": {},
   "outputs": [],
   "source": []
  },
  {
   "cell_type": "code",
   "execution_count": null,
   "metadata": {},
   "outputs": [],
   "source": []
  },
  {
   "cell_type": "code",
   "execution_count": null,
   "metadata": {},
   "outputs": [],
   "source": []
  }
 ],
 "metadata": {
  "accelerator": "GPU",
  "colab": {
   "provenance": []
  },
  "gpuClass": "standard",
  "kernelspec": {
   "display_name": "Python 3 (ipykernel)",
   "language": "python",
   "name": "python3"
  },
  "language_info": {
   "codemirror_mode": {
    "name": "ipython",
    "version": 3
   },
   "file_extension": ".py",
   "mimetype": "text/x-python",
   "name": "python",
   "nbconvert_exporter": "python",
   "pygments_lexer": "ipython3",
   "version": "3.9.12"
  },
  "widgets": {
   "application/vnd.jupyter.widget-state+json": {
    "f6f2c54a3da441f8b9b03ed6a1be94ef": {
     "model_module": "catboost-widget",
     "model_module_version": "^1.0.0",
     "model_name": "CatboostWidgetModel",
     "state": {
      "_dom_classes": [],
      "_model_module": "catboost-widget",
      "_model_module_version": "^1.0.0",
      "_model_name": "CatboostWidgetModel",
      "_view_count": null,
      "_view_module": "catboost-widget",
      "_view_module_version": "^1.0.0",
      "_view_name": "CatboostWidgetView",
      "data": {
       "catboost_info": {
        "content": {
         "data": {
          "iterations": [
           {
            "iteration": 0,
            "learn": [
             0.6816342289
            ],
            "passed_time": 0.04363843869,
            "remaining_time": 21.77558091,
            "test": [
             0.5443909312,
             0.6824349502
            ]
           },
           {
            "iteration": 1,
            "learn": [
             0.6705766307
            ],
            "passed_time": 0.08386622938,
            "remaining_time": 20.88269112,
            "test": [
             0.5636210342,
             0.672738683
            ]
           },
           {
            "iteration": 2,
            "learn": [
             0.6612188113
            ],
            "passed_time": 0.1267790222,
            "remaining_time": 21.00305801,
            "test": [
             0.5634319093,
             0.6642687388
            ]
           },
           {
            "iteration": 3,
            "learn": [
             0.6525506602
            ],
            "passed_time": 0.1591184907,
            "remaining_time": 19.73069285,
            "test": [
             0.5793111812,
             0.6562364549
            ]
           },
           {
            "iteration": 4,
            "learn": [
             0.6443301652
            ],
            "passed_time": 0.1955633866,
            "remaining_time": 19.36077528,
            "test": [
             0.5785344698,
             0.6492303345
            ]
           },
           {
            "iteration": 5,
            "learn": [
             0.6365754103
            ],
            "passed_time": 0.2296718196,
            "remaining_time": 18.90964648,
            "test": [
             0.583721689,
             0.6424350307
            ]
           },
           {
            "iteration": 6,
            "learn": [
             0.6301180305
            ],
            "passed_time": 0.2648086384,
            "remaining_time": 18.6500941,
            "test": [
             0.5814565215,
             0.6370135405
            ]
           },
           {
            "iteration": 7,
            "learn": [
             0.6239818765
            ],
            "passed_time": 0.2982857869,
            "remaining_time": 18.34457589,
            "test": [
             0.5797774967,
             0.6317914289
            ]
           },
           {
            "iteration": 8,
            "learn": [
             0.6181191013
            ],
            "passed_time": 0.3326058343,
            "remaining_time": 18.14549607,
            "test": [
             0.5911841817,
             0.6266248069
            ]
           },
           {
            "iteration": 9,
            "learn": [
             0.613145081
            ],
            "passed_time": 0.3686218024,
            "remaining_time": 18.06246832,
            "test": [
             0.5925109433,
             0.6224848753
            ]
           },
           {
            "iteration": 10,
            "learn": [
             0.608299676
            ],
            "passed_time": 0.4031507643,
            "remaining_time": 17.92188398,
            "test": [
             0.5964017186,
             0.6185674577
            ]
           },
           {
            "iteration": 11,
            "learn": [
             0.604075772
            ],
            "passed_time": 0.4443469668,
            "remaining_time": 18.07010998,
            "test": [
             0.5932053636,
             0.6153571172
            ]
           },
           {
            "iteration": 12,
            "learn": [
             0.6001230655
            ],
            "passed_time": 0.4787658536,
            "remaining_time": 17.93530544,
            "test": [
             0.5935345276,
             0.6120991956
            ]
           },
           {
            "iteration": 13,
            "learn": [
             0.5964496587
            ],
            "passed_time": 0.512549824,
            "remaining_time": 17.79280103,
            "test": [
             0.5930812053,
             0.6092123276
            ]
           },
           {
            "iteration": 14,
            "learn": [
             0.5930713503
            ],
            "passed_time": 0.5455383927,
            "remaining_time": 17.6390747,
            "test": [
             0.5916923646,
             0.6070434426
            ]
           },
           {
            "iteration": 15,
            "learn": [
             0.5898721577
            ],
            "passed_time": 0.5888920021,
            "remaining_time": 17.81398306,
            "test": [
             0.5954806371,
             0.6044742015
            ]
           },
           {
            "iteration": 16,
            "learn": [
             0.587179576
            ],
            "passed_time": 0.6226388441,
            "remaining_time": 17.69026834,
            "test": [
             0.5958848735,
             0.6026537724
            ]
           },
           {
            "iteration": 17,
            "learn": [
             0.5846154063
            ],
            "passed_time": 0.6599572764,
            "remaining_time": 17.67218929,
            "test": [
             0.5972101914,
             0.600784438
            ]
           },
           {
            "iteration": 18,
            "learn": [
             0.5822048405
            ],
            "passed_time": 0.6936845508,
            "remaining_time": 17.56117205,
            "test": [
             0.600239077,
             0.5988242901
            ]
           },
           {
            "iteration": 19,
            "learn": [
             0.5800707125
            ],
            "passed_time": 0.7277968147,
            "remaining_time": 17.46712355,
            "test": [
             0.5997626555,
             0.5974192655
            ]
           },
           {
            "iteration": 20,
            "learn": [
             0.5781038588
            ],
            "passed_time": 0.7617328085,
            "remaining_time": 17.37476263,
            "test": [
             0.5995749743,
             0.5961904142
            ]
           },
           {
            "iteration": 21,
            "learn": [
             0.5762545141
            ],
            "passed_time": 0.800832589,
            "remaining_time": 17.39990807,
            "test": [
             0.5999734359,
             0.5949827885
            ]
           },
           {
            "iteration": 22,
            "learn": [
             0.5746016475
            ],
            "passed_time": 0.8377715547,
            "remaining_time": 17.37465355,
            "test": [
             0.5986452306,
             0.5941119549
            ]
           },
           {
            "iteration": 23,
            "learn": [
             0.5726316848
            ],
            "passed_time": 0.8722578944,
            "remaining_time": 17.29978157,
            "test": [
             0.6001466801,
             0.5928794982
            ]
           },
           {
            "iteration": 24,
            "learn": [
             0.5710014134
            ],
            "passed_time": 0.9171667598,
            "remaining_time": 17.42616844,
            "test": [
             0.6000398462,
             0.5919585261
            ]
           },
           {
            "iteration": 25,
            "learn": [
             0.5694226326
            ],
            "passed_time": 0.9509410614,
            "remaining_time": 17.33638704,
            "test": [
             0.5999041382,
             0.5912245627
            ]
           },
           {
            "iteration": 26,
            "learn": [
             0.5678401412
            ],
            "passed_time": 0.9842207482,
            "remaining_time": 17.2420894,
            "test": [
             0.599436379,
             0.5905565101
            ]
           },
           {
            "iteration": 27,
            "learn": [
             0.5665232642
            ],
            "passed_time": 1.017353369,
            "remaining_time": 17.14967108,
            "test": [
             0.5981312729,
             0.5901318875
            ]
           },
           {
            "iteration": 28,
            "learn": [
             0.5653754441
            ],
            "passed_time": 1.050454974,
            "remaining_time": 17.06083768,
            "test": [
             0.596805955,
             0.58976047
            ]
           },
           {
            "iteration": 29,
            "learn": [
             0.5641271097
            ],
            "passed_time": 1.091086399,
            "remaining_time": 17.09368692,
            "test": [
             0.5956221198,
             0.58935624
            ]
           },
           {
            "iteration": 30,
            "learn": [
             0.5631585161
            ],
            "passed_time": 1.126653986,
            "remaining_time": 17.04518449,
            "test": [
             0.5967482069,
             0.5888279193
            ]
           },
           {
            "iteration": 31,
            "learn": [
             0.5621219735
            ],
            "passed_time": 1.159477572,
            "remaining_time": 16.95735949,
            "test": [
             0.5948165344,
             0.5887987865
            ]
           },
           {
            "iteration": 32,
            "learn": [
             0.5608070884
            ],
            "passed_time": 1.193568136,
            "remaining_time": 16.89079757,
            "test": [
             0.5940658097,
             0.5885754348
            ]
           },
           {
            "iteration": 33,
            "learn": [
             0.559812078
            ],
            "passed_time": 1.227518201,
            "remaining_time": 16.82422005,
            "test": [
             0.5946432903,
             0.5883420017
            ]
           },
           {
            "iteration": 34,
            "learn": [
             0.5586495473
            ],
            "passed_time": 1.260839784,
            "remaining_time": 16.75115713,
            "test": [
             0.5942996893,
             0.5881541208
            ]
           },
           {
            "iteration": 35,
            "learn": [
             0.557346621
            ],
            "passed_time": 1.297849773,
            "remaining_time": 16.72784151,
            "test": [
             0.5951918968,
             0.5878179715
            ]
           },
           {
            "iteration": 36,
            "learn": [
             0.5562516934
            ],
            "passed_time": 1.330394199,
            "remaining_time": 16.64790578,
            "test": [
             0.5949233683,
             0.5877097255
            ]
           },
           {
            "iteration": 37,
            "learn": [
             0.5553820836
            ],
            "passed_time": 1.365108576,
            "remaining_time": 16.59684637,
            "test": [
             0.5945335689,
             0.5875476946
            ]
           },
           {
            "iteration": 38,
            "learn": [
             0.5543711074
            ],
            "passed_time": 1.399451612,
            "remaining_time": 16.54223572,
            "test": [
             0.5961880508,
             0.5871051657
            ]
           },
           {
            "iteration": 39,
            "learn": [
             0.5538863089
            ],
            "passed_time": 1.432952979,
            "remaining_time": 16.47895926,
            "test": [
             0.5957029671,
             0.5871472716
            ]
           },
           {
            "iteration": 40,
            "learn": [
             0.5529599028
            ],
            "passed_time": 1.4695341,
            "remaining_time": 16.45161346,
            "test": [
             0.5970369472,
             0.586724627
            ]
           },
           {
            "iteration": 41,
            "learn": [
             0.5521961427
            ],
            "passed_time": 1.505410429,
            "remaining_time": 16.41614229,
            "test": [
             0.5983218415,
             0.5864152412
            ]
           },
           {
            "iteration": 42,
            "learn": [
             0.5511730264
            ],
            "passed_time": 1.539835531,
            "remaining_time": 16.36522879,
            "test": [
             0.5988964346,
             0.5862402999
            ]
           },
           {
            "iteration": 43,
            "learn": [
             0.5501815332
            ],
            "passed_time": 1.573991272,
            "remaining_time": 16.31227318,
            "test": [
             0.5983247289,
             0.586222888
            ]
           },
           {
            "iteration": 44,
            "learn": [
             0.5493941103
            ],
            "passed_time": 1.60758601,
            "remaining_time": 16.25448077,
            "test": [
             0.5983680399,
             0.5861312213
            ]
           },
           {
            "iteration": 45,
            "learn": [
             0.5486892473
            ],
            "passed_time": 1.640872726,
            "remaining_time": 16.19470038,
            "test": [
             0.5981081737,
             0.5861775929
            ]
           },
           {
            "iteration": 46,
            "learn": [
             0.5478777292
            ],
            "passed_time": 1.673446512,
            "remaining_time": 16.12917596,
            "test": [
             0.5981543721,
             0.5860337482
            ]
           },
           {
            "iteration": 47,
            "learn": [
             0.5468893841
            ],
            "passed_time": 1.707474877,
            "remaining_time": 16.07872176,
            "test": [
             0.5972304032,
             0.5861436952
            ]
           },
           {
            "iteration": 48,
            "learn": [
             0.5462279894
            ],
            "passed_time": 1.74237066,
            "remaining_time": 16.03692178,
            "test": [
             0.5960898791,
             0.5864467597
            ]
           },
           {
            "iteration": 49,
            "learn": [
             0.545384782
            ],
            "passed_time": 1.775730189,
            "remaining_time": 15.9815717,
            "test": [
             0.5978511948,
             0.5861039935
            ]
           },
           {
            "iteration": 50,
            "learn": [
             0.5446400157
            ],
            "passed_time": 1.815054182,
            "remaining_time": 15.97959466,
            "test": [
             0.5990148182,
             0.5857407665
            ]
           },
           {
            "iteration": 51,
            "learn": [
             0.5441073861
            ],
            "passed_time": 1.84792606,
            "remaining_time": 15.92059375,
            "test": [
             0.5989137591,
             0.5857350895
            ]
           },
           {
            "iteration": 52,
            "learn": [
             0.5435051755
            ],
            "passed_time": 1.881804678,
            "remaining_time": 15.87106964,
            "test": [
             0.5982294446,
             0.5858558931
            ]
           },
           {
            "iteration": 53,
            "learn": [
             0.5427642028
            ],
            "passed_time": 1.91591414,
            "remaining_time": 15.8240316,
            "test": [
             0.5988011503,
             0.585889378
            ]
           },
           {
            "iteration": 54,
            "learn": [
             0.5420381274
            ],
            "passed_time": 1.949794487,
            "remaining_time": 15.77560994,
            "test": [
             0.598827137,
             0.5858347216
            ]
           },
           {
            "iteration": 55,
            "learn": [
             0.5412245548
            ],
            "passed_time": 1.982999045,
            "remaining_time": 15.72234957,
            "test": [
             0.59970202,
             0.5856551488
            ]
           },
           {
            "iteration": 56,
            "learn": [
             0.540600189
            ],
            "passed_time": 2.016517067,
            "remaining_time": 15.67222913,
            "test": [
             0.5991909497,
             0.5856680852
            ]
           },
           {
            "iteration": 57,
            "learn": [
             0.5399918081
            ],
            "passed_time": 2.053126554,
            "remaining_time": 15.64624029,
            "test": [
             0.5991216521,
             0.5857416022
            ]
           },
           {
            "iteration": 58,
            "learn": [
             0.5394570537
            ],
            "passed_time": 2.094234982,
            "remaining_time": 15.6535191,
            "test": [
             0.5995374381,
             0.5857412877
            ]
           },
           {
            "iteration": 59,
            "learn": [
             0.5388749597
            ],
            "passed_time": 2.128211227,
            "remaining_time": 15.60688233,
            "test": [
             0.5995258885,
             0.5856819819
            ]
           },
           {
            "iteration": 60,
            "learn": [
             0.538236886
            ],
            "passed_time": 2.171072113,
            "remaining_time": 15.62460094,
            "test": [
             0.6003199242,
             0.5854343404
            ]
           },
           {
            "iteration": 61,
            "learn": [
             0.5377005107
            ],
            "passed_time": 2.20382521,
            "remaining_time": 15.56895874,
            "test": [
             0.5995634247,
             0.5857338936
            ]
           },
           {
            "iteration": 62,
            "learn": [
             0.5369683698
            ],
            "passed_time": 2.237151568,
            "remaining_time": 15.5180196,
            "test": [
             0.5997742051,
             0.5857477418
            ]
           },
           {
            "iteration": 63,
            "learn": [
             0.5363325715
            ],
            "passed_time": 2.269577059,
            "remaining_time": 15.46149371,
            "test": [
             0.5999503367,
             0.5857251512
            ]
           },
           {
            "iteration": 64,
            "learn": [
             0.5356472352
            ],
            "passed_time": 2.30333228,
            "remaining_time": 15.41460834,
            "test": [
             0.5992227112,
             0.5859305728
            ]
           },
           {
            "iteration": 65,
            "learn": [
             0.5348457292
            ],
            "passed_time": 2.336738934,
            "remaining_time": 15.36582875,
            "test": [
             0.5986307936,
             0.5860739278
            ]
           },
           {
            "iteration": 66,
            "learn": [
             0.5343618523
            ],
            "passed_time": 2.372458994,
            "remaining_time": 15.33245887,
            "test": [
             0.5982583186,
             0.5861923224
            ]
           },
           {
            "iteration": 67,
            "learn": [
             0.5339273414
            ],
            "passed_time": 2.405559469,
            "remaining_time": 15.2823778,
            "test": [
             0.5971293441,
             0.5865200312
            ]
           },
           {
            "iteration": 68,
            "learn": [
             0.5334740624
            ],
            "passed_time": 2.437649437,
            "remaining_time": 15.22647692,
            "test": [
             0.5981861335,
             0.5862123707
            ]
           },
           {
            "iteration": 69,
            "learn": [
             0.5329327549
            ],
            "passed_time": 2.471278201,
            "remaining_time": 15.18070895,
            "test": [
             0.5967453195,
             0.5866795197
            ]
           },
           {
            "iteration": 70,
            "learn": [
             0.5324324047
            ],
            "passed_time": 2.510782464,
            "remaining_time": 15.17078419,
            "test": [
             0.5968434912,
             0.5866205109
            ]
           },
           {
            "iteration": 71,
            "learn": [
             0.5318082975
            ],
            "passed_time": 2.544711227,
            "remaining_time": 15.12689452,
            "test": [
             0.597444071,
             0.5865232906
            ]
           },
           {
            "iteration": 72,
            "learn": [
             0.5312378364
            ],
            "passed_time": 2.578770123,
            "remaining_time": 15.08403894,
            "test": [
             0.5982929674,
             0.5862893542
            ]
           },
           {
            "iteration": 73,
            "learn": [
             0.5308286749
            ],
            "passed_time": 2.610246856,
            "remaining_time": 15.02655623,
            "test": [
             0.5991129898,
             0.5861561147
            ]
           },
           {
            "iteration": 74,
            "learn": [
             0.5304031518
            ],
            "passed_time": 2.643159912,
            "remaining_time": 14.97790617,
            "test": [
             0.5986943164,
             0.586238739
            ]
           },
           {
            "iteration": 75,
            "learn": [
             0.5298700692
            ],
            "passed_time": 2.68651724,
            "remaining_time": 14.98793829,
            "test": [
             0.5993122206,
             0.5861692457
            ]
           },
           {
            "iteration": 76,
            "learn": [
             0.5293076406
            ],
            "passed_time": 2.721424537,
            "remaining_time": 14.95016337,
            "test": [
             0.5993497569,
             0.5862265101
            ]
           },
           {
            "iteration": 77,
            "learn": [
             0.5286706537
            ],
            "passed_time": 2.754372496,
            "remaining_time": 14.90186146,
            "test": [
             0.5986538928,
             0.5863686048
            ]
           },
           {
            "iteration": 78,
            "learn": [
             0.5282446995
            ],
            "passed_time": 2.796553359,
            "remaining_time": 14.90315145,
            "test": [
             0.5986972038,
             0.5864465035
            ]
           },
           {
            "iteration": 79,
            "learn": [
             0.5277264432
            ],
            "passed_time": 2.830619931,
            "remaining_time": 14.86075464,
            "test": [
             0.5983045171,
             0.5866541805
            ]
           },
           {
            "iteration": 80,
            "learn": [
             0.5273434997
            ],
            "passed_time": 2.864921571,
            "remaining_time": 14.81977948,
            "test": [
             0.5980995115,
             0.5866656096
            ]
           },
           {
            "iteration": 81,
            "learn": [
             0.5268628538
            ],
            "passed_time": 2.898738193,
            "remaining_time": 14.77649469,
            "test": [
             0.5988473488,
             0.5865572217
            ]
           },
           {
            "iteration": 82,
            "learn": [
             0.5263140592
            ],
            "passed_time": 2.931219594,
            "remaining_time": 14.72672977,
            "test": [
             0.5984604368,
             0.5867517051
            ]
           },
           {
            "iteration": 83,
            "learn": [
             0.5258040064
            ],
            "passed_time": 2.964821248,
            "remaining_time": 14.68292428,
            "test": [
             0.5975913286,
             0.5870303581
            ]
           },
           {
            "iteration": 84,
            "learn": [
             0.5255264567
            ],
            "passed_time": 2.998422391,
            "remaining_time": 14.63935638,
            "test": [
             0.5980937366,
             0.5869619233
            ]
           },
           {
            "iteration": 85,
            "learn": [
             0.5249542658
            ],
            "passed_time": 3.032337919,
            "remaining_time": 14.5975337,
            "test": [
             0.5983767021,
             0.5870908865
            ]
           },
           {
            "iteration": 86,
            "learn": [
             0.5244580556
            ],
            "passed_time": 3.067264254,
            "remaining_time": 14.56069123,
            "test": [
             0.5968983519,
             0.5876241168
            ]
           },
           {
            "iteration": 87,
            "learn": [
             0.5239161132
            ],
            "passed_time": 3.111270933,
            "remaining_time": 14.56640482,
            "test": [
             0.5959859326,
             0.587834822
            ]
           },
           {
            "iteration": 88,
            "learn": [
             0.523540276
            ],
            "passed_time": 3.145132096,
            "remaining_time": 14.52414934,
            "test": [
             0.5963410831,
             0.5877720793
            ]
           },
           {
            "iteration": 89,
            "learn": [
             0.5232049301
            ],
            "passed_time": 3.178618073,
            "remaining_time": 14.48037122,
            "test": [
             0.5967395447,
             0.5879051462
            ]
           },
           {
            "iteration": 90,
            "learn": [
             0.5226028694
            ],
            "passed_time": 3.210737781,
            "remaining_time": 14.4306786,
            "test": [
             0.5969791991,
             0.587916306
            ]
           },
           {
            "iteration": 91,
            "learn": [
             0.5220525029
            ],
            "passed_time": 3.24327454,
            "remaining_time": 14.38321752,
            "test": [
             0.5963555201,
             0.5881172472
            ]
           },
           {
            "iteration": 92,
            "learn": [
             0.5213498004
            ],
            "passed_time": 3.277792511,
            "remaining_time": 14.34474787,
            "test": [
             0.5958675491,
             0.5884019985
            ]
           },
           {
            "iteration": 93,
            "learn": [
             0.5207398753
            ],
            "passed_time": 3.312321719,
            "remaining_time": 14.30641083,
            "test": [
             0.5957982514,
             0.5883923302
            ]
           },
           {
            "iteration": 94,
            "learn": [
             0.52029631
            ],
            "passed_time": 3.346075691,
            "remaining_time": 14.264849,
            "test": [
             0.595645219,
             0.5885282115
            ]
           },
           {
            "iteration": 95,
            "learn": [
             0.5199632968
            ],
            "passed_time": 3.379756809,
            "remaining_time": 14.22314324,
            "test": [
             0.5956134576,
             0.5885751
            ]
           },
           {
            "iteration": 96,
            "learn": [
             0.5195811916
            ],
            "passed_time": 3.411771323,
            "remaining_time": 14.17467879,
            "test": [
             0.5951312613,
             0.5887053588
            ]
           },
           {
            "iteration": 97,
            "learn": [
             0.5191185654
            ],
            "passed_time": 3.44418753,
            "remaining_time": 14.12819783,
            "test": [
             0.5949204809,
             0.5888408535
            ]
           },
           {
            "iteration": 98,
            "learn": [
             0.5186157389
            ],
            "passed_time": 3.477592525,
            "remaining_time": 14.08600608,
            "test": [
             0.595186122,
             0.5887501617
            ]
           },
           {
            "iteration": 99,
            "learn": [
             0.5180271674
            ],
            "passed_time": 3.509691701,
            "remaining_time": 14.0387668,
            "test": [
             0.5955816962,
             0.5887030823
            ]
           },
           {
            "iteration": 100,
            "learn": [
             0.5175154453
            ],
            "passed_time": 3.542260716,
            "remaining_time": 13.99368342,
            "test": [
             0.594842521,
             0.5890469797
            ]
           },
           {
            "iteration": 101,
            "learn": [
             0.5168536734
            ],
            "passed_time": 3.574437532,
            "remaining_time": 13.94731508,
            "test": [
             0.596061005,
             0.5886738601
            ]
           },
           {
            "iteration": 102,
            "learn": [
             0.5160782844
            ],
            "passed_time": 3.607191439,
            "remaining_time": 13.90344661,
            "test": [
             0.5967135581,
             0.5885617242
            ]
           },
           {
            "iteration": 103,
            "learn": [
             0.5153652098
            ],
            "passed_time": 3.646018075,
            "remaining_time": 13.88291498,
            "test": [
             0.5969272259,
             0.5886149969
            ]
           },
           {
            "iteration": 104,
            "learn": [
             0.5149057966
            ],
            "passed_time": 3.68223338,
            "remaining_time": 13.85221128,
            "test": [
             0.5968175046,
             0.5886228544
            ]
           },
           {
            "iteration": 105,
            "learn": [
             0.5143182681
            ],
            "passed_time": 3.716828072,
            "remaining_time": 13.81537982,
            "test": [
             0.5958877609,
             0.5889934775
            ]
           },
           {
            "iteration": 106,
            "learn": [
             0.5138324879
            ],
            "passed_time": 3.75195777,
            "remaining_time": 13.78055517,
            "test": [
             0.5961274153,
             0.5888289895
            ]
           },
           {
            "iteration": 107,
            "learn": [
             0.5133976378
            ],
            "passed_time": 3.79492006,
            "remaining_time": 13.77415429,
            "test": [
             0.5968377164,
             0.5885892366
            ]
           },
           {
            "iteration": 108,
            "learn": [
             0.5129967095
            ],
            "passed_time": 3.828609094,
            "remaining_time": 13.73381794,
            "test": [
             0.5974613954,
             0.5884121946
            ]
           },
           {
            "iteration": 109,
            "learn": [
             0.5126560508
            ],
            "passed_time": 3.8625436,
            "remaining_time": 13.69447276,
            "test": [
             0.5983767021,
             0.5882234959
            ]
           },
           {
            "iteration": 110,
            "learn": [
             0.5121165639
            ],
            "passed_time": 3.895798915,
            "remaining_time": 13.65284485,
            "test": [
             0.5988242496,
             0.5881781638
            ]
           },
           {
            "iteration": 111,
            "learn": [
             0.5117710839
            ],
            "passed_time": 3.928513694,
            "remaining_time": 13.60949387,
            "test": [
             0.5992458104,
             0.5881547686
            ]
           },
           {
            "iteration": 112,
            "learn": [
             0.5114113343
            ],
            "passed_time": 3.961084786,
            "remaining_time": 13.56583905,
            "test": [
             0.5983998013,
             0.5884584109
            ]
           },
           {
            "iteration": 113,
            "learn": [
             0.5109143566
            ],
            "passed_time": 3.994882799,
            "remaining_time": 13.52653299,
            "test": [
             0.5989917189,
             0.5883457153
            ]
           },
           {
            "iteration": 114,
            "learn": [
             0.5105145176
            ],
            "passed_time": 4.028422945,
            "remaining_time": 13.48645942,
            "test": [
             0.5982352194,
             0.5885248962
            ]
           },
           {
            "iteration": 115,
            "learn": [
             0.5100915137
            ],
            "passed_time": 4.061378037,
            "remaining_time": 13.44456178,
            "test": [
             0.5985845951,
             0.588466178
            ]
           },
           {
            "iteration": 116,
            "learn": [
             0.5096635911
            ],
            "passed_time": 4.107393776,
            "remaining_time": 13.44557108,
            "test": [
             0.5986019195,
             0.5884527143
            ]
           },
           {
            "iteration": 117,
            "learn": [
             0.5092931081
            ],
            "passed_time": 4.145643753,
            "remaining_time": 13.42064334,
            "test": [
             0.5983305037,
             0.5885770946
            ]
           },
           {
            "iteration": 118,
            "learn": [
             0.50886001
            ],
            "passed_time": 4.179979979,
            "remaining_time": 13.38296111,
            "test": [
             0.5977934468,
             0.5887209928
            ]
           },
           {
            "iteration": 119,
            "learn": [
             0.5082886248
            ],
            "passed_time": 4.221329207,
            "remaining_time": 13.36754249,
            "test": [
             0.5970456094,
             0.5889444009
            ]
           },
           {
            "iteration": 120,
            "learn": [
             0.5079149145
            ],
            "passed_time": 4.286527822,
            "remaining_time": 13.42639706,
            "test": [
             0.5971437811,
             0.5889808007
            ]
           },
           {
            "iteration": 121,
            "learn": [
             0.507550144
            ],
            "passed_time": 4.347521944,
            "remaining_time": 13.47019094,
            "test": [
             0.5973430119,
             0.5889497097
            ]
           },
           {
            "iteration": 122,
            "learn": [
             0.5070186861
            ],
            "passed_time": 4.398541824,
            "remaining_time": 13.48170949,
            "test": [
             0.5972737142,
             0.5890097697
            ]
           },
           {
            "iteration": 123,
            "learn": [
             0.5066426856
            ],
            "passed_time": 4.466660994,
            "remaining_time": 13.54406882,
            "test": [
             0.5976895002,
             0.5889166271
            ]
           },
           {
            "iteration": 124,
            "learn": [
             0.506303029
            ],
            "passed_time": 4.529657132,
            "remaining_time": 13.5889714,
            "test": [
             0.596984974,
             0.5891962995
            ]
           },
           {
            "iteration": 125,
            "learn": [
             0.5059432734
            ],
            "passed_time": 4.591845699,
            "remaining_time": 13.62976422,
            "test": [
             0.5967077833,
             0.5891843619
            ]
           },
           {
            "iteration": 126,
            "learn": [
             0.505567597
            ],
            "passed_time": 4.658884883,
            "remaining_time": 13.68318159,
            "test": [
             0.5964767911,
             0.5892273669
            ]
           },
           {
            "iteration": 127,
            "learn": [
             0.5050935135
            ],
            "passed_time": 4.730636986,
            "remaining_time": 13.74841374,
            "test": [
             0.5966615848,
             0.5892449752
            ]
           },
           {
            "iteration": 128,
            "learn": [
             0.5045002467
            ],
            "passed_time": 4.813535294,
            "remaining_time": 13.84357825,
            "test": [
             0.5968752526,
             0.5893116037
            ]
           },
           {
            "iteration": 129,
            "learn": [
             0.5041503452
            ],
            "passed_time": 4.870482484,
            "remaining_time": 13.86214245,
            "test": [
             0.5976952751,
             0.5891847499
            ]
           },
           {
            "iteration": 130,
            "learn": [
             0.5036416062
            ],
            "passed_time": 4.941437917,
            "remaining_time": 13.91901215,
            "test": [
             0.597429634,
             0.5893000627
            ]
           },
           {
            "iteration": 131,
            "learn": [
             0.5032341131
            ],
            "passed_time": 5.011575954,
            "remaining_time": 13.9716663,
            "test": [
             0.5973603363,
             0.5893536746
            ]
           },
           {
            "iteration": 132,
            "learn": [
             0.5026686091
            ],
            "passed_time": 5.076792307,
            "remaining_time": 14.00889306,
            "test": [
             0.5974238592,
             0.5895032566
            ]
           },
           {
            "iteration": 133,
            "learn": [
             0.502378833
            ],
            "passed_time": 5.141435422,
            "remaining_time": 14.04302511,
            "test": [
             0.5974094222,
             0.5895780911
            ]
           },
           {
            "iteration": 134,
            "learn": [
             0.5019022641
            ],
            "passed_time": 5.218660426,
            "remaining_time": 14.10971152,
            "test": [
             0.5973285749,
             0.5896201392
            ]
           },
           {
            "iteration": 135,
            "learn": [
             0.5015135486
            ],
            "passed_time": 5.282337592,
            "remaining_time": 14.1380212,
            "test": [
             0.5973747733,
             0.5897299073
            ]
           },
           {
            "iteration": 136,
            "learn": [
             0.5009409795
            ],
            "passed_time": 5.347371329,
            "remaining_time": 14.16858243,
            "test": [
             0.597637527,
             0.5896567418
            ]
           },
           {
            "iteration": 137,
            "learn": [
             0.5006240081
            ],
            "passed_time": 5.416670628,
            "remaining_time": 14.20894759,
            "test": [
             0.5979724657,
             0.5894872035
            ]
           },
           {
            "iteration": 138,
            "learn": [
             0.5001115276
            ],
            "passed_time": 5.485129814,
            "remaining_time": 14.24555297,
            "test": [
             0.5976577388,
             0.5896151519
            ]
           },
           {
            "iteration": 139,
            "learn": [
             0.4996929217
            ],
            "passed_time": 5.554863473,
            "remaining_time": 14.28393465,
            "test": [
             0.5978569696,
             0.5896491102
            ]
           },
           {
            "iteration": 140,
            "learn": [
             0.4991677077
            ],
            "passed_time": 5.619863399,
            "remaining_time": 14.30873021,
            "test": [
             0.5963381957,
             0.5901891845
            ]
           },
           {
            "iteration": 141,
            "learn": [
             0.4986240517
            ],
            "passed_time": 5.678269513,
            "remaining_time": 14.31563722,
            "test": [
             0.5955557096,
             0.590544808
            ]
           },
           {
            "iteration": 142,
            "learn": [
             0.4982841078
            ],
            "passed_time": 5.758033896,
            "remaining_time": 14.37495175,
            "test": [
             0.595229433,
             0.5906116412
            ]
           },
           {
            "iteration": 143,
            "learn": [
             0.4979679651
            ],
            "passed_time": 5.828047523,
            "remaining_time": 14.4082286,
            "test": [
             0.5947818856,
             0.5907474295
            ]
           },
           {
            "iteration": 144,
            "learn": [
             0.4975648167
            ],
            "passed_time": 5.894309525,
            "remaining_time": 14.43089573,
            "test": [
             0.5947068131,
             0.590881315
            ]
           },
           {
            "iteration": 145,
            "learn": [
             0.4971316388
            ],
            "passed_time": 5.964200207,
            "remaining_time": 14.46114297,
            "test": [
             0.5949147061,
             0.5908821367
            ]
           },
           {
            "iteration": 146,
            "learn": [
             0.4967393432
            ],
            "passed_time": 6.031101341,
            "remaining_time": 14.4828488,
            "test": [
             0.595408452,
             0.590765302
            ]
           },
           {
            "iteration": 147,
            "learn": [
             0.4964005856
            ],
            "passed_time": 6.095611863,
            "remaining_time": 14.49767146,
            "test": [
             0.5951283739,
             0.5907833301
            ]
           },
           {
            "iteration": 148,
            "learn": [
             0.4960149454
            ],
            "passed_time": 6.162634766,
            "remaining_time": 14.51734767,
            "test": [
             0.5947761108,
             0.5908966853
            ]
           },
           {
            "iteration": 149,
            "learn": [
             0.4953946751
            ],
            "passed_time": 6.234398985,
            "remaining_time": 14.54693097,
            "test": [
             0.5942130672,
             0.5911099658
            ]
           },
           {
            "iteration": 150,
            "learn": [
             0.4948935726
            ],
            "passed_time": 6.312262681,
            "remaining_time": 14.58926938,
            "test": [
             0.5941870806,
             0.5911177561
            ]
           },
           {
            "iteration": 151,
            "learn": [
             0.494524059
            ],
            "passed_time": 6.383265016,
            "remaining_time": 14.61431727,
            "test": [
             0.5940773593,
             0.5911410207
            ]
           },
           {
            "iteration": 152,
            "learn": [
             0.4940239466
            ],
            "passed_time": 6.452439931,
            "remaining_time": 14.63396507,
            "test": [
             0.594025386,
             0.5911524904
            ]
           },
           {
            "iteration": 153,
            "learn": [
             0.493564588
            ],
            "passed_time": 6.51772554,
            "remaining_time": 14.64372102,
            "test": [
             0.5939214395,
             0.5911569391
            ]
           },
           {
            "iteration": 154,
            "learn": [
             0.4930620102
            ],
            "passed_time": 6.584256368,
            "remaining_time": 14.6552803,
            "test": [
             0.5937568576,
             0.5911583417
            ]
           },
           {
            "iteration": 155,
            "learn": [
             0.4927480522
            ],
            "passed_time": 6.651946136,
            "remaining_time": 14.66839404,
            "test": [
             0.5940715845,
             0.5910397697
            ]
           },
           {
            "iteration": 156,
            "learn": [
             0.4923658268
            ],
            "passed_time": 6.717718939,
            "remaining_time": 14.67629042,
            "test": [
             0.5939185521,
             0.5911278628
            ]
           },
           {
            "iteration": 157,
            "learn": [
             0.4918006958
            ],
            "passed_time": 6.809464229,
            "remaining_time": 14.7394732,
            "test": [
             0.5934132566,
             0.5913622433
            ]
           },
           {
            "iteration": 158,
            "learn": [
             0.491132166
            ],
            "passed_time": 6.873310177,
            "remaining_time": 14.74087277,
            "test": [
             0.5931129667,
             0.5914195172
            ]
           },
           {
            "iteration": 159,
            "learn": [
             0.490629144
            ],
            "passed_time": 6.937124635,
            "remaining_time": 14.74138985,
            "test": [
             0.5930696557,
             0.5915163848
            ]
           },
           {
            "iteration": 160,
            "learn": [
             0.4902465368
            ],
            "passed_time": 7.002062267,
            "remaining_time": 14.74347272,
            "test": [
             0.5933959322,
             0.5913866616
            ]
           },
           {
            "iteration": 161,
            "learn": [
             0.4899012085
            ],
            "passed_time": 7.060337319,
            "remaining_time": 14.73082725,
            "test": [
             0.5929830336,
             0.5915237623
            ]
           },
           {
            "iteration": 162,
            "learn": [
             0.4894182898
            ],
            "passed_time": 7.126868972,
            "remaining_time": 14.73469229,
            "test": [
             0.5924055531,
             0.5917249626
            ]
           },
           {
            "iteration": 163,
            "learn": [
             0.4889947505
            ],
            "passed_time": 7.192768931,
            "remaining_time": 14.73640464,
            "test": [
             0.5924113279,
             0.591726156
            ]
           },
           {
            "iteration": 164,
            "learn": [
             0.4885227863
            ],
            "passed_time": 7.255859967,
            "remaining_time": 14.73159448,
            "test": [
             0.5918020859,
             0.5918474195
            ]
           },
           {
            "iteration": 165,
            "learn": [
             0.4880465806
            ],
            "passed_time": 7.319419138,
            "remaining_time": 14.72702405,
            "test": [
             0.591738563,
             0.591936886
            ]
           },
           {
            "iteration": 166,
            "learn": [
             0.4875490768
            ],
            "passed_time": 7.382182585,
            "remaining_time": 14.72016048,
            "test": [
             0.5920561773,
             0.5918929473
            ]
           },
           {
            "iteration": 167,
            "learn": [
             0.48718744
            ],
            "passed_time": 7.446661653,
            "remaining_time": 14.71602184,
            "test": [
             0.5919002576,
             0.5919472317
            ]
           },
           {
            "iteration": 168,
            "learn": [
             0.4866451217
            ],
            "passed_time": 7.508673853,
            "remaining_time": 14.70633755,
            "test": [
             0.5916115173,
             0.5920139254
            ]
           },
           {
            "iteration": 169,
            "learn": [
             0.4862390017
            ],
            "passed_time": 7.576102402,
            "remaining_time": 14.70655172,
            "test": [
             0.5918684961,
             0.5920464451
            ]
           },
           {
            "iteration": 170,
            "learn": [
             0.4859682377
            ],
            "passed_time": 7.638454672,
            "remaining_time": 14.69620811,
            "test": [
             0.5918915953,
             0.5921832227
            ]
           },
           {
            "iteration": 171,
            "learn": [
             0.4856430748
            ],
            "passed_time": 7.699621781,
            "remaining_time": 14.68299967,
            "test": [
             0.5916288417,
             0.5923907311
            ]
           },
           {
            "iteration": 172,
            "learn": [
             0.4849694547
            ],
            "passed_time": 7.783751467,
            "remaining_time": 14.71264006,
            "test": [
             0.5901880277,
             0.5929872681
            ]
           },
           {
            "iteration": 173,
            "learn": [
             0.4847348756
            ],
            "passed_time": 7.850134555,
            "remaining_time": 14.70772336,
            "test": [
             0.5903526096,
             0.5928804121
            ]
           },
           {
            "iteration": 174,
            "learn": [
             0.4844466166
            ],
            "passed_time": 7.916485754,
            "remaining_time": 14.70204497,
            "test": [
             0.5899339362,
             0.5929946102
            ]
           },
           {
            "iteration": 175,
            "learn": [
             0.4839991723
            ],
            "passed_time": 7.983257016,
            "remaining_time": 14.69645042,
            "test": [
             0.5900840812,
             0.5930163429
            ]
           },
           {
            "iteration": 176,
            "learn": [
             0.4835606721
            ],
            "passed_time": 8.048282975,
            "remaining_time": 14.68697967,
            "test": [
             0.590089856,
             0.5929216404
            ]
           },
           {
            "iteration": 177,
            "learn": [
             0.482999968
            ],
            "passed_time": 8.117572986,
            "remaining_time": 14.68459832,
            "test": [
             0.5899887969,
             0.5928786619
            ]
           },
           {
            "iteration": 178,
            "learn": [
             0.4825116718
            ],
            "passed_time": 8.185793603,
            "remaining_time": 14.67955166,
            "test": [
             0.5898964,
             0.5928105198
            ]
           },
           {
            "iteration": 179,
            "learn": [
             0.4819519135
            ],
            "passed_time": 8.250372623,
            "remaining_time": 14.66732911,
            "test": [
             0.5901447166,
             0.5927616645
            ]
           },
           {
            "iteration": 180,
            "learn": [
             0.4815156125
            ],
            "passed_time": 8.317491614,
            "remaining_time": 14.65900456,
            "test": [
             0.5898473141,
             0.5929422408
            ]
           },
           {
            "iteration": 181,
            "learn": [
             0.4809664971
            ],
            "passed_time": 8.386069043,
            "remaining_time": 14.65258217,
            "test": [
             0.5901360544,
             0.592797225
            ]
           },
           {
            "iteration": 182,
            "learn": [
             0.4803788357
            ],
            "passed_time": 8.459070743,
            "remaining_time": 14.6531444,
            "test": [
             0.5904565561,
             0.5926780934
            ]
           },
           {
            "iteration": 183,
            "learn": [
             0.4799192208
            ],
            "passed_time": 8.524850641,
            "remaining_time": 14.64050436,
            "test": [
             0.5904450065,
             0.5927453704
            ]
           },
           {
            "iteration": 184,
            "learn": [
             0.4794367881
            ],
            "passed_time": 8.590163292,
            "remaining_time": 14.62649425,
            "test": [
             0.5905691648,
             0.5928036616
            ]
           },
           {
            "iteration": 185,
            "learn": [
             0.4789624425
            ],
            "passed_time": 8.654738424,
            "remaining_time": 14.61068745,
            "test": [
             0.5909156532,
             0.5926899689
            ]
           },
           {
            "iteration": 186,
            "learn": [
             0.478481
            ],
            "passed_time": 8.727864376,
            "remaining_time": 14.60867139,
            "test": [
             0.5908174815,
             0.5927595376
            ]
           },
           {
            "iteration": 187,
            "learn": [
             0.4779238692
            ],
            "passed_time": 8.807579364,
            "remaining_time": 14.61683384,
            "test": [
             0.5910629107,
             0.5926811572
            ]
           },
           {
            "iteration": 188,
            "learn": [
             0.4774958393
            ],
            "passed_time": 8.875321303,
            "remaining_time": 14.60436468,
            "test": [
             0.591588418,
             0.5927639784
            ]
           },
           {
            "iteration": 189,
            "learn": [
             0.4770068526
            ],
            "passed_time": 8.942479129,
            "remaining_time": 14.59036068,
            "test": [
             0.5919060324,
             0.5926960294
            ]
           },
           {
            "iteration": 190,
            "learn": [
             0.4764811542
            ],
            "passed_time": 9.004855708,
            "remaining_time": 14.56806499,
            "test": [
             0.5925037247,
             0.5926571934
            ]
           },
           {
            "iteration": 191,
            "learn": [
             0.4760698927
            ],
            "passed_time": 9.063873475,
            "remaining_time": 14.5399637,
            "test": [
             0.5925961216,
             0.5927509108
            ]
           },
           {
            "iteration": 192,
            "learn": [
             0.4753481061
            ],
            "passed_time": 9.130794983,
            "remaining_time": 14.5241143,
            "test": [
             0.591767437,
             0.59302319
            ]
           },
           {
            "iteration": 193,
            "learn": [
             0.4748737148
            ],
            "passed_time": 9.197882939,
            "remaining_time": 14.50800092,
            "test": [
             0.5906875484,
             0.593416752
            ]
           },
           {
            "iteration": 194,
            "learn": [
             0.47446197
            ],
            "passed_time": 9.257111544,
            "remaining_time": 14.4790719,
            "test": [
             0.5904219073,
             0.5934311583
            ]
           },
           {
            "iteration": 195,
            "learn": [
             0.4739637629
            ],
            "passed_time": 9.324025618,
            "remaining_time": 14.46175402,
            "test": [
             0.5908174815,
             0.5933300893
            ]
           },
           {
            "iteration": 196,
            "learn": [
             0.4735052957
            ],
            "passed_time": 9.386499693,
            "remaining_time": 14.43710359,
            "test": [
             0.5901707033,
             0.593576763
            ]
           },
           {
            "iteration": 197,
            "learn": [
             0.4731241826
            ],
            "passed_time": 9.451082228,
            "remaining_time": 14.41528704,
            "test": [
             0.589480614,
             0.5938808545
            ]
           },
           {
            "iteration": 198,
            "learn": [
             0.4728397176
            ],
            "passed_time": 9.486247443,
            "remaining_time": 14.34854513,
            "test": [
             0.5901707033,
             0.5936579871
            ]
           },
           {
            "iteration": 199,
            "learn": [
             0.4723657405
            ],
            "passed_time": 9.520698912,
            "remaining_time": 14.28104837,
            "test": [
             0.5898935126,
             0.5937911464
            ]
           },
           {
            "iteration": 200,
            "learn": [
             0.4716542431
            ],
            "passed_time": 9.555546176,
            "remaining_time": 14.21446919,
            "test": [
             0.5899368236,
             0.5938733796
            ]
           },
           {
            "iteration": 201,
            "learn": [
             0.4711676381
            ],
            "passed_time": 9.590946752,
            "remaining_time": 14.14902046,
            "test": [
             0.5898935126,
             0.593840786
            ]
           },
           {
            "iteration": 202,
            "learn": [
             0.4705605556
            ],
            "passed_time": 9.627948931,
            "remaining_time": 14.086211,
            "test": [
             0.5903930333,
             0.5936891684
            ]
           },
           {
            "iteration": 203,
            "learn": [
             0.4700906837
            ],
            "passed_time": 9.664504962,
            "remaining_time": 14.0230072,
            "test": [
             0.5898213275,
             0.5939610399
            ]
           },
           {
            "iteration": 204,
            "learn": [
             0.469626321
            ],
            "passed_time": 9.69928769,
            "remaining_time": 13.95751155,
            "test": [
             0.5893593431,
             0.59413467
            ]
           },
           {
            "iteration": 205,
            "learn": [
             0.4691051712
            ],
            "passed_time": 9.732903307,
            "remaining_time": 13.89064841,
            "test": [
             0.5903323978,
             0.5938134053
            ]
           },
           {
            "iteration": 206,
            "learn": [
             0.4686491138
            ],
            "passed_time": 9.767297365,
            "remaining_time": 13.82520835,
            "test": [
             0.5907452964,
             0.5937327817
            ]
           },
           {
            "iteration": 207,
            "learn": [
             0.4678497202
            ],
            "passed_time": 9.819888031,
            "remaining_time": 13.78561204,
            "test": [
             0.5889724311,
             0.5945908704
            ]
           },
           {
            "iteration": 208,
            "learn": [
             0.4672797946
            ],
            "passed_time": 9.854869231,
            "remaining_time": 13.72137295,
            "test": [
             0.5886548168,
             0.5946310751
            ]
           },
           {
            "iteration": 209,
            "learn": [
             0.4668550002
            ],
            "passed_time": 9.889607997,
            "remaining_time": 13.65707771,
            "test": [
             0.5888482728,
             0.5946102845
            ]
           },
           {
            "iteration": 210,
            "learn": [
             0.4664109999
            ],
            "passed_time": 9.925867135,
            "remaining_time": 13.59514503,
            "test": [
             0.5884757978,
             0.5948229546
            ]
           },
           {
            "iteration": 211,
            "learn": [
             0.4659359881
            ],
            "passed_time": 9.959792048,
            "remaining_time": 13.53028354,
            "test": [
             0.5887529885,
             0.5947222687
            ]
           },
           {
            "iteration": 212,
            "learn": [
             0.4651941263
            ],
            "passed_time": 9.996407133,
            "remaining_time": 13.46933731,
            "test": [
             0.5891658871,
             0.594642057
            ]
           },
           {
            "iteration": 213,
            "learn": [
             0.4646058435
            ],
            "passed_time": 10.0315716,
            "remaining_time": 13.40667981,
            "test": [
             0.5896047723,
             0.594532014
            ]
           },
           {
            "iteration": 214,
            "learn": [
             0.4641168662
            ],
            "passed_time": 10.06545791,
            "remaining_time": 13.34258374,
            "test": [
             0.5895585739,
             0.5945360828
            ]
           },
           {
            "iteration": 215,
            "learn": [
             0.4634789966
            ],
            "passed_time": 10.0985268,
            "remaining_time": 13.27769264,
            "test": [
             0.589301595,
             0.5946800052
            ]
           },
           {
            "iteration": 216,
            "learn": [
             0.4629530329
            ],
            "passed_time": 10.13275941,
            "remaining_time": 13.2146125,
            "test": [
             0.5890128547,
             0.5948667181
            ]
           },
           {
            "iteration": 217,
            "learn": [
             0.4624501788
            ],
            "passed_time": 10.16713673,
            "remaining_time": 13.15198421,
            "test": [
             0.5894401903,
             0.5947410353
            ]
           },
           {
            "iteration": 218,
            "learn": [
             0.462035576
            ],
            "passed_time": 10.21393466,
            "remaining_time": 13.10555086,
            "test": [
             0.5889839807,
             0.5949688
            ]
           },
           {
            "iteration": 219,
            "learn": [
             0.4613891241
            ],
            "passed_time": 10.25540679,
            "remaining_time": 13.05233591,
            "test": [
             0.5893968793,
             0.5947975768
            ]
           },
           {
            "iteration": 220,
            "learn": [
             0.4607116689
            ],
            "passed_time": 10.29061465,
            "remaining_time": 12.99131895,
            "test": [
             0.5893680053,
             0.5948417444
            ]
           },
           {
            "iteration": 221,
            "learn": [
             0.4601626183
            ],
            "passed_time": 10.325801,
            "remaining_time": 12.93050755,
            "test": [
             0.5888049617,
             0.5951168715
            ]
           },
           {
            "iteration": 222,
            "learn": [
             0.4597591107
            ],
            "passed_time": 10.36113126,
            "remaining_time": 12.87010475,
            "test": [
             0.5887241144,
             0.5951902528
            ]
           },
           {
            "iteration": 223,
            "learn": [
             0.4593847296
            ],
            "passed_time": 10.39656401,
            "remaining_time": 12.81005208,
            "test": [
             0.5893564557,
             0.5950857607
            ]
           },
           {
            "iteration": 224,
            "learn": [
             0.4589225161
            ],
            "passed_time": 10.43017138,
            "remaining_time": 12.74798724,
            "test": [
             0.5894488525,
             0.5949920931
            ]
           },
           {
            "iteration": 225,
            "learn": [
             0.4582748906
            ],
            "passed_time": 10.46409132,
            "remaining_time": 12.68655319,
            "test": [
             0.5905547278,
             0.5946136853
            ]
           },
           {
            "iteration": 226,
            "learn": [
             0.4579556081
            ],
            "passed_time": 10.49771963,
            "remaining_time": 12.62501083,
            "test": [
             0.5905460656,
             0.5946061517
            ]
           },
           {
            "iteration": 227,
            "learn": [
             0.4574206691
            ],
            "passed_time": 10.53136088,
            "remaining_time": 12.56372877,
            "test": [
             0.5898473141,
             0.5948999663
            ]
           },
           {
            "iteration": 228,
            "learn": [
             0.4570446653
            ],
            "passed_time": 10.56532344,
            "remaining_time": 12.50306835,
            "test": [
             0.5895874479,
             0.5950290827
            ]
           },
           {
            "iteration": 229,
            "learn": [
             0.4565311859
            ],
            "passed_time": 10.60119284,
            "remaining_time": 12.44487855,
            "test": [
             0.5900003465,
             0.5949235878
            ]
           },
           {
            "iteration": 230,
            "learn": [
             0.4560762693
            ],
            "passed_time": 10.63541732,
            "remaining_time": 12.38496649,
            "test": [
             0.5898386519,
             0.5949061554
            ]
           },
           {
            "iteration": 231,
            "learn": [
             0.4553435187
            ],
            "passed_time": 10.67163382,
            "remaining_time": 12.327577,
            "test": [
             0.5901966899,
             0.5947544826
            ]
           },
           {
            "iteration": 232,
            "learn": [
             0.454878088
            ],
            "passed_time": 10.70540254,
            "remaining_time": 12.26756429,
            "test": [
             0.5901764781,
             0.5947758056
            ]
           },
           {
            "iteration": 233,
            "learn": [
             0.454403382
            ],
            "passed_time": 10.74002437,
            "remaining_time": 12.20874565,
            "test": [
             0.5902400009,
             0.5948460488
            ]
           },
           {
            "iteration": 234,
            "learn": [
             0.4540564146
            ],
            "passed_time": 10.78171422,
            "remaining_time": 12.15810327,
            "test": [
             0.5906557869,
             0.5947997563
            ]
           },
           {
            "iteration": 235,
            "learn": [
             0.4533532704
            ],
            "passed_time": 10.82461361,
            "remaining_time": 12.1088898,
            "test": [
             0.590921428,
             0.5948858452
            ]
           },
           {
            "iteration": 236,
            "learn": [
             0.4530172585
            ],
            "passed_time": 10.8587184,
            "remaining_time": 12.04997021,
            "test": [
             0.5906528995,
             0.5950259126
            ]
           },
           {
            "iteration": 237,
            "learn": [
             0.452476806
            ],
            "passed_time": 10.89246992,
            "remaining_time": 11.99087025,
            "test": [
             0.5923160436,
             0.594446365
            ]
           },
           {
            "iteration": 238,
            "learn": [
             0.4519906551
            ],
            "passed_time": 10.92779511,
            "remaining_time": 11.93370094,
            "test": [
             0.5927462666,
             0.5942380625
            ]
           },
           {
            "iteration": 239,
            "learn": [
             0.4512779598
            ],
            "passed_time": 10.9615976,
            "remaining_time": 11.87506407,
            "test": [
             0.5922294215,
             0.5944515718
            ]
           },
           {
            "iteration": 240,
            "learn": [
             0.4507388994
            ],
            "passed_time": 10.99507649,
            "remaining_time": 11.81628552,
            "test": [
             0.5920359655,
             0.5947912495
            ]
           },
           {
            "iteration": 241,
            "learn": [
             0.4502247804
            ],
            "passed_time": 11.0292253,
            "remaining_time": 11.75843028,
            "test": [
             0.5924719633,
             0.5946837673
            ]
           },
           {
            "iteration": 242,
            "learn": [
             0.4494991485
            ],
            "passed_time": 11.0640354,
            "remaining_time": 11.70146954,
            "test": [
             0.5924026657,
             0.5948574429
            ]
           },
           {
            "iteration": 243,
            "learn": [
             0.4488610815
            ],
            "passed_time": 11.09953406,
            "remaining_time": 11.64541279,
            "test": [
             0.5922323089,
             0.5950082094
            ]
           },
           {
            "iteration": 244,
            "learn": [
             0.4482743009
            ],
            "passed_time": 11.13370914,
            "remaining_time": 11.58814624,
            "test": [
             0.5915999677,
             0.5952988159
            ]
           },
           {
            "iteration": 245,
            "learn": [
             0.4477227971
            ],
            "passed_time": 11.16951525,
            "remaining_time": 11.53275152,
            "test": [
             0.590921428,
             0.5955698271
            ]
           },
           {
            "iteration": 246,
            "learn": [
             0.4472864421
            ],
            "passed_time": 11.21763918,
            "remaining_time": 11.49013244,
            "test": [
             0.591337214,
             0.5954872341
            ]
           },
           {
            "iteration": 247,
            "learn": [
             0.4467616309
            ],
            "passed_time": 11.25221184,
            "remaining_time": 11.43369913,
            "test": [
             0.5911495328,
             0.5955940844
            ]
           },
           {
            "iteration": 248,
            "learn": [
             0.4463631575
            ],
            "passed_time": 11.2854248,
            "remaining_time": 11.37607079,
            "test": [
             0.591545107,
             0.5954712936
            ]
           },
           {
            "iteration": 249,
            "learn": [
             0.44589421
            ],
            "passed_time": 11.31903775,
            "remaining_time": 11.31903775,
            "test": [
             0.5914353857,
             0.5956576901
            ]
           },
           {
            "iteration": 250,
            "learn": [
             0.4455010998
            ],
            "passed_time": 11.35216182,
            "remaining_time": 11.26170635,
            "test": [
             0.591366088,
             0.5957822402
            ]
           },
           {
            "iteration": 251,
            "learn": [
             0.4451371577
            ],
            "passed_time": 11.38763598,
            "remaining_time": 11.20687985,
            "test": [
             0.5922467459,
             0.5956033171
            ]
           },
           {
            "iteration": 252,
            "learn": [
             0.4445513464
            ],
            "passed_time": 11.42226849,
            "remaining_time": 11.15138465,
            "test": [
             0.5925499232,
             0.5955542055
            ]
           },
           {
            "iteration": 253,
            "learn": [
             0.4441450696
            ],
            "passed_time": 11.45565122,
            "remaining_time": 11.09484331,
            "test": [
             0.591753,
             0.5956854822
            ]
           },
           {
            "iteration": 254,
            "learn": [
             0.4435564404
            ],
            "passed_time": 11.4896331,
            "remaining_time": 11.03905926,
            "test": [
             0.591366088,
             0.5960301025
            ]
           },
           {
            "iteration": 255,
            "learn": [
             0.4429146923
            ],
            "passed_time": 11.52401308,
            "remaining_time": 10.98382496,
            "test": [
             0.5908607925,
             0.596253008
            ]
           },
           {
            "iteration": 256,
            "learn": [
             0.4423302934
            ],
            "passed_time": 11.55766106,
            "remaining_time": 10.92806084,
            "test": [
             0.5919435686,
             0.5958919725
            ]
           },
           {
            "iteration": 257,
            "learn": [
             0.441868434
            ],
            "passed_time": 11.59337312,
            "remaining_time": 10.87440424,
            "test": [
             0.5923449176,
             0.5958129155
            ]
           },
           {
            "iteration": 258,
            "learn": [
             0.4411368927
            ],
            "passed_time": 11.62773513,
            "remaining_time": 10.81962999,
            "test": [
             0.5934969913,
             0.5953399699
            ]
           },
           {
            "iteration": 259,
            "learn": [
             0.4404426411
            ],
            "passed_time": 11.66627608,
            "remaining_time": 10.76887023,
            "test": [
             0.5936586859,
             0.5953585474
            ]
           },
           {
            "iteration": 260,
            "learn": [
             0.4399001028
            ],
            "passed_time": 11.70139877,
            "remaining_time": 10.71507397,
            "test": [
             0.593193814,
             0.5954550593
            ]
           },
           {
            "iteration": 261,
            "learn": [
             0.4394228006
            ],
            "passed_time": 11.7363359,
            "remaining_time": 10.66125169,
            "test": [
             0.5928415509,
             0.5956014301
            ]
           },
           {
            "iteration": 262,
            "learn": [
             0.4391104382
            ],
            "passed_time": 11.78028707,
            "remaining_time": 10.61569595,
            "test": [
             0.5926423201,
             0.595610623
            ]
           },
           {
            "iteration": 263,
            "learn": [
             0.4386495798
            ],
            "passed_time": 11.81789068,
            "remaining_time": 10.56447804,
            "test": [
             0.5938088308,
             0.595333949
            ]
           },
           {
            "iteration": 264,
            "learn": [
             0.4379731604
            ],
            "passed_time": 11.8526059,
            "remaining_time": 10.51080146,
            "test": [
             0.5934536803,
             0.5954728099
            ]
           },
           {
            "iteration": 265,
            "learn": [
             0.4373988531
            ],
            "passed_time": 11.88677193,
            "remaining_time": 10.45678433,
            "test": [
             0.5942679279,
             0.5951305707
            ]
           },
           {
            "iteration": 266,
            "learn": [
             0.4370748022
            ],
            "passed_time": 11.92026147,
            "remaining_time": 10.40232555,
            "test": [
             0.5948223092,
             0.5949504145
            ]
           },
           {
            "iteration": 267,
            "learn": [
             0.4364270395
            ],
            "passed_time": 11.95577376,
            "remaining_time": 10.3497743,
            "test": [
             0.5955759214,
             0.5948321058
            ]
           },
           {
            "iteration": 268,
            "learn": [
             0.4358869237
            ],
            "passed_time": 11.99025635,
            "remaining_time": 10.29646549,
            "test": [
             0.5952669693,
             0.5949791603
            ]
           },
           {
            "iteration": 269,
            "learn": [
             0.4352785896
            ],
            "passed_time": 12.02496685,
            "remaining_time": 10.24349028,
            "test": [
             0.5954286638,
             0.5949014409
            ]
           },
           {
            "iteration": 270,
            "learn": [
             0.4346347807
            ],
            "passed_time": 12.05770923,
            "remaining_time": 10.18898677,
            "test": [
             0.5947905478,
             0.5950071031
            ]
           },
           {
            "iteration": 271,
            "learn": [
             0.4340446004
            ],
            "passed_time": 12.09447133,
            "remaining_time": 10.13801273,
            "test": [
             0.5945046949,
             0.5951716823
            ]
           },
           {
            "iteration": 272,
            "learn": [
             0.4333770204
            ],
            "passed_time": 12.13016593,
            "remaining_time": 10.08625519,
            "test": [
             0.5940889089,
             0.5952996551
            ]
           },
           {
            "iteration": 273,
            "learn": [
             0.4327929139
            ],
            "passed_time": 12.16866279,
            "remaining_time": 10.03692624,
            "test": [
             0.5943458878,
             0.5951546065
            ]
           },
           {
            "iteration": 274,
            "learn": [
             0.432257407
            ],
            "passed_time": 12.20519954,
            "remaining_time": 9.986072352,
            "test": [
             0.5935980504,
             0.5954574901
            ]
           },
           {
            "iteration": 275,
            "learn": [
             0.4318177554
            ],
            "passed_time": 12.23858606,
            "remaining_time": 9.932765498,
            "test": [
             0.5938636915,
             0.5953642307
            ]
           },
           {
            "iteration": 276,
            "learn": [
             0.4313953792
            ],
            "passed_time": 12.27124285,
            "remaining_time": 9.879015005,
            "test": [
             0.5937279836,
             0.5954641224
            ]
           },
           {
            "iteration": 277,
            "learn": [
             0.4311106551
            ],
            "passed_time": 12.30483113,
            "remaining_time": 9.826160109,
            "test": [
             0.5936442489,
             0.5955073113
            ]
           },
           {
            "iteration": 278,
            "learn": [
             0.4306354518
            ],
            "passed_time": 12.34040554,
            "remaining_time": 9.775016576,
            "test": [
             0.5937019969,
             0.5955589564
            ]
           },
           {
            "iteration": 279,
            "learn": [
             0.4301844871
            ],
            "passed_time": 12.37468366,
            "remaining_time": 9.722965732,
            "test": [
             0.5937019969,
             0.5956634089
            ]
           },
           {
            "iteration": 280,
            "learn": [
             0.429572293
            ],
            "passed_time": 12.40882766,
            "remaining_time": 9.67093686,
            "test": [
             0.5941437696,
             0.5955049018
            ]
           },
           {
            "iteration": 281,
            "learn": [
             0.4291426214
            ],
            "passed_time": 12.44192047,
            "remaining_time": 9.618222206,
            "test": [
             0.5938319301,
             0.5957624339
            ]
           },
           {
            "iteration": 282,
            "learn": [
             0.4286364066
            ],
            "passed_time": 12.47659109,
            "remaining_time": 9.566856069,
            "test": [
             0.5941148955,
             0.5956519956
            ]
           },
           {
            "iteration": 283,
            "learn": [
             0.4280939746
            ],
            "passed_time": 12.51241278,
            "remaining_time": 9.516482959,
            "test": [
             0.5941784184,
             0.5956527871
            ]
           },
           {
            "iteration": 284,
            "learn": [
             0.4276624885
            ],
            "passed_time": 12.54882191,
            "remaining_time": 9.466655122,
            "test": [
             0.5933352968,
             0.5960076204
            ]
           },
           {
            "iteration": 285,
            "learn": [
             0.4271507158
            ],
            "passed_time": 12.58395821,
            "remaining_time": 9.415968731,
            "test": [
             0.5949464676,
             0.5954281818
            ]
           },
           {
            "iteration": 286,
            "learn": [
             0.4266048168
            ],
            "passed_time": 12.61780495,
            "remaining_time": 9.364433635,
            "test": [
             0.5942217294,
             0.5956652952
            ]
           },
           {
            "iteration": 287,
            "learn": [
             0.4260350228
            ],
            "passed_time": 12.65148858,
            "remaining_time": 9.312901319,
            "test": [
             0.5942303916,
             0.5957659534
            ]
           },
           {
            "iteration": 288,
            "learn": [
             0.4253156167
            ],
            "passed_time": 12.68623019,
            "remaining_time": 9.262264946,
            "test": [
             0.5940946837,
             0.5957663384
            ]
           },
           {
            "iteration": 289,
            "learn": [
             0.4249147253
            ],
            "passed_time": 12.72035331,
            "remaining_time": 9.211290331,
            "test": [
             0.5938001686,
             0.5959523391
            ]
           },
           {
            "iteration": 290,
            "learn": [
             0.4246214055
            ],
            "passed_time": 12.76910159,
            "remaining_time": 9.170935508,
            "test": [
             0.5934450181,
             0.5961874404
            ]
           },
           {
            "iteration": 291,
            "learn": [
             0.42409274
            ],
            "passed_time": 12.80781106,
            "remaining_time": 9.123372264,
            "test": [
             0.5930119076,
             0.5964596301
            ]
           },
           {
            "iteration": 292,
            "learn": [
             0.4238376245
            ],
            "passed_time": 12.84121645,
            "remaining_time": 9.072122199,
            "test": [
             0.5929339478,
             0.5964738619
            ]
           },
           {
            "iteration": 293,
            "learn": [
             0.4235218706
            ],
            "passed_time": 12.87476523,
            "remaining_time": 9.021094004,
            "test": [
             0.5931736022,
             0.5963922198
            ]
           },
           {
            "iteration": 294,
            "learn": [
             0.422958674
            ],
            "passed_time": 12.90940026,
            "remaining_time": 8.97093916,
            "test": [
             0.5929599344,
             0.596591981
            ]
           },
           {
            "iteration": 295,
            "learn": [
             0.4225830796
            ],
            "passed_time": 12.94256947,
            "remaining_time": 8.91987896,
            "test": [
             0.5928328887,
             0.5967405776
            ]
           },
           {
            "iteration": 296,
            "learn": [
             0.422172413
            ],
            "passed_time": 12.97658836,
            "remaining_time": 8.869519989,
            "test": [
             0.5928213391,
             0.5966981898
            ]
           },
           {
            "iteration": 297,
            "learn": [
             0.4216341193
            ],
            "passed_time": 13.00938824,
            "remaining_time": 8.81844438,
            "test": [
             0.5931591652,
             0.5965352444
            ]
           },
           {
            "iteration": 298,
            "learn": [
             0.4212195772
            ],
            "passed_time": 13.04150876,
            "remaining_time": 8.767034317,
            "test": [
             0.5933641708,
             0.5964862702
            ]
           },
           {
            "iteration": 299,
            "learn": [
             0.4205474913
            ],
            "passed_time": 13.07806763,
            "remaining_time": 8.718711755,
            "test": [
             0.5936124874,
             0.5965822654
            ]
           },
           {
            "iteration": 300,
            "learn": [
             0.4201660058
            ],
            "passed_time": 13.11026746,
            "remaining_time": 8.667585465,
            "test": [
             0.5935749512,
             0.5965864555
            ]
           },
           {
            "iteration": 301,
            "learn": [
             0.4195729404
            ],
            "passed_time": 13.14397316,
            "remaining_time": 8.617571809,
            "test": [
             0.592391116,
             0.5971298582
            ]
           },
           {
            "iteration": 302,
            "learn": [
             0.4190462258
            ],
            "passed_time": 13.19097088,
            "remaining_time": 8.5763078,
            "test": [
             0.5918771583,
             0.5972330857
            ]
           },
           {
            "iteration": 303,
            "learn": [
             0.4186512124
            ],
            "passed_time": 13.22801468,
            "remaining_time": 8.52858841,
            "test": [
             0.591695252,
             0.5973922372
            ]
           },
           {
            "iteration": 304,
            "learn": [
             0.4181931137
            ],
            "passed_time": 13.26287092,
            "remaining_time": 8.479540427,
            "test": [
             0.5917356756,
             0.5974275762
            ]
           },
           {
            "iteration": 305,
            "learn": [
             0.4177798687
            ],
            "passed_time": 13.29527742,
            "remaining_time": 8.42903209,
            "test": [
             0.5915566566,
             0.5975118762
            ]
           },
           {
            "iteration": 306,
            "learn": [
             0.4172557296
            ],
            "passed_time": 13.33096346,
            "remaining_time": 8.380703412,
            "test": [
             0.5910802352,
             0.5978573191
            ]
           },
           {
            "iteration": 307,
            "learn": [
             0.4164272676
            ],
            "passed_time": 13.36668392,
            "remaining_time": 8.332478286,
            "test": [
             0.5898242149,
             0.5981878743
            ]
           },
           {
            "iteration": 308,
            "learn": [
             0.4159328705
            ],
            "passed_time": 13.39997882,
            "remaining_time": 8.282834804,
            "test": [
             0.5889060208,
             0.5985756352
            ]
           },
           {
            "iteration": 309,
            "learn": [
             0.4154537707
            ],
            "passed_time": 13.4354276,
            "remaining_time": 8.234616914,
            "test": [
             0.5888944712,
             0.5987150613
            ]
           },
           {
            "iteration": 310,
            "learn": [
             0.4147123782
            ],
            "passed_time": 13.47237924,
            "remaining_time": 8.187394457,
            "test": [
             0.5886721412,
             0.5988412227
            ]
           },
           {
            "iteration": 311,
            "learn": [
             0.4143505976
            ],
            "passed_time": 13.50587781,
            "remaining_time": 8.138157144,
            "test": [
             0.5887241144,
             0.5988135024
            ]
           },
           {
            "iteration": 312,
            "learn": [
             0.4137962445
            ],
            "passed_time": 13.54141956,
            "remaining_time": 8.09024108,
            "test": [
             0.5887154522,
             0.5988651673
            ]
           },
           {
            "iteration": 313,
            "learn": [
             0.4133422795
            ],
            "passed_time": 13.57616387,
            "remaining_time": 8.041931464,
            "test": [
             0.5888684846,
             0.5988616139
            ]
           },
           {
            "iteration": 314,
            "learn": [
             0.4129146349
            ],
            "passed_time": 13.61107309,
            "remaining_time": 7.993804829,
            "test": [
             0.5891716619,
             0.598791125
            ]
           },
           {
            "iteration": 315,
            "learn": [
             0.4124638914
            ],
            "passed_time": 13.64674127,
            "remaining_time": 7.946203775,
            "test": [
             0.5897375928,
             0.5986105216
            ]
           },
           {
            "iteration": 316,
            "learn": [
             0.4118582096
            ],
            "passed_time": 13.68064791,
            "remaining_time": 7.897661097,
            "test": [
             0.5894546274,
             0.5987524846
            ]
           },
           {
            "iteration": 317,
            "learn": [
             0.4114596507
            ],
            "passed_time": 13.71292902,
            "remaining_time": 7.848280133,
            "test": [
             0.5892611714,
             0.5989197659
            ]
           },
           {
            "iteration": 318,
            "learn": [
             0.4108989354
            ],
            "passed_time": 13.75600351,
            "remaining_time": 7.805130521,
            "test": [
             0.5888424979,
             0.5991113874
            ]
           },
           {
            "iteration": 319,
            "learn": [
             0.4104366107
            ],
            "passed_time": 13.8006462,
            "remaining_time": 7.762863488,
            "test": [
             0.5887501011,
             0.599194036
            ]
           },
           {
            "iteration": 320,
            "learn": [
             0.4100279127
            ],
            "passed_time": 13.83384447,
            "remaining_time": 7.714199873,
            "test": [
             0.5887529885,
             0.59915481
            ]
           },
           {
            "iteration": 321,
            "learn": [
             0.4094043331
            ],
            "passed_time": 13.86951228,
            "remaining_time": 7.666997469,
            "test": [
             0.5887905247,
             0.5992220338
            ]
           },
           {
            "iteration": 322,
            "learn": [
             0.4089426208
            ],
            "passed_time": 13.90886874,
            "remaining_time": 7.621887821,
            "test": [
             0.5883718513,
             0.5993454045
            ]
           },
           {
            "iteration": 323,
            "learn": [
             0.4085876014
            ],
            "passed_time": 13.94295454,
            "remaining_time": 7.573950614,
            "test": [
             0.5884902348,
             0.5994250604
            ]
           },
           {
            "iteration": 324,
            "learn": [
             0.4080603175
            ],
            "passed_time": 13.97622511,
            "remaining_time": 7.525659674,
            "test": [
             0.5884353741,
             0.5994361893
            ]
           },
           {
            "iteration": 325,
            "learn": [
             0.4073824892
            ],
            "passed_time": 14.00883683,
            "remaining_time": 7.477109228,
            "test": [
             0.5887905247,
             0.5993479265
            ]
           },
           {
            "iteration": 326,
            "learn": [
             0.4069100339
            ],
            "passed_time": 14.04497607,
            "remaining_time": 7.430522507,
            "test": [
             0.5893420186,
             0.5991068691
            ]
           },
           {
            "iteration": 327,
            "learn": [
             0.4066769317
            ],
            "passed_time": 14.07787014,
            "remaining_time": 7.382297754,
            "test": [
             0.589287158,
             0.5991244777
            ]
           },
           {
            "iteration": 328,
            "learn": [
             0.4062089645
            ],
            "passed_time": 14.11141707,
            "remaining_time": 7.334505531,
            "test": [
             0.5896134345,
             0.5990808186
            ]
           },
           {
            "iteration": 329,
            "learn": [
             0.4057475616
            ],
            "passed_time": 14.14666609,
            "remaining_time": 7.287676472,
            "test": [
             0.5896451959,
             0.5990841373
            ]
           },
           {
            "iteration": 330,
            "learn": [
             0.4053033106
            ],
            "passed_time": 14.19158254,
            "remaining_time": 7.245853319,
            "test": [
             0.5896394211,
             0.5991165212
            ]
           },
           {
            "iteration": 331,
            "learn": [
             0.4048053975
            ],
            "passed_time": 14.22544014,
            "remaining_time": 7.19841549,
            "test": [
             0.5905893767,
             0.5988831569
            ]
           },
           {
            "iteration": 332,
            "learn": [
             0.4045462688
            ],
            "passed_time": 14.25894145,
            "remaining_time": 7.150880546,
            "test": [
             0.5905749397,
             0.5989393562
            ]
           },
           {
            "iteration": 333,
            "learn": [
             0.404122212
            ],
            "passed_time": 14.29322275,
            "remaining_time": 7.103817297,
            "test": [
             0.5903497222,
             0.5989790636
            ]
           },
           {
            "iteration": 334,
            "learn": [
             0.4036939448
            ],
            "passed_time": 14.32811157,
            "remaining_time": 7.057129581,
            "test": [
             0.5904132451,
             0.5990718718
            ]
           },
           {
            "iteration": 335,
            "learn": [
             0.403412627
            ],
            "passed_time": 14.36251971,
            "remaining_time": 7.010277476,
            "test": [
             0.5905836019,
             0.5989799928
            ]
           },
           {
            "iteration": 336,
            "learn": [
             0.4029217005
            ],
            "passed_time": 14.39787772,
            "remaining_time": 6.963958662,
            "test": [
             0.5902717624,
             0.5991113685
            ]
           },
           {
            "iteration": 337,
            "learn": [
             0.4022926159
            ],
            "passed_time": 14.43398471,
            "remaining_time": 6.918063676,
            "test": [
             0.5904536687,
             0.5992906503
            ]
           },
           {
            "iteration": 338,
            "learn": [
             0.4017271385
            ],
            "passed_time": 14.46932366,
            "remaining_time": 6.871861679,
            "test": [
             0.5904565561,
             0.599364301
            ]
           },
           {
            "iteration": 339,
            "learn": [
             0.4012922646
            ],
            "passed_time": 14.50927656,
            "remaining_time": 6.827894853,
            "test": [
             0.5904247947,
             0.599527043
            ]
           },
           {
            "iteration": 340,
            "learn": [
             0.4008295376
            ],
            "passed_time": 14.5471947,
            "remaining_time": 6.783002809,
            "test": [
             0.5906933232,
             0.5996401147
            ]
           },
           {
            "iteration": 341,
            "learn": [
             0.4003941384
            ],
            "passed_time": 14.5817291,
            "remaining_time": 6.736588299,
            "test": [
             0.5909012162,
             0.5995949024
            ]
           },
           {
            "iteration": 342,
            "learn": [
             0.3999643291
            ],
            "passed_time": 14.615245,
            "remaining_time": 6.689776864,
            "test": [
             0.5906182507,
             0.5997149942
            ]
           },
           {
            "iteration": 343,
            "learn": [
             0.3996636787
            ],
            "passed_time": 14.64912265,
            "remaining_time": 6.643206782,
            "test": [
             0.5904623309,
             0.5998684792
            ]
           },
           {
            "iteration": 344,
            "learn": [
             0.39919744
            ],
            "passed_time": 14.68465975,
            "remaining_time": 6.597455828,
            "test": [
             0.590476768,
             0.5997729354
            ]
           },
           {
            "iteration": 345,
            "learn": [
             0.398695084
            ],
            "passed_time": 14.71891901,
            "remaining_time": 6.551195168,
            "test": [
             0.5904132451,
             0.5999411781
            ]
           },
           {
            "iteration": 346,
            "learn": [
             0.3982688636
            ],
            "passed_time": 14.77285495,
            "remaining_time": 6.51367956,
            "test": [
             0.5897000566,
             0.6001788402
            ]
           },
           {
            "iteration": 347,
            "learn": [
             0.3978697761
            ],
            "passed_time": 14.80716835,
            "remaining_time": 6.467498818,
            "test": [
             0.5902169017,
             0.5999998385
            ]
           },
           {
            "iteration": 348,
            "learn": [
             0.3974513029
            ],
            "passed_time": 14.84175581,
            "remaining_time": 6.421504662,
            "test": [
             0.5902602127,
             0.6000958903
            ]
           },
           {
            "iteration": 349,
            "learn": [
             0.3969093533
            ],
            "passed_time": 14.87634804,
            "remaining_time": 6.375577733,
            "test": [
             0.5898733008,
             0.6001401487
            ]
           },
           {
            "iteration": 350,
            "learn": [
             0.3964957087
            ],
            "passed_time": 14.9097139,
            "remaining_time": 6.329194791,
            "test": [
             0.5899570354,
             0.6000954451
            ]
           },
           {
            "iteration": 351,
            "learn": [
             0.3962365383
            ],
            "passed_time": 14.94247551,
            "remaining_time": 6.282631747,
            "test": [
             0.5896827322,
             0.6002128542
            ]
           },
           {
            "iteration": 352,
            "learn": [
             0.3959389638
            ],
            "passed_time": 14.97492493,
            "remaining_time": 6.236016897,
            "test": [
             0.5892409595,
             0.6004247508
            ]
           },
           {
            "iteration": 353,
            "learn": [
             0.3955920207
            ],
            "passed_time": 15.00807744,
            "remaining_time": 6.189772051,
            "test": [
             0.5890619406,
             0.6005823125
            ]
           },
           {
            "iteration": 354,
            "learn": [
             0.3951571675
            ],
            "passed_time": 15.04150701,
            "remaining_time": 6.14371413,
            "test": [
             0.5887732003,
             0.6008192011
            ]
           },
           {
            "iteration": 355,
            "learn": [
             0.3945873189
            ],
            "passed_time": 15.07570781,
            "remaining_time": 6.098039115,
            "test": [
             0.588692353,
             0.6008437033
            ]
           },
           {
            "iteration": 356,
            "learn": [
             0.3940115628
            ],
            "passed_time": 15.11066594,
            "remaining_time": 6.052731736,
            "test": [
             0.5882361434,
             0.6011142159
            ]
           },
           {
            "iteration": 357,
            "learn": [
             0.39352556
            ],
            "passed_time": 15.14358426,
            "remaining_time": 6.006673088,
            "test": [
             0.5880455748,
             0.6012736841
            ]
           },
           {
            "iteration": 358,
            "learn": [
             0.393016389
            ],
            "passed_time": 15.18618985,
            "remaining_time": 5.964492392,
            "test": [
             0.5880715614,
             0.6012753799
            ]
           },
           {
            "iteration": 359,
            "learn": [
             0.3925978442
            ],
            "passed_time": 15.21831358,
            "remaining_time": 5.918233057,
            "test": [
             0.5885653073,
             0.6012325277
            ]
           },
           {
            "iteration": 360,
            "learn": [
             0.3920186121
            ],
            "passed_time": 15.25020955,
            "remaining_time": 5.871964344,
            "test": [
             0.5885335458,
             0.6012311088
            ]
           },
           {
            "iteration": 361,
            "learn": [
             0.3915275228
            ],
            "passed_time": 15.28271889,
            "remaining_time": 5.82600886,
            "test": [
             0.5889175704,
             0.6011285191
            ]
           },
           {
            "iteration": 362,
            "learn": [
             0.3910665759
            ],
            "passed_time": 15.31489338,
            "remaining_time": 5.780001082,
            "test": [
             0.5888338357,
             0.6011583811
            ]
           },
           {
            "iteration": 363,
            "learn": [
             0.3906005907
            ],
            "passed_time": 15.34848943,
            "remaining_time": 5.734600446,
            "test": [
             0.5882823418,
             0.6013915677
            ]
           },
           {
            "iteration": 364,
            "learn": [
             0.3902599627
            ],
            "passed_time": 15.38081927,
            "remaining_time": 5.688796167,
            "test": [
             0.5874796438,
             0.6016467531
            ]
           },
           {
            "iteration": 365,
            "learn": [
             0.3899106672
            ],
            "passed_time": 15.41308144,
            "remaining_time": 5.643040747,
            "test": [
             0.5874247832,
             0.6016303863
            ]
           },
           {
            "iteration": 366,
            "learn": [
             0.389333707
            ],
            "passed_time": 15.45212761,
            "remaining_time": 5.599817362,
            "test": [
             0.5873699225,
             0.6017035071
            ]
           },
           {
            "iteration": 367,
            "learn": [
             0.3889778734
            ],
            "passed_time": 15.48674136,
            "remaining_time": 5.555026793,
            "test": [
             0.587624014,
             0.6016616228
            ]
           },
           {
            "iteration": 368,
            "learn": [
             0.3885003339
            ],
            "passed_time": 15.52075616,
            "remaining_time": 5.510078746,
            "test": [
             0.5881841701,
             0.601453122
            ]
           },
           {
            "iteration": 369,
            "learn": [
             0.388124262
            ],
            "passed_time": 15.55396091,
            "remaining_time": 5.464905183,
            "test": [
             0.5880600118,
             0.6014620305
            ]
           },
           {
            "iteration": 370,
            "learn": [
             0.3875349222
            ],
            "passed_time": 15.58724746,
            "remaining_time": 5.419824588,
            "test": [
             0.587918529,
             0.6016789289
            ]
           },
           {
            "iteration": 371,
            "learn": [
             0.3870764665
            ],
            "passed_time": 15.62086208,
            "remaining_time": 5.374920287,
            "test": [
             0.588291004,
             0.6017045089
            ]
           },
           {
            "iteration": 372,
            "learn": [
             0.3865814228
            ],
            "passed_time": 15.65472883,
            "remaining_time": 5.330162363,
            "test": [
             0.5889955303,
             0.601393791
            ]
           },
           {
            "iteration": 373,
            "learn": [
             0.3862391596
            ],
            "passed_time": 15.6875096,
            "remaining_time": 5.285096818,
            "test": [
             0.5886028435,
             0.6016851155
            ]
           },
           {
            "iteration": 374,
            "learn": [
             0.3857748973
            ],
            "passed_time": 15.71816783,
            "remaining_time": 5.239389277,
            "test": [
             0.5880282503,
             0.6018641667
            ]
           },
           {
            "iteration": 375,
            "learn": [
             0.3853243102
            ],
            "passed_time": 15.76079742,
            "remaining_time": 5.197709786,
            "test": [
             0.5879474031,
             0.6019917439
            ]
           },
           {
            "iteration": 376,
            "learn": [
             0.3849139012
            ],
            "passed_time": 15.80742558,
            "remaining_time": 5.15732983,
            "test": [
             0.5879618401,
             0.6019725981
            ]
           },
           {
            "iteration": 377,
            "learn": [
             0.3844766235
            ],
            "passed_time": 15.84126761,
            "remaining_time": 5.112790075,
            "test": [
             0.5876990864,
             0.6021017242
            ]
           },
           {
            "iteration": 378,
            "learn": [
             0.3840736835
            ],
            "passed_time": 15.87478074,
            "remaining_time": 5.068201768,
            "test": [
             0.5880398,
             0.6020433739
            ]
           },
           {
            "iteration": 379,
            "learn": [
             0.3836104123
            ],
            "passed_time": 15.90833674,
            "remaining_time": 5.023685286,
            "test": [
             0.5873814721,
             0.6026075421
            ]
           },
           {
            "iteration": 380,
            "learn": [
             0.3832303666
            ],
            "passed_time": 15.94098942,
            "remaining_time": 4.978944201,
            "test": [
             0.5875142926,
             0.6026954793
            ]
           },
           {
            "iteration": 381,
            "learn": [
             0.3825740279
            ],
            "passed_time": 15.97282032,
            "remaining_time": 4.934012559,
            "test": [
             0.5874709816,
             0.6027671815
            ]
           },
           {
            "iteration": 382,
            "learn": [
             0.3821427182
            ],
            "passed_time": 16.00577102,
            "remaining_time": 4.889491409,
            "test": [
             0.5874911934,
             0.6026429718
            ]
           },
           {
            "iteration": 383,
            "learn": [
             0.3817311979
            ],
            "passed_time": 16.03853771,
            "remaining_time": 4.844974934,
            "test": [
             0.5872746382,
             0.6028654954
            ]
           },
           {
            "iteration": 384,
            "learn": [
             0.381325806
            ],
            "passed_time": 16.07132101,
            "remaining_time": 4.800524458,
            "test": [
             0.5874132335,
             0.6028642161
            ]
           },
           {
            "iteration": 385,
            "learn": [
             0.3810088723
            ],
            "passed_time": 16.10894142,
            "remaining_time": 4.757563011,
            "test": [
             0.5872890752,
             0.6029897279
            ]
           },
           {
            "iteration": 386,
            "learn": [
             0.3805972355
            ],
            "passed_time": 16.14142112,
            "remaining_time": 4.713128131,
            "test": [
             0.586434404,
             0.6033923159
            ]
           },
           {
            "iteration": 387,
            "learn": [
             0.3802038433
            ],
            "passed_time": 16.18170722,
            "remaining_time": 4.671008269,
            "test": [
             0.5863217953,
             0.603403978
            ]
           },
           {
            "iteration": 388,
            "learn": [
             0.3796301002
            ],
            "passed_time": 16.21465149,
            "remaining_time": 4.626802868,
            "test": [
             0.5860850282,
             0.6036010577
            ]
           },
           {
            "iteration": 389,
            "learn": [
             0.3790068053
            ],
            "passed_time": 16.2488472,
            "remaining_time": 4.583008183,
            "test": [
             0.5856519178,
             0.6037032568
            ]
           },
           {
            "iteration": 390,
            "learn": [
             0.3786718999
            ],
            "passed_time": 16.28129847,
            "remaining_time": 4.5387763,
            "test": [
             0.5853574027,
             0.603878934
            ]
           },
           {
            "iteration": 391,
            "learn": [
             0.3779953091
            ],
            "passed_time": 16.31346757,
            "remaining_time": 4.49452678,
            "test": [
             0.5848809813,
             0.6040589008
            ]
           },
           {
            "iteration": 392,
            "learn": [
             0.3775795627
            ],
            "passed_time": 16.3457141,
            "remaining_time": 4.45035982,
            "test": [
             0.5848463324,
             0.6040425121
            ]
           },
           {
            "iteration": 393,
            "learn": [
             0.377140447
            ],
            "passed_time": 16.37843352,
            "remaining_time": 4.406380591,
            "test": [
             0.5854064886,
             0.6038527736
            ]
           },
           {
            "iteration": 394,
            "learn": [
             0.376809393
            ],
            "passed_time": 16.41151001,
            "remaining_time": 4.362553295,
            "test": [
             0.5859522077,
             0.6037917386
            ]
           },
           {
            "iteration": 395,
            "learn": [
             0.3763723814
            ],
            "passed_time": 16.44380045,
            "remaining_time": 4.318573857,
            "test": [
             0.5855421965,
             0.6039001221
            ]
           },
           {
            "iteration": 396,
            "learn": [
             0.376046006
            ],
            "passed_time": 16.476908,
            "remaining_time": 4.274865299,
            "test": [
             0.5853227539,
             0.6040022496
            ]
           },
           {
            "iteration": 397,
            "learn": [
             0.375571086
            ],
            "passed_time": 16.51059157,
            "remaining_time": 4.231357638,
            "test": [
             0.585244794,
             0.6039700404
            ]
           },
           {
            "iteration": 398,
            "learn": [
             0.3751827836
            ],
            "passed_time": 16.54453276,
            "remaining_time": 4.187964433,
            "test": [
             0.5849849278,
             0.6041050262
            ]
           },
           {
            "iteration": 399,
            "learn": [
             0.3747112453
            ],
            "passed_time": 16.57677014,
            "remaining_time": 4.144192534,
            "test": [
             0.585273668,
             0.6040614109
            ]
           },
           {
            "iteration": 400,
            "learn": [
             0.3743060489
            ],
            "passed_time": 16.60924476,
            "remaining_time": 4.100536736,
            "test": [
             0.5855393091,
             0.6040124397
            ]
           },
           {
            "iteration": 401,
            "learn": [
             0.3738360049
            ],
            "passed_time": 16.64157043,
            "remaining_time": 4.056900254,
            "test": [
             0.5852361318,
             0.6042094501
            ]
           },
           {
            "iteration": 402,
            "learn": [
             0.3733703371
            ],
            "passed_time": 16.67379856,
            "remaining_time": 4.013296427,
            "test": [
             0.5852072578,
             0.6043566259
            ]
           },
           {
            "iteration": 403,
            "learn": [
             0.3728221351
            ],
            "passed_time": 16.70640977,
            "remaining_time": 3.969839944,
            "test": [
             0.5849329545,
             0.6044578421
            ]
           },
           {
            "iteration": 404,
            "learn": [
             0.3722850642
            ],
            "passed_time": 16.73959069,
            "remaining_time": 3.926570655,
            "test": [
             0.5845864662,
             0.6045985015
            ]
           },
           {
            "iteration": 405,
            "learn": [
             0.3719333273
            ],
            "passed_time": 16.79674187,
            "remaining_time": 3.888900827,
            "test": [
             0.5844969567,
             0.6046790103
            ]
           },
           {
            "iteration": 406,
            "learn": [
             0.371468465
            ],
            "passed_time": 16.8301341,
            "remaining_time": 3.845706318,
            "test": [
             0.5845113937,
             0.60467715
            ]
           },
           {
            "iteration": 407,
            "learn": [
             0.3711316803
            ],
            "passed_time": 16.86217622,
            "remaining_time": 3.802255422,
            "test": [
             0.5849878152,
             0.6044751462
            ]
           },
           {
            "iteration": 408,
            "learn": [
             0.3707768044
            ],
            "passed_time": 16.89478765,
            "remaining_time": 3.758986982,
            "test": [
             0.5852245822,
             0.604474335
            ]
           },
           {
            "iteration": 409,
            "learn": [
             0.3703964103
            ],
            "passed_time": 16.92603448,
            "remaining_time": 3.715470983,
            "test": [
             0.585481561,
             0.6044385694
            ]
           },
           {
            "iteration": 410,
            "learn": [
             0.3698603608
            ],
            "passed_time": 16.96147727,
            "remaining_time": 3.672923303,
            "test": [
             0.5855970572,
             0.6042963543
            ]
           },
           {
            "iteration": 411,
            "learn": [
             0.3693737579
            ],
            "passed_time": 16.99570487,
            "remaining_time": 3.630150554,
            "test": [
             0.5859060093,
             0.6043286777
            ]
           },
           {
            "iteration": 412,
            "learn": [
             0.3688936304
            ],
            "passed_time": 17.03045654,
            "remaining_time": 3.587529586,
            "test": [
             0.5855017729,
             0.6045513062
            ]
           },
           {
            "iteration": 413,
            "learn": [
             0.3685828332
            ],
            "passed_time": 17.06187832,
            "remaining_time": 3.544254917,
            "test": [
             0.5856836792,
             0.6046049278
            ]
           },
           {
            "iteration": 414,
            "learn": [
             0.3680278874
            ],
            "passed_time": 17.09285234,
            "remaining_time": 3.50094566,
            "test": [
             0.5853140917,
             0.6047431342
            ]
           },
           {
            "iteration": 415,
            "learn": [
             0.3675824469
            ],
            "passed_time": 17.12419502,
            "remaining_time": 3.457770147,
            "test": [
             0.5856490304,
             0.6048315497
            ]
           },
           {
            "iteration": 416,
            "learn": [
             0.3672353358
            ],
            "passed_time": 17.1559612,
            "remaining_time": 3.414735682,
            "test": [
             0.5855248721,
             0.6049029565
            ]
           },
           {
            "iteration": 417,
            "learn": [
             0.3667301157
            ],
            "passed_time": 17.19784671,
            "remaining_time": 3.373740263,
            "test": [
             0.5853718397,
             0.6049968186
            ]
           },
           {
            "iteration": 418,
            "learn": [
             0.3662409073
            ],
            "passed_time": 17.23405829,
            "remaining_time": 3.331643727,
            "test": [
             0.5852852177,
             0.6049524289
            ]
           },
           {
            "iteration": 419,
            "learn": [
             0.3657960384
            ],
            "passed_time": 17.26603184,
            "remaining_time": 3.288767969,
            "test": [
             0.5858136124,
             0.6048679419
            ]
           },
           {
            "iteration": 420,
            "learn": [
             0.3654783326
            ],
            "passed_time": 17.30277385,
            "remaining_time": 3.246838799,
            "test": [
             0.5863477819,
             0.6046056424
            ]
           },
           {
            "iteration": 421,
            "learn": [
             0.3650748617
            ],
            "passed_time": 17.33528956,
            "remaining_time": 3.204153046,
            "test": [
             0.5863217953,
             0.6046659937
            ]
           },
           {
            "iteration": 422,
            "learn": [
             0.3646508241
            ],
            "passed_time": 17.36705437,
            "remaining_time": 3.161378691,
            "test": [
             0.5862900338,
             0.604861497
            ]
           },
           {
            "iteration": 423,
            "learn": [
             0.3643356423
            ],
            "passed_time": 17.40127702,
            "remaining_time": 3.119096825,
            "test": [
             0.5861976369,
             0.6047936489
            ]
           },
           {
            "iteration": 424,
            "learn": [
             0.3639170734
            ],
            "passed_time": 17.4346801,
            "remaining_time": 3.076708252,
            "test": [
             0.586212074,
             0.6049198685
            ]
           },
           {
            "iteration": 425,
            "learn": [
             0.3636068251
            ],
            "passed_time": 17.46929135,
            "remaining_time": 3.034571737,
            "test": [
             0.5864170796,
             0.6048629006
            ]
           },
           {
            "iteration": 426,
            "learn": [
             0.3632820009
            ],
            "passed_time": 17.5015796,
            "remaining_time": 2.992073327,
            "test": [
             0.5864690528,
             0.6049539404
            ]
           },
           {
            "iteration": 427,
            "learn": [
             0.3628149518
            ],
            "passed_time": 17.53583786,
            "remaining_time": 2.949954032,
            "test": [
             0.5861167897,
             0.6050445065
            ]
           },
           {
            "iteration": 428,
            "learn": [
             0.3624872988
            ],
            "passed_time": 17.57002837,
            "remaining_time": 2.907860173,
            "test": [
             0.5864084174,
             0.6048500387
            ]
           },
           {
            "iteration": 429,
            "learn": [
             0.3620696382
            ],
            "passed_time": 17.60515643,
            "remaining_time": 2.865955697,
            "test": [
             0.5862784842,
             0.6048535724
            ]
           },
           {
            "iteration": 430,
            "learn": [
             0.3615769421
            ],
            "passed_time": 17.63672353,
            "remaining_time": 2.823512584,
            "test": [
             0.5865816615,
             0.6048779991
            ]
           },
           {
            "iteration": 431,
            "learn": [
             0.3611500331
            ],
            "passed_time": 17.67015203,
            "remaining_time": 2.78141282,
            "test": [
             0.5863160205,
             0.60494412
            ]
           },
           {
            "iteration": 432,
            "learn": [
             0.3607125386
            ],
            "passed_time": 17.70368696,
            "remaining_time": 2.739369576,
            "test": [
             0.5863997551,
             0.6049527585
            ]
           },
           {
            "iteration": 433,
            "learn": [
             0.3603621682
            ],
            "passed_time": 17.73645469,
            "remaining_time": 2.697248869,
            "test": [
             0.586076366,
             0.6052150118
            ]
           },
           {
            "iteration": 434,
            "learn": [
             0.3600415524
            ],
            "passed_time": 17.79322284,
            "remaining_time": 2.658757436,
            "test": [
             0.5854613492,
             0.6054368311
            ]
           },
           {
            "iteration": 435,
            "learn": [
             0.3595449093
            ],
            "passed_time": 17.82584531,
            "remaining_time": 2.616637843,
            "test": [
             0.5859695321,
             0.6054028643
            ]
           },
           {
            "iteration": 436,
            "learn": [
             0.3593008316
            ],
            "passed_time": 17.85999628,
            "remaining_time": 2.574782073,
            "test": [
             0.5862005244,
             0.6053575408
            ]
           },
           {
            "iteration": 437,
            "learn": [
             0.358800772
            ],
            "passed_time": 17.89289442,
            "remaining_time": 2.532784142,
            "test": [
             0.5860446046,
             0.6054490594
            ]
           },
           {
            "iteration": 438,
            "learn": [
             0.358380215
            ],
            "passed_time": 17.92493827,
            "remaining_time": 2.490708963,
            "test": [
             0.5857038911,
             0.6056748629
            ]
           },
           {
            "iteration": 439,
            "learn": [
             0.3577726344
            ],
            "passed_time": 17.95972482,
            "remaining_time": 2.449053385,
            "test": [
             0.5855566335,
             0.6057295286
            ]
           },
           {
            "iteration": 440,
            "learn": [
             0.3572241111
            ],
            "passed_time": 17.99294549,
            "remaining_time": 2.407219465,
            "test": [
             0.5850917617,
             0.6060810738
            ]
           },
           {
            "iteration": 441,
            "learn": [
             0.3569756781
            ],
            "passed_time": 18.02393806,
            "remaining_time": 2.365132144,
            "test": [
             0.5849416167,
             0.6061249652
            ]
           },
           {
            "iteration": 442,
            "learn": [
             0.3565906908
            ],
            "passed_time": 18.0571394,
            "remaining_time": 2.32337911,
            "test": [
             0.5848492198,
             0.6062438136
            ]
           },
           {
            "iteration": 443,
            "learn": [
             0.3562572862
            ],
            "passed_time": 18.09104285,
            "remaining_time": 2.281753153,
            "test": [
             0.5844103346,
             0.6064765921
            ]
           },
           {
            "iteration": 444,
            "learn": [
             0.3560032137
            ],
            "passed_time": 18.12441865,
            "remaining_time": 2.240096688,
            "test": [
             0.5842804015,
             0.606539375
            ]
           },
           {
            "iteration": 445,
            "learn": [
             0.3557301568
            ],
            "passed_time": 18.16025615,
            "remaining_time": 2.198775409,
            "test": [
             0.5844623078,
             0.60649408
            ]
           },
           {
            "iteration": 446,
            "learn": [
             0.3551651354
            ],
            "passed_time": 18.20154665,
            "remaining_time": 2.158125218,
            "test": [
             0.5847683725,
             0.606370872
            ]
           },
           {
            "iteration": 447,
            "learn": [
             0.3545842766
            ],
            "passed_time": 18.23372146,
            "remaining_time": 2.116414098,
            "test": [
             0.5854324752,
             0.6061239078
            ]
           },
           {
            "iteration": 448,
            "learn": [
             0.3541775901
            ],
            "passed_time": 18.26480448,
            "remaining_time": 2.074621444,
            "test": [
             0.584814571,
             0.606543898
            ]
           },
           {
            "iteration": 449,
            "learn": [
             0.3539413484
            ],
            "passed_time": 18.29746654,
            "remaining_time": 2.033051838,
            "test": [
             0.584800134,
             0.6066183209
            ]
           },
           {
            "iteration": 450,
            "learn": [
             0.3534048964
            ],
            "passed_time": 18.3306643,
            "remaining_time": 1.991579935,
            "test": [
             0.584979153,
             0.6065639304
            ]
           },
           {
            "iteration": 451,
            "learn": [
             0.3531572044
            ],
            "passed_time": 18.36271017,
            "remaining_time": 1.950022319,
            "test": [
             0.5851321853,
             0.6065757284
            ]
           },
           {
            "iteration": 452,
            "learn": [
             0.3528883751
            ],
            "passed_time": 18.39426472,
            "remaining_time": 1.908455722,
            "test": [
             0.5845085063,
             0.6067358352
            ]
           },
           {
            "iteration": 453,
            "learn": [
             0.3526361947
            ],
            "passed_time": 18.42841162,
            "remaining_time": 1.867195891,
            "test": [
             0.5842977259,
             0.606726205
            ]
           },
           {
            "iteration": 454,
            "learn": [
             0.352162028
            ],
            "passed_time": 18.46018895,
            "remaining_time": 1.825732973,
            "test": [
             0.5839483501,
             0.6068929636
            ]
           },
           {
            "iteration": 455,
            "learn": [
             0.3518166616
            ],
            "passed_time": 18.49280377,
            "remaining_time": 1.784393346,
            "test": [
             0.583818417,
             0.606981701
            ]
           },
           {
            "iteration": 456,
            "learn": [
             0.3515628009
            ],
            "passed_time": 18.52524393,
            "remaining_time": 1.743075469,
            "test": [
             0.5838241918,
             0.6070750813
            ]
           },
           {
            "iteration": 457,
            "learn": [
             0.3512616557
            ],
            "passed_time": 18.55947765,
            "remaining_time": 1.701960832,
            "test": [
             0.5840927203,
             0.6069684267
            ]
           },
           {
            "iteration": 458,
            "learn": [
             0.3510081314
            ],
            "passed_time": 18.59156242,
            "remaining_time": 1.660684225,
            "test": [
             0.5840696211,
             0.6068546368
            ]
           },
           {
            "iteration": 459,
            "learn": [
             0.3506845816
            ],
            "passed_time": 18.62402694,
            "remaining_time": 1.619480604,
            "test": [
             0.5839743368,
             0.6069419392
            ]
           },
           {
            "iteration": 460,
            "learn": [
             0.3501601147
            ],
            "passed_time": 18.65738969,
            "remaining_time": 1.578390885,
            "test": [
             0.5836451728,
             0.6072473056
            ]
           },
           {
            "iteration": 461,
            "learn": [
             0.3498789124
            ],
            "passed_time": 18.68804722,
            "remaining_time": 1.537112109,
            "test": [
             0.5833102341,
             0.6074579424
            ]
           },
           {
            "iteration": 462,
            "learn": [
             0.349307873
            ],
            "passed_time": 18.7225604,
            "remaining_time": 1.496187332,
            "test": [
             0.5831225529,
             0.6077653993
            ]
           },
           {
            "iteration": 463,
            "learn": [
             0.3490309091
            ],
            "passed_time": 18.77308804,
            "remaining_time": 1.456532693,
            "test": [
             0.583030156,
             0.6078225705
            ]
           },
           {
            "iteration": 464,
            "learn": [
             0.3487190932
            ],
            "passed_time": 18.81740557,
            "remaining_time": 1.41636386,
            "test": [
             0.5838097548,
             0.6075337584
            ]
           },
           {
            "iteration": 465,
            "learn": [
             0.348307108
            ],
            "passed_time": 18.85101082,
            "remaining_time": 1.375395639,
            "test": [
             0.5834632665,
             0.6076333777
            ]
           },
           {
            "iteration": 466,
            "learn": [
             0.3478858539
            ],
            "passed_time": 18.88435284,
            "remaining_time": 1.334440351,
            "test": [
             0.5836365106,
             0.6076828765
            ]
           },
           {
            "iteration": 467,
            "learn": [
             0.3476288298
            ],
            "passed_time": 18.91715916,
            "remaining_time": 1.293480968,
            "test": [
             0.5838790525,
             0.6076966229
            ]
           },
           {
            "iteration": 468,
            "learn": [
             0.347038146
            ],
            "passed_time": 18.95185902,
            "remaining_time": 1.252681513,
            "test": [
             0.5826028204,
             0.608216962
            ]
           },
           {
            "iteration": 469,
            "learn": [
             0.3465321562
            ],
            "passed_time": 18.98503879,
            "remaining_time": 1.211810987,
            "test": [
             0.5818578705,
             0.6087136739
            ]
           },
           {
            "iteration": 470,
            "learn": [
             0.3462834946
            ],
            "passed_time": 19.01666306,
            "remaining_time": 1.170877344,
            "test": [
             0.5819185059,
             0.6087056503
            ]
           },
           {
            "iteration": 471,
            "learn": [
             0.3459111104
            ],
            "passed_time": 19.0493447,
            "remaining_time": 1.130045872,
            "test": [
             0.5820744257,
             0.6086168258
            ]
           },
           {
            "iteration": 472,
            "learn": [
             0.3454282807
            ],
            "passed_time": 19.08188093,
            "remaining_time": 1.08924056,
            "test": [
             0.5818087846,
             0.6087082386
            ]
           },
           {
            "iteration": 473,
            "learn": [
             0.3450105514
            ],
            "passed_time": 19.11518124,
            "remaining_time": 1.048512051,
            "test": [
             0.5816528649,
             0.608867903
            ]
           },
           {
            "iteration": 474,
            "learn": [
             0.3446753164
            ],
            "passed_time": 19.14830417,
            "remaining_time": 1.007805482,
            "test": [
             0.5816499775,
             0.6088795305
            ]
           },
           {
            "iteration": 475,
            "learn": [
             0.3444427649
            ],
            "passed_time": 19.19488045,
            "remaining_time": 0.9678090983,
            "test": [
             0.5811937678,
             0.6091072847
            ]
           },
           {
            "iteration": 476,
            "learn": [
             0.3440830901
            ],
            "passed_time": 19.24108162,
            "remaining_time": 0.9277670385,
            "test": [
             0.5808588291,
             0.6093354926
            ]
           },
           {
            "iteration": 477,
            "learn": [
             0.3437086427
            ],
            "passed_time": 19.2858578,
            "remaining_time": 0.8876336227,
            "test": [
             0.580714459,
             0.6094622328
            ]
           },
           {
            "iteration": 478,
            "learn": [
             0.3432819296
            ],
            "passed_time": 19.34392948,
            "remaining_time": 0.8480637141,
            "test": [
             0.580549877,
             0.6094579505
            ]
           },
           {
            "iteration": 479,
            "learn": [
             0.3429471118
            ],
            "passed_time": 19.41807655,
            "remaining_time": 0.8090865231,
            "test": [
             0.5807057967,
             0.6094892813
            ]
           },
           {
            "iteration": 480,
            "learn": [
             0.3426575976
            ],
            "passed_time": 19.48252137,
            "remaining_time": 0.7695798462,
            "test": [
             0.5807750944,
             0.6095581868
            ]
           },
           {
            "iteration": 481,
            "learn": [
             0.3423750936
            ],
            "passed_time": 19.54486014,
            "remaining_time": 0.7298910426,
            "test": [
             0.5806884723,
             0.6096841929
            ]
           },
           {
            "iteration": 482,
            "learn": [
             0.3419741503
            ],
            "passed_time": 19.61401636,
            "remaining_time": 0.6903484018,
            "test": [
             0.5803824076,
             0.6098506468
            ]
           },
           {
            "iteration": 483,
            "learn": [
             0.341672006
            ],
            "passed_time": 19.67344985,
            "remaining_time": 0.6503619787,
            "test": [
             0.5803679706,
             0.609837926
            ]
           },
           {
            "iteration": 484,
            "learn": [
             0.341360417
            ],
            "passed_time": 19.73691325,
            "remaining_time": 0.6104199973,
            "test": [
             0.5802062761,
             0.6099646468
            ]
           },
           {
            "iteration": 485,
            "learn": [
             0.3408540007
            ],
            "passed_time": 19.8415981,
            "remaining_time": 0.5715686695,
            "test": [
             0.5806307243,
             0.609771587
            ]
           },
           {
            "iteration": 486,
            "learn": [
             0.3404200188
            ],
            "passed_time": 19.91131342,
            "remaining_time": 0.5315134998,
            "test": [
             0.5806364991,
             0.6097105823
            ]
           },
           {
            "iteration": 487,
            "learn": [
             0.3400725534
            ],
            "passed_time": 19.9771021,
            "remaining_time": 0.4912402157,
            "test": [
             0.5807231212,
             0.6098076914
            ]
           },
           {
            "iteration": 488,
            "learn": [
             0.3397521978
            ],
            "passed_time": 20.03856661,
            "remaining_time": 0.450765302,
            "test": [
             0.5807202338,
             0.609857822
            ]
           },
           {
            "iteration": 489,
            "learn": [
             0.3394070836
            ],
            "passed_time": 20.10350104,
            "remaining_time": 0.4102755315,
            "test": [
             0.5802957855,
             0.6101237705
            ]
           },
           {
            "iteration": 490,
            "learn": [
             0.3390626712
            ],
            "passed_time": 20.1717322,
            "remaining_time": 0.3697466187,
            "test": [
             0.5803535336,
             0.6101420892
            ]
           },
           {
            "iteration": 491,
            "learn": [
             0.3387829415
            ],
            "passed_time": 20.23858683,
            "remaining_time": 0.3290827127,
            "test": [
             0.5801600776,
             0.610244399
            ]
           },
           {
            "iteration": 492,
            "learn": [
             0.3383236476
            ],
            "passed_time": 20.30761345,
            "remaining_time": 0.2883433958,
            "test": [
             0.5796605569,
             0.6104966452
            ]
           },
           {
            "iteration": 493,
            "learn": [
             0.3379055536
            ],
            "passed_time": 20.37110888,
            "remaining_time": 0.2474223751,
            "test": [
             0.5798511255,
             0.6103724601
            ]
           },
           {
            "iteration": 494,
            "learn": [
             0.3376416929
            ],
            "passed_time": 20.43391027,
            "remaining_time": 0.206403134,
            "test": [
             0.5799290854,
             0.6103522646
            ]
           },
           {
            "iteration": 495,
            "learn": [
             0.3372119912
            ],
            "passed_time": 20.50195766,
            "remaining_time": 0.1653383682,
            "test": [
             0.5797904901,
             0.6104741524
            ]
           },
           {
            "iteration": 496,
            "learn": [
             0.3366581072
            ],
            "passed_time": 20.56587035,
            "remaining_time": 0.1241400625,
            "test": [
             0.5802380375,
             0.6103403599
            ]
           },
           {
            "iteration": 497,
            "learn": [
             0.3362095164
            ],
            "passed_time": 20.63359398,
            "remaining_time": 0.08286583929,
            "test": [
             0.5796634443,
             0.6105678554
            ]
           },
           {
            "iteration": 498,
            "learn": [
             0.3358712367
            ],
            "passed_time": 20.69534914,
            "remaining_time": 0.04147364556,
            "test": [
             0.5794382269,
             0.610789395
            ]
           },
           {
            "iteration": 499,
            "learn": [
             0.3354872859
            ],
            "passed_time": 20.75779973,
            "remaining_time": 0,
            "test": [
             0.5795912593,
             0.6108056968
            ]
           }
          ],
          "meta": {
           "iteration_count": 500,
           "launch_mode": "Train",
           "learn_metrics": [
            {
             "best_value": "Min",
             "name": "Logloss"
            }
           ],
           "learn_sets": [
            "learn"
           ],
           "name": "experiment",
           "parameters": "",
           "test_metrics": [
            {
             "best_value": "Max",
             "name": "AUC"
            },
            {
             "best_value": "Min",
             "name": "Logloss"
            }
           ],
           "test_sets": [
            "test"
           ]
          }
         },
         "passed_iterations": 499,
         "total_iterations": 500
        },
        "name": "catboost_info",
        "path": "catboost_info"
       }
      },
      "layout": "IPY_MODEL_c7cf6cd818a54b2ca4025fcea9fd1182"
     }
    }
   }
  }
 },
 "nbformat": 4,
 "nbformat_minor": 1
}
