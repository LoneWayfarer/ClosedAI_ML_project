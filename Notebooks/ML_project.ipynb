{
 "cells": [
  {
   "cell_type": "code",
   "execution_count": 3,
   "id": "bd785723",
   "metadata": {
    "colab": {
     "base_uri": "https://localhost:8080/"
    },
    "execution": {
     "iopub.execute_input": "2023-03-22T12:12:20.800204Z",
     "iopub.status.busy": "2023-03-22T12:12:20.797970Z",
     "iopub.status.idle": "2023-03-22T12:13:23.672676Z",
     "shell.execute_reply": "2023-03-22T12:13:23.671459Z",
     "shell.execute_reply.started": "2023-03-22T12:12:20.800160Z"
    },
    "id": "ye1pPuUoC3zT",
    "outputId": "c43c0d3e-12e3-4b0a-9428-79b22c1b3c8c"
   },
   "outputs": [
    {
     "name": "stdout",
     "output_type": "stream",
     "text": [
      "Requirement already satisfied: pytorch_lightning in /opt/conda/lib/python3.7/site-packages (1.9.3)\n",
      "Requirement already satisfied: lightning-utilities>=0.6.0.post0 in /opt/conda/lib/python3.7/site-packages (from pytorch_lightning) (0.7.1)\n",
      "Requirement already satisfied: torchmetrics>=0.7.0 in /opt/conda/lib/python3.7/site-packages (from pytorch_lightning) (0.11.1)\n",
      "Requirement already satisfied: PyYAML>=5.4 in /opt/conda/lib/python3.7/site-packages (from pytorch_lightning) (6.0)\n",
      "Requirement already satisfied: tqdm>=4.57.0 in /opt/conda/lib/python3.7/site-packages (from pytorch_lightning) (4.64.1)\n",
      "Requirement already satisfied: fsspec[http]>2021.06.0 in /opt/conda/lib/python3.7/site-packages (from pytorch_lightning) (2023.1.0)\n",
      "Requirement already satisfied: numpy>=1.17.2 in /opt/conda/lib/python3.7/site-packages (from pytorch_lightning) (1.21.6)\n",
      "Requirement already satisfied: typing-extensions>=4.0.0 in /opt/conda/lib/python3.7/site-packages (from pytorch_lightning) (4.4.0)\n",
      "Requirement already satisfied: packaging>=17.1 in /opt/conda/lib/python3.7/site-packages (from pytorch_lightning) (23.0)\n",
      "Requirement already satisfied: torch>=1.10.0 in /opt/conda/lib/python3.7/site-packages (from pytorch_lightning) (1.13.0)\n",
      "Requirement already satisfied: requests in /opt/conda/lib/python3.7/site-packages (from fsspec[http]>2021.06.0->pytorch_lightning) (2.28.2)\n",
      "Requirement already satisfied: aiohttp!=4.0.0a0,!=4.0.0a1 in /opt/conda/lib/python3.7/site-packages (from fsspec[http]>2021.06.0->pytorch_lightning) (3.8.3)\n",
      "Requirement already satisfied: importlib-metadata>=4.0.0 in /opt/conda/lib/python3.7/site-packages (from lightning-utilities>=0.6.0.post0->pytorch_lightning) (4.11.4)\n",
      "Requirement already satisfied: aiosignal>=1.1.2 in /opt/conda/lib/python3.7/site-packages (from aiohttp!=4.0.0a0,!=4.0.0a1->fsspec[http]>2021.06.0->pytorch_lightning) (1.3.1)\n",
      "Requirement already satisfied: asynctest==0.13.0 in /opt/conda/lib/python3.7/site-packages (from aiohttp!=4.0.0a0,!=4.0.0a1->fsspec[http]>2021.06.0->pytorch_lightning) (0.13.0)\n",
      "Requirement already satisfied: async-timeout<5.0,>=4.0.0a3 in /opt/conda/lib/python3.7/site-packages (from aiohttp!=4.0.0a0,!=4.0.0a1->fsspec[http]>2021.06.0->pytorch_lightning) (4.0.2)\n",
      "Requirement already satisfied: charset-normalizer<3.0,>=2.0 in /opt/conda/lib/python3.7/site-packages (from aiohttp!=4.0.0a0,!=4.0.0a1->fsspec[http]>2021.06.0->pytorch_lightning) (2.1.1)\n",
      "Requirement already satisfied: yarl<2.0,>=1.0 in /opt/conda/lib/python3.7/site-packages (from aiohttp!=4.0.0a0,!=4.0.0a1->fsspec[http]>2021.06.0->pytorch_lightning) (1.8.2)\n",
      "Requirement already satisfied: multidict<7.0,>=4.5 in /opt/conda/lib/python3.7/site-packages (from aiohttp!=4.0.0a0,!=4.0.0a1->fsspec[http]>2021.06.0->pytorch_lightning) (6.0.4)\n",
      "Requirement already satisfied: attrs>=17.3.0 in /opt/conda/lib/python3.7/site-packages (from aiohttp!=4.0.0a0,!=4.0.0a1->fsspec[http]>2021.06.0->pytorch_lightning) (22.2.0)\n",
      "Requirement already satisfied: frozenlist>=1.1.1 in /opt/conda/lib/python3.7/site-packages (from aiohttp!=4.0.0a0,!=4.0.0a1->fsspec[http]>2021.06.0->pytorch_lightning) (1.3.3)\n",
      "Requirement already satisfied: zipp>=0.5 in /opt/conda/lib/python3.7/site-packages (from importlib-metadata>=4.0.0->lightning-utilities>=0.6.0.post0->pytorch_lightning) (3.11.0)\n",
      "Requirement already satisfied: certifi>=2017.4.17 in /opt/conda/lib/python3.7/site-packages (from requests->fsspec[http]>2021.06.0->pytorch_lightning) (2022.12.7)\n",
      "Requirement already satisfied: idna<4,>=2.5 in /opt/conda/lib/python3.7/site-packages (from requests->fsspec[http]>2021.06.0->pytorch_lightning) (3.4)\n",
      "Requirement already satisfied: urllib3<1.27,>=1.21.1 in /opt/conda/lib/python3.7/site-packages (from requests->fsspec[http]>2021.06.0->pytorch_lightning) (1.26.14)\n",
      "\u001b[33mWARNING: Running pip as the 'root' user can result in broken permissions and conflicting behaviour with the system package manager. It is recommended to use a virtual environment instead: https://pip.pypa.io/warnings/venv\u001b[0m\u001b[33m\n",
      "\u001b[0mCollecting pytorch-lifestream\n",
      "  Downloading pytorch-lifestream-0.5.2.tar.gz (150 kB)\n",
      "\u001b[2K     \u001b[90m━━━━━━━━━━━━━━━━━━━━━━━━━━━━━━━━━━━━━━━\u001b[0m \u001b[32m150.3/150.3 kB\u001b[0m \u001b[31m3.9 MB/s\u001b[0m eta \u001b[36m0:00:00\u001b[0ma \u001b[36m0:00:01\u001b[0m\n",
      "\u001b[?25h  Installing build dependencies ... \u001b[?25ldone\n",
      "\u001b[?25h  Getting requirements to build wheel ... \u001b[?25ldone\n",
      "\u001b[?25h  Installing backend dependencies ... \u001b[?25ldone\n",
      "\u001b[?25h  Preparing metadata (pyproject.toml) ... \u001b[?25ldone\n",
      "\u001b[?25hCollecting pyarrow>=7.0\n",
      "  Downloading pyarrow-11.0.0-cp37-cp37m-manylinux_2_17_x86_64.manylinux2014_x86_64.whl (35.1 MB)\n",
      "\u001b[2K     \u001b[90m━━━━━━━━━━━━━━━━━━━━━━━━━━━━━━━━━━━━━━━━\u001b[0m \u001b[32m35.1/35.1 MB\u001b[0m \u001b[31m35.9 MB/s\u001b[0m eta \u001b[36m0:00:00\u001b[0m00:01\u001b[0m00:01\u001b[0m\n",
      "\u001b[?25hRequirement already satisfied: transformers==4.* in /opt/conda/lib/python3.7/site-packages (from pytorch-lifestream) (4.26.1)\n",
      "Collecting pytorch-lightning==1.6.*\n",
      "  Downloading pytorch_lightning-1.6.5-py3-none-any.whl (585 kB)\n",
      "\u001b[2K     \u001b[90m━━━━━━━━━━━━━━━━━━━━━━━━━━━━━━━━━━━━━━\u001b[0m \u001b[32m585.9/585.9 kB\u001b[0m \u001b[31m38.9 MB/s\u001b[0m eta \u001b[36m0:00:00\u001b[0m\n",
      "\u001b[?25hCollecting hydra-core>=1.1.2\n",
      "  Downloading hydra_core-1.3.2-py3-none-any.whl (154 kB)\n",
      "\u001b[2K     \u001b[90m━━━━━━━━━━━━━━━━━━━━━━━━━━━━━━━━━━━━━━\u001b[0m \u001b[32m154.5/154.5 kB\u001b[0m \u001b[31m13.7 MB/s\u001b[0m eta \u001b[36m0:00:00\u001b[0m\n",
      "\u001b[?25hRequirement already satisfied: tensorboard>=2.2.0 in /opt/conda/lib/python3.7/site-packages (from pytorch-lightning==1.6.*->pytorch-lifestream) (2.11.2)\n",
      "Requirement already satisfied: torch>=1.8.* in /opt/conda/lib/python3.7/site-packages (from pytorch-lightning==1.6.*->pytorch-lifestream) (1.13.0)\n",
      "Requirement already satisfied: packaging>=17.0 in /opt/conda/lib/python3.7/site-packages (from pytorch-lightning==1.6.*->pytorch-lifestream) (23.0)\n",
      "Requirement already satisfied: tqdm>=4.57.0 in /opt/conda/lib/python3.7/site-packages (from pytorch-lightning==1.6.*->pytorch-lifestream) (4.64.1)\n",
      "Collecting pyDeprecate>=0.3.1\n",
      "  Downloading pyDeprecate-0.3.2-py3-none-any.whl (10 kB)\n",
      "Requirement already satisfied: torchmetrics>=0.4.1 in /opt/conda/lib/python3.7/site-packages (from pytorch-lightning==1.6.*->pytorch-lifestream) (0.11.1)\n",
      "Requirement already satisfied: fsspec[http]!=2021.06.0,>=2021.05.0 in /opt/conda/lib/python3.7/site-packages (from pytorch-lightning==1.6.*->pytorch-lifestream) (2023.1.0)\n",
      "Requirement already satisfied: numpy>=1.17.2 in /opt/conda/lib/python3.7/site-packages (from pytorch-lightning==1.6.*->pytorch-lifestream) (1.21.6)\n",
      "Requirement already satisfied: typing-extensions>=4.0.0 in /opt/conda/lib/python3.7/site-packages (from pytorch-lightning==1.6.*->pytorch-lifestream) (4.4.0)\n",
      "Collecting protobuf<=3.20.1\n",
      "  Downloading protobuf-3.20.1-cp37-cp37m-manylinux_2_5_x86_64.manylinux1_x86_64.whl (1.0 MB)\n",
      "\u001b[2K     \u001b[90m━━━━━━━━━━━━━━━━━━━━━━━━━━━━━━━━━━━━━━━━\u001b[0m \u001b[32m1.0/1.0 MB\u001b[0m \u001b[31m50.1 MB/s\u001b[0m eta \u001b[36m0:00:00\u001b[0m\n",
      "\u001b[?25hRequirement already satisfied: PyYAML>=5.4 in /opt/conda/lib/python3.7/site-packages (from pytorch-lightning==1.6.*->pytorch-lifestream) (6.0)\n",
      "Requirement already satisfied: regex!=2019.12.17 in /opt/conda/lib/python3.7/site-packages (from transformers==4.*->pytorch-lifestream) (2021.11.10)\n",
      "Requirement already satisfied: tokenizers!=0.11.3,<0.14,>=0.11.1 in /opt/conda/lib/python3.7/site-packages (from transformers==4.*->pytorch-lifestream) (0.13.2)\n",
      "Requirement already satisfied: huggingface-hub<1.0,>=0.11.0 in /opt/conda/lib/python3.7/site-packages (from transformers==4.*->pytorch-lifestream) (0.12.1)\n",
      "Requirement already satisfied: importlib-metadata in /opt/conda/lib/python3.7/site-packages (from transformers==4.*->pytorch-lifestream) (4.11.4)\n",
      "Requirement already satisfied: filelock in /opt/conda/lib/python3.7/site-packages (from transformers==4.*->pytorch-lifestream) (3.9.0)\n",
      "Requirement already satisfied: requests in /opt/conda/lib/python3.7/site-packages (from transformers==4.*->pytorch-lifestream) (2.28.2)\n",
      "Collecting antlr4-python3-runtime==4.9.*\n",
      "  Downloading antlr4-python3-runtime-4.9.3.tar.gz (117 kB)\n",
      "\u001b[2K     \u001b[90m━━━━━━━━━━━━━━━━━━━━━━━━━━━━━━━━━━━━━━━\u001b[0m \u001b[32m117.0/117.0 kB\u001b[0m \u001b[31m9.1 MB/s\u001b[0m eta \u001b[36m0:00:00\u001b[0m\n",
      "\u001b[?25h  Preparing metadata (setup.py) ... \u001b[?25ldone\n",
      "\u001b[?25hRequirement already satisfied: importlib-resources in /opt/conda/lib/python3.7/site-packages (from hydra-core>=1.1.2->pytorch-lifestream) (5.10.2)\n",
      "Collecting omegaconf<2.4,>=2.2\n",
      "  Downloading omegaconf-2.3.0-py3-none-any.whl (79 kB)\n",
      "\u001b[2K     \u001b[90m━━━━━━━━━━━━━━━━━━━━━━━━━━━━━━━━━━━━━━━━\u001b[0m \u001b[32m79.5/79.5 kB\u001b[0m \u001b[31m7.5 MB/s\u001b[0m eta \u001b[36m0:00:00\u001b[0m\n",
      "\u001b[?25hRequirement already satisfied: aiohttp!=4.0.0a0,!=4.0.0a1 in /opt/conda/lib/python3.7/site-packages (from fsspec[http]!=2021.06.0,>=2021.05.0->pytorch-lightning==1.6.*->pytorch-lifestream) (3.8.3)\n",
      "Requirement already satisfied: wheel>=0.26 in /opt/conda/lib/python3.7/site-packages (from tensorboard>=2.2.0->pytorch-lightning==1.6.*->pytorch-lifestream) (0.38.4)\n",
      "Requirement already satisfied: werkzeug>=1.0.1 in /opt/conda/lib/python3.7/site-packages (from tensorboard>=2.2.0->pytorch-lightning==1.6.*->pytorch-lifestream) (2.2.3)\n",
      "Requirement already satisfied: google-auth<3,>=1.6.3 in /opt/conda/lib/python3.7/site-packages (from tensorboard>=2.2.0->pytorch-lightning==1.6.*->pytorch-lifestream) (1.35.0)\n",
      "Requirement already satisfied: tensorboard-plugin-wit>=1.6.0 in /opt/conda/lib/python3.7/site-packages (from tensorboard>=2.2.0->pytorch-lightning==1.6.*->pytorch-lifestream) (1.8.1)\n",
      "Requirement already satisfied: google-auth-oauthlib<0.5,>=0.4.1 in /opt/conda/lib/python3.7/site-packages (from tensorboard>=2.2.0->pytorch-lightning==1.6.*->pytorch-lifestream) (0.4.6)\n",
      "Requirement already satisfied: setuptools>=41.0.0 in /opt/conda/lib/python3.7/site-packages (from tensorboard>=2.2.0->pytorch-lightning==1.6.*->pytorch-lifestream) (59.8.0)\n",
      "Requirement already satisfied: markdown>=2.6.8 in /opt/conda/lib/python3.7/site-packages (from tensorboard>=2.2.0->pytorch-lightning==1.6.*->pytorch-lifestream) (3.4.1)\n",
      "Requirement already satisfied: absl-py>=0.4 in /opt/conda/lib/python3.7/site-packages (from tensorboard>=2.2.0->pytorch-lightning==1.6.*->pytorch-lifestream) (1.4.0)\n",
      "Requirement already satisfied: grpcio>=1.24.3 in /opt/conda/lib/python3.7/site-packages (from tensorboard>=2.2.0->pytorch-lightning==1.6.*->pytorch-lifestream) (1.51.1)\n",
      "Requirement already satisfied: tensorboard-data-server<0.7.0,>=0.6.0 in /opt/conda/lib/python3.7/site-packages (from tensorboard>=2.2.0->pytorch-lightning==1.6.*->pytorch-lifestream) (0.6.1)\n",
      "Requirement already satisfied: charset-normalizer<4,>=2 in /opt/conda/lib/python3.7/site-packages (from requests->transformers==4.*->pytorch-lifestream) (2.1.1)\n",
      "Requirement already satisfied: idna<4,>=2.5 in /opt/conda/lib/python3.7/site-packages (from requests->transformers==4.*->pytorch-lifestream) (3.4)\n",
      "Requirement already satisfied: urllib3<1.27,>=1.21.1 in /opt/conda/lib/python3.7/site-packages (from requests->transformers==4.*->pytorch-lifestream) (1.26.14)\n",
      "Requirement already satisfied: certifi>=2017.4.17 in /opt/conda/lib/python3.7/site-packages (from requests->transformers==4.*->pytorch-lifestream) (2022.12.7)\n",
      "Requirement already satisfied: zipp>=0.5 in /opt/conda/lib/python3.7/site-packages (from importlib-metadata->transformers==4.*->pytorch-lifestream) (3.11.0)\n",
      "Requirement already satisfied: async-timeout<5.0,>=4.0.0a3 in /opt/conda/lib/python3.7/site-packages (from aiohttp!=4.0.0a0,!=4.0.0a1->fsspec[http]!=2021.06.0,>=2021.05.0->pytorch-lightning==1.6.*->pytorch-lifestream) (4.0.2)\n",
      "Requirement already satisfied: multidict<7.0,>=4.5 in /opt/conda/lib/python3.7/site-packages (from aiohttp!=4.0.0a0,!=4.0.0a1->fsspec[http]!=2021.06.0,>=2021.05.0->pytorch-lightning==1.6.*->pytorch-lifestream) (6.0.4)\n",
      "Requirement already satisfied: aiosignal>=1.1.2 in /opt/conda/lib/python3.7/site-packages (from aiohttp!=4.0.0a0,!=4.0.0a1->fsspec[http]!=2021.06.0,>=2021.05.0->pytorch-lightning==1.6.*->pytorch-lifestream) (1.3.1)\n",
      "Requirement already satisfied: asynctest==0.13.0 in /opt/conda/lib/python3.7/site-packages (from aiohttp!=4.0.0a0,!=4.0.0a1->fsspec[http]!=2021.06.0,>=2021.05.0->pytorch-lightning==1.6.*->pytorch-lifestream) (0.13.0)\n",
      "Requirement already satisfied: frozenlist>=1.1.1 in /opt/conda/lib/python3.7/site-packages (from aiohttp!=4.0.0a0,!=4.0.0a1->fsspec[http]!=2021.06.0,>=2021.05.0->pytorch-lightning==1.6.*->pytorch-lifestream) (1.3.3)\n",
      "Requirement already satisfied: yarl<2.0,>=1.0 in /opt/conda/lib/python3.7/site-packages (from aiohttp!=4.0.0a0,!=4.0.0a1->fsspec[http]!=2021.06.0,>=2021.05.0->pytorch-lightning==1.6.*->pytorch-lifestream) (1.8.2)\n",
      "Requirement already satisfied: attrs>=17.3.0 in /opt/conda/lib/python3.7/site-packages (from aiohttp!=4.0.0a0,!=4.0.0a1->fsspec[http]!=2021.06.0,>=2021.05.0->pytorch-lightning==1.6.*->pytorch-lifestream) (22.2.0)\n",
      "Requirement already satisfied: pyasn1-modules>=0.2.1 in /opt/conda/lib/python3.7/site-packages (from google-auth<3,>=1.6.3->tensorboard>=2.2.0->pytorch-lightning==1.6.*->pytorch-lifestream) (0.2.8)\n",
      "Requirement already satisfied: cachetools<5.0,>=2.0.0 in /opt/conda/lib/python3.7/site-packages (from google-auth<3,>=1.6.3->tensorboard>=2.2.0->pytorch-lightning==1.6.*->pytorch-lifestream) (4.2.4)\n",
      "Requirement already satisfied: six>=1.9.0 in /opt/conda/lib/python3.7/site-packages (from google-auth<3,>=1.6.3->tensorboard>=2.2.0->pytorch-lightning==1.6.*->pytorch-lifestream) (1.16.0)\n",
      "Requirement already satisfied: rsa<5,>=3.1.4 in /opt/conda/lib/python3.7/site-packages (from google-auth<3,>=1.6.3->tensorboard>=2.2.0->pytorch-lightning==1.6.*->pytorch-lifestream) (4.9)\n",
      "Requirement already satisfied: requests-oauthlib>=0.7.0 in /opt/conda/lib/python3.7/site-packages (from google-auth-oauthlib<0.5,>=0.4.1->tensorboard>=2.2.0->pytorch-lightning==1.6.*->pytorch-lifestream) (1.3.1)\n",
      "Requirement already satisfied: MarkupSafe>=2.1.1 in /opt/conda/lib/python3.7/site-packages (from werkzeug>=1.0.1->tensorboard>=2.2.0->pytorch-lightning==1.6.*->pytorch-lifestream) (2.1.1)\n",
      "Requirement already satisfied: pyasn1<0.5.0,>=0.4.6 in /opt/conda/lib/python3.7/site-packages (from pyasn1-modules>=0.2.1->google-auth<3,>=1.6.3->tensorboard>=2.2.0->pytorch-lightning==1.6.*->pytorch-lifestream) (0.4.8)\n",
      "Requirement already satisfied: oauthlib>=3.0.0 in /opt/conda/lib/python3.7/site-packages (from requests-oauthlib>=0.7.0->google-auth-oauthlib<0.5,>=0.4.1->tensorboard>=2.2.0->pytorch-lightning==1.6.*->pytorch-lifestream) (3.2.2)\n",
      "Building wheels for collected packages: pytorch-lifestream, antlr4-python3-runtime\n",
      "  Building wheel for pytorch-lifestream (pyproject.toml) ... \u001b[?25ldone\n",
      "\u001b[?25h  Created wheel for pytorch-lifestream: filename=pytorch_lifestream-0.5.2-py3-none-any.whl size=256963 sha256=8dad8fbce6dbdfca602b4e19c446cdf74b761d6d1d58b62c693b6ba4b15fe778\n",
      "  Stored in directory: /root/.cache/pip/wheels/8c/8a/ec/312fe1238ea643a3810f39f5c598172afc13ad24deaa056acf\n",
      "  Building wheel for antlr4-python3-runtime (setup.py) ... \u001b[?25ldone\n",
      "\u001b[?25h  Created wheel for antlr4-python3-runtime: filename=antlr4_python3_runtime-4.9.3-py3-none-any.whl size=144575 sha256=b777e99633007cb70467fb6f48fa41b1202fc764baf6322bb251dab76c56703d\n",
      "  Stored in directory: /root/.cache/pip/wheels/a9/8b/1f/b8233836d5798e3224c2442947e9639f220095de8bf46e800c\n",
      "Successfully built pytorch-lifestream antlr4-python3-runtime\n",
      "Installing collected packages: antlr4-python3-runtime, pyDeprecate, pyarrow, protobuf, omegaconf, hydra-core, pytorch-lightning, pytorch-lifestream\n",
      "  Attempting uninstall: pyarrow\n",
      "    Found existing installation: pyarrow 5.0.0\n",
      "    Uninstalling pyarrow-5.0.0:\n",
      "      Successfully uninstalled pyarrow-5.0.0\n",
      "  Attempting uninstall: protobuf\n",
      "    Found existing installation: protobuf 3.20.3\n",
      "    Uninstalling protobuf-3.20.3:\n",
      "      Successfully uninstalled protobuf-3.20.3\n",
      "  Attempting uninstall: pytorch-lightning\n",
      "    Found existing installation: pytorch-lightning 1.9.3\n",
      "    Uninstalling pytorch-lightning-1.9.3:\n",
      "      Successfully uninstalled pytorch-lightning-1.9.3\n",
      "\u001b[31mERROR: pip's dependency resolver does not currently take into account all the packages that are installed. This behaviour is the source of the following dependency conflicts.\n",
      "cudf 21.12.2 requires cupy-cuda115, which is not installed.\n",
      "tfx-bsl 1.12.0 requires google-api-python-client<2,>=1.7.11, but you have google-api-python-client 2.79.0 which is incompatible.\n",
      "tfx-bsl 1.12.0 requires pyarrow<7,>=6, but you have pyarrow 11.0.0 which is incompatible.\n",
      "tensorflow 2.11.0 requires protobuf<3.20,>=3.9.2, but you have protobuf 3.20.1 which is incompatible.\n",
      "tensorflow-transform 1.12.0 requires pyarrow<7,>=6, but you have pyarrow 11.0.0 which is incompatible.\n",
      "tensorflow-serving-api 2.11.0 requires protobuf<3.20,>=3.9.2, but you have protobuf 3.20.1 which is incompatible.\n",
      "onnx 1.13.1 requires protobuf<4,>=3.20.2, but you have protobuf 3.20.1 which is incompatible.\n",
      "grpc-google-iam-v1 0.12.6 requires protobuf!=3.20.0,!=3.20.1,!=4.21.1,!=4.21.2,!=4.21.3,!=4.21.4,!=4.21.5,<5.0.0dev,>=3.19.5, but you have protobuf 3.20.1 which is incompatible.\n",
      "googleapis-common-protos 1.58.0 requires protobuf!=3.20.0,!=3.20.1,!=4.21.1,!=4.21.2,!=4.21.3,!=4.21.4,!=4.21.5,<5.0.0dev,>=3.19.5, but you have protobuf 3.20.1 which is incompatible.\n",
      "google-cloud-videointelligence 2.8.3 requires protobuf!=3.20.0,!=3.20.1,!=4.21.0,!=4.21.1,!=4.21.2,!=4.21.3,!=4.21.4,!=4.21.5,<5.0.0dev,>=3.19.5, but you have protobuf 3.20.1 which is incompatible.\n",
      "google-cloud-translate 3.8.4 requires protobuf!=3.20.0,!=3.20.1,!=4.21.0,!=4.21.1,!=4.21.2,!=4.21.3,!=4.21.4,!=4.21.5,<5.0.0dev,>=3.19.5, but you have protobuf 3.20.1 which is incompatible.\n",
      "google-cloud-spanner 3.27.0 requires protobuf!=3.20.0,!=3.20.1,!=4.21.0,!=4.21.1,!=4.21.2,!=4.21.3,!=4.21.4,!=4.21.5,<5.0.0dev,>=3.19.5, but you have protobuf 3.20.1 which is incompatible.\n",
      "google-cloud-resource-manager 1.8.1 requires protobuf!=3.20.0,!=3.20.1,!=4.21.0,!=4.21.1,!=4.21.2,!=4.21.3,!=4.21.4,!=4.21.5,<5.0.0dev,>=3.19.5, but you have protobuf 3.20.1 which is incompatible.\n",
      "google-cloud-pubsub 2.14.0 requires protobuf!=3.20.0,!=3.20.1,!=4.21.0,!=4.21.1,!=4.21.2,!=4.21.3,!=4.21.4,!=4.21.5,<5.0.0dev,>=3.19.5, but you have protobuf 3.20.1 which is incompatible.\n",
      "google-cloud-monitoring 2.14.1 requires protobuf!=3.20.0,!=3.20.1,!=4.21.0,!=4.21.1,!=4.21.2,!=4.21.3,!=4.21.4,!=4.21.5,<5.0.0dev,>=3.19.5, but you have protobuf 3.20.1 which is incompatible.\n",
      "google-cloud-language 2.6.1 requires protobuf!=3.20.0,!=3.20.1,!=4.21.0,!=4.21.1,!=4.21.2,!=4.21.3,!=4.21.4,!=4.21.5,<5.0.0dev,>=3.19.5, but you have protobuf 3.20.1 which is incompatible.\n",
      "google-cloud-dlp 3.11.1 requires protobuf!=3.20.0,!=3.20.1,!=4.21.0,!=4.21.1,!=4.21.2,!=4.21.3,!=4.21.4,!=4.21.5,<5.0.0dev,>=3.19.5, but you have protobuf 3.20.1 which is incompatible.\n",
      "google-api-core 1.34.0 requires protobuf!=3.20.0,!=3.20.1,!=4.21.0,!=4.21.1,!=4.21.2,!=4.21.3,!=4.21.4,!=4.21.5,<4.0.0dev,>=3.19.5, but you have protobuf 3.20.1 which is incompatible.\n",
      "apache-beam 2.44.0 requires dill<0.3.2,>=0.3.1.1, but you have dill 0.3.6 which is incompatible.\n",
      "apache-beam 2.44.0 requires pyarrow<10.0.0,>=0.15.1, but you have pyarrow 11.0.0 which is incompatible.\u001b[0m\u001b[31m\n",
      "\u001b[0mSuccessfully installed antlr4-python3-runtime-4.9.3 hydra-core-1.3.2 omegaconf-2.3.0 protobuf-3.20.1 pyDeprecate-0.3.2 pyarrow-11.0.0 pytorch-lifestream-0.5.2 pytorch-lightning-1.6.5\n",
      "\u001b[33mWARNING: Running pip as the 'root' user can result in broken permissions and conflicting behaviour with the system package manager. It is recommended to use a virtual environment instead: https://pip.pypa.io/warnings/venv\u001b[0m\u001b[33m\n",
      "\u001b[0m"
     ]
    }
   ],
   "source": [
    "!pip install pytorch_lightning\n",
    "!pip install pytorch-lifestream"
   ]
  },
  {
   "cell_type": "code",
   "execution_count": 7,
   "id": "960b9699",
   "metadata": {
    "execution": {
     "iopub.execute_input": "2023-03-22T12:13:23.676154Z",
     "iopub.status.busy": "2023-03-22T12:13:23.675346Z",
     "iopub.status.idle": "2023-03-22T12:13:35.248967Z",
     "shell.execute_reply": "2023-03-22T12:13:35.247882Z",
     "shell.execute_reply.started": "2023-03-22T12:13:23.676108Z"
    },
    "id": "c7ff1202"
   },
   "outputs": [
    {
     "name": "stderr",
     "output_type": "stream",
     "text": [
      "2023-03-24 00:13:14.460947: I tensorflow/core/platform/cpu_feature_guard.cc:193] This TensorFlow binary is optimized with oneAPI Deep Neural Network Library (oneDNN) to use the following CPU instructions in performance-critical operations:  AVX2 FMA\n",
      "To enable them in other operations, rebuild TensorFlow with the appropriate compiler flags.\n"
     ]
    }
   ],
   "source": [
    "import pandas as pd\n",
    "import os\n",
    "import torch\n",
    "import pytorch_lightning as pl"
   ]
  },
  {
   "cell_type": "code",
   "execution_count": null,
   "id": "8aa8f734",
   "metadata": {},
   "outputs": [],
   "source": [
    "!ls"
   ]
  },
  {
   "cell_type": "code",
   "execution_count": 18,
   "id": "c1b602fa",
   "metadata": {
    "colab": {
     "base_uri": "https://localhost:8080/"
    },
    "id": "6uukiVKn0hpY",
    "outputId": "2ab87bf6-af9c-493b-e3fe-d8bb2c299ad2"
   },
   "outputs": [
    {
     "name": "stdout",
     "output_type": "stream",
     "text": [
      "  % Total    % Received % Xferd  Average Speed   Time    Time     Time  Current\n",
      "                                 Dload  Upload   Total   Spent    Left  Speed\n",
      "  0     0    0     0    0     0      0      0 --:--:-- --:--:-- --:--:--     0\n",
      "curl: (60) SSL certificate problem: self signed certificate in certificate chain\n",
      "More details here: https://curl.se/docs/sslcerts.html\n",
      "\n",
      "curl failed to verify the legitimacy of the server and therefore could not\n",
      "establish a secure connection to it. To learn more about this situation and\n",
      "how to fix it, please visit the web page mentioned above.\n"
     ]
    }
   ],
   "source": [
    "import os\n",
    "\n",
    "if not os.path.exists('data/transactions.csv'):\n",
    "#    ! mkdir -p data\n",
    "#    ! curl -OL https://storage.yandexcloud.net/datasouls-ods/materials/0433a4ca/transactions.zip\n",
    "#    ! curl -OL https://storage.yandexcloud.net/datasouls-ods/materials/0554f0cf/clickstream.zip\n",
    "    ! curl -OL https://storage.yandexcloud.net/datasouls-ods/materials/e756bf99/train.csv\n",
    " #   ! unzip clickstream.zip -d data\n",
    "  #  ! unzip transactions.zip \n",
    " #   ! cp train.csv data"
   ]
  },
  {
   "cell_type": "code",
   "execution_count": 20,
   "id": "f42ef832",
   "metadata": {},
   "outputs": [
    {
     "name": "stdout",
     "output_type": "stream",
     "text": [
      "  % Total    % Received % Xferd  Average Speed   Time    Time     Time  Current\n",
      "                                 Dload  Upload   Total   Spent    Left  Speed\n",
      "  0     0    0     0    0     0      0      0 --:--:-- --:--:-- --:--:--     0\n",
      "curl: (60) SSL certificate problem: self signed certificate in certificate chain\n",
      "More details here: https://curl.se/docs/sslcerts.html\n",
      "\n",
      "curl failed to verify the legitimacy of the server and therefore could not\n",
      "establish a secure connection to it. To learn more about this situation and\n",
      "how to fix it, please visit the web page mentioned above.\n"
     ]
    }
   ],
   "source": [
    "! curl -OL https://storage.yandexcloud.net/datasouls-ods/materials/e756bf99/train.csv"
   ]
  },
  {
   "cell_type": "code",
   "execution_count": null,
   "id": "c5a68d13",
   "metadata": {},
   "outputs": [],
   "source": [
    "mkdir data\n",
    "\n",
    "curl -OLhttps://storage.yandexcloud.net/datasouls-ods/materials/0433a4ca/transactions.zip\n",
    "unzip transactions.zip -d data\n",
    "mv transactions.zip data/"
   ]
  },
  {
   "cell_type": "code",
   "execution_count": 9,
   "id": "fc8a21a1",
   "metadata": {
    "execution": {
     "iopub.execute_input": "2023-03-17T12:25:42.375859Z",
     "iopub.status.busy": "2023-03-17T12:25:42.374705Z",
     "iopub.status.idle": "2023-03-17T12:25:59.869152Z",
     "shell.execute_reply": "2023-03-17T12:25:59.867996Z",
     "shell.execute_reply.started": "2023-03-17T12:25:42.375818Z"
    },
    "id": "f5d822a7"
   },
   "outputs": [],
   "source": [
    "transactions = pd.read_csv('transactions.csv')"
   ]
  },
  {
   "cell_type": "code",
   "execution_count": 10,
   "id": "9b8aa476",
   "metadata": {},
   "outputs": [
    {
     "data": {
      "text/plain": [
       "22533"
      ]
     },
     "execution_count": 10,
     "metadata": {},
     "output_type": "execute_result"
    }
   ],
   "source": [
    "transactions.user_id.nunique()"
   ]
  },
  {
   "cell_type": "code",
   "execution_count": 5,
   "id": "9961e309",
   "metadata": {
    "execution": {
     "iopub.execute_input": "2023-03-17T12:25:59.871659Z",
     "iopub.status.busy": "2023-03-17T12:25:59.871215Z",
     "iopub.status.idle": "2023-03-17T12:26:04.247015Z",
     "shell.execute_reply": "2023-03-17T12:26:04.245568Z",
     "shell.execute_reply.started": "2023-03-17T12:25:59.871616Z"
    },
    "id": "ea57e1ad"
   },
   "outputs": [],
   "source": [
    "transactions.transaction_dttm = pd.to_datetime(transactions.transaction_dttm)"
   ]
  },
  {
   "cell_type": "code",
   "execution_count": 6,
   "id": "06464dd9",
   "metadata": {
    "execution": {
     "iopub.execute_input": "2023-03-17T12:26:04.249591Z",
     "iopub.status.busy": "2023-03-17T12:26:04.249162Z",
     "iopub.status.idle": "2023-03-17T12:26:04.691871Z",
     "shell.execute_reply": "2023-03-17T12:26:04.690699Z",
     "shell.execute_reply.started": "2023-03-17T12:26:04.249543Z"
    },
    "id": "27bdf744"
   },
   "outputs": [],
   "source": [
    "from ptls.preprocessing import PandasDataPreprocessor"
   ]
  },
  {
   "cell_type": "code",
   "execution_count": 7,
   "id": "d3e375c9",
   "metadata": {
    "execution": {
     "iopub.execute_input": "2023-03-17T12:26:04.694327Z",
     "iopub.status.busy": "2023-03-17T12:26:04.693906Z",
     "iopub.status.idle": "2023-03-17T12:26:04.700893Z",
     "shell.execute_reply": "2023-03-17T12:26:04.699517Z",
     "shell.execute_reply.started": "2023-03-17T12:26:04.694283Z"
    },
    "id": "bc9fe42f"
   },
   "outputs": [],
   "source": [
    "preprocessor = PandasDataPreprocessor(\n",
    "    col_id='user_id',\n",
    "    col_event_time='transaction_dttm',\n",
    "    event_time_transformation='dt_to_timestamp',\n",
    "    cols_category=['mcc_code', 'currency_rk'],\n",
    "    cols_numerical=['transaction_amt'],\n",
    "    return_records=True,\n",
    ")"
   ]
  },
  {
   "cell_type": "code",
   "execution_count": 8,
   "id": "84222da4",
   "metadata": {
    "colab": {
     "base_uri": "https://localhost:8080/"
    },
    "execution": {
     "iopub.execute_input": "2023-03-17T12:26:04.706684Z",
     "iopub.status.busy": "2023-03-17T12:26:04.705918Z",
     "iopub.status.idle": "2023-03-17T12:27:42.404712Z",
     "shell.execute_reply": "2023-03-17T12:27:42.403549Z",
     "shell.execute_reply.started": "2023-03-17T12:26:04.706638Z"
    },
    "id": "81baac86",
    "outputId": "3653a364-60b7-4556-b336-eedc6ba229bd"
   },
   "outputs": [
    {
     "name": "stderr",
     "output_type": "stream",
     "text": [
      "/opt/conda/lib/python3.7/site-packages/ptls/preprocessing/pandas/event_time.py:8: FutureWarning: casting datetime64[ns] values to int64 with .astype(...) is deprecated and will raise in a future version. Use .view(...) instead.\n",
      "  return pd.to_datetime(x).astype('datetime64[s]').astype('int64') // 1000000000\n"
     ]
    },
    {
     "name": "stdout",
     "output_type": "stream",
     "text": [
      "CPU times: user 1min 26s, sys: 10.9 s, total: 1min 37s\n",
      "Wall time: 1min 37s\n"
     ]
    }
   ],
   "source": [
    "%%time \n",
    "dataset = preprocessor.fit_transform(transactions)"
   ]
  },
  {
   "cell_type": "code",
   "execution_count": 9,
   "id": "8c986b7e",
   "metadata": {
    "execution": {
     "iopub.execute_input": "2023-03-17T12:27:42.407416Z",
     "iopub.status.busy": "2023-03-17T12:27:42.406333Z",
     "iopub.status.idle": "2023-03-17T12:27:42.413534Z",
     "shell.execute_reply": "2023-03-17T12:27:42.412425Z",
     "shell.execute_reply.started": "2023-03-17T12:27:42.407374Z"
    },
    "id": "121f34d7"
   },
   "outputs": [],
   "source": [
    "import pickle\n",
    "\n",
    "with open('preprocessor.p', 'wb') as f:\n",
    "    pickle.dump(preprocessor, f)"
   ]
  },
  {
   "cell_type": "code",
   "execution_count": 10,
   "id": "a6add93b",
   "metadata": {
    "execution": {
     "iopub.execute_input": "2023-03-17T12:27:42.415341Z",
     "iopub.status.busy": "2023-03-17T12:27:42.414889Z",
     "iopub.status.idle": "2023-03-17T12:27:42.430725Z",
     "shell.execute_reply": "2023-03-17T12:27:42.429805Z",
     "shell.execute_reply.started": "2023-03-17T12:27:42.415300Z"
    },
    "id": "244f0fab"
   },
   "outputs": [],
   "source": [
    "dataset = sorted(dataset, key = lambda x: x['user_id'])"
   ]
  },
  {
   "cell_type": "code",
   "execution_count": 11,
   "id": "4a76939e",
   "metadata": {
    "colab": {
     "base_uri": "https://localhost:8080/"
    },
    "execution": {
     "iopub.execute_input": "2023-03-17T12:27:42.432404Z",
     "iopub.status.busy": "2023-03-17T12:27:42.432061Z",
     "iopub.status.idle": "2023-03-17T12:27:42.475456Z",
     "shell.execute_reply": "2023-03-17T12:27:42.474247Z",
     "shell.execute_reply.started": "2023-03-17T12:27:42.432364Z"
    },
    "id": "e1cfdd64",
    "outputId": "50bc8949-ff65-434e-b5b0-690614aee290"
   },
   "outputs": [
    {
     "data": {
      "text/plain": [
       "(18026, 4507)"
      ]
     },
     "execution_count": 11,
     "metadata": {},
     "output_type": "execute_result"
    }
   ],
   "source": [
    "from sklearn.model_selection import train_test_split\n",
    "\n",
    "train, test = train_test_split(dataset, test_size=0.2, random_state=42)\n",
    "\n",
    "len(train), len(test)"
   ]
  },
  {
   "cell_type": "markdown",
   "id": "319d3bf3",
   "metadata": {
    "id": "46ad857e"
   },
   "source": [
    "Embedding training"
   ]
  },
  {
   "cell_type": "code",
   "execution_count": 12,
   "id": "ec3f30d3",
   "metadata": {
    "colab": {
     "base_uri": "https://localhost:8080/"
    },
    "execution": {
     "iopub.execute_input": "2023-03-17T12:27:42.477116Z",
     "iopub.status.busy": "2023-03-17T12:27:42.476727Z",
     "iopub.status.idle": "2023-03-17T12:27:45.754472Z",
     "shell.execute_reply": "2023-03-17T12:27:45.753529Z",
     "shell.execute_reply.started": "2023-03-17T12:27:42.477071Z"
    },
    "id": "f9p-YQxpcozz",
    "outputId": "0a709ec0-ee48-428b-8073-02abd569aee2"
   },
   "outputs": [
    {
     "data": {
      "text/plain": [
       "(386, 4, 12787367)"
      ]
     },
     "execution_count": 12,
     "metadata": {},
     "output_type": "execute_result"
    }
   ],
   "source": [
    "transactions.mcc_code.nunique(), transactions.currency_rk.nunique(), transactions.transaction_dttm.nunique()"
   ]
  },
  {
   "cell_type": "code",
   "execution_count": 13,
   "id": "4f14056c",
   "metadata": {
    "execution": {
     "iopub.execute_input": "2023-03-17T12:27:45.761241Z",
     "iopub.status.busy": "2023-03-17T12:27:45.758718Z",
     "iopub.status.idle": "2023-03-17T12:27:45.864951Z",
     "shell.execute_reply": "2023-03-17T12:27:45.863954Z",
     "shell.execute_reply.started": "2023-03-17T12:27:45.761200Z"
    },
    "id": "61cb0c24"
   },
   "outputs": [],
   "source": [
    "from functools import partial\n",
    "from ptls.nn import TrxEncoder, RnnSeqEncoder\n",
    "from ptls.frames.coles import CoLESModule\n",
    "\n",
    "trx_encoder_params = dict(\n",
    "    embeddings_noise=0.003,\n",
    "    numeric_values={'transaction_amt': 'identity'},\n",
    "    embeddings={\n",
    "        'event_time': {'in': 800, 'out': 16},\n",
    "        'mcc_code': {'in': 450, 'out': 16},\n",
    "        'currency_rk':{'in': 4, 'out': 2}\n",
    "    },\n",
    ")\n",
    "\n",
    "seq_encoder = RnnSeqEncoder(\n",
    "    trx_encoder=TrxEncoder(**trx_encoder_params),\n",
    "    hidden_size=256,\n",
    "    type='gru',\n",
    ")\n",
    "\n",
    "model = CoLESModule(\n",
    "    seq_encoder=seq_encoder,\n",
    "    optimizer_partial=partial(torch.optim.Adam, lr=0.001),\n",
    "    lr_scheduler_partial=partial(torch.optim.lr_scheduler.StepLR, step_size=30, gamma=0.9),\n",
    ")"
   ]
  },
  {
   "cell_type": "code",
   "execution_count": 14,
   "id": "9ee4ec48",
   "metadata": {
    "execution": {
     "iopub.execute_input": "2023-03-17T12:27:45.867213Z",
     "iopub.status.busy": "2023-03-17T12:27:45.866540Z",
     "iopub.status.idle": "2023-03-17T12:27:45.950984Z",
     "shell.execute_reply": "2023-03-17T12:27:45.950092Z",
     "shell.execute_reply.started": "2023-03-17T12:27:45.867174Z"
    },
    "id": "52847d04"
   },
   "outputs": [],
   "source": [
    "from ptls.data_load.datasets import MemoryMapDataset\n",
    "from ptls.data_load.iterable_processing import SeqLenFilter\n",
    "from ptls.frames.coles import ColesDataset\n",
    "from ptls.frames.coles.split_strategy import SampleSlices\n",
    "from ptls.frames import PtlsDataModule\n",
    "\n",
    "train_dl = PtlsDataModule(\n",
    "    train_data=ColesDataset(\n",
    "        MemoryMapDataset(\n",
    "            data=train,\n",
    "            i_filters=[\n",
    "                SeqLenFilter(min_seq_len=25),\n",
    "            ],\n",
    "        ),\n",
    "        splitter=SampleSlices(\n",
    "            split_count=5,\n",
    "            cnt_min=25,\n",
    "            cnt_max=200,\n",
    "        ),\n",
    "    ),\n",
    "    train_num_workers=2,\n",
    "    train_batch_size=256,\n",
    ")"
   ]
  },
  {
   "cell_type": "code",
   "execution_count": 15,
   "id": "224bd85f",
   "metadata": {
    "colab": {
     "base_uri": "https://localhost:8080/"
    },
    "execution": {
     "iopub.execute_input": "2023-03-17T12:27:45.955827Z",
     "iopub.status.busy": "2023-03-17T12:27:45.955115Z",
     "iopub.status.idle": "2023-03-17T12:27:46.082147Z",
     "shell.execute_reply": "2023-03-17T12:27:46.080463Z",
     "shell.execute_reply.started": "2023-03-17T12:27:45.955788Z"
    },
    "id": "06533c4b",
    "outputId": "6bd395bd-2237-4440-bfe2-d6afa4bacb67"
   },
   "outputs": [],
   "source": [
    "\n",
    "\n",
    "import logging\n",
    "\n",
    "trainer = pl.Trainer(\n",
    "    max_epochs=15,\n",
    "    gpus=1 if torch.cuda.is_available() else 0,\n",
    "    enable_progress_bar=False,\n",
    ")"
   ]
  },
  {
   "cell_type": "code",
   "execution_count": 16,
   "id": "c1983094",
   "metadata": {
    "colab": {
     "base_uri": "https://localhost:8080/"
    },
    "execution": {
     "iopub.execute_input": "2023-03-17T12:27:46.088012Z",
     "iopub.status.busy": "2023-03-17T12:27:46.087657Z",
     "iopub.status.idle": "2023-03-17T12:32:49.017352Z",
     "shell.execute_reply": "2023-03-17T12:32:49.015065Z",
     "shell.execute_reply.started": "2023-03-17T12:27:46.087980Z"
    },
    "id": "b797f872",
    "outputId": "c539c38d-0513-4f2f-afd9-97c633a2bb50"
   },
   "outputs": [
    {
     "name": "stdout",
     "output_type": "stream",
     "text": [
      "logger.version = 0\n"
     ]
    },
    {
     "name": "stderr",
     "output_type": "stream",
     "text": [
      "/opt/conda/lib/python3.7/site-packages/pytorch_lightning/trainer/configuration_validator.py:133: UserWarning: You defined a `validation_step` but have no `val_dataloader`. Skipping val loop.\n",
      "  rank_zero_warn(\"You defined a `validation_step` but have no `val_dataloader`. Skipping val loop.\")\n"
     ]
    },
    {
     "name": "stdout",
     "output_type": "stream",
     "text": [
      "{'loss': tensor(138.5396), 'seq_len': tensor(116.5208)}\n",
      "CPU times: user 4min 8s, sys: 15.9 s, total: 4min 24s\n",
      "Wall time: 5min 2s\n"
     ]
    }
   ],
   "source": [
    "%%time\n",
    "print(f'logger.version = {trainer.logger.version}')\n",
    "trainer.fit(model, train_dl)\n",
    "print(trainer.logged_metrics)"
   ]
  },
  {
   "cell_type": "code",
   "execution_count": 17,
   "id": "2bdeea07",
   "metadata": {
    "execution": {
     "iopub.execute_input": "2023-03-17T12:32:49.020046Z",
     "iopub.status.busy": "2023-03-17T12:32:49.019619Z",
     "iopub.status.idle": "2023-03-17T12:32:49.030312Z",
     "shell.execute_reply": "2023-03-17T12:32:49.029314Z",
     "shell.execute_reply.started": "2023-03-17T12:32:49.019996Z"
    },
    "id": "96863962"
   },
   "outputs": [],
   "source": [
    "torch.save(seq_encoder.state_dict(), \"coles_emb.pt\")"
   ]
  },
  {
   "cell_type": "code",
   "execution_count": 18,
   "id": "179a0393",
   "metadata": {
    "colab": {
     "base_uri": "https://localhost:8080/"
    },
    "execution": {
     "iopub.execute_input": "2023-03-17T12:32:49.033493Z",
     "iopub.status.busy": "2023-03-17T12:32:49.032547Z",
     "iopub.status.idle": "2023-03-17T12:33:04.086928Z",
     "shell.execute_reply": "2023-03-17T12:33:04.085895Z",
     "shell.execute_reply.started": "2023-03-17T12:32:49.033349Z"
    },
    "id": "90e8b161",
    "outputId": "6ff0fdf5-267b-4f75-d8a4-39aaabe3f61a"
   },
   "outputs": [
    {
     "name": "stderr",
     "output_type": "stream",
     "text": [
      "/opt/conda/lib/python3.7/site-packages/pytorch_lightning/loops/epoch/prediction_epoch_loop.py:175: UserWarning: Lightning couldn't infer the indices fetched for your dataloader.\n",
      "  warning_cache.warn(\"Lightning couldn't infer the indices fetched for your dataloader.\")\n"
     ]
    },
    {
     "data": {
      "text/plain": [
       "(torch.Size([18026, 256]), torch.Size([4507, 256]))"
      ]
     },
     "execution_count": 18,
     "metadata": {},
     "output_type": "execute_result"
    }
   ],
   "source": [
    "from ptls.data_load.datasets import inference_data_loader\n",
    "\n",
    "train_dl = inference_data_loader(train, num_workers=0, batch_size=256)\n",
    "train_embeds = torch.vstack(trainer.predict(model, train_dl, ))\n",
    "\n",
    "test_dl = inference_data_loader(test, num_workers=0, batch_size=256)\n",
    "test_embeds = torch.vstack(trainer.predict(model, test_dl))\n",
    "\n",
    "train_embeds.shape, test_embeds.shape"
   ]
  },
  {
   "cell_type": "markdown",
   "id": "f4e5dfc3",
   "metadata": {
    "id": "r-2eZu8ZbG6r"
   },
   "source": [
    "Готово!"
   ]
  },
  {
   "cell_type": "code",
   "execution_count": 19,
   "id": "8b82587e",
   "metadata": {
    "execution": {
     "iopub.execute_input": "2023-03-17T12:33:04.091734Z",
     "iopub.status.busy": "2023-03-17T12:33:04.091422Z",
     "iopub.status.idle": "2023-03-17T12:33:19.771620Z",
     "shell.execute_reply": "2023-03-17T12:33:19.770376Z",
     "shell.execute_reply.started": "2023-03-17T12:33:04.091706Z"
    },
    "id": "1vcOn8STbFnt"
   },
   "outputs": [
    {
     "name": "stdout",
     "output_type": "stream",
     "text": [
      "(18026, 258) (4507, 258)\n"
     ]
    }
   ],
   "source": [
    "df_target = pd.read_csv( 'data/train.csv')\n",
    "df_target.rename(columns={'bank':'user_id'},inplace=True)\n",
    "df_target = df_target.set_index('user_id')\n",
    "\n",
    "train_df = pd.DataFrame(data=train_embeds, columns=[f'embed_{i}' for i in range(train_embeds.shape[1])])\n",
    "train_df['user_id'] = [x['user_id'] for x in train]\n",
    "train_df = train_df.merge(df_target, how='left', on='user_id')\n",
    "\n",
    "test_df = pd.DataFrame(data=test_embeds, columns=[f'embed_{i}' for i in range(test_embeds.shape[1])])\n",
    "test_df['user_id'] = [x['user_id'] for x in test]\n",
    "test_df = test_df.merge(df_target, how='left', on='user_id')\n",
    "\n",
    "print(train_df.shape, test_df.shape)"
   ]
  },
  {
   "cell_type": "code",
   "execution_count": 20,
   "id": "384249be",
   "metadata": {
    "colab": {
     "base_uri": "https://localhost:8080/"
    },
    "execution": {
     "iopub.execute_input": "2023-03-17T12:33:19.774375Z",
     "iopub.status.busy": "2023-03-17T12:33:19.773596Z",
     "iopub.status.idle": "2023-03-17T12:33:24.301258Z",
     "shell.execute_reply": "2023-03-17T12:33:24.299994Z",
     "shell.execute_reply.started": "2023-03-17T12:33:19.774332Z"
    },
    "id": "96db219c",
    "outputId": "78e8a2e4-dccd-45e5-e765-4de92054f29e"
   },
   "outputs": [
    {
     "name": "stdout",
     "output_type": "stream",
     "text": [
      "(6838, 258) (1671, 258)\n"
     ]
    }
   ],
   "source": [
    "train_df.dropna(inplace=True)\n",
    "test_df.dropna(inplace=True)\n",
    "print(train_df.shape, test_df.shape)"
   ]
  },
  {
   "cell_type": "code",
   "execution_count": 55,
   "id": "5a7e1969",
   "metadata": {
    "execution": {
     "iopub.execute_input": "2023-03-17T12:51:22.147672Z",
     "iopub.status.busy": "2023-03-17T12:51:22.146924Z",
     "iopub.status.idle": "2023-03-17T12:51:22.166956Z",
     "shell.execute_reply": "2023-03-17T12:51:22.166002Z",
     "shell.execute_reply.started": "2023-03-17T12:51:22.147621Z"
    }
   },
   "outputs": [],
   "source": [
    "testdf= test_df.copy()\n",
    "traindf = train_df.copy()"
   ]
  },
  {
   "cell_type": "code",
   "execution_count": 56,
   "id": "dccb9498",
   "metadata": {
    "execution": {
     "iopub.execute_input": "2023-03-17T12:51:30.558234Z",
     "iopub.status.busy": "2023-03-17T12:51:30.557856Z",
     "iopub.status.idle": "2023-03-17T12:51:32.329092Z",
     "shell.execute_reply": "2023-03-17T12:51:32.327532Z",
     "shell.execute_reply.started": "2023-03-17T12:51:30.558199Z"
    }
   },
   "outputs": [
    {
     "ename": "AttributeError",
     "evalue": "'str' object has no attribute 'item'",
     "output_type": "error",
     "traceback": [
      "\u001b[0;31m---------------------------------------------------------------------------\u001b[0m",
      "\u001b[0;31mAttributeError\u001b[0m                            Traceback (most recent call last)",
      "\u001b[0;32m/tmp/ipykernel_421/783362387.py\u001b[0m in \u001b[0;36m<module>\u001b[0;34m\u001b[0m\n\u001b[1;32m      1\u001b[0m \u001b[0;32mfor\u001b[0m \u001b[0mcolumn\u001b[0m \u001b[0;32min\u001b[0m \u001b[0mtestdf\u001b[0m\u001b[0;34m.\u001b[0m\u001b[0mcolumns\u001b[0m\u001b[0;34m:\u001b[0m\u001b[0;34m\u001b[0m\u001b[0;34m\u001b[0m\u001b[0m\n\u001b[0;32m----> 2\u001b[0;31m     \u001b[0mtestdf\u001b[0m\u001b[0;34m[\u001b[0m\u001b[0mcolumn\u001b[0m\u001b[0;34m]\u001b[0m \u001b[0;34m=\u001b[0m \u001b[0mtestdf\u001b[0m\u001b[0;34m[\u001b[0m\u001b[0mcolumn\u001b[0m\u001b[0;34m]\u001b[0m\u001b[0;34m.\u001b[0m\u001b[0mapply\u001b[0m\u001b[0;34m(\u001b[0m\u001b[0;32mlambda\u001b[0m \u001b[0mx\u001b[0m\u001b[0;34m:\u001b[0m \u001b[0mx\u001b[0m\u001b[0;34m.\u001b[0m\u001b[0mitem\u001b[0m\u001b[0;34m(\u001b[0m\u001b[0;34m)\u001b[0m\u001b[0;34m)\u001b[0m\u001b[0;34m\u001b[0m\u001b[0;34m\u001b[0m\u001b[0m\n\u001b[0m",
      "\u001b[0;32m/opt/conda/lib/python3.7/site-packages/pandas/core/series.py\u001b[0m in \u001b[0;36mapply\u001b[0;34m(self, func, convert_dtype, args, **kwargs)\u001b[0m\n\u001b[1;32m   4355\u001b[0m         \u001b[0mdtype\u001b[0m\u001b[0;34m:\u001b[0m \u001b[0mfloat64\u001b[0m\u001b[0;34m\u001b[0m\u001b[0;34m\u001b[0m\u001b[0m\n\u001b[1;32m   4356\u001b[0m         \"\"\"\n\u001b[0;32m-> 4357\u001b[0;31m         \u001b[0;32mreturn\u001b[0m \u001b[0mSeriesApply\u001b[0m\u001b[0;34m(\u001b[0m\u001b[0mself\u001b[0m\u001b[0;34m,\u001b[0m \u001b[0mfunc\u001b[0m\u001b[0;34m,\u001b[0m \u001b[0mconvert_dtype\u001b[0m\u001b[0;34m,\u001b[0m \u001b[0margs\u001b[0m\u001b[0;34m,\u001b[0m \u001b[0mkwargs\u001b[0m\u001b[0;34m)\u001b[0m\u001b[0;34m.\u001b[0m\u001b[0mapply\u001b[0m\u001b[0;34m(\u001b[0m\u001b[0;34m)\u001b[0m\u001b[0;34m\u001b[0m\u001b[0;34m\u001b[0m\u001b[0m\n\u001b[0m\u001b[1;32m   4358\u001b[0m \u001b[0;34m\u001b[0m\u001b[0m\n\u001b[1;32m   4359\u001b[0m     def _reduce(\n",
      "\u001b[0;32m/opt/conda/lib/python3.7/site-packages/pandas/core/apply.py\u001b[0m in \u001b[0;36mapply\u001b[0;34m(self)\u001b[0m\n\u001b[1;32m   1041\u001b[0m             \u001b[0;32mreturn\u001b[0m \u001b[0mself\u001b[0m\u001b[0;34m.\u001b[0m\u001b[0mapply_str\u001b[0m\u001b[0;34m(\u001b[0m\u001b[0;34m)\u001b[0m\u001b[0;34m\u001b[0m\u001b[0;34m\u001b[0m\u001b[0m\n\u001b[1;32m   1042\u001b[0m \u001b[0;34m\u001b[0m\u001b[0m\n\u001b[0;32m-> 1043\u001b[0;31m         \u001b[0;32mreturn\u001b[0m \u001b[0mself\u001b[0m\u001b[0;34m.\u001b[0m\u001b[0mapply_standard\u001b[0m\u001b[0;34m(\u001b[0m\u001b[0;34m)\u001b[0m\u001b[0;34m\u001b[0m\u001b[0;34m\u001b[0m\u001b[0m\n\u001b[0m\u001b[1;32m   1044\u001b[0m \u001b[0;34m\u001b[0m\u001b[0m\n\u001b[1;32m   1045\u001b[0m     \u001b[0;32mdef\u001b[0m \u001b[0magg\u001b[0m\u001b[0;34m(\u001b[0m\u001b[0mself\u001b[0m\u001b[0;34m)\u001b[0m\u001b[0;34m:\u001b[0m\u001b[0;34m\u001b[0m\u001b[0;34m\u001b[0m\u001b[0m\n",
      "\u001b[0;32m/opt/conda/lib/python3.7/site-packages/pandas/core/apply.py\u001b[0m in \u001b[0;36mapply_standard\u001b[0;34m(self)\u001b[0m\n\u001b[1;32m   1099\u001b[0m                     \u001b[0mvalues\u001b[0m\u001b[0;34m,\u001b[0m\u001b[0;34m\u001b[0m\u001b[0;34m\u001b[0m\u001b[0m\n\u001b[1;32m   1100\u001b[0m                     \u001b[0mf\u001b[0m\u001b[0;34m,\u001b[0m  \u001b[0;31m# type: ignore[arg-type]\u001b[0m\u001b[0;34m\u001b[0m\u001b[0;34m\u001b[0m\u001b[0m\n\u001b[0;32m-> 1101\u001b[0;31m                     \u001b[0mconvert\u001b[0m\u001b[0;34m=\u001b[0m\u001b[0mself\u001b[0m\u001b[0;34m.\u001b[0m\u001b[0mconvert_dtype\u001b[0m\u001b[0;34m,\u001b[0m\u001b[0;34m\u001b[0m\u001b[0;34m\u001b[0m\u001b[0m\n\u001b[0m\u001b[1;32m   1102\u001b[0m                 )\n\u001b[1;32m   1103\u001b[0m \u001b[0;34m\u001b[0m\u001b[0m\n",
      "\u001b[0;32m/opt/conda/lib/python3.7/site-packages/pandas/_libs/lib.pyx\u001b[0m in \u001b[0;36mpandas._libs.lib.map_infer\u001b[0;34m()\u001b[0m\n",
      "\u001b[0;32m/tmp/ipykernel_421/783362387.py\u001b[0m in \u001b[0;36m<lambda>\u001b[0;34m(x)\u001b[0m\n\u001b[1;32m      1\u001b[0m \u001b[0;32mfor\u001b[0m \u001b[0mcolumn\u001b[0m \u001b[0;32min\u001b[0m \u001b[0mtestdf\u001b[0m\u001b[0;34m.\u001b[0m\u001b[0mcolumns\u001b[0m\u001b[0;34m:\u001b[0m\u001b[0;34m\u001b[0m\u001b[0;34m\u001b[0m\u001b[0m\n\u001b[0;32m----> 2\u001b[0;31m     \u001b[0mtestdf\u001b[0m\u001b[0;34m[\u001b[0m\u001b[0mcolumn\u001b[0m\u001b[0;34m]\u001b[0m \u001b[0;34m=\u001b[0m \u001b[0mtestdf\u001b[0m\u001b[0;34m[\u001b[0m\u001b[0mcolumn\u001b[0m\u001b[0;34m]\u001b[0m\u001b[0;34m.\u001b[0m\u001b[0mapply\u001b[0m\u001b[0;34m(\u001b[0m\u001b[0;32mlambda\u001b[0m \u001b[0mx\u001b[0m\u001b[0;34m:\u001b[0m \u001b[0mx\u001b[0m\u001b[0;34m.\u001b[0m\u001b[0mitem\u001b[0m\u001b[0;34m(\u001b[0m\u001b[0;34m)\u001b[0m\u001b[0;34m)\u001b[0m\u001b[0;34m\u001b[0m\u001b[0;34m\u001b[0m\u001b[0m\n\u001b[0m",
      "\u001b[0;31mAttributeError\u001b[0m: 'str' object has no attribute 'item'"
     ]
    }
   ],
   "source": [
    "for column in testdf.columns:\n",
    "    if type(testdf.column) != str:\n",
    "        testdf[column] = testdf[column].apply(lambda x: x.item())"
   ]
  },
  {
   "cell_type": "code",
   "execution_count": 58,
   "id": "4eff8d07",
   "metadata": {
    "execution": {
     "iopub.execute_input": "2023-03-17T12:51:42.904761Z",
     "iopub.status.busy": "2023-03-17T12:51:42.903150Z",
     "iopub.status.idle": "2023-03-17T12:51:43.501660Z",
     "shell.execute_reply": "2023-03-17T12:51:43.500077Z",
     "shell.execute_reply.started": "2023-03-17T12:51:42.904711Z"
    }
   },
   "outputs": [],
   "source": [
    "testdf.to_csv('train_df.csv')"
   ]
  },
  {
   "cell_type": "code",
   "execution_count": 59,
   "id": "f534d90a",
   "metadata": {
    "execution": {
     "iopub.execute_input": "2023-03-17T12:51:48.037139Z",
     "iopub.status.busy": "2023-03-17T12:51:48.036517Z",
     "iopub.status.idle": "2023-03-17T12:51:48.044339Z",
     "shell.execute_reply": "2023-03-17T12:51:48.043296Z",
     "shell.execute_reply.started": "2023-03-17T12:51:48.037101Z"
    }
   },
   "outputs": [
    {
     "data": {
      "text/html": [
       "<a href='train_df.csv' target='_blank'>train_df.csv</a><br>"
      ],
      "text/plain": [
       "/kaggle/working/train_df.csv"
      ]
     },
     "execution_count": 59,
     "metadata": {},
     "output_type": "execute_result"
    }
   ],
   "source": [
    "from IPython.display import FileLink\n",
    "FileLink('train_df.csv')"
   ]
  },
  {
   "cell_type": "code",
   "execution_count": null,
   "id": "c9f7648f",
   "metadata": {},
   "outputs": [],
   "source": []
  },
  {
   "cell_type": "code",
   "execution_count": null,
   "id": "7ba9e144",
   "metadata": {},
   "outputs": [],
   "source": []
  },
  {
   "cell_type": "code",
   "execution_count": 6,
   "id": "6c1a89ad",
   "metadata": {},
   "outputs": [
    {
     "data": {
      "text/plain": [
       "((1671, 259), (6838, 259))"
      ]
     },
     "execution_count": 6,
     "metadata": {},
     "output_type": "execute_result"
    }
   ],
   "source": [
    "test_df.shape, train_df.shape"
   ]
  },
  {
   "cell_type": "markdown",
   "id": "ba36ef29",
   "metadata": {},
   "source": [
    "# Learning COLES"
   ]
  },
  {
   "cell_type": "code",
   "execution_count": 4,
   "id": "b549d8bc",
   "metadata": {
    "execution": {
     "iopub.execute_input": "2023-03-22T15:14:24.567306Z",
     "iopub.status.busy": "2023-03-22T15:14:24.566296Z",
     "iopub.status.idle": "2023-03-22T15:14:24.572500Z",
     "shell.execute_reply": "2023-03-22T15:14:24.571438Z",
     "shell.execute_reply.started": "2023-03-22T15:14:24.567246Z"
    }
   },
   "outputs": [],
   "source": [
    "import pandas as pd\n",
    "import numpy as np"
   ]
  },
  {
   "cell_type": "code",
   "execution_count": 5,
   "id": "cc434c8b",
   "metadata": {
    "execution": {
     "iopub.execute_input": "2023-03-22T15:14:25.001667Z",
     "iopub.status.busy": "2023-03-22T15:14:25.001236Z",
     "iopub.status.idle": "2023-03-22T15:14:25.418406Z",
     "shell.execute_reply": "2023-03-22T15:14:25.417414Z",
     "shell.execute_reply.started": "2023-03-22T15:14:25.001631Z"
    }
   },
   "outputs": [],
   "source": [
    "test_df = pd.read_csv('./test_df.csv')\n",
    "train_df = pd.read_csv('./train_df.csv')"
   ]
  },
  {
   "cell_type": "code",
   "execution_count": 54,
   "id": "1774106a",
   "metadata": {
    "execution": {
     "iopub.execute_input": "2023-03-22T15:14:25.591093Z",
     "iopub.status.busy": "2023-03-22T15:14:25.590182Z",
     "iopub.status.idle": "2023-03-22T15:14:25.596664Z",
     "shell.execute_reply": "2023-03-22T15:14:25.595522Z",
     "shell.execute_reply.started": "2023-03-22T15:14:25.591039Z"
    }
   },
   "outputs": [],
   "source": [
    "from sklearn.metrics import roc_auc_score, precision_score, accuracy_score, recall_score, f1_score, roc_auc_score\n",
    "from sklearn.model_selection import GridSearchCV\n"
   ]
  },
  {
   "cell_type": "code",
   "execution_count": null,
   "id": "b384d992",
   "metadata": {},
   "outputs": [],
   "source": [
    "from imblearn.over_sampling import RandomOverSampler"
   ]
  },
  {
   "cell_type": "code",
   "execution_count": 74,
   "id": "3ccb6e15",
   "metadata": {
    "execution": {
     "iopub.execute_input": "2023-03-22T15:14:26.443862Z",
     "iopub.status.busy": "2023-03-22T15:14:26.443243Z",
     "iopub.status.idle": "2023-03-22T15:14:26.457347Z",
     "shell.execute_reply": "2023-03-22T15:14:26.455306Z",
     "shell.execute_reply.started": "2023-03-22T15:14:26.443820Z"
    },
    "id": "e0f9f3b6"
   },
   "outputs": [],
   "source": [
    "from sklearn.ensemble import RandomForestClassifier\n",
    "\n",
    "embed_columns = [x for x in train_df.columns if x.startswith('embed')]\n",
    "x_train, y_train = train_df[embed_columns], train_df['higher_education']\n",
    "x_test, y_test = test_df[embed_columns], test_df['higher_education']\n",
    "\n"
   ]
  },
  {
   "cell_type": "code",
   "execution_count": 90,
   "id": "5f449c04",
   "metadata": {
    "execution": {
     "iopub.execute_input": "2023-03-22T17:00:16.992848Z",
     "iopub.status.busy": "2023-03-22T17:00:16.992218Z",
     "iopub.status.idle": "2023-03-22T17:00:27.213294Z",
     "shell.execute_reply": "2023-03-22T17:00:27.212118Z",
     "shell.execute_reply.started": "2023-03-22T17:00:16.992813Z"
    }
   },
   "outputs": [
    {
     "name": "stdout",
     "output_type": "stream",
     "text": [
      "accuracy: 0.7660083782166367 \n",
      "      f1: 0.8531731130304168, \n",
      "      precision: 0.9161290322580645, \n",
      "      roc_auc: 0.7550267569792679\n"
     ]
    }
   ],
   "source": [
    "#without resampling and gridsearch\n",
    "clf = RandomForestClassifier()\n",
    "clf.fit(x_train, y_train)\n",
    "y_proba= clf.predict_proba(x_test)\n",
    "y_pred = clf.predict(x_test)\n",
    "print(f'''accuracy: {clf.score(x_test, y_test)} \n",
    "      f1: {f1_score(y_pred, y_test)}, \n",
    "      precision: {precision_score(y_pred, y_test)}, \n",
    "      roc_auc: {roc_auc_score(y_test, y_proba[:,1])}''')"
   ]
  },
  {
   "cell_type": "code",
   "execution_count": 91,
   "id": "1a6c83c4",
   "metadata": {
    "execution": {
     "iopub.execute_input": "2023-03-22T17:00:37.969931Z",
     "iopub.status.busy": "2023-03-22T17:00:37.969031Z",
     "iopub.status.idle": "2023-03-22T17:00:38.051481Z",
     "shell.execute_reply": "2023-03-22T17:00:38.050385Z",
     "shell.execute_reply.started": "2023-03-22T17:00:37.969893Z"
    }
   },
   "outputs": [
    {
     "name": "stdout",
     "output_type": "stream",
     "text": [
      "[(0.0, 4923), (1.0, 4923)]\n"
     ]
    }
   ],
   "source": [
    "from imblearn.over_sampling import RandomOverSampler\n",
    "from imblearn.over_sampling import SMOTE\n",
    "from imblearn.under_sampling import ClusterCentroids\n",
    "ros = RandomOverSampler(random_state=0)\n",
    "x_resampled, y_resampled = ros.fit_resample(x_train, y_train)\n",
    "from collections import Counter\n",
    "print(sorted(Counter(y_resampled).items()))"
   ]
  },
  {
   "cell_type": "code",
   "execution_count": 93,
   "id": "515ea184",
   "metadata": {
    "execution": {
     "iopub.execute_input": "2023-03-22T17:00:45.040787Z",
     "iopub.status.busy": "2023-03-22T17:00:45.040297Z",
     "iopub.status.idle": "2023-03-22T18:24:26.952839Z",
     "shell.execute_reply": "2023-03-22T18:24:26.951678Z",
     "shell.execute_reply.started": "2023-03-22T17:00:45.040745Z"
    }
   },
   "outputs": [
    {
     "name": "stdout",
     "output_type": "stream",
     "text": [
      "Fitting 3 folds for each of 45 candidates, totalling 135 fits\n"
     ]
    },
    {
     "data": {
      "text/plain": [
       "GridSearchCV(cv=3, estimator=RandomForestClassifier(), n_jobs=-1,\n",
       "             param_grid={'max_depth': [7, 15, 20],\n",
       "                         'max_features': [20, 40, 60, 80, 150],\n",
       "                         'n_estimators': [150, 170, 200]},\n",
       "             scoring='roc_auc', verbose=3)"
      ]
     },
     "execution_count": 93,
     "metadata": {},
     "output_type": "execute_result"
    }
   ],
   "source": [
    "#gridsearch with randomoversampler\n",
    "# params = {'n_estimators':[40, 70, 100, 150],\n",
    "#          'max_depth':[ 3, 5, 7],\n",
    "#          'max_features':[20, 40, 60, 80]}\n",
    "params = {'n_estimators':[150, 170, 200],\n",
    "         'max_depth':[7, 15, 20],\n",
    "         'max_features':[20, 40, 60, 80, 150]}\n",
    "clf = RandomForestClassifier()\n",
    "gs = GridSearchCV(clf, params, scoring = 'roc_auc', cv = 3, verbose = 3, n_jobs =-1)\n",
    "gs.fit(x_resampled, y_resampled)"
   ]
  },
  {
   "cell_type": "code",
   "execution_count": 94,
   "id": "dd06fcc2",
   "metadata": {
    "execution": {
     "iopub.execute_input": "2023-03-22T18:24:26.956184Z",
     "iopub.status.busy": "2023-03-22T18:24:26.955479Z",
     "iopub.status.idle": "2023-03-22T18:24:58.484882Z",
     "shell.execute_reply": "2023-03-22T18:24:58.483622Z",
     "shell.execute_reply.started": "2023-03-22T18:24:26.956139Z"
    }
   },
   "outputs": [
    {
     "name": "stdout",
     "output_type": "stream",
     "text": [
      "accuracy: 0.7624177139437462 \n",
      "      f1: 0.8448612739351309, \n",
      "      precision: 0.8717741935483871,\n",
      "      roc_auc: 0.758573460070354\n"
     ]
    }
   ],
   "source": [
    "clf = gs.best_estimator_\n",
    "clf.fit(x_resampled, y_resampled)\n",
    "y_proba= clf.predict_proba(x_test)\n",
    "y_pred = clf.predict(x_test)\n",
    "print(f'''accuracy: {clf.score(x_test, y_test)} \n",
    "      f1: {f1_score(y_pred, y_test)}, \n",
    "      precision: {precision_score(y_pred, y_test)},\n",
    "      roc_auc: {roc_auc_score(y_test, y_proba[:,1])}''')"
   ]
  },
  {
   "cell_type": "code",
   "execution_count": 95,
   "id": "ff8990a8",
   "metadata": {
    "execution": {
     "iopub.execute_input": "2023-03-22T18:24:58.487002Z",
     "iopub.status.busy": "2023-03-22T18:24:58.486443Z",
     "iopub.status.idle": "2023-03-22T18:24:58.719875Z",
     "shell.execute_reply": "2023-03-22T18:24:58.718716Z",
     "shell.execute_reply.started": "2023-03-22T18:24:58.486962Z"
    }
   },
   "outputs": [
    {
     "name": "stdout",
     "output_type": "stream",
     "text": [
      "[(0.0, 4923), (1.0, 4923)]\n"
     ]
    }
   ],
   "source": [
    "ros = SMOTE(random_state=0)\n",
    "x_resampled, y_resampled = ros.fit_resample(x_train, y_train)\n",
    "from collections import Counter\n",
    "print(sorted(Counter(y_resampled).items()))"
   ]
  },
  {
   "cell_type": "code",
   "execution_count": 96,
   "id": "300a654f",
   "metadata": {
    "execution": {
     "iopub.execute_input": "2023-03-22T18:24:58.723072Z",
     "iopub.status.busy": "2023-03-22T18:24:58.722678Z",
     "iopub.status.idle": "2023-03-22T18:25:14.549890Z",
     "shell.execute_reply": "2023-03-22T18:25:14.548712Z",
     "shell.execute_reply.started": "2023-03-22T18:24:58.723034Z"
    }
   },
   "outputs": [
    {
     "name": "stdout",
     "output_type": "stream",
     "text": [
      "accuracy: 0.7324955116696589 \n",
      "      f1: 0.8170282439623414, \n",
      "      precision: 0.8048387096774193,\n",
      "      roc_auc: 0.7498344061073273\n"
     ]
    }
   ],
   "source": [
    "#smote without grid search\n",
    "clf = RandomForestClassifier()\n",
    "clf.fit(x_resampled, y_resampled)\n",
    "y_proba= clf.predict_proba(x_test)\n",
    "y_pred = clf.predict(x_test)\n",
    "print(f'''accuracy: {clf.score(x_test, y_test)} \n",
    "      f1: {f1_score(y_pred, y_test)}, \n",
    "      precision: {precision_score(y_pred, y_test)},\n",
    "      roc_auc: {roc_auc_score(y_test, y_proba[:,1])}''')"
   ]
  },
  {
   "cell_type": "code",
   "execution_count": 97,
   "id": "2261a8b6",
   "metadata": {
    "execution": {
     "iopub.execute_input": "2023-03-22T18:25:14.552676Z",
     "iopub.status.busy": "2023-03-22T18:25:14.551549Z",
     "iopub.status.idle": "2023-03-22T19:50:04.051255Z",
     "shell.execute_reply": "2023-03-22T19:50:04.050205Z",
     "shell.execute_reply.started": "2023-03-22T18:25:14.552634Z"
    }
   },
   "outputs": [
    {
     "name": "stdout",
     "output_type": "stream",
     "text": [
      "Fitting 3 folds for each of 45 candidates, totalling 135 fits\n",
      "[CV 2/3] END max_depth=7, max_features=20, n_estimators=150;, score=0.858 total time=  12.1s\n",
      "[CV 1/3] END max_depth=7, max_features=20, n_estimators=170;, score=0.858 total time=  14.6s\n",
      "[CV 3/3] END max_depth=7, max_features=20, n_estimators=170;, score=0.866 total time=  13.9s\n",
      "[CV 2/3] END max_depth=7, max_features=20, n_estimators=200;, score=0.860 total time=  16.9s\n",
      "[CV 1/3] END max_depth=7, max_features=40, n_estimators=150;, score=0.860 total time=  23.1s\n",
      "[CV 3/3] END max_depth=7, max_features=40, n_estimators=150;, score=0.873 total time=  23.8s\n",
      "[CV 2/3] END max_depth=7, max_features=40, n_estimators=170;, score=0.865 total time=  27.3s\n",
      "[CV 1/3] END max_depth=7, max_features=40, n_estimators=200;, score=0.863 total time=  31.0s\n",
      "[CV 3/3] END max_depth=7, max_features=40, n_estimators=200;, score=0.873 total time=  31.3s\n",
      "[CV 2/3] END max_depth=7, max_features=60, n_estimators=150;, score=0.869 total time=  35.0s\n",
      "[CV 1/3] END max_depth=7, max_features=60, n_estimators=170;, score=0.862 total time=  38.5s\n",
      "[CV 3/3] END max_depth=7, max_features=60, n_estimators=170;, score=0.873 total time=  39.6s\n",
      "[CV 2/3] END max_depth=7, max_features=60, n_estimators=200;, score=0.867 total time=  47.8s\n",
      "[CV 1/3] END max_depth=7, max_features=80, n_estimators=150;, score=0.864 total time=  47.0s\n",
      "[CV 3/3] END max_depth=7, max_features=80, n_estimators=150;, score=0.874 total time=  49.8s\n",
      "[CV 2/3] END max_depth=7, max_features=80, n_estimators=170;, score=0.868 total time=  56.0s\n",
      "[CV 1/3] END max_depth=7, max_features=80, n_estimators=200;, score=0.864 total time= 1.1min\n",
      "[CV 3/3] END max_depth=7, max_features=80, n_estimators=200;, score=0.876 total time= 1.1min\n",
      "[CV 2/3] END max_depth=7, max_features=150, n_estimators=150;, score=0.872 total time= 1.6min\n",
      "[CV 1/3] END max_depth=7, max_features=150, n_estimators=170;, score=0.865 total time= 1.8min\n",
      "[CV 3/3] END max_depth=7, max_features=150, n_estimators=170;, score=0.876 total time= 1.7min\n",
      "[CV 2/3] END max_depth=7, max_features=150, n_estimators=200;, score=0.870 total time= 2.0min\n",
      "[CV 1/3] END max_depth=15, max_features=20, n_estimators=150;, score=0.946 total time=  20.3s\n",
      "[CV 2/3] END max_depth=15, max_features=20, n_estimators=150;, score=0.965 total time=  20.9s\n",
      "[CV 3/3] END max_depth=15, max_features=20, n_estimators=150;, score=0.992 total time=  20.1s\n",
      "[CV 1/3] END max_depth=15, max_features=20, n_estimators=170;, score=0.948 total time=  22.9s\n",
      "[CV 3/3] END max_depth=15, max_features=20, n_estimators=170;, score=0.991 total time=  24.3s\n",
      "[CV 2/3] END max_depth=15, max_features=20, n_estimators=200;, score=0.966 total time=  26.8s\n",
      "[CV 1/3] END max_depth=15, max_features=40, n_estimators=150;, score=0.945 total time=  40.4s\n",
      "[CV 3/3] END max_depth=15, max_features=40, n_estimators=150;, score=0.989 total time=  41.0s\n",
      "[CV 2/3] END max_depth=15, max_features=40, n_estimators=170;, score=0.964 total time=  46.1s\n",
      "[CV 1/3] END max_depth=15, max_features=40, n_estimators=200;, score=0.946 total time=  53.0s\n",
      "[CV 3/3] END max_depth=15, max_features=40, n_estimators=200;, score=0.989 total time=  54.4s\n",
      "[CV 2/3] END max_depth=15, max_features=60, n_estimators=150;, score=0.965 total time= 1.0min\n",
      "[CV 1/3] END max_depth=15, max_features=60, n_estimators=170;, score=0.944 total time= 1.1min\n",
      "[CV 3/3] END max_depth=15, max_features=60, n_estimators=170;, score=0.988 total time= 1.2min\n",
      "[CV 2/3] END max_depth=15, max_features=60, n_estimators=200;, score=0.964 total time= 1.4min\n",
      "[CV 1/3] END max_depth=15, max_features=80, n_estimators=150;, score=0.944 total time= 1.3min\n",
      "[CV 3/3] END max_depth=15, max_features=80, n_estimators=150;, score=0.987 total time= 1.4min\n",
      "[CV 2/3] END max_depth=15, max_features=80, n_estimators=170;, score=0.962 total time= 1.5min\n",
      "[CV 1/3] END max_depth=15, max_features=80, n_estimators=200;, score=0.942 total time= 1.7min\n",
      "[CV 3/3] END max_depth=15, max_features=80, n_estimators=200;, score=0.986 total time= 1.8min\n",
      "[CV 2/3] END max_depth=15, max_features=150, n_estimators=150;, score=0.961 total time= 2.5min\n",
      "[CV 1/3] END max_depth=15, max_features=150, n_estimators=170;, score=0.941 total time= 2.8min\n",
      "[CV 3/3] END max_depth=15, max_features=150, n_estimators=170;, score=0.983 total time= 2.8min\n",
      "[CV 2/3] END max_depth=15, max_features=150, n_estimators=200;, score=0.961 total time= 3.3min\n",
      "[CV 1/3] END max_depth=20, max_features=20, n_estimators=150;, score=0.950 total time=  20.5s\n",
      "[CV 2/3] END max_depth=20, max_features=20, n_estimators=150;, score=0.968 total time=  21.8s\n",
      "[CV 3/3] END max_depth=20, max_features=20, n_estimators=150;, score=0.996 total time=  21.9s\n",
      "[CV 1/3] END max_depth=20, max_features=20, n_estimators=170;, score=0.950 total time=  23.3s\n",
      "[CV 2/3] END max_depth=20, max_features=20, n_estimators=170;, score=0.968 total time=  24.8s\n",
      "[CV 3/3] END max_depth=20, max_features=20, n_estimators=170;, score=0.996 total time=  24.9s\n",
      "[CV 2/3] END max_depth=20, max_features=20, n_estimators=200;, score=0.970 total time=  29.5s\n",
      "[CV 1/3] END max_depth=20, max_features=40, n_estimators=150;, score=0.948 total time=  42.7s\n",
      "[CV 3/3] END max_depth=20, max_features=40, n_estimators=150;, score=0.994 total time=  44.1s\n",
      "[CV 2/3] END max_depth=20, max_features=40, n_estimators=170;, score=0.969 total time=  49.9s\n",
      "[CV 1/3] END max_depth=20, max_features=40, n_estimators=200;, score=0.948 total time=  57.3s\n",
      "[CV 3/3] END max_depth=20, max_features=40, n_estimators=200;, score=0.994 total time=  59.1s\n",
      "[CV 2/3] END max_depth=20, max_features=60, n_estimators=150;, score=0.968 total time= 1.1min\n",
      "[CV 1/3] END max_depth=20, max_features=60, n_estimators=170;, score=0.946 total time= 1.2min\n",
      "[CV 3/3] END max_depth=20, max_features=60, n_estimators=170;, score=0.992 total time= 1.3min\n",
      "[CV 2/3] END max_depth=20, max_features=60, n_estimators=200;, score=0.968 total time= 1.5min\n",
      "[CV 1/3] END max_depth=20, max_features=80, n_estimators=150;, score=0.946 total time= 1.5min\n",
      "[CV 3/3] END max_depth=20, max_features=80, n_estimators=150;, score=0.992 total time= 1.5min\n",
      "[CV 2/3] END max_depth=20, max_features=80, n_estimators=170;, score=0.967 total time= 1.7min\n",
      "[CV 1/3] END max_depth=20, max_features=80, n_estimators=200;, score=0.947 total time= 1.9min\n",
      "[CV 3/3] END max_depth=20, max_features=80, n_estimators=200;, score=0.993 total time= 2.0min\n",
      "[CV 2/3] END max_depth=20, max_features=150, n_estimators=150;, score=0.965 total time= 2.8min\n",
      "[CV 1/3] END max_depth=20, max_features=150, n_estimators=170;, score=0.944 total time= 3.1min\n",
      "[CV 3/3] END max_depth=20, max_features=150, n_estimators=170;, score=0.990 total time= 3.2min\n",
      "[CV 2/3] END max_depth=20, max_features=150, n_estimators=200;, score=0.967 total time= 3.8min\n",
      "[CV 1/3] END max_depth=7, max_features=20, n_estimators=150;, score=0.743 total time=  13.4s\n",
      "[CV 1/3] END max_depth=7, max_features=20, n_estimators=170;, score=0.739 total time=  15.4s\n",
      "[CV 3/3] END max_depth=7, max_features=20, n_estimators=170;, score=0.766 total time=  14.5s\n",
      "[CV 2/3] END max_depth=7, max_features=20, n_estimators=200;, score=0.757 total time=  17.7s\n",
      "[CV 1/3] END max_depth=7, max_features=40, n_estimators=150;, score=0.746 total time=  26.1s\n",
      "[CV 3/3] END max_depth=7, max_features=40, n_estimators=150;, score=0.763 total time=  25.4s\n",
      "[CV 2/3] END max_depth=7, max_features=40, n_estimators=170;, score=0.758 total time=  29.0s\n",
      "[CV 1/3] END max_depth=7, max_features=40, n_estimators=200;, score=0.748 total time=  34.5s\n",
      "[CV 3/3] END max_depth=7, max_features=40, n_estimators=200;, score=0.766 total time=  35.4s\n",
      "[CV 2/3] END max_depth=7, max_features=60, n_estimators=150;, score=0.760 total time=  38.1s\n",
      "[CV 1/3] END max_depth=7, max_features=60, n_estimators=170;, score=0.742 total time=  43.7s\n",
      "[CV 3/3] END max_depth=7, max_features=60, n_estimators=170;, score=0.763 total time=  43.0s\n",
      "[CV 2/3] END max_depth=7, max_features=60, n_estimators=200;, score=0.761 total time=  50.0s\n",
      "[CV 1/3] END max_depth=7, max_features=80, n_estimators=150;, score=0.749 total time=  51.0s\n",
      "[CV 3/3] END max_depth=7, max_features=80, n_estimators=150;, score=0.767 total time=  49.2s\n",
      "[CV 2/3] END max_depth=7, max_features=80, n_estimators=170;, score=0.759 total time=  56.7s\n",
      "[CV 1/3] END max_depth=7, max_features=80, n_estimators=200;, score=0.751 total time= 1.1min[CV 1/3] END max_depth=7, max_features=20, n_estimators=150;, score=0.856 total time=  12.0s\n",
      "[CV 3/3] END max_depth=7, max_features=20, n_estimators=150;, score=0.865 total time=  12.6s\n",
      "[CV 2/3] END max_depth=7, max_features=20, n_estimators=170;, score=0.862 total time=  14.7s\n",
      "[CV 1/3] END max_depth=7, max_features=20, n_estimators=200;, score=0.857 total time=  16.1s\n",
      "[CV 3/3] END max_depth=7, max_features=20, n_estimators=200;, score=0.865 total time=  17.0s\n",
      "[CV 2/3] END max_depth=7, max_features=40, n_estimators=150;, score=0.865 total time=  24.0s\n",
      "[CV 1/3] END max_depth=7, max_features=40, n_estimators=170;, score=0.862 total time=  26.9s\n",
      "[CV 3/3] END max_depth=7, max_features=40, n_estimators=170;, score=0.871 total time=  26.5s\n",
      "[CV 2/3] END max_depth=7, max_features=40, n_estimators=200;, score=0.865 total time=  31.7s\n",
      "[CV 1/3] END max_depth=7, max_features=60, n_estimators=150;, score=0.861 total time=  35.1s\n",
      "[CV 3/3] END max_depth=7, max_features=60, n_estimators=150;, score=0.875 total time=  35.8s\n",
      "[CV 2/3] END max_depth=7, max_features=60, n_estimators=170;, score=0.868 total time=  39.3s\n",
      "[CV 1/3] END max_depth=7, max_features=60, n_estimators=200;, score=0.864 total time=  45.7s\n",
      "[CV 3/3] END max_depth=7, max_features=60, n_estimators=200;, score=0.873 total time=  49.2s\n",
      "[CV 2/3] END max_depth=7, max_features=80, n_estimators=150;, score=0.868 total time=  48.2s\n",
      "[CV 1/3] END max_depth=7, max_features=80, n_estimators=170;, score=0.864 total time=  55.2s\n",
      "[CV 3/3] END max_depth=7, max_features=80, n_estimators=170;, score=0.875 total time=  56.6s\n",
      "[CV 2/3] END max_depth=7, max_features=80, n_estimators=200;, score=0.868 total time= 1.1min\n",
      "[CV 1/3] END max_depth=7, max_features=150, n_estimators=150;, score=0.865 total time= 1.5min\n",
      "[CV 3/3] END max_depth=7, max_features=150, n_estimators=150;, score=0.876 total time= 1.6min\n",
      "[CV 2/3] END max_depth=7, max_features=150, n_estimators=170;, score=0.870 total time= 1.7min\n",
      "[CV 1/3] END max_depth=7, max_features=150, n_estimators=200;, score=0.866 total time= 2.0min\n",
      "[CV 3/3] END max_depth=7, max_features=150, n_estimators=200;, score=0.875 total time= 2.0min\n",
      "[CV 2/3] END max_depth=15, max_features=20, n_estimators=170;, score=0.966 total time=  23.8s\n",
      "[CV 1/3] END max_depth=15, max_features=20, n_estimators=200;, score=0.947 total time=  26.2s\n",
      "[CV 3/3] END max_depth=15, max_features=20, n_estimators=200;, score=0.993 total time=  27.7s\n",
      "[CV 2/3] END max_depth=15, max_features=40, n_estimators=150;, score=0.965 total time=  41.7s\n",
      "[CV 1/3] END max_depth=15, max_features=40, n_estimators=170;, score=0.945 total time=  45.4s\n",
      "[CV 3/3] END max_depth=15, max_features=40, n_estimators=170;, score=0.989 total time=  46.6s\n",
      "[CV 2/3] END max_depth=15, max_features=40, n_estimators=200;, score=0.965 total time=  54.1s\n",
      "[CV 1/3] END max_depth=15, max_features=60, n_estimators=150;, score=0.944 total time= 1.0min\n",
      "[CV 3/3] END max_depth=15, max_features=60, n_estimators=150;, score=0.987 total time= 1.0min\n",
      "[CV 2/3] END max_depth=15, max_features=60, n_estimators=170;, score=0.964 total time= 1.2min\n",
      "[CV 1/3] END max_depth=15, max_features=60, n_estimators=200;, score=0.944 total time= 1.3min\n",
      "[CV 3/3] END max_depth=15, max_features=60, n_estimators=200;, score=0.988 total time= 1.3min\n",
      "[CV 2/3] END max_depth=15, max_features=80, n_estimators=150;, score=0.963 total time= 1.4min\n",
      "[CV 1/3] END max_depth=15, max_features=80, n_estimators=170;, score=0.942 total time= 1.5min\n",
      "[CV 3/3] END max_depth=15, max_features=80, n_estimators=170;, score=0.987 total time= 1.5min\n",
      "[CV 2/3] END max_depth=15, max_features=80, n_estimators=200;, score=0.963 total time= 1.8min\n",
      "[CV 1/3] END max_depth=15, max_features=150, n_estimators=150;, score=0.940 total time= 2.4min\n",
      "[CV 3/3] END max_depth=15, max_features=150, n_estimators=150;, score=0.984 total time= 2.5min\n",
      "[CV 2/3] END max_depth=15, max_features=150, n_estimators=170;, score=0.961 total time= 2.8min\n",
      "[CV 1/3] END max_depth=15, max_features=150, n_estimators=200;, score=0.941 total time= 3.3min\n",
      "[CV 3/3] END max_depth=15, max_features=150, n_estimators=200;, score=0.983 total time= 3.4min\n",
      "[CV 1/3] END max_depth=20, max_features=20, n_estimators=200;, score=0.949 total time=  28.8s\n",
      "[CV 3/3] END max_depth=20, max_features=20, n_estimators=200;, score=0.995 total time=  29.5s\n",
      "[CV 2/3] END max_depth=20, max_features=40, n_estimators=150;, score=0.968 total time=  43.3s\n",
      "[CV 1/3] END max_depth=20, max_features=40, n_estimators=170;, score=0.948 total time=  49.4s\n",
      "[CV 3/3] END max_depth=20, max_features=40, n_estimators=170;, score=0.995 total time=  49.1s\n",
      "[CV 2/3] END max_depth=20, max_features=40, n_estimators=200;, score=0.969 total time=  58.3s\n",
      "[CV 1/3] END max_depth=20, max_features=60, n_estimators=150;, score=0.946 total time= 1.1min\n",
      "[CV 3/3] END max_depth=20, max_features=60, n_estimators=150;, score=0.993 total time= 1.1min\n",
      "[CV 2/3] END max_depth=20, max_features=60, n_estimators=170;, score=0.967 total time= 1.3min\n",
      "[CV 1/3] END max_depth=20, max_features=60, n_estimators=200;, score=0.947 total time= 1.4min\n",
      "[CV 3/3] END max_depth=20, max_features=60, n_estimators=200;, score=0.993 total time= 1.5min\n",
      "[CV 2/3] END max_depth=20, max_features=80, n_estimators=150;, score=0.967 total time= 1.5min\n",
      "[CV 1/3] END max_depth=20, max_features=80, n_estimators=170;, score=0.947 total time= 1.7min\n",
      "[CV 3/3] END max_depth=20, max_features=80, n_estimators=170;, score=0.991 total time= 1.7min\n",
      "[CV 2/3] END max_depth=20, max_features=80, n_estimators=200;, score=0.968 total time= 2.0min\n",
      "[CV 1/3] END max_depth=20, max_features=150, n_estimators=150;, score=0.944 total time= 2.8min\n",
      "[CV 3/3] END max_depth=20, max_features=150, n_estimators=150;, score=0.990 total time= 2.9min\n",
      "[CV 2/3] END max_depth=20, max_features=150, n_estimators=170;, score=0.965 total time= 3.2min\n",
      "[CV 1/3] END max_depth=20, max_features=150, n_estimators=200;, score=0.944 total time= 3.7min\n",
      "[CV 3/3] END max_depth=20, max_features=150, n_estimators=200;, score=0.990 total time= 3.1min\n",
      "[CV 2/3] END max_depth=7, max_features=20, n_estimators=150;, score=0.753 total time=  13.1s\n",
      "[CV 3/3] END max_depth=7, max_features=20, n_estimators=150;, score=0.763 total time=  13.8s\n",
      "[CV 2/3] END max_depth=7, max_features=20, n_estimators=170;, score=0.750 total time=  14.5s\n",
      "[CV 1/3] END max_depth=7, max_features=20, n_estimators=200;, score=0.744 total time=  17.7s\n",
      "[CV 3/3] END max_depth=7, max_features=20, n_estimators=200;, score=0.761 total time=  16.9s\n",
      "[CV 2/3] END max_depth=7, max_features=40, n_estimators=150;, score=0.761 total time=  26.3s\n",
      "[CV 1/3] END max_depth=7, max_features=40, n_estimators=170;, score=0.744 total time=  28.9s\n",
      "[CV 3/3] END max_depth=7, max_features=40, n_estimators=170;, score=0.761 total time=  29.3s\n",
      "[CV 2/3] END max_depth=7, max_features=40, n_estimators=200;, score=0.759 total time=  33.9s\n",
      "[CV 1/3] END max_depth=7, max_features=60, n_estimators=150;, score=0.748 total time=  38.1s\n",
      "[CV 3/3] END max_depth=7, max_features=60, n_estimators=150;, score=0.764 total time=  38.6s\n",
      "[CV 2/3] END max_depth=7, max_features=60, n_estimators=170;, score=0.761 total time=  43.5s\n",
      "[CV 1/3] END max_depth=7, max_features=60, n_estimators=200;, score=0.745 total time=  49.8s\n",
      "[CV 3/3] END max_depth=7, max_features=60, n_estimators=200;, score=0.765 total time=  51.2s\n",
      "[CV 2/3] END max_depth=7, max_features=80, n_estimators=150;, score=0.760 total time=  49.9s\n",
      "[CV 1/3] END max_depth=7, max_features=80, n_estimators=170;, score=0.749 total time=  56.3s\n",
      "[CV 3/3] END max_depth=7, max_features=80, n_estimators=170;, score=0.763 total time=  57.0s\n",
      "[CV 2/3] END max_depth=7, max_features=80, n_estimators=200;, score=0.759 total time= 1.1min\n",
      "[CV 1/3] END max_depth=7, max_features=150, n_estimators=150;, score=0.752 total time= 1.6min\n",
      "[CV 3/3] END max_depth=7, max_features=150, n_estimators=150;, score=0.766 total time= 1.6min\n",
      "[CV 2/3] END max_depth=7, max_features=150, n_estimators=170;, score=0.761 total time= 1.7min\n",
      "[CV 1/3] END max_depth=7, max_features=150, n_estimators=200;, score=0.745 total time= 2.1min\n",
      "[CV 3/3] END max_depth=7, max_features=150, n_estimators=200;, score=0.767 total time= 2.1min\n",
      "[CV 2/3] END max_depth=15, max_features=20, n_estimators=170;, score=0.811 total time=  23.8s"
     ]
    },
    {
     "data": {
      "text/plain": [
       "GridSearchCV(cv=3, estimator=RandomForestClassifier(), n_jobs=-1,\n",
       "             param_grid={'max_depth': [7, 15, 20],\n",
       "                         'max_features': [20, 40, 60, 80, 150],\n",
       "                         'n_estimators': [150, 170, 200]},\n",
       "             scoring='accuracy', verbose=3)"
      ]
     },
     "execution_count": 97,
     "metadata": {},
     "output_type": "execute_result"
    }
   ],
   "source": [
    "#grid search with SMOTE\n",
    "params = {'n_estimators':[150, 170, 200],\n",
    "         'max_depth':[7, 15, 20],\n",
    "         'max_features':[20, 40, 60, 80, 150]}\n",
    "clf = RandomForestClassifier()\n",
    "gs = GridSearchCV(clf, params, scoring = 'accuracy', cv = 3, verbose = 3, n_jobs =-1)\n",
    "gs.fit(x_resampled, y_resampled)"
   ]
  },
  {
   "cell_type": "code",
   "execution_count": 98,
   "id": "78695034",
   "metadata": {
    "execution": {
     "iopub.execute_input": "2023-03-22T19:50:04.053292Z",
     "iopub.status.busy": "2023-03-22T19:50:04.052658Z",
     "iopub.status.idle": "2023-03-22T19:50:29.218848Z",
     "shell.execute_reply": "2023-03-22T19:50:29.217665Z",
     "shell.execute_reply.started": "2023-03-22T19:50:04.053236Z"
    }
   },
   "outputs": [
    {
     "name": "stdout",
     "output_type": "stream",
     "text": [
      "accuracy: 0.7348892878515859 \n",
      "      f1: 0.8170177612556795, \n",
      "      precision: 0.7975806451612903,\n",
      "      roc_auc: 0.7485648529301699\n"
     ]
    }
   ],
   "source": [
    "clf = gs.best_estimator_\n",
    "clf.fit(x_resampled, y_resampled)\n",
    "y_proba= clf.predict_proba(x_test)\n",
    "y_pred = clf.predict(x_test)\n",
    "print(f'''accuracy: {clf.score(x_test, y_test)} \n",
    "      f1: {f1_score(y_pred, y_test)}, \n",
    "      precision: {precision_score(y_pred, y_test)},\n",
    "      roc_auc: {roc_auc_score(y_test, y_proba[:,1])}''')"
   ]
  },
  {
   "cell_type": "markdown",
   "id": "d2812d0e",
   "metadata": {},
   "source": [
    "# With CatBoost embedding_features"
   ]
  },
  {
   "cell_type": "code",
   "execution_count": 16,
   "id": "50dfcdaf",
   "metadata": {
    "execution": {
     "iopub.execute_input": "2023-03-17T13:40:01.175330Z",
     "iopub.status.busy": "2023-03-17T13:40:01.174314Z",
     "iopub.status.idle": "2023-03-17T13:40:01.588965Z",
     "shell.execute_reply": "2023-03-17T13:40:01.587799Z",
     "shell.execute_reply.started": "2023-03-17T13:40:01.175278Z"
    }
   },
   "outputs": [],
   "source": [
    "from catboost import CatBoostClassifier, metrics"
   ]
  },
  {
   "cell_type": "code",
   "execution_count": 50,
   "id": "a11c810b",
   "metadata": {
    "execution": {
     "iopub.execute_input": "2023-03-17T14:10:21.736028Z",
     "iopub.status.busy": "2023-03-17T14:10:21.735293Z",
     "iopub.status.idle": "2023-03-17T14:10:21.742027Z",
     "shell.execute_reply": "2023-03-17T14:10:21.740747Z",
     "shell.execute_reply.started": "2023-03-17T14:10:21.735989Z"
    }
   },
   "outputs": [],
   "source": [
    "CatBoostModel_emb = CatBoostClassifier(\n",
    "iterations= 500,\n",
    "learning_rate = 0.05,\n",
    "use_best_model = True,\n",
    "eval_metric ='F1', \n",
    "#loss_function='Logloss',\n",
    "random_seed = 42,\n",
    "logging_level = 'Silent',\n",
    "embedding_features = ['embeddings'],\n",
    "depth = 5)"
   ]
  },
  {
   "cell_type": "code",
   "execution_count": 51,
   "id": "eb5718aa",
   "metadata": {
    "execution": {
     "iopub.execute_input": "2023-03-17T14:10:22.136273Z",
     "iopub.status.busy": "2023-03-17T14:10:22.135738Z",
     "iopub.status.idle": "2023-03-17T14:10:22.349340Z",
     "shell.execute_reply": "2023-03-17T14:10:22.348168Z",
     "shell.execute_reply.started": "2023-03-17T14:10:22.136236Z"
    }
   },
   "outputs": [],
   "source": [
    "x_train, y_train = train_df[embed_columns], train_df['higher_education']\n",
    "x_train_emb = pd.DataFrame(np.arange(len(x_train)))\n",
    "x_train_emb['embeddings'] = x_train.values.tolist()\n",
    "x_train_emb = x_train_emb.drop([0], axis = 1)\n",
    "x_val, y_val = test_df[embed_columns], test_df['higher_education']\n",
    "x_val_emb = pd.DataFrame(np.arange(len(x_val)))\n",
    "x_val_emb['embeddings'] = x_val.values.tolist()\n",
    "x_val_emb = x_val_emb.drop([0], axis = 1)"
   ]
  },
  {
   "cell_type": "code",
   "execution_count": 52,
   "id": "efbc9222",
   "metadata": {
    "execution": {
     "iopub.execute_input": "2023-03-17T14:10:24.678182Z",
     "iopub.status.busy": "2023-03-17T14:10:24.677265Z",
     "iopub.status.idle": "2023-03-17T14:10:34.546962Z",
     "shell.execute_reply": "2023-03-17T14:10:34.545943Z",
     "shell.execute_reply.started": "2023-03-17T14:10:24.678131Z"
    }
   },
   "outputs": [
    {
     "data": {
      "application/vnd.jupyter.widget-view+json": {
       "model_id": "2741fde1462c468f9d6dd97631cf7974",
       "version_major": 2,
       "version_minor": 0
      },
      "text/plain": [
       "MetricVisualizer(layout=Layout(align_self='stretch', height='500px'))"
      ]
     },
     "metadata": {},
     "output_type": "display_data"
    },
    {
     "name": "stdout",
     "output_type": "stream",
     "text": [
      "CPU times: user 10.6 s, sys: 400 ms, total: 11 s\n",
      "Wall time: 9.86 s\n"
     ]
    },
    {
     "data": {
      "text/plain": [
       "<catboost.core.CatBoostClassifier at 0x7f1d4e26f3d0>"
      ]
     },
     "execution_count": 52,
     "metadata": {},
     "output_type": "execute_result"
    }
   ],
   "source": [
    "%%time\n",
    "\n",
    "CatBoostModel_emb.fit(\n",
    "    x_train_emb, y_train,\n",
    "    eval_set=(x_val_emb, y_val),\n",
    "    plot=True\n",
    "#     logging_level='Verbose',  # you can uncomment this for text output\n",
    ")"
   ]
  },
  {
   "cell_type": "code",
   "execution_count": 53,
   "id": "94dc4f65",
   "metadata": {
    "execution": {
     "iopub.execute_input": "2023-03-17T14:10:37.778123Z",
     "iopub.status.busy": "2023-03-17T14:10:37.777370Z",
     "iopub.status.idle": "2023-03-17T14:10:37.785099Z",
     "shell.execute_reply": "2023-03-17T14:10:37.784034Z",
     "shell.execute_reply.started": "2023-03-17T14:10:37.778085Z"
    }
   },
   "outputs": [
    {
     "data": {
      "text/plain": [
       "{'learn': {'Logloss': 0.5067433210222069, 'F1': 0.8451495920217589},\n",
       " 'validation': {'Logloss': 0.5054655069813566, 'F1': 0.8585537918871252}}"
      ]
     },
     "execution_count": 53,
     "metadata": {},
     "output_type": "execute_result"
    }
   ],
   "source": [
    "CatBoostModel_emb.get_best_score()"
   ]
  },
  {
   "cell_type": "markdown",
   "id": "7d793917",
   "metadata": {},
   "source": [
    "# But without embedding_features seems to achieve better results "
   ]
  },
  {
   "cell_type": "code",
   "execution_count": 57,
   "id": "cd3ff983",
   "metadata": {
    "execution": {
     "iopub.execute_input": "2023-03-17T14:18:07.390529Z",
     "iopub.status.busy": "2023-03-17T14:18:07.390155Z",
     "iopub.status.idle": "2023-03-17T14:18:07.407031Z",
     "shell.execute_reply": "2023-03-17T14:18:07.405980Z",
     "shell.execute_reply.started": "2023-03-17T14:18:07.390495Z"
    }
   },
   "outputs": [],
   "source": [
    "x_train, y_train = train_df[embed_columns], train_df['higher_education']\n",
    "x_test, y_test = test_df[embed_columns], test_df['higher_education']"
   ]
  },
  {
   "cell_type": "code",
   "execution_count": 58,
   "id": "20ce1b88",
   "metadata": {
    "execution": {
     "iopub.execute_input": "2023-03-17T14:18:07.775987Z",
     "iopub.status.busy": "2023-03-17T14:18:07.775333Z",
     "iopub.status.idle": "2023-03-17T14:18:07.781453Z",
     "shell.execute_reply": "2023-03-17T14:18:07.780131Z",
     "shell.execute_reply.started": "2023-03-17T14:18:07.775951Z"
    }
   },
   "outputs": [],
   "source": [
    "CatBoostModel = CatBoostClassifier(\n",
    "iterations= 500,\n",
    "learning_rate = 0.05,\n",
    "use_best_model = True,\n",
    "eval_metric ='F1', \n",
    "loss_function='Logloss',\n",
    "random_seed = 42,\n",
    "logging_level = 'Silent',\n",
    "depth = 5)"
   ]
  },
  {
   "cell_type": "code",
   "execution_count": 59,
   "id": "00ef18b2",
   "metadata": {
    "execution": {
     "iopub.execute_input": "2023-03-17T14:18:08.363140Z",
     "iopub.status.busy": "2023-03-17T14:18:08.362184Z",
     "iopub.status.idle": "2023-03-17T14:18:28.729125Z",
     "shell.execute_reply": "2023-03-17T14:18:28.728052Z",
     "shell.execute_reply.started": "2023-03-17T14:18:08.363091Z"
    }
   },
   "outputs": [
    {
     "data": {
      "application/vnd.jupyter.widget-view+json": {
       "model_id": "d50a7febef014e359a0f42c2d8338187",
       "version_major": 2,
       "version_minor": 0
      },
      "text/plain": [
       "MetricVisualizer(layout=Layout(align_self='stretch', height='500px'))"
      ]
     },
     "metadata": {},
     "output_type": "display_data"
    },
    {
     "data": {
      "text/plain": [
       "<catboost.core.CatBoostClassifier at 0x7f1d4e266450>"
      ]
     },
     "execution_count": 59,
     "metadata": {},
     "output_type": "execute_result"
    }
   ],
   "source": [
    "CatBoostModel.fit(\n",
    "    x_train, y_train,\n",
    "    eval_set=(x_test, y_test),\n",
    "    plot=True\n",
    "#     logging_level='Verbose',  # you can uncomment this for text output\n",
    ")"
   ]
  },
  {
   "cell_type": "code",
   "execution_count": 36,
   "id": "33d4af32",
   "metadata": {
    "execution": {
     "iopub.execute_input": "2023-03-17T14:01:13.101634Z",
     "iopub.status.busy": "2023-03-17T14:01:13.101151Z",
     "iopub.status.idle": "2023-03-17T14:01:13.112355Z",
     "shell.execute_reply": "2023-03-17T14:01:13.111243Z",
     "shell.execute_reply.started": "2023-03-17T14:01:13.101593Z"
    }
   },
   "outputs": [
    {
     "data": {
      "text/plain": [
       "{'learn': {'Logloss': 0.3017351258348865, 'F1': 0.9396128286622365},\n",
       " 'validation': {'Logloss': 0.4799109609095098, 'F1': 0.8614828209764918}}"
      ]
     },
     "execution_count": 36,
     "metadata": {},
     "output_type": "execute_result"
    }
   ],
   "source": [
    "CatBoostModel.get_best_score()"
   ]
  },
  {
   "cell_type": "code",
   "execution_count": 60,
   "id": "b71d1b39",
   "metadata": {
    "execution": {
     "iopub.execute_input": "2023-03-17T14:18:29.524582Z",
     "iopub.status.busy": "2023-03-17T14:18:29.524205Z",
     "iopub.status.idle": "2023-03-17T14:18:29.545266Z",
     "shell.execute_reply": "2023-03-17T14:18:29.544204Z",
     "shell.execute_reply.started": "2023-03-17T14:18:29.524548Z"
    }
   },
   "outputs": [],
   "source": [
    "y_pred = CatBoostModel.predict(x_test)\n",
    "y_proba = CatBoostModel.predict_proba(x_test)"
   ]
  },
  {
   "cell_type": "code",
   "execution_count": 70,
   "id": "aca29cee",
   "metadata": {
    "execution": {
     "iopub.execute_input": "2023-03-17T14:20:30.239152Z",
     "iopub.status.busy": "2023-03-17T14:20:30.238450Z",
     "iopub.status.idle": "2023-03-17T14:20:30.261673Z",
     "shell.execute_reply": "2023-03-17T14:20:30.260723Z",
     "shell.execute_reply.started": "2023-03-17T14:20:30.239115Z"
    }
   },
   "outputs": [
    {
     "name": "stdout",
     "output_type": "stream",
     "text": [
      "accuracy: 0.7707959305804907 \n",
      "      f1: 0.8614828209764918, \n",
      "      precision: 0.9604838709677419\n",
      "     roc auc : 0.7583208592171244\n"
     ]
    }
   ],
   "source": [
    "print(f'''accuracy: {CatBoostModel.score(x_test, y_test)} \n",
    "      f1: {f1_score(y_pred, y_test)}, \n",
    "      precision: {precision_score(y_pred, y_test)}\n",
    "     roc auc : {roc_auc_score(y_test, y_proba[:,1])}''')"
   ]
  },
  {
   "cell_type": "markdown",
   "id": "5df18c64",
   "metadata": {},
   "source": [
    "# Learning Random encoder"
   ]
  },
  {
   "cell_type": "code",
   "execution_count": 32,
   "id": "0123965f",
   "metadata": {},
   "outputs": [],
   "source": [
    "import pickle\n",
    "with open('random_embeddings.pickle', 'rb') as f:\n",
    "    data = pickle.load(f)"
   ]
  },
  {
   "cell_type": "code",
   "execution_count": 33,
   "id": "a8dcfa71",
   "metadata": {},
   "outputs": [],
   "source": [
    "data['user_id'] = transactions.user_id.unique()\n",
    "train = pd.read_csv('train.csv')\n",
    "data = data.merge(train, right_on = 'bank',left_on = 'user_id', how ='left')\n",
    "data.drop(['bank', 'user_id'], inplace=True, axis = 1)\n",
    "from sklearn.model_selection import train_test_split\n",
    "\n",
    "train, test = train_test_split(data, test_size=0.2, random_state=42)\n",
    "\n",
    "len(train), len(test)"
   ]
  },
  {
   "cell_type": "code",
   "execution_count": 34,
   "id": "400e2a76",
   "metadata": {},
   "outputs": [],
   "source": []
  },
  {
   "cell_type": "code",
   "execution_count": 35,
   "id": "7383deeb",
   "metadata": {},
   "outputs": [],
   "source": []
  },
  {
   "cell_type": "code",
   "execution_count": 36,
   "id": "21e3acaa",
   "metadata": {},
   "outputs": [],
   "source": []
  },
  {
   "cell_type": "code",
   "execution_count": 38,
   "id": "0e151317",
   "metadata": {},
   "outputs": [
    {
     "data": {
      "text/plain": [
       "(18026, 4507)"
      ]
     },
     "execution_count": 38,
     "metadata": {},
     "output_type": "execute_result"
    }
   ],
   "source": []
  },
  {
   "cell_type": "code",
   "execution_count": 42,
   "id": "064d497d",
   "metadata": {},
   "outputs": [
    {
     "name": "stdout",
     "output_type": "stream",
     "text": [
      "(6838, 259) (1671, 259)\n"
     ]
    }
   ],
   "source": [
    "train.dropna(inplace=True)\n",
    "test.dropna(inplace=True)\n",
    "print(train_df.shape, test_df.shape)"
   ]
  },
  {
   "cell_type": "code",
   "execution_count": 43,
   "id": "1c843cc2",
   "metadata": {},
   "outputs": [],
   "source": []
  },
  {
   "cell_type": "code",
   "execution_count": 45,
   "id": "1ff79a36",
   "metadata": {},
   "outputs": [],
   "source": [
    "embed_columns = [x for x in train.columns if x.startswith('emb')]\n",
    "x_train, y_train = train[embed_columns], train['higher_education']\n",
    "x_test, y_test = test[embed_columns], test['higher_education']"
   ]
  },
  {
   "cell_type": "code",
   "execution_count": 47,
   "id": "ade7d1a1",
   "metadata": {},
   "outputs": [
    {
     "name": "stderr",
     "output_type": "stream",
     "text": [
      "/Users/eandrejchuk/opt/anaconda3/lib/python3.9/site-packages/xgboost/compat.py:36: FutureWarning: pandas.Int64Index is deprecated and will be removed from pandas in a future version. Use pandas.Index with the appropriate dtype instead.\n",
      "  from pandas import MultiIndex, Int64Index\n"
     ]
    }
   ],
   "source": [
    "from catboost import CatBoostClassifier, metrics"
   ]
  },
  {
   "cell_type": "code",
   "execution_count": 48,
   "id": "976bfd95",
   "metadata": {},
   "outputs": [],
   "source": [
    "CatBoostModel = CatBoostClassifier(\n",
    "iterations= 500,\n",
    "learning_rate = 0.05,\n",
    "use_best_model = True,\n",
    "eval_metric ='F1', \n",
    "loss_function='Logloss',\n",
    "random_seed = 42,\n",
    "logging_level = 'Silent',\n",
    "depth = 5)"
   ]
  },
  {
   "cell_type": "code",
   "execution_count": 49,
   "id": "2c6694d9",
   "metadata": {},
   "outputs": [
    {
     "data": {
      "application/vnd.jupyter.widget-view+json": {
       "model_id": "f91449c60f014006bb098f7a4f519bc7",
       "version_major": 2,
       "version_minor": 0
      },
      "text/plain": [
       "MetricVisualizer(layout=Layout(align_self='stretch', height='500px'))"
      ]
     },
     "metadata": {},
     "output_type": "display_data"
    },
    {
     "data": {
      "text/plain": [
       "<catboost.core.CatBoostClassifier at 0x7fc9f7ab42e0>"
      ]
     },
     "execution_count": 49,
     "metadata": {},
     "output_type": "execute_result"
    }
   ],
   "source": [
    "CatBoostModel.fit(\n",
    "    x_train, y_train,\n",
    "    eval_set=(x_test, y_test),\n",
    "    plot=True\n",
    "#     logging_level='Verbose',  # you can uncomment this for text output\n",
    ")"
   ]
  },
  {
   "cell_type": "code",
   "execution_count": 50,
   "id": "7baf3ad5",
   "metadata": {},
   "outputs": [
    {
     "data": {
      "text/plain": [
       "{'learn': {'Logloss': 0.43990702130215736, 'F1': 0.8686137827583164},\n",
       " 'validation': {'Logloss': 0.5724590081328191, 'F1': 0.8519409137753349}}"
      ]
     },
     "execution_count": 50,
     "metadata": {},
     "output_type": "execute_result"
    }
   ],
   "source": [
    "CatBoostModel.get_best_score()"
   ]
  },
  {
   "cell_type": "code",
   "execution_count": 51,
   "id": "bddf3e8d",
   "metadata": {},
   "outputs": [],
   "source": [
    "y_pred = CatBoostModel.predict(x_test)\n",
    "y_proba = CatBoostModel.predict_proba(x_test)"
   ]
  },
  {
   "cell_type": "code",
   "execution_count": 55,
   "id": "b1351e1a",
   "metadata": {},
   "outputs": [
    {
     "name": "stdout",
     "output_type": "stream",
     "text": [
      "accuracy: 0.7420706163973668 \n",
      "      f1: 0.8519409137753349, \n",
      "      precision: 1.0\n",
      "     roc auc : 0.5047021181049323\n"
     ]
    }
   ],
   "source": [
    "print(f'''accuracy: {CatBoostModel.score(x_test, y_test)} \n",
    "      f1: {f1_score(y_pred, y_test)}, \n",
    "      precision: {precision_score(y_pred, y_test)}\n",
    "     roc auc : {roc_auc_score(y_test, y_proba[:,1])}''')"
   ]
  },
  {
   "cell_type": "markdown",
   "id": "9a4c7542",
   "metadata": {},
   "source": [
    "# Learning agg encoder"
   ]
  },
  {
   "cell_type": "code",
   "execution_count": 57,
   "id": "463e4f18",
   "metadata": {},
   "outputs": [],
   "source": [
    "import pickle\n",
    "with open('agg_feat_embed.pickle', 'rb') as f:\n",
    "    data = pickle.load(f)"
   ]
  },
  {
   "cell_type": "code",
   "execution_count": 58,
   "id": "561ec8a2",
   "metadata": {},
   "outputs": [
    {
     "data": {
      "text/plain": [
       "(18026, 4507)"
      ]
     },
     "execution_count": 58,
     "metadata": {},
     "output_type": "execute_result"
    }
   ],
   "source": [
    "data['user_id'] = transactions.user_id.unique()\n",
    "train = pd.read_csv('train.csv')\n",
    "data = data.merge(train, right_on = 'bank',left_on = 'user_id', how ='left')\n",
    "data.drop(['bank', 'user_id'], inplace=True, axis = 1)\n",
    "from sklearn.model_selection import train_test_split\n",
    "\n",
    "train, test = train_test_split(data, test_size=0.2, random_state=42)\n",
    "\n",
    "len(train), len(test)"
   ]
  },
  {
   "cell_type": "code",
   "execution_count": 59,
   "id": "9a16fedd",
   "metadata": {},
   "outputs": [
    {
     "name": "stdout",
     "output_type": "stream",
     "text": [
      "(6838, 259) (1671, 259)\n"
     ]
    }
   ],
   "source": [
    "train.dropna(inplace=True)\n",
    "test.dropna(inplace=True)\n",
    "print(train_df.shape, test_df.shape)"
   ]
  },
  {
   "cell_type": "code",
   "execution_count": 60,
   "id": "00fbaf63",
   "metadata": {},
   "outputs": [],
   "source": [
    "embed_columns = [x for x in train.columns if x.startswith('emb')]\n",
    "x_train, y_train = train[embed_columns], train['higher_education']\n",
    "x_test, y_test = test[embed_columns], test['higher_education']"
   ]
  },
  {
   "cell_type": "code",
   "execution_count": 61,
   "id": "60203c71",
   "metadata": {},
   "outputs": [],
   "source": [
    "CatBoostModel = CatBoostClassifier(\n",
    "iterations= 500,\n",
    "learning_rate = 0.05,\n",
    "use_best_model = True,\n",
    "eval_metric ='F1', \n",
    "loss_function='Logloss',\n",
    "random_seed = 42,\n",
    "logging_level = 'Silent',\n",
    "depth = 5)"
   ]
  },
  {
   "cell_type": "code",
   "execution_count": 62,
   "id": "b6a7776f",
   "metadata": {},
   "outputs": [
    {
     "data": {
      "application/vnd.jupyter.widget-view+json": {
       "model_id": "96bbad712b6d4b9298e1e06eef459f36",
       "version_major": 2,
       "version_minor": 0
      },
      "text/plain": [
       "MetricVisualizer(layout=Layout(align_self='stretch', height='500px'))"
      ]
     },
     "metadata": {},
     "output_type": "display_data"
    },
    {
     "data": {
      "text/plain": [
       "<catboost.core.CatBoostClassifier at 0x7fc9f7c35190>"
      ]
     },
     "execution_count": 62,
     "metadata": {},
     "output_type": "execute_result"
    }
   ],
   "source": [
    "CatBoostModel.fit(\n",
    "    x_train, y_train,\n",
    "    eval_set=(x_test, y_test),\n",
    "    plot=True\n",
    "#     logging_level='Verbose',  # you can uncomment this for text output\n",
    ")"
   ]
  },
  {
   "cell_type": "code",
   "execution_count": 63,
   "id": "6596c883",
   "metadata": {},
   "outputs": [],
   "source": [
    "y_pred = CatBoostModel.predict(x_test)\n",
    "y_proba = CatBoostModel.predict_proba(x_test)"
   ]
  },
  {
   "cell_type": "code",
   "execution_count": 64,
   "id": "05d0ea04",
   "metadata": {},
   "outputs": [
    {
     "name": "stdout",
     "output_type": "stream",
     "text": [
      "accuracy: 0.7426690604428486 \n",
      "      f1: 0.852233676975945, \n",
      "      precision: 1.0\n",
      "     roc auc : 0.5014276626001049\n"
     ]
    }
   ],
   "source": [
    "print(f'''accuracy: {CatBoostModel.score(x_test, y_test)} \n",
    "      f1: {f1_score(y_pred, y_test)}, \n",
    "      precision: {precision_score(y_pred, y_test)}\n",
    "     roc auc : {roc_auc_score(y_test, y_proba[:,1])}''')"
   ]
  },
  {
   "cell_type": "code",
   "execution_count": null,
   "id": "eab0ef8d",
   "metadata": {},
   "outputs": [],
   "source": []
  }
 ],
 "metadata": {
  "colab": {
   "provenance": []
  },
  "kernelspec": {
   "display_name": "Python 3 (ipykernel)",
   "language": "python",
   "name": "python3"
  },
  "language_info": {
   "codemirror_mode": {
    "name": "ipython",
    "version": 3
   },
   "file_extension": ".py",
   "mimetype": "text/x-python",
   "name": "python",
   "nbconvert_exporter": "python",
   "pygments_lexer": "ipython3",
   "version": "3.9.12"
  }
 },
 "nbformat": 4,
 "nbformat_minor": 5
}
