{
  "nbformat": 4,
  "nbformat_minor": 0,
  "metadata": {
    "colab": {
      "provenance": [],
      "toc_visible": true
    },
    "kernelspec": {
      "name": "python3",
      "display_name": "Python 3"
    },
    "language_info": {
      "name": "python"
    },
    "gpuClass": "standard",
    "widgets": {
      "application/vnd.jupyter.widget-state+json": {
        "32af7e65de994d8e98b1449a4883ba46": {
          "model_module": "catboost-widget",
          "model_name": "CatboostWidgetModel",
          "model_module_version": "^1.0.0",
          "state": {
            "_dom_classes": [],
            "_model_module": "catboost-widget",
            "_model_module_version": "^1.0.0",
            "_model_name": "CatboostWidgetModel",
            "_view_count": null,
            "_view_module": "catboost-widget",
            "_view_module_version": "^1.0.0",
            "_view_name": "CatboostWidgetView",
            "data": {
              "catboost_info": {
                "path": "catboost_info",
                "name": "catboost_info",
                "content": {
                  "passed_iterations": 499,
                  "total_iterations": 500,
                  "data": {
                    "iterations": [
                      {
                        "learn": [
                          0.681448904
                        ],
                        "iteration": 0,
                        "passed_time": 0.2615947606,
                        "remaining_time": 130.5357856,
                        "test": [
                          0.5331762586,
                          0.6827367979
                        ]
                      },
                      {
                        "learn": [
                          0.6711224238
                        ],
                        "iteration": 1,
                        "passed_time": 0.4640622249,
                        "remaining_time": 115.551494,
                        "test": [
                          0.5363957128,
                          0.6732445379
                        ]
                      },
                      {
                        "learn": [
                          0.6607476308
                        ],
                        "iteration": 2,
                        "passed_time": 0.6630668102,
                        "remaining_time": 109.8480682,
                        "test": [
                          0.5589549912,
                          0.6642066072
                        ]
                      },
                      {
                        "learn": [
                          0.6515045696
                        ],
                        "iteration": 3,
                        "passed_time": 0.8534799037,
                        "remaining_time": 105.8315081,
                        "test": [
                          0.5685844796,
                          0.6561708679
                        ]
                      },
                      {
                        "learn": [
                          0.643397369
                        ],
                        "iteration": 4,
                        "passed_time": 1.049571603,
                        "remaining_time": 103.9075887,
                        "test": [
                          0.5759386947,
                          0.6490122196
                        ]
                      },
                      {
                        "learn": [
                          0.6356544411
                        ],
                        "iteration": 5,
                        "passed_time": 1.163852877,
                        "remaining_time": 95.82388691,
                        "test": [
                          0.5879560653,
                          0.6421780999
                        ]
                      },
                      {
                        "learn": [
                          0.6286859319
                        ],
                        "iteration": 6,
                        "passed_time": 1.297869174,
                        "remaining_time": 91.40707185,
                        "test": [
                          0.589287158,
                          0.6365657759
                        ]
                      },
                      {
                        "learn": [
                          0.621992854
                        ],
                        "iteration": 7,
                        "passed_time": 1.492256889,
                        "remaining_time": 91.77379868,
                        "test": [
                          0.5952611945,
                          0.6309103927
                        ]
                      },
                      {
                        "learn": [
                          0.6155445017
                        ],
                        "iteration": 8,
                        "passed_time": 1.66372338,
                        "remaining_time": 90.76535329,
                        "test": [
                          0.6028521765,
                          0.6258135114
                        ]
                      },
                      {
                        "learn": [
                          0.611050067
                        ],
                        "iteration": 9,
                        "passed_time": 1.846979433,
                        "remaining_time": 90.50199223,
                        "test": [
                          0.6015759445,
                          0.6219699376
                        ]
                      },
                      {
                        "learn": [
                          0.6064232934
                        ],
                        "iteration": 10,
                        "passed_time": 2.033641301,
                        "remaining_time": 90.40459966,
                        "test": [
                          0.6085172609,
                          0.6179405169
                        ]
                      },
                      {
                        "learn": [
                          0.6018362386
                        ],
                        "iteration": 11,
                        "passed_time": 2.331184874,
                        "remaining_time": 94.80151822,
                        "test": [
                          0.6135124678,
                          0.6141302338
                        ]
                      },
                      {
                        "learn": [
                          0.5977665782
                        ],
                        "iteration": 12,
                        "passed_time": 2.666173888,
                        "remaining_time": 99.87897567,
                        "test": [
                          0.6144566485,
                          0.6109724138
                        ]
                      },
                      {
                        "learn": [
                          0.5940015605
                        ],
                        "iteration": 13,
                        "passed_time": 2.9961218,
                        "remaining_time": 104.0082282,
                        "test": [
                          0.6171361584,
                          0.6080699946
                        ]
                      },
                      {
                        "learn": [
                          0.5902077082
                        ],
                        "iteration": 14,
                        "passed_time": 3.269433336,
                        "remaining_time": 105.7116779,
                        "test": [
                          0.6187704284,
                          0.6053466308
                        ]
                      },
                      {
                        "learn": [
                          0.5867291462
                        ],
                        "iteration": 15,
                        "passed_time": 3.581120716,
                        "remaining_time": 108.3289016,
                        "test": [
                          0.6195558019,
                          0.6028741933
                        ]
                      },
                      {
                        "learn": [
                          0.5843699372
                        ],
                        "iteration": 16,
                        "passed_time": 3.83279238,
                        "remaining_time": 108.8963953,
                        "test": [
                          0.6196164374,
                          0.60107679
                        ]
                      },
                      {
                        "learn": [
                          0.5815942656
                        ],
                        "iteration": 17,
                        "passed_time": 4.053152205,
                        "remaining_time": 108.534409,
                        "test": [
                          0.6218801612,
                          0.598956316
                        ]
                      },
                      {
                        "learn": [
                          0.5790915761
                        ],
                        "iteration": 18,
                        "passed_time": 4.394628007,
                        "remaining_time": 111.2534774,
                        "test": [
                          0.6218483998,
                          0.5972148287
                        ]
                      },
                      {
                        "learn": [
                          0.5764243981
                        ],
                        "iteration": 19,
                        "passed_time": 4.671916609,
                        "remaining_time": 112.1259986,
                        "test": [
                          0.6192150884,
                          0.5959385011
                        ]
                      },
                      {
                        "learn": [
                          0.5741285476
                        ],
                        "iteration": 20,
                        "passed_time": 4.931445324,
                        "remaining_time": 112.4839195,
                        "test": [
                          0.6192006514,
                          0.5946165036
                        ]
                      },
                      {
                        "learn": [
                          0.5722057173
                        ],
                        "iteration": 21,
                        "passed_time": 5.280779639,
                        "remaining_time": 114.7369394,
                        "test": [
                          0.6192814987,
                          0.5934097881
                        ]
                      },
                      {
                        "learn": [
                          0.5696774459
                        ],
                        "iteration": 22,
                        "passed_time": 5.568033762,
                        "remaining_time": 115.4761785,
                        "test": [
                          0.6228330042,
                          0.5914979986
                        ]
                      },
                      {
                        "learn": [
                          0.5672553351
                        ],
                        "iteration": 23,
                        "passed_time": 5.802148954,
                        "remaining_time": 115.0759543,
                        "test": [
                          0.6240947992,
                          0.5903011529
                        ]
                      },
                      {
                        "learn": [
                          0.5653250968
                        ],
                        "iteration": 24,
                        "passed_time": 6.113803149,
                        "remaining_time": 116.1622598,
                        "test": [
                          0.6235635171,
                          0.5891803503
                        ]
                      },
                      {
                        "learn": [
                          0.5633975213
                        ],
                        "iteration": 25,
                        "passed_time": 6.428463003,
                        "remaining_time": 117.1958255,
                        "test": [
                          0.6239937401,
                          0.5882882144
                        ]
                      },
                      {
                        "learn": [
                          0.5615327021
                        ],
                        "iteration": 26,
                        "passed_time": 6.703819451,
                        "remaining_time": 117.4409852,
                        "test": [
                          0.6243979765,
                          0.5872792002
                        ]
                      },
                      {
                        "learn": [
                          0.5601206435
                        ],
                        "iteration": 27,
                        "passed_time": 7.018672934,
                        "remaining_time": 118.3147723,
                        "test": [
                          0.625498077,
                          0.5863786291
                        ]
                      },
                      {
                        "learn": [
                          0.5588580893
                        ],
                        "iteration": 28,
                        "passed_time": 7.309720712,
                        "remaining_time": 118.7199467,
                        "test": [
                          0.6253248328,
                          0.5857994854
                        ]
                      },
                      {
                        "learn": [
                          0.5574801794
                        ],
                        "iteration": 29,
                        "passed_time": 7.607208981,
                        "remaining_time": 119.1796074,
                        "test": [
                          0.6261448552,
                          0.5850900736
                        ]
                      },
                      {
                        "learn": [
                          0.5561189554
                        ],
                        "iteration": 30,
                        "passed_time": 7.84096059,
                        "remaining_time": 118.6261457,
                        "test": [
                          0.6258561149,
                          0.5846066228
                        ]
                      },
                      {
                        "learn": [
                          0.5547272184
                        ],
                        "iteration": 31,
                        "passed_time": 8.081865923,
                        "remaining_time": 118.1972891,
                        "test": [
                          0.6278455355,
                          0.5837513596
                        ]
                      },
                      {
                        "learn": [
                          0.5534829093
                        ],
                        "iteration": 32,
                        "passed_time": 8.41316152,
                        "remaining_time": 119.0589827,
                        "test": [
                          0.6274701731,
                          0.5832882239
                        ]
                      },
                      {
                        "learn": [
                          0.5516391805
                        ],
                        "iteration": 33,
                        "passed_time": 8.635825113,
                        "remaining_time": 118.361603,
                        "test": [
                          0.6283710428,
                          0.5824519916
                        ]
                      },
                      {
                        "learn": [
                          0.5501811422
                        ],
                        "iteration": 34,
                        "passed_time": 8.834473585,
                        "remaining_time": 117.3722919,
                        "test": [
                          0.6280967395,
                          0.5821997664
                        ]
                      },
                      {
                        "learn": [
                          0.5489653322
                        ],
                        "iteration": 35,
                        "passed_time": 9.041904031,
                        "remaining_time": 116.5400964,
                        "test": [
                          0.6280043427,
                          0.5819532661
                        ]
                      },
                      {
                        "learn": [
                          0.5472345383
                        ],
                        "iteration": 36,
                        "passed_time": 9.293724426,
                        "remaining_time": 116.2971462,
                        "test": [
                          0.6283999168,
                          0.5814642735
                        ]
                      },
                      {
                        "learn": [
                          0.5461048418
                        ],
                        "iteration": 37,
                        "passed_time": 9.512534632,
                        "remaining_time": 115.6523947,
                        "test": [
                          0.6272507305,
                          0.5813736769
                        ]
                      },
                      {
                        "learn": [
                          0.5449283415
                        ],
                        "iteration": 38,
                        "passed_time": 9.698116741,
                        "remaining_time": 114.6367133,
                        "test": [
                          0.6277213772,
                          0.5809761278
                        ]
                      },
                      {
                        "learn": [
                          0.5437197982
                        ],
                        "iteration": 39,
                        "passed_time": 9.894459238,
                        "remaining_time": 113.7862812,
                        "test": [
                          0.6288012658,
                          0.5806125815
                        ]
                      },
                      {
                        "learn": [
                          0.5425625105
                        ],
                        "iteration": 40,
                        "passed_time": 10.08187664,
                        "remaining_time": 112.8678384,
                        "test": [
                          0.6273084786,
                          0.5805224326
                        ]
                      },
                      {
                        "learn": [
                          0.5412682641
                        ],
                        "iteration": 41,
                        "passed_time": 10.25901411,
                        "remaining_time": 111.8721063,
                        "test": [
                          0.6271641084,
                          0.5803302291
                        ]
                      },
                      {
                        "learn": [
                          0.540232354
                        ],
                        "iteration": 42,
                        "passed_time": 10.46103001,
                        "remaining_time": 111.1788538,
                        "test": [
                          0.6285529492,
                          0.5799317801
                        ]
                      },
                      {
                        "learn": [
                          0.5391112177
                        ],
                        "iteration": 43,
                        "passed_time": 10.65496715,
                        "remaining_time": 110.424205,
                        "test": [
                          0.628587598,
                          0.5795803831
                        ]
                      },
                      {
                        "learn": [
                          0.5381550331
                        ],
                        "iteration": 44,
                        "passed_time": 11.00259867,
                        "remaining_time": 111.2484976,
                        "test": [
                          0.6279668064,
                          0.5794951374
                        ]
                      },
                      {
                        "learn": [
                          0.5371606325
                        ],
                        "iteration": 45,
                        "passed_time": 11.20961967,
                        "remaining_time": 110.6340724,
                        "test": [
                          0.6275394708,
                          0.5795796601
                        ]
                      },
                      {
                        "learn": [
                          0.5362075233
                        ],
                        "iteration": 46,
                        "passed_time": 11.39889097,
                        "remaining_time": 109.8659066,
                        "test": [
                          0.6293671968,
                          0.5791601827
                        ]
                      },
                      {
                        "learn": [
                          0.5350991292
                        ],
                        "iteration": 47,
                        "passed_time": 11.59516268,
                        "remaining_time": 109.1877819,
                        "test": [
                          0.6282584341,
                          0.5791775558
                        ]
                      },
                      {
                        "learn": [
                          0.5343406795
                        ],
                        "iteration": 48,
                        "passed_time": 11.79731014,
                        "remaining_time": 108.5834056,
                        "test": [
                          0.6274557361,
                          0.5792725706
                        ]
                      },
                      {
                        "learn": [
                          0.5332922774
                        ],
                        "iteration": 49,
                        "passed_time": 11.99198149,
                        "remaining_time": 107.9278334,
                        "test": [
                          0.6269648776,
                          0.57938709
                        ]
                      },
                      {
                        "learn": [
                          0.53210276
                        ],
                        "iteration": 50,
                        "passed_time": 12.13900279,
                        "remaining_time": 106.8708285,
                        "test": [
                          0.6263325364,
                          0.5795988736
                        ]
                      },
                      {
                        "learn": [
                          0.5314750651
                        ],
                        "iteration": 51,
                        "passed_time": 12.32384831,
                        "remaining_time": 106.1746931,
                        "test": [
                          0.6262545765,
                          0.5793833672
                        ]
                      },
                      {
                        "learn": [
                          0.5304124108
                        ],
                        "iteration": 52,
                        "passed_time": 12.467994,
                        "remaining_time": 105.1545909,
                        "test": [
                          0.6256077983,
                          0.5793434125
                        ]
                      },
                      {
                        "learn": [
                          0.5295518262
                        ],
                        "iteration": 53,
                        "passed_time": 12.63683749,
                        "remaining_time": 104.370917,
                        "test": [
                          0.625096728,
                          0.579438664
                        ]
                      },
                      {
                        "learn": [
                          0.5288847566
                        ],
                        "iteration": 54,
                        "passed_time": 12.85088382,
                        "remaining_time": 103.9753327,
                        "test": [
                          0.6245076978,
                          0.5795072199
                        ]
                      },
                      {
                        "learn": [
                          0.5278115129
                        ],
                        "iteration": 55,
                        "passed_time": 13.07140626,
                        "remaining_time": 103.6375782,
                        "test": [
                          0.625082291,
                          0.5792341663
                        ]
                      },
                      {
                        "learn": [
                          0.5268400898
                        ],
                        "iteration": 56,
                        "passed_time": 13.28812891,
                        "remaining_time": 103.2744054,
                        "test": [
                          0.6236126029,
                          0.5796403258
                        ]
                      },
                      {
                        "learn": [
                          0.5258495929
                        ],
                        "iteration": 57,
                        "passed_time": 13.49894307,
                        "remaining_time": 102.8712558,
                        "test": [
                          0.6233065382,
                          0.5796259197
                        ]
                      },
                      {
                        "learn": [
                          0.5251428146
                        ],
                        "iteration": 58,
                        "passed_time": 13.69851693,
                        "remaining_time": 102.3906096,
                        "test": [
                          0.6231159696,
                          0.5796584717
                        ]
                      },
                      {
                        "learn": [
                          0.5242345873
                        ],
                        "iteration": 59,
                        "passed_time": 13.89257505,
                        "remaining_time": 101.8788837,
                        "test": [
                          0.6232516776,
                          0.5796044552
                        ]
                      },
                      {
                        "learn": [
                          0.5234050387
                        ],
                        "iteration": 60,
                        "passed_time": 14.11780198,
                        "remaining_time": 101.6018864,
                        "test": [
                          0.6233065382,
                          0.5794580099
                        ]
                      },
                      {
                        "learn": [
                          0.522609503
                        ],
                        "iteration": 61,
                        "passed_time": 14.31659422,
                        "remaining_time": 101.1398107,
                        "test": [
                          0.6238435952,
                          0.5793048563
                        ]
                      },
                      {
                        "learn": [
                          0.5219428059
                        ],
                        "iteration": 62,
                        "passed_time": 14.52128778,
                        "remaining_time": 100.727028,
                        "test": [
                          0.6238089463,
                          0.5791750414
                        ]
                      },
                      {
                        "learn": [
                          0.5212097771
                        ],
                        "iteration": 63,
                        "passed_time": 14.69144898,
                        "remaining_time": 100.0854962,
                        "test": [
                          0.623312313,
                          0.5791942357
                        ]
                      },
                      {
                        "learn": [
                          0.5203692344
                        ],
                        "iteration": 64,
                        "passed_time": 14.90217319,
                        "remaining_time": 99.7299283,
                        "test": [
                          0.6229831491,
                          0.5792434701
                        ]
                      },
                      {
                        "learn": [
                          0.5196007665
                        ],
                        "iteration": 65,
                        "passed_time": 15.08275302,
                        "remaining_time": 99.18052741,
                        "test": [
                          0.6230813208,
                          0.5791070666
                        ]
                      },
                      {
                        "learn": [
                          0.5186927358
                        ],
                        "iteration": 66,
                        "passed_time": 15.36116222,
                        "remaining_time": 99.27437674,
                        "test": [
                          0.6217762147,
                          0.5793632825
                        ]
                      },
                      {
                        "learn": [
                          0.5178230968
                        ],
                        "iteration": 67,
                        "passed_time": 15.59479612,
                        "remaining_time": 99.0728224,
                        "test": [
                          0.6218657242,
                          0.5793710419
                        ]
                      },
                      {
                        "learn": [
                          0.517105842
                        ],
                        "iteration": 68,
                        "passed_time": 15.81491003,
                        "remaining_time": 98.78588729,
                        "test": [
                          0.6216867052,
                          0.579421517
                        ]
                      },
                      {
                        "learn": [
                          0.5160167503
                        ],
                        "iteration": 69,
                        "passed_time": 16.06702499,
                        "remaining_time": 98.69743923,
                        "test": [
                          0.6206587898,
                          0.5795182839
                        ]
                      },
                      {
                        "learn": [
                          0.5154187456
                        ],
                        "iteration": 70,
                        "passed_time": 16.29787045,
                        "remaining_time": 98.47586511,
                        "test": [
                          0.6195355901,
                          0.5797615378
                        ]
                      },
                      {
                        "learn": [
                          0.5147230764
                        ],
                        "iteration": 71,
                        "passed_time": 16.48362419,
                        "remaining_time": 97.98598823,
                        "test": [
                          0.6188281764,
                          0.579804024
                        ]
                      },
                      {
                        "learn": [
                          0.514230975
                        ],
                        "iteration": 72,
                        "passed_time": 16.66510507,
                        "remaining_time": 97.47945019,
                        "test": [
                          0.6185683102,
                          0.579823859
                        ]
                      },
                      {
                        "learn": [
                          0.5135234218
                        ],
                        "iteration": 73,
                        "passed_time": 16.87819927,
                        "remaining_time": 97.1636877,
                        "test": [
                          0.6194865043,
                          0.5795457224
                        ]
                      },
                      {
                        "learn": [
                          0.5128522354
                        ],
                        "iteration": 74,
                        "passed_time": 17.14017501,
                        "remaining_time": 97.12765841,
                        "test": [
                          0.6198560918,
                          0.5794385309
                        ]
                      },
                      {
                        "learn": [
                          0.5123084155
                        ],
                        "iteration": 75,
                        "passed_time": 17.36823672,
                        "remaining_time": 96.89647852,
                        "test": [
                          0.6201477195,
                          0.5792640935
                        ]
                      },
                      {
                        "learn": [
                          0.511671967
                        ],
                        "iteration": 76,
                        "passed_time": 17.52375892,
                        "remaining_time": 96.26688344,
                        "test": [
                          0.6193969948,
                          0.5794883794
                        ]
                      },
                      {
                        "learn": [
                          0.5110722821
                        ],
                        "iteration": 77,
                        "passed_time": 17.72407563,
                        "remaining_time": 95.8917938,
                        "test": [
                          0.6190851553,
                          0.5795917219
                        ]
                      },
                      {
                        "learn": [
                          0.5106030097
                        ],
                        "iteration": 78,
                        "passed_time": 17.9310511,
                        "remaining_time": 95.55661408,
                        "test": [
                          0.6191746648,
                          0.5795493999
                        ]
                      },
                      {
                        "learn": [
                          0.5099175623
                        ],
                        "iteration": 79,
                        "passed_time": 18.14846814,
                        "remaining_time": 95.27945772,
                        "test": [
                          0.6199109525,
                          0.5792842912
                        ]
                      },
                      {
                        "learn": [
                          0.5090163691
                        ],
                        "iteration": 80,
                        "passed_time": 18.35174308,
                        "remaining_time": 94.93062161,
                        "test": [
                          0.6208262592,
                          0.5791286858
                        ]
                      },
                      {
                        "learn": [
                          0.5085600958
                        ],
                        "iteration": 81,
                        "passed_time": 18.72263485,
                        "remaining_time": 95.43977276,
                        "test": [
                          0.6210052782,
                          0.5790433234
                        ]
                      },
                      {
                        "learn": [
                          0.5079260037
                        ],
                        "iteration": 82,
                        "passed_time": 19.14409981,
                        "remaining_time": 96.18180266,
                        "test": [
                          0.6213748657,
                          0.5788920584
                        ]
                      },
                      {
                        "learn": [
                          0.5070906671
                        ],
                        "iteration": 83,
                        "passed_time": 19.4617195,
                        "remaining_time": 96.38184895,
                        "test": [
                          0.6216000832,
                          0.5788068531
                        ]
                      },
                      {
                        "learn": [
                          0.5063957675
                        ],
                        "iteration": 84,
                        "passed_time": 19.86801594,
                        "remaining_time": 97.00266607,
                        "test": [
                          0.6213257799,
                          0.5789278192
                        ]
                      },
                      {
                        "learn": [
                          0.5059494653
                        ],
                        "iteration": 85,
                        "passed_time": 20.37722099,
                        "remaining_time": 98.09499407,
                        "test": [
                          0.6216838178,
                          0.578836876
                        ]
                      },
                      {
                        "learn": [
                          0.5054178454
                        ],
                        "iteration": 86,
                        "passed_time": 20.73137643,
                        "remaining_time": 98.41446514,
                        "test": [
                          0.6215076863,
                          0.5789491661
                        ]
                      },
                      {
                        "learn": [
                          0.5045936497
                        ],
                        "iteration": 87,
                        "passed_time": 21.17641655,
                        "remaining_time": 99.14413205,
                        "test": [
                          0.6217242415,
                          0.578808393
                        ]
                      },
                      {
                        "learn": [
                          0.5039505252
                        ],
                        "iteration": 88,
                        "passed_time": 21.55447491,
                        "remaining_time": 99.53808076,
                        "test": [
                          0.6214355012,
                          0.5790143132
                        ]
                      },
                      {
                        "learn": [
                          0.5033398502
                        ],
                        "iteration": 89,
                        "passed_time": 21.94152202,
                        "remaining_time": 99.95582253,
                        "test": [
                          0.6222612984,
                          0.5788313646
                        ]
                      },
                      {
                        "learn": [
                          0.5025079442
                        ],
                        "iteration": 90,
                        "passed_time": 22.27461321,
                        "remaining_time": 100.1133715,
                        "test": [
                          0.6225384891,
                          0.5788024796
                        ]
                      },
                      {
                        "learn": [
                          0.5017662087
                        ],
                        "iteration": 91,
                        "passed_time": 22.65356792,
                        "remaining_time": 100.463649,
                        "test": [
                          0.6220274188,
                          0.578816378
                        ]
                      },
                      {
                        "learn": [
                          0.5010856889
                        ],
                        "iteration": 92,
                        "passed_time": 22.96321489,
                        "remaining_time": 100.4949297,
                        "test": [
                          0.6213113429,
                          0.5789613215
                        ]
                      },
                      {
                        "learn": [
                          0.5003308122
                        ],
                        "iteration": 93,
                        "passed_time": 23.39062125,
                        "remaining_time": 101.0275769,
                        "test": [
                          0.6219263597,
                          0.578802753
                        ]
                      },
                      {
                        "learn": [
                          0.4997661083
                        ],
                        "iteration": 94,
                        "passed_time": 23.81399334,
                        "remaining_time": 101.5228137,
                        "test": [
                          0.6218455124,
                          0.5788576426
                        ]
                      },
                      {
                        "learn": [
                          0.4990927339
                        ],
                        "iteration": 95,
                        "passed_time": 24.29571549,
                        "remaining_time": 102.2444694,
                        "test": [
                          0.6209706293,
                          0.5790616032
                        ]
                      },
                      {
                        "learn": [
                          0.4982578473
                        ],
                        "iteration": 96,
                        "passed_time": 24.65649709,
                        "remaining_time": 102.4388487,
                        "test": [
                          0.6206328032,
                          0.5791219819
                        ]
                      },
                      {
                        "learn": [
                          0.4976420308
                        ],
                        "iteration": 97,
                        "passed_time": 25.03812617,
                        "remaining_time": 102.7074155,
                        "test": [
                          0.6209359805,
                          0.5791419465
                        ]
                      },
                      {
                        "learn": [
                          0.4971748054
                        ],
                        "iteration": 98,
                        "passed_time": 25.370401,
                        "remaining_time": 102.7629374,
                        "test": [
                          0.621276694,
                          0.5790988132
                        ]
                      },
                      {
                        "learn": [
                          0.4964881393
                        ],
                        "iteration": 99,
                        "passed_time": 25.68722716,
                        "remaining_time": 102.7489086,
                        "test": [
                          0.621455713,
                          0.5790174604
                        ]
                      },
                      {
                        "learn": [
                          0.495720003
                        ],
                        "iteration": 100,
                        "passed_time": 26.05379219,
                        "remaining_time": 102.9253771,
                        "test": [
                          0.6217444533,
                          0.5789675887
                        ]
                      },
                      {
                        "learn": [
                          0.4948751512
                        ],
                        "iteration": 101,
                        "passed_time": 26.44810228,
                        "remaining_time": 103.1994579,
                        "test": [
                          0.6213200051,
                          0.5790107991
                        ]
                      },
                      {
                        "learn": [
                          0.4942443507
                        ],
                        "iteration": 102,
                        "passed_time": 26.84092567,
                        "remaining_time": 103.45483,
                        "test": [
                          0.6213431043,
                          0.5790138823
                        ]
                      },
                      {
                        "learn": [
                          0.4934015837
                        ],
                        "iteration": 103,
                        "passed_time": 27.17284467,
                        "remaining_time": 103.4658316,
                        "test": [
                          0.6210919003,
                          0.579002146
                        ]
                      },
                      {
                        "learn": [
                          0.4928589135
                        ],
                        "iteration": 104,
                        "passed_time": 27.50601994,
                        "remaining_time": 103.4750274,
                        "test": [
                          0.6213200051,
                          0.5790300881
                        ]
                      },
                      {
                        "learn": [
                          0.4924492506
                        ],
                        "iteration": 105,
                        "passed_time": 27.79168644,
                        "remaining_time": 103.3011741,
                        "test": [
                          0.6216000832,
                          0.5789100876
                        ]
                      },
                      {
                        "learn": [
                          0.4920804421
                        ],
                        "iteration": 106,
                        "passed_time": 28.11279208,
                        "remaining_time": 103.2553952,
                        "test": [
                          0.621842625,
                          0.5787982118
                        ]
                      },
                      {
                        "learn": [
                          0.4914582833
                        ],
                        "iteration": 107,
                        "passed_time": 28.45426893,
                        "remaining_time": 103.2784576,
                        "test": [
                          0.6214037398,
                          0.5789141933
                        ]
                      },
                      {
                        "learn": [
                          0.4909277591
                        ],
                        "iteration": 108,
                        "passed_time": 28.73951197,
                        "remaining_time": 103.0931118,
                        "test": [
                          0.6211034499,
                          0.5789622589
                        ]
                      },
                      {
                        "learn": [
                          0.4906640275
                        ],
                        "iteration": 109,
                        "passed_time": 29.24250622,
                        "remaining_time": 103.6779766,
                        "test": [
                          0.6209475301,
                          0.5790610774
                        ]
                      },
                      {
                        "learn": [
                          0.4900669077
                        ],
                        "iteration": 110,
                        "passed_time": 29.85039673,
                        "remaining_time": 104.6108498,
                        "test": [
                          0.6209215435,
                          0.579187914
                        ]
                      },
                      {
                        "learn": [
                          0.4893690184
                        ],
                        "iteration": 111,
                        "passed_time": 30.49764178,
                        "remaining_time": 105.6525447,
                        "test": [
                          0.6214759248,
                          0.5790224
                        ]
                      },
                      {
                        "learn": [
                          0.4886237171
                        ],
                        "iteration": 112,
                        "passed_time": 30.87221801,
                        "remaining_time": 105.7305165,
                        "test": [
                          0.6208811199,
                          0.5791462435
                        ]
                      },
                      {
                        "learn": [
                          0.4881172024
                        ],
                        "iteration": 113,
                        "passed_time": 31.18325354,
                        "remaining_time": 105.5854023,
                        "test": [
                          0.6210572514,
                          0.5790550261
                        ]
                      },
                      {
                        "learn": [
                          0.4874967265
                        ],
                        "iteration": 114,
                        "passed_time": 31.59861933,
                        "remaining_time": 105.7866821,
                        "test": [
                          0.6206761142,
                          0.5792302266
                        ]
                      },
                      {
                        "learn": [
                          0.4867808317
                        ],
                        "iteration": 115,
                        "passed_time": 31.83903387,
                        "remaining_time": 105.3981811,
                        "test": [
                          0.6209244309,
                          0.5790939236
                        ]
                      },
                      {
                        "learn": [
                          0.4862380022
                        ],
                        "iteration": 116,
                        "passed_time": 32.08709377,
                        "remaining_time": 105.0372386,
                        "test": [
                          0.6218455124,
                          0.5788370617
                        ]
                      },
                      {
                        "learn": [
                          0.4854702688
                        ],
                        "iteration": 117,
                        "passed_time": 32.31278687,
                        "remaining_time": 104.6058016,
                        "test": [
                          0.6216174076,
                          0.5787850853
                        ]
                      },
                      {
                        "learn": [
                          0.4847738613
                        ],
                        "iteration": 118,
                        "passed_time": 32.61123609,
                        "remaining_time": 104.4107643,
                        "test": [
                          0.6218166384,
                          0.5788036352
                        ]
                      },
                      {
                        "learn": [
                          0.4841894637
                        ],
                        "iteration": 119,
                        "passed_time": 32.74334877,
                        "remaining_time": 103.6872711,
                        "test": [
                          0.6211352113,
                          0.5789693196
                        ]
                      },
                      {
                        "learn": [
                          0.4835356874
                        ],
                        "iteration": 120,
                        "passed_time": 32.93095499,
                        "remaining_time": 103.1473714,
                        "test": [
                          0.6213633161,
                          0.5788613937
                        ]
                      },
                      {
                        "learn": [
                          0.482882853
                        ],
                        "iteration": 121,
                        "passed_time": 33.19542575,
                        "remaining_time": 102.8514011,
                        "test": [
                          0.6208840073,
                          0.579103665
                        ]
                      },
                      {
                        "learn": [
                          0.4825590649
                        ],
                        "iteration": 122,
                        "passed_time": 33.3970635,
                        "remaining_time": 102.3633572,
                        "test": [
                          0.6207973852,
                          0.5791462485
                        ]
                      },
                      {
                        "learn": [
                          0.4819468193
                        ],
                        "iteration": 123,
                        "passed_time": 33.6184419,
                        "remaining_time": 101.9397916,
                        "test": [
                          0.6205375189,
                          0.5790985959
                        ]
                      },
                      {
                        "learn": [
                          0.4813482538
                        ],
                        "iteration": 124,
                        "passed_time": 33.77018071,
                        "remaining_time": 101.3105421,
                        "test": [
                          0.6208002726,
                          0.578993976
                        ]
                      },
                      {
                        "learn": [
                          0.4807862352
                        ],
                        "iteration": 125,
                        "passed_time": 33.95655741,
                        "remaining_time": 100.7916863,
                        "test": [
                          0.6201592691,
                          0.5793009228
                        ]
                      },
                      {
                        "learn": [
                          0.4801497656
                        ],
                        "iteration": 126,
                        "passed_time": 34.12121404,
                        "remaining_time": 100.2142743,
                        "test": [
                          0.6205692803,
                          0.5790971388
                        ]
                      },
                      {
                        "learn": [
                          0.4796979452
                        ],
                        "iteration": 127,
                        "passed_time": 34.32402683,
                        "remaining_time": 99.75420298,
                        "test": [
                          0.6208724576,
                          0.5789339203
                        ]
                      },
                      {
                        "learn": [
                          0.4792316311
                        ],
                        "iteration": 128,
                        "passed_time": 34.56978421,
                        "remaining_time": 99.42162745,
                        "test": [
                          0.6211583105,
                          0.5788778263
                        ]
                      },
                      {
                        "learn": [
                          0.4786328507
                        ],
                        "iteration": 129,
                        "passed_time": 34.73038734,
                        "remaining_time": 98.84802551,
                        "test": [
                          0.6217531155,
                          0.5788234974
                        ]
                      },
                      {
                        "learn": [
                          0.4778271099
                        ],
                        "iteration": 130,
                        "passed_time": 34.89570021,
                        "remaining_time": 98.29399526,
                        "test": [
                          0.6215567721,
                          0.5789883406
                        ]
                      },
                      {
                        "learn": [
                          0.4771801499
                        ],
                        "iteration": 131,
                        "passed_time": 35.10290602,
                        "remaining_time": 97.86264709,
                        "test": [
                          0.6209215435,
                          0.5792038124
                        ]
                      },
                      {
                        "learn": [
                          0.4766490257
                        ],
                        "iteration": 132,
                        "passed_time": 35.31654979,
                        "remaining_time": 97.45243438,
                        "test": [
                          0.6209619671,
                          0.5791256364
                        ]
                      },
                      {
                        "learn": [
                          0.4760847698
                        ],
                        "iteration": 133,
                        "passed_time": 35.4894404,
                        "remaining_time": 96.93384468,
                        "test": [
                          0.6205692803,
                          0.579203895
                        ]
                      },
                      {
                        "learn": [
                          0.4755766588
                        ],
                        "iteration": 134,
                        "passed_time": 35.66033788,
                        "remaining_time": 96.4149876,
                        "test": [
                          0.6204884331,
                          0.5793574298
                        ]
                      },
                      {
                        "learn": [
                          0.4748132505
                        ],
                        "iteration": 135,
                        "passed_time": 35.85672105,
                        "remaining_time": 95.96945928,
                        "test": [
                          0.6205115323,
                          0.579519275
                        ]
                      },
                      {
                        "learn": [
                          0.4742555544
                        ],
                        "iteration": 136,
                        "passed_time": 36.07474493,
                        "remaining_time": 95.5849081,
                        "test": [
                          0.6203296259,
                          0.5796506143
                        ]
                      },
                      {
                        "learn": [
                          0.4737167118
                        ],
                        "iteration": 137,
                        "passed_time": 36.27322042,
                        "remaining_time": 95.15149126,
                        "test": [
                          0.6206010418,
                          0.5796253486
                        ]
                      },
                      {
                        "learn": [
                          0.4731246402
                        ],
                        "iteration": 138,
                        "passed_time": 36.5457978,
                        "remaining_time": 94.91390652,
                        "test": [
                          0.6207021009,
                          0.5797020087
                        ]
                      },
                      {
                        "learn": [
                          0.4727070874
                        ],
                        "iteration": 139,
                        "passed_time": 36.70069156,
                        "remaining_time": 94.37320688,
                        "test": [
                          0.6197348209,
                          0.5800332069
                        ]
                      },
                      {
                        "learn": [
                          0.4723055021
                        ],
                        "iteration": 140,
                        "passed_time": 36.87425496,
                        "remaining_time": 93.88551439,
                        "test": [
                          0.6195067161,
                          0.580186355
                        ]
                      },
                      {
                        "learn": [
                          0.471786205
                        ],
                        "iteration": 141,
                        "passed_time": 37.0535186,
                        "remaining_time": 93.41661731,
                        "test": [
                          0.6187386669,
                          0.5802965483
                        ]
                      },
                      {
                        "learn": [
                          0.4711391542
                        ],
                        "iteration": 142,
                        "passed_time": 37.21497596,
                        "remaining_time": 92.9073176,
                        "test": [
                          0.618602959,
                          0.580357281
                        ]
                      },
                      {
                        "learn": [
                          0.4705078941
                        ],
                        "iteration": 143,
                        "passed_time": 37.40513984,
                        "remaining_time": 92.47381793,
                        "test": [
                          0.617993717,
                          0.5806242337
                        ]
                      },
                      {
                        "learn": [
                          0.4699802019
                        ],
                        "iteration": 144,
                        "passed_time": 37.61826352,
                        "remaining_time": 92.09988656,
                        "test": [
                          0.6177973736,
                          0.5808090029
                        ]
                      },
                      {
                        "learn": [
                          0.4693183714
                        ],
                        "iteration": 145,
                        "passed_time": 37.80383452,
                        "remaining_time": 91.6613522,
                        "test": [
                          0.6180283658,
                          0.5807221549
                        ]
                      },
                      {
                        "learn": [
                          0.4687441466
                        ],
                        "iteration": 146,
                        "passed_time": 38.01526616,
                        "remaining_time": 91.28836023,
                        "test": [
                          0.6186202834,
                          0.5806418859
                        ]
                      },
                      {
                        "learn": [
                          0.4680072468
                        ],
                        "iteration": 147,
                        "passed_time": 38.24939998,
                        "remaining_time": 90.97154591,
                        "test": [
                          0.6178118106,
                          0.5809027621
                        ]
                      },
                      {
                        "learn": [
                          0.4673613734
                        ],
                        "iteration": 148,
                        "passed_time": 38.4913257,
                        "remaining_time": 90.67419678,
                        "test": [
                          0.6177251885,
                          0.5809385141
                        ]
                      },
                      {
                        "learn": [
                          0.4668000952
                        ],
                        "iteration": 149,
                        "passed_time": 38.63852617,
                        "remaining_time": 90.15656106,
                        "test": [
                          0.6170177749,
                          0.5811767491
                        ]
                      },
                      {
                        "learn": [
                          0.4660792817
                        ],
                        "iteration": 150,
                        "passed_time": 38.73387829,
                        "remaining_time": 89.52399684,
                        "test": [
                          0.6173094025,
                          0.5809582144
                        ]
                      },
                      {
                        "learn": [
                          0.4652696875
                        ],
                        "iteration": 151,
                        "passed_time": 38.82951832,
                        "remaining_time": 88.89916036,
                        "test": [
                          0.6172660915,
                          0.5810249337
                        ]
                      },
                      {
                        "learn": [
                          0.4646964744
                        ],
                        "iteration": 152,
                        "passed_time": 38.92103505,
                        "remaining_time": 88.27188995,
                        "test": [
                          0.6170408741,
                          0.581129045
                        ]
                      },
                      {
                        "learn": [
                          0.4641945335
                        ],
                        "iteration": 153,
                        "passed_time": 39.01715891,
                        "remaining_time": 87.66192845,
                        "test": [
                          0.6170466489,
                          0.5812043917
                        ]
                      },
                      {
                        "learn": [
                          0.463770384
                        ],
                        "iteration": 154,
                        "passed_time": 39.12471368,
                        "remaining_time": 87.08404013,
                        "test": [
                          0.6170899599,
                          0.5811351998
                        ]
                      },
                      {
                        "learn": [
                          0.4632389844
                        ],
                        "iteration": 155,
                        "passed_time": 39.2182984,
                        "remaining_time": 86.48137595,
                        "test": [
                          0.6174941963,
                          0.5810120169
                        ]
                      },
                      {
                        "learn": [
                          0.4627532625
                        ],
                        "iteration": 156,
                        "passed_time": 39.31439492,
                        "remaining_time": 85.89068445,
                        "test": [
                          0.6175721562,
                          0.5809810453
                        ]
                      },
                      {
                        "learn": [
                          0.462103367
                        ],
                        "iteration": 157,
                        "passed_time": 39.40909248,
                        "remaining_time": 85.30322551,
                        "test": [
                          0.6176010302,
                          0.5810946419
                        ]
                      },
                      {
                        "learn": [
                          0.4615822574
                        ],
                        "iteration": 158,
                        "passed_time": 39.51412405,
                        "remaining_time": 84.74412768,
                        "test": [
                          0.6182766825,
                          0.5808717742
                        ]
                      },
                      {
                        "learn": [
                          0.460770169
                        ],
                        "iteration": 159,
                        "passed_time": 39.60521549,
                        "remaining_time": 84.16108292,
                        "test": [
                          0.6187213425,
                          0.5808592649
                        ]
                      },
                      {
                        "learn": [
                          0.4602009861
                        ],
                        "iteration": 160,
                        "passed_time": 39.71204459,
                        "remaining_time": 83.61728644,
                        "test": [
                          0.6183892912,
                          0.5809735593
                        ]
                      },
                      {
                        "learn": [
                          0.4596975773
                        ],
                        "iteration": 161,
                        "passed_time": 39.81282535,
                        "remaining_time": 83.06626523,
                        "test": [
                          0.6179157571,
                          0.5810479786
                        ]
                      },
                      {
                        "learn": [
                          0.4590156226
                        ],
                        "iteration": 162,
                        "passed_time": 39.90791781,
                        "remaining_time": 82.50900799,
                        "test": [
                          0.6180918887,
                          0.5810512435
                        ]
                      },
                      {
                        "learn": [
                          0.4582520885
                        ],
                        "iteration": 163,
                        "passed_time": 40.00154412,
                        "remaining_time": 81.95438308,
                        "test": [
                          0.6185625354,
                          0.5809374598
                        ]
                      },
                      {
                        "learn": [
                          0.4576048017
                        ],
                        "iteration": 164,
                        "passed_time": 40.10840041,
                        "remaining_time": 81.43220689,
                        "test": [
                          0.618975434,
                          0.5807787949
                        ]
                      },
                      {
                        "learn": [
                          0.4569671921
                        ],
                        "iteration": 165,
                        "passed_time": 40.20516874,
                        "remaining_time": 80.89473711,
                        "test": [
                          0.618366192,
                          0.5809276621
                        ]
                      },
                      {
                        "learn": [
                          0.456154645
                        ],
                        "iteration": 166,
                        "passed_time": 40.30614152,
                        "remaining_time": 80.37092889,
                        "test": [
                          0.6183084439,
                          0.581061719
                        ]
                      },
                      {
                        "learn": [
                          0.4556825448
                        ],
                        "iteration": 167,
                        "passed_time": 40.40176645,
                        "remaining_time": 79.84158609,
                        "test": [
                          0.6183430928,
                          0.5810257846
                        ]
                      },
                      {
                        "learn": [
                          0.4550876893
                        ],
                        "iteration": 168,
                        "passed_time": 40.50421168,
                        "remaining_time": 79.33073412,
                        "test": [
                          0.6186520449,
                          0.5807724332
                        ]
                      },
                      {
                        "learn": [
                          0.454390296
                        ],
                        "iteration": 169,
                        "passed_time": 40.5992551,
                        "remaining_time": 78.81031873,
                        "test": [
                          0.6188224016,
                          0.5807720652
                        ]
                      },
                      {
                        "learn": [
                          0.4538193996
                        ],
                        "iteration": 170,
                        "passed_time": 40.69376154,
                        "remaining_time": 78.2938453,
                        "test": [
                          0.6193883326,
                          0.5805184865
                        ]
                      },
                      {
                        "learn": [
                          0.4531944899
                        ],
                        "iteration": 171,
                        "passed_time": 40.78907138,
                        "remaining_time": 77.78381053,
                        "test": [
                          0.6193248097,
                          0.5805349423
                        ]
                      },
                      {
                        "learn": [
                          0.4524942807
                        ],
                        "iteration": 172,
                        "passed_time": 40.88500719,
                        "remaining_time": 77.27975347,
                        "test": [
                          0.6193594586,
                          0.5805973413
                        ]
                      },
                      {
                        "learn": [
                          0.4520528886
                        ],
                        "iteration": 173,
                        "passed_time": 40.97737136,
                        "remaining_time": 76.77369577,
                        "test": [
                          0.619154453,
                          0.5806845483
                        ]
                      },
                      {
                        "learn": [
                          0.4514471088
                        ],
                        "iteration": 174,
                        "passed_time": 41.08176164,
                        "remaining_time": 76.29470019,
                        "test": [
                          0.6193219223,
                          0.5808274104
                        ]
                      },
                      {
                        "learn": [
                          0.4509748589
                        ],
                        "iteration": 175,
                        "passed_time": 41.17782422,
                        "remaining_time": 75.80463096,
                        "test": [
                          0.6199340517,
                          0.5807434692
                        ]
                      },
                      {
                        "learn": [
                          0.4503914665
                        ],
                        "iteration": 176,
                        "passed_time": 41.26924938,
                        "remaining_time": 75.31055113,
                        "test": [
                          0.6193045979,
                          0.5809002518
                        ]
                      },
                      {
                        "learn": [
                          0.449584588
                        ],
                        "iteration": 177,
                        "passed_time": 41.36446182,
                        "remaining_time": 74.82784667,
                        "test": [
                          0.6199889124,
                          0.5808669798
                        ]
                      },
                      {
                        "learn": [
                          0.4488905599
                        ],
                        "iteration": 178,
                        "passed_time": 41.46018812,
                        "remaining_time": 74.35039322,
                        "test": [
                          0.6204364598,
                          0.5807148761
                        ]
                      },
                      {
                        "learn": [
                          0.4483985774
                        ],
                        "iteration": 179,
                        "passed_time": 41.59329847,
                        "remaining_time": 73.94364173,
                        "test": [
                          0.6204133606,
                          0.5807397084
                        ]
                      },
                      {
                        "learn": [
                          0.4478586953
                        ],
                        "iteration": 180,
                        "passed_time": 41.77115822,
                        "remaining_time": 73.61878161,
                        "test": [
                          0.6195153783,
                          0.5810288329
                        ]
                      },
                      {
                        "learn": [
                          0.4471989509
                        ],
                        "iteration": 181,
                        "passed_time": 41.94983807,
                        "remaining_time": 73.29696982,
                        "test": [
                          0.6191919892,
                          0.5810862777
                        ]
                      },
                      {
                        "learn": [
                          0.4466170016
                        ],
                        "iteration": 182,
                        "passed_time": 42.15161294,
                        "remaining_time": 73.01672843,
                        "test": [
                          0.6199427139,
                          0.5808528405
                        ]
                      },
                      {
                        "learn": [
                          0.4458479836
                        ],
                        "iteration": 183,
                        "passed_time": 42.32174144,
                        "remaining_time": 72.68299073,
                        "test": [
                          0.619405657,
                          0.5810031965
                        ]
                      },
                      {
                        "learn": [
                          0.4452163799
                        ],
                        "iteration": 184,
                        "passed_time": 42.48022046,
                        "remaining_time": 72.33118619,
                        "test": [
                          0.6187762032,
                          0.5811964149
                        ]
                      },
                      {
                        "learn": [
                          0.4446582682
                        ],
                        "iteration": 185,
                        "passed_time": 42.62770436,
                        "remaining_time": 71.96289876,
                        "test": [
                          0.6184759133,
                          0.581322097
                        ]
                      },
                      {
                        "learn": [
                          0.4438555417
                        ],
                        "iteration": 186,
                        "passed_time": 42.81439309,
                        "remaining_time": 71.66259378,
                        "test": [
                          0.6193941074,
                          0.5810034002
                        ]
                      },
                      {
                        "learn": [
                          0.4431854502
                        ],
                        "iteration": 187,
                        "passed_time": 42.98925351,
                        "remaining_time": 71.34386753,
                        "test": [
                          0.6196366492,
                          0.580832437
                        ]
                      },
                      {
                        "learn": [
                          0.4426065357
                        ],
                        "iteration": 188,
                        "passed_time": 43.18957067,
                        "remaining_time": 71.06855279,
                        "test": [
                          0.6196077752,
                          0.5808456479
                        ]
                      },
                      {
                        "learn": [
                          0.4421254273
                        ],
                        "iteration": 189,
                        "passed_time": 43.36528771,
                        "remaining_time": 70.75389047,
                        "test": [
                          0.6200062368,
                          0.5807131223
                        ]
                      },
                      {
                        "learn": [
                          0.4414486881
                        ],
                        "iteration": 190,
                        "passed_time": 43.54966911,
                        "remaining_time": 70.4547003,
                        "test": [
                          0.6209013317,
                          0.5804039007
                        ]
                      },
                      {
                        "learn": [
                          0.440868598
                        ],
                        "iteration": 191,
                        "passed_time": 43.73594628,
                        "remaining_time": 70.15974716,
                        "test": [
                          0.6211323239,
                          0.5803836692
                        ]
                      },
                      {
                        "learn": [
                          0.4401910121
                        ],
                        "iteration": 192,
                        "passed_time": 43.91762983,
                        "remaining_time": 69.85861326,
                        "test": [
                          0.6216000832,
                          0.580137351
                        ]
                      },
                      {
                        "learn": [
                          0.4394333951
                        ],
                        "iteration": 193,
                        "passed_time": 44.12983488,
                        "remaining_time": 69.60685296,
                        "test": [
                          0.621218946,
                          0.5803739426
                        ]
                      },
                      {
                        "learn": [
                          0.4389451892
                        ],
                        "iteration": 194,
                        "passed_time": 44.31051506,
                        "remaining_time": 69.30619023,
                        "test": [
                          0.621678043,
                          0.580230854
                        ]
                      },
                      {
                        "learn": [
                          0.4382279848
                        ],
                        "iteration": 195,
                        "passed_time": 44.48763296,
                        "remaining_time": 69.00122662,
                        "test": [
                          0.6218310754,
                          0.5802788002
                        ]
                      },
                      {
                        "learn": [
                          0.4374725944
                        ],
                        "iteration": 196,
                        "passed_time": 44.67274339,
                        "remaining_time": 68.70985405,
                        "test": [
                          0.6221198157,
                          0.5801412887
                        ]
                      },
                      {
                        "learn": [
                          0.4368904214
                        ],
                        "iteration": 197,
                        "passed_time": 44.84844635,
                        "remaining_time": 68.40520606,
                        "test": [
                          0.6224778536,
                          0.5800242875
                        ]
                      },
                      {
                        "learn": [
                          0.4363383476
                        ],
                        "iteration": 198,
                        "passed_time": 45.03031919,
                        "remaining_time": 68.11118631,
                        "test": [
                          0.6221920007,
                          0.5801381913
                        ]
                      },
                      {
                        "learn": [
                          0.4354031415
                        ],
                        "iteration": 199,
                        "passed_time": 45.24158911,
                        "remaining_time": 67.86238367,
                        "test": [
                          0.6221717889,
                          0.5801673911
                        ]
                      },
                      {
                        "learn": [
                          0.4345263377
                        ],
                        "iteration": 200,
                        "passed_time": 45.41646611,
                        "remaining_time": 67.55981775,
                        "test": [
                          0.6212102838,
                          0.5804472822
                        ]
                      },
                      {
                        "learn": [
                          0.4340595378
                        ],
                        "iteration": 201,
                        "passed_time": 45.59638061,
                        "remaining_time": 67.26594764,
                        "test": [
                          0.6208724576,
                          0.5806204527
                        ]
                      },
                      {
                        "learn": [
                          0.4333668205
                        ],
                        "iteration": 202,
                        "passed_time": 45.78573271,
                        "remaining_time": 66.98700796,
                        "test": [
                          0.6211207743,
                          0.5805985148
                        ]
                      },
                      {
                        "learn": [
                          0.4324957829
                        ],
                        "iteration": 203,
                        "passed_time": 45.97176716,
                        "remaining_time": 66.70413274,
                        "test": [
                          0.62102549,
                          0.5806816306
                        ]
                      },
                      {
                        "learn": [
                          0.431881845
                        ],
                        "iteration": 204,
                        "passed_time": 46.16159707,
                        "remaining_time": 66.42766408,
                        "test": [
                          0.6213517665,
                          0.580700267
                        ]
                      },
                      {
                        "learn": [
                          0.4310515324
                        ],
                        "iteration": 205,
                        "passed_time": 46.3797036,
                        "remaining_time": 66.19239252,
                        "test": [
                          0.6214383886,
                          0.5808087356
                        ]
                      },
                      {
                        "learn": [
                          0.4303200255
                        ],
                        "iteration": 206,
                        "passed_time": 46.56242463,
                        "remaining_time": 65.90720007,
                        "test": [
                          0.6211669727,
                          0.5809822138
                        ]
                      },
                      {
                        "learn": [
                          0.4295282911
                        ],
                        "iteration": 207,
                        "passed_time": 46.72353513,
                        "remaining_time": 65.59265508,
                        "test": [
                          0.6209128813,
                          0.5811649499
                        ]
                      },
                      {
                        "learn": [
                          0.4287248746
                        ],
                        "iteration": 208,
                        "passed_time": 46.91689134,
                        "remaining_time": 65.3244755,
                        "test": [
                          0.6208002726,
                          0.5812728782
                        ]
                      },
                      {
                        "learn": [
                          0.4281611201
                        ],
                        "iteration": 209,
                        "passed_time": 47.1018219,
                        "remaining_time": 65.0453731,
                        "test": [
                          0.6206818891,
                          0.581359523
                        ]
                      },
                      {
                        "learn": [
                          0.4273678898
                        ],
                        "iteration": 210,
                        "passed_time": 47.31899728,
                        "remaining_time": 64.81132803,
                        "test": [
                          0.6213286673,
                          0.581316506
                        ]
                      },
                      {
                        "learn": [
                          0.4265463042
                        ],
                        "iteration": 211,
                        "passed_time": 47.48832254,
                        "remaining_time": 64.51243817,
                        "test": [
                          0.621397965,
                          0.5814251566
                        ]
                      },
                      {
                        "learn": [
                          0.4257429747
                        ],
                        "iteration": 212,
                        "passed_time": 47.5833812,
                        "remaining_time": 64.11469673,
                        "test": [
                          0.6209533049,
                          0.5815028146
                        ]
                      },
                      {
                        "learn": [
                          0.4252168934
                        ],
                        "iteration": 213,
                        "passed_time": 47.69099548,
                        "remaining_time": 63.73656405,
                        "test": [
                          0.6205490685,
                          0.5816460698
                        ]
                      },
                      {
                        "learn": [
                          0.4246363564
                        ],
                        "iteration": 214,
                        "passed_time": 47.7875125,
                        "remaining_time": 63.3462375,
                        "test": [
                          0.6199946872,
                          0.5818941815
                        ]
                      },
                      {
                        "learn": [
                          0.4238649123
                        ],
                        "iteration": 215,
                        "passed_time": 47.88063076,
                        "remaining_time": 62.95416266,
                        "test": [
                          0.6188743749,
                          0.5823980133
                        ]
                      },
                      {
                        "learn": [
                          0.4232600299
                        ],
                        "iteration": 216,
                        "passed_time": 47.97459163,
                        "remaining_time": 62.56594207,
                        "test": [
                          0.6195124909,
                          0.582102073
                        ]
                      },
                      {
                        "learn": [
                          0.4225774933
                        ],
                        "iteration": 217,
                        "passed_time": 48.0683458,
                        "remaining_time": 62.18015374,
                        "test": [
                          0.6205288567,
                          0.5818090699
                        ]
                      },
                      {
                        "learn": [
                          0.4220205569
                        ],
                        "iteration": 218,
                        "passed_time": 48.16154611,
                        "remaining_time": 61.79632172,
                        "test": [
                          0.6205866048,
                          0.5818364359
                        ]
                      },
                      {
                        "learn": [
                          0.4213000808
                        ],
                        "iteration": 219,
                        "passed_time": 48.26899216,
                        "remaining_time": 61.43326274,
                        "test": [
                          0.6209215435,
                          0.5818345585
                        ]
                      },
                      {
                        "learn": [
                          0.4207360155
                        ],
                        "iteration": 220,
                        "passed_time": 48.36028504,
                        "remaining_time": 61.05212456,
                        "test": [
                          0.6212102838,
                          0.5818723195
                        ]
                      },
                      {
                        "learn": [
                          0.4202083218
                        ],
                        "iteration": 221,
                        "passed_time": 48.45532659,
                        "remaining_time": 60.67829185,
                        "test": [
                          0.6212102838,
                          0.5820206384
                        ]
                      },
                      {
                        "learn": [
                          0.4195348503
                        ],
                        "iteration": 222,
                        "passed_time": 48.54708117,
                        "remaining_time": 60.30287661,
                        "test": [
                          0.6213835279,
                          0.5820734995
                        ]
                      },
                      {
                        "learn": [
                          0.4188415949
                        ],
                        "iteration": 223,
                        "passed_time": 48.63936109,
                        "remaining_time": 59.93064134,
                        "test": [
                          0.6215278981,
                          0.5820121089
                        ]
                      },
                      {
                        "learn": [
                          0.4182243316
                        ],
                        "iteration": 224,
                        "passed_time": 48.74309059,
                        "remaining_time": 59.5748885,
                        "test": [
                          0.6211323239,
                          0.5820918784
                        ]
                      },
                      {
                        "learn": [
                          0.4174584892
                        ],
                        "iteration": 225,
                        "passed_time": 48.83246037,
                        "remaining_time": 59.20395638,
                        "test": [
                          0.6209330931,
                          0.5822971944
                        ]
                      },
                      {
                        "learn": [
                          0.4168944001
                        ],
                        "iteration": 226,
                        "passed_time": 48.92442732,
                        "remaining_time": 58.83862845,
                        "test": [
                          0.6213835279,
                          0.5821296063
                        ]
                      },
                      {
                        "learn": [
                          0.4161124537
                        ],
                        "iteration": 227,
                        "passed_time": 49.01668262,
                        "remaining_time": 58.47604243,
                        "test": [
                          0.6218657242,
                          0.5818500619
                        ]
                      },
                      {
                        "learn": [
                          0.415309516
                        ],
                        "iteration": 228,
                        "passed_time": 49.11689315,
                        "remaining_time": 58.12523163,
                        "test": [
                          0.621828188,
                          0.5819160942
                        ]
                      },
                      {
                        "learn": [
                          0.4146173218
                        ],
                        "iteration": 229,
                        "passed_time": 49.219124,
                        "remaining_time": 57.77897166,
                        "test": [
                          0.6216462816,
                          0.5820519483
                        ]
                      },
                      {
                        "learn": [
                          0.4138785592
                        ],
                        "iteration": 230,
                        "passed_time": 49.32382075,
                        "remaining_time": 57.43769603,
                        "test": [
                          0.62169248,
                          0.581974767
                        ]
                      },
                      {
                        "learn": [
                          0.4134192349
                        ],
                        "iteration": 231,
                        "passed_time": 49.41398045,
                        "remaining_time": 57.08166707,
                        "test": [
                          0.6216838178,
                          0.5820332753
                        ]
                      },
                      {
                        "learn": [
                          0.4127639939
                        ],
                        "iteration": 232,
                        "passed_time": 49.50487199,
                        "remaining_time": 56.72875888,
                        "test": [
                          0.6218888234,
                          0.5819747344
                        ]
                      },
                      {
                        "learn": [
                          0.4119630595
                        ],
                        "iteration": 233,
                        "passed_time": 49.59670624,
                        "remaining_time": 56.37916179,
                        "test": [
                          0.6223796819,
                          0.5817971151
                        ]
                      },
                      {
                        "learn": [
                          0.4112136498
                        ],
                        "iteration": 234,
                        "passed_time": 49.69191642,
                        "remaining_time": 56.03556532,
                        "test": [
                          0.6222266496,
                          0.5818362673
                        ]
                      },
                      {
                        "learn": [
                          0.4104905945
                        ],
                        "iteration": 235,
                        "passed_time": 49.78921908,
                        "remaining_time": 55.69641456,
                        "test": [
                          0.6221371401,
                          0.5818539514
                        ]
                      },
                      {
                        "learn": [
                          0.4097436411
                        ],
                        "iteration": 236,
                        "passed_time": 49.8831695,
                        "remaining_time": 55.35558472,
                        "test": [
                          0.6226251112,
                          0.5817826956
                        ]
                      },
                      {
                        "learn": [
                          0.4092567322
                        ],
                        "iteration": 237,
                        "passed_time": 49.97508861,
                        "remaining_time": 55.01459334,
                        "test": [
                          0.6227117333,
                          0.5816794175
                        ]
                      },
                      {
                        "learn": [
                          0.4086673092
                        ],
                        "iteration": 238,
                        "passed_time": 50.07184948,
                        "remaining_time": 54.6809737,
                        "test": [
                          0.6231881547,
                          0.5815923356
                        ]
                      },
                      {
                        "learn": [
                          0.4080210172
                        ],
                        "iteration": 239,
                        "passed_time": 50.16747077,
                        "remaining_time": 54.34809334,
                        "test": [
                          0.6236183777,
                          0.5814139764
                        ]
                      },
                      {
                        "learn": [
                          0.4073761073
                        ],
                        "iteration": 240,
                        "passed_time": 50.28279686,
                        "remaining_time": 54.03835845,
                        "test": [
                          0.6231881547,
                          0.5816242612
                        ]
                      },
                      {
                        "learn": [
                          0.4066327478
                        ],
                        "iteration": 241,
                        "passed_time": 50.37666493,
                        "remaining_time": 53.70735352,
                        "test": [
                          0.6225327143,
                          0.5819418704
                        ]
                      },
                      {
                        "learn": [
                          0.4059439097
                        ],
                        "iteration": 242,
                        "passed_time": 50.47182837,
                        "remaining_time": 53.37967033,
                        "test": [
                          0.6221602393,
                          0.582221508
                        ]
                      },
                      {
                        "learn": [
                          0.4052290596
                        ],
                        "iteration": 243,
                        "passed_time": 50.56518112,
                        "remaining_time": 53.05199331,
                        "test": [
                          0.6218022014,
                          0.5822330826
                        ]
                      },
                      {
                        "learn": [
                          0.4046168671
                        ],
                        "iteration": 244,
                        "passed_time": 50.65827642,
                        "remaining_time": 52.72596117,
                        "test": [
                          0.6213084555,
                          0.5824377497
                        ]
                      },
                      {
                        "learn": [
                          0.4040495562
                        ],
                        "iteration": 245,
                        "passed_time": 50.75693427,
                        "remaining_time": 52.40756628,
                        "test": [
                          0.6207049883,
                          0.5827238861
                        ]
                      },
                      {
                        "learn": [
                          0.4033708558
                        ],
                        "iteration": 246,
                        "passed_time": 50.8526515,
                        "remaining_time": 52.08793858,
                        "test": [
                          0.6211352113,
                          0.5825494378
                        ]
                      },
                      {
                        "learn": [
                          0.4026951402
                        ],
                        "iteration": 247,
                        "passed_time": 50.94507629,
                        "remaining_time": 51.76677107,
                        "test": [
                          0.6210947877,
                          0.582573813
                        ]
                      },
                      {
                        "learn": [
                          0.4020754406
                        ],
                        "iteration": 248,
                        "passed_time": 51.03936226,
                        "remaining_time": 51.44931698,
                        "test": [
                          0.6214759248,
                          0.5824745224
                        ]
                      },
                      {
                        "learn": [
                          0.4014683587
                        ],
                        "iteration": 249,
                        "passed_time": 51.13184928,
                        "remaining_time": 51.13184928,
                        "test": [
                          0.6211987342,
                          0.582568425
                        ]
                      },
                      {
                        "learn": [
                          0.4007191847
                        ],
                        "iteration": 250,
                        "passed_time": 51.2272709,
                        "remaining_time": 50.81908547,
                        "test": [
                          0.6211265491,
                          0.5827462598
                        ]
                      },
                      {
                        "learn": [
                          0.3998284414
                        ],
                        "iteration": 251,
                        "passed_time": 51.34032591,
                        "remaining_time": 50.5254001,
                        "test": [
                          0.6211236617,
                          0.5827442147
                        ]
                      },
                      {
                        "learn": [
                          0.3990562337
                        ],
                        "iteration": 252,
                        "passed_time": 51.43430391,
                        "remaining_time": 50.21451804,
                        "test": [
                          0.6204970953,
                          0.5831660355
                        ]
                      },
                      {
                        "learn": [
                          0.3983995111
                        ],
                        "iteration": 253,
                        "passed_time": 51.52606258,
                        "remaining_time": 49.90319447,
                        "test": [
                          0.6198936281,
                          0.5833487212
                        ]
                      },
                      {
                        "learn": [
                          0.3976813947
                        ],
                        "iteration": 254,
                        "passed_time": 51.6181015,
                        "remaining_time": 49.59386222,
                        "test": [
                          0.6203007519,
                          0.5832076362
                        ]
                      },
                      {
                        "learn": [
                          0.3970442782
                        ],
                        "iteration": 255,
                        "passed_time": 51.71544623,
                        "remaining_time": 49.29128469,
                        "test": [
                          0.6199658132,
                          0.583337236
                        ]
                      },
                      {
                        "learn": [
                          0.3965057413
                        ],
                        "iteration": 256,
                        "passed_time": 51.80829555,
                        "remaining_time": 48.98605377,
                        "test": [
                          0.6198098934,
                          0.5834206286
                        ]
                      },
                      {
                        "learn": [
                          0.3956032515
                        ],
                        "iteration": 257,
                        "passed_time": 51.90948896,
                        "remaining_time": 48.69029585,
                        "test": [
                          0.6202978645,
                          0.5832289158
                        ]
                      },
                      {
                        "learn": [
                          0.3950736808
                        ],
                        "iteration": 258,
                        "passed_time": 52.00070059,
                        "remaining_time": 48.38675228,
                        "test": [
                          0.6208204844,
                          0.5829925853
                        ]
                      },
                      {
                        "learn": [
                          0.3943551907
                        ],
                        "iteration": 259,
                        "passed_time": 52.09491189,
                        "remaining_time": 48.08761097,
                        "test": [
                          0.6210745758,
                          0.5829778545
                        ]
                      },
                      {
                        "learn": [
                          0.3939919572
                        ],
                        "iteration": 260,
                        "passed_time": 52.18832862,
                        "remaining_time": 47.78931242,
                        "test": [
                          0.6214326138,
                          0.5828111382
                        ]
                      },
                      {
                        "learn": [
                          0.3933527407
                        ],
                        "iteration": 261,
                        "passed_time": 52.29890585,
                        "remaining_time": 47.50816638,
                        "test": [
                          0.621885936,
                          0.5827091815
                        ]
                      },
                      {
                        "learn": [
                          0.392806236
                        ],
                        "iteration": 262,
                        "passed_time": 52.39221227,
                        "remaining_time": 47.21275402,
                        "test": [
                          0.6230639964,
                          0.5824065922
                        ]
                      },
                      {
                        "learn": [
                          0.3922236973
                        ],
                        "iteration": 263,
                        "passed_time": 52.48730894,
                        "remaining_time": 46.92047315,
                        "test": [
                          0.6234162595,
                          0.5824274241
                        ]
                      },
                      {
                        "learn": [
                          0.3917968086
                        ],
                        "iteration": 264,
                        "passed_time": 52.57770511,
                        "remaining_time": 46.62551208,
                        "test": [
                          0.6231159696,
                          0.5825209498
                        ]
                      },
                      {
                        "learn": [
                          0.3912428371
                        ],
                        "iteration": 265,
                        "passed_time": 52.66706092,
                        "remaining_time": 46.33117389,
                        "test": [
                          0.6235606297,
                          0.5822220773
                        ]
                      },
                      {
                        "learn": [
                          0.3908029294
                        ],
                        "iteration": 266,
                        "passed_time": 52.76845968,
                        "remaining_time": 46.04888055,
                        "test": [
                          0.6234797824,
                          0.5823362188
                        ]
                      },
                      {
                        "learn": [
                          0.3902053651
                        ],
                        "iteration": 267,
                        "passed_time": 52.86192802,
                        "remaining_time": 45.76107201,
                        "test": [
                          0.6237800723,
                          0.5822159189
                        ]
                      },
                      {
                        "learn": [
                          0.3898020523
                        ],
                        "iteration": 268,
                        "passed_time": 52.95019508,
                        "remaining_time": 45.47024187,
                        "test": [
                          0.6235952785,
                          0.5822805889
                        ]
                      },
                      {
                        "learn": [
                          0.3890537526
                        ],
                        "iteration": 269,
                        "passed_time": 53.04319513,
                        "remaining_time": 45.184944,
                        "test": [
                          0.6229311759,
                          0.5827373829
                        ]
                      },
                      {
                        "learn": [
                          0.3885373214
                        ],
                        "iteration": 270,
                        "passed_time": 53.13410385,
                        "remaining_time": 44.89929809,
                        "test": [
                          0.6230784334,
                          0.5825636845
                        ]
                      },
                      {
                        "learn": [
                          0.3877021887
                        ],
                        "iteration": 271,
                        "passed_time": 53.23018328,
                        "remaining_time": 44.61941834,
                        "test": [
                          0.6228012427,
                          0.5825396375
                        ]
                      },
                      {
                        "learn": [
                          0.3869879037
                        ],
                        "iteration": 272,
                        "passed_time": 53.34491578,
                        "remaining_time": 44.35639517,
                        "test": [
                          0.6237367613,
                          0.582273295
                        ]
                      },
                      {
                        "learn": [
                          0.3863492858
                        ],
                        "iteration": 273,
                        "passed_time": 53.44563287,
                        "remaining_time": 44.08289426,
                        "test": [
                          0.6238176085,
                          0.5822819156
                        ]
                      },
                      {
                        "learn": [
                          0.3856660823
                        ],
                        "iteration": 274,
                        "passed_time": 53.54813586,
                        "remaining_time": 43.81211116,
                        "test": [
                          0.6235346431,
                          0.5824055722
                        ]
                      },
                      {
                        "learn": [
                          0.3852318184
                        ],
                        "iteration": 275,
                        "passed_time": 53.6512001,
                        "remaining_time": 43.54300298,
                        "test": [
                          0.6234364714,
                          0.582465284
                        ]
                      },
                      {
                        "learn": [
                          0.3844733869
                        ],
                        "iteration": 276,
                        "passed_time": 53.7597732,
                        "remaining_time": 43.27952861,
                        "test": [
                          0.6240255015,
                          0.5822836505
                        ]
                      },
                      {
                        "learn": [
                          0.3838732805
                        ],
                        "iteration": 277,
                        "passed_time": 53.85819674,
                        "remaining_time": 43.00906358,
                        "test": [
                          0.6238580322,
                          0.5823064273
                        ]
                      },
                      {
                        "learn": [
                          0.3834037066
                        ],
                        "iteration": 278,
                        "passed_time": 53.94782769,
                        "remaining_time": 42.73286709,
                        "test": [
                          0.6238580322,
                          0.5823698816
                        ]
                      },
                      {
                        "learn": [
                          0.3828743351
                        ],
                        "iteration": 279,
                        "passed_time": 54.03973054,
                        "remaining_time": 42.45978828,
                        "test": [
                          0.6238695818,
                          0.5823998808
                        ]
                      },
                      {
                        "learn": [
                          0.3822576283
                        ],
                        "iteration": 280,
                        "passed_time": 54.13187555,
                        "remaining_time": 42.18818771,
                        "test": [
                          0.6238060589,
                          0.5824404067
                        ]
                      },
                      {
                        "learn": [
                          0.3819416781
                        ],
                        "iteration": 281,
                        "passed_time": 54.22802165,
                        "remaining_time": 41.92095291,
                        "test": [
                          0.6242767056,
                          0.5822809165
                        ]
                      },
                      {
                        "learn": [
                          0.3811298239
                        ],
                        "iteration": 282,
                        "passed_time": 54.34247476,
                        "remaining_time": 41.66896475,
                        "test": [
                          0.6252872966,
                          0.5818947465
                        ]
                      },
                      {
                        "learn": [
                          0.3806371149
                        ],
                        "iteration": 283,
                        "passed_time": 54.43216507,
                        "remaining_time": 41.39911146,
                        "test": [
                          0.625347932,
                          0.5818866082
                        ]
                      },
                      {
                        "learn": [
                          0.3798179729
                        ],
                        "iteration": 284,
                        "passed_time": 54.52795616,
                        "remaining_time": 41.13512482,
                        "test": [
                          0.6246693924,
                          0.5822235275
                        ]
                      },
                      {
                        "learn": [
                          0.3793903252
                        ],
                        "iteration": 285,
                        "passed_time": 54.61565235,
                        "remaining_time": 40.86625735,
                        "test": [
                          0.6246491806,
                          0.5822652716
                        ]
                      },
                      {
                        "learn": [
                          0.3786928898
                        ],
                        "iteration": 286,
                        "passed_time": 54.70693021,
                        "remaining_time": 40.60131057,
                        "test": [
                          0.624057263,
                          0.5825988186
                        ]
                      },
                      {
                        "learn": [
                          0.3781091925
                        ],
                        "iteration": 287,
                        "passed_time": 54.80646027,
                        "remaining_time": 40.34364437,
                        "test": [
                          0.6246462932,
                          0.5824746823
                        ]
                      },
                      {
                        "learn": [
                          0.3772879125
                        ],
                        "iteration": 288,
                        "passed_time": 54.90014689,
                        "remaining_time": 40.08280621,
                        "test": [
                          0.624530797,
                          0.5825009851
                        ]
                      },
                      {
                        "learn": [
                          0.3765552279
                        ],
                        "iteration": 289,
                        "passed_time": 54.9893463,
                        "remaining_time": 39.81987146,
                        "test": [
                          0.6240139519,
                          0.5827549613
                        ]
                      },
                      {
                        "learn": [
                          0.3761657158
                        ],
                        "iteration": 290,
                        "passed_time": 55.07855268,
                        "remaining_time": 39.55813577,
                        "test": [
                          0.6239677535,
                          0.5827539926
                        ]
                      },
                      {
                        "learn": [
                          0.3755643995
                        ],
                        "iteration": 291,
                        "passed_time": 55.17405348,
                        "remaining_time": 39.30206549,
                        "test": [
                          0.6239013432,
                          0.5827265472
                        ]
                      },
                      {
                        "learn": [
                          0.3748601634
                        ],
                        "iteration": 292,
                        "passed_time": 55.26986806,
                        "remaining_time": 39.04731293,
                        "test": [
                          0.6245336844,
                          0.5825023091
                        ]
                      },
                      {
                        "learn": [
                          0.3741090006
                        ],
                        "iteration": 293,
                        "passed_time": 55.38124683,
                        "remaining_time": 38.8045471,
                        "test": [
                          0.6245048104,
                          0.5825583691
                        ]
                      },
                      {
                        "learn": [
                          0.3735901661
                        ],
                        "iteration": 294,
                        "passed_time": 55.4722125,
                        "remaining_time": 38.54848665,
                        "test": [
                          0.6244268505,
                          0.5825297955
                        ]
                      },
                      {
                        "learn": [
                          0.3729338915
                        ],
                        "iteration": 295,
                        "passed_time": 55.57192528,
                        "remaining_time": 38.29957013,
                        "test": [
                          0.624337341,
                          0.5825437887
                        ]
                      },
                      {
                        "learn": [
                          0.3724495921
                        ],
                        "iteration": 296,
                        "passed_time": 55.66359715,
                        "remaining_time": 38.04616236,
                        "test": [
                          0.6241352228,
                          0.5827122623
                        ]
                      },
                      {
                        "learn": [
                          0.3717875664
                        ],
                        "iteration": 297,
                        "passed_time": 55.75382958,
                        "remaining_time": 37.79286435,
                        "test": [
                          0.6243979765,
                          0.5827961183
                        ]
                      },
                      {
                        "learn": [
                          0.3711932854
                        ],
                        "iteration": 298,
                        "passed_time": 55.85515596,
                        "remaining_time": 37.54811487,
                        "test": [
                          0.6235808415,
                          0.583214217
                        ]
                      },
                      {
                        "learn": [
                          0.3705566996
                        ],
                        "iteration": 299,
                        "passed_time": 55.95080193,
                        "remaining_time": 37.30053462,
                        "test": [
                          0.6239302172,
                          0.5830801364
                        ]
                      },
                      {
                        "learn": [
                          0.3701894018
                        ],
                        "iteration": 300,
                        "passed_time": 56.04017183,
                        "remaining_time": 37.0498146,
                        "test": [
                          0.6239590913,
                          0.5831377174
                        ]
                      },
                      {
                        "learn": [
                          0.3695186537
                        ],
                        "iteration": 301,
                        "passed_time": 56.13422165,
                        "remaining_time": 36.80323142,
                        "test": [
                          0.6236328148,
                          0.5833751879
                        ]
                      },
                      {
                        "learn": [
                          0.3690112585
                        ],
                        "iteration": 302,
                        "passed_time": 56.23453772,
                        "remaining_time": 36.56172914,
                        "test": [
                          0.6236010533,
                          0.5833541432
                        ]
                      },
                      {
                        "learn": [
                          0.3683564775
                        ],
                        "iteration": 303,
                        "passed_time": 56.34894151,
                        "remaining_time": 36.33023861,
                        "test": [
                          0.6231997043,
                          0.5835684135
                        ]
                      },
                      {
                        "learn": [
                          0.3678547906
                        ],
                        "iteration": 304,
                        "passed_time": 56.43981323,
                        "remaining_time": 36.08447075,
                        "test": [
                          0.6229629373,
                          0.5837410342
                        ]
                      },
                      {
                        "learn": [
                          0.3673307094
                        ],
                        "iteration": 305,
                        "passed_time": 56.5425682,
                        "remaining_time": 35.84724912,
                        "test": [
                          0.6223479205,
                          0.5839670483
                        ]
                      },
                      {
                        "learn": [
                          0.3668084672
                        ],
                        "iteration": 306,
                        "passed_time": 56.63648914,
                        "remaining_time": 35.60534985,
                        "test": [
                          0.6233065382,
                          0.5835634606
                        ]
                      },
                      {
                        "learn": [
                          0.3660560292
                        ],
                        "iteration": 307,
                        "passed_time": 56.73120871,
                        "remaining_time": 35.36490933,
                        "test": [
                          0.6239677535,
                          0.5833040801
                        ]
                      },
                      {
                        "learn": [
                          0.3654734917
                        ],
                        "iteration": 308,
                        "passed_time": 56.84107485,
                        "remaining_time": 35.13477442,
                        "test": [
                          0.6235606297,
                          0.5835585601
                        ]
                      },
                      {
                        "learn": [
                          0.3647698812
                        ],
                        "iteration": 309,
                        "passed_time": 56.93294333,
                        "remaining_time": 34.89438462,
                        "test": [
                          0.624265156,
                          0.5832094286
                        ]
                      },
                      {
                        "learn": [
                          0.3641368422
                        ],
                        "iteration": 310,
                        "passed_time": 57.02854153,
                        "remaining_time": 34.65721656,
                        "test": [
                          0.6241843087,
                          0.5832544799
                        ]
                      },
                      {
                        "learn": [
                          0.3635653126
                        ],
                        "iteration": 311,
                        "passed_time": 57.12223381,
                        "remaining_time": 34.41980755,
                        "test": [
                          0.623520206,
                          0.5834996609
                        ]
                      },
                      {
                        "learn": [
                          0.3629751648
                        ],
                        "iteration": 312,
                        "passed_time": 57.21635188,
                        "remaining_time": 34.18357125,
                        "test": [
                          0.6242276197,
                          0.5832763009
                        ]
                      },
                      {
                        "learn": [
                          0.3625855326
                        ],
                        "iteration": 313,
                        "passed_time": 57.31944067,
                        "remaining_time": 33.95355403,
                        "test": [
                          0.6241525473,
                          0.5833442604
                        ]
                      },
                      {
                        "learn": [
                          0.3620616009
                        ],
                        "iteration": 314,
                        "passed_time": 57.43688701,
                        "remaining_time": 33.73277491,
                        "test": [
                          0.6236732384,
                          0.5834325
                        ]
                      },
                      {
                        "learn": [
                          0.3615444882
                        ],
                        "iteration": 315,
                        "passed_time": 57.59010923,
                        "remaining_time": 33.53348132,
                        "test": [
                          0.6242160701,
                          0.583126164
                        ]
                      },
                      {
                        "learn": [
                          0.361007456
                        ],
                        "iteration": 316,
                        "passed_time": 57.77188048,
                        "remaining_time": 33.35095939,
                        "test": [
                          0.6239706409,
                          0.5832089004
                        ]
                      },
                      {
                        "learn": [
                          0.3604214105
                        ],
                        "iteration": 317,
                        "passed_time": 57.9621115,
                        "remaining_time": 33.17328394,
                        "test": [
                          0.6240197267,
                          0.5833582678
                        ]
                      },
                      {
                        "learn": [
                          0.3597462273
                        ],
                        "iteration": 318,
                        "passed_time": 58.14213258,
                        "remaining_time": 32.98973667,
                        "test": [
                          0.6245769955,
                          0.5831692494
                        ]
                      },
                      {
                        "learn": [
                          0.3593233725
                        ],
                        "iteration": 319,
                        "passed_time": 58.31752799,
                        "remaining_time": 32.8036095,
                        "test": [
                          0.6238984558,
                          0.5834984983
                        ]
                      },
                      {
                        "learn": [
                          0.3587729599
                        ],
                        "iteration": 320,
                        "passed_time": 58.50580501,
                        "remaining_time": 32.62473239,
                        "test": [
                          0.6247589019,
                          0.5833224264
                        ]
                      },
                      {
                        "learn": [
                          0.3583021512
                        ],
                        "iteration": 321,
                        "passed_time": 58.68685153,
                        "remaining_time": 32.44179991,
                        "test": [
                          0.624903272,
                          0.5833333842
                        ]
                      },
                      {
                        "learn": [
                          0.3577555745
                        ],
                        "iteration": 322,
                        "passed_time": 58.87448652,
                        "remaining_time": 32.26248952,
                        "test": [
                          0.6252555352,
                          0.5833150497
                        ]
                      },
                      {
                        "learn": [
                          0.3571629472
                        ],
                        "iteration": 323,
                        "passed_time": 59.04586767,
                        "remaining_time": 32.07429849,
                        "test": [
                          0.6251891249,
                          0.5832775348
                        ]
                      },
                      {
                        "learn": [
                          0.3564359872
                        ],
                        "iteration": 324,
                        "passed_time": 59.23798733,
                        "remaining_time": 31.89737779,
                        "test": [
                          0.6246145317,
                          0.5834218664
                        ]
                      },
                      {
                        "learn": [
                          0.3559212374
                        ],
                        "iteration": 325,
                        "passed_time": 59.44870483,
                        "remaining_time": 31.73029031,
                        "test": [
                          0.6247675641,
                          0.583286044
                        ]
                      },
                      {
                        "learn": [
                          0.3554765987
                        ],
                        "iteration": 326,
                        "passed_time": 59.63006993,
                        "remaining_time": 31.54740703,
                        "test": [
                          0.62451636,
                          0.5834905924
                        ]
                      },
                      {
                        "learn": [
                          0.3549758897
                        ],
                        "iteration": 327,
                        "passed_time": 59.81107564,
                        "remaining_time": 31.36434454,
                        "test": [
                          0.6240168393,
                          0.5837549078
                        ]
                      },
                      {
                        "learn": [
                          0.3544518873
                        ],
                        "iteration": 328,
                        "passed_time": 59.99610127,
                        "remaining_time": 31.18338394,
                        "test": [
                          0.6238955684,
                          0.583844068
                        ]
                      },
                      {
                        "learn": [
                          0.3539782874
                        ],
                        "iteration": 329,
                        "passed_time": 60.18098079,
                        "remaining_time": 31.00232344,
                        "test": [
                          0.6239533165,
                          0.5837815997
                        ]
                      },
                      {
                        "learn": [
                          0.3534273025
                        ],
                        "iteration": 330,
                        "passed_time": 60.35851491,
                        "remaining_time": 30.81748949,
                        "test": [
                          0.6239562039,
                          0.5839407182
                        ]
                      },
                      {
                        "learn": [
                          0.3527909292
                        ],
                        "iteration": 331,
                        "passed_time": 60.56636706,
                        "remaining_time": 30.64804116,
                        "test": [
                          0.6234971068,
                          0.58413273
                        ]
                      },
                      {
                        "learn": [
                          0.3521200837
                        ],
                        "iteration": 332,
                        "passed_time": 60.74749071,
                        "remaining_time": 30.4649578,
                        "test": [
                          0.6234566832,
                          0.5841583771
                        ]
                      },
                      {
                        "learn": [
                          0.3516748046
                        ],
                        "iteration": 333,
                        "passed_time": 60.92806553,
                        "remaining_time": 30.28161341,
                        "test": [
                          0.6233873855,
                          0.5841493193
                        ]
                      },
                      {
                        "learn": [
                          0.3512744008
                        ],
                        "iteration": 334,
                        "passed_time": 61.10241503,
                        "remaining_time": 30.09521934,
                        "test": [
                          0.6232949886,
                          0.5841396123
                        ]
                      },
                      {
                        "learn": [
                          0.3505824344
                        ],
                        "iteration": 335,
                        "passed_time": 61.29534144,
                        "remaining_time": 29.91796427,
                        "test": [
                          0.6232054791,
                          0.5840886338
                        ]
                      },
                      {
                        "learn": [
                          0.3501490998
                        ],
                        "iteration": 336,
                        "passed_time": 61.50141722,
                        "remaining_time": 29.74697628,
                        "test": [
                          0.6229398381,
                          0.5841658984
                        ]
                      },
                      {
                        "learn": [
                          0.3495394724
                        ],
                        "iteration": 337,
                        "passed_time": 61.68962399,
                        "remaining_time": 29.56721623,
                        "test": [
                          0.6228878648,
                          0.5842037116
                        ]
                      },
                      {
                        "learn": [
                          0.3488704492
                        ],
                        "iteration": 338,
                        "passed_time": 61.8733509,
                        "remaining_time": 29.38527875,
                        "test": [
                          0.6229542751,
                          0.5840889127
                        ]
                      },
                      {
                        "learn": [
                          0.3484069204
                        ],
                        "iteration": 339,
                        "passed_time": 62.06351648,
                        "remaining_time": 29.20636069,
                        "test": [
                          0.6231766051,
                          0.5839380428
                        ]
                      },
                      {
                        "learn": [
                          0.34781031
                        ],
                        "iteration": 340,
                        "passed_time": 62.25034846,
                        "remaining_time": 29.0258223,
                        "test": [
                          0.6240717,
                          0.5837520037
                        ]
                      },
                      {
                        "learn": [
                          0.3472473419
                        ],
                        "iteration": 341,
                        "passed_time": 62.42932344,
                        "remaining_time": 28.84161726,
                        "test": [
                          0.6248195373,
                          0.5834734347
                        ]
                      },
                      {
                        "learn": [
                          0.3468417889
                        ],
                        "iteration": 342,
                        "passed_time": 62.64640864,
                        "remaining_time": 28.67488676,
                        "test": [
                          0.6253450446,
                          0.5832526523
                        ]
                      },
                      {
                        "learn": [
                          0.3464183182
                        ],
                        "iteration": 343,
                        "passed_time": 62.84578473,
                        "remaining_time": 28.49983261,
                        "test": [
                          0.6245769955,
                          0.5835982552
                        ]
                      },
                      {
                        "learn": [
                          0.3461342554
                        ],
                        "iteration": 344,
                        "passed_time": 62.99103173,
                        "remaining_time": 28.3003186,
                        "test": [
                          0.6241525473,
                          0.5837296812
                        ]
                      },
                      {
                        "learn": [
                          0.3455202413
                        ],
                        "iteration": 345,
                        "passed_time": 63.16957915,
                        "remaining_time": 28.11593985,
                        "test": [
                          0.6245192474,
                          0.5836243632
                        ]
                      },
                      {
                        "learn": [
                          0.3450264837
                        ],
                        "iteration": 346,
                        "passed_time": 63.35423541,
                        "remaining_time": 27.93428824,
                        "test": [
                          0.6244297379,
                          0.5837711869
                        ]
                      },
                      {
                        "learn": [
                          0.344324375
                        ],
                        "iteration": 347,
                        "passed_time": 63.45550608,
                        "remaining_time": 27.71619806,
                        "test": [
                          0.624279593,
                          0.5837553455
                        ]
                      },
                      {
                        "learn": [
                          0.3438933869
                        ],
                        "iteration": 348,
                        "passed_time": 63.57294922,
                        "remaining_time": 27.50577459,
                        "test": [
                          0.6240659252,
                          0.5838302584
                        ]
                      },
                      {
                        "learn": [
                          0.3431572376
                        ],
                        "iteration": 349,
                        "passed_time": 63.67541068,
                        "remaining_time": 27.28946172,
                        "test": [
                          0.6248310869,
                          0.5837373244
                        ]
                      },
                      {
                        "learn": [
                          0.3427698684
                        ],
                        "iteration": 350,
                        "passed_time": 63.76492819,
                        "remaining_time": 27.06830285,
                        "test": [
                          0.6251429264,
                          0.5835810978
                        ]
                      },
                      {
                        "learn": [
                          0.3422107804
                        ],
                        "iteration": 351,
                        "passed_time": 63.85697553,
                        "remaining_time": 26.84895562,
                        "test": [
                          0.6255904739,
                          0.5836707688
                        ]
                      },
                      {
                        "learn": [
                          0.3416571995
                        ],
                        "iteration": 352,
                        "passed_time": 63.94787824,
                        "remaining_time": 26.62985298,
                        "test": [
                          0.6256597715,
                          0.5835463821
                        ]
                      },
                      {
                        "learn": [
                          0.3410742915
                        ],
                        "iteration": 353,
                        "passed_time": 64.05073739,
                        "remaining_time": 26.41640582,
                        "test": [
                          0.6256395597,
                          0.5835149682
                        ]
                      },
                      {
                        "learn": [
                          0.340613073
                        ],
                        "iteration": 354,
                        "passed_time": 64.14899189,
                        "remaining_time": 26.20170091,
                        "test": [
                          0.6255298384,
                          0.5836684113
                        ]
                      },
                      {
                        "learn": [
                          0.3401255841
                        ],
                        "iteration": 355,
                        "passed_time": 64.24459692,
                        "remaining_time": 25.98657853,
                        "test": [
                          0.6249870067,
                          0.5839886841
                        ]
                      },
                      {
                        "learn": [
                          0.3395921919
                        ],
                        "iteration": 356,
                        "passed_time": 64.3425951,
                        "remaining_time": 25.77308431,
                        "test": [
                          0.625319058,
                          0.5838383011
                        ]
                      },
                      {
                        "learn": [
                          0.3389669424
                        ],
                        "iteration": 357,
                        "passed_time": 64.43460303,
                        "remaining_time": 25.5578593,
                        "test": [
                          0.6256020235,
                          0.5838458401
                        ]
                      },
                      {
                        "learn": [
                          0.3384241489
                        ],
                        "iteration": 358,
                        "passed_time": 64.53077104,
                        "remaining_time": 25.34495464,
                        "test": [
                          0.625290184,
                          0.5840157597
                        ]
                      },
                      {
                        "learn": [
                          0.3377347153
                        ],
                        "iteration": 359,
                        "passed_time": 64.65117144,
                        "remaining_time": 25.14212223,
                        "test": [
                          0.6250043311,
                          0.5841698614
                        ]
                      },
                      {
                        "learn": [
                          0.3372868671
                        ],
                        "iteration": 360,
                        "passed_time": 64.74155493,
                        "remaining_time": 24.92818874,
                        "test": [
                          0.625140039,
                          0.5841912357
                        ]
                      },
                      {
                        "learn": [
                          0.3366197886
                        ],
                        "iteration": 361,
                        "passed_time": 64.84219587,
                        "remaining_time": 24.71884815,
                        "test": [
                          0.6243604403,
                          0.5846003005
                        ]
                      },
                      {
                        "learn": [
                          0.3361537429
                        ],
                        "iteration": 362,
                        "passed_time": 64.93646877,
                        "remaining_time": 24.50770309,
                        "test": [
                          0.6239042306,
                          0.5848425546
                        ]
                      },
                      {
                        "learn": [
                          0.335718698
                        ],
                        "iteration": 363,
                        "passed_time": 65.03702975,
                        "remaining_time": 24.29954958,
                        "test": [
                          0.6240803622,
                          0.5847438142
                        ]
                      },
                      {
                        "learn": [
                          0.3351411304
                        ],
                        "iteration": 364,
                        "passed_time": 65.13642779,
                        "remaining_time": 24.09155548,
                        "test": [
                          0.6237858471,
                          0.5849236888
                        ]
                      },
                      {
                        "learn": [
                          0.3348012519
                        ],
                        "iteration": 365,
                        "passed_time": 65.23143954,
                        "remaining_time": 23.8825489,
                        "test": [
                          0.6237194368,
                          0.5850474968
                        ]
                      },
                      {
                        "learn": [
                          0.3343161578
                        ],
                        "iteration": 366,
                        "passed_time": 65.32308664,
                        "remaining_time": 23.67294421,
                        "test": [
                          0.6238724692,
                          0.5849442424
                        ]
                      },
                      {
                        "learn": [
                          0.3338465439
                        ],
                        "iteration": 367,
                        "passed_time": 65.41503438,
                        "remaining_time": 23.46408842,
                        "test": [
                          0.6239995149,
                          0.5850427873
                        ]
                      },
                      {
                        "learn": [
                          0.3332220039
                        ],
                        "iteration": 368,
                        "passed_time": 65.50700464,
                        "remaining_time": 23.25587427,
                        "test": [
                          0.6236905628,
                          0.5850796054
                        ]
                      },
                      {
                        "learn": [
                          0.3326493105
                        ],
                        "iteration": 369,
                        "passed_time": 65.61829457,
                        "remaining_time": 23.05507647,
                        "test": [
                          0.6231621681,
                          0.5854308546
                        ]
                      },
                      {
                        "learn": [
                          0.3320452221
                        ],
                        "iteration": 370,
                        "passed_time": 65.70869531,
                        "remaining_time": 22.84749783,
                        "test": [
                          0.6228214546,
                          0.5856242392
                        ]
                      },
                      {
                        "learn": [
                          0.3314946009
                        ],
                        "iteration": 371,
                        "passed_time": 65.80024315,
                        "remaining_time": 22.64094388,
                        "test": [
                          0.622896527,
                          0.585653847
                        ]
                      },
                      {
                        "learn": [
                          0.3310230218
                        ],
                        "iteration": 372,
                        "passed_time": 65.89072894,
                        "remaining_time": 22.43464498,
                        "test": [
                          0.6230091357,
                          0.5856366401
                        ]
                      },
                      {
                        "learn": [
                          0.3304322037
                        ],
                        "iteration": 373,
                        "passed_time": 65.98368014,
                        "remaining_time": 22.22979598,
                        "test": [
                          0.6226482104,
                          0.585943283
                        ]
                      },
                      {
                        "learn": [
                          0.3297739279
                        ],
                        "iteration": 374,
                        "passed_time": 66.0955081,
                        "remaining_time": 22.03183603,
                        "test": [
                          0.6224287678,
                          0.5861301074
                        ]
                      },
                      {
                        "learn": [
                          0.3290348231
                        ],
                        "iteration": 375,
                        "passed_time": 66.19112979,
                        "remaining_time": 21.82898961,
                        "test": [
                          0.6229311759,
                          0.585881522
                        ]
                      },
                      {
                        "learn": [
                          0.3285989967
                        ],
                        "iteration": 376,
                        "passed_time": 66.28307319,
                        "remaining_time": 21.62551194,
                        "test": [
                          0.6225558135,
                          0.5859900822
                        ]
                      },
                      {
                        "learn": [
                          0.3280562495
                        ],
                        "iteration": 377,
                        "passed_time": 66.37341931,
                        "remaining_time": 21.42210888,
                        "test": [
                          0.6229196263,
                          0.5858575553
                        ]
                      },
                      {
                        "learn": [
                          0.3275410556
                        ],
                        "iteration": 378,
                        "passed_time": 66.46900255,
                        "remaining_time": 21.22097443,
                        "test": [
                          0.6230582216,
                          0.5857521515
                        ]
                      },
                      {
                        "learn": [
                          0.3270845095
                        ],
                        "iteration": 379,
                        "passed_time": 66.57799231,
                        "remaining_time": 21.02462915,
                        "test": [
                          0.6228936396,
                          0.5858803486
                        ]
                      },
                      {
                        "learn": [
                          0.3264992359
                        ],
                        "iteration": 380,
                        "passed_time": 66.68407828,
                        "remaining_time": 20.82783547,
                        "test": [
                          0.6223132717,
                          0.5861599369
                        ]
                      },
                      {
                        "learn": [
                          0.3259752358
                        ],
                        "iteration": 381,
                        "passed_time": 66.7811894,
                        "remaining_time": 20.62874437,
                        "test": [
                          0.6225587009,
                          0.5861561877
                        ]
                      },
                      {
                        "learn": [
                          0.3252733244
                        ],
                        "iteration": 382,
                        "passed_time": 66.87910216,
                        "remaining_time": 20.43043069,
                        "test": [
                          0.6224720788,
                          0.5863378013
                        ]
                      },
                      {
                        "learn": [
                          0.3248374823
                        ],
                        "iteration": 383,
                        "passed_time": 66.97519852,
                        "remaining_time": 20.23209122,
                        "test": [
                          0.6222468614,
                          0.5864997211
                        ]
                      },
                      {
                        "learn": [
                          0.3242339799
                        ],
                        "iteration": 384,
                        "passed_time": 67.08527573,
                        "remaining_time": 20.03845898,
                        "test": [
                          0.6223681323,
                          0.5864517282
                        ]
                      },
                      {
                        "learn": [
                          0.3237766136
                        ],
                        "iteration": 385,
                        "passed_time": 67.1804814,
                        "remaining_time": 19.84086756,
                        "test": [
                          0.6225558135,
                          0.5863274186
                        ]
                      },
                      {
                        "learn": [
                          0.3231735423
                        ],
                        "iteration": 386,
                        "passed_time": 67.28055548,
                        "remaining_time": 19.64522679,
                        "test": [
                          0.6227781435,
                          0.586318956
                        ]
                      },
                      {
                        "learn": [
                          0.3226257683
                        ],
                        "iteration": 387,
                        "passed_time": 67.37496587,
                        "remaining_time": 19.44844376,
                        "test": [
                          0.6228878648,
                          0.5864020507
                        ]
                      },
                      {
                        "learn": [
                          0.3221075521
                        ],
                        "iteration": 388,
                        "passed_time": 67.4688988,
                        "remaining_time": 19.25205082,
                        "test": [
                          0.6228041301,
                          0.5866154757
                        ]
                      },
                      {
                        "learn": [
                          0.3217124683
                        ],
                        "iteration": 389,
                        "passed_time": 67.56100138,
                        "remaining_time": 19.05566706,
                        "test": [
                          0.622287285,
                          0.5867502087
                        ]
                      },
                      {
                        "learn": [
                          0.3213148791
                        ],
                        "iteration": 390,
                        "passed_time": 67.67828775,
                        "remaining_time": 18.86683725,
                        "test": [
                          0.6226510978,
                          0.5866965236
                        ]
                      },
                      {
                        "learn": [
                          0.3208753171
                        ],
                        "iteration": 391,
                        "passed_time": 67.7688901,
                        "remaining_time": 18.67102074,
                        "test": [
                          0.6230380098,
                          0.5864599894
                        ]
                      },
                      {
                        "learn": [
                          0.3204756363
                        ],
                        "iteration": 392,
                        "passed_time": 67.85875944,
                        "remaining_time": 18.4755401,
                        "test": [
                          0.6232025917,
                          0.586362771
                        ]
                      },
                      {
                        "learn": [
                          0.3200249137
                        ],
                        "iteration": 393,
                        "passed_time": 67.94967212,
                        "remaining_time": 18.28087625,
                        "test": [
                          0.6235866163,
                          0.5862137982
                        ]
                      },
                      {
                        "learn": [
                          0.3195348796
                        ],
                        "iteration": 394,
                        "passed_time": 68.04047563,
                        "remaining_time": 18.08670871,
                        "test": [
                          0.6229715995,
                          0.5864954809
                        ]
                      },
                      {
                        "learn": [
                          0.3190660168
                        ],
                        "iteration": 395,
                        "passed_time": 68.14019434,
                        "remaining_time": 17.89540457,
                        "test": [
                          0.6238609196,
                          0.5860584571
                        ]
                      },
                      {
                        "learn": [
                          0.318727241
                        ],
                        "iteration": 396,
                        "passed_time": 68.23716924,
                        "remaining_time": 17.70384995,
                        "test": [
                          0.6237165494,
                          0.586119063
                        ]
                      },
                      {
                        "learn": [
                          0.3183398558
                        ],
                        "iteration": 397,
                        "passed_time": 68.32821417,
                        "remaining_time": 17.51125087,
                        "test": [
                          0.6239417669,
                          0.5860314098
                        ]
                      },
                      {
                        "learn": [
                          0.3179374067
                        ],
                        "iteration": 398,
                        "passed_time": 68.42155371,
                        "remaining_time": 17.31974167,
                        "test": [
                          0.6236530266,
                          0.5862007694
                        ]
                      },
                      {
                        "learn": [
                          0.3172709847
                        ],
                        "iteration": 399,
                        "passed_time": 68.51106223,
                        "remaining_time": 17.12776556,
                        "test": [
                          0.6235952785,
                          0.5862508095
                        ]
                      },
                      {
                        "learn": [
                          0.316673369
                        ],
                        "iteration": 400,
                        "passed_time": 68.61931145,
                        "remaining_time": 16.94092727,
                        "test": [
                          0.6241178984,
                          0.585970168
                        ]
                      },
                      {
                        "learn": [
                          0.3162224156
                        ],
                        "iteration": 401,
                        "passed_time": 68.71379208,
                        "remaining_time": 16.75112344,
                        "test": [
                          0.6237945093,
                          0.5860747565
                        ]
                      },
                      {
                        "learn": [
                          0.3155965135
                        ],
                        "iteration": 402,
                        "passed_time": 68.80933912,
                        "remaining_time": 16.56204937,
                        "test": [
                          0.6235808415,
                          0.586200653
                        ]
                      },
                      {
                        "learn": [
                          0.3151383441
                        ],
                        "iteration": 403,
                        "passed_time": 68.90719368,
                        "remaining_time": 16.37398662,
                        "test": [
                          0.6230149105,
                          0.5864207129
                        ]
                      },
                      {
                        "learn": [
                          0.3144585585
                        ],
                        "iteration": 404,
                        "passed_time": 69.00384285,
                        "remaining_time": 16.18608659,
                        "test": [
                          0.6226539852,
                          0.5866710113
                        ]
                      },
                      {
                        "learn": [
                          0.313803885
                        ],
                        "iteration": 405,
                        "passed_time": 69.10984219,
                        "remaining_time": 16.0008009,
                        "test": [
                          0.6230206854,
                          0.5866086316
                        ]
                      },
                      {
                        "learn": [
                          0.3131346936
                        ],
                        "iteration": 406,
                        "passed_time": 69.20593637,
                        "remaining_time": 15.81364148,
                        "test": [
                          0.622674197,
                          0.5867791166
                        ]
                      },
                      {
                        "learn": [
                          0.3125151428
                        ],
                        "iteration": 407,
                        "passed_time": 69.29691841,
                        "remaining_time": 15.62577572,
                        "test": [
                          0.6225211647,
                          0.5870151804
                        ]
                      },
                      {
                        "learn": [
                          0.3119501554
                        ],
                        "iteration": 408,
                        "passed_time": 69.38965811,
                        "remaining_time": 15.43877479,
                        "test": [
                          0.6224980654,
                          0.5870358407
                        ]
                      },
                      {
                        "learn": [
                          0.3114856627
                        ],
                        "iteration": 409,
                        "passed_time": 69.48571634,
                        "remaining_time": 15.25296212,
                        "test": [
                          0.6226626474,
                          0.5867861955
                        ]
                      },
                      {
                        "learn": [
                          0.3108774427
                        ],
                        "iteration": 410,
                        "passed_time": 69.58551138,
                        "remaining_time": 15.06839541,
                        "test": [
                          0.6229946987,
                          0.586699246
                        ]
                      },
                      {
                        "learn": [
                          0.3103545922
                        ],
                        "iteration": 411,
                        "passed_time": 69.70393382,
                        "remaining_time": 14.88821887,
                        "test": [
                          0.6232603398,
                          0.5867536815
                        ]
                      },
                      {
                        "learn": [
                          0.3098394716
                        ],
                        "iteration": 412,
                        "passed_time": 69.79703437,
                        "remaining_time": 14.70300724,
                        "test": [
                          0.6230639964,
                          0.5868190821
                        ]
                      },
                      {
                        "learn": [
                          0.3094226161
                        ],
                        "iteration": 413,
                        "passed_time": 69.88842384,
                        "remaining_time": 14.51788514,
                        "test": [
                          0.6230380098,
                          0.586846615
                        ]
                      },
                      {
                        "learn": [
                          0.3091066058
                        ],
                        "iteration": 414,
                        "passed_time": 69.98005379,
                        "remaining_time": 14.33326403,
                        "test": [
                          0.6228849774,
                          0.586933051
                        ]
                      },
                      {
                        "learn": [
                          0.3086402532
                        ],
                        "iteration": 415,
                        "passed_time": 70.0711273,
                        "remaining_time": 14.14897763,
                        "test": [
                          0.6229542751,
                          0.5868273516
                        ]
                      },
                      {
                        "learn": [
                          0.3080835723
                        ],
                        "iteration": 416,
                        "passed_time": 70.17541039,
                        "remaining_time": 13.96776754,
                        "test": [
                          0.6224691914,
                          0.5870932059
                        ]
                      },
                      {
                        "learn": [
                          0.3075315286
                        ],
                        "iteration": 417,
                        "passed_time": 70.27431388,
                        "remaining_time": 13.78587019,
                        "test": [
                          0.6224172182,
                          0.5870687892
                        ]
                      },
                      {
                        "learn": [
                          0.306943701
                        ],
                        "iteration": 418,
                        "passed_time": 70.36744342,
                        "remaining_time": 13.60325279,
                        "test": [
                          0.6215567721,
                          0.5875312993
                        ]
                      },
                      {
                        "learn": [
                          0.306474313
                        ],
                        "iteration": 419,
                        "passed_time": 70.45991038,
                        "remaining_time": 13.42093531,
                        "test": [
                          0.6211640853,
                          0.5877277298
                        ]
                      },
                      {
                        "learn": [
                          0.3061454077
                        ],
                        "iteration": 420,
                        "passed_time": 70.55342223,
                        "remaining_time": 13.23924075,
                        "test": [
                          0.6209821789,
                          0.5877962527
                        ]
                      },
                      {
                        "learn": [
                          0.3057803029
                        ],
                        "iteration": 421,
                        "passed_time": 70.66538083,
                        "remaining_time": 13.06137371,
                        "test": [
                          0.6214614878,
                          0.587583516
                        ]
                      },
                      {
                        "learn": [
                          0.3053122591
                        ],
                        "iteration": 422,
                        "passed_time": 70.75763337,
                        "remaining_time": 12.88023113,
                        "test": [
                          0.6220274188,
                          0.5874656249
                        ]
                      },
                      {
                        "learn": [
                          0.304973314
                        ],
                        "iteration": 423,
                        "passed_time": 70.84968522,
                        "remaining_time": 12.69947188,
                        "test": [
                          0.6219407967,
                          0.5874687307
                        ]
                      },
                      {
                        "learn": [
                          0.3046012492
                        ],
                        "iteration": 424,
                        "passed_time": 70.9455859,
                        "remaining_time": 12.51980928,
                        "test": [
                          0.6216433942,
                          0.5876436374
                        ]
                      },
                      {
                        "learn": [
                          0.3040428698
                        ],
                        "iteration": 425,
                        "passed_time": 71.04151476,
                        "remaining_time": 12.34054482,
                        "test": [
                          0.6215336729,
                          0.5877188225
                        ]
                      },
                      {
                        "learn": [
                          0.3034985361
                        ],
                        "iteration": 426,
                        "passed_time": 71.14435076,
                        "remaining_time": 12.16285153,
                        "test": [
                          0.6213257799,
                          0.5878652984
                        ]
                      },
                      {
                        "learn": [
                          0.3030144389
                        ],
                        "iteration": 427,
                        "passed_time": 71.2449423,
                        "remaining_time": 11.98513048,
                        "test": [
                          0.6211640853,
                          0.587988568
                        ]
                      },
                      {
                        "learn": [
                          0.3023863512
                        ],
                        "iteration": 428,
                        "passed_time": 71.33657337,
                        "remaining_time": 11.80628604,
                        "test": [
                          0.6216174076,
                          0.5877727178
                        ]
                      },
                      {
                        "learn": [
                          0.3018223794
                        ],
                        "iteration": 429,
                        "passed_time": 71.43315386,
                        "remaining_time": 11.62865295,
                        "test": [
                          0.6217242415,
                          0.5878581931
                        ]
                      },
                      {
                        "learn": [
                          0.3013451541
                        ],
                        "iteration": 430,
                        "passed_time": 71.53231263,
                        "remaining_time": 11.45180875,
                        "test": [
                          0.6212304956,
                          0.5881171609
                        ]
                      },
                      {
                        "learn": [
                          0.3010758039
                        ],
                        "iteration": 431,
                        "passed_time": 71.62154813,
                        "remaining_time": 11.2737622,
                        "test": [
                          0.621276694,
                          0.588082428
                        ]
                      },
                      {
                        "learn": [
                          0.3006160067
                        ],
                        "iteration": 432,
                        "passed_time": 71.73982384,
                        "remaining_time": 11.10061939,
                        "test": [
                          0.6211380987,
                          0.5881131646
                        ]
                      },
                      {
                        "learn": [
                          0.3000713535
                        ],
                        "iteration": 433,
                        "passed_time": 71.83496864,
                        "remaining_time": 10.92421182,
                        "test": [
                          0.6209244309,
                          0.5881630924
                        ]
                      },
                      {
                        "learn": [
                          0.2995634946
                        ],
                        "iteration": 434,
                        "passed_time": 71.92751854,
                        "remaining_time": 10.74779013,
                        "test": [
                          0.6211149995,
                          0.58811359
                        ]
                      },
                      {
                        "learn": [
                          0.2989507676
                        ],
                        "iteration": 435,
                        "passed_time": 72.02473878,
                        "remaining_time": 10.57243872,
                        "test": [
                          0.6213806405,
                          0.5880291866
                        ]
                      },
                      {
                        "learn": [
                          0.2983644256
                        ],
                        "iteration": 436,
                        "passed_time": 72.11773442,
                        "remaining_time": 10.39683585,
                        "test": [
                          0.6213055681,
                          0.5880659252
                        ]
                      },
                      {
                        "learn": [
                          0.2979769964
                        ],
                        "iteration": 437,
                        "passed_time": 72.22285341,
                        "remaining_time": 10.22332628,
                        "test": [
                          0.6212362704,
                          0.5880518829
                        ]
                      },
                      {
                        "learn": [
                          0.2974147117
                        ],
                        "iteration": 438,
                        "passed_time": 72.31682193,
                        "remaining_time": 10.0485789,
                        "test": [
                          0.6221024913,
                          0.5877005559
                        ]
                      },
                      {
                        "learn": [
                          0.2970382172
                        ],
                        "iteration": 439,
                        "passed_time": 72.41423458,
                        "remaining_time": 9.874668352,
                        "test": [
                          0.6219754455,
                          0.5877775335
                        ]
                      },
                      {
                        "learn": [
                          0.2964683043
                        ],
                        "iteration": 440,
                        "passed_time": 72.50640915,
                        "remaining_time": 9.700403945,
                        "test": [
                          0.6221284779,
                          0.587937741
                        ]
                      },
                      {
                        "learn": [
                          0.2958856395
                        ],
                        "iteration": 441,
                        "passed_time": 72.59872957,
                        "remaining_time": 9.526530125,
                        "test": [
                          0.6223103843,
                          0.5879046444
                        ]
                      },
                      {
                        "learn": [
                          0.2954743575
                        ],
                        "iteration": 442,
                        "passed_time": 72.71012284,
                        "remaining_time": 9.35547856,
                        "test": [
                          0.6220331936,
                          0.5881522155
                        ]
                      },
                      {
                        "learn": [
                          0.2949545434
                        ],
                        "iteration": 443,
                        "passed_time": 72.80533956,
                        "remaining_time": 9.18265544,
                        "test": [
                          0.622050518,
                          0.5882862036
                        ]
                      },
                      {
                        "learn": [
                          0.2945366809
                        ],
                        "iteration": 444,
                        "passed_time": 72.89545499,
                        "remaining_time": 9.009550617,
                        "test": [
                          0.6220331936,
                          0.588346944
                        ]
                      },
                      {
                        "learn": [
                          0.294051789
                        ],
                        "iteration": 445,
                        "passed_time": 72.99303779,
                        "remaining_time": 8.837722064,
                        "test": [
                          0.6219494589,
                          0.5885180525
                        ]
                      },
                      {
                        "learn": [
                          0.2936091963
                        ],
                        "iteration": 446,
                        "passed_time": 73.08054351,
                        "remaining_time": 8.665030886,
                        "test": [
                          0.6221227031,
                          0.5884977755
                        ]
                      },
                      {
                        "learn": [
                          0.2932447015
                        ],
                        "iteration": 447,
                        "passed_time": 73.17539451,
                        "remaining_time": 8.493572578,
                        "test": [
                          0.6218310754,
                          0.5886342699
                        ]
                      },
                      {
                        "learn": [
                          0.2927987787
                        ],
                        "iteration": 448,
                        "passed_time": 73.2885626,
                        "remaining_time": 8.324536064,
                        "test": [
                          0.6216809304,
                          0.5886621608
                        ]
                      },
                      {
                        "learn": [
                          0.292289152
                        ],
                        "iteration": 449,
                        "passed_time": 73.43542032,
                        "remaining_time": 8.159491147,
                        "test": [
                          0.6221544645,
                          0.5885311001
                        ]
                      },
                      {
                        "learn": [
                          0.2919270624
                        ],
                        "iteration": 450,
                        "passed_time": 73.5997904,
                        "remaining_time": 7.996429556,
                        "test": [
                          0.6228185672,
                          0.5882715944
                        ]
                      },
                      {
                        "learn": [
                          0.2916190857
                        ],
                        "iteration": 451,
                        "passed_time": 73.80549481,
                        "remaining_time": 7.837751662,
                        "test": [
                          0.6228503286,
                          0.5882826357
                        ]
                      },
                      {
                        "learn": [
                          0.2913186502
                        ],
                        "iteration": 452,
                        "passed_time": 73.9828693,
                        "remaining_time": 7.675926837,
                        "test": [
                          0.6227261703,
                          0.5883116123
                        ]
                      },
                      {
                        "learn": [
                          0.2909149687
                        ],
                        "iteration": 453,
                        "passed_time": 74.16948815,
                        "remaining_time": 7.514970165,
                        "test": [
                          0.6232343532,
                          0.5881375349
                        ]
                      },
                      {
                        "learn": [
                          0.2903793836
                        ],
                        "iteration": 454,
                        "passed_time": 74.35485022,
                        "remaining_time": 7.353776396,
                        "test": [
                          0.6237223242,
                          0.5880316365
                        ]
                      },
                      {
                        "learn": [
                          0.2899460905
                        ],
                        "iteration": 455,
                        "passed_time": 74.54014133,
                        "remaining_time": 7.192469777,
                        "test": [
                          0.624888835,
                          0.5875287453
                        ]
                      },
                      {
                        "learn": [
                          0.2893889483
                        ],
                        "iteration": 456,
                        "passed_time": 74.73071101,
                        "remaining_time": 7.031554865,
                        "test": [
                          0.6246549554,
                          0.5878097383
                        ]
                      },
                      {
                        "learn": [
                          0.2890293213
                        ],
                        "iteration": 457,
                        "passed_time": 74.95156538,
                        "remaining_time": 6.873287655,
                        "test": [
                          0.6244614994,
                          0.5879529732
                        ]
                      },
                      {
                        "learn": [
                          0.2886543474
                        ],
                        "iteration": 458,
                        "passed_time": 75.13525445,
                        "remaining_time": 6.711427958,
                        "test": [
                          0.6245048104,
                          0.5878750698
                        ]
                      },
                      {
                        "learn": [
                          0.2884136828
                        ],
                        "iteration": 459,
                        "passed_time": 75.32015001,
                        "remaining_time": 6.549578261,
                        "test": [
                          0.6244355127,
                          0.5878621612
                        ]
                      },
                      {
                        "learn": [
                          0.2879313176
                        ],
                        "iteration": 460,
                        "passed_time": 75.50055045,
                        "remaining_time": 6.387248303,
                        "test": [
                          0.6241352228,
                          0.5879889393
                        ]
                      },
                      {
                        "learn": [
                          0.287560533
                        ],
                        "iteration": 461,
                        "passed_time": 75.67938894,
                        "remaining_time": 6.224711644,
                        "test": [
                          0.6238522574,
                          0.588182328
                        ]
                      },
                      {
                        "learn": [
                          0.2872761739
                        ],
                        "iteration": 462,
                        "passed_time": 75.85220884,
                        "remaining_time": 6.0616236,
                        "test": [
                          0.6233556241,
                          0.5884011124
                        ]
                      },
                      {
                        "learn": [
                          0.2869526128
                        ],
                        "iteration": 463,
                        "passed_time": 76.09543552,
                        "remaining_time": 5.903956204,
                        "test": [
                          0.6235837289,
                          0.5883689116
                        ]
                      },
                      {
                        "learn": [
                          0.286431436
                        ],
                        "iteration": 464,
                        "passed_time": 76.29521033,
                        "remaining_time": 5.74265024,
                        "test": [
                          0.6237194368,
                          0.5884449765
                        ]
                      },
                      {
                        "learn": [
                          0.2860215773
                        ],
                        "iteration": 465,
                        "passed_time": 76.46450269,
                        "remaining_time": 5.578955132,
                        "test": [
                          0.6240168393,
                          0.5883495945
                        ]
                      },
                      {
                        "learn": [
                          0.2856667947
                        ],
                        "iteration": 466,
                        "passed_time": 76.66615549,
                        "remaining_time": 5.417522765,
                        "test": [
                          0.6239764157,
                          0.5884005611
                        ]
                      },
                      {
                        "learn": [
                          0.2853209001
                        ],
                        "iteration": 467,
                        "passed_time": 76.85615316,
                        "remaining_time": 5.255121584,
                        "test": [
                          0.6239446543,
                          0.5885280868
                        ]
                      },
                      {
                        "learn": [
                          0.2848527637
                        ],
                        "iteration": 468,
                        "passed_time": 77.06393074,
                        "remaining_time": 5.093777938,
                        "test": [
                          0.6245683333,
                          0.5881413771
                        ]
                      },
                      {
                        "learn": [
                          0.2843943413
                        ],
                        "iteration": 469,
                        "passed_time": 77.25520772,
                        "remaining_time": 4.931183471,
                        "test": [
                          0.6247646767,
                          0.5880521181
                        ]
                      },
                      {
                        "learn": [
                          0.2838970635
                        ],
                        "iteration": 470,
                        "passed_time": 77.43950438,
                        "remaining_time": 4.768037425,
                        "test": [
                          0.6247358026,
                          0.5880546501
                        ]
                      },
                      {
                        "learn": [
                          0.2834528001
                        ],
                        "iteration": 471,
                        "passed_time": 77.62448936,
                        "remaining_time": 4.604842589,
                        "test": [
                          0.6249090468,
                          0.5880202419
                        ]
                      },
                      {
                        "learn": [
                          0.2829511071
                        ],
                        "iteration": 472,
                        "passed_time": 77.81604124,
                        "remaining_time": 4.441930473,
                        "test": [
                          0.6250736288,
                          0.5878771539
                        ]
                      },
                      {
                        "learn": [
                          0.2825775068
                        ],
                        "iteration": 473,
                        "passed_time": 77.99658659,
                        "remaining_time": 4.278293779,
                        "test": [
                          0.6249292586,
                          0.5878412604
                        ]
                      },
                      {
                        "learn": [
                          0.2821455789
                        ],
                        "iteration": 474,
                        "passed_time": 78.22726739,
                        "remaining_time": 4.1172246,
                        "test": [
                          0.6249841193,
                          0.5878754291
                        ]
                      },
                      {
                        "learn": [
                          0.2815950878
                        ],
                        "iteration": 475,
                        "passed_time": 78.41728522,
                        "remaining_time": 3.9538127,
                        "test": [
                          0.6242969174,
                          0.5881209919
                        ]
                      },
                      {
                        "learn": [
                          0.2812995251
                        ],
                        "iteration": 476,
                        "passed_time": 78.59954954,
                        "remaining_time": 3.789915387,
                        "test": [
                          0.624250719,
                          0.5882025375
                        ]
                      },
                      {
                        "learn": [
                          0.280897761
                        ],
                        "iteration": 477,
                        "passed_time": 78.78147317,
                        "remaining_time": 3.625925543,
                        "test": [
                          0.6239157802,
                          0.5883582347
                        ]
                      },
                      {
                        "learn": [
                          0.2805398105
                        ],
                        "iteration": 478,
                        "passed_time": 78.96409167,
                        "remaining_time": 3.461891284,
                        "test": [
                          0.6243691025,
                          0.5882289741
                        ]
                      },
                      {
                        "learn": [
                          0.2800813003
                        ],
                        "iteration": 479,
                        "passed_time": 79.1912341,
                        "remaining_time": 3.299634754,
                        "test": [
                          0.624680942,
                          0.588116445
                        ]
                      },
                      {
                        "learn": [
                          0.2795468862
                        ],
                        "iteration": 480,
                        "passed_time": 79.33454649,
                        "remaining_time": 3.133797055,
                        "test": [
                          0.6247791137,
                          0.5880032556
                        ]
                      },
                      {
                        "learn": [
                          0.2791096508
                        ],
                        "iteration": 481,
                        "passed_time": 79.43675115,
                        "remaining_time": 2.966517678,
                        "test": [
                          0.6246722798,
                          0.5882152809
                        ]
                      },
                      {
                        "learn": [
                          0.2787871157
                        ],
                        "iteration": 482,
                        "passed_time": 79.52754434,
                        "remaining_time": 2.799106115,
                        "test": [
                          0.6244499498,
                          0.5883881275
                        ]
                      },
                      {
                        "learn": [
                          0.2784648762
                        ],
                        "iteration": 483,
                        "passed_time": 79.61992879,
                        "remaining_time": 2.632063762,
                        "test": [
                          0.6241871961,
                          0.5885539432
                        ]
                      },
                      {
                        "learn": [
                          0.2780703375
                        ],
                        "iteration": 484,
                        "passed_time": 79.71152898,
                        "remaining_time": 2.46530502,
                        "test": [
                          0.6243777647,
                          0.5884040121
                        ]
                      },
                      {
                        "learn": [
                          0.2776006219
                        ],
                        "iteration": 485,
                        "passed_time": 79.81102827,
                        "remaining_time": 2.299083119,
                        "test": [
                          0.6253508194,
                          0.5879541423
                        ]
                      },
                      {
                        "learn": [
                          0.2773710205
                        ],
                        "iteration": 486,
                        "passed_time": 79.89962034,
                        "remaining_time": 2.132844075,
                        "test": [
                          0.6254056801,
                          0.5879217292
                        ]
                      },
                      {
                        "learn": [
                          0.2769721359
                        ],
                        "iteration": 487,
                        "passed_time": 79.99168608,
                        "remaining_time": 1.967008674,
                        "test": [
                          0.6256424471,
                          0.5878154218
                        ]
                      },
                      {
                        "learn": [
                          0.2765782123
                        ],
                        "iteration": 488,
                        "passed_time": 80.08585989,
                        "remaining_time": 1.801522411,
                        "test": [
                          0.6253941305,
                          0.5880121958
                        ]
                      },
                      {
                        "learn": [
                          0.276110815
                        ],
                        "iteration": 489,
                        "passed_time": 80.20543569,
                        "remaining_time": 1.636845626,
                        "test": [
                          0.6255529376,
                          0.588057398
                        ]
                      },
                      {
                        "learn": [
                          0.2757621601
                        ],
                        "iteration": 490,
                        "passed_time": 80.29958779,
                        "remaining_time": 1.471886538,
                        "test": [
                          0.625319058,
                          0.5881728187
                        ]
                      },
                      {
                        "learn": [
                          0.2752164813
                        ],
                        "iteration": 491,
                        "passed_time": 80.39083358,
                        "remaining_time": 1.307168026,
                        "test": [
                          0.6251140524,
                          0.5882466636
                        ]
                      },
                      {
                        "learn": [
                          0.2746984192
                        ],
                        "iteration": 492,
                        "passed_time": 80.4945873,
                        "remaining_time": 1.142925175,
                        "test": [
                          0.6250043311,
                          0.5883516329
                        ]
                      },
                      {
                        "learn": [
                          0.2743739311
                        ],
                        "iteration": 493,
                        "passed_time": 80.58347668,
                        "remaining_time": 0.9787466803,
                        "test": [
                          0.6249090468,
                          0.588399685
                        ]
                      },
                      {
                        "learn": [
                          0.2737622055
                        ],
                        "iteration": 494,
                        "passed_time": 80.6781802,
                        "remaining_time": 0.8149311131,
                        "test": [
                          0.6251169398,
                          0.5884585554
                        ]
                      },
                      {
                        "learn": [
                          0.2734537767
                        ],
                        "iteration": 495,
                        "passed_time": 80.76884836,
                        "remaining_time": 0.6513616803,
                        "test": [
                          0.6247531271,
                          0.5885318204
                        ]
                      },
                      {
                        "learn": [
                          0.2729736225
                        ],
                        "iteration": 496,
                        "passed_time": 80.86427255,
                        "remaining_time": 0.4881143212,
                        "test": [
                          0.6246145317,
                          0.5886161287
                        ]
                      },
                      {
                        "learn": [
                          0.2726910277
                        ],
                        "iteration": 497,
                        "passed_time": 80.9534433,
                        "remaining_time": 0.3251142301,
                        "test": [
                          0.624652068,
                          0.5885222677
                        ]
                      },
                      {
                        "learn": [
                          0.2722841607
                        ],
                        "iteration": 498,
                        "passed_time": 81.04660306,
                        "remaining_time": 0.1624180422,
                        "test": [
                          0.6252093367,
                          0.5883026066
                        ]
                      },
                      {
                        "learn": [
                          0.2718328667
                        ],
                        "iteration": 499,
                        "passed_time": 81.13902867,
                        "remaining_time": 0,
                        "test": [
                          0.6248484114,
                          0.5884698196
                        ]
                      }
                    ],
                    "meta": {
                      "test_sets": [
                        "test"
                      ],
                      "test_metrics": [
                        {
                          "best_value": "Max",
                          "name": "AUC"
                        },
                        {
                          "best_value": "Min",
                          "name": "Logloss"
                        }
                      ],
                      "learn_metrics": [
                        {
                          "best_value": "Min",
                          "name": "Logloss"
                        }
                      ],
                      "launch_mode": "Train",
                      "parameters": "",
                      "iteration_count": 500,
                      "learn_sets": [
                        "learn"
                      ],
                      "name": "experiment"
                    }
                  }
                }
              }
            },
            "layout": "IPY_MODEL_9bfa959310124b5eb361b4df8cf22ae7"
          }
        }
      }
    },
    "accelerator": "GPU"
  },
  "cells": [
    {
      "cell_type": "code",
      "execution_count": 2,
      "metadata": {
        "colab": {
          "base_uri": "https://localhost:8080/"
        },
        "id": "DJT9IsK-4q0i",
        "outputId": "5553681e-835c-4ac7-c5f4-33efe88ff114"
      },
      "outputs": [
        {
          "output_type": "stream",
          "name": "stdout",
          "text": [
            "Looking in indexes: https://pypi.org/simple, https://us-python.pkg.dev/colab-wheels/public/simple/\n",
            "Requirement already satisfied: pytorch_lightning in /usr/local/lib/python3.9/dist-packages (1.6.5)\n",
            "Requirement already satisfied: pyDeprecate>=0.3.1 in /usr/local/lib/python3.9/dist-packages (from pytorch_lightning) (0.3.2)\n",
            "Requirement already satisfied: protobuf<=3.20.1 in /usr/local/lib/python3.9/dist-packages (from pytorch_lightning) (3.19.6)\n",
            "Requirement already satisfied: fsspec[http]!=2021.06.0,>=2021.05.0 in /usr/local/lib/python3.9/dist-packages (from pytorch_lightning) (2023.3.0)\n",
            "Requirement already satisfied: typing-extensions>=4.0.0 in /usr/local/lib/python3.9/dist-packages (from pytorch_lightning) (4.5.0)\n",
            "Requirement already satisfied: numpy>=1.17.2 in /usr/local/lib/python3.9/dist-packages (from pytorch_lightning) (1.22.4)\n",
            "Requirement already satisfied: tqdm>=4.57.0 in /usr/local/lib/python3.9/dist-packages (from pytorch_lightning) (4.65.0)\n",
            "Requirement already satisfied: packaging>=17.0 in /usr/local/lib/python3.9/dist-packages (from pytorch_lightning) (23.0)\n",
            "Requirement already satisfied: torchmetrics>=0.4.1 in /usr/local/lib/python3.9/dist-packages (from pytorch_lightning) (0.11.4)\n",
            "Requirement already satisfied: PyYAML>=5.4 in /usr/local/lib/python3.9/dist-packages (from pytorch_lightning) (6.0)\n",
            "Requirement already satisfied: tensorboard>=2.2.0 in /usr/local/lib/python3.9/dist-packages (from pytorch_lightning) (2.11.2)\n",
            "Requirement already satisfied: torch>=1.8.* in /usr/local/lib/python3.9/dist-packages (from pytorch_lightning) (1.13.1+cu116)\n",
            "Requirement already satisfied: aiohttp!=4.0.0a0,!=4.0.0a1 in /usr/local/lib/python3.9/dist-packages (from fsspec[http]!=2021.06.0,>=2021.05.0->pytorch_lightning) (3.8.4)\n",
            "Requirement already satisfied: requests in /usr/local/lib/python3.9/dist-packages (from fsspec[http]!=2021.06.0,>=2021.05.0->pytorch_lightning) (2.27.1)\n",
            "Requirement already satisfied: absl-py>=0.4 in /usr/local/lib/python3.9/dist-packages (from tensorboard>=2.2.0->pytorch_lightning) (1.4.0)\n",
            "Requirement already satisfied: tensorboard-data-server<0.7.0,>=0.6.0 in /usr/local/lib/python3.9/dist-packages (from tensorboard>=2.2.0->pytorch_lightning) (0.6.1)\n",
            "Requirement already satisfied: wheel>=0.26 in /usr/local/lib/python3.9/dist-packages (from tensorboard>=2.2.0->pytorch_lightning) (0.40.0)\n",
            "Requirement already satisfied: google-auth<3,>=1.6.3 in /usr/local/lib/python3.9/dist-packages (from tensorboard>=2.2.0->pytorch_lightning) (2.16.2)\n",
            "Requirement already satisfied: grpcio>=1.24.3 in /usr/local/lib/python3.9/dist-packages (from tensorboard>=2.2.0->pytorch_lightning) (1.51.3)\n",
            "Requirement already satisfied: markdown>=2.6.8 in /usr/local/lib/python3.9/dist-packages (from tensorboard>=2.2.0->pytorch_lightning) (3.4.3)\n",
            "Requirement already satisfied: setuptools>=41.0.0 in /usr/local/lib/python3.9/dist-packages (from tensorboard>=2.2.0->pytorch_lightning) (67.6.0)\n",
            "Requirement already satisfied: werkzeug>=1.0.1 in /usr/local/lib/python3.9/dist-packages (from tensorboard>=2.2.0->pytorch_lightning) (2.2.3)\n",
            "Requirement already satisfied: tensorboard-plugin-wit>=1.6.0 in /usr/local/lib/python3.9/dist-packages (from tensorboard>=2.2.0->pytorch_lightning) (1.8.1)\n",
            "Requirement already satisfied: google-auth-oauthlib<0.5,>=0.4.1 in /usr/local/lib/python3.9/dist-packages (from tensorboard>=2.2.0->pytorch_lightning) (0.4.6)\n",
            "Requirement already satisfied: charset-normalizer<4.0,>=2.0 in /usr/local/lib/python3.9/dist-packages (from aiohttp!=4.0.0a0,!=4.0.0a1->fsspec[http]!=2021.06.0,>=2021.05.0->pytorch_lightning) (2.0.12)\n",
            "Requirement already satisfied: aiosignal>=1.1.2 in /usr/local/lib/python3.9/dist-packages (from aiohttp!=4.0.0a0,!=4.0.0a1->fsspec[http]!=2021.06.0,>=2021.05.0->pytorch_lightning) (1.3.1)\n",
            "Requirement already satisfied: yarl<2.0,>=1.0 in /usr/local/lib/python3.9/dist-packages (from aiohttp!=4.0.0a0,!=4.0.0a1->fsspec[http]!=2021.06.0,>=2021.05.0->pytorch_lightning) (1.8.2)\n",
            "Requirement already satisfied: frozenlist>=1.1.1 in /usr/local/lib/python3.9/dist-packages (from aiohttp!=4.0.0a0,!=4.0.0a1->fsspec[http]!=2021.06.0,>=2021.05.0->pytorch_lightning) (1.3.3)\n",
            "Requirement already satisfied: attrs>=17.3.0 in /usr/local/lib/python3.9/dist-packages (from aiohttp!=4.0.0a0,!=4.0.0a1->fsspec[http]!=2021.06.0,>=2021.05.0->pytorch_lightning) (22.2.0)\n",
            "Requirement already satisfied: async-timeout<5.0,>=4.0.0a3 in /usr/local/lib/python3.9/dist-packages (from aiohttp!=4.0.0a0,!=4.0.0a1->fsspec[http]!=2021.06.0,>=2021.05.0->pytorch_lightning) (4.0.2)\n",
            "Requirement already satisfied: multidict<7.0,>=4.5 in /usr/local/lib/python3.9/dist-packages (from aiohttp!=4.0.0a0,!=4.0.0a1->fsspec[http]!=2021.06.0,>=2021.05.0->pytorch_lightning) (6.0.4)\n",
            "Requirement already satisfied: rsa<5,>=3.1.4 in /usr/local/lib/python3.9/dist-packages (from google-auth<3,>=1.6.3->tensorboard>=2.2.0->pytorch_lightning) (4.9)\n",
            "Requirement already satisfied: six>=1.9.0 in /usr/local/lib/python3.9/dist-packages (from google-auth<3,>=1.6.3->tensorboard>=2.2.0->pytorch_lightning) (1.16.0)\n",
            "Requirement already satisfied: pyasn1-modules>=0.2.1 in /usr/local/lib/python3.9/dist-packages (from google-auth<3,>=1.6.3->tensorboard>=2.2.0->pytorch_lightning) (0.2.8)\n",
            "Requirement already satisfied: cachetools<6.0,>=2.0.0 in /usr/local/lib/python3.9/dist-packages (from google-auth<3,>=1.6.3->tensorboard>=2.2.0->pytorch_lightning) (5.3.0)\n",
            "Requirement already satisfied: requests-oauthlib>=0.7.0 in /usr/local/lib/python3.9/dist-packages (from google-auth-oauthlib<0.5,>=0.4.1->tensorboard>=2.2.0->pytorch_lightning) (1.3.1)\n",
            "Requirement already satisfied: importlib-metadata>=4.4 in /usr/local/lib/python3.9/dist-packages (from markdown>=2.6.8->tensorboard>=2.2.0->pytorch_lightning) (6.1.0)\n",
            "Requirement already satisfied: idna<4,>=2.5 in /usr/local/lib/python3.9/dist-packages (from requests->fsspec[http]!=2021.06.0,>=2021.05.0->pytorch_lightning) (3.4)\n",
            "Requirement already satisfied: certifi>=2017.4.17 in /usr/local/lib/python3.9/dist-packages (from requests->fsspec[http]!=2021.06.0,>=2021.05.0->pytorch_lightning) (2022.12.7)\n",
            "Requirement already satisfied: urllib3<1.27,>=1.21.1 in /usr/local/lib/python3.9/dist-packages (from requests->fsspec[http]!=2021.06.0,>=2021.05.0->pytorch_lightning) (1.26.15)\n",
            "Requirement already satisfied: MarkupSafe>=2.1.1 in /usr/local/lib/python3.9/dist-packages (from werkzeug>=1.0.1->tensorboard>=2.2.0->pytorch_lightning) (2.1.2)\n",
            "Requirement already satisfied: zipp>=0.5 in /usr/local/lib/python3.9/dist-packages (from importlib-metadata>=4.4->markdown>=2.6.8->tensorboard>=2.2.0->pytorch_lightning) (3.15.0)\n",
            "Requirement already satisfied: pyasn1<0.5.0,>=0.4.6 in /usr/local/lib/python3.9/dist-packages (from pyasn1-modules>=0.2.1->google-auth<3,>=1.6.3->tensorboard>=2.2.0->pytorch_lightning) (0.4.8)\n",
            "Requirement already satisfied: oauthlib>=3.0.0 in /usr/local/lib/python3.9/dist-packages (from requests-oauthlib>=0.7.0->google-auth-oauthlib<0.5,>=0.4.1->tensorboard>=2.2.0->pytorch_lightning) (3.2.2)\n",
            "Looking in indexes: https://pypi.org/simple, https://us-python.pkg.dev/colab-wheels/public/simple/\n",
            "Requirement already satisfied: pytorch-lifestream in /usr/local/lib/python3.9/dist-packages (0.5.2)\n",
            "Requirement already satisfied: transformers==4.* in /usr/local/lib/python3.9/dist-packages (from pytorch-lifestream) (4.27.3)\n",
            "Requirement already satisfied: pyarrow>=7.0 in /usr/local/lib/python3.9/dist-packages (from pytorch-lifestream) (9.0.0)\n",
            "Requirement already satisfied: pytorch-lightning==1.6.* in /usr/local/lib/python3.9/dist-packages (from pytorch-lifestream) (1.6.5)\n",
            "Requirement already satisfied: hydra-core>=1.1.2 in /usr/local/lib/python3.9/dist-packages (from pytorch-lifestream) (1.3.2)\n",
            "Requirement already satisfied: tensorboard>=2.2.0 in /usr/local/lib/python3.9/dist-packages (from pytorch-lightning==1.6.*->pytorch-lifestream) (2.11.2)\n",
            "Requirement already satisfied: torch>=1.8.* in /usr/local/lib/python3.9/dist-packages (from pytorch-lightning==1.6.*->pytorch-lifestream) (1.13.1+cu116)\n",
            "Requirement already satisfied: numpy>=1.17.2 in /usr/local/lib/python3.9/dist-packages (from pytorch-lightning==1.6.*->pytorch-lifestream) (1.22.4)\n",
            "Requirement already satisfied: PyYAML>=5.4 in /usr/local/lib/python3.9/dist-packages (from pytorch-lightning==1.6.*->pytorch-lifestream) (6.0)\n",
            "Requirement already satisfied: fsspec[http]!=2021.06.0,>=2021.05.0 in /usr/local/lib/python3.9/dist-packages (from pytorch-lightning==1.6.*->pytorch-lifestream) (2023.3.0)\n",
            "Requirement already satisfied: tqdm>=4.57.0 in /usr/local/lib/python3.9/dist-packages (from pytorch-lightning==1.6.*->pytorch-lifestream) (4.65.0)\n",
            "Requirement already satisfied: pyDeprecate>=0.3.1 in /usr/local/lib/python3.9/dist-packages (from pytorch-lightning==1.6.*->pytorch-lifestream) (0.3.2)\n",
            "Requirement already satisfied: typing-extensions>=4.0.0 in /usr/local/lib/python3.9/dist-packages (from pytorch-lightning==1.6.*->pytorch-lifestream) (4.5.0)\n",
            "Requirement already satisfied: torchmetrics>=0.4.1 in /usr/local/lib/python3.9/dist-packages (from pytorch-lightning==1.6.*->pytorch-lifestream) (0.11.4)\n",
            "Requirement already satisfied: packaging>=17.0 in /usr/local/lib/python3.9/dist-packages (from pytorch-lightning==1.6.*->pytorch-lifestream) (23.0)\n",
            "Requirement already satisfied: protobuf<=3.20.1 in /usr/local/lib/python3.9/dist-packages (from pytorch-lightning==1.6.*->pytorch-lifestream) (3.19.6)\n",
            "Requirement already satisfied: huggingface-hub<1.0,>=0.11.0 in /usr/local/lib/python3.9/dist-packages (from transformers==4.*->pytorch-lifestream) (0.13.3)\n",
            "Requirement already satisfied: filelock in /usr/local/lib/python3.9/dist-packages (from transformers==4.*->pytorch-lifestream) (3.10.2)\n",
            "Requirement already satisfied: tokenizers!=0.11.3,<0.14,>=0.11.1 in /usr/local/lib/python3.9/dist-packages (from transformers==4.*->pytorch-lifestream) (0.13.2)\n",
            "Requirement already satisfied: regex!=2019.12.17 in /usr/local/lib/python3.9/dist-packages (from transformers==4.*->pytorch-lifestream) (2022.10.31)\n",
            "Requirement already satisfied: requests in /usr/local/lib/python3.9/dist-packages (from transformers==4.*->pytorch-lifestream) (2.27.1)\n",
            "Requirement already satisfied: omegaconf<2.4,>=2.2 in /usr/local/lib/python3.9/dist-packages (from hydra-core>=1.1.2->pytorch-lifestream) (2.3.0)\n",
            "Requirement already satisfied: antlr4-python3-runtime==4.9.* in /usr/local/lib/python3.9/dist-packages (from hydra-core>=1.1.2->pytorch-lifestream) (4.9.3)\n",
            "Requirement already satisfied: aiohttp!=4.0.0a0,!=4.0.0a1 in /usr/local/lib/python3.9/dist-packages (from fsspec[http]!=2021.06.0,>=2021.05.0->pytorch-lightning==1.6.*->pytorch-lifestream) (3.8.4)\n",
            "Requirement already satisfied: markdown>=2.6.8 in /usr/local/lib/python3.9/dist-packages (from tensorboard>=2.2.0->pytorch-lightning==1.6.*->pytorch-lifestream) (3.4.3)\n",
            "Requirement already satisfied: werkzeug>=1.0.1 in /usr/local/lib/python3.9/dist-packages (from tensorboard>=2.2.0->pytorch-lightning==1.6.*->pytorch-lifestream) (2.2.3)\n",
            "Requirement already satisfied: tensorboard-data-server<0.7.0,>=0.6.0 in /usr/local/lib/python3.9/dist-packages (from tensorboard>=2.2.0->pytorch-lightning==1.6.*->pytorch-lifestream) (0.6.1)\n",
            "Requirement already satisfied: grpcio>=1.24.3 in /usr/local/lib/python3.9/dist-packages (from tensorboard>=2.2.0->pytorch-lightning==1.6.*->pytorch-lifestream) (1.51.3)\n",
            "Requirement already satisfied: absl-py>=0.4 in /usr/local/lib/python3.9/dist-packages (from tensorboard>=2.2.0->pytorch-lightning==1.6.*->pytorch-lifestream) (1.4.0)\n",
            "Requirement already satisfied: google-auth-oauthlib<0.5,>=0.4.1 in /usr/local/lib/python3.9/dist-packages (from tensorboard>=2.2.0->pytorch-lightning==1.6.*->pytorch-lifestream) (0.4.6)\n",
            "Requirement already satisfied: setuptools>=41.0.0 in /usr/local/lib/python3.9/dist-packages (from tensorboard>=2.2.0->pytorch-lightning==1.6.*->pytorch-lifestream) (67.6.0)\n",
            "Requirement already satisfied: wheel>=0.26 in /usr/local/lib/python3.9/dist-packages (from tensorboard>=2.2.0->pytorch-lightning==1.6.*->pytorch-lifestream) (0.40.0)\n",
            "Requirement already satisfied: google-auth<3,>=1.6.3 in /usr/local/lib/python3.9/dist-packages (from tensorboard>=2.2.0->pytorch-lightning==1.6.*->pytorch-lifestream) (2.16.2)\n",
            "Requirement already satisfied: tensorboard-plugin-wit>=1.6.0 in /usr/local/lib/python3.9/dist-packages (from tensorboard>=2.2.0->pytorch-lightning==1.6.*->pytorch-lifestream) (1.8.1)\n",
            "Requirement already satisfied: charset-normalizer~=2.0.0 in /usr/local/lib/python3.9/dist-packages (from requests->transformers==4.*->pytorch-lifestream) (2.0.12)\n",
            "Requirement already satisfied: urllib3<1.27,>=1.21.1 in /usr/local/lib/python3.9/dist-packages (from requests->transformers==4.*->pytorch-lifestream) (1.26.15)\n",
            "Requirement already satisfied: idna<4,>=2.5 in /usr/local/lib/python3.9/dist-packages (from requests->transformers==4.*->pytorch-lifestream) (3.4)\n",
            "Requirement already satisfied: certifi>=2017.4.17 in /usr/local/lib/python3.9/dist-packages (from requests->transformers==4.*->pytorch-lifestream) (2022.12.7)\n",
            "Requirement already satisfied: async-timeout<5.0,>=4.0.0a3 in /usr/local/lib/python3.9/dist-packages (from aiohttp!=4.0.0a0,!=4.0.0a1->fsspec[http]!=2021.06.0,>=2021.05.0->pytorch-lightning==1.6.*->pytorch-lifestream) (4.0.2)\n",
            "Requirement already satisfied: multidict<7.0,>=4.5 in /usr/local/lib/python3.9/dist-packages (from aiohttp!=4.0.0a0,!=4.0.0a1->fsspec[http]!=2021.06.0,>=2021.05.0->pytorch-lightning==1.6.*->pytorch-lifestream) (6.0.4)\n",
            "Requirement already satisfied: frozenlist>=1.1.1 in /usr/local/lib/python3.9/dist-packages (from aiohttp!=4.0.0a0,!=4.0.0a1->fsspec[http]!=2021.06.0,>=2021.05.0->pytorch-lightning==1.6.*->pytorch-lifestream) (1.3.3)\n",
            "Requirement already satisfied: yarl<2.0,>=1.0 in /usr/local/lib/python3.9/dist-packages (from aiohttp!=4.0.0a0,!=4.0.0a1->fsspec[http]!=2021.06.0,>=2021.05.0->pytorch-lightning==1.6.*->pytorch-lifestream) (1.8.2)\n",
            "Requirement already satisfied: attrs>=17.3.0 in /usr/local/lib/python3.9/dist-packages (from aiohttp!=4.0.0a0,!=4.0.0a1->fsspec[http]!=2021.06.0,>=2021.05.0->pytorch-lightning==1.6.*->pytorch-lifestream) (22.2.0)\n",
            "Requirement already satisfied: aiosignal>=1.1.2 in /usr/local/lib/python3.9/dist-packages (from aiohttp!=4.0.0a0,!=4.0.0a1->fsspec[http]!=2021.06.0,>=2021.05.0->pytorch-lightning==1.6.*->pytorch-lifestream) (1.3.1)\n",
            "Requirement already satisfied: rsa<5,>=3.1.4 in /usr/local/lib/python3.9/dist-packages (from google-auth<3,>=1.6.3->tensorboard>=2.2.0->pytorch-lightning==1.6.*->pytorch-lifestream) (4.9)\n",
            "Requirement already satisfied: cachetools<6.0,>=2.0.0 in /usr/local/lib/python3.9/dist-packages (from google-auth<3,>=1.6.3->tensorboard>=2.2.0->pytorch-lightning==1.6.*->pytorch-lifestream) (5.3.0)\n",
            "Requirement already satisfied: six>=1.9.0 in /usr/local/lib/python3.9/dist-packages (from google-auth<3,>=1.6.3->tensorboard>=2.2.0->pytorch-lightning==1.6.*->pytorch-lifestream) (1.16.0)\n",
            "Requirement already satisfied: pyasn1-modules>=0.2.1 in /usr/local/lib/python3.9/dist-packages (from google-auth<3,>=1.6.3->tensorboard>=2.2.0->pytorch-lightning==1.6.*->pytorch-lifestream) (0.2.8)\n",
            "Requirement already satisfied: requests-oauthlib>=0.7.0 in /usr/local/lib/python3.9/dist-packages (from google-auth-oauthlib<0.5,>=0.4.1->tensorboard>=2.2.0->pytorch-lightning==1.6.*->pytorch-lifestream) (1.3.1)\n",
            "Requirement already satisfied: importlib-metadata>=4.4 in /usr/local/lib/python3.9/dist-packages (from markdown>=2.6.8->tensorboard>=2.2.0->pytorch-lightning==1.6.*->pytorch-lifestream) (6.1.0)\n",
            "Requirement already satisfied: MarkupSafe>=2.1.1 in /usr/local/lib/python3.9/dist-packages (from werkzeug>=1.0.1->tensorboard>=2.2.0->pytorch-lightning==1.6.*->pytorch-lifestream) (2.1.2)\n",
            "Requirement already satisfied: zipp>=0.5 in /usr/local/lib/python3.9/dist-packages (from importlib-metadata>=4.4->markdown>=2.6.8->tensorboard>=2.2.0->pytorch-lightning==1.6.*->pytorch-lifestream) (3.15.0)\n",
            "Requirement already satisfied: pyasn1<0.5.0,>=0.4.6 in /usr/local/lib/python3.9/dist-packages (from pyasn1-modules>=0.2.1->google-auth<3,>=1.6.3->tensorboard>=2.2.0->pytorch-lightning==1.6.*->pytorch-lifestream) (0.4.8)\n",
            "Requirement already satisfied: oauthlib>=3.0.0 in /usr/local/lib/python3.9/dist-packages (from requests-oauthlib>=0.7.0->google-auth-oauthlib<0.5,>=0.4.1->tensorboard>=2.2.0->pytorch-lightning==1.6.*->pytorch-lifestream) (3.2.2)\n"
          ]
        }
      ],
      "source": [
        "!pip install pytorch_lightning\n",
        "!pip install pytorch-lifestream"
      ]
    },
    {
      "cell_type": "code",
      "source": [
        "from google.colab import drive\n",
        "drive.mount('/content/drive',force_remount=True)"
      ],
      "metadata": {
        "colab": {
          "base_uri": "https://localhost:8080/"
        },
        "id": "fcKNRLWI4up4",
        "outputId": "14643c34-8a5b-42a1-ba16-1f94c3f52825"
      },
      "execution_count": 6,
      "outputs": [
        {
          "output_type": "stream",
          "name": "stdout",
          "text": [
            "Mounted at /content/drive\n"
          ]
        }
      ]
    },
    {
      "cell_type": "code",
      "source": [
        "#Change to your data folder\n",
        "%cd /content/drive/MyDrive/content/drive/MyDrive/ML_final_project"
      ],
      "metadata": {
        "colab": {
          "base_uri": "https://localhost:8080/"
        },
        "id": "aLQZDJrX5qfQ",
        "outputId": "2493cf96-f482-4f54-8d1c-ab51d4aacf78"
      },
      "execution_count": 9,
      "outputs": [
        {
          "output_type": "stream",
          "name": "stdout",
          "text": [
            "/content/drive/MyDrive/content/drive/MyDrive/ML_final_project\n"
          ]
        }
      ]
    },
    {
      "cell_type": "code",
      "source": [
        "#Creating iterable datasets from .parquet files\n",
        "from ptls.data_load.datasets import ParquetDataset, ParquetFiles\n",
        "\n",
        "iterable_train = ParquetDataset(ParquetFiles('train.parquet'))\n",
        "next(iter(iterable_train))"
      ],
      "metadata": {
        "colab": {
          "base_uri": "https://localhost:8080/"
        },
        "id": "yKIxm3kF6aZN",
        "outputId": "60727d40-2c64-40b9-b882-7638d4427464"
      },
      "execution_count": 10,
      "outputs": [
        {
          "output_type": "execute_result",
          "data": {
            "text/plain": [
              "{'user_id': '44c6769d14ac44c8b2325a5ff4d98470',\n",
              " 'cat_id': tensor([44,  1, 44,  ...,  1,  1,  1], dtype=torch.int32),\n",
              " 'event_time': tensor([1611145856, 1611984311, 1612090463,  ..., 1623660249, 1623678888,\n",
              "         1623762102])}"
            ]
          },
          "metadata": {},
          "execution_count": 10
        }
      ]
    },
    {
      "cell_type": "code",
      "source": [
        "from ptls.data_load.datasets import MemoryMapDataset\n",
        "from ptls.data_load.iterable_processing import SeqLenFilter, FeatureFilter\n",
        "\n",
        "map_processed_train = MemoryMapDataset(\n",
        "    data=iterable_train,\n",
        "    i_filters=[\n",
        "        SeqLenFilter(min_seq_len=25),\n",
        "    ],\n",
        ")"
      ],
      "metadata": {
        "id": "gOecvB2M6-AE"
      },
      "execution_count": 11,
      "outputs": []
    },
    {
      "cell_type": "code",
      "source": [
        "map_processed_train[0]"
      ],
      "metadata": {
        "colab": {
          "base_uri": "https://localhost:8080/"
        },
        "id": "U7DVnxpS67wi",
        "outputId": "54d135df-84b6-4414-99c0-c7a80bf11717"
      },
      "execution_count": 12,
      "outputs": [
        {
          "output_type": "execute_result",
          "data": {
            "text/plain": [
              "{'user_id': '44c6769d14ac44c8b2325a5ff4d98470',\n",
              " 'cat_id': tensor([44,  1, 44,  ...,  1,  1,  1], dtype=torch.int32),\n",
              " 'event_time': tensor([1611145856, 1611984311, 1612090463,  ..., 1623660249, 1623678888,\n",
              "         1623762102])}"
            ]
          },
          "metadata": {},
          "execution_count": 12
        }
      ]
    },
    {
      "cell_type": "markdown",
      "source": [
        "#Creating model"
      ],
      "metadata": {
        "id": "TOUP6uneo5Yf"
      }
    },
    {
      "cell_type": "code",
      "source": [
        "import torch\n",
        "from functools import partial\n",
        "from ptls.nn import TrxEncoder, RnnSeqEncoder\n",
        "from ptls.frames.coles import CoLESModule\n",
        "\n",
        "trx_encoder_params = dict(\n",
        "    embeddings_noise=0.003,\n",
        "    numeric_values={},\n",
        "    embeddings={\n",
        "        'event_time': {'in': 800, 'out': 16},\n",
        "        'cat_id': {'in': 410, 'out': 16},\n",
        "    },\n",
        ")\n",
        "\n",
        "seq_encoder = RnnSeqEncoder(\n",
        "    trx_encoder=TrxEncoder(**trx_encoder_params),\n",
        "    hidden_size=800,\n",
        "    type='gru',\n",
        ")\n",
        "\n",
        "model = CoLESModule(\n",
        "    seq_encoder=seq_encoder,\n",
        "    optimizer_partial=partial(torch.optim.Adam, lr=0.001),\n",
        "    lr_scheduler_partial=partial(torch.optim.lr_scheduler.StepLR, step_size=30, gamma=0.9),\n",
        ")"
      ],
      "metadata": {
        "id": "i1oxq7x47K_2"
      },
      "execution_count": 13,
      "outputs": []
    },
    {
      "cell_type": "markdown",
      "source": [
        "#Creating dataloaders"
      ],
      "metadata": {
        "id": "XIdH8Nbvo9or"
      }
    },
    {
      "cell_type": "code",
      "source": [
        "from ptls.data_load.datasets import MemoryMapDataset\n",
        "from ptls.data_load.iterable_processing import SeqLenFilter\n",
        "from ptls.frames.coles import ColesDataset\n",
        "from ptls.frames.coles.split_strategy import SampleSlices\n",
        "from ptls.frames import PtlsDataModule\n",
        "\n",
        "train_dl = PtlsDataModule(\n",
        "    train_data=ColesDataset(\n",
        "        map_processed_train,\n",
        "        splitter=SampleSlices(\n",
        "            split_count=5,\n",
        "            cnt_min=25,\n",
        "            cnt_max=200,\n",
        "        ),\n",
        "    ),\n",
        "    train_num_workers=2,\n",
        "    train_batch_size=64,\n",
        ")"
      ],
      "metadata": {
        "id": "0tH2SEUu7Nz8"
      },
      "execution_count": 14,
      "outputs": []
    },
    {
      "cell_type": "markdown",
      "source": [
        "#Training procedure"
      ],
      "metadata": {
        "id": "Yya8_IcopYej"
      }
    },
    {
      "cell_type": "code",
      "source": [
        "import torch\n",
        "import pytorch_lightning as pl\n",
        "\n",
        "import logging\n",
        "\n",
        "trainer = pl.Trainer(\n",
        "    max_epochs=150,\n",
        "    gpus=1 if torch.cuda.is_available() else 0,\n",
        "    enable_progress_bar=False,\n",
        ")"
      ],
      "metadata": {
        "colab": {
          "base_uri": "https://localhost:8080/"
        },
        "id": "e1cJwEtF7PVe",
        "outputId": "b4a46efc-9d31-44f4-aa9a-65e9e5dadc3c"
      },
      "execution_count": 15,
      "outputs": [
        {
          "output_type": "stream",
          "name": "stderr",
          "text": [
            "INFO:pytorch_lightning.utilities.rank_zero:GPU available: True, used: True\n",
            "INFO:pytorch_lightning.utilities.rank_zero:TPU available: False, using: 0 TPU cores\n",
            "INFO:pytorch_lightning.utilities.rank_zero:IPU available: False, using: 0 IPUs\n",
            "INFO:pytorch_lightning.utilities.rank_zero:HPU available: False, using: 0 HPUs\n"
          ]
        }
      ]
    },
    {
      "cell_type": "code",
      "source": [
        "%%time\n",
        "print(f'logger.version = {trainer.logger.version}')\n",
        "trainer.fit(model, train_dl)\n",
        "print(trainer.logged_metrics)"
      ],
      "metadata": {
        "colab": {
          "base_uri": "https://localhost:8080/"
        },
        "id": "tZ2lhpgf7RAd",
        "outputId": "77f41d79-bcbf-49e1-d201-c6043b6e1a48"
      },
      "execution_count": 16,
      "outputs": [
        {
          "output_type": "stream",
          "name": "stderr",
          "text": [
            "WARNING:pytorch_lightning.loggers.tensorboard:Missing logger folder: /content/drive/MyDrive/content/drive/MyDrive/ML_final_project/lightning_logs\n",
            "/usr/local/lib/python3.9/dist-packages/pytorch_lightning/trainer/configuration_validator.py:133: UserWarning: You defined a `validation_step` but have no `val_dataloader`. Skipping val loop.\n",
            "  rank_zero_warn(\"You defined a `validation_step` but have no `val_dataloader`. Skipping val loop.\")\n"
          ]
        },
        {
          "output_type": "stream",
          "name": "stdout",
          "text": [
            "logger.version = 0\n"
          ]
        },
        {
          "output_type": "stream",
          "name": "stderr",
          "text": [
            "INFO:pytorch_lightning.accelerators.gpu:LOCAL_RANK: 0 - CUDA_VISIBLE_DEVICES: [0]\n",
            "INFO:pytorch_lightning.callbacks.model_summary:\n",
            "  | Name               | Type            | Params\n",
            "-------------------------------------------------------\n",
            "0 | _loss              | ContrastiveLoss | 0     \n",
            "1 | _seq_encoder       | RnnSeqEncoder   | 2.0 M \n",
            "2 | _validation_metric | BatchRecallTopK | 0     \n",
            "3 | _head              | Head            | 0     \n",
            "-------------------------------------------------------\n",
            "2.0 M     Trainable params\n",
            "0         Non-trainable params\n",
            "2.0 M     Total params\n",
            "8.087     Total estimated model params size (MB)\n"
          ]
        },
        {
          "output_type": "stream",
          "name": "stdout",
          "text": [
            "{'loss': tensor(52.0273), 'seq_len': tensor(117.6914)}\n",
            "CPU times: user 3h 1min 41s, sys: 1min 25s, total: 3h 3min 7s\n",
            "Wall time: 3h 12min 14s\n"
          ]
        }
      ]
    },
    {
      "cell_type": "code",
      "source": [
        "torch.save(seq_encoder.state_dict(), \"coles-emb-clickstream.pt\")"
      ],
      "metadata": {
        "id": "IpcmH7D57S9n"
      },
      "execution_count": 17,
      "outputs": []
    },
    {
      "cell_type": "markdown",
      "source": [
        "#Creating embeddings"
      ],
      "metadata": {
        "id": "qP6qWwNipd2D"
      }
    },
    {
      "cell_type": "code",
      "source": [
        "from ptls.data_load.datasets import inference_data_loader\n",
        "\n",
        "iterable_test = ParquetDataset(ParquetFiles('test.parquet'))\n",
        "\n",
        "train_dl = inference_data_loader(list(iter(iterable_train)), num_workers=0, batch_size=64)\n",
        "\n",
        "train_embeds = torch.vstack(trainer.predict(model, train_dl, ))\n"
      ],
      "metadata": {
        "colab": {
          "base_uri": "https://localhost:8080/"
        },
        "id": "VV4kPUYE7VKf",
        "outputId": "171ddb20-d2f2-430c-bf14-0924586c4d4c"
      },
      "execution_count": 18,
      "outputs": [
        {
          "output_type": "stream",
          "name": "stderr",
          "text": [
            "INFO:pytorch_lightning.accelerators.gpu:LOCAL_RANK: 0 - CUDA_VISIBLE_DEVICES: [0]\n",
            "/usr/local/lib/python3.9/dist-packages/pytorch_lightning/loops/epoch/prediction_epoch_loop.py:175: UserWarning: Lightning couldn't infer the indices fetched for your dataloader.\n",
            "  warning_cache.warn(\"Lightning couldn't infer the indices fetched for your dataloader.\")\n"
          ]
        }
      ]
    },
    {
      "cell_type": "code",
      "source": [
        "train_embeds = torch.vstack(trainer.predict(model, train_dl, ))\n",
        "\n",
        "test_dl = inference_data_loader(list(iter(iterable_test)), num_workers=0, batch_size=64)\n",
        "test_embeds = torch.vstack(trainer.predict(model, test_dl))\n",
        "\n",
        "train_embeds.shape, test_embeds.shape"
      ],
      "metadata": {
        "colab": {
          "base_uri": "https://localhost:8080/"
        },
        "id": "DJySHnWI9vRG",
        "outputId": "6680575d-2092-4cfa-d4b0-fdeab0292795"
      },
      "execution_count": 19,
      "outputs": [
        {
          "output_type": "stream",
          "name": "stderr",
          "text": [
            "INFO:pytorch_lightning.accelerators.gpu:LOCAL_RANK: 0 - CUDA_VISIBLE_DEVICES: [0]\n",
            "INFO:pytorch_lightning.accelerators.gpu:LOCAL_RANK: 0 - CUDA_VISIBLE_DEVICES: [0]\n"
          ]
        },
        {
          "output_type": "execute_result",
          "data": {
            "text/plain": [
              "(torch.Size([15715, 800]), torch.Size([3908, 800]))"
            ]
          },
          "metadata": {},
          "execution_count": 19
        }
      ]
    },
    {
      "cell_type": "markdown",
      "source": [
        "#Creating pandas df-s with embeddings and target"
      ],
      "metadata": {
        "id": "dqhjhE3Kph4M"
      }
    },
    {
      "cell_type": "code",
      "source": [
        "import pandas as pd\n",
        "df_target = pd.read_csv('target_dataset_matched.csv')\n",
        "df_target.rename(columns={'rtk':'user_id'},inplace=True)\n",
        "df_target = df_target.set_index('user_id')\n",
        "df_target.rename(columns={\"higher_education\": \"target\"}, inplace=True)\n",
        "\n",
        "train_df = pd.DataFrame(data=train_embeds, columns=[f'embed_{i}' for i in range(train_embeds.shape[1])])\n",
        "train_df['user_id'] = [x['user_id'] for x in iter(iterable_train)]\n",
        "train_df = train_df.merge(df_target, how='left', on='user_id')\n",
        "\n",
        "test_df = pd.DataFrame(data=test_embeds, columns=[f'embed_{i}' for i in range(test_embeds.shape[1])])\n",
        "test_df['user_id'] = [x['user_id'] for x in iter(iterable_test)]\n",
        "test_df = test_df.merge(df_target, how='left', on='user_id')\n",
        "\n",
        "print(train_df.shape, test_df.shape)"
      ],
      "metadata": {
        "colab": {
          "base_uri": "https://localhost:8080/"
        },
        "id": "HmNClKELNR61",
        "outputId": "986d95f2-3ac4-4b36-dee7-550a27e4cd35"
      },
      "execution_count": 21,
      "outputs": [
        {
          "output_type": "stream",
          "name": "stdout",
          "text": [
            "(15715, 802) (3908, 802)\n"
          ]
        }
      ]
    },
    {
      "cell_type": "code",
      "source": [
        "train_df.head()"
      ],
      "metadata": {
        "colab": {
          "base_uri": "https://localhost:8080/",
          "height": 299
        },
        "id": "kJvWQdfTOCZP",
        "outputId": "41b46944-2b26-4972-c894-347f5274285e"
      },
      "execution_count": 22,
      "outputs": [
        {
          "output_type": "execute_result",
          "data": {
            "text/plain": [
              "    embed_0   embed_1   embed_2   embed_3   embed_4   embed_5   embed_6  \\\n",
              "0  0.999581  0.999927 -0.286775 -0.001530  0.100172  0.999996 -0.576632   \n",
              "1  1.000000  0.999983 -0.308377  0.305219 -0.004733  1.000000 -0.190570   \n",
              "2  0.995233  0.999999  0.183809  0.062960  0.170753  0.999913 -0.248588   \n",
              "3  0.999977  0.999954 -0.106581  0.148248  0.051510  1.000000 -0.393568   \n",
              "4  1.000000  0.999986  0.106824  0.100652  0.021540  1.000000 -0.316949   \n",
              "\n",
              "    embed_7   embed_8   embed_9  ...  embed_792  embed_793  embed_794  \\\n",
              "0  0.212463 -0.369466  0.056238  ...   0.586036  -0.160652  -0.517759   \n",
              "1 -0.097774  0.458890  0.026820  ...   0.189250  -0.028318  -0.122350   \n",
              "2  0.017811  0.215983  0.055552  ...   0.108500  -0.118591  -0.094976   \n",
              "3  0.027748  0.493191 -0.186794  ...   0.422815  -0.107897   0.024104   \n",
              "4 -0.093824  0.805055 -0.062347  ...   0.010349  -0.073432  -0.002625   \n",
              "\n",
              "   embed_795  embed_796  embed_797  embed_798  embed_799  \\\n",
              "0  -0.998498   0.137599  -0.169210  -0.013057   0.990942   \n",
              "1  -0.999997  -0.154973   0.951301   0.349644   1.000000   \n",
              "2  -0.919730  -0.252030  -0.131024   0.074389   1.000000   \n",
              "3  -0.959465   0.178676  -0.278661  -0.027148   0.999999   \n",
              "4  -0.997213  -0.170893  -0.156715  -0.032868   1.000000   \n",
              "\n",
              "                            user_id  target  \n",
              "0  44c6769d14ac44c8b2325a5ff4d98470     NaN  \n",
              "1  6055e2a16e7f42ff81507a864a64434a     NaN  \n",
              "2  f74dd84cbeef41228988d30fb7f1f6c0     NaN  \n",
              "3  2a1b1913f2104171bc198101ccfad023     NaN  \n",
              "4  6a250b31483e483e97e05ed8ca971c18     1.0  \n",
              "\n",
              "[5 rows x 802 columns]"
            ],
            "text/html": [
              "\n",
              "  <div id=\"df-b0527bb9-2214-4eaa-b29b-47dc399f153d\">\n",
              "    <div class=\"colab-df-container\">\n",
              "      <div>\n",
              "<style scoped>\n",
              "    .dataframe tbody tr th:only-of-type {\n",
              "        vertical-align: middle;\n",
              "    }\n",
              "\n",
              "    .dataframe tbody tr th {\n",
              "        vertical-align: top;\n",
              "    }\n",
              "\n",
              "    .dataframe thead th {\n",
              "        text-align: right;\n",
              "    }\n",
              "</style>\n",
              "<table border=\"1\" class=\"dataframe\">\n",
              "  <thead>\n",
              "    <tr style=\"text-align: right;\">\n",
              "      <th></th>\n",
              "      <th>embed_0</th>\n",
              "      <th>embed_1</th>\n",
              "      <th>embed_2</th>\n",
              "      <th>embed_3</th>\n",
              "      <th>embed_4</th>\n",
              "      <th>embed_5</th>\n",
              "      <th>embed_6</th>\n",
              "      <th>embed_7</th>\n",
              "      <th>embed_8</th>\n",
              "      <th>embed_9</th>\n",
              "      <th>...</th>\n",
              "      <th>embed_792</th>\n",
              "      <th>embed_793</th>\n",
              "      <th>embed_794</th>\n",
              "      <th>embed_795</th>\n",
              "      <th>embed_796</th>\n",
              "      <th>embed_797</th>\n",
              "      <th>embed_798</th>\n",
              "      <th>embed_799</th>\n",
              "      <th>user_id</th>\n",
              "      <th>target</th>\n",
              "    </tr>\n",
              "  </thead>\n",
              "  <tbody>\n",
              "    <tr>\n",
              "      <th>0</th>\n",
              "      <td>0.999581</td>\n",
              "      <td>0.999927</td>\n",
              "      <td>-0.286775</td>\n",
              "      <td>-0.001530</td>\n",
              "      <td>0.100172</td>\n",
              "      <td>0.999996</td>\n",
              "      <td>-0.576632</td>\n",
              "      <td>0.212463</td>\n",
              "      <td>-0.369466</td>\n",
              "      <td>0.056238</td>\n",
              "      <td>...</td>\n",
              "      <td>0.586036</td>\n",
              "      <td>-0.160652</td>\n",
              "      <td>-0.517759</td>\n",
              "      <td>-0.998498</td>\n",
              "      <td>0.137599</td>\n",
              "      <td>-0.169210</td>\n",
              "      <td>-0.013057</td>\n",
              "      <td>0.990942</td>\n",
              "      <td>44c6769d14ac44c8b2325a5ff4d98470</td>\n",
              "      <td>NaN</td>\n",
              "    </tr>\n",
              "    <tr>\n",
              "      <th>1</th>\n",
              "      <td>1.000000</td>\n",
              "      <td>0.999983</td>\n",
              "      <td>-0.308377</td>\n",
              "      <td>0.305219</td>\n",
              "      <td>-0.004733</td>\n",
              "      <td>1.000000</td>\n",
              "      <td>-0.190570</td>\n",
              "      <td>-0.097774</td>\n",
              "      <td>0.458890</td>\n",
              "      <td>0.026820</td>\n",
              "      <td>...</td>\n",
              "      <td>0.189250</td>\n",
              "      <td>-0.028318</td>\n",
              "      <td>-0.122350</td>\n",
              "      <td>-0.999997</td>\n",
              "      <td>-0.154973</td>\n",
              "      <td>0.951301</td>\n",
              "      <td>0.349644</td>\n",
              "      <td>1.000000</td>\n",
              "      <td>6055e2a16e7f42ff81507a864a64434a</td>\n",
              "      <td>NaN</td>\n",
              "    </tr>\n",
              "    <tr>\n",
              "      <th>2</th>\n",
              "      <td>0.995233</td>\n",
              "      <td>0.999999</td>\n",
              "      <td>0.183809</td>\n",
              "      <td>0.062960</td>\n",
              "      <td>0.170753</td>\n",
              "      <td>0.999913</td>\n",
              "      <td>-0.248588</td>\n",
              "      <td>0.017811</td>\n",
              "      <td>0.215983</td>\n",
              "      <td>0.055552</td>\n",
              "      <td>...</td>\n",
              "      <td>0.108500</td>\n",
              "      <td>-0.118591</td>\n",
              "      <td>-0.094976</td>\n",
              "      <td>-0.919730</td>\n",
              "      <td>-0.252030</td>\n",
              "      <td>-0.131024</td>\n",
              "      <td>0.074389</td>\n",
              "      <td>1.000000</td>\n",
              "      <td>f74dd84cbeef41228988d30fb7f1f6c0</td>\n",
              "      <td>NaN</td>\n",
              "    </tr>\n",
              "    <tr>\n",
              "      <th>3</th>\n",
              "      <td>0.999977</td>\n",
              "      <td>0.999954</td>\n",
              "      <td>-0.106581</td>\n",
              "      <td>0.148248</td>\n",
              "      <td>0.051510</td>\n",
              "      <td>1.000000</td>\n",
              "      <td>-0.393568</td>\n",
              "      <td>0.027748</td>\n",
              "      <td>0.493191</td>\n",
              "      <td>-0.186794</td>\n",
              "      <td>...</td>\n",
              "      <td>0.422815</td>\n",
              "      <td>-0.107897</td>\n",
              "      <td>0.024104</td>\n",
              "      <td>-0.959465</td>\n",
              "      <td>0.178676</td>\n",
              "      <td>-0.278661</td>\n",
              "      <td>-0.027148</td>\n",
              "      <td>0.999999</td>\n",
              "      <td>2a1b1913f2104171bc198101ccfad023</td>\n",
              "      <td>NaN</td>\n",
              "    </tr>\n",
              "    <tr>\n",
              "      <th>4</th>\n",
              "      <td>1.000000</td>\n",
              "      <td>0.999986</td>\n",
              "      <td>0.106824</td>\n",
              "      <td>0.100652</td>\n",
              "      <td>0.021540</td>\n",
              "      <td>1.000000</td>\n",
              "      <td>-0.316949</td>\n",
              "      <td>-0.093824</td>\n",
              "      <td>0.805055</td>\n",
              "      <td>-0.062347</td>\n",
              "      <td>...</td>\n",
              "      <td>0.010349</td>\n",
              "      <td>-0.073432</td>\n",
              "      <td>-0.002625</td>\n",
              "      <td>-0.997213</td>\n",
              "      <td>-0.170893</td>\n",
              "      <td>-0.156715</td>\n",
              "      <td>-0.032868</td>\n",
              "      <td>1.000000</td>\n",
              "      <td>6a250b31483e483e97e05ed8ca971c18</td>\n",
              "      <td>1.0</td>\n",
              "    </tr>\n",
              "  </tbody>\n",
              "</table>\n",
              "<p>5 rows × 802 columns</p>\n",
              "</div>\n",
              "      <button class=\"colab-df-convert\" onclick=\"convertToInteractive('df-b0527bb9-2214-4eaa-b29b-47dc399f153d')\"\n",
              "              title=\"Convert this dataframe to an interactive table.\"\n",
              "              style=\"display:none;\">\n",
              "        \n",
              "  <svg xmlns=\"http://www.w3.org/2000/svg\" height=\"24px\"viewBox=\"0 0 24 24\"\n",
              "       width=\"24px\">\n",
              "    <path d=\"M0 0h24v24H0V0z\" fill=\"none\"/>\n",
              "    <path d=\"M18.56 5.44l.94 2.06.94-2.06 2.06-.94-2.06-.94-.94-2.06-.94 2.06-2.06.94zm-11 1L8.5 8.5l.94-2.06 2.06-.94-2.06-.94L8.5 2.5l-.94 2.06-2.06.94zm10 10l.94 2.06.94-2.06 2.06-.94-2.06-.94-.94-2.06-.94 2.06-2.06.94z\"/><path d=\"M17.41 7.96l-1.37-1.37c-.4-.4-.92-.59-1.43-.59-.52 0-1.04.2-1.43.59L10.3 9.45l-7.72 7.72c-.78.78-.78 2.05 0 2.83L4 21.41c.39.39.9.59 1.41.59.51 0 1.02-.2 1.41-.59l7.78-7.78 2.81-2.81c.8-.78.8-2.07 0-2.86zM5.41 20L4 18.59l7.72-7.72 1.47 1.35L5.41 20z\"/>\n",
              "  </svg>\n",
              "      </button>\n",
              "      \n",
              "  <style>\n",
              "    .colab-df-container {\n",
              "      display:flex;\n",
              "      flex-wrap:wrap;\n",
              "      gap: 12px;\n",
              "    }\n",
              "\n",
              "    .colab-df-convert {\n",
              "      background-color: #E8F0FE;\n",
              "      border: none;\n",
              "      border-radius: 50%;\n",
              "      cursor: pointer;\n",
              "      display: none;\n",
              "      fill: #1967D2;\n",
              "      height: 32px;\n",
              "      padding: 0 0 0 0;\n",
              "      width: 32px;\n",
              "    }\n",
              "\n",
              "    .colab-df-convert:hover {\n",
              "      background-color: #E2EBFA;\n",
              "      box-shadow: 0px 1px 2px rgba(60, 64, 67, 0.3), 0px 1px 3px 1px rgba(60, 64, 67, 0.15);\n",
              "      fill: #174EA6;\n",
              "    }\n",
              "\n",
              "    [theme=dark] .colab-df-convert {\n",
              "      background-color: #3B4455;\n",
              "      fill: #D2E3FC;\n",
              "    }\n",
              "\n",
              "    [theme=dark] .colab-df-convert:hover {\n",
              "      background-color: #434B5C;\n",
              "      box-shadow: 0px 1px 3px 1px rgba(0, 0, 0, 0.15);\n",
              "      filter: drop-shadow(0px 1px 2px rgba(0, 0, 0, 0.3));\n",
              "      fill: #FFFFFF;\n",
              "    }\n",
              "  </style>\n",
              "\n",
              "      <script>\n",
              "        const buttonEl =\n",
              "          document.querySelector('#df-b0527bb9-2214-4eaa-b29b-47dc399f153d button.colab-df-convert');\n",
              "        buttonEl.style.display =\n",
              "          google.colab.kernel.accessAllowed ? 'block' : 'none';\n",
              "\n",
              "        async function convertToInteractive(key) {\n",
              "          const element = document.querySelector('#df-b0527bb9-2214-4eaa-b29b-47dc399f153d');\n",
              "          const dataTable =\n",
              "            await google.colab.kernel.invokeFunction('convertToInteractive',\n",
              "                                                     [key], {});\n",
              "          if (!dataTable) return;\n",
              "\n",
              "          const docLinkHtml = 'Like what you see? Visit the ' +\n",
              "            '<a target=\"_blank\" href=https://colab.research.google.com/notebooks/data_table.ipynb>data table notebook</a>'\n",
              "            + ' to learn more about interactive tables.';\n",
              "          element.innerHTML = '';\n",
              "          dataTable['output_type'] = 'display_data';\n",
              "          await google.colab.output.renderOutput(dataTable, element);\n",
              "          const docLink = document.createElement('div');\n",
              "          docLink.innerHTML = docLinkHtml;\n",
              "          element.appendChild(docLink);\n",
              "        }\n",
              "      </script>\n",
              "    </div>\n",
              "  </div>\n",
              "  "
            ]
          },
          "metadata": {},
          "execution_count": 22
        }
      ]
    },
    {
      "cell_type": "code",
      "source": [
        "#Dropping nan-s,that appears due to lack of target variables for some of the users\n",
        "train_df.dropna(inplace=True)\n",
        "test_df.dropna(inplace=True)"
      ],
      "metadata": {
        "id": "YajaQs3ePUcF"
      },
      "execution_count": 23,
      "outputs": []
    },
    {
      "cell_type": "code",
      "source": [
        "train_df.shape,test_df.shape"
      ],
      "metadata": {
        "colab": {
          "base_uri": "https://localhost:8080/"
        },
        "id": "cO54tS_2PVYT",
        "outputId": "35c2f8fa-1fb8-4327-f6f3-8182ba7938c7"
      },
      "execution_count": 24,
      "outputs": [
        {
          "output_type": "execute_result",
          "data": {
            "text/plain": [
              "((5051, 802), (1303, 802))"
            ]
          },
          "metadata": {},
          "execution_count": 24
        }
      ]
    },
    {
      "cell_type": "code",
      "source": [
        "embed_columns = [x for x in train_df.columns if x.startswith('embed')]\n",
        "x_train, y_train = train_df[embed_columns], train_df['target']\n",
        "x_test, y_test = test_df[embed_columns], test_df['target']\n"
      ],
      "metadata": {
        "id": "hU07RwYJPazd"
      },
      "execution_count": 25,
      "outputs": []
    },
    {
      "cell_type": "code",
      "source": [
        "!pip install catboost"
      ],
      "metadata": {
        "colab": {
          "base_uri": "https://localhost:8080/"
        },
        "id": "w6CVsou0XdT-",
        "outputId": "9327c024-7e0d-4d84-b82f-d52e36e7a94b"
      },
      "execution_count": 26,
      "outputs": [
        {
          "output_type": "stream",
          "name": "stdout",
          "text": [
            "Looking in indexes: https://pypi.org/simple, https://us-python.pkg.dev/colab-wheels/public/simple/\n",
            "Collecting catboost\n",
            "  Downloading catboost-1.1.1-cp39-none-manylinux1_x86_64.whl (76.6 MB)\n",
            "\u001b[2K     \u001b[90m━━━━━━━━━━━━━━━━━━━━━━━━━━━━━━━━━━━━━━━━\u001b[0m \u001b[32m76.6/76.6 MB\u001b[0m \u001b[31m15.2 MB/s\u001b[0m eta \u001b[36m0:00:00\u001b[0m\n",
            "\u001b[?25hRequirement already satisfied: matplotlib in /usr/local/lib/python3.9/dist-packages (from catboost) (3.7.1)\n",
            "Requirement already satisfied: six in /usr/local/lib/python3.9/dist-packages (from catboost) (1.16.0)\n",
            "Requirement already satisfied: plotly in /usr/local/lib/python3.9/dist-packages (from catboost) (5.13.1)\n",
            "Requirement already satisfied: pandas>=0.24.0 in /usr/local/lib/python3.9/dist-packages (from catboost) (1.4.4)\n",
            "Requirement already satisfied: graphviz in /usr/local/lib/python3.9/dist-packages (from catboost) (0.20.1)\n",
            "Requirement already satisfied: scipy in /usr/local/lib/python3.9/dist-packages (from catboost) (1.10.1)\n",
            "Requirement already satisfied: numpy>=1.16.0 in /usr/local/lib/python3.9/dist-packages (from catboost) (1.22.4)\n",
            "Requirement already satisfied: python-dateutil>=2.8.1 in /usr/local/lib/python3.9/dist-packages (from pandas>=0.24.0->catboost) (2.8.2)\n",
            "Requirement already satisfied: pytz>=2020.1 in /usr/local/lib/python3.9/dist-packages (from pandas>=0.24.0->catboost) (2022.7.1)\n",
            "Requirement already satisfied: contourpy>=1.0.1 in /usr/local/lib/python3.9/dist-packages (from matplotlib->catboost) (1.0.7)\n",
            "Requirement already satisfied: pillow>=6.2.0 in /usr/local/lib/python3.9/dist-packages (from matplotlib->catboost) (8.4.0)\n",
            "Requirement already satisfied: packaging>=20.0 in /usr/local/lib/python3.9/dist-packages (from matplotlib->catboost) (23.0)\n",
            "Requirement already satisfied: cycler>=0.10 in /usr/local/lib/python3.9/dist-packages (from matplotlib->catboost) (0.11.0)\n",
            "Requirement already satisfied: importlib-resources>=3.2.0 in /usr/local/lib/python3.9/dist-packages (from matplotlib->catboost) (5.12.0)\n",
            "Requirement already satisfied: kiwisolver>=1.0.1 in /usr/local/lib/python3.9/dist-packages (from matplotlib->catboost) (1.4.4)\n",
            "Requirement already satisfied: pyparsing>=2.3.1 in /usr/local/lib/python3.9/dist-packages (from matplotlib->catboost) (3.0.9)\n",
            "Requirement already satisfied: fonttools>=4.22.0 in /usr/local/lib/python3.9/dist-packages (from matplotlib->catboost) (4.39.2)\n",
            "Requirement already satisfied: tenacity>=6.2.0 in /usr/local/lib/python3.9/dist-packages (from plotly->catboost) (8.2.2)\n",
            "Requirement already satisfied: zipp>=3.1.0 in /usr/local/lib/python3.9/dist-packages (from importlib-resources>=3.2.0->matplotlib->catboost) (3.15.0)\n",
            "Installing collected packages: catboost\n",
            "Successfully installed catboost-1.1.1\n"
          ]
        }
      ]
    },
    {
      "cell_type": "markdown",
      "source": [
        "#Performing a downstream task, using catboost"
      ],
      "metadata": {
        "id": "sUPy3je6pzMT"
      }
    },
    {
      "cell_type": "code",
      "source": [
        "from catboost import CatBoostClassifier, metrics\n",
        "CatBoostModel = CatBoostClassifier(\n",
        "iterations= 500,\n",
        "learning_rate = 0.05,\n",
        "use_best_model = True,\n",
        "eval_metric ='AUC', \n",
        "loss_function='Logloss',\n",
        "random_seed = 42,\n",
        "logging_level = 'Silent',\n",
        "depth = 5)"
      ],
      "metadata": {
        "id": "34Y037pWNSwb"
      },
      "execution_count": 27,
      "outputs": []
    },
    {
      "cell_type": "code",
      "source": [
        "CatBoostModel.fit(\n",
        "    x_train, y_train,\n",
        "    eval_set=(x_test, y_test),\n",
        "    plot=True\n",
        "#     logging_level='Verbose',  # you can uncomment this for text output\n",
        ")"
      ],
      "metadata": {
        "colab": {
          "base_uri": "https://localhost:8080/",
          "height": 34,
          "referenced_widgets": [
            "32af7e65de994d8e98b1449a4883ba46"
          ]
        },
        "id": "A__3h7B5NTpG",
        "outputId": "6e664deb-0b96-4857-86cc-01099fb3efea"
      },
      "execution_count": 28,
      "outputs": [
        {
          "output_type": "display_data",
          "data": {
            "text/plain": [
              "MetricVisualizer(layout=Layout(align_self='stretch', height='500px'))"
            ],
            "application/vnd.jupyter.widget-view+json": {
              "version_major": 2,
              "version_minor": 0,
              "model_id": "32af7e65de994d8e98b1449a4883ba46"
            }
          },
          "metadata": {}
        },
        {
          "output_type": "execute_result",
          "data": {
            "text/plain": [
              "<catboost.core.CatBoostClassifier at 0x7f3de1da4f70>"
            ]
          },
          "metadata": {},
          "execution_count": 28
        }
      ]
    },
    {
      "cell_type": "code",
      "source": [
        "CatBoostModel.get_best_score()"
      ],
      "metadata": {
        "colab": {
          "base_uri": "https://localhost:8080/"
        },
        "id": "-JFovz8_NXEQ",
        "outputId": "43fbd708-3841-4b7c-8d37-89fc6adf873e"
      },
      "execution_count": 29,
      "outputs": [
        {
          "output_type": "execute_result",
          "data": {
            "text/plain": [
              "{'learn': {'Logloss': 0.27183286673100815},\n",
              " 'validation': {'Logloss': 0.5787850853069487, 'AUC': 0.6293671967938279}}"
            ]
          },
          "metadata": {},
          "execution_count": 29
        }
      ]
    },
    {
      "cell_type": "code",
      "source": [
        "y_pred = CatBoostModel.predict(x_test)\n",
        "y_proba = CatBoostModel.predict_proba(x_test)"
      ],
      "metadata": {
        "id": "DqLYdtxONZYl"
      },
      "execution_count": 30,
      "outputs": []
    },
    {
      "cell_type": "code",
      "source": [
        "from sklearn.metrics import roc_auc_score, precision_score, accuracy_score, recall_score, f1_score, roc_auc_score\n",
        "\n",
        "print(f'''accuracy: {CatBoostModel.score(x_test, y_test)} \n",
        "      f1: {f1_score(y_pred, y_test)}, \n",
        "      precision: {precision_score(y_pred, y_test)}\n",
        "     roc auc : {roc_auc_score(y_test, y_proba[:,1])}''')"
      ],
      "metadata": {
        "colab": {
          "base_uri": "https://localhost:8080/"
        },
        "id": "GfWr9YGQNcMS",
        "outputId": "eb6f7065-21c6-4218-ce27-c8fc40ac0478"
      },
      "execution_count": 31,
      "outputs": [
        {
          "output_type": "stream",
          "name": "stdout",
          "text": [
            "accuracy: 0.7152724481964697 \n",
            "      f1: 0.8337068579112505, \n",
            "      precision: 0.9989258861439313\n",
            "     roc auc : 0.6293671967938279\n"
          ]
        }
      ]
    },
    {
      "cell_type": "markdown",
      "source": [
        "#Experiment with different size of embeddings"
      ],
      "metadata": {
        "id": "9NEhg5Obp4q_"
      }
    },
    {
      "cell_type": "code",
      "source": [
        "import numpy as np\n",
        "from sklearn.model_selection import cross_val_score\n",
        "from sklearn.ensemble import RandomForestClassifier\n",
        "\n",
        "embed_sizes = [32,64,96,128,256,512]\n",
        "auc_mean_list = np.zeros(len(embed_sizes))\n",
        "auc_std_list = np.zeros(len(embed_sizes))"
      ],
      "metadata": {
        "id": "d6E85IbxqcoG"
      },
      "execution_count": 32,
      "outputs": []
    },
    {
      "cell_type": "code",
      "source": [
        "for i,embed_size in enumerate(embed_sizes):\n",
        "\n",
        "  trx_encoder_params = dict(\n",
        "      embeddings_noise=0.003,\n",
        "      numeric_values={},\n",
        "      embeddings={\n",
        "          'event_time': {'in': 800, 'out': 16},\n",
        "          'cat_id': {'in': 410, 'out': 16},\n",
        "      },\n",
        "  )\n",
        "\n",
        "  seq_encoder = RnnSeqEncoder(\n",
        "      trx_encoder=TrxEncoder(**trx_encoder_params),\n",
        "      hidden_size=embed_size,\n",
        "      type='gru',\n",
        "  )\n",
        "\n",
        "  model = CoLESModule(\n",
        "      seq_encoder=seq_encoder,\n",
        "      optimizer_partial=partial(torch.optim.Adam, lr=0.001),\n",
        "      lr_scheduler_partial=partial(torch.optim.lr_scheduler.StepLR, step_size=30, gamma=0.9),\n",
        "  )\n",
        "\n",
        "  train_dl = PtlsDataModule(\n",
        "      train_data=ColesDataset(\n",
        "          map_processed_train,\n",
        "          splitter=SampleSlices(\n",
        "              split_count=5,\n",
        "              cnt_min=25,\n",
        "              cnt_max=200,\n",
        "          ),\n",
        "      ),\n",
        "      train_num_workers=2,\n",
        "      train_batch_size=64,\n",
        "  )\n",
        "\n",
        "\n",
        "  trainer = pl.Trainer(\n",
        "      max_epochs=15,\n",
        "      gpus=1 if torch.cuda.is_available() else 0,\n",
        "      enable_progress_bar=False,\n",
        "  )\n",
        "\n",
        "  print(f'logger.version = {trainer.logger.version}')\n",
        "  trainer.fit(model, train_dl)\n",
        "  print(trainer.logged_metrics)\n",
        "\n",
        "\n",
        "  train_dl = inference_data_loader(list(iter(iterable_train)), num_workers=0, batch_size=64)\n",
        "\n",
        "  train_embeds = torch.vstack(trainer.predict(model, train_dl, ))\n",
        "\n",
        "\n",
        "  train_embeds = torch.vstack(trainer.predict(model, train_dl, ))\n",
        "\n",
        "  test_dl = inference_data_loader(list(iter(iterable_test)), num_workers=0, batch_size=64)\n",
        "  test_embeds = torch.vstack(trainer.predict(model, test_dl))\n",
        "\n",
        "\n",
        "  df_target = pd.read_csv('target_dataset_matched.csv')\n",
        "  df_target.rename(columns={'rtk':'user_id'},inplace=True)\n",
        "  df_target = df_target.set_index('user_id')\n",
        "  df_target.rename(columns={\"higher_education\": \"target\"}, inplace=True)\n",
        "\n",
        "  train_df = pd.DataFrame(data=train_embeds, columns=[f'embed_{i}' for i in range(train_embeds.shape[1])])\n",
        "  train_df['user_id'] = [x['user_id'] for x in iter(iterable_train)]\n",
        "  train_df = train_df.merge(df_target, how='left', on='user_id')\n",
        "\n",
        "  test_df = pd.DataFrame(data=test_embeds, columns=[f'embed_{i}' for i in range(test_embeds.shape[1])])\n",
        "  test_df['user_id'] = [x['user_id'] for x in iter(iterable_test)]\n",
        "  test_df = test_df.merge(df_target, how='left', on='user_id')\n",
        "\n",
        "  train_df.dropna(inplace=True)\n",
        "  test_df.dropna(inplace=True)\n",
        "\n",
        "  embed_columns = [x for x in train_df.columns if x.startswith('embed')]\n",
        "  x_train, y_train = train_df[embed_columns], train_df['target']\n",
        "  x_test, y_test = test_df[embed_columns], test_df['target']\n",
        "\n",
        "  clf = RandomForestClassifier(random_state=42,n_jobs=-1)\n",
        "  score = cross_val_score(clf,x_train,y_train,scoring='roc_auc',n_jobs=-1)\n",
        "\n",
        "\n",
        "  auc_mean_list[i] = np.mean(score)\n",
        "  auc_std_list[i] = np.std(score)"
      ],
      "metadata": {
        "colab": {
          "base_uri": "https://localhost:8080/"
        },
        "id": "XuVWQryYp8Dc",
        "outputId": "78a77e62-9739-4968-c0ea-5e76b9ed64ab"
      },
      "execution_count": 33,
      "outputs": [
        {
          "output_type": "stream",
          "name": "stderr",
          "text": [
            "INFO:pytorch_lightning.utilities.rank_zero:GPU available: True, used: True\n",
            "INFO:pytorch_lightning.utilities.rank_zero:TPU available: False, using: 0 TPU cores\n",
            "INFO:pytorch_lightning.utilities.rank_zero:IPU available: False, using: 0 IPUs\n",
            "INFO:pytorch_lightning.utilities.rank_zero:HPU available: False, using: 0 HPUs\n",
            "/usr/local/lib/python3.9/dist-packages/pytorch_lightning/trainer/configuration_validator.py:133: UserWarning: You defined a `validation_step` but have no `val_dataloader`. Skipping val loop.\n",
            "  rank_zero_warn(\"You defined a `validation_step` but have no `val_dataloader`. Skipping val loop.\")\n",
            "INFO:pytorch_lightning.accelerators.gpu:LOCAL_RANK: 0 - CUDA_VISIBLE_DEVICES: [0]\n",
            "INFO:pytorch_lightning.callbacks.model_summary:\n",
            "  | Name               | Type            | Params\n",
            "-------------------------------------------------------\n",
            "0 | _loss              | ContrastiveLoss | 0     \n",
            "1 | _seq_encoder       | RnnSeqEncoder   | 25.7 K\n",
            "2 | _validation_metric | BatchRecallTopK | 0     \n",
            "3 | _head              | Head            | 0     \n",
            "-------------------------------------------------------\n",
            "25.7 K    Trainable params\n",
            "0         Non-trainable params\n",
            "25.7 K    Total params\n",
            "0.103     Total estimated model params size (MB)\n"
          ]
        },
        {
          "output_type": "stream",
          "name": "stdout",
          "text": [
            "logger.version = 1\n",
            "{'loss': tensor(73.4025), 'seq_len': tensor(112.7486)}\n"
          ]
        },
        {
          "output_type": "stream",
          "name": "stderr",
          "text": [
            "INFO:pytorch_lightning.accelerators.gpu:LOCAL_RANK: 0 - CUDA_VISIBLE_DEVICES: [0]\n",
            "INFO:pytorch_lightning.accelerators.gpu:LOCAL_RANK: 0 - CUDA_VISIBLE_DEVICES: [0]\n",
            "INFO:pytorch_lightning.accelerators.gpu:LOCAL_RANK: 0 - CUDA_VISIBLE_DEVICES: [0]\n",
            "INFO:pytorch_lightning.utilities.rank_zero:GPU available: True, used: True\n",
            "INFO:pytorch_lightning.utilities.rank_zero:TPU available: False, using: 0 TPU cores\n",
            "INFO:pytorch_lightning.utilities.rank_zero:IPU available: False, using: 0 IPUs\n",
            "INFO:pytorch_lightning.utilities.rank_zero:HPU available: False, using: 0 HPUs\n",
            "/usr/local/lib/python3.9/dist-packages/pytorch_lightning/trainer/configuration_validator.py:133: UserWarning: You defined a `validation_step` but have no `val_dataloader`. Skipping val loop.\n",
            "  rank_zero_warn(\"You defined a `validation_step` but have no `val_dataloader`. Skipping val loop.\")\n",
            "INFO:pytorch_lightning.accelerators.gpu:LOCAL_RANK: 0 - CUDA_VISIBLE_DEVICES: [0]\n",
            "INFO:pytorch_lightning.callbacks.model_summary:\n",
            "  | Name               | Type            | Params\n",
            "-------------------------------------------------------\n",
            "0 | _loss              | ContrastiveLoss | 0     \n",
            "1 | _seq_encoder       | RnnSeqEncoder   | 38.2 K\n",
            "2 | _validation_metric | BatchRecallTopK | 0     \n",
            "3 | _head              | Head            | 0     \n",
            "-------------------------------------------------------\n",
            "38.2 K    Trainable params\n",
            "0         Non-trainable params\n",
            "38.2 K    Total params\n",
            "0.153     Total estimated model params size (MB)\n"
          ]
        },
        {
          "output_type": "stream",
          "name": "stdout",
          "text": [
            "logger.version = 2\n",
            "{'loss': tensor(59.3714), 'seq_len': tensor(112.0171)}\n"
          ]
        },
        {
          "output_type": "stream",
          "name": "stderr",
          "text": [
            "INFO:pytorch_lightning.accelerators.gpu:LOCAL_RANK: 0 - CUDA_VISIBLE_DEVICES: [0]\n",
            "INFO:pytorch_lightning.accelerators.gpu:LOCAL_RANK: 0 - CUDA_VISIBLE_DEVICES: [0]\n",
            "INFO:pytorch_lightning.accelerators.gpu:LOCAL_RANK: 0 - CUDA_VISIBLE_DEVICES: [0]\n",
            "INFO:pytorch_lightning.utilities.rank_zero:GPU available: True, used: True\n",
            "INFO:pytorch_lightning.utilities.rank_zero:TPU available: False, using: 0 TPU cores\n",
            "INFO:pytorch_lightning.utilities.rank_zero:IPU available: False, using: 0 IPUs\n",
            "INFO:pytorch_lightning.utilities.rank_zero:HPU available: False, using: 0 HPUs\n",
            "/usr/local/lib/python3.9/dist-packages/pytorch_lightning/trainer/configuration_validator.py:133: UserWarning: You defined a `validation_step` but have no `val_dataloader`. Skipping val loop.\n",
            "  rank_zero_warn(\"You defined a `validation_step` but have no `val_dataloader`. Skipping val loop.\")\n",
            "INFO:pytorch_lightning.accelerators.gpu:LOCAL_RANK: 0 - CUDA_VISIBLE_DEVICES: [0]\n",
            "INFO:pytorch_lightning.callbacks.model_summary:\n",
            "  | Name               | Type            | Params\n",
            "-------------------------------------------------------\n",
            "0 | _loss              | ContrastiveLoss | 0     \n",
            "1 | _seq_encoder       | RnnSeqEncoder   | 56.9 K\n",
            "2 | _validation_metric | BatchRecallTopK | 0     \n",
            "3 | _head              | Head            | 0     \n",
            "-------------------------------------------------------\n",
            "56.9 K    Trainable params\n",
            "0         Non-trainable params\n",
            "56.9 K    Total params\n",
            "0.228     Total estimated model params size (MB)\n"
          ]
        },
        {
          "output_type": "stream",
          "name": "stdout",
          "text": [
            "logger.version = 3\n",
            "{'loss': tensor(60.6569), 'seq_len': tensor(109.2971)}\n"
          ]
        },
        {
          "output_type": "stream",
          "name": "stderr",
          "text": [
            "INFO:pytorch_lightning.accelerators.gpu:LOCAL_RANK: 0 - CUDA_VISIBLE_DEVICES: [0]\n",
            "INFO:pytorch_lightning.accelerators.gpu:LOCAL_RANK: 0 - CUDA_VISIBLE_DEVICES: [0]\n",
            "INFO:pytorch_lightning.accelerators.gpu:LOCAL_RANK: 0 - CUDA_VISIBLE_DEVICES: [0]\n",
            "INFO:pytorch_lightning.utilities.rank_zero:GPU available: True, used: True\n",
            "INFO:pytorch_lightning.utilities.rank_zero:TPU available: False, using: 0 TPU cores\n",
            "INFO:pytorch_lightning.utilities.rank_zero:IPU available: False, using: 0 IPUs\n",
            "INFO:pytorch_lightning.utilities.rank_zero:HPU available: False, using: 0 HPUs\n",
            "/usr/local/lib/python3.9/dist-packages/pytorch_lightning/trainer/configuration_validator.py:133: UserWarning: You defined a `validation_step` but have no `val_dataloader`. Skipping val loop.\n",
            "  rank_zero_warn(\"You defined a `validation_step` but have no `val_dataloader`. Skipping val loop.\")\n",
            "INFO:pytorch_lightning.accelerators.gpu:LOCAL_RANK: 0 - CUDA_VISIBLE_DEVICES: [0]\n",
            "INFO:pytorch_lightning.callbacks.model_summary:\n",
            "  | Name               | Type            | Params\n",
            "-------------------------------------------------------\n",
            "0 | _loss              | ContrastiveLoss | 0     \n",
            "1 | _seq_encoder       | RnnSeqEncoder   | 81.7 K\n",
            "2 | _validation_metric | BatchRecallTopK | 0     \n",
            "3 | _head              | Head            | 0     \n",
            "-------------------------------------------------------\n",
            "81.7 K    Trainable params\n",
            "0         Non-trainable params\n",
            "81.7 K    Total params\n",
            "0.327     Total estimated model params size (MB)\n"
          ]
        },
        {
          "output_type": "stream",
          "name": "stdout",
          "text": [
            "logger.version = 4\n",
            "{'loss': tensor(63.0508), 'seq_len': tensor(110.9086)}\n"
          ]
        },
        {
          "output_type": "stream",
          "name": "stderr",
          "text": [
            "INFO:pytorch_lightning.accelerators.gpu:LOCAL_RANK: 0 - CUDA_VISIBLE_DEVICES: [0]\n",
            "INFO:pytorch_lightning.accelerators.gpu:LOCAL_RANK: 0 - CUDA_VISIBLE_DEVICES: [0]\n",
            "INFO:pytorch_lightning.accelerators.gpu:LOCAL_RANK: 0 - CUDA_VISIBLE_DEVICES: [0]\n",
            "INFO:pytorch_lightning.utilities.rank_zero:GPU available: True, used: True\n",
            "INFO:pytorch_lightning.utilities.rank_zero:TPU available: False, using: 0 TPU cores\n",
            "INFO:pytorch_lightning.utilities.rank_zero:IPU available: False, using: 0 IPUs\n",
            "INFO:pytorch_lightning.utilities.rank_zero:HPU available: False, using: 0 HPUs\n",
            "/usr/local/lib/python3.9/dist-packages/pytorch_lightning/trainer/configuration_validator.py:133: UserWarning: You defined a `validation_step` but have no `val_dataloader`. Skipping val loop.\n",
            "  rank_zero_warn(\"You defined a `validation_step` but have no `val_dataloader`. Skipping val loop.\")\n",
            "INFO:pytorch_lightning.accelerators.gpu:LOCAL_RANK: 0 - CUDA_VISIBLE_DEVICES: [0]\n",
            "INFO:pytorch_lightning.callbacks.model_summary:\n",
            "  | Name               | Type            | Params\n",
            "-------------------------------------------------------\n",
            "0 | _loss              | ContrastiveLoss | 0     \n",
            "1 | _seq_encoder       | RnnSeqEncoder   | 242 K \n",
            "2 | _validation_metric | BatchRecallTopK | 0     \n",
            "3 | _head              | Head            | 0     \n",
            "-------------------------------------------------------\n",
            "242 K     Trainable params\n",
            "0         Non-trainable params\n",
            "242 K     Total params\n",
            "0.969     Total estimated model params size (MB)\n"
          ]
        },
        {
          "output_type": "stream",
          "name": "stdout",
          "text": [
            "logger.version = 5\n",
            "{'loss': tensor(59.5405), 'seq_len': tensor(116.3886)}\n"
          ]
        },
        {
          "output_type": "stream",
          "name": "stderr",
          "text": [
            "INFO:pytorch_lightning.accelerators.gpu:LOCAL_RANK: 0 - CUDA_VISIBLE_DEVICES: [0]\n",
            "INFO:pytorch_lightning.accelerators.gpu:LOCAL_RANK: 0 - CUDA_VISIBLE_DEVICES: [0]\n",
            "INFO:pytorch_lightning.accelerators.gpu:LOCAL_RANK: 0 - CUDA_VISIBLE_DEVICES: [0]\n",
            "INFO:pytorch_lightning.utilities.rank_zero:GPU available: True, used: True\n",
            "INFO:pytorch_lightning.utilities.rank_zero:TPU available: False, using: 0 TPU cores\n",
            "INFO:pytorch_lightning.utilities.rank_zero:IPU available: False, using: 0 IPUs\n",
            "INFO:pytorch_lightning.utilities.rank_zero:HPU available: False, using: 0 HPUs\n",
            "/usr/local/lib/python3.9/dist-packages/pytorch_lightning/trainer/configuration_validator.py:133: UserWarning: You defined a `validation_step` but have no `val_dataloader`. Skipping val loop.\n",
            "  rank_zero_warn(\"You defined a `validation_step` but have no `val_dataloader`. Skipping val loop.\")\n",
            "INFO:pytorch_lightning.accelerators.gpu:LOCAL_RANK: 0 - CUDA_VISIBLE_DEVICES: [0]\n",
            "INFO:pytorch_lightning.callbacks.model_summary:\n",
            "  | Name               | Type            | Params\n",
            "-------------------------------------------------------\n",
            "0 | _loss              | ContrastiveLoss | 0     \n",
            "1 | _seq_encoder       | RnnSeqEncoder   | 858 K \n",
            "2 | _validation_metric | BatchRecallTopK | 0     \n",
            "3 | _head              | Head            | 0     \n",
            "-------------------------------------------------------\n",
            "858 K     Trainable params\n",
            "0         Non-trainable params\n",
            "858 K     Total params\n",
            "3.434     Total estimated model params size (MB)\n"
          ]
        },
        {
          "output_type": "stream",
          "name": "stdout",
          "text": [
            "logger.version = 6\n",
            "{'loss': tensor(62.6393), 'seq_len': tensor(113.1771)}\n"
          ]
        },
        {
          "output_type": "stream",
          "name": "stderr",
          "text": [
            "INFO:pytorch_lightning.accelerators.gpu:LOCAL_RANK: 0 - CUDA_VISIBLE_DEVICES: [0]\n",
            "INFO:pytorch_lightning.accelerators.gpu:LOCAL_RANK: 0 - CUDA_VISIBLE_DEVICES: [0]\n",
            "INFO:pytorch_lightning.accelerators.gpu:LOCAL_RANK: 0 - CUDA_VISIBLE_DEVICES: [0]\n"
          ]
        }
      ]
    },
    {
      "cell_type": "code",
      "source": [
        "import matplotlib.pyplot as plt\n",
        "import matplotlib\n",
        "\n",
        "fig = plt.figure(figsize=(6,6))\n",
        "\n",
        "plt.title('Clickstreams',fontfamily='serif')\n",
        "plt.xlabel('Embedding size',fontfamily='serif')\n",
        "plt.plot(embed_sizes,auc_mean_list)\n",
        "plt.fill_between(embed_sizes,auc_mean_list-auc_std_list,\n",
        "                 auc_mean_list+auc_std_list,alpha=0.2)\n",
        "plt.ylabel('ROC-AUC',fontfamily='serif')\n",
        "plt.xscale('log')\n",
        "plt.xticks(embed_sizes,fontfamily='serif')\n",
        "plt.yticks(fontfamily='serif')\n",
        "fig.axes[0].get_xaxis().set_major_formatter(matplotlib.ticker.ScalarFormatter())\n",
        "\n",
        "\n",
        "plt.show()"
      ],
      "metadata": {
        "colab": {
          "base_uri": "https://localhost:8080/",
          "height": 402
        },
        "id": "6mpRTWiuqwSS",
        "outputId": "3b7d81f6-6de0-4c37-c0ee-5c2b5890f584"
      },
      "execution_count": 34,
      "outputs": [
        {
          "output_type": "display_data",
          "data": {
            "text/plain": [
              "<Figure size 432x432 with 1 Axes>"
            ],
            "image/png": "[encoded data removed]"
          },
          "metadata": {
            "needs_background": "light"
          }
        }
      ]
    },
    {
      "cell_type": "code",
      "source": [
        "\n",
        "auc_mean_list,auc_std_list"
      ],
      "metadata": {
        "colab": {
          "base_uri": "https://localhost:8080/"
        },
        "id": "KkEdc9vuaGjP",
        "outputId": "749b6908-6331-4ef6-dfce-04df40caa76a"
      },
      "execution_count": 35,
      "outputs": [
        {
          "output_type": "execute_result",
          "data": {
            "text/plain": [
              "(array([0.60113226, 0.60868177, 0.61277091, 0.61532157, 0.62596119,\n",
              "        0.61460546]),\n",
              " array([0.00718888, 0.01524186, 0.01236792, 0.00936228, 0.01036138,\n",
              "        0.01071682]))"
            ]
          },
          "metadata": {},
          "execution_count": 35
        }
      ]
    }
  ]
}