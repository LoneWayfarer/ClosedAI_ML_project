{
  "cells": [
    {
      "cell_type": "code",
      "execution_count": 1,
      "metadata": {
        "colab": {
          "base_uri": "https://localhost:8080/",
          "height": 1000
        },
        "id": "bks6SX9Of4or",
        "outputId": "75f412cf-56a3-4ea8-9daa-045fd60592be"
      },
      "outputs": [
        {
          "name": "stdout",
          "output_type": "stream",
          "text": [
            "Looking in indexes: https://pypi.org/simple, https://us-python.pkg.dev/colab-wheels/public/simple/\n",
            "Collecting pytorch-lifestream\n",
            "  Downloading pytorch-lifestream-0.5.2.tar.gz (150 kB)\n",
            "\u001b[2K     \u001b[90m━━━━━━━━━━━━━━━━━━━━━━━━━━━━━━━━━━━━━━\u001b[0m \u001b[32m150.3/150.3 KB\u001b[0m \u001b[31m11.9 MB/s\u001b[0m eta \u001b[36m0:00:00\u001b[0m\n",
            "\u001b[?25h  Installing build dependencies ... \u001b[?25l\u001b[?25hdone\n",
            "  Getting requirements to build wheel ... \u001b[?25l\u001b[?25hdone\n",
            "  Installing backend dependencies ... \u001b[?25l\u001b[?25hdone\n",
            "  Preparing metadata (pyproject.toml) ... \u001b[?25l\u001b[?25hdone\n",
            "Collecting pytorch-lightning==1.6.*\n",
            "  Downloading pytorch_lightning-1.6.5-py3-none-any.whl (585 kB)\n",
            "\u001b[2K     \u001b[90m━━━━━━━━━━━━━━━━━━━━━━━━━━━━━━━━━━━━━━\u001b[0m \u001b[32m585.9/585.9 KB\u001b[0m \u001b[31m43.5 MB/s\u001b[0m eta \u001b[36m0:00:00\u001b[0m\n",
            "\u001b[?25hRequirement already satisfied: pyarrow>=7.0 in /usr/local/lib/python3.9/dist-packages (from pytorch-lifestream) (9.0.0)\n",
            "Collecting hydra-core>=1.1.2\n",
            "  Downloading hydra_core-1.3.2-py3-none-any.whl (154 kB)\n",
            "\u001b[2K     \u001b[90m━━━━━━━━━━━━━━━━━━━━━━━━━━━━━━━━━━━━━━\u001b[0m \u001b[32m154.5/154.5 KB\u001b[0m \u001b[31m19.3 MB/s\u001b[0m eta \u001b[36m0:00:00\u001b[0m\n",
            "\u001b[?25hCollecting transformers==4.*\n",
            "  Downloading transformers-4.27.3-py3-none-any.whl (6.8 MB)\n",
            "\u001b[2K     \u001b[90m━━━━━━━━━━━━━━━━━━━━━━━━━━━━━━━━━━━━━━━━\u001b[0m \u001b[32m6.8/6.8 MB\u001b[0m \u001b[31m81.0 MB/s\u001b[0m eta \u001b[36m0:00:00\u001b[0m\n",
            "\u001b[?25hRequirement already satisfied: fsspec[http]!=2021.06.0,>=2021.05.0 in /usr/local/lib/python3.9/dist-packages (from pytorch-lightning==1.6.*->pytorch-lifestream) (2023.3.0)\n",
            "Collecting torchmetrics>=0.4.1\n",
            "  Downloading torchmetrics-0.11.4-py3-none-any.whl (519 kB)\n",
            "\u001b[2K     \u001b[90m━━━━━━━━━━━━━━━━━━━━━━━━━━━━━━━━━━━━━━\u001b[0m \u001b[32m519.2/519.2 KB\u001b[0m \u001b[31m43.3 MB/s\u001b[0m eta \u001b[36m0:00:00\u001b[0m\n",
            "\u001b[?25hCollecting pyDeprecate>=0.3.1\n",
            "  Downloading pyDeprecate-0.3.2-py3-none-any.whl (10 kB)\n",
            "Requirement already satisfied: tqdm>=4.57.0 in /usr/local/lib/python3.9/dist-packages (from pytorch-lightning==1.6.*->pytorch-lifestream) (4.65.0)\n",
            "Requirement already satisfied: torch>=1.8.* in /usr/local/lib/python3.9/dist-packages (from pytorch-lightning==1.6.*->pytorch-lifestream) (1.13.1+cu116)\n",
            "Requirement already satisfied: numpy>=1.17.2 in /usr/local/lib/python3.9/dist-packages (from pytorch-lightning==1.6.*->pytorch-lifestream) (1.22.4)\n",
            "Requirement already satisfied: packaging>=17.0 in /usr/local/lib/python3.9/dist-packages (from pytorch-lightning==1.6.*->pytorch-lifestream) (23.0)\n",
            "Requirement already satisfied: typing-extensions>=4.0.0 in /usr/local/lib/python3.9/dist-packages (from pytorch-lightning==1.6.*->pytorch-lifestream) (4.5.0)\n",
            "Requirement already satisfied: tensorboard>=2.2.0 in /usr/local/lib/python3.9/dist-packages (from pytorch-lightning==1.6.*->pytorch-lifestream) (2.11.2)\n",
            "Requirement already satisfied: PyYAML>=5.4 in /usr/local/lib/python3.9/dist-packages (from pytorch-lightning==1.6.*->pytorch-lifestream) (6.0)\n",
            "Requirement already satisfied: protobuf<=3.20.1 in /usr/local/lib/python3.9/dist-packages (from pytorch-lightning==1.6.*->pytorch-lifestream) (3.19.6)\n",
            "Requirement already satisfied: filelock in /usr/local/lib/python3.9/dist-packages (from transformers==4.*->pytorch-lifestream) (3.10.1)\n",
            "Requirement already satisfied: regex!=2019.12.17 in /usr/local/lib/python3.9/dist-packages (from transformers==4.*->pytorch-lifestream) (2022.10.31)\n",
            "Collecting huggingface-hub<1.0,>=0.11.0\n",
            "  Downloading huggingface_hub-0.13.3-py3-none-any.whl (199 kB)\n",
            "\u001b[2K     \u001b[90m━━━━━━━━━━━━━━━━━━━━━━━━━━━━━━━━━━━━━━\u001b[0m \u001b[32m199.8/199.8 KB\u001b[0m \u001b[31m22.4 MB/s\u001b[0m eta \u001b[36m0:00:00\u001b[0m\n",
            "\u001b[?25hRequirement already satisfied: requests in /usr/local/lib/python3.9/dist-packages (from transformers==4.*->pytorch-lifestream) (2.27.1)\n",
            "Collecting tokenizers!=0.11.3,<0.14,>=0.11.1\n",
            "  Downloading tokenizers-0.13.2-cp39-cp39-manylinux_2_17_x86_64.manylinux2014_x86_64.whl (7.6 MB)\n",
            "\u001b[2K     \u001b[90m━━━━━━━━━━━━━━━━━━━━━━━━━━━━━━━━━━━━━━━━\u001b[0m \u001b[32m7.6/7.6 MB\u001b[0m \u001b[31m105.0 MB/s\u001b[0m eta \u001b[36m0:00:00\u001b[0m\n",
            "\u001b[?25hCollecting antlr4-python3-runtime==4.9.*\n",
            "  Downloading antlr4-python3-runtime-4.9.3.tar.gz (117 kB)\n",
            "\u001b[2K     \u001b[90m━━━━━━━━━━━━━━━━━━━━━━━━━━━━━━━━━━━━━━\u001b[0m \u001b[32m117.0/117.0 KB\u001b[0m \u001b[31m15.8 MB/s\u001b[0m eta \u001b[36m0:00:00\u001b[0m\n",
            "\u001b[?25h  Preparing metadata (setup.py) ... \u001b[?25l\u001b[?25hdone\n",
            "Collecting omegaconf<2.4,>=2.2\n",
            "  Downloading omegaconf-2.3.0-py3-none-any.whl (79 kB)\n",
            "\u001b[2K     \u001b[90m━━━━━━━━━━━━━━━━━━━━━━━━━━━━━━━━━━━━━━━━\u001b[0m \u001b[32m79.5/79.5 KB\u001b[0m \u001b[31m11.3 MB/s\u001b[0m eta \u001b[36m0:00:00\u001b[0m\n",
            "\u001b[?25hCollecting aiohttp!=4.0.0a0,!=4.0.0a1\n",
            "  Downloading aiohttp-3.8.4-cp39-cp39-manylinux_2_17_x86_64.manylinux2014_x86_64.whl (1.0 MB)\n",
            "\u001b[2K     \u001b[90m━━━━━━━━━━━━━━━━━━━━━━━━━━━━━━━━━━━━━━━━\u001b[0m \u001b[32m1.0/1.0 MB\u001b[0m \u001b[31m58.6 MB/s\u001b[0m eta \u001b[36m0:00:00\u001b[0m\n",
            "\u001b[?25hRequirement already satisfied: wheel>=0.26 in /usr/local/lib/python3.9/dist-packages (from tensorboard>=2.2.0->pytorch-lightning==1.6.*->pytorch-lifestream) (0.40.0)\n",
            "Requirement already satisfied: tensorboard-data-server<0.7.0,>=0.6.0 in /usr/local/lib/python3.9/dist-packages (from tensorboard>=2.2.0->pytorch-lightning==1.6.*->pytorch-lifestream) (0.6.1)\n",
            "Requirement already satisfied: absl-py>=0.4 in /usr/local/lib/python3.9/dist-packages (from tensorboard>=2.2.0->pytorch-lightning==1.6.*->pytorch-lifestream) (1.4.0)\n",
            "Requirement already satisfied: markdown>=2.6.8 in /usr/local/lib/python3.9/dist-packages (from tensorboard>=2.2.0->pytorch-lightning==1.6.*->pytorch-lifestream) (3.4.2)\n",
            "Requirement already satisfied: google-auth<3,>=1.6.3 in /usr/local/lib/python3.9/dist-packages (from tensorboard>=2.2.0->pytorch-lightning==1.6.*->pytorch-lifestream) (2.16.2)\n",
            "Requirement already satisfied: setuptools>=41.0.0 in /usr/local/lib/python3.9/dist-packages (from tensorboard>=2.2.0->pytorch-lightning==1.6.*->pytorch-lifestream) (67.6.0)\n",
            "Requirement already satisfied: grpcio>=1.24.3 in /usr/local/lib/python3.9/dist-packages (from tensorboard>=2.2.0->pytorch-lightning==1.6.*->pytorch-lifestream) (1.51.3)\n",
            "Requirement already satisfied: tensorboard-plugin-wit>=1.6.0 in /usr/local/lib/python3.9/dist-packages (from tensorboard>=2.2.0->pytorch-lightning==1.6.*->pytorch-lifestream) (1.8.1)\n",
            "Requirement already satisfied: werkzeug>=1.0.1 in /usr/local/lib/python3.9/dist-packages (from tensorboard>=2.2.0->pytorch-lightning==1.6.*->pytorch-lifestream) (2.2.3)\n",
            "Requirement already satisfied: google-auth-oauthlib<0.5,>=0.4.1 in /usr/local/lib/python3.9/dist-packages (from tensorboard>=2.2.0->pytorch-lightning==1.6.*->pytorch-lifestream) (0.4.6)\n",
            "Requirement already satisfied: idna<4,>=2.5 in /usr/local/lib/python3.9/dist-packages (from requests->transformers==4.*->pytorch-lifestream) (3.4)\n",
            "Requirement already satisfied: urllib3<1.27,>=1.21.1 in /usr/local/lib/python3.9/dist-packages (from requests->transformers==4.*->pytorch-lifestream) (1.26.15)\n",
            "Requirement already satisfied: charset-normalizer~=2.0.0 in /usr/local/lib/python3.9/dist-packages (from requests->transformers==4.*->pytorch-lifestream) (2.0.12)\n",
            "Requirement already satisfied: certifi>=2017.4.17 in /usr/local/lib/python3.9/dist-packages (from requests->transformers==4.*->pytorch-lifestream) (2022.12.7)\n",
            "Requirement already satisfied: attrs>=17.3.0 in /usr/local/lib/python3.9/dist-packages (from aiohttp!=4.0.0a0,!=4.0.0a1->fsspec[http]!=2021.06.0,>=2021.05.0->pytorch-lightning==1.6.*->pytorch-lifestream) (22.2.0)\n",
            "Collecting multidict<7.0,>=4.5\n",
            "  Downloading multidict-6.0.4-cp39-cp39-manylinux_2_17_x86_64.manylinux2014_x86_64.whl (114 kB)\n",
            "\u001b[2K     \u001b[90m━━━━━━━━━━━━━━━━━━━━━━━━━━━━━━━━━━━━━━\u001b[0m \u001b[32m114.2/114.2 KB\u001b[0m \u001b[31m17.1 MB/s\u001b[0m eta \u001b[36m0:00:00\u001b[0m\n",
            "\u001b[?25hCollecting frozenlist>=1.1.1\n",
            "  Downloading frozenlist-1.3.3-cp39-cp39-manylinux_2_5_x86_64.manylinux1_x86_64.manylinux_2_17_x86_64.manylinux2014_x86_64.whl (158 kB)\n",
            "\u001b[2K     \u001b[90m━━━━━━━━━━━━━━━━━━━━━━━━━━━━━━━━━━━━━━\u001b[0m \u001b[32m158.8/158.8 KB\u001b[0m \u001b[31m20.5 MB/s\u001b[0m eta \u001b[36m0:00:00\u001b[0m\n",
            "\u001b[?25hCollecting async-timeout<5.0,>=4.0.0a3\n",
            "  Downloading async_timeout-4.0.2-py3-none-any.whl (5.8 kB)\n",
            "Collecting aiosignal>=1.1.2\n",
            "  Downloading aiosignal-1.3.1-py3-none-any.whl (7.6 kB)\n",
            "Collecting yarl<2.0,>=1.0\n",
            "  Downloading yarl-1.8.2-cp39-cp39-manylinux_2_17_x86_64.manylinux2014_x86_64.whl (264 kB)\n",
            "\u001b[2K     \u001b[90m━━━━━━━━━━━━━━━━━━━━━━━━━━━━━━━━━━━━━━\u001b[0m \u001b[32m264.6/264.6 KB\u001b[0m \u001b[31m32.2 MB/s\u001b[0m eta \u001b[36m0:00:00\u001b[0m\n",
            "\u001b[?25hRequirement already satisfied: pyasn1-modules>=0.2.1 in /usr/local/lib/python3.9/dist-packages (from google-auth<3,>=1.6.3->tensorboard>=2.2.0->pytorch-lightning==1.6.*->pytorch-lifestream) (0.2.8)\n",
            "Requirement already satisfied: six>=1.9.0 in /usr/local/lib/python3.9/dist-packages (from google-auth<3,>=1.6.3->tensorboard>=2.2.0->pytorch-lightning==1.6.*->pytorch-lifestream) (1.16.0)\n",
            "Requirement already satisfied: rsa<5,>=3.1.4 in /usr/local/lib/python3.9/dist-packages (from google-auth<3,>=1.6.3->tensorboard>=2.2.0->pytorch-lightning==1.6.*->pytorch-lifestream) (4.9)\n",
            "Requirement already satisfied: cachetools<6.0,>=2.0.0 in /usr/local/lib/python3.9/dist-packages (from google-auth<3,>=1.6.3->tensorboard>=2.2.0->pytorch-lightning==1.6.*->pytorch-lifestream) (5.3.0)\n",
            "Requirement already satisfied: requests-oauthlib>=0.7.0 in /usr/local/lib/python3.9/dist-packages (from google-auth-oauthlib<0.5,>=0.4.1->tensorboard>=2.2.0->pytorch-lightning==1.6.*->pytorch-lifestream) (1.3.1)\n",
            "Requirement already satisfied: importlib-metadata>=4.4 in /usr/local/lib/python3.9/dist-packages (from markdown>=2.6.8->tensorboard>=2.2.0->pytorch-lightning==1.6.*->pytorch-lifestream) (6.1.0)\n",
            "Requirement already satisfied: MarkupSafe>=2.1.1 in /usr/local/lib/python3.9/dist-packages (from werkzeug>=1.0.1->tensorboard>=2.2.0->pytorch-lightning==1.6.*->pytorch-lifestream) (2.1.2)\n",
            "Requirement already satisfied: zipp>=0.5 in /usr/local/lib/python3.9/dist-packages (from importlib-metadata>=4.4->markdown>=2.6.8->tensorboard>=2.2.0->pytorch-lightning==1.6.*->pytorch-lifestream) (3.15.0)\n",
            "Requirement already satisfied: pyasn1<0.5.0,>=0.4.6 in /usr/local/lib/python3.9/dist-packages (from pyasn1-modules>=0.2.1->google-auth<3,>=1.6.3->tensorboard>=2.2.0->pytorch-lightning==1.6.*->pytorch-lifestream) (0.4.8)\n",
            "Requirement already satisfied: oauthlib>=3.0.0 in /usr/local/lib/python3.9/dist-packages (from requests-oauthlib>=0.7.0->google-auth-oauthlib<0.5,>=0.4.1->tensorboard>=2.2.0->pytorch-lightning==1.6.*->pytorch-lifestream) (3.2.2)\n",
            "Building wheels for collected packages: pytorch-lifestream, antlr4-python3-runtime\n",
            "  Building wheel for pytorch-lifestream (pyproject.toml) ... \u001b[?25l\u001b[?25hdone\n",
            "  Created wheel for pytorch-lifestream: filename=pytorch_lifestream-0.5.2-py3-none-any.whl size=256980 sha256=452fb346e965437b1ac13f25fc55e3bb202bf95363f5a181fefc0ba4e471b8aa\n",
            "  Stored in directory: /root/.cache/pip/wheels/07/3c/f7/565354c0a36c9f9cd0084237bcb8d36697554d25cc7d9a1ae1\n",
            "  Building wheel for antlr4-python3-runtime (setup.py) ... \u001b[?25l\u001b[?25hdone\n",
            "  Created wheel for antlr4-python3-runtime: filename=antlr4_python3_runtime-4.9.3-py3-none-any.whl size=144573 sha256=7811b8b2b22a36b28db7038b982aa74e55f57154c211dedcd3a35628acded7d0\n",
            "  Stored in directory: /root/.cache/pip/wheels/23/cf/80/f3efa822e6ab23277902ee9165fe772eeb1dfb8014f359020a\n",
            "Successfully built pytorch-lifestream antlr4-python3-runtime\n",
            "Installing collected packages: tokenizers, antlr4-python3-runtime, pyDeprecate, omegaconf, multidict, frozenlist, async-timeout, yarl, torchmetrics, hydra-core, huggingface-hub, aiosignal, transformers, aiohttp, pytorch-lightning, pytorch-lifestream\n",
            "Successfully installed aiohttp-3.8.4 aiosignal-1.3.1 antlr4-python3-runtime-4.9.3 async-timeout-4.0.2 frozenlist-1.3.3 huggingface-hub-0.13.3 hydra-core-1.3.2 multidict-6.0.4 omegaconf-2.3.0 pyDeprecate-0.3.2 pytorch-lifestream-0.5.2 pytorch-lightning-1.6.5 tokenizers-0.13.2 torchmetrics-0.11.4 transformers-4.27.3 yarl-1.8.2\n"
          ]
        },
        {
          "data": {
            "application/vnd.colab-display-data+json": {
              "pip_warning": {
                "packages": [
                  "pydevd_plugins"
                ]
              }
            }
          },
          "metadata": {},
          "output_type": "display_data"
        }
      ],
      "source": [
        "if 'google.colab' in str(get_ipython()):\n",
        "    !pip install pytorch-lifestream"
      ]
    },
    {
      "cell_type": "code",
      "execution_count": 1,
      "metadata": {
        "colab": {
          "base_uri": "https://localhost:8080/"
        },
        "id": "68EzT3NNf-iQ",
        "outputId": "19dbd32f-f2d7-492f-bdc7-84a8787941b1"
      },
      "outputs": [
        {
          "name": "stdout",
          "output_type": "stream",
          "text": [
            "  % Total    % Received % Xferd  Average Speed   Time    Time     Time  Current\n",
            "                                 Dload  Upload   Total   Spent    Left  Speed\n",
            "100  250M  100  250M    0     0  9138k      0  0:00:28  0:00:28 --:--:--  9.7M\n",
            "  % Total    % Received % Xferd  Average Speed   Time    Time     Time  Current\n",
            "                                 Dload  Upload   Total   Spent    Left  Speed\n",
            "100  307k  100  307k    0     0   142k      0  0:00:02  0:00:02 --:--:--  142k\n",
            "Archive:  transactions.zip\n",
            "  inflating: data/transactions.csv   \n",
            "  inflating: data/__MACOSX/._transactions.csv  \n"
          ]
        }
      ],
      "source": [
        "# import os\n",
        "\n",
        "# if not os.path.exists('data/transactions.csv'):\n",
        "#     ! mkdir -p data\n",
        "#     ! curl -OL https://storage.yandexcloud.net/datasouls-ods/materials/0433a4ca/transactions.zip\n",
        "#     ! curl -OL https://storage.yandexcloud.net/datasouls-ods/materials/e756bf99/train.csv\n",
        "#     ! unzip transactions.zip -d data\n",
        "#     ! cp train.csv data"
      ]
    },
    {
      "cell_type": "code",
      "execution_count": 1,
      "metadata": {
        "id": "eRKNDaz9Vks8"
      },
      "outputs": [],
      "source": [
        "%load_ext autoreload\n",
        "%autoreload 2\n",
        "\n",
        "# import logging\n",
        "import torch\n",
        "import pytorch_lightning as pl\n",
        "# import warnings\n",
        "\n",
        "# warnings.filterwarnings('ignore')\n",
        "# logging.getLogger(\"pytorch_lightning\").setLevel(logging.ERROR)"
      ]
    },
    {
      "cell_type": "code",
      "execution_count": 2,
      "metadata": {
        "colab": {
          "base_uri": "https://localhost:8080/",
          "height": 112
        },
        "id": "HQedDuEFVna4",
        "outputId": "ca365035-daf7-4f64-da2a-0d23c16d57ab"
      },
      "outputs": [
        {
          "data": {
            "text/html": [
              "<div>\n",
              "<style scoped>\n",
              "    .dataframe tbody tr th:only-of-type {\n",
              "        vertical-align: middle;\n",
              "    }\n",
              "\n",
              "    .dataframe tbody tr th {\n",
              "        vertical-align: top;\n",
              "    }\n",
              "\n",
              "    .dataframe thead th {\n",
              "        text-align: right;\n",
              "    }\n",
              "</style>\n",
              "<table border=\"1\" class=\"dataframe\">\n",
              "  <thead>\n",
              "    <tr style=\"text-align: right;\">\n",
              "      <th></th>\n",
              "      <th>user_id</th>\n",
              "      <th>cat_id</th>\n",
              "      <th>timestamp</th>\n",
              "    </tr>\n",
              "  </thead>\n",
              "  <tbody>\n",
              "    <tr>\n",
              "      <th>0</th>\n",
              "      <td>000a8d3cdef3455d990e97730a2cef43</td>\n",
              "      <td>12</td>\n",
              "      <td>2021-01-22 14:50:05</td>\n",
              "    </tr>\n",
              "    <tr>\n",
              "      <th>1</th>\n",
              "      <td>000a8d3cdef3455d990e97730a2cef43</td>\n",
              "      <td>931</td>\n",
              "      <td>2021-01-23 19:16:35</td>\n",
              "    </tr>\n",
              "  </tbody>\n",
              "</table>\n",
              "</div>"
            ],
            "text/plain": [
              "                            user_id  cat_id            timestamp\n",
              "0  000a8d3cdef3455d990e97730a2cef43      12  2021-01-22 14:50:05\n",
              "1  000a8d3cdef3455d990e97730a2cef43     931  2021-01-23 19:16:35"
            ]
          },
          "execution_count": 2,
          "metadata": {},
          "output_type": "execute_result"
        }
      ],
      "source": [
        "import os\n",
        "import pandas as pd\n",
        "\n",
        "data_path = 'data/'\n",
        "\n",
        "source_data = pd.read_csv(os.path.join(data_path, 'clickstream_matched.csv'))\n",
        "source_data.head(2)"
      ]
    },
    {
      "cell_type": "code",
      "execution_count": 3,
      "metadata": {
        "colab": {
          "base_uri": "https://localhost:8080/"
        },
        "id": "CSPMYnkJmPy9",
        "outputId": "4f8727ac-3340-4e03-c7d1-dbb74be0fcff"
      },
      "outputs": [
        {
          "data": {
            "text/plain": [
              "(40696059, 3)"
            ]
          },
          "execution_count": 3,
          "metadata": {},
          "output_type": "execute_result"
        }
      ],
      "source": [
        "source_data.shape"
      ]
    },
    {
      "cell_type": "code",
      "execution_count": 4,
      "metadata": {
        "id": "TklfcpgLYinv"
      },
      "outputs": [],
      "source": [
        "source_data.timestamp = pd.to_datetime(source_data.timestamp)"
      ]
    },
    {
      "cell_type": "code",
      "execution_count": 5,
      "metadata": {
        "id": "wB2hy5fxVwp3"
      },
      "outputs": [],
      "source": [
        "from ptls.preprocessing import PandasDataPreprocessor\n",
        "\n",
        "preprocessor = PandasDataPreprocessor(\n",
        "    col_id='user_id',\n",
        "    col_event_time='timestamp',\n",
        "    event_time_transformation='dt_to_timestamp',\n",
        "    cols_category=['cat_id'],\n",
        "    cols_numerical=[],\n",
        "    return_records=True,\n",
        ")"
      ]
    },
    {
      "cell_type": "code",
      "execution_count": 6,
      "metadata": {
        "colab": {
          "base_uri": "https://localhost:8080/"
        },
        "id": "8lX13iRFXUhT",
        "outputId": "1dce5b3c-ec69-4387-eeba-643545294eef"
      },
      "outputs": [
        {
          "name": "stdout",
          "output_type": "stream",
          "text": [
            "CPU times: user 45.7 s, sys: 14.1 s, total: 59.8 s\n",
            "Wall time: 1min 2s\n"
          ]
        }
      ],
      "source": [
        "%%time\n",
        "\n",
        "dataset = preprocessor.fit_transform(source_data)"
      ]
    },
    {
      "cell_type": "code",
      "execution_count": 7,
      "metadata": {
        "id": "PzrJpndVYElQ"
      },
      "outputs": [],
      "source": [
        "import pickle\n",
        "\n",
        "with open('preprocessor.p', 'wb') as f:\n",
        "    pickle.dump(preprocessor, f)"
      ]
    },
    {
      "cell_type": "code",
      "execution_count": 8,
      "metadata": {
        "colab": {
          "base_uri": "https://localhost:8080/"
        },
        "id": "eHGpajzDFZVT",
        "outputId": "c550f342-e97e-4a7d-87bc-d650c36af63a"
      },
      "outputs": [
        {
          "data": {
            "text/plain": [
              "{'cat_id': 342}"
            ]
          },
          "execution_count": 8,
          "metadata": {},
          "output_type": "execute_result"
        }
      ],
      "source": [
        "preprocessor.get_category_dictionary_sizes()"
      ]
    },
    {
      "cell_type": "code",
      "execution_count": 9,
      "metadata": {
        "id": "z1a9YCiSZ3ua"
      },
      "outputs": [],
      "source": [
        "dataset = sorted(dataset, key=lambda x: x['user_id'])"
      ]
    },
    {
      "cell_type": "code",
      "execution_count": 10,
      "metadata": {
        "colab": {
          "base_uri": "https://localhost:8080/"
        },
        "id": "Zq6NZuxGaNlH",
        "outputId": "a9b5acf3-e1e8-4055-a164-f966ff5da304"
      },
      "outputs": [
        {
          "data": {
            "text/plain": [
              "(5083, 1271)"
            ]
          },
          "execution_count": 10,
          "metadata": {},
          "output_type": "execute_result"
        }
      ],
      "source": [
        "from sklearn.model_selection import train_test_split\n",
        "\n",
        "train, test = train_test_split(dataset, test_size=0.2, random_state=42)\n",
        "\n",
        "len(train), len(test)"
      ]
    },
    {
      "cell_type": "code",
      "execution_count": 11,
      "metadata": {
        "id": "zFSInr_jairD"
      },
      "outputs": [],
      "source": [
        "from functools import partial\n",
        "from ptls.nn import TrxEncoder, RnnSeqEncoder,RnnEncoder\n",
        "from ptls.frames.coles import CoLESModule\n",
        "\n",
        "trx_encoder_params = dict(\n",
        "    embeddings_noise=0.003,\n",
        "    numeric_values={},\n",
        "    embeddings={\n",
        "        'cat_id': {'in': 400, 'out': 16},\n",
        "    },\n",
        ")\n",
        "\n",
        "seq_encoder = RnnSeqEncoder(\n",
        "    trx_encoder=TrxEncoder(**trx_encoder_params),\n",
        "    hidden_size=512,\n",
        "    type='gru',\n",
        "    trainable_starter='static',\n",
        "    bidir = False\n",
        ")\n",
        "\n",
        "model = CoLESModule(\n",
        "    seq_encoder=seq_encoder,\n",
        "    optimizer_partial=partial(torch.optim.Adam, lr=0.001),\n",
        "    lr_scheduler_partial=partial(torch.optim.lr_scheduler.StepLR, step_size=30, gamma=0.9),\n",
        ")"
      ]
    },
    {
      "cell_type": "code",
      "execution_count": 12,
      "metadata": {
        "id": "R7qL4iZ5j0ax"
      },
      "outputs": [],
      "source": [
        "from ptls.data_load.datasets import MemoryMapDataset\n",
        "from ptls.data_load.iterable_processing import SeqLenFilter\n",
        "from ptls.frames.coles import ColesDataset\n",
        "from ptls.frames.coles.split_strategy import SampleSlices\n",
        "from ptls.frames import PtlsDataModule\n",
        "\n",
        "train_dl = PtlsDataModule(\n",
        "    train_data=ColesDataset(\n",
        "        MemoryMapDataset(\n",
        "            data=train,\n",
        "            i_filters=[\n",
        "                SeqLenFilter(min_seq_len=25),\n",
        "            ],\n",
        "        ),\n",
        "        splitter=SampleSlices(\n",
        "            split_count=5,\n",
        "            cnt_min=25,\n",
        "            cnt_max=200,\n",
        "        ),\n",
        "    ),\n",
        "    train_num_workers=2,\n",
        "    train_batch_size=256,\n",
        ")"
      ]
    },
    {
      "cell_type": "code",
      "execution_count": 16,
      "metadata": {
        "colab": {
          "base_uri": "https://localhost:8080/"
        },
        "id": "dIXc2GYNj20t",
        "outputId": "7d08bf80-7947-4b69-9b5c-dd65feb57dc8"
      },
      "outputs": [
        {
          "name": "stderr",
          "output_type": "stream",
          "text": [
            "GPU available: True, used: True\n",
            "TPU available: False, using: 0 TPU cores\n",
            "IPU available: False, using: 0 IPUs\n",
            "HPU available: False, using: 0 HPUs\n"
          ]
        }
      ],
      "source": [
        "import torch\n",
        "import pytorch_lightning as pl\n",
        "\n",
        "import logging\n",
        "\n",
        "trainer = pl.Trainer(\n",
        "    max_epochs=15,\n",
        "    gpus=1 if torch.cuda.is_available() else 0,\n",
        "    enable_progress_bar=False,\n",
        ")"
      ]
    },
    {
      "cell_type": "code",
      "execution_count": 18,
      "metadata": {
        "colab": {
          "base_uri": "https://localhost:8080/"
        },
        "id": "dfgwrib_kGx-",
        "outputId": "01f1a33e-c323-4460-e6ca-a215d85d0b10"
      },
      "outputs": [
        {
          "name": "stderr",
          "output_type": "stream",
          "text": [
            "LOCAL_RANK: 0 - CUDA_VISIBLE_DEVICES: [0]\n",
            "/home/lakomchik/.local/lib/python3.10/site-packages/pytorch_lightning/trainer/connectors/data_connector.py:240: PossibleUserWarning: The dataloader, predict_dataloader 0, does not have many workers which may be a bottleneck. Consider increasing the value of the `num_workers` argument` (try 16 which is the number of cpus on this machine) in the `DataLoader` init to improve performance.\n",
            "  rank_zero_warn(\n",
            "LOCAL_RANK: 0 - CUDA_VISIBLE_DEVICES: [0]\n"
          ]
        },
        {
          "data": {
            "text/plain": [
              "(torch.Size([5083, 512]), torch.Size([1271, 512]))"
            ]
          },
          "execution_count": 18,
          "metadata": {},
          "output_type": "execute_result"
        }
      ],
      "source": [
        "from ptls.data_load.datasets import inference_data_loader\n",
        "\n",
        "batch = 64\n",
        "train_dl = inference_data_loader(train, num_workers=0, batch_size=batch)\n",
        "train_embeds = torch.vstack(trainer.predict(model, train_dl, ))\n",
        "\n",
        "test_dl = inference_data_loader(test, num_workers=0, batch_size=batch)\n",
        "test_embeds = torch.vstack(trainer.predict(model, test_dl))\n",
        "\n",
        "train_embeds.shape, test_embeds.shape"
      ]
    },
    {
      "cell_type": "code",
      "execution_count": 19,
      "metadata": {
        "colab": {
          "base_uri": "https://localhost:8080/"
        },
        "id": "YxWLCdtEkND0",
        "outputId": "60356081-7032-46b9-bbe8-8d18597820b2"
      },
      "outputs": [
        {
          "name": "stdout",
          "output_type": "stream",
          "text": [
            "(5083, 514) (1271, 514)\n"
          ]
        }
      ],
      "source": [
        "df_target = pd.read_csv(os.path.join(data_path, 'target_dataset_matched.csv'))\n",
        "df_target.rename(columns={'rtk':'user_id'},inplace=True)\n",
        "df_target = df_target.set_index('user_id')\n",
        "df_target.rename(columns={\"bins\": \"target\"}, inplace=True)\n",
        "\n",
        "train_df = pd.DataFrame(data=train_embeds, columns=[f'embed_{i}' for i in range(train_embeds.shape[1])])\n",
        "train_df['user_id'] = [x['user_id'] for x in train]\n",
        "train_df = train_df.merge(df_target, how='left', on='user_id')\n",
        "\n",
        "test_df = pd.DataFrame(data=test_embeds, columns=[f'embed_{i}' for i in range(test_embeds.shape[1])])\n",
        "test_df['user_id'] = [x['user_id'] for x in test]\n",
        "test_df = test_df.merge(df_target, how='left', on='user_id')\n",
        "\n",
        "print(train_df.shape, test_df.shape)"
      ]
    },
    {
      "cell_type": "code",
      "execution_count": 20,
      "metadata": {
        "id": "vRDh_R9YnYtw"
      },
      "outputs": [],
      "source": [
        "# Dropping nan values, that appears while merging embeddings and\n",
        "# target, as there is target not for each user in datasets\n",
        "train_df.dropna(inplace=True)\n",
        "test_df.dropna(inplace=True)"
      ]
    },
    {
      "cell_type": "code",
      "execution_count": 21,
      "metadata": {
        "id": "_jL48QC1gsed"
      },
      "outputs": [],
      "source": [
        "embed_columns = [x for x in train_df.columns if x.startswith('embed')]\n",
        "x_train, y_train = train_df[embed_columns], train_df['higher_education']\n",
        "x_test, y_test = test_df[embed_columns], test_df['higher_education']"
      ]
    },
    {
      "cell_type": "code",
      "execution_count": 21,
      "metadata": {
        "colab": {
          "base_uri": "https://localhost:8080/"
        },
        "id": "MhhlV0v_pidQ",
        "outputId": "e22d8592-f5a2-4d52-b936-18a170d8592b"
      },
      "outputs": [
        {
          "name": "stdout",
          "output_type": "stream",
          "text": [
            "Looking in indexes: https://pypi.org/simple, https://us-python.pkg.dev/colab-wheels/public/simple/\n",
            "Collecting catboost\n",
            "  Downloading catboost-1.1.1-cp39-none-manylinux1_x86_64.whl (76.6 MB)\n",
            "\u001b[2K     \u001b[90m━━━━━━━━━━━━━━━━━━━━━━━━━━━━━━━━━━━━━━━━\u001b[0m \u001b[32m76.6/76.6 MB\u001b[0m \u001b[31m18.2 MB/s\u001b[0m eta \u001b[36m0:00:00\u001b[0m\n",
            "\u001b[?25hRequirement already satisfied: graphviz in /usr/local/lib/python3.9/dist-packages (from catboost) (0.20.1)\n",
            "Requirement already satisfied: scipy in /usr/local/lib/python3.9/dist-packages (from catboost) (1.10.1)\n",
            "Requirement already satisfied: pandas>=0.24.0 in /usr/local/lib/python3.9/dist-packages (from catboost) (1.4.4)\n",
            "Requirement already satisfied: six in /usr/local/lib/python3.9/dist-packages (from catboost) (1.16.0)\n",
            "Requirement already satisfied: plotly in /usr/local/lib/python3.9/dist-packages (from catboost) (5.13.1)\n",
            "Requirement already satisfied: numpy>=1.16.0 in /usr/local/lib/python3.9/dist-packages (from catboost) (1.22.4)\n",
            "Requirement already satisfied: matplotlib in /usr/local/lib/python3.9/dist-packages (from catboost) (3.7.1)\n",
            "Requirement already satisfied: python-dateutil>=2.8.1 in /usr/local/lib/python3.9/dist-packages (from pandas>=0.24.0->catboost) (2.8.2)\n",
            "Requirement already satisfied: pytz>=2020.1 in /usr/local/lib/python3.9/dist-packages (from pandas>=0.24.0->catboost) (2022.7.1)\n",
            "Requirement already satisfied: importlib-resources>=3.2.0 in /usr/local/lib/python3.9/dist-packages (from matplotlib->catboost) (5.12.0)\n",
            "Requirement already satisfied: pyparsing>=2.3.1 in /usr/local/lib/python3.9/dist-packages (from matplotlib->catboost) (3.0.9)\n",
            "Requirement already satisfied: fonttools>=4.22.0 in /usr/local/lib/python3.9/dist-packages (from matplotlib->catboost) (4.39.2)\n",
            "Requirement already satisfied: contourpy>=1.0.1 in /usr/local/lib/python3.9/dist-packages (from matplotlib->catboost) (1.0.7)\n",
            "Requirement already satisfied: cycler>=0.10 in /usr/local/lib/python3.9/dist-packages (from matplotlib->catboost) (0.11.0)\n",
            "Requirement already satisfied: kiwisolver>=1.0.1 in /usr/local/lib/python3.9/dist-packages (from matplotlib->catboost) (1.4.4)\n",
            "Requirement already satisfied: pillow>=6.2.0 in /usr/local/lib/python3.9/dist-packages (from matplotlib->catboost) (8.4.0)\n",
            "Requirement already satisfied: packaging>=20.0 in /usr/local/lib/python3.9/dist-packages (from matplotlib->catboost) (23.0)\n",
            "Requirement already satisfied: tenacity>=6.2.0 in /usr/local/lib/python3.9/dist-packages (from plotly->catboost) (8.2.2)\n",
            "Requirement already satisfied: zipp>=3.1.0 in /usr/local/lib/python3.9/dist-packages (from importlib-resources>=3.2.0->matplotlib->catboost) (3.15.0)\n",
            "Installing collected packages: catboost\n",
            "Successfully installed catboost-1.1.1\n"
          ]
        }
      ],
      "source": [
        "!pip install catboost"
      ]
    },
    {
      "cell_type": "code",
      "execution_count": 22,
      "metadata": {
        "id": "aRz7MqIRiJNN"
      },
      "outputs": [],
      "source": [
        "from catboost import CatBoostClassifier, metrics\n",
        "CatBoostModel = CatBoostClassifier(\n",
        "iterations= 500,\n",
        "learning_rate = 0.05,\n",
        "use_best_model = True,\n",
        "eval_metric ='AUC', \n",
        "loss_function='Logloss',\n",
        "random_seed = 42,\n",
        "logging_level = 'Silent',\n",
        "depth = 5)"
      ]
    },
    {
      "cell_type": "code",
      "execution_count": 23,
      "metadata": {
        "colab": {
          "base_uri": "https://localhost:8080/",
          "height": 34,
          "referenced_widgets": [
            "dc98f88e5cb544f19226ba2293261c1b"
          ]
        },
        "id": "y6bvJl7-knyo",
        "outputId": "9f59a480-ec44-437f-f68c-aa93ccd64ed9"
      },
      "outputs": [
        {
          "data": {
            "application/vnd.jupyter.widget-view+json": {
              "model_id": "ab6412d089ea4c99aa84feffb457631d",
              "version_major": 2,
              "version_minor": 0
            },
            "text/plain": [
              "MetricVisualizer(layout=Layout(align_self='stretch', height='500px'))"
            ]
          },
          "metadata": {},
          "output_type": "display_data"
        },
        {
          "data": {
            "text/plain": [
              "<catboost.core.CatBoostClassifier at 0x7fba804bace0>"
            ]
          },
          "execution_count": 23,
          "metadata": {},
          "output_type": "execute_result"
        }
      ],
      "source": [
        "CatBoostModel.fit(\n",
        "    x_train, y_train,\n",
        "    eval_set=(x_test, y_test),\n",
        "    plot=True\n",
        "#     logging_level='Verbose',  # you can uncomment this for text output\n",
        ")"
      ]
    },
    {
      "cell_type": "code",
      "execution_count": 24,
      "metadata": {
        "colab": {
          "base_uri": "https://localhost:8080/"
        },
        "id": "JWQ8t7sDkpeG",
        "outputId": "92ab5263-276f-44e3-ac2d-62236b6f9edb"
      },
      "outputs": [
        {
          "data": {
            "text/plain": [
              "{'learn': {'Logloss': 0.4027193118895974},\n",
              " 'validation': {'Logloss': 0.5826374465186784, 'AUC': 0.5516434932041868}}"
            ]
          },
          "execution_count": 24,
          "metadata": {},
          "output_type": "execute_result"
        }
      ],
      "source": [
        "CatBoostModel.get_best_score()"
      ]
    },
    {
      "cell_type": "code",
      "execution_count": 25,
      "metadata": {
        "id": "3mAfv7mAl6wZ"
      },
      "outputs": [],
      "source": [
        "y_pred = CatBoostModel.predict(x_test)\n",
        "y_proba = CatBoostModel.predict_proba(x_test)"
      ]
    },
    {
      "cell_type": "code",
      "execution_count": 26,
      "metadata": {
        "colab": {
          "base_uri": "https://localhost:8080/"
        },
        "id": "sDs6gwrbl8sg",
        "outputId": "9114d3e5-ec0b-46f3-e7ed-5032ed2c51f5"
      },
      "outputs": [
        {
          "name": "stdout",
          "output_type": "stream",
          "text": [
            "accuracy: 0.7277734067663257 \n",
            "      f1: 0.8424408014571949, \n",
            "      precision: 1.0\n",
            "     roc auc : 0.5516434932041869\n"
          ]
        }
      ],
      "source": [
        "from sklearn.metrics import roc_auc_score, precision_score, accuracy_score, recall_score, f1_score, roc_auc_score\n",
        "\n",
        "print(f'''accuracy: {CatBoostModel.score(x_test, y_test)} \n",
        "      f1: {f1_score(y_pred, y_test)}, \n",
        "      precision: {precision_score(y_pred, y_test)}\n",
        "     roc auc : {roc_auc_score(y_test, y_proba[:,1])}''')"
      ]
    },
    {
      "cell_type": "code",
      "execution_count": null,
      "metadata": {
        "id": "CSuoMADEosH4"
      },
      "outputs": [],
      "source": []
    }
  ],
  "metadata": {
    "colab": {
      "provenance": []
    },
    "gpuClass": "standard",
    "kernelspec": {
      "display_name": "Python 3",
      "name": "python3"
    },
    "language_info": {
      "codemirror_mode": {
        "name": "ipython",
        "version": 3
      },
      "file_extension": ".py",
      "mimetype": "text/x-python",
      "name": "python",
      "nbconvert_exporter": "python",
      "pygments_lexer": "ipython3",
      "version": "3.10.6"
    },
    "widgets": {
      "application/vnd.jupyter.widget-state+json": {
        "dc98f88e5cb544f19226ba2293261c1b": {
          "model_module": "catboost-widget",
          "model_module_version": "^1.0.0",
          "model_name": "CatboostWidgetModel",
          "state": {
            "_dom_classes": [],
            "_model_module": "catboost-widget",
            "_model_module_version": "^1.0.0",
            "_model_name": "CatboostWidgetModel",
            "_view_count": null,
            "_view_module": "catboost-widget",
            "_view_module_version": "^1.0.0",
            "_view_name": "CatboostWidgetView",
            "data": {
              "catboost_info": {
                "content": {
                  "data": {
                    "iterations": [
                      {
                        "iteration": 0,
                        "learn": [
                          0.6817929735
                        ],
                        "passed_time": 0.2988465018,
                        "remaining_time": 149.1244044,
                        "test": [
                          0.5683425642,
                          0.6810742158
                        ]
                      },
                      {
                        "iteration": 1,
                        "learn": [
                          0.6719664573
                        ],
                        "passed_time": 0.4561862107,
                        "remaining_time": 113.5903665,
                        "test": [
                          0.5678111668,
                          0.6704845605
                        ]
                      },
                      {
                        "iteration": 2,
                        "learn": [
                          0.6627727347
                        ],
                        "passed_time": 0.6576644564,
                        "remaining_time": 108.9530783,
                        "test": [
                          0.5737033156,
                          0.6605098527
                        ]
                      },
                      {
                        "iteration": 3,
                        "learn": [
                          0.6546134254
                        ],
                        "passed_time": 0.8506319349,
                        "remaining_time": 105.4783599,
                        "test": [
                          0.5706964299,
                          0.6518330617
                        ]
                      },
                      {
                        "iteration": 4,
                        "learn": [
                          0.6471990246
                        ],
                        "passed_time": 1.042484759,
                        "remaining_time": 103.2059911,
                        "test": [
                          0.5738979118,
                          0.6437158844
                        ]
                      },
                      {
                        "iteration": 5,
                        "learn": [
                          0.6405980344
                        ],
                        "passed_time": 1.29700822,
                        "remaining_time": 106.7870101,
                        "test": [
                          0.5766372278,
                          0.6364370187
                        ]
                      },
                      {
                        "iteration": 6,
                        "learn": [
                          0.6345189069
                        ],
                        "passed_time": 1.503114263,
                        "remaining_time": 105.8621902,
                        "test": [
                          0.5791735274,
                          0.629727347
                        ]
                      },
                      {
                        "iteration": 7,
                        "learn": [
                          0.628976511
                        ],
                        "passed_time": 1.766739427,
                        "remaining_time": 108.6544748,
                        "test": [
                          0.578353978,
                          0.6240046781
                        ]
                      },
                      {
                        "iteration": 8,
                        "learn": [
                          0.6243625092
                        ],
                        "passed_time": 1.972876132,
                        "remaining_time": 107.6313534,
                        "test": [
                          0.5788021106,
                          0.6188552159
                        ]
                      },
                      {
                        "iteration": 9,
                        "learn": [
                          0.6199681985
                        ],
                        "passed_time": 2.076000278,
                        "remaining_time": 101.7240136,
                        "test": [
                          0.5779965946,
                          0.6140836298
                        ]
                      },
                      {
                        "iteration": 10,
                        "learn": [
                          0.6161132414
                        ],
                        "passed_time": 2.239617868,
                        "remaining_time": 99.56119432,
                        "test": [
                          0.5779339121,
                          0.6097263292
                        ]
                      },
                      {
                        "iteration": 11,
                        "learn": [
                          0.6124550385
                        ],
                        "passed_time": 2.387619298,
                        "remaining_time": 97.09651811,
                        "test": [
                          0.5794822618,
                          0.6056976923
                        ]
                      },
                      {
                        "iteration": 12,
                        "learn": [
                          0.6092314107
                        ],
                        "passed_time": 2.519782101,
                        "remaining_time": 94.3949141,
                        "test": [
                          0.5783998204,
                          0.6022206332
                        ]
                      },
                      {
                        "iteration": 13,
                        "learn": [
                          0.6061431496
                        ],
                        "passed_time": 2.645997217,
                        "remaining_time": 91.85390337,
                        "test": [
                          0.5789415089,
                          0.5988406183
                        ]
                      },
                      {
                        "iteration": 14,
                        "learn": [
                          0.6035368903
                        ],
                        "passed_time": 2.765452148,
                        "remaining_time": 89.41628612,
                        "test": [
                          0.5804776963,
                          0.5958808614
                        ]
                      },
                      {
                        "iteration": 15,
                        "learn": [
                          0.600998281
                        ],
                        "passed_time": 2.89247969,
                        "remaining_time": 87.49751063,
                        "test": [
                          0.5813692837,
                          0.5931312914
                        ]
                      },
                      {
                        "iteration": 16,
                        "learn": [
                          0.5989155444
                        ],
                        "passed_time": 3.024298093,
                        "remaining_time": 85.92564582,
                        "test": [
                          0.5815582666,
                          0.5907070029
                        ]
                      },
                      {
                        "iteration": 17,
                        "learn": [
                          0.5969338356
                        ],
                        "passed_time": 3.182509097,
                        "remaining_time": 85.22052137,
                        "test": [
                          0.5816003667,
                          0.5885599607
                        ]
                      },
                      {
                        "iteration": 18,
                        "learn": [
                          0.5949375749
                        ],
                        "passed_time": 3.311413011,
                        "remaining_time": 83.83103464,
                        "test": [
                          0.5817753162,
                          0.5864784841
                        ]
                      },
                      {
                        "iteration": 19,
                        "learn": [
                          0.5932365822
                        ],
                        "passed_time": 3.440742443,
                        "remaining_time": 82.57781863,
                        "test": [
                          0.5834349974,
                          0.5845452493
                        ]
                      },
                      {
                        "iteration": 20,
                        "learn": [
                          0.5917011506
                        ],
                        "passed_time": 3.575090433,
                        "remaining_time": 81.54611035,
                        "test": [
                          0.5833695083,
                          0.5830567173
                        ]
                      },
                      {
                        "iteration": 21,
                        "learn": [
                          0.5900427245
                        ],
                        "passed_time": 3.717579074,
                        "remaining_time": 80.77285442,
                        "test": [
                          0.5840674351,
                          0.5814667759
                        ]
                      },
                      {
                        "iteration": 22,
                        "learn": [
                          0.588823595
                        ],
                        "passed_time": 3.849313293,
                        "remaining_time": 79.83141047,
                        "test": [
                          0.5834218996,
                          0.5802175212
                        ]
                      },
                      {
                        "iteration": 23,
                        "learn": [
                          0.5875868262
                        ],
                        "passed_time": 4.011006388,
                        "remaining_time": 79.55162669,
                        "test": [
                          0.5835107776,
                          0.5790109455
                        ]
                      },
                      {
                        "iteration": 24,
                        "learn": [
                          0.5865571091
                        ],
                        "passed_time": 4.154403084,
                        "remaining_time": 78.9336586,
                        "test": [
                          0.5831449742,
                          0.5778707396
                        ]
                      },
                      {
                        "iteration": 25,
                        "learn": [
                          0.5857129106
                        ],
                        "passed_time": 4.30860058,
                        "remaining_time": 78.54910289,
                        "test": [
                          0.5825022453,
                          0.576892312
                        ]
                      },
                      {
                        "iteration": 26,
                        "learn": [
                          0.584269512
                        ],
                        "passed_time": 4.44484243,
                        "remaining_time": 77.86705442,
                        "test": [
                          0.5856550782,
                          0.5754696264
                        ]
                      },
                      {
                        "iteration": 27,
                        "learn": [
                          0.583391657
                        ],
                        "passed_time": 4.562382304,
                        "remaining_time": 76.90873027,
                        "test": [
                          0.5853276327,
                          0.5746488196
                        ]
                      },
                      {
                        "iteration": 28,
                        "learn": [
                          0.5825647249
                        ],
                        "passed_time": 4.679861834,
                        "remaining_time": 76.00741116,
                        "test": [
                          0.5853622483,
                          0.5738477269
                        ]
                      },
                      {
                        "iteration": 29,
                        "learn": [
                          0.5816517741
                        ],
                        "passed_time": 4.811833349,
                        "remaining_time": 75.38538914,
                        "test": [
                          0.5867141307,
                          0.5729078487
                        ]
                      },
                      {
                        "iteration": 30,
                        "learn": [
                          0.5808374075
                        ],
                        "passed_time": 4.969420781,
                        "remaining_time": 75.1825273,
                        "test": [
                          0.587650625,
                          0.5720745081
                        ]
                      },
                      {
                        "iteration": 31,
                        "learn": [
                          0.5801355743
                        ],
                        "passed_time": 5.174053785,
                        "remaining_time": 75.6705366,
                        "test": [
                          0.588615186,
                          0.5713693767
                        ]
                      },
                      {
                        "iteration": 32,
                        "learn": [
                          0.5792586726
                        ],
                        "passed_time": 5.324403204,
                        "remaining_time": 75.34837261,
                        "test": [
                          0.5892710126,
                          0.5707155658
                        ]
                      },
                      {
                        "iteration": 33,
                        "learn": [
                          0.5786541112
                        ],
                        "passed_time": 5.506764739,
                        "remaining_time": 75.47506966,
                        "test": [
                          0.5895900382,
                          0.5701742
                        ]
                      },
                      {
                        "iteration": 34,
                        "learn": [
                          0.5779119883
                        ],
                        "passed_time": 5.697427563,
                        "remaining_time": 75.69439476,
                        "test": [
                          0.588869658,
                          0.5697272195
                        ]
                      },
                      {
                        "iteration": 35,
                        "learn": [
                          0.5772084463
                        ],
                        "passed_time": 5.852247806,
                        "remaining_time": 75.42897172,
                        "test": [
                          0.5898866103,
                          0.5691815936
                        ]
                      },
                      {
                        "iteration": 36,
                        "learn": [
                          0.5766571871
                        ],
                        "passed_time": 5.98761762,
                        "remaining_time": 74.926134,
                        "test": [
                          0.5902627049,
                          0.5686911561
                        ]
                      },
                      {
                        "iteration": 37,
                        "learn": [
                          0.5760775694
                        ],
                        "passed_time": 6.127409274,
                        "remaining_time": 74.49639696,
                        "test": [
                          0.5894833845,
                          0.5685186363
                        ]
                      },
                      {
                        "iteration": 38,
                        "learn": [
                          0.5754629245
                        ],
                        "passed_time": 6.309851732,
                        "remaining_time": 74.58568329,
                        "test": [
                          0.5892719482,
                          0.5681962361
                        ]
                      },
                      {
                        "iteration": 39,
                        "learn": [
                          0.5749758242
                        ],
                        "passed_time": 6.490195127,
                        "remaining_time": 74.63724396,
                        "test": [
                          0.5894730933,
                          0.5678787318
                        ]
                      },
                      {
                        "iteration": 40,
                        "learn": [
                          0.5743185129
                        ],
                        "passed_time": 6.636468233,
                        "remaining_time": 74.29607119,
                        "test": [
                          0.589562907,
                          0.5676424489
                        ]
                      },
                      {
                        "iteration": 41,
                        "learn": [
                          0.5737706149
                        ],
                        "passed_time": 6.780706489,
                        "remaining_time": 73.94198981,
                        "test": [
                          0.5899651972,
                          0.567405057
                        ]
                      },
                      {
                        "iteration": 42,
                        "learn": [
                          0.5733490895
                        ],
                        "passed_time": 6.9249909,
                        "remaining_time": 73.5981591,
                        "test": [
                          0.5899025148,
                          0.5671853491
                        ]
                      },
                      {
                        "iteration": 43,
                        "learn": [
                          0.5728344546
                        ],
                        "passed_time": 7.057881117,
                        "remaining_time": 73.1453134,
                        "test": [
                          0.5888172667,
                          0.5671927843
                        ]
                      },
                      {
                        "iteration": 44,
                        "learn": [
                          0.5723495651
                        ],
                        "passed_time": 7.282558748,
                        "remaining_time": 73.63476068,
                        "test": [
                          0.5895133224,
                          0.5668797542
                        ]
                      },
                      {
                        "iteration": 45,
                        "learn": [
                          0.5720269641
                        ],
                        "passed_time": 7.410322261,
                        "remaining_time": 73.13665883,
                        "test": [
                          0.589874448,
                          0.5665657526
                        ]
                      },
                      {
                        "iteration": 46,
                        "learn": [
                          0.5715743788
                        ],
                        "passed_time": 7.536848,
                        "remaining_time": 72.64238605,
                        "test": [
                          0.5902898361,
                          0.5663569708
                        ]
                      },
                      {
                        "iteration": 47,
                        "learn": [
                          0.5711621339
                        ],
                        "passed_time": 7.658658294,
                        "remaining_time": 72.11903227,
                        "test": [
                          0.5894515755,
                          0.5663776717
                        ]
                      },
                      {
                        "iteration": 48,
                        "learn": [
                          0.5708053343
                        ],
                        "passed_time": 7.787202023,
                        "remaining_time": 71.67404311,
                        "test": [
                          0.5904544944,
                          0.5660014472
                        ]
                      },
                      {
                        "iteration": 49,
                        "learn": [
                          0.570493697
                        ],
                        "passed_time": 7.910595113,
                        "remaining_time": 71.19535601,
                        "test": [
                          0.5901700846,
                          0.5659065891
                        ]
                      },
                      {
                        "iteration": 50,
                        "learn": [
                          0.5702631654
                        ],
                        "passed_time": 8.049628618,
                        "remaining_time": 70.86829901,
                        "test": [
                          0.5904526233,
                          0.5658117896
                        ]
                      },
                      {
                        "iteration": 51,
                        "learn": [
                          0.569902052
                        ],
                        "passed_time": 8.222527614,
                        "remaining_time": 70.8402379,
                        "test": [
                          0.5905424369,
                          0.5656636375
                        ]
                      },
                      {
                        "iteration": 52,
                        "learn": [
                          0.5694418713
                        ],
                        "passed_time": 8.334370879,
                        "remaining_time": 70.29176949,
                        "test": [
                          0.5906790285,
                          0.5654895923
                        ]
                      },
                      {
                        "iteration": 53,
                        "learn": [
                          0.5691095072
                        ],
                        "passed_time": 8.460594567,
                        "remaining_time": 69.87824402,
                        "test": [
                          0.5907426465,
                          0.5653519012
                        ]
                      },
                      {
                        "iteration": 54,
                        "learn": [
                          0.5688472594
                        ],
                        "passed_time": 8.580606556,
                        "remaining_time": 69.42490759,
                        "test": [
                          0.5899998129,
                          0.5653993499
                        ]
                      },
                      {
                        "iteration": 55,
                        "learn": [
                          0.5684608767
                        ],
                        "passed_time": 8.726507304,
                        "remaining_time": 69.18873649,
                        "test": [
                          0.5898482524,
                          0.5654401287
                        ]
                      },
                      {
                        "iteration": 56,
                        "learn": [
                          0.5680270584
                        ],
                        "passed_time": 8.879987764,
                        "remaining_time": 69.01464174,
                        "test": [
                          0.5890025073,
                          0.565523096
                        ]
                      },
                      {
                        "iteration": 57,
                        "learn": [
                          0.5675511594
                        ],
                        "passed_time": 9.036117402,
                        "remaining_time": 68.86144641,
                        "test": [
                          0.5883513584,
                          0.5654625602
                        ]
                      },
                      {
                        "iteration": 58,
                        "learn": [
                          0.5671826245
                        ],
                        "passed_time": 9.161785811,
                        "remaining_time": 68.48046682,
                        "test": [
                          0.5877413741,
                          0.5654733585
                        ]
                      },
                      {
                        "iteration": 59,
                        "learn": [
                          0.5668829084
                        ],
                        "passed_time": 9.289191654,
                        "remaining_time": 68.1207388,
                        "test": [
                          0.5869236958,
                          0.5655341529
                        ]
                      },
                      {
                        "iteration": 60,
                        "learn": [
                          0.5664943913
                        ],
                        "passed_time": 9.424262915,
                        "remaining_time": 67.82379377,
                        "test": [
                          0.586592508,
                          0.5655545142
                        ]
                      },
                      {
                        "iteration": 61,
                        "learn": [
                          0.566105139
                        ],
                        "passed_time": 9.550088589,
                        "remaining_time": 67.46675487,
                        "test": [
                          0.5876515605,
                          0.5652894999
                        ]
                      },
                      {
                        "iteration": 62,
                        "learn": [
                          0.5658620721
                        ],
                        "passed_time": 9.67340852,
                        "remaining_time": 67.09967497,
                        "test": [
                          0.587739503,
                          0.5651900609
                        ]
                      },
                      {
                        "iteration": 63,
                        "learn": [
                          0.5656543903
                        ],
                        "passed_time": 9.799369006,
                        "remaining_time": 66.75820135,
                        "test": [
                          0.5873839907,
                          0.5652174148
                        ]
                      },
                      {
                        "iteration": 64,
                        "learn": [
                          0.5654195703
                        ],
                        "passed_time": 9.95710765,
                        "remaining_time": 66.63602812,
                        "test": [
                          0.58781809,
                          0.5650846702
                        ]
                      },
                      {
                        "iteration": 65,
                        "learn": [
                          0.5649049694
                        ],
                        "passed_time": 10.09038146,
                        "remaining_time": 66.3519023,
                        "test": [
                          0.587739503,
                          0.5650385222
                        ]
                      },
                      {
                        "iteration": 66,
                        "learn": [
                          0.5645659702
                        ],
                        "passed_time": 10.21873566,
                        "remaining_time": 66.04048566,
                        "test": [
                          0.5876010403,
                          0.5650266275
                        ]
                      },
                      {
                        "iteration": 67,
                        "learn": [
                          0.5641267429
                        ],
                        "passed_time": 10.35706658,
                        "remaining_time": 65.79783476,
                        "test": [
                          0.5887199686,
                          0.5647015605
                        ]
                      },
                      {
                        "iteration": 68,
                        "learn": [
                          0.5637869115
                        ],
                        "passed_time": 10.48338473,
                        "remaining_time": 65.48317129,
                        "test": [
                          0.5884486565,
                          0.564645605
                        ]
                      },
                      {
                        "iteration": 69,
                        "learn": [
                          0.563314034
                        ],
                        "passed_time": 10.60763451,
                        "remaining_time": 65.16118339,
                        "test": [
                          0.5880688197,
                          0.564724087
                        ]
                      },
                      {
                        "iteration": 70,
                        "learn": [
                          0.5627620681
                        ],
                        "passed_time": 10.72800884,
                        "remaining_time": 64.82134919,
                        "test": [
                          0.5880126862,
                          0.5646006602
                        ]
                      },
                      {
                        "iteration": 71,
                        "learn": [
                          0.5625033249
                        ],
                        "passed_time": 10.85440223,
                        "remaining_time": 64.52339104,
                        "test": [
                          0.5874176708,
                          0.5646957382
                        ]
                      },
                      {
                        "iteration": 72,
                        "learn": [
                          0.56214765
                        ],
                        "passed_time": 10.98387504,
                        "remaining_time": 64.24814581,
                        "test": [
                          0.5884187187,
                          0.5644794876
                        ]
                      },
                      {
                        "iteration": 73,
                        "learn": [
                          0.5617679142
                        ],
                        "passed_time": 11.12612069,
                        "remaining_time": 64.05037044,
                        "test": [
                          0.5869442781,
                          0.5646924918
                        ]
                      },
                      {
                        "iteration": 74,
                        "learn": [
                          0.5613318992
                        ],
                        "passed_time": 11.2475901,
                        "remaining_time": 63.7363439,
                        "test": [
                          0.586136891,
                          0.5646999918
                        ]
                      },
                      {
                        "iteration": 75,
                        "learn": [
                          0.5609816035
                        ],
                        "passed_time": 11.39175058,
                        "remaining_time": 63.55397692,
                        "test": [
                          0.5859890727,
                          0.564700837
                        ]
                      },
                      {
                        "iteration": 76,
                        "learn": [
                          0.5607409347
                        ],
                        "passed_time": 11.54142155,
                        "remaining_time": 63.4028742,
                        "test": [
                          0.5859422947,
                          0.5647119468
                        ]
                      },
                      {
                        "iteration": 77,
                        "learn": [
                          0.5604561894
                        ],
                        "passed_time": 11.66994702,
                        "remaining_time": 63.13740567,
                        "test": [
                          0.5863876207,
                          0.5646302264
                        ]
                      },
                      {
                        "iteration": 78,
                        "learn": [
                          0.560107938
                        ],
                        "passed_time": 11.80219204,
                        "remaining_time": 62.89522596,
                        "test": [
                          0.5862828381,
                          0.5646118499
                        ]
                      },
                      {
                        "iteration": 79,
                        "learn": [
                          0.5597312562
                        ],
                        "passed_time": 11.94295233,
                        "remaining_time": 62.70049972,
                        "test": [
                          0.5866420927,
                          0.5645113532
                        ]
                      },
                      {
                        "iteration": 80,
                        "learn": [
                          0.5594545441
                        ],
                        "passed_time": 12.08924843,
                        "remaining_time": 62.53574188,
                        "test": [
                          0.5874635132,
                          0.5643553346
                        ]
                      },
                      {
                        "iteration": 81,
                        "learn": [
                          0.5591348102
                        ],
                        "passed_time": 12.25360837,
                        "remaining_time": 62.46351582,
                        "test": [
                          0.5879649727,
                          0.5642693798
                        ]
                      },
                      {
                        "iteration": 82,
                        "learn": [
                          0.5589612402
                        ],
                        "passed_time": 12.48508293,
                        "remaining_time": 62.72626001,
                        "test": [
                          0.5881427288,
                          0.564197795
                        ]
                      },
                      {
                        "iteration": 83,
                        "learn": [
                          0.558629679
                        ],
                        "passed_time": 12.6831577,
                        "remaining_time": 62.81182863,
                        "test": [
                          0.5878676746,
                          0.5642559883
                        ]
                      },
                      {
                        "iteration": 84,
                        "learn": [
                          0.5584591518
                        ],
                        "passed_time": 12.87858509,
                        "remaining_time": 62.87779778,
                        "test": [
                          0.5876468827,
                          0.5641639427
                        ]
                      },
                      {
                        "iteration": 85,
                        "learn": [
                          0.5580688699
                        ],
                        "passed_time": 13.13994243,
                        "remaining_time": 63.25507172,
                        "test": [
                          0.5890015717,
                          0.5638324943
                        ]
                      },
                      {
                        "iteration": 86,
                        "learn": [
                          0.5577370599
                        ],
                        "passed_time": 13.34389132,
                        "remaining_time": 63.34513927,
                        "test": [
                          0.5889024025,
                          0.5638459256
                        ]
                      },
                      {
                        "iteration": 87,
                        "learn": [
                          0.5573611411
                        ],
                        "passed_time": 13.52925205,
                        "remaining_time": 63.34149825,
                        "test": [
                          0.5885300501,
                          0.5638632318
                        ]
                      },
                      {
                        "iteration": 88,
                        "learn": [
                          0.5571114498
                        ],
                        "passed_time": 13.73348809,
                        "remaining_time": 63.42093938,
                        "test": [
                          0.5880828531,
                          0.5639256902
                        ]
                      },
                      {
                        "iteration": 89,
                        "learn": [
                          0.5568565071
                        ],
                        "passed_time": 13.91347845,
                        "remaining_time": 63.38362407,
                        "test": [
                          0.5881633111,
                          0.5639405146
                        ]
                      },
                      {
                        "iteration": 90,
                        "learn": [
                          0.5566340514
                        ],
                        "passed_time": 14.0666068,
                        "remaining_time": 63.22244156,
                        "test": [
                          0.588129631,
                          0.5639679228
                        ]
                      },
                      {
                        "iteration": 91,
                        "learn": [
                          0.5563738342
                        ],
                        "passed_time": 14.24582871,
                        "remaining_time": 63.17715342,
                        "test": [
                          0.5884589477,
                          0.563867972
                        ]
                      },
                      {
                        "iteration": 92,
                        "learn": [
                          0.5561072164
                        ],
                        "passed_time": 14.45320116,
                        "remaining_time": 63.25218141,
                        "test": [
                          0.5879331637,
                          0.5639570235
                        ]
                      },
                      {
                        "iteration": 93,
                        "learn": [
                          0.5557902438
                        ],
                        "passed_time": 14.60777033,
                        "remaining_time": 63.0931357,
                        "test": [
                          0.5881651822,
                          0.5638873668
                        ]
                      },
                      {
                        "iteration": 94,
                        "learn": [
                          0.5555635359
                        ],
                        "passed_time": 14.78130328,
                        "remaining_time": 63.01502976,
                        "test": [
                          0.5871061298,
                          0.5640874468
                        ]
                      },
                      {
                        "iteration": 95,
                        "learn": [
                          0.5553841201
                        ],
                        "passed_time": 14.9496564,
                        "remaining_time": 62.91313734,
                        "test": [
                          0.5869452137,
                          0.5641041062
                        ]
                      },
                      {
                        "iteration": 96,
                        "learn": [
                          0.5550215017
                        ],
                        "passed_time": 15.12117926,
                        "remaining_time": 62.82304372,
                        "test": [
                          0.5874223486,
                          0.564074833
                        ]
                      },
                      {
                        "iteration": 97,
                        "learn": [
                          0.5546857782
                        ],
                        "passed_time": 15.28721084,
                        "remaining_time": 62.70876283,
                        "test": [
                          0.588176409,
                          0.5639735064
                        ]
                      },
                      {
                        "iteration": 98,
                        "learn": [
                          0.5544064233
                        ],
                        "passed_time": 15.54157308,
                        "remaining_time": 62.95122024,
                        "test": [
                          0.588256867,
                          0.5639206722
                        ]
                      },
                      {
                        "iteration": 99,
                        "learn": [
                          0.5540483525
                        ],
                        "passed_time": 15.75067692,
                        "remaining_time": 63.00270767,
                        "test": [
                          0.5877404386,
                          0.5640045874
                        ]
                      },
                      {
                        "iteration": 100,
                        "learn": [
                          0.5536403907
                        ],
                        "passed_time": 15.94128617,
                        "remaining_time": 62.97597208,
                        "test": [
                          0.587921937,
                          0.5640167212
                        ]
                      },
                      {
                        "iteration": 101,
                        "learn": [
                          0.5534502656
                        ],
                        "passed_time": 16.11361731,
                        "remaining_time": 62.87470282,
                        "test": [
                          0.5886310905,
                          0.5638664553
                        ]
                      },
                      {
                        "iteration": 102,
                        "learn": [
                          0.5532702432
                        ],
                        "passed_time": 16.34674438,
                        "remaining_time": 63.00638366,
                        "test": [
                          0.5887414864,
                          0.5638535331
                        ]
                      },
                      {
                        "iteration": 103,
                        "learn": [
                          0.5530518139
                        ],
                        "passed_time": 16.56569927,
                        "remaining_time": 63.07708569,
                        "test": [
                          0.5886048948,
                          0.5638052371
                        ]
                      },
                      {
                        "iteration": 104,
                        "learn": [
                          0.5527158244
                        ],
                        "passed_time": 16.76008375,
                        "remaining_time": 63.04983886,
                        "test": [
                          0.5887583265,
                          0.5637172561
                        ]
                      },
                      {
                        "iteration": 105,
                        "learn": [
                          0.5524152055
                        ],
                        "passed_time": 16.97723384,
                        "remaining_time": 63.10405785,
                        "test": [
                          0.5891606167,
                          0.5635990279
                        ]
                      },
                      {
                        "iteration": 106,
                        "learn": [
                          0.5520220758
                        ],
                        "passed_time": 17.1132257,
                        "remaining_time": 62.85511868,
                        "test": [
                          0.5898959659,
                          0.5634612551
                        ]
                      },
                      {
                        "iteration": 107,
                        "learn": [
                          0.5516993269
                        ],
                        "passed_time": 17.23687648,
                        "remaining_time": 62.5634776,
                        "test": [
                          0.5896059427,
                          0.5635367006
                        ]
                      },
                      {
                        "iteration": 108,
                        "learn": [
                          0.5514421074
                        ],
                        "passed_time": 17.38758604,
                        "remaining_time": 62.37198294,
                        "test": [
                          0.5902458648,
                          0.5634141004
                        ]
                      },
                      {
                        "iteration": 109,
                        "learn": [
                          0.5511544232
                        ],
                        "passed_time": 17.57726333,
                        "remaining_time": 62.31938818,
                        "test": [
                          0.5903132251,
                          0.5634256981
                        ]
                      },
                      {
                        "iteration": 110,
                        "learn": [
                          0.550944443
                        ],
                        "passed_time": 17.77899127,
                        "remaining_time": 62.306555,
                        "test": [
                          0.5899857795,
                          0.5634981811
                        ]
                      },
                      {
                        "iteration": 111,
                        "learn": [
                          0.5505998974
                        ],
                        "passed_time": 17.92688389,
                        "remaining_time": 62.10384776,
                        "test": [
                          0.590105531,
                          0.5634990406
                        ]
                      },
                      {
                        "iteration": 112,
                        "learn": [
                          0.5503619848
                        ],
                        "passed_time": 18.03927363,
                        "remaining_time": 61.7805212,
                        "test": [
                          0.5898678991,
                          0.5635347687
                        ]
                      },
                      {
                        "iteration": 113,
                        "learn": [
                          0.5500850016
                        ],
                        "passed_time": 18.17202743,
                        "remaining_time": 61.52984727,
                        "test": [
                          0.590966245,
                          0.5632632617
                        ]
                      },
                      {
                        "iteration": 114,
                        "learn": [
                          0.5498314536
                        ],
                        "passed_time": 18.34702994,
                        "remaining_time": 61.42266546,
                        "test": [
                          0.5908521069,
                          0.5632704304
                        ]
                      },
                      {
                        "iteration": 115,
                        "learn": [
                          0.5495145461
                        ],
                        "passed_time": 18.45829708,
                        "remaining_time": 61.10332827,
                        "test": [
                          0.5911383878,
                          0.5632058367
                        ]
                      },
                      {
                        "iteration": 116,
                        "learn": [
                          0.549182356
                        ],
                        "passed_time": 18.54977686,
                        "remaining_time": 60.72277381,
                        "test": [
                          0.5919018038,
                          0.5630538475
                        ]
                      },
                      {
                        "iteration": 117,
                        "learn": [
                          0.5489760041
                        ],
                        "passed_time": 18.66196043,
                        "remaining_time": 60.4141431,
                        "test": [
                          0.5921300801,
                          0.5629814531
                        ]
                      },
                      {
                        "iteration": 118,
                        "learn": [
                          0.548700664
                        ],
                        "passed_time": 18.78101134,
                        "remaining_time": 60.13080101,
                        "test": [
                          0.5921300801,
                          0.5629987643
                        ]
                      },
                      {
                        "iteration": 119,
                        "learn": [
                          0.5484665398
                        ],
                        "passed_time": 18.89381665,
                        "remaining_time": 59.83041938,
                        "test": [
                          0.5920889155,
                          0.5629984416
                        ]
                      },
                      {
                        "iteration": 120,
                        "learn": [
                          0.5481028982
                        ],
                        "passed_time": 19.05849445,
                        "remaining_time": 59.69561484,
                        "test": [
                          0.5922853828,
                          0.5629625989
                        ]
                      },
                      {
                        "iteration": 121,
                        "learn": [
                          0.5478707673
                        ],
                        "passed_time": 19.18519988,
                        "remaining_time": 59.44266848,
                        "test": [
                          0.5930188609,
                          0.5628554989
                        ]
                      },
                      {
                        "iteration": 122,
                        "learn": [
                          0.5476928551
                        ],
                        "passed_time": 19.33136827,
                        "remaining_time": 59.25142957,
                        "test": [
                          0.5932770751,
                          0.5628471214
                        ]
                      },
                      {
                        "iteration": 123,
                        "learn": [
                          0.5472936427
                        ],
                        "passed_time": 19.51436547,
                        "remaining_time": 59.17259209,
                        "test": [
                          0.5925623082,
                          0.562930491
                        ]
                      },
                      {
                        "iteration": 124,
                        "learn": [
                          0.5468582872
                        ],
                        "passed_time": 19.79380781,
                        "remaining_time": 59.38142344,
                        "test": [
                          0.5932808173,
                          0.5628142278
                        ]
                      },
                      {
                        "iteration": 125,
                        "learn": [
                          0.5464969299
                        ],
                        "passed_time": 20.00450522,
                        "remaining_time": 59.37845201,
                        "test": [
                          0.5927737445,
                          0.5628537279
                        ]
                      },
                      {
                        "iteration": 126,
                        "learn": [
                          0.5463451592
                        ],
                        "passed_time": 20.18113245,
                        "remaining_time": 59.2721449,
                        "test": [
                          0.5929720829,
                          0.5628040062
                        ]
                      },
                      {
                        "iteration": 127,
                        "learn": [
                          0.5461003904
                        ],
                        "passed_time": 20.49309196,
                        "remaining_time": 59.55804851,
                        "test": [
                          0.593228426,
                          0.5627351169
                        ]
                      },
                      {
                        "iteration": 128,
                        "learn": [
                          0.54583919
                        ],
                        "passed_time": 20.72062862,
                        "remaining_time": 59.59188542,
                        "test": [
                          0.5938720904,
                          0.5626618308
                        ]
                      },
                      {
                        "iteration": 129,
                        "learn": [
                          0.5455496289
                        ],
                        "passed_time": 20.88817763,
                        "remaining_time": 59.4509671,
                        "test": [
                          0.5935016092,
                          0.5627544247
                        ]
                      },
                      {
                        "iteration": 130,
                        "learn": [
                          0.5452720781
                        ],
                        "passed_time": 21.0601346,
                        "remaining_time": 59.32205852,
                        "test": [
                          0.5932826884,
                          0.5627559347
                        ]
                      },
                      {
                        "iteration": 131,
                        "learn": [
                          0.5450035397
                        ],
                        "passed_time": 21.24173086,
                        "remaining_time": 59.21937087,
                        "test": [
                          0.5929215628,
                          0.5628384907
                        ]
                      },
                      {
                        "iteration": 132,
                        "learn": [
                          0.5447916261
                        ],
                        "passed_time": 21.38820314,
                        "remaining_time": 59.01857558,
                        "test": [
                          0.5926371529,
                          0.5628611415
                        ]
                      },
                      {
                        "iteration": 133,
                        "learn": [
                          0.5445547304
                        ],
                        "passed_time": 21.51953623,
                        "remaining_time": 58.77724074,
                        "test": [
                          0.5924986902,
                          0.5628780939
                        ]
                      },
                      {
                        "iteration": 134,
                        "learn": [
                          0.544179378
                        ],
                        "passed_time": 21.64346704,
                        "remaining_time": 58.51752199,
                        "test": [
                          0.5914695756,
                          0.563095367
                        ]
                      },
                      {
                        "iteration": 135,
                        "learn": [
                          0.5439122508
                        ],
                        "passed_time": 21.7817026,
                        "remaining_time": 58.29808638,
                        "test": [
                          0.5914864157,
                          0.5631050888
                        ]
                      },
                      {
                        "iteration": 136,
                        "learn": [
                          0.5434496362
                        ],
                        "passed_time": 21.95910957,
                        "remaining_time": 58.18362609,
                        "test": [
                          0.591157099,
                          0.5632018893
                        ]
                      },
                      {
                        "iteration": 137,
                        "learn": [
                          0.5430982157
                        ],
                        "passed_time": 22.15182669,
                        "remaining_time": 58.10841494,
                        "test": [
                          0.5907856822,
                          0.5632732864
                        ]
                      },
                      {
                        "iteration": 138,
                        "learn": [
                          0.5428126753
                        ],
                        "passed_time": 22.39384661,
                        "remaining_time": 58.15955846,
                        "test": [
                          0.5906939975,
                          0.563300032
                        ]
                      },
                      {
                        "iteration": 139,
                        "learn": [
                          0.542579776
                        ],
                        "passed_time": 22.63703961,
                        "remaining_time": 58.20953044,
                        "test": [
                          0.5907407754,
                          0.5632204306
                        ]
                      },
                      {
                        "iteration": 140,
                        "learn": [
                          0.5423260749
                        ],
                        "passed_time": 22.75173789,
                        "remaining_time": 57.9281837,
                        "test": [
                          0.5905443081,
                          0.5632956588
                        ]
                      },
                      {
                        "iteration": 141,
                        "learn": [
                          0.5418734712
                        ],
                        "passed_time": 22.81884402,
                        "remaining_time": 57.52919829,
                        "test": [
                          0.5906434773,
                          0.5633320744
                        ]
                      },
                      {
                        "iteration": 142,
                        "learn": [
                          0.5417791878
                        ],
                        "passed_time": 22.8880876,
                        "remaining_time": 57.14019071,
                        "test": [
                          0.5908511713,
                          0.5633066323
                        ]
                      },
                      {
                        "iteration": 143,
                        "learn": [
                          0.5415667441
                        ],
                        "passed_time": 22.96269227,
                        "remaining_time": 56.76887812,
                        "test": [
                          0.5902542849,
                          0.5634714602
                        ]
                      },
                      {
                        "iteration": 144,
                        "learn": [
                          0.5414538866
                        ],
                        "passed_time": 23.03416738,
                        "remaining_time": 56.393996,
                        "test": [
                          0.5905892149,
                          0.5634416897
                        ]
                      },
                      {
                        "iteration": 145,
                        "learn": [
                          0.5413064882
                        ],
                        "passed_time": 23.11070561,
                        "remaining_time": 56.03554648,
                        "test": [
                          0.5907108375,
                          0.5634195939
                        ]
                      },
                      {
                        "iteration": 146,
                        "learn": [
                          0.5409556406
                        ],
                        "passed_time": 23.1746902,
                        "remaining_time": 55.65078666,
                        "test": [
                          0.5904133298,
                          0.5634435633
                        ]
                      },
                      {
                        "iteration": 147,
                        "learn": [
                          0.5406751952
                        ],
                        "passed_time": 23.23545814,
                        "remaining_time": 55.26271125,
                        "test": [
                          0.5901120799,
                          0.5635641269
                        ]
                      },
                      {
                        "iteration": 148,
                        "learn": [
                          0.5403473806
                        ],
                        "passed_time": 23.29810618,
                        "remaining_time": 54.88345819,
                        "test": [
                          0.5892551082,
                          0.5637372792
                        ]
                      },
                      {
                        "iteration": 149,
                        "learn": [
                          0.5401054926
                        ],
                        "passed_time": 23.36324249,
                        "remaining_time": 54.51423249,
                        "test": [
                          0.5891428411,
                          0.563736294
                        ]
                      },
                      {
                        "iteration": 150,
                        "learn": [
                          0.5397877627
                        ],
                        "passed_time": 23.43477188,
                        "remaining_time": 54.1638105,
                        "test": [
                          0.5894497044,
                          0.5636855031
                        ]
                      },
                      {
                        "iteration": 151,
                        "learn": [
                          0.5395503912
                        ],
                        "passed_time": 23.52645668,
                        "remaining_time": 53.86320346,
                        "test": [
                          0.5896686251,
                          0.5635979603
                        ]
                      },
                      {
                        "iteration": 152,
                        "learn": [
                          0.5394474427
                        ],
                        "passed_time": 23.60116248,
                        "remaining_time": 53.52681947,
                        "test": [
                          0.589651785,
                          0.5636128277
                        ]
                      },
                      {
                        "iteration": 153,
                        "learn": [
                          0.5392723164
                        ],
                        "passed_time": 23.66519956,
                        "remaining_time": 53.16986395,
                        "test": [
                          0.5897322431,
                          0.5635674074
                        ]
                      },
                      {
                        "iteration": 154,
                        "learn": [
                          0.5389368991
                        ],
                        "passed_time": 23.73455841,
                        "remaining_time": 52.82853323,
                        "test": [
                          0.5905405658,
                          0.5633881333
                        ]
                      },
                      {
                        "iteration": 155,
                        "learn": [
                          0.5385796384
                        ],
                        "passed_time": 23.80695686,
                        "remaining_time": 52.49739204,
                        "test": [
                          0.5912684305,
                          0.563226156
                        ]
                      },
                      {
                        "iteration": 156,
                        "learn": [
                          0.5383042525
                        ],
                        "passed_time": 23.87414011,
                        "remaining_time": 52.15815323,
                        "test": [
                          0.5915640671,
                          0.5631619254
                        ]
                      },
                      {
                        "iteration": 157,
                        "learn": [
                          0.538043289
                        ],
                        "passed_time": 23.94792859,
                        "remaining_time": 51.83665555,
                        "test": [
                          0.5917605344,
                          0.5631298285
                        ]
                      },
                      {
                        "iteration": 158,
                        "learn": [
                          0.5377632949
                        ],
                        "passed_time": 24.01995642,
                        "remaining_time": 51.51449773,
                        "test": [
                          0.5915322581,
                          0.5631912004
                        ]
                      },
                      {
                        "iteration": 159,
                        "learn": [
                          0.537443773
                        ],
                        "passed_time": 24.08855312,
                        "remaining_time": 51.18817538,
                        "test": [
                          0.5914162488,
                          0.5632185226
                        ]
                      },
                      {
                        "iteration": 160,
                        "learn": [
                          0.5372422421
                        ],
                        "passed_time": 24.15774044,
                        "remaining_time": 50.86629819,
                        "test": [
                          0.5917998279,
                          0.5632228934
                        ]
                      },
                      {
                        "iteration": 161,
                        "learn": [
                          0.5369656148
                        ],
                        "passed_time": 24.22760231,
                        "remaining_time": 50.54894802,
                        "test": [
                          0.5913675997,
                          0.5633233132
                        ]
                      },
                      {
                        "iteration": 162,
                        "learn": [
                          0.5366190904
                        ],
                        "passed_time": 24.3030036,
                        "remaining_time": 50.2460872,
                        "test": [
                          0.5916501385,
                          0.5632587504
                        ]
                      },
                      {
                        "iteration": 163,
                        "learn": [
                          0.5362603383
                        ],
                        "passed_time": 24.37114884,
                        "remaining_time": 49.9311342,
                        "test": [
                          0.5918671881,
                          0.5632240023
                        ]
                      },
                      {
                        "iteration": 164,
                        "learn": [
                          0.536070633
                        ],
                        "passed_time": 24.43948196,
                        "remaining_time": 49.61955427,
                        "test": [
                          0.5924172966,
                          0.563182613
                        ]
                      },
                      {
                        "iteration": 165,
                        "learn": [
                          0.5357883765
                        ],
                        "passed_time": 24.52341851,
                        "remaining_time": 49.3422999,
                        "test": [
                          0.5911861013,
                          0.5634164881
                        ]
                      },
                      {
                        "iteration": 166,
                        "learn": [
                          0.5355483793
                        ],
                        "passed_time": 24.60190638,
                        "remaining_time": 49.05649595,
                        "test": [
                          0.5907407754,
                          0.563549064
                        ]
                      },
                      {
                        "iteration": 167,
                        "learn": [
                          0.5352119657
                        ],
                        "passed_time": 24.67421454,
                        "remaining_time": 48.76094778,
                        "test": [
                          0.5907763266,
                          0.5635560775
                        ]
                      },
                      {
                        "iteration": 168,
                        "learn": [
                          0.5348829749
                        ],
                        "passed_time": 24.75344675,
                        "remaining_time": 48.4816028,
                        "test": [
                          0.5903459696,
                          0.5635362385
                        ]
                      },
                      {
                        "iteration": 169,
                        "learn": [
                          0.5345339434
                        ],
                        "passed_time": 24.82717878,
                        "remaining_time": 48.19393529,
                        "test": [
                          0.589253237,
                          0.5637865735
                        ]
                      },
                      {
                        "iteration": 170,
                        "learn": [
                          0.5341418995
                        ],
                        "passed_time": 24.89948505,
                        "remaining_time": 47.90602678,
                        "test": [
                          0.5891615523,
                          0.5638622964
                        ]
                      },
                      {
                        "iteration": 171,
                        "learn": [
                          0.5337261053
                        ],
                        "passed_time": 24.97330113,
                        "remaining_time": 47.62350448,
                        "test": [
                          0.5895975226,
                          0.56373597
                        ]
                      },
                      {
                        "iteration": 172,
                        "learn": [
                          0.5335127417
                        ],
                        "passed_time": 25.04362316,
                        "remaining_time": 47.3367906,
                        "test": [
                          0.5894740289,
                          0.5637808452
                        ]
                      },
                      {
                        "iteration": 173,
                        "learn": [
                          0.5332078013
                        ],
                        "passed_time": 25.11077681,
                        "remaining_time": 47.04662781,
                        "test": [
                          0.5890249607,
                          0.5639515453
                        ]
                      },
                      {
                        "iteration": 174,
                        "learn": [
                          0.5328888569
                        ],
                        "passed_time": 25.1747957,
                        "remaining_time": 46.75319201,
                        "test": [
                          0.5894366065,
                          0.5638157068
                        ]
                      },
                      {
                        "iteration": 175,
                        "learn": [
                          0.5326610952
                        ],
                        "passed_time": 25.24045103,
                        "remaining_time": 46.46537577,
                        "test": [
                          0.5902018936,
                          0.5636171642
                        ]
                      },
                      {
                        "iteration": 176,
                        "learn": [
                          0.5321721388
                        ],
                        "passed_time": 25.3091346,
                        "remaining_time": 46.1855959,
                        "test": [
                          0.5907332909,
                          0.5634617643
                        ]
                      },
                      {
                        "iteration": 177,
                        "learn": [
                          0.5319025194
                        ],
                        "passed_time": 25.37697631,
                        "remaining_time": 45.90666501,
                        "test": [
                          0.5906977397,
                          0.5635105503
                        ]
                      },
                      {
                        "iteration": 178,
                        "learn": [
                          0.5317217388
                        ],
                        "passed_time": 25.44247235,
                        "remaining_time": 45.62588617,
                        "test": [
                          0.5904544944,
                          0.5635761213
                        ]
                      },
                      {
                        "iteration": 179,
                        "learn": [
                          0.5312439285
                        ],
                        "passed_time": 25.51905581,
                        "remaining_time": 45.36721033,
                        "test": [
                          0.5899230971,
                          0.5637137411
                        ]
                      },
                      {
                        "iteration": 180,
                        "learn": [
                          0.530946206
                        ],
                        "passed_time": 25.58403883,
                        "remaining_time": 45.09010158,
                        "test": [
                          0.5898070878,
                          0.5637115163
                        ]
                      },
                      {
                        "iteration": 181,
                        "learn": [
                          0.530513708
                        ],
                        "passed_time": 25.65566344,
                        "remaining_time": 44.82692842,
                        "test": [
                          0.5892663349,
                          0.5638623034
                        ]
                      },
                      {
                        "iteration": 182,
                        "learn": [
                          0.5302288176
                        ],
                        "passed_time": 25.71798091,
                        "remaining_time": 44.5497265,
                        "test": [
                          0.5892962727,
                          0.5638976559
                        ]
                      },
                      {
                        "iteration": 183,
                        "learn": [
                          0.5299000262
                        ],
                        "passed_time": 25.79074463,
                        "remaining_time": 44.29280056,
                        "test": [
                          0.5895413891,
                          0.5638338208
                        ]
                      },
                      {
                        "iteration": 184,
                        "learn": [
                          0.5295933804
                        ],
                        "passed_time": 25.85720928,
                        "remaining_time": 44.02714012,
                        "test": [
                          0.5897247586,
                          0.5638542876
                        ]
                      },
                      {
                        "iteration": 185,
                        "learn": [
                          0.5292492102
                        ],
                        "passed_time": 25.9243393,
                        "remaining_time": 43.76474484,
                        "test": [
                          0.5897509543,
                          0.5639141761
                        ]
                      },
                      {
                        "iteration": 186,
                        "learn": [
                          0.5288475593
                        ],
                        "passed_time": 25.99292533,
                        "remaining_time": 43.50687502,
                        "test": [
                          0.5900072974,
                          0.5638880575
                        ]
                      },
                      {
                        "iteration": 187,
                        "learn": [
                          0.5282874517
                        ],
                        "passed_time": 26.05714174,
                        "remaining_time": 43.24376715,
                        "test": [
                          0.5900634309,
                          0.5639288456
                        ]
                      },
                      {
                        "iteration": 188,
                        "learn": [
                          0.5279697374
                        ],
                        "passed_time": 26.11889209,
                        "remaining_time": 42.97870603,
                        "test": [
                          0.5902617693,
                          0.5638994286
                        ]
                      },
                      {
                        "iteration": 189,
                        "learn": [
                          0.5276597822
                        ],
                        "passed_time": 26.18602452,
                        "remaining_time": 42.72456632,
                        "test": [
                          0.5906827708,
                          0.5638305067
                        ]
                      },
                      {
                        "iteration": 190,
                        "learn": [
                          0.5273926151
                        ],
                        "passed_time": 26.25603778,
                        "remaining_time": 42.47704542,
                        "test": [
                          0.5903702941,
                          0.5638754456
                        ]
                      },
                      {
                        "iteration": 191,
                        "learn": [
                          0.5271378177
                        ],
                        "passed_time": 26.32113237,
                        "remaining_time": 42.22348318,
                        "test": [
                          0.5904694634,
                          0.5638281526
                        ]
                      },
                      {
                        "iteration": 192,
                        "learn": [
                          0.5265552119
                        ],
                        "passed_time": 26.41460574,
                        "remaining_time": 42.01701535,
                        "test": [
                          0.5904825612,
                          0.5638418213
                        ]
                      },
                      {
                        "iteration": 193,
                        "learn": [
                          0.5262515139
                        ],
                        "passed_time": 26.47781255,
                        "remaining_time": 41.76397238,
                        "test": [
                          0.5906378639,
                          0.5638140737
                        ]
                      },
                      {
                        "iteration": 194,
                        "learn": [
                          0.5257400475
                        ],
                        "passed_time": 26.55648866,
                        "remaining_time": 41.53707201,
                        "test": [
                          0.5902692538,
                          0.5638889812
                        ]
                      },
                      {
                        "iteration": 195,
                        "learn": [
                          0.5251831788
                        ],
                        "passed_time": 26.62297763,
                        "remaining_time": 41.29278163,
                        "test": [
                          0.5906584462,
                          0.5637899829
                        ]
                      },
                      {
                        "iteration": 196,
                        "learn": [
                          0.5248939161
                        ],
                        "passed_time": 26.6867145,
                        "remaining_time": 41.04606342,
                        "test": [
                          0.5902224759,
                          0.5638956979
                        ]
                      },
                      {
                        "iteration": 197,
                        "learn": [
                          0.5245007877
                        ],
                        "passed_time": 26.75152972,
                        "remaining_time": 40.80283827,
                        "test": [
                          0.5905330814,
                          0.5638375011
                        ]
                      },
                      {
                        "iteration": 198,
                        "learn": [
                          0.5240448801
                        ],
                        "passed_time": 26.82713974,
                        "remaining_time": 40.57773399,
                        "test": [
                          0.5897023052,
                          0.5639788545
                        ]
                      },
                      {
                        "iteration": 199,
                        "learn": [
                          0.5237534142
                        ],
                        "passed_time": 26.88823986,
                        "remaining_time": 40.33235979,
                        "test": [
                          0.5900727865,
                          0.5638821113
                        ]
                      },
                      {
                        "iteration": 200,
                        "learn": [
                          0.5233588236
                        ],
                        "passed_time": 26.95302532,
                        "remaining_time": 40.09430135,
                        "test": [
                          0.5904039743,
                          0.5637493013
                        ]
                      },
                      {
                        "iteration": 201,
                        "learn": [
                          0.5231089774
                        ],
                        "passed_time": 27.01600963,
                        "remaining_time": 39.85530133,
                        "test": [
                          0.5910682209,
                          0.5635225696
                        ]
                      },
                      {
                        "iteration": 202,
                        "learn": [
                          0.5226276085
                        ],
                        "passed_time": 27.09060892,
                        "remaining_time": 39.63502882,
                        "test": [
                          0.5902954494,
                          0.5637234426
                        ]
                      },
                      {
                        "iteration": 203,
                        "learn": [
                          0.5223514382
                        ],
                        "passed_time": 27.21109901,
                        "remaining_time": 39.48277112,
                        "test": [
                          0.5906490906,
                          0.5637931298
                        ]
                      },
                      {
                        "iteration": 204,
                        "learn": [
                          0.5219457753
                        ],
                        "passed_time": 27.31932398,
                        "remaining_time": 39.31317353,
                        "test": [
                          0.5899904573,
                          0.5639561204
                        ]
                      },
                      {
                        "iteration": 205,
                        "learn": [
                          0.5215508341
                        ],
                        "passed_time": 27.44351138,
                        "remaining_time": 39.16695313,
                        "test": [
                          0.5898763191,
                          0.5639584682
                        ]
                      },
                      {
                        "iteration": 206,
                        "learn": [
                          0.5211608644
                        ],
                        "passed_time": 27.58462758,
                        "remaining_time": 39.04490763,
                        "test": [
                          0.5904619789,
                          0.563839298
                        ]
                      },
                      {
                        "iteration": 207,
                        "learn": [
                          0.5207093475
                        ],
                        "passed_time": 27.70555132,
                        "remaining_time": 38.89433166,
                        "test": [
                          0.5902991917,
                          0.5639302244
                        ]
                      },
                      {
                        "iteration": 208,
                        "learn": [
                          0.520332919
                        ],
                        "passed_time": 27.82659306,
                        "remaining_time": 38.74420373,
                        "test": [
                          0.5904021031,
                          0.5639477532
                        ]
                      },
                      {
                        "iteration": 209,
                        "learn": [
                          0.5199197766
                        ],
                        "passed_time": 27.95148696,
                        "remaining_time": 38.59967247,
                        "test": [
                          0.5902804805,
                          0.5640226527
                        ]
                      },
                      {
                        "iteration": 210,
                        "learn": [
                          0.5194438797
                        ],
                        "passed_time": 28.07713851,
                        "remaining_time": 38.45636507,
                        "test": [
                          0.5904526233,
                          0.5640092503
                        ]
                      },
                      {
                        "iteration": 211,
                        "learn": [
                          0.5192226706
                        ],
                        "passed_time": 28.19298315,
                        "remaining_time": 38.29990163,
                        "test": [
                          0.5908362024,
                          0.5639697489
                        ]
                      },
                      {
                        "iteration": 212,
                        "learn": [
                          0.5187274874
                        ],
                        "passed_time": 28.31928209,
                        "remaining_time": 38.15790591,
                        "test": [
                          0.5909709228,
                          0.5638806502
                        ]
                      },
                      {
                        "iteration": 213,
                        "learn": [
                          0.5183506259
                        ],
                        "passed_time": 28.46519345,
                        "remaining_time": 38.04226789,
                        "test": [
                          0.5915490981,
                          0.5637216335
                        ]
                      },
                      {
                        "iteration": 214,
                        "learn": [
                          0.5179036989
                        ],
                        "passed_time": 28.60384728,
                        "remaining_time": 37.91672779,
                        "test": [
                          0.5910644787,
                          0.5638116021
                        ]
                      },
                      {
                        "iteration": 215,
                        "learn": [
                          0.5174793022
                        ],
                        "passed_time": 28.72138732,
                        "remaining_time": 37.76330555,
                        "test": [
                          0.5914106354,
                          0.5637201343
                        ]
                      },
                      {
                        "iteration": 216,
                        "learn": [
                          0.5171694512
                        ],
                        "passed_time": 28.8452236,
                        "remaining_time": 37.61842524,
                        "test": [
                          0.5922395405,
                          0.5634833038
                        ]
                      },
                      {
                        "iteration": 217,
                        "learn": [
                          0.5168231456
                        ],
                        "passed_time": 28.95916542,
                        "remaining_time": 37.46093875,
                        "test": [
                          0.5926698975,
                          0.5633736474
                        ]
                      },
                      {
                        "iteration": 218,
                        "learn": [
                          0.5164744466
                        ],
                        "passed_time": 29.07859827,
                        "remaining_time": 37.3108955,
                        "test": [
                          0.5913694708,
                          0.5636011952
                        ]
                      },
                      {
                        "iteration": 219,
                        "learn": [
                          0.5160374675
                        ],
                        "passed_time": 29.19928028,
                        "remaining_time": 37.16272036,
                        "test": [
                          0.5914742534,
                          0.563576319
                        ]
                      },
                      {
                        "iteration": 220,
                        "learn": [
                          0.5154648321
                        ],
                        "passed_time": 29.30300212,
                        "remaining_time": 36.99338277,
                        "test": [
                          0.5906378639,
                          0.5636665523
                        ]
                      },
                      {
                        "iteration": 221,
                        "learn": [
                          0.5150180264
                        ],
                        "passed_time": 29.43079771,
                        "remaining_time": 36.85478272,
                        "test": [
                          0.5898501235,
                          0.5638382737
                        ]
                      },
                      {
                        "iteration": 222,
                        "learn": [
                          0.5144640548
                        ],
                        "passed_time": 29.55421431,
                        "remaining_time": 36.7108402,
                        "test": [
                          0.5885927326,
                          0.5642488399
                        ]
                      },
                      {
                        "iteration": 223,
                        "learn": [
                          0.5141041226
                        ],
                        "passed_time": 29.69004171,
                        "remaining_time": 36.58237283,
                        "test": [
                          0.5879528104,
                          0.5643305863
                        ]
                      },
                      {
                        "iteration": 224,
                        "learn": [
                          0.5136012533
                        ],
                        "passed_time": 29.81449597,
                        "remaining_time": 36.43993952,
                        "test": [
                          0.5887330664,
                          0.564046286
                        ]
                      },
                      {
                        "iteration": 225,
                        "learn": [
                          0.5131224634
                        ],
                        "passed_time": 29.93403396,
                        "remaining_time": 36.29170489,
                        "test": [
                          0.5889837961,
                          0.5639702849
                        ]
                      },
                      {
                        "iteration": 226,
                        "learn": [
                          0.5127138689
                        ],
                        "passed_time": 30.06062695,
                        "remaining_time": 36.15220774,
                        "test": [
                          0.5882521892,
                          0.564121884
                        ]
                      },
                      {
                        "iteration": 227,
                        "learn": [
                          0.5123583675
                        ],
                        "passed_time": 30.18532404,
                        "remaining_time": 36.01056201,
                        "test": [
                          0.5881829579,
                          0.5641035796
                        ]
                      },
                      {
                        "iteration": 228,
                        "learn": [
                          0.5118603479
                        ],
                        "passed_time": 30.30831416,
                        "remaining_time": 35.86704427,
                        "test": [
                          0.5882035402,
                          0.56412658
                        ]
                      },
                      {
                        "iteration": 229,
                        "learn": [
                          0.5114631896
                        ],
                        "passed_time": 30.42492966,
                        "remaining_time": 35.71622178,
                        "test": [
                          0.5879322281,
                          0.5642462301
                        ]
                      },
                      {
                        "iteration": 230,
                        "learn": [
                          0.5111559124
                        ],
                        "passed_time": 30.54637051,
                        "remaining_time": 35.57131458,
                        "test": [
                          0.5883532295,
                          0.5641811993
                        ]
                      },
                      {
                        "iteration": 231,
                        "learn": [
                          0.5109380558
                        ],
                        "passed_time": 30.67258562,
                        "remaining_time": 35.43212477,
                        "test": [
                          0.5883700696,
                          0.5641678337
                        ]
                      },
                      {
                        "iteration": 232,
                        "learn": [
                          0.5105110648
                        ],
                        "passed_time": 30.79516764,
                        "remaining_time": 35.28888309,
                        "test": [
                          0.5884654966,
                          0.5641709816
                        ]
                      },
                      {
                        "iteration": 233,
                        "learn": [
                          0.5098950605
                        ],
                        "passed_time": 30.9199822,
                        "remaining_time": 35.14835584,
                        "test": [
                          0.5893598907,
                          0.5638836969
                        ]
                      },
                      {
                        "iteration": 234,
                        "learn": [
                          0.5093951454
                        ],
                        "passed_time": 31.02786847,
                        "remaining_time": 34.98887296,
                        "test": [
                          0.5893748597,
                          0.5639128765
                        ]
                      },
                      {
                        "iteration": 235,
                        "learn": [
                          0.5089872998
                        ],
                        "passed_time": 31.09358978,
                        "remaining_time": 34.78265976,
                        "test": [
                          0.5900765287,
                          0.563716813
                        ]
                      },
                      {
                        "iteration": 236,
                        "learn": [
                          0.5086589209
                        ],
                        "passed_time": 31.15420733,
                        "remaining_time": 34.57196848,
                        "test": [
                          0.5899118704,
                          0.563839627
                        ]
                      },
                      {
                        "iteration": 237,
                        "learn": [
                          0.508218146
                        ],
                        "passed_time": 31.21829247,
                        "remaining_time": 34.36635558,
                        "test": [
                          0.5887480353,
                          0.5640869099
                        ]
                      },
                      {
                        "iteration": 238,
                        "learn": [
                          0.5075680634
                        ],
                        "passed_time": 31.28368285,
                        "remaining_time": 34.1633524,
                        "test": [
                          0.5893916997,
                          0.5639537092
                        ]
                      },
                      {
                        "iteration": 239,
                        "learn": [
                          0.5070742206
                        ],
                        "passed_time": 31.35420374,
                        "remaining_time": 33.96705405,
                        "test": [
                          0.5897752788,
                          0.5638807011
                        ]
                      },
                      {
                        "iteration": 240,
                        "learn": [
                          0.5067089379
                        ],
                        "passed_time": 31.42223068,
                        "remaining_time": 33.76911928,
                        "test": [
                          0.590862398,
                          0.5636500437
                        ]
                      },
                      {
                        "iteration": 241,
                        "learn": [
                          0.506225367
                        ],
                        "passed_time": 31.49066206,
                        "remaining_time": 33.5726893,
                        "test": [
                          0.5906584462,
                          0.5637681202
                        ]
                      },
                      {
                        "iteration": 242,
                        "learn": [
                          0.5056316356
                        ],
                        "passed_time": 31.55767495,
                        "remaining_time": 33.3758126,
                        "test": [
                          0.5914087643,
                          0.5634949916
                        ]
                      },
                      {
                        "iteration": 243,
                        "learn": [
                          0.5051942757
                        ],
                        "passed_time": 31.62946221,
                        "remaining_time": 33.18500953,
                        "test": [
                          0.5916838186,
                          0.5634937576
                        ]
                      },
                      {
                        "iteration": 244,
                        "learn": [
                          0.5047493644
                        ],
                        "passed_time": 31.70599927,
                        "remaining_time": 33.00012169,
                        "test": [
                          0.5915528404,
                          0.563512572
                        ]
                      },
                      {
                        "iteration": 245,
                        "learn": [
                          0.5044254132
                        ],
                        "passed_time": 31.77511302,
                        "remaining_time": 32.80845003,
                        "test": [
                          0.591610845,
                          0.5635853161
                        ]
                      },
                      {
                        "iteration": 246,
                        "learn": [
                          0.5039963695
                        ],
                        "passed_time": 31.84009454,
                        "remaining_time": 32.61353813,
                        "test": [
                          0.5914181199,
                          0.5636314296
                        ]
                      },
                      {
                        "iteration": 247,
                        "learn": [
                          0.5036229495
                        ],
                        "passed_time": 31.90303912,
                        "remaining_time": 32.41760427,
                        "test": [
                          0.5917399521,
                          0.5635112284
                        ]
                      },
                      {
                        "iteration": 248,
                        "learn": [
                          0.5033310356
                        ],
                        "passed_time": 31.97410191,
                        "remaining_time": 32.23092201,
                        "test": [
                          0.5914518,
                          0.5635603838
                        ]
                      },
                      {
                        "iteration": 249,
                        "learn": [
                          0.5028088209
                        ],
                        "passed_time": 32.04836712,
                        "remaining_time": 32.04836712,
                        "test": [
                          0.5919345483,
                          0.5634029774
                        ]
                      },
                      {
                        "iteration": 250,
                        "learn": [
                          0.5023561002
                        ],
                        "passed_time": 32.11816945,
                        "remaining_time": 31.86224778,
                        "test": [
                          0.5918634458,
                          0.5633882204
                        ]
                      },
                      {
                        "iteration": 251,
                        "learn": [
                          0.5020682368
                        ],
                        "passed_time": 32.18132256,
                        "remaining_time": 31.67050792,
                        "test": [
                          0.5920262331,
                          0.5633734009
                        ]
                      },
                      {
                        "iteration": 252,
                        "learn": [
                          0.5017774075
                        ],
                        "passed_time": 32.25750802,
                        "remaining_time": 31.49250783,
                        "test": [
                          0.5923012873,
                          0.5633142535
                        ]
                      },
                      {
                        "iteration": 253,
                        "learn": [
                          0.5014719912
                        ],
                        "passed_time": 32.32394903,
                        "remaining_time": 31.30587189,
                        "test": [
                          0.5924210388,
                          0.5632716038
                        ]
                      },
                      {
                        "iteration": 254,
                        "learn": [
                          0.5009706215
                        ],
                        "passed_time": 32.39207476,
                        "remaining_time": 31.12179731,
                        "test": [
                          0.5927784223,
                          0.5632174626
                        ]
                      },
                      {
                        "iteration": 255,
                        "learn": [
                          0.5006146678
                        ],
                        "passed_time": 32.45627306,
                        "remaining_time": 30.93488526,
                        "test": [
                          0.5925202081,
                          0.5633553586
                        ]
                      },
                      {
                        "iteration": 256,
                        "learn": [
                          0.5003514511
                        ],
                        "passed_time": 32.5203449,
                        "remaining_time": 30.7488086,
                        "test": [
                          0.5926867375,
                          0.5633139776
                        ]
                      },
                      {
                        "iteration": 257,
                        "learn": [
                          0.499711652
                        ],
                        "passed_time": 32.58481781,
                        "remaining_time": 30.56405392,
                        "test": [
                          0.5923031584,
                          0.5634772918
                        ]
                      },
                      {
                        "iteration": 258,
                        "learn": [
                          0.4993180754
                        ],
                        "passed_time": 32.6679375,
                        "remaining_time": 30.39757891,
                        "test": [
                          0.5923948432,
                          0.5634923812
                        ]
                      },
                      {
                        "iteration": 259,
                        "learn": [
                          0.4988783664
                        ],
                        "passed_time": 32.73288179,
                        "remaining_time": 30.21496781,
                        "test": [
                          0.5919251927,
                          0.5637058361
                        ]
                      },
                      {
                        "iteration": 260,
                        "learn": [
                          0.4983921556
                        ],
                        "passed_time": 32.79997441,
                        "remaining_time": 30.03522561,
                        "test": [
                          0.5926455729,
                          0.5635698194
                        ]
                      },
                      {
                        "iteration": 261,
                        "learn": [
                          0.4980009135
                        ],
                        "passed_time": 32.88993242,
                        "remaining_time": 29.87711418,
                        "test": [
                          0.5926062795,
                          0.5635571034
                        ]
                      },
                      {
                        "iteration": 262,
                        "learn": [
                          0.4976974599
                        ],
                        "passed_time": 32.95693279,
                        "remaining_time": 29.69883297,
                        "test": [
                          0.5927297732,
                          0.5634961052
                        ]
                      },
                      {
                        "iteration": 263,
                        "learn": [
                          0.4971385765
                        ],
                        "passed_time": 33.03259319,
                        "remaining_time": 29.52913634,
                        "test": [
                          0.5927073198,
                          0.5634766506
                        ]
                      },
                      {
                        "iteration": 264,
                        "learn": [
                          0.4966951406
                        ],
                        "passed_time": 33.10120514,
                        "remaining_time": 29.3538989,
                        "test": [
                          0.5931769703,
                          0.5633656846
                        ]
                      },
                      {
                        "iteration": 265,
                        "learn": [
                          0.4963508454
                        ],
                        "passed_time": 33.16826071,
                        "remaining_time": 29.17809401,
                        "test": [
                          0.5936597186,
                          0.5632500804
                        ]
                      },
                      {
                        "iteration": 266,
                        "learn": [
                          0.4959796277
                        ],
                        "passed_time": 33.23160624,
                        "remaining_time": 28.99986612,
                        "test": [
                          0.5942154405,
                          0.5631221167
                        ]
                      },
                      {
                        "iteration": 267,
                        "learn": [
                          0.4957078153
                        ],
                        "passed_time": 33.29566237,
                        "remaining_time": 28.82311071,
                        "test": [
                          0.5942865429,
                          0.5630652393
                        ]
                      },
                      {
                        "iteration": 268,
                        "learn": [
                          0.4953308182
                        ],
                        "passed_time": 33.35922276,
                        "remaining_time": 28.6467675,
                        "test": [
                          0.5945185615,
                          0.5630401836
                        ]
                      },
                      {
                        "iteration": 269,
                        "learn": [
                          0.495014421
                        ],
                        "passed_time": 33.4271873,
                        "remaining_time": 28.4750114,
                        "test": [
                          0.594430619,
                          0.5630937169
                        ]
                      },
                      {
                        "iteration": 270,
                        "learn": [
                          0.4948177353
                        ],
                        "passed_time": 33.49237397,
                        "remaining_time": 28.30167395,
                        "test": [
                          0.5945017214,
                          0.5631260756
                        ]
                      },
                      {
                        "iteration": 271,
                        "learn": [
                          0.4945943393
                        ],
                        "passed_time": 33.55574696,
                        "remaining_time": 28.12761143,
                        "test": [
                          0.594765549,
                          0.5630933578
                        ]
                      },
                      {
                        "iteration": 272,
                        "learn": [
                          0.4942257276
                        ],
                        "passed_time": 33.63454839,
                        "remaining_time": 27.96718859,
                        "test": [
                          0.5948740738,
                          0.5630611553
                        ]
                      },
                      {
                        "iteration": 273,
                        "learn": [
                          0.4939270537
                        ],
                        "passed_time": 33.71260809,
                        "remaining_time": 27.80674974,
                        "test": [
                          0.5951472569,
                          0.563036828
                        ]
                      },
                      {
                        "iteration": 274,
                        "learn": [
                          0.4935032404
                        ],
                        "passed_time": 33.77722962,
                        "remaining_time": 27.63591514,
                        "test": [
                          0.5953586932,
                          0.563056483
                        ]
                      },
                      {
                        "iteration": 275,
                        "learn": [
                          0.4931140637
                        ],
                        "passed_time": 33.84725191,
                        "remaining_time": 27.47023344,
                        "test": [
                          0.5961071402,
                          0.5628890266
                        ]
                      },
                      {
                        "iteration": 276,
                        "learn": [
                          0.492645121
                        ],
                        "passed_time": 33.91317815,
                        "remaining_time": 27.30194486,
                        "test": [
                          0.5966759599,
                          0.5627431388
                        ]
                      },
                      {
                        "iteration": 277,
                        "learn": [
                          0.4922214942
                        ],
                        "passed_time": 33.98862561,
                        "remaining_time": 27.14199599,
                        "test": [
                          0.5970688945,
                          0.5626203004
                        ]
                      },
                      {
                        "iteration": 278,
                        "learn": [
                          0.4916564614
                        ],
                        "passed_time": 34.06906747,
                        "remaining_time": 26.986609,
                        "test": [
                          0.5962774119,
                          0.5627862643
                        ]
                      },
                      {
                        "iteration": 279,
                        "learn": [
                          0.491254138
                        ],
                        "passed_time": 34.14057873,
                        "remaining_time": 26.82474043,
                        "test": [
                          0.5966179552,
                          0.5626350665
                        ]
                      },
                      {
                        "iteration": 280,
                        "learn": [
                          0.4910203272
                        ],
                        "passed_time": 34.20627666,
                        "remaining_time": 26.6589843,
                        "test": [
                          0.5967994536,
                          0.5625973579
                        ]
                      },
                      {
                        "iteration": 281,
                        "learn": [
                          0.4906535296
                        ],
                        "passed_time": 34.29885545,
                        "remaining_time": 26.51471804,
                        "test": [
                          0.5967283512,
                          0.5625359649
                        ]
                      },
                      {
                        "iteration": 282,
                        "learn": [
                          0.490329598
                        ],
                        "passed_time": 34.36601372,
                        "remaining_time": 26.35132501,
                        "test": [
                          0.5967639024,
                          0.562484018
                        ]
                      },
                      {
                        "iteration": 283,
                        "learn": [
                          0.4900791224
                        ],
                        "passed_time": 34.42919413,
                        "remaining_time": 26.18558427,
                        "test": [
                          0.5967264801,
                          0.5624802705
                        ]
                      },
                      {
                        "iteration": 284,
                        "learn": [
                          0.4896655697
                        ],
                        "passed_time": 34.49869553,
                        "remaining_time": 26.02533172,
                        "test": [
                          0.596773258,
                          0.5624708794
                        ]
                      },
                      {
                        "iteration": 285,
                        "learn": [
                          0.4892332487
                        ],
                        "passed_time": 34.56891524,
                        "remaining_time": 25.86625127,
                        "test": [
                          0.5963690966,
                          0.5626393118
                        ]
                      },
                      {
                        "iteration": 286,
                        "learn": [
                          0.4890160233
                        ],
                        "passed_time": 34.63518962,
                        "remaining_time": 25.70486198,
                        "test": [
                          0.5962399895,
                          0.5627304312
                        ]
                      },
                      {
                        "iteration": 287,
                        "learn": [
                          0.4888018373
                        ],
                        "passed_time": 34.71576639,
                        "remaining_time": 25.55466137,
                        "test": [
                          0.596071589,
                          0.5627541784
                        ]
                      },
                      {
                        "iteration": 288,
                        "learn": [
                          0.4883380313
                        ],
                        "passed_time": 34.78097287,
                        "remaining_time": 25.39372067,
                        "test": [
                          0.5960435222,
                          0.5628688179
                        ]
                      },
                      {
                        "iteration": 289,
                        "learn": [
                          0.4878496138
                        ],
                        "passed_time": 34.84665507,
                        "remaining_time": 25.23378471,
                        "test": [
                          0.59572169,
                          0.5629604967
                        ]
                      },
                      {
                        "iteration": 290,
                        "learn": [
                          0.4873801536
                        ],
                        "passed_time": 34.9156232,
                        "remaining_time": 25.07685652,
                        "test": [
                          0.5959836464,
                          0.5629503963
                        ]
                      },
                      {
                        "iteration": 291,
                        "learn": [
                          0.4871180902
                        ],
                        "passed_time": 34.98274591,
                        "remaining_time": 24.91921627,
                        "test": [
                          0.5960996557,
                          0.5629246765
                        ]
                      },
                      {
                        "iteration": 292,
                        "learn": [
                          0.4868724903
                        ],
                        "passed_time": 35.05069952,
                        "remaining_time": 24.76278089,
                        "test": [
                          0.5966067285,
                          0.562793526
                        ]
                      },
                      {
                        "iteration": 293,
                        "learn": [
                          0.4865970221
                        ],
                        "passed_time": 35.11973278,
                        "remaining_time": 24.60770392,
                        "test": [
                          0.5961408203,
                          0.5630540955
                        ]
                      },
                      {
                        "iteration": 294,
                        "learn": [
                          0.4862176675
                        ],
                        "passed_time": 35.18931833,
                        "remaining_time": 24.4535941,
                        "test": [
                          0.5960472644,
                          0.5630814964
                        ]
                      },
                      {
                        "iteration": 295,
                        "learn": [
                          0.4857678828
                        ],
                        "passed_time": 35.25857195,
                        "remaining_time": 24.29982662,
                        "test": [
                          0.5962081805,
                          0.5628769277
                        ]
                      },
                      {
                        "iteration": 296,
                        "learn": [
                          0.4853585877
                        ],
                        "passed_time": 35.32185684,
                        "remaining_time": 24.14254862,
                        "test": [
                          0.5954878003,
                          0.5630100887
                        ]
                      },
                      {
                        "iteration": 297,
                        "learn": [
                          0.4850459417
                        ],
                        "passed_time": 35.38861581,
                        "remaining_time": 23.98825636,
                        "test": [
                          0.5953175286,
                          0.563056905
                        ]
                      },
                      {
                        "iteration": 298,
                        "learn": [
                          0.484688404
                        ],
                        "passed_time": 35.45277135,
                        "remaining_time": 23.83279947,
                        "test": [
                          0.5955420627,
                          0.5630196284
                        ]
                      },
                      {
                        "iteration": 299,
                        "learn": [
                          0.4843775112
                        ],
                        "passed_time": 35.51582442,
                        "remaining_time": 23.67721628,
                        "test": [
                          0.5959387396,
                          0.5629589612
                        ]
                      },
                      {
                        "iteration": 300,
                        "learn": [
                          0.4840234995
                        ],
                        "passed_time": 35.58076573,
                        "remaining_time": 23.52349628,
                        "test": [
                          0.5952576529,
                          0.5631064031
                        ]
                      },
                      {
                        "iteration": 301,
                        "learn": [
                          0.4834719001
                        ],
                        "passed_time": 35.64637528,
                        "remaining_time": 23.37080234,
                        "test": [
                          0.5954372801,
                          0.5630846122
                        ]
                      },
                      {
                        "iteration": 302,
                        "learn": [
                          0.4832767464
                        ],
                        "passed_time": 35.72300495,
                        "remaining_time": 23.2258481,
                        "test": [
                          0.5953100442,
                          0.5632020083
                        ]
                      },
                      {
                        "iteration": 303,
                        "learn": [
                          0.4830471527
                        ],
                        "passed_time": 35.78757008,
                        "remaining_time": 23.07356492,
                        "test": [
                          0.5949713719,
                          0.5633627243
                        ]
                      },
                      {
                        "iteration": 304,
                        "learn": [
                          0.4828481952
                        ],
                        "passed_time": 35.84966947,
                        "remaining_time": 22.92028048,
                        "test": [
                          0.595020021,
                          0.5633521357
                        ]
                      },
                      {
                        "iteration": 305,
                        "learn": [
                          0.48252437
                        ],
                        "passed_time": 35.91418284,
                        "remaining_time": 22.76912245,
                        "test": [
                          0.5947243844,
                          0.5634891268
                        ]
                      },
                      {
                        "iteration": 306,
                        "learn": [
                          0.4821058295
                        ],
                        "passed_time": 35.98032137,
                        "remaining_time": 22.61955057,
                        "test": [
                          0.5956599431,
                          0.5631612132
                        ]
                      },
                      {
                        "iteration": 307,
                        "learn": [
                          0.4817399842
                        ],
                        "passed_time": 36.04482955,
                        "remaining_time": 22.46950413,
                        "test": [
                          0.5953137864,
                          0.5633156404
                        ]
                      },
                      {
                        "iteration": 308,
                        "learn": [
                          0.4813767803
                        ],
                        "passed_time": 36.11704758,
                        "remaining_time": 22.32477698,
                        "test": [
                          0.5951509992,
                          0.5633772689
                        ]
                      },
                      {
                        "iteration": 309,
                        "learn": [
                          0.4810154774
                        ],
                        "passed_time": 36.18040249,
                        "remaining_time": 22.1750854,
                        "test": [
                          0.5955027693,
                          0.5633687162
                        ]
                      },
                      {
                        "iteration": 310,
                        "learn": [
                          0.4805640998
                        ],
                        "passed_time": 36.24260999,
                        "remaining_time": 22.02525173,
                        "test": [
                          0.5951884215,
                          0.5635481079
                        ]
                      },
                      {
                        "iteration": 311,
                        "learn": [
                          0.4801369785
                        ],
                        "passed_time": 36.30887068,
                        "remaining_time": 21.87842208,
                        "test": [
                          0.5952894619,
                          0.5634635689
                        ]
                      },
                      {
                        "iteration": 312,
                        "learn": [
                          0.4797860721
                        ],
                        "passed_time": 36.37774138,
                        "remaining_time": 21.73366657,
                        "test": [
                          0.5951304169,
                          0.5634801894
                        ]
                      },
                      {
                        "iteration": 313,
                        "learn": [
                          0.4795803117
                        ],
                        "passed_time": 36.43972692,
                        "remaining_time": 21.58531595,
                        "test": [
                          0.5952015193,
                          0.5634176027
                        ]
                      },
                      {
                        "iteration": 314,
                        "learn": [
                          0.4791244034
                        ],
                        "passed_time": 36.5054812,
                        "remaining_time": 21.43972705,
                        "test": [
                          0.5946850909,
                          0.5636311012
                        ]
                      },
                      {
                        "iteration": 315,
                        "learn": [
                          0.4785773794
                        ],
                        "passed_time": 36.56973266,
                        "remaining_time": 21.29376839,
                        "test": [
                          0.5941724048,
                          0.563796558
                        ]
                      },
                      {
                        "iteration": 316,
                        "learn": [
                          0.4781172737
                        ],
                        "passed_time": 36.63666067,
                        "remaining_time": 21.14987035,
                        "test": [
                          0.5941424669,
                          0.5637832415
                        ]
                      },
                      {
                        "iteration": 317,
                        "learn": [
                          0.4776275981
                        ],
                        "passed_time": 36.71803818,
                        "remaining_time": 21.01472625,
                        "test": [
                          0.5934314423,
                          0.5640322847
                        ]
                      },
                      {
                        "iteration": 318,
                        "learn": [
                          0.4772446706
                        ],
                        "passed_time": 36.78556488,
                        "remaining_time": 20.87206032,
                        "test": [
                          0.5928102313,
                          0.5640743574
                        ]
                      },
                      {
                        "iteration": 319,
                        "learn": [
                          0.4768029487
                        ],
                        "passed_time": 36.85041468,
                        "remaining_time": 20.72835825,
                        "test": [
                          0.5924809146,
                          0.5641535279
                        ]
                      },
                      {
                        "iteration": 320,
                        "learn": [
                          0.4764539044
                        ],
                        "passed_time": 36.91373103,
                        "remaining_time": 20.58429238,
                        "test": [
                          0.5929767607,
                          0.564032042
                        ]
                      },
                      {
                        "iteration": 321,
                        "learn": [
                          0.4760799741
                        ],
                        "passed_time": 36.9793982,
                        "remaining_time": 20.44202758,
                        "test": [
                          0.5926661552,
                          0.5641014108
                        ]
                      },
                      {
                        "iteration": 322,
                        "learn": [
                          0.4756547487
                        ],
                        "passed_time": 37.04742596,
                        "remaining_time": 20.30153063,
                        "test": [
                          0.5929674051,
                          0.5640540126
                        ]
                      },
                      {
                        "iteration": 323,
                        "learn": [
                          0.4752406975
                        ],
                        "passed_time": 37.12478576,
                        "remaining_time": 20.16655029,
                        "test": [
                          0.5924753012,
                          0.5642336727
                        ]
                      },
                      {
                        "iteration": 324,
                        "learn": [
                          0.4748030274
                        ],
                        "passed_time": 37.18777669,
                        "remaining_time": 20.02418745,
                        "test": [
                          0.593220006,
                          0.5640010607
                        ]
                      },
                      {
                        "iteration": 325,
                        "learn": [
                          0.4745180253
                        ],
                        "passed_time": 37.24656249,
                        "remaining_time": 19.88006709,
                        "test": [
                          0.5936933987,
                          0.5638578981
                        ]
                      },
                      {
                        "iteration": 326,
                        "learn": [
                          0.4741419502
                        ],
                        "passed_time": 37.3169584,
                        "remaining_time": 19.74261102,
                        "test": [
                          0.5927129332,
                          0.5641305102
                        ]
                      },
                      {
                        "iteration": 327,
                        "learn": [
                          0.4737538364
                        ],
                        "passed_time": 37.38159753,
                        "remaining_time": 19.60254504,
                        "test": [
                          0.5931264501,
                          0.5640608404
                        ]
                      },
                      {
                        "iteration": 328,
                        "learn": [
                          0.4735712727
                        ],
                        "passed_time": 37.44632295,
                        "remaining_time": 19.46298245,
                        "test": [
                          0.5928832048,
                          0.5641267155
                        ]
                      },
                      {
                        "iteration": 329,
                        "learn": [
                          0.4733637786
                        ],
                        "passed_time": 37.50947404,
                        "remaining_time": 19.32306239,
                        "test": [
                          0.5927821645,
                          0.5641882016
                        ]
                      },
                      {
                        "iteration": 330,
                        "learn": [
                          0.4730212898
                        ],
                        "passed_time": 37.57419217,
                        "remaining_time": 19.18440628,
                        "test": [
                          0.5928401691,
                          0.5641906559
                        ]
                      },
                      {
                        "iteration": 331,
                        "learn": [
                          0.4726192814
                        ],
                        "passed_time": 37.63919382,
                        "remaining_time": 19.04633904,
                        "test": [
                          0.5924678168,
                          0.5643340401
                        ]
                      },
                      {
                        "iteration": 332,
                        "learn": [
                          0.4721942234
                        ],
                        "passed_time": 37.71202695,
                        "remaining_time": 18.91263814,
                        "test": [
                          0.5912833994,
                          0.5647564384
                        ]
                      },
                      {
                        "iteration": 333,
                        "learn": [
                          0.4718313652
                        ],
                        "passed_time": 37.79033804,
                        "remaining_time": 18.78202429,
                        "test": [
                          0.5914910935,
                          0.5648168388
                        ]
                      },
                      {
                        "iteration": 334,
                        "learn": [
                          0.4715298987
                        ],
                        "passed_time": 37.85650227,
                        "remaining_time": 18.64573992,
                        "test": [
                          0.5912497193,
                          0.5649088799
                        ]
                      },
                      {
                        "iteration": 335,
                        "learn": [
                          0.4711505516
                        ],
                        "passed_time": 37.92102115,
                        "remaining_time": 18.50906985,
                        "test": [
                          0.5914761245,
                          0.5648742248
                        ]
                      },
                      {
                        "iteration": 336,
                        "learn": [
                          0.470906179
                        ],
                        "passed_time": 37.9861331,
                        "remaining_time": 18.37311482,
                        "test": [
                          0.5913507597,
                          0.5649823765
                        ]
                      },
                      {
                        "iteration": 337,
                        "learn": [
                          0.4705658921
                        ],
                        "passed_time": 38.05162657,
                        "remaining_time": 18.23776185,
                        "test": [
                          0.5915247736,
                          0.5649402687
                        ]
                      },
                      {
                        "iteration": 338,
                        "learn": [
                          0.4701077037
                        ],
                        "passed_time": 38.11945541,
                        "remaining_time": 18.10393015,
                        "test": [
                          0.5912310082,
                          0.5650496794
                        ]
                      },
                      {
                        "iteration": 339,
                        "learn": [
                          0.4698062183
                        ],
                        "passed_time": 38.18991828,
                        "remaining_time": 17.97172625,
                        "test": [
                          0.5915528404,
                          0.5649019779
                        ]
                      },
                      {
                        "iteration": 340,
                        "learn": [
                          0.4695103315
                        ],
                        "passed_time": 38.25152474,
                        "remaining_time": 17.83575494,
                        "test": [
                          0.5912459771,
                          0.5650614807
                        ]
                      },
                      {
                        "iteration": 341,
                        "learn": [
                          0.4691417353
                        ],
                        "passed_time": 38.31758646,
                        "remaining_time": 17.70227679,
                        "test": [
                          0.5914892224,
                          0.5649889726
                        ]
                      },
                      {
                        "iteration": 342,
                        "learn": [
                          0.4688852346
                        ],
                        "passed_time": 38.3822639,
                        "remaining_time": 17.56855811,
                        "test": [
                          0.5915023202,
                          0.5650204065
                        ]
                      },
                      {
                        "iteration": 343,
                        "learn": [
                          0.4685377711
                        ],
                        "passed_time": 38.44662934,
                        "remaining_time": 17.43509935,
                        "test": [
                          0.5917362099,
                          0.5649723265
                        ]
                      },
                      {
                        "iteration": 344,
                        "learn": [
                          0.4683364597
                        ],
                        "passed_time": 38.50954819,
                        "remaining_time": 17.30139122,
                        "test": [
                          0.5916014894,
                          0.5649699139
                        ]
                      },
                      {
                        "iteration": 345,
                        "learn": [
                          0.4680315891
                        ],
                        "passed_time": 38.57537261,
                        "remaining_time": 17.1693855,
                        "test": [
                          0.5916089739,
                          0.5650218321
                        ]
                      },
                      {
                        "iteration": 346,
                        "learn": [
                          0.4677379304
                        ],
                        "passed_time": 38.64173051,
                        "remaining_time": 17.03799645,
                        "test": [
                          0.5917792456,
                          0.5650859918
                        ]
                      },
                      {
                        "iteration": 347,
                        "learn": [
                          0.4672451927
                        ],
                        "passed_time": 38.71216642,
                        "remaining_time": 16.90876234,
                        "test": [
                          0.5914237333,
                          0.565214294
                        ]
                      },
                      {
                        "iteration": 348,
                        "learn": [
                          0.4669537626
                        ],
                        "passed_time": 38.7978298,
                        "remaining_time": 16.78645358,
                        "test": [
                          0.5909559539,
                          0.5654782482
                        ]
                      },
                      {
                        "iteration": 349,
                        "learn": [
                          0.4666860759
                        ],
                        "passed_time": 38.85999511,
                        "remaining_time": 16.65428362,
                        "test": [
                          0.5911206122,
                          0.5654494807
                        ]
                      },
                      {
                        "iteration": 350,
                        "learn": [
                          0.4663131927
                        ],
                        "passed_time": 38.92323308,
                        "remaining_time": 16.52296789,
                        "test": [
                          0.5910682209,
                          0.5654767643
                        ]
                      },
                      {
                        "iteration": 351,
                        "learn": [
                          0.46592454
                        ],
                        "passed_time": 38.98920161,
                        "remaining_time": 16.39318704,
                        "test": [
                          0.5912553327,
                          0.5654116639
                        ]
                      },
                      {
                        "iteration": 352,
                        "learn": [
                          0.4655838353
                        ],
                        "passed_time": 39.05310953,
                        "remaining_time": 16.26290964,
                        "test": [
                          0.5915958761,
                          0.5652945797
                        ]
                      },
                      {
                        "iteration": 353,
                        "learn": [
                          0.4651985587
                        ],
                        "passed_time": 39.11882838,
                        "remaining_time": 16.13375408,
                        "test": [
                          0.5916557518,
                          0.5651973043
                        ]
                      },
                      {
                        "iteration": 354,
                        "learn": [
                          0.4648314644
                        ],
                        "passed_time": 39.19433521,
                        "remaining_time": 16.00895382,
                        "test": [
                          0.5917661477,
                          0.5651114465
                        ]
                      },
                      {
                        "iteration": 355,
                        "learn": [
                          0.46449915
                        ],
                        "passed_time": 39.26197194,
                        "remaining_time": 15.88124708,
                        "test": [
                          0.5914854801,
                          0.5652737261
                        ]
                      },
                      {
                        "iteration": 356,
                        "learn": [
                          0.4640704289
                        ],
                        "passed_time": 39.32942487,
                        "remaining_time": 15.75380324,
                        "test": [
                          0.5910813188,
                          0.5654551258
                        ]
                      },
                      {
                        "iteration": 357,
                        "learn": [
                          0.4638253948
                        ],
                        "passed_time": 39.39562511,
                        "remaining_time": 15.62619767,
                        "test": [
                          0.5909690517,
                          0.5654187784
                        ]
                      },
                      {
                        "iteration": 358,
                        "learn": [
                          0.4633546699
                        ],
                        "passed_time": 39.4645651,
                        "remaining_time": 15.50001025,
                        "test": [
                          0.5916763341,
                          0.5652421073
                        ]
                      },
                      {
                        "iteration": 359,
                        "learn": [
                          0.4630160036
                        ],
                        "passed_time": 39.52963932,
                        "remaining_time": 15.37263751,
                        "test": [
                          0.5916950453,
                          0.5652251983
                        ]
                      },
                      {
                        "iteration": 360,
                        "learn": [
                          0.4626003064
                        ],
                        "passed_time": 39.59561363,
                        "remaining_time": 15.24595649,
                        "test": [
                          0.5924360078,
                          0.5650443477
                        ]
                      },
                      {
                        "iteration": 361,
                        "learn": [
                          0.462306005
                        ],
                        "passed_time": 39.65932134,
                        "remaining_time": 15.11874681,
                        "test": [
                          0.5925707282,
                          0.5650467648
                        ]
                      },
                      {
                        "iteration": 362,
                        "learn": [
                          0.4619637928
                        ],
                        "passed_time": 39.72276878,
                        "remaining_time": 14.99178877,
                        "test": [
                          0.5922881895,
                          0.5651804791
                        ]
                      },
                      {
                        "iteration": 363,
                        "learn": [
                          0.4617532515
                        ],
                        "passed_time": 39.81334235,
                        "remaining_time": 14.87531472,
                        "test": [
                          0.5919738418,
                          0.5652901021
                        ]
                      },
                      {
                        "iteration": 364,
                        "learn": [
                          0.4612827582
                        ],
                        "passed_time": 39.8797467,
                        "remaining_time": 14.7500433,
                        "test": [
                          0.5929861163,
                          0.5649807931
                        ]
                      },
                      {
                        "iteration": 365,
                        "learn": [
                          0.4608418599
                        ],
                        "passed_time": 39.94714815,
                        "remaining_time": 14.62545861,
                        "test": [
                          0.5921216601,
                          0.5651839407
                        ]
                      },
                      {
                        "iteration": 366,
                        "learn": [
                          0.4604744893
                        ],
                        "passed_time": 40.01167186,
                        "remaining_time": 14.50014266,
                        "test": [
                          0.5917605344,
                          0.5652340483
                        ]
                      },
                      {
                        "iteration": 367,
                        "learn": [
                          0.4601623007
                        ],
                        "passed_time": 40.07928819,
                        "remaining_time": 14.37626641,
                        "test": [
                          0.5919495173,
                          0.5652205092
                        ]
                      },
                      {
                        "iteration": 368,
                        "learn": [
                          0.4599576557
                        ],
                        "passed_time": 40.14198656,
                        "remaining_time": 14.25094916,
                        "test": [
                          0.5922264426,
                          0.5651403818
                        ]
                      },
                      {
                        "iteration": 369,
                        "learn": [
                          0.4596442441
                        ],
                        "passed_time": 40.21321945,
                        "remaining_time": 14.128969,
                        "test": [
                          0.5917886012,
                          0.5652887936
                        ]
                      },
                      {
                        "iteration": 370,
                        "learn": [
                          0.4594574419
                        ],
                        "passed_time": 40.28355138,
                        "remaining_time": 14.00694913,
                        "test": [
                          0.5920898511,
                          0.565275391
                        ]
                      },
                      {
                        "iteration": 371,
                        "learn": [
                          0.4592186639
                        ],
                        "passed_time": 40.35636246,
                        "remaining_time": 13.8860602,
                        "test": [
                          0.59178673,
                          0.5653335827
                        ]
                      },
                      {
                        "iteration": 372,
                        "learn": [
                          0.4589441593
                        ],
                        "passed_time": 40.41958239,
                        "remaining_time": 13.76216344,
                        "test": [
                          0.5917174987,
                          0.5653232296
                        ]
                      },
                      {
                        "iteration": 373,
                        "learn": [
                          0.4585706351
                        ],
                        "passed_time": 40.48517552,
                        "remaining_time": 13.63939068,
                        "test": [
                          0.5920037797,
                          0.5651523522
                        ]
                      },
                      {
                        "iteration": 374,
                        "learn": [
                          0.4582831186
                        ],
                        "passed_time": 40.551708,
                        "remaining_time": 13.517236,
                        "test": [
                          0.5925108525,
                          0.5650301098
                        ]
                      },
                      {
                        "iteration": 375,
                        "learn": [
                          0.4578164377
                        ],
                        "passed_time": 40.61712653,
                        "remaining_time": 13.39500981,
                        "test": [
                          0.5923873587,
                          0.5650553271
                        ]
                      },
                      {
                        "iteration": 376,
                        "learn": [
                          0.4574607946
                        ],
                        "passed_time": 40.68218588,
                        "remaining_time": 13.27296781,
                        "test": [
                          0.5924659457,
                          0.5650037791
                        ]
                      },
                      {
                        "iteration": 377,
                        "learn": [
                          0.4571405744
                        ],
                        "passed_time": 40.75988529,
                        "remaining_time": 13.15530689,
                        "test": [
                          0.5920804955,
                          0.5651418014
                        ]
                      },
                      {
                        "iteration": 378,
                        "learn": [
                          0.4568470825
                        ],
                        "passed_time": 40.83754822,
                        "remaining_time": 13.03784521,
                        "test": [
                          0.5918522191,
                          0.5653054931
                        ]
                      },
                      {
                        "iteration": 379,
                        "learn": [
                          0.4564649487
                        ],
                        "passed_time": 40.90540891,
                        "remaining_time": 12.91749755,
                        "test": [
                          0.5921422423,
                          0.5652481315
                        ]
                      },
                      {
                        "iteration": 380,
                        "learn": [
                          0.4559118989
                        ],
                        "passed_time": 40.97718518,
                        "remaining_time": 12.79864839,
                        "test": [
                          0.5924696879,
                          0.5651078781
                        ]
                      },
                      {
                        "iteration": 381,
                        "learn": [
                          0.4553691099
                        ],
                        "passed_time": 41.09544488,
                        "remaining_time": 12.69440444,
                        "test": [
                          0.5913975376,
                          0.5654463938
                        ]
                      },
                      {
                        "iteration": 382,
                        "learn": [
                          0.4550143795
                        ],
                        "passed_time": 41.21909663,
                        "remaining_time": 12.59173448,
                        "test": [
                          0.5908923359,
                          0.5655825605
                        ]
                      },
                      {
                        "iteration": 383,
                        "learn": [
                          0.4544877706
                        ],
                        "passed_time": 41.35110519,
                        "remaining_time": 12.49147969,
                        "test": [
                          0.5910888032,
                          0.5654598631
                        ]
                      },
                      {
                        "iteration": 384,
                        "learn": [
                          0.4542320929
                        ],
                        "passed_time": 41.47998258,
                        "remaining_time": 12.39012467,
                        "test": [
                          0.591085061,
                          0.5654612716
                        ]
                      },
                      {
                        "iteration": 385,
                        "learn": [
                          0.4538917358
                        ],
                        "passed_time": 41.60698352,
                        "remaining_time": 12.28807285,
                        "test": [
                          0.5918578325,
                          0.5652824548
                        ]
                      },
                      {
                        "iteration": 386,
                        "learn": [
                          0.4534982754
                        ],
                        "passed_time": 41.7285217,
                        "remaining_time": 12.18429703,
                        "test": [
                          0.5909596961,
                          0.5654909744
                        ]
                      },
                      {
                        "iteration": 387,
                        "learn": [
                          0.4532566562
                        ],
                        "passed_time": 41.87919212,
                        "remaining_time": 12.08883896,
                        "test": [
                          0.5908474291,
                          0.5655599848
                        ]
                      },
                      {
                        "iteration": 388,
                        "learn": [
                          0.4529113629
                        ],
                        "passed_time": 42.00561842,
                        "remaining_time": 11.98617903,
                        "test": [
                          0.5916950453,
                          0.5654284306
                        ]
                      },
                      {
                        "iteration": 389,
                        "learn": [
                          0.4524732701
                        ],
                        "passed_time": 42.12702717,
                        "remaining_time": 11.88198202,
                        "test": [
                          0.5915659382,
                          0.5655058041
                        ]
                      },
                      {
                        "iteration": 390,
                        "learn": [
                          0.4521179327
                        ],
                        "passed_time": 42.26043715,
                        "remaining_time": 11.78104258,
                        "test": [
                          0.5915809071,
                          0.5655855768
                        ]
                      },
                      {
                        "iteration": 391,
                        "learn": [
                          0.4518706199
                        ],
                        "passed_time": 42.38872955,
                        "remaining_time": 11.67852753,
                        "test": [
                          0.5914779957,
                          0.5655910813
                        ]
                      },
                      {
                        "iteration": 392,
                        "learn": [
                          0.4517238411
                        ],
                        "passed_time": 42.50408149,
                        "remaining_time": 11.57235806,
                        "test": [
                          0.5913769553,
                          0.5656704844
                        ]
                      },
                      {
                        "iteration": 393,
                        "learn": [
                          0.4514930002
                        ],
                        "passed_time": 42.62337866,
                        "remaining_time": 11.4672034,
                        "test": [
                          0.5911149989,
                          0.5657987432
                        ]
                      },
                      {
                        "iteration": 394,
                        "learn": [
                          0.4512096751
                        ],
                        "passed_time": 42.75081491,
                        "remaining_time": 11.36414067,
                        "test": [
                          0.591165519,
                          0.565800856
                        ]
                      },
                      {
                        "iteration": 395,
                        "learn": [
                          0.4509156571
                        ],
                        "passed_time": 42.89343551,
                        "remaining_time": 11.26494266,
                        "test": [
                          0.590639735,
                          0.5661012139
                        ]
                      },
                      {
                        "iteration": 396,
                        "learn": [
                          0.4506646058
                        ],
                        "passed_time": 43.01815697,
                        "remaining_time": 11.16088204,
                        "test": [
                          0.5908025223,
                          0.5660602339
                        ]
                      },
                      {
                        "iteration": 397,
                        "learn": [
                          0.4503222691
                        ],
                        "passed_time": 43.1479664,
                        "remaining_time": 11.05802154,
                        "test": [
                          0.5911786169,
                          0.5660243591
                        ]
                      },
                      {
                        "iteration": 398,
                        "learn": [
                          0.4499876525
                        ],
                        "passed_time": 43.27992196,
                        "remaining_time": 10.95556922,
                        "test": [
                          0.5910757054,
                          0.5661194319
                        ]
                      },
                      {
                        "iteration": 399,
                        "learn": [
                          0.4498345906
                        ],
                        "passed_time": 43.40432462,
                        "remaining_time": 10.85108115,
                        "test": [
                          0.5907800689,
                          0.5662183039
                        ]
                      },
                      {
                        "iteration": 400,
                        "learn": [
                          0.4495186408
                        ],
                        "passed_time": 43.5300072,
                        "remaining_time": 10.74680976,
                        "test": [
                          0.5911318389,
                          0.5660993329
                        ]
                      },
                      {
                        "iteration": 401,
                        "learn": [
                          0.4492638404
                        ],
                        "passed_time": 43.66077728,
                        "remaining_time": 10.64367207,
                        "test": [
                          0.5911449368,
                          0.5661623748
                        ]
                      },
                      {
                        "iteration": 402,
                        "learn": [
                          0.4488640452
                        ],
                        "passed_time": 43.7721922,
                        "remaining_time": 10.53573857,
                        "test": [
                          0.5911449368,
                          0.5661464277
                        ]
                      },
                      {
                        "iteration": 403,
                        "learn": [
                          0.4485612152
                        ],
                        "passed_time": 43.90181762,
                        "remaining_time": 10.43211508,
                        "test": [
                          0.591483609,
                          0.5661212027
                        ]
                      },
                      {
                        "iteration": 404,
                        "learn": [
                          0.4482596461
                        ],
                        "passed_time": 44.03398684,
                        "remaining_time": 10.32895988,
                        "test": [
                          0.5915004491,
                          0.5663335894
                        ]
                      },
                      {
                        "iteration": 405,
                        "learn": [
                          0.4478035475
                        ],
                        "passed_time": 44.16262481,
                        "remaining_time": 10.22484417,
                        "test": [
                          0.5911954569,
                          0.5664383616
                        ]
                      },
                      {
                        "iteration": 406,
                        "learn": [
                          0.4474692169
                        ],
                        "passed_time": 44.28689904,
                        "remaining_time": 10.11961084,
                        "test": [
                          0.5909372427,
                          0.5665647297
                        ]
                      },
                      {
                        "iteration": 407,
                        "learn": [
                          0.4471626145
                        ],
                        "passed_time": 44.42469311,
                        "remaining_time": 10.01733276,
                        "test": [
                          0.5912179103,
                          0.5664988087
                        ]
                      },
                      {
                        "iteration": 408,
                        "learn": [
                          0.4467799148
                        ],
                        "passed_time": 44.54839453,
                        "remaining_time": 9.911745483,
                        "test": [
                          0.5912908839,
                          0.5665233347
                        ]
                      },
                      {
                        "iteration": 409,
                        "learn": [
                          0.4463768968
                        ],
                        "passed_time": 44.66273721,
                        "remaining_time": 9.804015484,
                        "test": [
                          0.5909952474,
                          0.5666747843
                        ]
                      },
                      {
                        "iteration": 410,
                        "learn": [
                          0.4461368597
                        ],
                        "passed_time": 44.78603479,
                        "remaining_time": 9.698192449,
                        "test": [
                          0.5909316294,
                          0.5667948692
                        ]
                      },
                      {
                        "iteration": 411,
                        "learn": [
                          0.4458063343
                        ],
                        "passed_time": 44.89728845,
                        "remaining_time": 9.589712097,
                        "test": [
                          0.5902767383,
                          0.5669293984
                        ]
                      },
                      {
                        "iteration": 412,
                        "learn": [
                          0.4455489003
                        ],
                        "passed_time": 44.98358321,
                        "remaining_time": 9.475960629,
                        "test": [
                          0.5900877554,
                          0.5669636022
                        ]
                      },
                      {
                        "iteration": 413,
                        "learn": [
                          0.4452798114
                        ],
                        "passed_time": 45.05018754,
                        "remaining_time": 9.358251518,
                        "test": [
                          0.5897584387,
                          0.5670651815
                        ]
                      },
                      {
                        "iteration": 414,
                        "learn": [
                          0.4450503629
                        ],
                        "passed_time": 45.11115026,
                        "remaining_time": 9.239633185,
                        "test": [
                          0.5899137415,
                          0.5670457621
                        ]
                      },
                      {
                        "iteration": 415,
                        "learn": [
                          0.4447638114
                        ],
                        "passed_time": 45.17837208,
                        "remaining_time": 9.1225559,
                        "test": [
                          0.5893112417,
                          0.5671923095
                        ]
                      },
                      {
                        "iteration": 416,
                        "learn": [
                          0.444311897
                        ],
                        "passed_time": 45.24345848,
                        "remaining_time": 9.005292695,
                        "test": [
                          0.5897640521,
                          0.5670710229
                        ]
                      },
                      {
                        "iteration": 417,
                        "learn": [
                          0.443952091
                        ],
                        "passed_time": 45.31151634,
                        "remaining_time": 8.888862057,
                        "test": [
                          0.5892794327,
                          0.5672791812
                        ]
                      },
                      {
                        "iteration": 418,
                        "learn": [
                          0.4435595874
                        ],
                        "passed_time": 45.39231928,
                        "remaining_time": 8.775126161,
                        "test": [
                          0.5895769403,
                          0.5671597298
                        ]
                      },
                      {
                        "iteration": 419,
                        "learn": [
                          0.4433709785
                        ],
                        "passed_time": 45.4549388,
                        "remaining_time": 8.658083582,
                        "test": [
                          0.5895488736,
                          0.5672562609
                        ]
                      },
                      {
                        "iteration": 420,
                        "learn": [
                          0.4430615497
                        ],
                        "passed_time": 45.51734943,
                        "remaining_time": 8.541260344,
                        "test": [
                          0.5902542849,
                          0.5671380914
                        ]
                      },
                      {
                        "iteration": 421,
                        "learn": [
                          0.4425898402
                        ],
                        "passed_time": 45.58262703,
                        "remaining_time": 8.425224901,
                        "test": [
                          0.5904339121,
                          0.5670297851
                        ]
                      },
                      {
                        "iteration": 422,
                        "learn": [
                          0.4423888569
                        ],
                        "passed_time": 45.64867697,
                        "remaining_time": 8.309570039,
                        "test": [
                          0.5900783998,
                          0.5670981766
                        ]
                      },
                      {
                        "iteration": 423,
                        "learn": [
                          0.4420979419
                        ],
                        "passed_time": 45.71370163,
                        "remaining_time": 8.193965387,
                        "test": [
                          0.5899333882,
                          0.5671649129
                        ]
                      },
                      {
                        "iteration": 424,
                        "learn": [
                          0.4416896753
                        ],
                        "passed_time": 45.7951319,
                        "remaining_time": 8.081493864,
                        "test": [
                          0.5897462765,
                          0.5671566645
                        ]
                      },
                      {
                        "iteration": 425,
                        "learn": [
                          0.4413746939
                        ],
                        "passed_time": 45.86974949,
                        "remaining_time": 7.967984653,
                        "test": [
                          0.5891475189,
                          0.5673862315
                        ]
                      },
                      {
                        "iteration": 426,
                        "learn": [
                          0.4410795814
                        ],
                        "passed_time": 45.9532343,
                        "remaining_time": 7.856173546,
                        "test": [
                          0.5896377517,
                          0.5672461845
                        ]
                      },
                      {
                        "iteration": 427,
                        "learn": [
                          0.4408508917
                        ],
                        "passed_time": 46.03059107,
                        "remaining_time": 7.743463919,
                        "test": [
                          0.5897013697,
                          0.5672505875
                        ]
                      },
                      {
                        "iteration": 428,
                        "learn": [
                          0.4404943547
                        ],
                        "passed_time": 46.10074502,
                        "remaining_time": 7.629727032,
                        "test": [
                          0.5889136292,
                          0.5674956093
                        ]
                      },
                      {
                        "iteration": 429,
                        "learn": [
                          0.4401457348
                        ],
                        "passed_time": 46.16651743,
                        "remaining_time": 7.515479581,
                        "test": [
                          0.5888911758,
                          0.567503961
                        ]
                      },
                      {
                        "iteration": 430,
                        "learn": [
                          0.4398699136
                        ],
                        "passed_time": 46.23231859,
                        "remaining_time": 7.401461676,
                        "test": [
                          0.589435671,
                          0.5673163304
                        ]
                      },
                      {
                        "iteration": 431,
                        "learn": [
                          0.4395935393
                        ],
                        "passed_time": 46.30586815,
                        "remaining_time": 7.288886654,
                        "test": [
                          0.5892167502,
                          0.5674179973
                        ]
                      },
                      {
                        "iteration": 432,
                        "learn": [
                          0.439335494
                        ],
                        "passed_time": 46.37595877,
                        "remaining_time": 7.175956669,
                        "test": [
                          0.5895498091,
                          0.5673794644
                        ]
                      },
                      {
                        "iteration": 433,
                        "learn": [
                          0.4390533503
                        ],
                        "passed_time": 46.4572962,
                        "remaining_time": 7.064934446,
                        "test": [
                          0.5893982486,
                          0.5674176838
                        ]
                      },
                      {
                        "iteration": 434,
                        "learn": [
                          0.4388622892
                        ],
                        "passed_time": 46.52483023,
                        "remaining_time": 6.951986126,
                        "test": [
                          0.589579747,
                          0.5673515813
                        ]
                      },
                      {
                        "iteration": 435,
                        "learn": [
                          0.4384584449
                        ],
                        "passed_time": 46.59112776,
                        "remaining_time": 6.839064626,
                        "test": [
                          0.589675174,
                          0.5673301789
                        ]
                      },
                      {
                        "iteration": 436,
                        "learn": [
                          0.4381346019
                        ],
                        "passed_time": 46.65880602,
                        "remaining_time": 6.726555559,
                        "test": [
                          0.5893140483,
                          0.5674223455
                        ]
                      },
                      {
                        "iteration": 437,
                        "learn": [
                          0.4378255342
                        ],
                        "passed_time": 46.72290323,
                        "remaining_time": 6.613744293,
                        "test": [
                          0.5899109348,
                          0.567269846
                        ]
                      },
                      {
                        "iteration": 438,
                        "learn": [
                          0.4375911607
                        ],
                        "passed_time": 46.78743191,
                        "remaining_time": 6.501214913,
                        "test": [
                          0.5902234114,
                          0.5672606112
                        ]
                      },
                      {
                        "iteration": 439,
                        "learn": [
                          0.4372054425
                        ],
                        "passed_time": 46.8546706,
                        "remaining_time": 6.389273263,
                        "test": [
                          0.5903656163,
                          0.5672044695
                        ]
                      },
                      {
                        "iteration": 440,
                        "learn": [
                          0.4369649688
                        ],
                        "passed_time": 46.92386859,
                        "remaining_time": 6.277796479,
                        "test": [
                          0.5906257017,
                          0.5670942283
                        ]
                      },
                      {
                        "iteration": 441,
                        "learn": [
                          0.4367037414
                        ],
                        "passed_time": 47.01583816,
                        "remaining_time": 6.169499126,
                        "test": [
                          0.5902720605,
                          0.5672623004
                        ]
                      },
                      {
                        "iteration": 442,
                        "learn": [
                          0.4363812489
                        ],
                        "passed_time": 47.08102899,
                        "remaining_time": 6.057829915,
                        "test": [
                          0.5907155153,
                          0.5671467065
                        ]
                      },
                      {
                        "iteration": 443,
                        "learn": [
                          0.4360933147
                        ],
                        "passed_time": 47.1464625,
                        "remaining_time": 5.946400676,
                        "test": [
                          0.5906706085,
                          0.5671602734
                        ]
                      },
                      {
                        "iteration": 444,
                        "learn": [
                          0.4357722756
                        ],
                        "passed_time": 47.21071499,
                        "remaining_time": 5.83503219,
                        "test": [
                          0.5902982561,
                          0.5671645642
                        ]
                      },
                      {
                        "iteration": 445,
                        "learn": [
                          0.4356668592
                        ],
                        "passed_time": 47.27413599,
                        "remaining_time": 5.723774313,
                        "test": [
                          0.5902234114,
                          0.5671853041
                        ]
                      },
                      {
                        "iteration": 446,
                        "learn": [
                          0.4353665741
                        ],
                        "passed_time": 47.34500893,
                        "remaining_time": 5.613614034,
                        "test": [
                          0.5901953447,
                          0.5671936335
                        ]
                      },
                      {
                        "iteration": 447,
                        "learn": [
                          0.4350525351
                        ],
                        "passed_time": 47.41034956,
                        "remaining_time": 5.502987002,
                        "test": [
                          0.5897836988,
                          0.5672236756
                        ]
                      },
                      {
                        "iteration": 448,
                        "learn": [
                          0.4347967139
                        ],
                        "passed_time": 47.48780044,
                        "remaining_time": 5.393937244,
                        "test": [
                          0.5897462765,
                          0.5672707844
                        ]
                      },
                      {
                        "iteration": 449,
                        "learn": [
                          0.434391694
                        ],
                        "passed_time": 47.55558851,
                        "remaining_time": 5.283954279,
                        "test": [
                          0.5894169598,
                          0.5674338076
                        ]
                      },
                      {
                        "iteration": 450,
                        "learn": [
                          0.4341177795
                        ],
                        "passed_time": 47.62300963,
                        "remaining_time": 5.174118563,
                        "test": [
                          0.5891512611,
                          0.5674835668
                        ]
                      },
                      {
                        "iteration": 451,
                        "learn": [
                          0.4337200537
                        ],
                        "passed_time": 47.68703384,
                        "remaining_time": 5.064109788,
                        "test": [
                          0.5892710126,
                          0.5674216791
                        ]
                      },
                      {
                        "iteration": 452,
                        "learn": [
                          0.4335508013
                        ],
                        "passed_time": 47.75229244,
                        "remaining_time": 4.954432108,
                        "test": [
                          0.5892279769,
                          0.5674198152
                        ]
                      },
                      {
                        "iteration": 453,
                        "learn": [
                          0.4332793584
                        ],
                        "passed_time": 47.81995919,
                        "remaining_time": 4.845194103,
                        "test": [
                          0.5896096849,
                          0.5672523244
                        ]
                      },
                      {
                        "iteration": 454,
                        "learn": [
                          0.4330775665
                        ],
                        "passed_time": 47.8906458,
                        "remaining_time": 4.736437497,
                        "test": [
                          0.5892784971,
                          0.5674278225
                        ]
                      },
                      {
                        "iteration": 455,
                        "learn": [
                          0.4327838085
                        ],
                        "passed_time": 47.95685892,
                        "remaining_time": 4.627416212,
                        "test": [
                          0.5888967892,
                          0.5675520881
                        ]
                      },
                      {
                        "iteration": 456,
                        "learn": [
                          0.4324626249
                        ],
                        "passed_time": 48.05038141,
                        "remaining_time": 4.521151861,
                        "test": [
                          0.5895180001,
                          0.5674628662
                        ]
                      },
                      {
                        "iteration": 457,
                        "learn": [
                          0.4321230285
                        ],
                        "passed_time": 48.11924818,
                        "remaining_time": 4.412682148,
                        "test": [
                          0.5891681012,
                          0.56749195
                        ]
                      },
                      {
                        "iteration": 458,
                        "learn": [
                          0.4318070337
                        ],
                        "passed_time": 48.18809392,
                        "remaining_time": 4.304383117,
                        "test": [
                          0.5894300576,
                          0.5674693661
                        ]
                      },
                      {
                        "iteration": 459,
                        "learn": [
                          0.431513984
                        ],
                        "passed_time": 48.25150772,
                        "remaining_time": 4.19578328,
                        "test": [
                          0.5895928448,
                          0.5674621242
                        ]
                      },
                      {
                        "iteration": 460,
                        "learn": [
                          0.4312380887
                        ],
                        "passed_time": 48.31937801,
                        "remaining_time": 4.087756491,
                        "test": [
                          0.589834219,
                          0.567445474
                        ]
                      },
                      {
                        "iteration": 461,
                        "learn": [
                          0.4309606731
                        ],
                        "passed_time": 48.38631921,
                        "remaining_time": 3.979827121,
                        "test": [
                          0.5899801662,
                          0.5674224994
                        ]
                      },
                      {
                        "iteration": 462,
                        "learn": [
                          0.4307820812
                        ],
                        "passed_time": 48.46014553,
                        "remaining_time": 3.872625021,
                        "test": [
                          0.5899427438,
                          0.5674349906
                        ]
                      },
                      {
                        "iteration": 463,
                        "learn": [
                          0.4305675165
                        ],
                        "passed_time": 48.52761961,
                        "remaining_time": 3.765073935,
                        "test": [
                          0.5898510591,
                          0.5674470903
                        ]
                      },
                      {
                        "iteration": 464,
                        "learn": [
                          0.4302109214
                        ],
                        "passed_time": 48.60548027,
                        "remaining_time": 3.65847701,
                        "test": [
                          0.5901317267,
                          0.567337759
                        ]
                      },
                      {
                        "iteration": 465,
                        "learn": [
                          0.4298891198
                        ],
                        "passed_time": 48.68569293,
                        "remaining_time": 3.552175021,
                        "test": [
                          0.5906968041,
                          0.5671882365
                        ]
                      },
                      {
                        "iteration": 466,
                        "learn": [
                          0.4296320143
                        ],
                        "passed_time": 48.75083548,
                        "remaining_time": 3.444919852,
                        "test": [
                          0.5906649951,
                          0.567203449
                        ]
                      },
                      {
                        "iteration": 467,
                        "learn": [
                          0.4293979978
                        ],
                        "passed_time": 48.8167582,
                        "remaining_time": 3.337897997,
                        "test": [
                          0.5911552279,
                          0.5671833837
                        ]
                      },
                      {
                        "iteration": 468,
                        "learn": [
                          0.4291220334
                        ],
                        "passed_time": 48.88647854,
                        "remaining_time": 3.231302419,
                        "test": [
                          0.5920477509,
                          0.5669369117
                        ]
                      },
                      {
                        "iteration": 469,
                        "learn": [
                          0.4289675459
                        ],
                        "passed_time": 48.95229309,
                        "remaining_time": 3.124614453,
                        "test": [
                          0.5918643814,
                          0.5670921616
                        ]
                      },
                      {
                        "iteration": 470,
                        "learn": [
                          0.428824811
                        ],
                        "passed_time": 49.04477621,
                        "remaining_time": 3.01974206,
                        "test": [
                          0.5921487913,
                          0.5670765626
                        ]
                      },
                      {
                        "iteration": 471,
                        "learn": [
                          0.4285895784
                        ],
                        "passed_time": 49.11312482,
                        "remaining_time": 2.913490456,
                        "test": [
                          0.5922142804,
                          0.5671039774
                        ]
                      },
                      {
                        "iteration": 472,
                        "learn": [
                          0.4284129614
                        ],
                        "passed_time": 49.17822789,
                        "remaining_time": 2.807213854,
                        "test": [
                          0.5924163611,
                          0.5670074145
                        ]
                      },
                      {
                        "iteration": 473,
                        "learn": [
                          0.4280961048
                        ],
                        "passed_time": 49.24245959,
                        "remaining_time": 2.701063184,
                        "test": [
                          0.5921431779,
                          0.5671193565
                        ]
                      },
                      {
                        "iteration": 474,
                        "learn": [
                          0.427860206
                        ],
                        "passed_time": 49.31261338,
                        "remaining_time": 2.595400704,
                        "test": [
                          0.5918325724,
                          0.567200317
                        ]
                      },
                      {
                        "iteration": 475,
                        "learn": [
                          0.4277381223
                        ],
                        "passed_time": 49.37733206,
                        "remaining_time": 2.489613381,
                        "test": [
                          0.5915650026,
                          0.5672956403
                        ]
                      },
                      {
                        "iteration": 476,
                        "learn": [
                          0.4274753629
                        ],
                        "passed_time": 49.44622083,
                        "remaining_time": 2.384199327,
                        "test": [
                          0.5917932789,
                          0.5672533124
                        ]
                      },
                      {
                        "iteration": 477,
                        "learn": [
                          0.4273012841
                        ],
                        "passed_time": 49.51867841,
                        "remaining_time": 2.279102354,
                        "test": [
                          0.5915893271,
                          0.5672999723
                        ]
                      },
                      {
                        "iteration": 478,
                        "learn": [
                          0.4269846423
                        ],
                        "passed_time": 49.58854228,
                        "remaining_time": 2.17402795,
                        "test": [
                          0.5919729062,
                          0.5671843643
                        ]
                      },
                      {
                        "iteration": 479,
                        "learn": [
                          0.4266425741
                        ],
                        "passed_time": 49.65196902,
                        "remaining_time": 2.068832042,
                        "test": [
                          0.5921319512,
                          0.5672788874
                        ]
                      },
                      {
                        "iteration": 480,
                        "learn": [
                          0.426346085
                        ],
                        "passed_time": 49.71535335,
                        "remaining_time": 1.963808136,
                        "test": [
                          0.5921001422,
                          0.5673315196
                        ]
                      },
                      {
                        "iteration": 481,
                        "learn": [
                          0.4261083506
                        ],
                        "passed_time": 49.77886099,
                        "remaining_time": 1.858961614,
                        "test": [
                          0.591969164,
                          0.5673736564
                        ]
                      },
                      {
                        "iteration": 482,
                        "learn": [
                          0.4259141587
                        ],
                        "passed_time": 49.84284249,
                        "remaining_time": 1.754302945,
                        "test": [
                          0.5918849637,
                          0.5674673605
                        ]
                      },
                      {
                        "iteration": 483,
                        "learn": [
                          0.4255633122
                        ],
                        "passed_time": 49.90847884,
                        "remaining_time": 1.649867069,
                        "test": [
                          0.591634234,
                          0.5675547515
                        ]
                      },
                      {
                        "iteration": 484,
                        "learn": [
                          0.4252956395
                        ],
                        "passed_time": 49.97868884,
                        "remaining_time": 1.545732645,
                        "test": [
                          0.5913011751,
                          0.5676903939
                        ]
                      },
                      {
                        "iteration": 485,
                        "learn": [
                          0.4250491424
                        ],
                        "passed_time": 50.07173652,
                        "remaining_time": 1.442395702,
                        "test": [
                          0.5912319437,
                          0.5676931343
                        ]
                      },
                      {
                        "iteration": 486,
                        "learn": [
                          0.4247332368
                        ],
                        "passed_time": 50.13862724,
                        "remaining_time": 1.338402781,
                        "test": [
                          0.5907622932,
                          0.567880676
                        ]
                      },
                      {
                        "iteration": 487,
                        "learn": [
                          0.424555149
                        ],
                        "passed_time": 50.2100361,
                        "remaining_time": 1.234673019,
                        "test": [
                          0.5906369284,
                          0.567895661
                        ]
                      },
                      {
                        "iteration": 488,
                        "learn": [
                          0.4241260379
                        ],
                        "passed_time": 50.27382574,
                        "remaining_time": 1.130904055,
                        "test": [
                          0.589929646,
                          0.5680622991
                        ]
                      },
                      {
                        "iteration": 489,
                        "learn": [
                          0.42385762
                        ],
                        "passed_time": 50.34167463,
                        "remaining_time": 1.027381115,
                        "test": [
                          0.5900119752,
                          0.5680492235
                        ]
                      },
                      {
                        "iteration": 490,
                        "learn": [
                          0.4236457824
                        ],
                        "passed_time": 50.40514834,
                        "remaining_time": 0.9239232893,
                        "test": [
                          0.5901710201,
                          0.5680255957
                        ]
                      },
                      {
                        "iteration": 491,
                        "learn": [
                          0.4235510945
                        ],
                        "passed_time": 50.46835786,
                        "remaining_time": 0.820623705,
                        "test": [
                          0.5901074021,
                          0.5680299604
                        ]
                      },
                      {
                        "iteration": 492,
                        "learn": [
                          0.4230719616
                        ],
                        "passed_time": 50.5451379,
                        "remaining_time": 0.7176794427,
                        "test": [
                          0.5897537609,
                          0.5681597796
                        ]
                      },
                      {
                        "iteration": 493,
                        "learn": [
                          0.4228709779
                        ],
                        "passed_time": 50.6088995,
                        "remaining_time": 0.6146829899,
                        "test": [
                          0.5901017888,
                          0.5681771713
                        ]
                      },
                      {
                        "iteration": 494,
                        "learn": [
                          0.4226345514
                        ],
                        "passed_time": 50.67259522,
                        "remaining_time": 0.5118443962,
                        "test": [
                          0.5900943043,
                          0.5681828662
                        ]
                      },
                      {
                        "iteration": 495,
                        "learn": [
                          0.4222745942
                        ],
                        "passed_time": 50.73644753,
                        "remaining_time": 0.4091648995,
                        "test": [
                          0.5895778759,
                          0.5682424282
                        ]
                      },
                      {
                        "iteration": 496,
                        "learn": [
                          0.4219410225
                        ],
                        "passed_time": 50.79935391,
                        "remaining_time": 0.3066359391,
                        "test": [
                          0.5892747549,
                          0.5682115553
                        ]
                      },
                      {
                        "iteration": 497,
                        "learn": [
                          0.4215513721
                        ],
                        "passed_time": 50.86427914,
                        "remaining_time": 0.2042742134,
                        "test": [
                          0.58913255,
                          0.5682709772
                        ]
                      },
                      {
                        "iteration": 498,
                        "learn": [
                          0.4212115483
                        ],
                        "passed_time": 50.93861583,
                        "remaining_time": 0.1020813944,
                        "test": [
                          0.5887152908,
                          0.5683231131
                        ]
                      },
                      {
                        "iteration": 499,
                        "learn": [
                          0.4208858964
                        ],
                        "passed_time": 51.0057792,
                        "remaining_time": 0,
                        "test": [
                          0.5892167502,
                          0.5681303578
                        ]
                      }
                    ],
                    "meta": {
                      "iteration_count": 500,
                      "launch_mode": "Train",
                      "learn_metrics": [
                        {
                          "best_value": "Min",
                          "name": "Logloss"
                        }
                      ],
                      "learn_sets": [
                        "learn"
                      ],
                      "name": "experiment",
                      "parameters": "",
                      "test_metrics": [
                        {
                          "best_value": "Max",
                          "name": "AUC"
                        },
                        {
                          "best_value": "Min",
                          "name": "Logloss"
                        }
                      ],
                      "test_sets": [
                        "test"
                      ]
                    }
                  },
                  "passed_iterations": 499,
                  "total_iterations": 500
                },
                "name": "catboost_info",
                "path": "catboost_info"
              }
            },
            "layout": "IPY_MODEL_29695946b4944bdaab90894876a9b6ce"
          }
        }
      }
    }
  },
  "nbformat": 4,
  "nbformat_minor": 0
}
