{
 "cells": [
  {
   "cell_type": "code",
   "execution_count": 1,
   "metadata": {},
   "outputs": [],
   "source": [
    "import pandas as pd\n",
    "from pyspark.sql import SparkSession"
   ]
  },
  {
   "cell_type": "code",
   "execution_count": 2,
   "metadata": {},
   "outputs": [],
   "source": [
    "spark = SparkSession.builder.master(\"local[1]\").appName('ML_project.com').getOrCreate()"
   ]
  },
  {
   "cell_type": "code",
   "execution_count": 4,
   "metadata": {},
   "outputs": [],
   "source": [
    "df = spark.read.csv(\"./main_data/clickstream.csv\")"
   ]
  },
  {
   "cell_type": "code",
   "execution_count": 5,
   "metadata": {},
   "outputs": [
    {
     "name": "stdout",
     "output_type": "stream",
     "text": [
      "root\n",
      " |-- _c0: string (nullable = true)\n",
      " |-- _c1: string (nullable = true)\n",
      " |-- _c2: string (nullable = true)\n",
      " |-- _c3: string (nullable = true)\n",
      "\n"
     ]
    }
   ],
   "source": [
    "df.printSchema()"
   ]
  },
  {
   "cell_type": "code",
   "execution_count": 10,
   "metadata": {},
   "outputs": [
    {
     "name": "stdout",
     "output_type": "stream",
     "text": [
      "+--------------------+------+-------------------+-------+\n",
      "|                 _c0|   _c1|                _c2|    _c3|\n",
      "+--------------------+------+-------------------+-------+\n",
      "|             user_id|cat_id|          timestamp|new_uid|\n",
      "|000143baebad4467a...|   165|2021-01-30 20:08:12|1873448|\n",
      "|000143baebad4467a...|   165|2021-01-31 20:06:29|1873448|\n",
      "|000143baebad4467a...|   308|2021-01-31 20:12:00|1873448|\n",
      "|000143baebad4467a...|   931|2021-01-31 22:12:00|1873448|\n",
      "|000143baebad4467a...|   931|2021-02-01 16:57:00|1873448|\n",
      "|000143baebad4467a...|   931|2021-02-01 17:39:00|1873448|\n",
      "|000143baebad4467a...|   503|2021-02-01 17:41:50|1873448|\n",
      "|000143baebad4467a...|   535|2021-02-01 19:02:00|1873448|\n",
      "|000143baebad4467a...|   535|2021-02-01 19:43:00|1873448|\n",
      "|000143baebad4467a...|   931|2021-02-01 19:51:00|1873448|\n",
      "|000143baebad4467a...|   535|2021-02-01 20:32:00|1873448|\n",
      "|000143baebad4467a...|   165|2021-02-02 18:02:45|1873448|\n",
      "|000143baebad4467a...|   503|2021-02-02 19:42:38|1270185|\n",
      "|000143baebad4467a...|   931|2021-02-02 19:55:00|1270185|\n",
      "|000143baebad4467a...|   503|2021-02-03 14:31:00|1873448|\n",
      "|000143baebad4467a...|   556|2021-02-03 14:33:00|1873448|\n",
      "|000143baebad4467a...|   273|2021-02-03 14:40:00|1873448|\n",
      "|000143baebad4467a...|   273|2021-02-03 14:47:00|1873448|\n",
      "|000143baebad4467a...|   503|2021-02-03 15:01:00|1873448|\n",
      "+--------------------+------+-------------------+-------+\n",
      "only showing top 20 rows\n",
      "\n"
     ]
    }
   ],
   "source": [
    "df.show()"
   ]
  }
 ],
 "metadata": {
  "kernelspec": {
   "display_name": "base",
   "language": "python",
   "name": "python3"
  },
  "language_info": {
   "codemirror_mode": {
    "name": "ipython",
    "version": 3
   },
   "file_extension": ".py",
   "mimetype": "text/x-python",
   "name": "python",
   "nbconvert_exporter": "python",
   "pygments_lexer": "ipython3",
   "version": "3.9.13"
  },
  "orig_nbformat": 4
 },
 "nbformat": 4,
 "nbformat_minor": 2
}
